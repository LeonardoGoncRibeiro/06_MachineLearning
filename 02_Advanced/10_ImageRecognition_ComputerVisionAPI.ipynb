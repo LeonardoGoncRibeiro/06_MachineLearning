{
  "nbformat": 4,
  "nbformat_minor": 0,
  "metadata": {
    "colab": {
      "name": "10_ImageRecognition_ComputerVisionAPI.ipynb",
      "provenance": [],
      "authorship_tag": "ABX9TyMySomC08c98JrE1euYpHBG",
      "include_colab_link": true
    },
    "kernelspec": {
      "name": "python3",
      "display_name": "Python 3"
    },
    "language_info": {
      "name": "python"
    }
  },
  "cells": [
    {
      "cell_type": "markdown",
      "metadata": {
        "id": "view-in-github",
        "colab_type": "text"
      },
      "source": [
        "<a href=\"https://colab.research.google.com/github/LeonardoGoncRibeiro/06_MachineLearning/blob/main/02_Advanced/10_ImageRecognition_ComputerVisionAPI.ipynb\" target=\"_parent\"><img src=\"https://colab.research.google.com/assets/colab-badge.svg\" alt=\"Open In Colab\"/></a>"
      ]
    },
    {
      "cell_type": "markdown",
      "source": [
        "# Image recognition: Twitter and Computer Vision API\n",
        "\n",
        "In this course, we will learn how to use a Computer Vision API for image and pattern recognition. First, we will learn how to connect to Twitter, and understand how to use the API from Twitter. Then, we will connect to the Computer Vision API, and we will be able to, automatically, analyze images from Twitter. In the end, we will create a personalized database, full of images from Twitter.\n",
        "\n",
        "In this course, we will use the following packages:"
      ],
      "metadata": {
        "id": "r7oCx6Kkv4WB"
      }
    },
    {
      "cell_type": "code",
      "source": [
        "!pip install azure-cognitiveservices-vision-computervision --quiet"
      ],
      "metadata": {
        "id": "4BpiqWyHGz94"
      },
      "execution_count": 71,
      "outputs": []
    },
    {
      "cell_type": "code",
      "execution_count": 111,
      "metadata": {
        "id": "iIaec5XdvveR"
      },
      "outputs": [],
      "source": [
        "import tweepy as tw\n",
        "\n",
        "from azure.cognitiveservices.vision.computervision.models import VisualFeatureTypes\n",
        "from azure.cognitiveservices.vision.computervision import ComputerVisionClient\n",
        "from msrest.authentication import CognitiveServicesCredentials\n",
        "\n",
        "import json\n",
        "import pandas as pd"
      ]
    },
    {
      "cell_type": "markdown",
      "source": [
        "# Connecting to Twitter\n",
        "\n",
        "To use our API from twitter, we first have to define some variables for the keys and secrets:"
      ],
      "metadata": {
        "id": "CB0IMLQQyha-"
      }
    },
    {
      "cell_type": "code",
      "source": [
        "api_key       = 'bKwY9zAdNUVbHhXWTqiVr7hdh'\n",
        "api_secret    = 'nqET37vMC3mrRxphUGyuyZMDA4z1OUpac7WCKARru7Pl0765OU'\n",
        "access_token  = '1049076503101825024-Fhq9MWoihzRvQq9vspZGfBILaN809Q'\n",
        "access_secret = 'hWRsFaLv4zPTyCIAw8feYLQOYnSWkz6Rk11zUTpJtmfGh'"
      ],
      "metadata": {
        "id": "6KUCHiCOypIq"
      },
      "execution_count": 73,
      "outputs": []
    },
    {
      "cell_type": "markdown",
      "source": [
        "To perform our authentication, we can use:"
      ],
      "metadata": {
        "id": "TXMjxFp154mf"
      }
    },
    {
      "cell_type": "code",
      "source": [
        "auth = tw.OAuthHandler(api_key, api_secret)"
      ],
      "metadata": {
        "id": "qH0rVr9l51AI"
      },
      "execution_count": 74,
      "outputs": []
    },
    {
      "cell_type": "code",
      "source": [
        "auth.set_access_token(access_token, access_secret)"
      ],
      "metadata": {
        "id": "N9z8-9X96AmX"
      },
      "execution_count": 75,
      "outputs": []
    },
    {
      "cell_type": "code",
      "source": [
        "api = tw.API(auth)"
      ],
      "metadata": {
        "id": "6HuBBWL-6EQc"
      },
      "execution_count": 76,
      "outputs": []
    },
    {
      "cell_type": "markdown",
      "source": [
        "Finally, we can use our API to perform different actions. For instance, we can tweet using:"
      ],
      "metadata": {
        "id": "3jC_8gwK6K-t"
      }
    },
    {
      "cell_type": "code",
      "source": [
        "tweet = api.update_status(\"Twitter\")"
      ],
      "metadata": {
        "id": "MEzq6rWJjcbu"
      },
      "execution_count": null,
      "outputs": []
    },
    {
      "cell_type": "markdown",
      "source": [
        "Nice!"
      ],
      "metadata": {
        "id": "d50UrW7N6628"
      }
    },
    {
      "cell_type": "markdown",
      "source": [
        "# Searching for tweets\n",
        "\n",
        "Instead of performing POST methods, we can also collect data from twitter. To search for already posted tweets, we can use:"
      ],
      "metadata": {
        "id": "Yk_15zbj7T2e"
      }
    },
    {
      "cell_type": "code",
      "source": [
        "some_tweets = tw.Cursor(api.search, q = \"data science\", since = '2019-01-01', lang = 'pt').items(10)"
      ],
      "metadata": {
        "id": "zt7v8fbO7TW0"
      },
      "execution_count": 78,
      "outputs": []
    },
    {
      "cell_type": "markdown",
      "source": [
        "Here, we are looking for tweets related to data science, since 2019/01/01. Also, we are looking for tweets in the portuguese languages. We can get this information using:"
      ],
      "metadata": {
        "id": "40kRWhIe7hq-"
      }
    },
    {
      "cell_type": "code",
      "source": [
        "for tweet in some_tweets:\n",
        "  print(tweet.text)"
      ],
      "metadata": {
        "colab": {
          "base_uri": "https://localhost:8080/"
        },
        "id": "ILKe7t6B7saL",
        "outputId": "55d6782e-0244-4b70-edc2-99f5600f141f"
      },
      "execution_count": 79,
      "outputs": [
        {
          "output_type": "stream",
          "name": "stdout",
          "text": [
            "@caval_artax Mas resume ai e manda la pra empresa que tem varias vagas pra data science 😍\n",
            "@dearg_h Vaga de emprego, estágio já estou 100% quero é um trampo de data science\n",
            "@rphlbruce Data science com estatística Básica\n",
            "Morettin surfando a onda e lançando livro de data science. Tá certo ele.\n",
            "( Retirado de um story de um Data Science )\n",
            "• Linux Fundamentos - (40 horas)\n",
            "• Cloud Computing &amp; Data Science- (160 horas)\n",
            "• Java Fundamentos - (80 horas)\n",
            "• Cy… https://t.co/Uy5XWhZrEC\n",
            "Está disponível a avaliação final e o certificado de conclusão em inglês do curso gratuito (e exclusivo dos alunos… https://t.co/kwBIQF0iWy\n",
            "Bolsonaro diz que proposta dos militares é de entrar na cabine e filmar votação de eleitores - ⁦@GloboNews⁩ ⁦… https://t.co/dQQHhhnJCM\n",
            "Bolsonaro diz que proposta dos militares é de entrar na cabine e filmar votação de eleitores - Imagina uma pessoa i… https://t.co/1RvAGvsmXo\n",
            "RT @davysondg: Simplesmente ABSURDO como Python tornou-se a linguagem de programação líder do mercado nos mais diversos âmbitos. O quão pol…\n"
          ]
        }
      ]
    },
    {
      "cell_type": "markdown",
      "source": [
        "Instead of the text, we can also get different information from those tweets:"
      ],
      "metadata": {
        "id": "38qYauQR8KJ9"
      }
    },
    {
      "cell_type": "code",
      "source": [
        "some_tweets = tw.Cursor(api.search, q = \"data science\", since = '2019-01-01', lang = 'pt').items(10)"
      ],
      "metadata": {
        "id": "cheeF06E8hkF"
      },
      "execution_count": 80,
      "outputs": []
    },
    {
      "cell_type": "code",
      "source": [
        "for tweet in some_tweets:\n",
        "  print(tweet.user.screen_name)\n",
        "  print(tweet.user.location)\n",
        "  print(\"-\"*30)"
      ],
      "metadata": {
        "colab": {
          "base_uri": "https://localhost:8080/"
        },
        "id": "A7dfZyrG77hU",
        "outputId": "2d208d2f-90cb-43f6-aaf8-d70ba24fb3df"
      },
      "execution_count": 81,
      "outputs": [
        {
          "output_type": "stream",
          "name": "stdout",
          "text": [
            "salatielrs\n",
            "Brasil\n",
            "------------------------------\n",
            "campos_edro\n",
            "Bahia, Brasil\n",
            "------------------------------\n",
            "dodo_california\n",
            "onde tem tartarugas \n",
            "------------------------------\n",
            "rphlbruce\n",
            "Brasília, DF - Brazil\n",
            "------------------------------\n",
            "oronaldomachado\n",
            "Florianópolis, Brasil\n",
            "------------------------------\n",
            "sheldonnvan\n",
            "Recife, Brasil\n",
            "------------------------------\n",
            "dsacademybr\n",
            "Brasil\n",
            "------------------------------\n",
            "Andreh72\n",
            "Americana, Brasil\n",
            "------------------------------\n",
            "Andreh72\n",
            "Americana, Brasil\n",
            "------------------------------\n",
            "ML_Tweet_Bot\n",
            "Help us!\n",
            "------------------------------\n"
          ]
        }
      ]
    },
    {
      "cell_type": "markdown",
      "source": [
        "# Looking for tweets from specific people\n",
        "\n",
        "Instead of searching for tweets based on a tag, we can also search for tweets from someone. For instance, let's try to get tweets from some famouse people:"
      ],
      "metadata": {
        "id": "Xn4dk_8N8kZP"
      }
    },
    {
      "cell_type": "code",
      "source": [
        "famous_list = ['cauareymond','aguiarthur','ivetesangalo','ClaudiaLeitte','neymarjr','BruMarquezine','mariruybarbosa',\n",
        "'FePaesLeme','Tatawerneck','FlaviaAleReal','julianapaes','dedesecco','SabrinaSato','ahickmann','gusttavo_lima','Anitta']"
      ],
      "metadata": {
        "id": "tfeTmjAO8XmF"
      },
      "execution_count": 87,
      "outputs": []
    },
    {
      "cell_type": "markdown",
      "source": [
        "Ok. Now, let's try to get the images from the tweets, and print it:"
      ],
      "metadata": {
        "id": "llW4IcCF9Z3u"
      }
    },
    {
      "cell_type": "code",
      "source": [
        "for famous in famous_list:\n",
        "  print(famous)\n",
        "  tweets_from_famous = tw.Cursor(api.search, q = famous, since = '2020-01-01').items(20)\n",
        "\n",
        "  for tweet in tweets_from_famous:\n",
        "    if 'media' in tweet.entities:\n",
        "      print(tweet.entities['media'][0]['media_url'])\n",
        "\n",
        "  print(\"-\"*30)\n",
        "  print('\\n')"
      ],
      "metadata": {
        "colab": {
          "base_uri": "https://localhost:8080/"
        },
        "id": "ms2vmGfw9F3C",
        "outputId": "38cd87e3-7065-4d0f-9246-74f8869237e9"
      },
      "execution_count": 88,
      "outputs": [
        {
          "output_type": "stream",
          "name": "stdout",
          "text": [
            "cauareymond\n",
            "http://pbs.twimg.com/media/FZGNxJQWIAErX9J.jpg\n",
            "http://pbs.twimg.com/media/FZGNxJQWIAErX9J.jpg\n",
            "http://pbs.twimg.com/media/FZGNxJQWIAErX9J.jpg\n",
            "http://pbs.twimg.com/media/FZGNxJQWIAErX9J.jpg\n",
            "http://pbs.twimg.com/amplify_video_thumb/1531048283442929666/img/BiGIhdCbWXkbbg9x.jpg\n",
            "http://pbs.twimg.com/media/FZGNxJQWIAErX9J.jpg\n",
            "http://pbs.twimg.com/media/FZPZ4oJVUAEw8Wz.jpg\n",
            "http://pbs.twimg.com/media/FZPDVfUWYAAgmW1.jpg\n",
            "http://pbs.twimg.com/media/FZGNxJQWIAErX9J.jpg\n",
            "http://pbs.twimg.com/media/FZGNxJQWIAErX9J.jpg\n",
            "http://pbs.twimg.com/media/FZGNxJQWIAErX9J.jpg\n",
            "http://pbs.twimg.com/media/FZMitY1XEAgg7gP.jpg\n",
            "------------------------------\n",
            "\n",
            "\n",
            "aguiarthur\n",
            "http://pbs.twimg.com/media/FZR8uBDWAAAHmc4.jpg\n",
            "http://pbs.twimg.com/media/FZR91E2WIAE1PJ5.jpg\n",
            "http://pbs.twimg.com/ext_tw_video_thumb/1514999224672428038/pu/img/PFMJBRdxdvUfId4b.jpg\n",
            "http://pbs.twimg.com/ext_tw_video_thumb/1555005851144011782/pu/img/3FQ2QUeIWJoedWx_.jpg\n",
            "------------------------------\n",
            "\n",
            "\n",
            "ivetesangalo\n",
            "http://pbs.twimg.com/media/FZR_-1wXwAI11qX.jpg\n",
            "------------------------------\n",
            "\n",
            "\n",
            "ClaudiaLeitte\n",
            "http://pbs.twimg.com/media/FZR_-1wXwAI11qX.jpg\n",
            "http://pbs.twimg.com/media/FZRR-buXkAs3akC.jpg\n",
            "------------------------------\n",
            "\n",
            "\n",
            "neymarjr\n",
            "http://pbs.twimg.com/media/FZO_s4VXkAI0NZ-.jpg\n",
            "http://pbs.twimg.com/amplify_video_thumb/1554748333142441984/img/Kd-TW0G5v4ToWRBk.jpg\n",
            "http://pbs.twimg.com/media/FZPwnU4WIAEMAPF.jpg\n",
            "http://pbs.twimg.com/media/FZPeFvAVEAAIXgM.jpg\n",
            "------------------------------\n",
            "\n",
            "\n",
            "BruMarquezine\n",
            "http://pbs.twimg.com/ext_tw_video_thumb/1554964542593159168/pu/img/c2H83HpJ8NbUTTzs.jpg\n",
            "http://pbs.twimg.com/media/FZRPXd4XwAEtc_C.jpg\n",
            "http://pbs.twimg.com/media/FZR9hnAXwAE1mfD.jpg\n",
            "http://pbs.twimg.com/ext_tw_video_thumb/1478907512275582978/pu/img/O65Pe0mw33mHb5Er.jpg\n",
            "http://pbs.twimg.com/media/FZRPXd4XwAEtc_C.jpg\n",
            "http://pbs.twimg.com/media/FZQ9-RVWIAU-yUo.jpg\n",
            "http://pbs.twimg.com/ext_tw_video_thumb/1554963675408121857/pu/img/Eicl0xf4kAGIyhIM.jpg\n",
            "http://pbs.twimg.com/ext_tw_video_thumb/1554964542593159168/pu/img/c2H83HpJ8NbUTTzs.jpg\n",
            "------------------------------\n",
            "\n",
            "\n",
            "mariruybarbosa\n",
            "http://pbs.twimg.com/ext_tw_video_thumb/1554955037838872579/pu/img/pAu0mnJdiLy5eMit.jpg\n",
            "http://pbs.twimg.com/ext_tw_video_thumb/1554955037838872579/pu/img/pAu0mnJdiLy5eMit.jpg\n",
            "http://pbs.twimg.com/media/FZQWaSxWIAAfwNp.jpg\n",
            "http://pbs.twimg.com/media/FZQWaSxWIAAfwNp.jpg\n",
            "http://pbs.twimg.com/media/FZQWaSxWIAAfwNp.jpg\n",
            "------------------------------\n",
            "\n",
            "\n",
            "FePaesLeme\n",
            "------------------------------\n",
            "\n",
            "\n",
            "Tatawerneck\n",
            "http://pbs.twimg.com/ext_tw_video_thumb/1477744034701623301/pu/img/vxZeKjNOFpl72e1-.jpg\n",
            "http://pbs.twimg.com/ext_tw_video_thumb/1477744034701623301/pu/img/vxZeKjNOFpl72e1-.jpg\n",
            "------------------------------\n",
            "\n",
            "\n",
            "FlaviaAleReal\n",
            "http://pbs.twimg.com/media/FZPJo45X0AMRn5j.jpg\n",
            "http://pbs.twimg.com/media/FZPJo45X0AMRn5j.jpg\n",
            "http://pbs.twimg.com/media/FZPJo45X0AMRn5j.jpg\n",
            "http://pbs.twimg.com/media/FZPJo45X0AMRn5j.jpg\n",
            "http://pbs.twimg.com/media/FZMtTckXgAANoZs.jpg\n",
            "http://pbs.twimg.com/tweet_video_thumb/FZHOneJXkAExi0N.jpg\n",
            "http://pbs.twimg.com/media/FZHLtSLWIAANmAf.jpg\n",
            "------------------------------\n",
            "\n",
            "\n",
            "julianapaes\n",
            "http://pbs.twimg.com/ext_tw_video_thumb/1554950372959162371/pu/img/ao8r2C1XJlM9qn4X.jpg\n",
            "http://pbs.twimg.com/ext_tw_video_thumb/1554950372959162371/pu/img/ao8r2C1XJlM9qn4X.jpg\n",
            "http://pbs.twimg.com/ext_tw_video_thumb/1554950372959162371/pu/img/ao8r2C1XJlM9qn4X.jpg\n",
            "http://pbs.twimg.com/media/FZRHGbBXkAMMqqk.jpg\n",
            "------------------------------\n",
            "\n",
            "\n",
            "dedesecco\n",
            "http://pbs.twimg.com/media/FZSAFL6WQAEJzS2.jpg\n",
            "------------------------------\n",
            "\n",
            "\n",
            "SabrinaSato\n",
            "http://pbs.twimg.com/media/FZR7l_xXgAE836r.jpg\n",
            "http://pbs.twimg.com/ext_tw_video_thumb/1554966330163580936/pu/img/P6eNZO51r56X0IFv.jpg\n",
            "http://pbs.twimg.com/ext_tw_video_thumb/1554966330163580936/pu/img/P6eNZO51r56X0IFv.jpg\n",
            "http://pbs.twimg.com/ext_tw_video_thumb/1554966330163580936/pu/img/P6eNZO51r56X0IFv.jpg\n",
            "http://pbs.twimg.com/ext_tw_video_thumb/1554966330163580936/pu/img/P6eNZO51r56X0IFv.jpg\n",
            "http://pbs.twimg.com/ext_tw_video_thumb/1554966330163580936/pu/img/P6eNZO51r56X0IFv.jpg\n",
            "http://pbs.twimg.com/ext_tw_video_thumb/1554966330163580936/pu/img/P6eNZO51r56X0IFv.jpg\n",
            "http://pbs.twimg.com/ext_tw_video_thumb/1554966330163580936/pu/img/P6eNZO51r56X0IFv.jpg\n",
            "http://pbs.twimg.com/ext_tw_video_thumb/1554850815566807040/pu/img/WbKBCSY851HqfMQb.jpg\n",
            "------------------------------\n",
            "\n",
            "\n",
            "ahickmann\n",
            "http://pbs.twimg.com/ext_tw_video_thumb/1554953308070182912/pu/img/28qEiuxSDtkFCelc.jpg\n",
            "http://pbs.twimg.com/ext_tw_video_thumb/1554953308070182912/pu/img/28qEiuxSDtkFCelc.jpg\n",
            "http://pbs.twimg.com/media/FZPiRcjVEAARfMM.jpg\n",
            "http://pbs.twimg.com/ext_tw_video_thumb/1554953308070182912/pu/img/28qEiuxSDtkFCelc.jpg\n",
            "http://pbs.twimg.com/ext_tw_video_thumb/1554953308070182912/pu/img/28qEiuxSDtkFCelc.jpg\n",
            "http://pbs.twimg.com/media/FZPiRcjVEAARfMM.jpg\n",
            "------------------------------\n",
            "\n",
            "\n",
            "gusttavo_lima\n",
            "http://pbs.twimg.com/tweet_video_thumb/FZR5whYWAAADEqG.jpg\n",
            "------------------------------\n",
            "\n",
            "\n",
            "Anitta\n",
            "http://pbs.twimg.com/media/FZRp9zyXEAEi0et.jpg\n",
            "http://pbs.twimg.com/media/FZRbVfKXoAgrIOr.jpg\n",
            "http://pbs.twimg.com/media/FZR03PyXEAAQvvD.jpg\n",
            "http://pbs.twimg.com/tweet_video_thumb/FZSAVh-XoAAtK70.jpg\n",
            "http://pbs.twimg.com/media/FZRp9zyXEAEi0et.jpg\n",
            "------------------------------\n",
            "\n",
            "\n"
          ]
        }
      ]
    },
    {
      "cell_type": "markdown",
      "source": [
        "Nice! We were able to get the URL for different images posted from different famous people!"
      ],
      "metadata": {
        "id": "jyG13mj391Hu"
      }
    },
    {
      "cell_type": "markdown",
      "source": [
        "# Streaming tweets\n",
        "\n",
        "Instead of obtaining tweets in a fixed point of time, we can also use a stream. Thus, we can get all tweets performed after we start to stream. To do that, we need to create a class to perform what we want to do:"
      ],
      "metadata": {
        "id": "3vG6Q96F-Ybz"
      }
    },
    {
      "cell_type": "code",
      "source": [
        "class MyStreamListener(tw.StreamListener):\n",
        "\n",
        "  def on_status(self, status):\n",
        "    print(status.user.screen_name)\n",
        "    print(status.text)\n",
        "    print(\"-\"*30)"
      ],
      "metadata": {
        "id": "epwwrZM5-3OG"
      },
      "execution_count": 89,
      "outputs": []
    },
    {
      "cell_type": "markdown",
      "source": [
        "Here, we will print the name and location from each user that makes a post on twitter. Now, we instance a stream object:"
      ],
      "metadata": {
        "id": "w7i2OCy__Ga5"
      }
    },
    {
      "cell_type": "code",
      "source": [
        "myStream = tw.Stream(auth = auth, listener = MyStreamListener( ))"
      ],
      "metadata": {
        "id": "JZTYDCBP9p_d"
      },
      "execution_count": 90,
      "outputs": []
    },
    {
      "cell_type": "markdown",
      "source": [
        "Finally, we make a filter and get our stream:"
      ],
      "metadata": {
        "id": "TYRiDumI_ScN"
      }
    },
    {
      "cell_type": "code",
      "source": [
        "myStream.filter(track = famous_list)"
      ],
      "metadata": {
        "id": "HTkKct9C_O3k"
      },
      "execution_count": 91,
      "outputs": []
    },
    {
      "cell_type": "markdown",
      "source": [
        "Ok, we managed to extract data from twitter. Now, we will see how to use an API for computer vision to analyze images."
      ],
      "metadata": {
        "id": "rELeP6T3GoR-"
      }
    },
    {
      "cell_type": "markdown",
      "source": [
        "# Connecting to the Computer Vision API\n",
        "\n",
        "Here, we will use the Computer Vision API from Microsoft Azure. To make the authentication, we can do:"
      ],
      "metadata": {
        "id": "b3iiFrO-DjTm"
      }
    },
    {
      "cell_type": "code",
      "source": [
        "cred = CognitiveServicesCredentials('b57151ab48f5464d9bd09f0c4ec4ed54')"
      ],
      "metadata": {
        "id": "vS_WnS3FAmBu"
      },
      "execution_count": 92,
      "outputs": []
    },
    {
      "cell_type": "code",
      "source": [
        "client = ComputerVisionClient('https://aulaalurapythoncognitive6208136.cognitiveservices.azure.com/', cred)"
      ],
      "metadata": {
        "id": "iSVikB6mHO8H"
      },
      "execution_count": 93,
      "outputs": []
    },
    {
      "cell_type": "code",
      "source": [
        "client.api_version"
      ],
      "metadata": {
        "colab": {
          "base_uri": "https://localhost:8080/",
          "height": 36
        },
        "id": "-J8t2m8DHYxS",
        "outputId": "eb029e31-c8f8-494b-f90f-23f1294c195d"
      },
      "execution_count": 94,
      "outputs": [
        {
          "output_type": "execute_result",
          "data": {
            "text/plain": [
              "'3.2'"
            ],
            "application/vnd.google.colaboratory.intrinsic+json": {
              "type": "string"
            }
          },
          "metadata": {},
          "execution_count": 94
        }
      ]
    },
    {
      "cell_type": "markdown",
      "source": [
        "Nice! It seems to have worked out. Finally, let's use the API to classify the figures we were able to get. First, we will use the following image:\n",
        "\n",
        "![](https://pbs.twimg.com/media/FZPJo45X0AMRn5j.jpg)"
      ],
      "metadata": {
        "id": "PmJGVCWxHdoO"
      }
    },
    {
      "cell_type": "markdown",
      "source": [
        "Let's see how does the computer vision API classify this image:"
      ],
      "metadata": {
        "id": "L9dRC0v_IhnG"
      }
    },
    {
      "cell_type": "code",
      "source": [
        "url = 'https://pbs.twimg.com/media/FZPJo45X0AMRn5j.jpg'\n",
        "\n",
        "image_analyze = client.analyze_image(url, visual_features=[VisualFeatureTypes.tags])"
      ],
      "metadata": {
        "id": "ujwYxHsGHciv"
      },
      "execution_count": 95,
      "outputs": []
    },
    {
      "cell_type": "markdown",
      "source": [
        "To get the result of our analysis, we can do:"
      ],
      "metadata": {
        "id": "MdSaObyNKCFF"
      }
    },
    {
      "cell_type": "code",
      "source": [
        "for tag in image_analyze.tags:\n",
        "  print(tag)"
      ],
      "metadata": {
        "colab": {
          "base_uri": "https://localhost:8080/"
        },
        "id": "a0UTtg-uJ3NB",
        "outputId": "8fd0e5f9-adf1-45d2-acd5-0d5ef103dfd3"
      },
      "execution_count": 96,
      "outputs": [
        {
          "output_type": "stream",
          "name": "stdout",
          "text": [
            "{'additional_properties': {}, 'name': 'person', 'confidence': 0.9948667287826538, 'hint': None}\n",
            "{'additional_properties': {}, 'name': 'indoor', 'confidence': 0.9920474886894226, 'hint': None}\n",
            "{'additional_properties': {}, 'name': 'clothing', 'confidence': 0.9863065481185913, 'hint': None}\n",
            "{'additional_properties': {}, 'name': 'kitchen', 'confidence': 0.972037672996521, 'hint': None}\n",
            "{'additional_properties': {}, 'name': 'countertop', 'confidence': 0.9717689752578735, 'hint': None}\n",
            "{'additional_properties': {}, 'name': 'kitchen appliance', 'confidence': 0.9715756773948669, 'hint': None}\n",
            "{'additional_properties': {}, 'name': 'wall', 'confidence': 0.969377875328064, 'hint': None}\n",
            "{'additional_properties': {}, 'name': 'cookware and bakeware', 'confidence': 0.883014440536499, 'hint': None}\n",
            "{'additional_properties': {}, 'name': 'home appliance', 'confidence': 0.8775683641433716, 'hint': None}\n",
            "{'additional_properties': {}, 'name': 'cook', 'confidence': 0.8774925470352173, 'hint': None}\n",
            "{'additional_properties': {}, 'name': 'gas stove', 'confidence': 0.8671916127204895, 'hint': None}\n",
            "{'additional_properties': {}, 'name': 'food processing', 'confidence': 0.8598599433898926, 'hint': None}\n",
            "{'additional_properties': {}, 'name': 'stove', 'confidence': 0.8435509204864502, 'hint': None}\n",
            "{'additional_properties': {}, 'name': 'food', 'confidence': 0.8279772996902466, 'hint': None}\n",
            "{'additional_properties': {}, 'name': 'woman', 'confidence': 0.8230319023132324, 'hint': None}\n",
            "{'additional_properties': {}, 'name': 'preparing', 'confidence': 0.7617071866989136, 'hint': None}\n",
            "{'additional_properties': {}, 'name': 'standing', 'confidence': 0.6881507039070129, 'hint': None}\n",
            "{'additional_properties': {}, 'name': 'cooking', 'confidence': 0.575808584690094, 'hint': None}\n"
          ]
        }
      ]
    },
    {
      "cell_type": "markdown",
      "source": [
        "So, we have some tags, and each has their confidence. For instance, considering all tags with confidence higher than 90%, we see:\n",
        "\n",
        "* Person\n",
        "* Indoor\n",
        "* Clothing\n",
        "* Kitchen\n",
        "* Countertop\n",
        "* Kitchen appliance\n",
        "* Wall\n",
        "\n",
        "In fact, all of our tags (considering a confidence higher than 50%) seen adequate for our figure.\n",
        "\n",
        "Another thing we can do is analyze the image for domain, for instance, by celebrities:"
      ],
      "metadata": {
        "id": "s_pLc8wdKblQ"
      }
    },
    {
      "cell_type": "code",
      "source": [
        "url = 'https://pbs.twimg.com/media/FZPJo45X0AMRn5j.jpg'\n",
        "\n",
        "image_analyze = client.analyze_image_by_domain(\"celebrities\", url, \"en\")"
      ],
      "metadata": {
        "id": "pMWBejBWj2l-"
      },
      "execution_count": null,
      "outputs": []
    },
    {
      "cell_type": "markdown",
      "source": [
        "Finally, we can also describe the image:"
      ],
      "metadata": {
        "id": "wYnQxh6pLzG1"
      }
    },
    {
      "cell_type": "code",
      "source": [
        "url = 'https://pbs.twimg.com/media/FZPJo45X0AMRn5j.jpg'\n",
        "\n",
        "description = client.describe_image(url, 3, \"en\")"
      ],
      "metadata": {
        "id": "8zbGEVZjL29f"
      },
      "execution_count": 98,
      "outputs": []
    },
    {
      "cell_type": "code",
      "source": [
        "for caption in description.captions:\n",
        "  print(caption.text)\n",
        "  print(caption.confidence)"
      ],
      "metadata": {
        "colab": {
          "base_uri": "https://localhost:8080/"
        },
        "id": "h88J1XB-L6ee",
        "outputId": "d5068317-189b-4454-e262-5e16fcbeec83"
      },
      "execution_count": 99,
      "outputs": [
        {
          "output_type": "stream",
          "name": "stdout",
          "text": [
            "a man and a woman cooking in a kitchen\n",
            "0.6021931767463684\n"
          ]
        }
      ]
    },
    {
      "cell_type": "markdown",
      "source": [
        "That is actually a very good description of what is happening in the picture."
      ],
      "metadata": {
        "id": "ouYAkyQKMHnG"
      }
    },
    {
      "cell_type": "markdown",
      "source": [
        "# Pipeline for analyzing images\n",
        "\n",
        "Based on that, we can automatize the description of images taken from Twitter. For instance, if we want to get the description of every image taken:"
      ],
      "metadata": {
        "id": "SzELIFzcM4sW"
      }
    },
    {
      "cell_type": "code",
      "source": [
        "for famous in famous_list:\n",
        "  print(famous)\n",
        "  tweets_from_famous = tw.Cursor(api.search, q = famous, since = '2020-01-01').items(20)\n",
        "\n",
        "  for tweet in tweets_from_famous:\n",
        "    if 'media' in tweet.entities:\n",
        "      url = tweet.entities['media'][0]['media_url']\n",
        "      description = client.describe_image(url, 1, \"en\")\n",
        "      for caption in description.captions:\n",
        "        print(caption.text + \" : \" + str(caption.confidence))\n",
        "\n",
        "  print(\"-\"*30)\n",
        "  print('\\n')"
      ],
      "metadata": {
        "colab": {
          "base_uri": "https://localhost:8080/"
        },
        "id": "gulyJYQPMAAF",
        "outputId": "461b7cac-df99-49be-fb6e-a61a722e8308"
      },
      "execution_count": 100,
      "outputs": [
        {
          "output_type": "stream",
          "name": "stdout",
          "text": [
            "cauareymond\n",
            "a person flexing the muscles : 0.5333232283592224\n",
            "a person flexing the muscles : 0.5333232283592224\n",
            "a person flexing the muscles : 0.5333232283592224\n",
            "a person flexing the muscles : 0.5333236455917358\n",
            "a man and woman dancing on a stage : 0.591153621673584\n",
            "a person flexing the muscles : 0.5333236455917358\n",
            "text : 0.921627938747406\n",
            "a woman with black hair : 0.3833494186401367\n",
            "a person flexing the muscles : 0.5333236455917358\n",
            "a person flexing the muscles : 0.5333236455917358\n",
            "a person flexing the muscles : 0.5333232283592224\n",
            "graphical user interface, text : 0.7697311043739319\n",
            "------------------------------\n",
            "\n",
            "\n",
            "aguiarthur\n",
            "a man and a girl taking a selfie : 0.5753592848777771\n",
            "graphical user interface, text : 0.9731059074401855\n",
            "a man with a black shirt : 0.33617791533470154\n",
            "------------------------------\n",
            "\n",
            "\n",
            "ivetesangalo\n",
            "a man and woman on stage : 0.48998942971229553\n",
            "------------------------------\n",
            "\n",
            "\n",
            "ClaudiaLeitte\n",
            "a man and woman on stage : 0.48998942971229553\n",
            "a toy doll with a blue dress : 0.3186969459056854\n",
            "------------------------------\n",
            "\n",
            "\n",
            "neymarjr\n",
            "a man in a white shirt : 0.41062822937965393\n",
            "a group of people on a field : 0.5583768486976624\n",
            "a man holding another man : 0.39074134826660156\n",
            "a man with his hands up : 0.37353378534317017\n",
            "------------------------------\n",
            "\n",
            "\n",
            "BruMarquezine\n",
            "a group of people on a stage : 0.6022042036056519\n",
            "a person holding a camera : 0.44191795587539673\n",
            "a person posing for a picture : 0.5807206630706787\n",
            "a couple of women holding up a skateboard : 0.298408567905426\n",
            "a person holding a camera : 0.4419187009334564\n",
            "a woman smiling and giving a thumbs up : 0.48209843039512634\n",
            "a collage of people : 0.5172979235649109\n",
            "a group of people on a stage : 0.6022042036056519\n",
            "------------------------------\n",
            "\n",
            "\n",
            "mariruybarbosa\n",
            "a screenshot of a computer : 0.38725602626800537\n",
            "a screenshot of a computer : 0.38725602626800537\n",
            "diagram : 0.8640610575675964\n",
            "diagram : 0.8640612363815308\n",
            "diagram : 0.8640612363815308\n",
            "------------------------------\n",
            "\n",
            "\n",
            "FePaesLeme\n",
            "------------------------------\n",
            "\n",
            "\n",
            "Tatawerneck\n",
            "a man and woman in a room with people sitting at tables : 0.3683713972568512\n",
            "a man and woman in a room with people sitting at tables : 0.36837127804756165\n",
            "------------------------------\n",
            "\n",
            "\n",
            "FlaviaAleReal\n",
            "a man and a woman cooking in a kitchen : 0.6021939516067505\n",
            "a man and a woman cooking in a kitchen : 0.6021939516067505\n",
            "a man and a woman cooking in a kitchen : 0.6021939516067505\n",
            "a man and a woman cooking in a kitchen : 0.6021939516067505\n",
            "a woman in a red dress : 0.4492031931877136\n",
            "a man and a woman smiling : 0.43357449769973755\n",
            "a woman with a pink bow : 0.26445460319519043\n",
            "------------------------------\n",
            "\n",
            "\n",
            "julianapaes\n",
            "a person singing into a microphone : 0.6609218716621399\n",
            "a person singing into a microphone : 0.6609218716621399\n",
            "a person singing into a microphone : 0.6609218716621399\n",
            "a woman with long hair : 0.4705159068107605\n",
            "------------------------------\n",
            "\n",
            "\n",
            "dedesecco\n",
            "a person sitting in a chair : 0.551928699016571\n",
            "------------------------------\n",
            "\n",
            "\n",
            "SabrinaSato\n",
            "a couple of children posing for the camera : 0.4777924120426178\n",
            "a woman in a dress : 0.4565975069999695\n",
            "a group of people sitting in a living room : 0.5325854420661926\n",
            "website : 0.36393114924430847\n",
            "a person in a garment : 0.3613134026527405\n",
            "a person in a garment : 0.3613134026527405\n",
            "a person in a garment : 0.3613134026527405\n",
            "a person in a garment : 0.3613134026527405\n",
            "a person in a garment : 0.3613134026527405\n",
            "------------------------------\n",
            "\n",
            "\n",
            "ahickmann\n",
            "a group of stars in space : 0.47679567337036133\n",
            "a group of stars in space : 0.47679540514945984\n",
            "a woman with blonde hair : 0.48094433546066284\n",
            "a group of stars in space : 0.47679540514945984\n",
            "a group of stars in space : 0.47679567337036133\n",
            "a woman with blonde hair : 0.48094433546066284\n",
            "------------------------------\n",
            "\n",
            "\n",
            "gusttavo_lima\n",
            "a man and woman dancing : 0.49398234486579895\n",
            "a man smiling for the camera : 0.43690428137779236\n",
            "------------------------------\n",
            "\n",
            "\n",
            "Anitta\n",
            "a woman with long hair and glasses : 0.3984416425228119\n",
            "a group of people posing for the camera : 0.6375747919082642\n",
            "a group of people posing for the camera : 0.6375747919082642\n",
            "------------------------------\n",
            "\n",
            "\n"
          ]
        }
      ]
    },
    {
      "cell_type": "markdown",
      "source": [
        "Nice! We were able to get multiple descriptions, for all the data we found. We could also do a similar thing for streamed data."
      ],
      "metadata": {
        "id": "ZXTSHj7jPETO"
      }
    },
    {
      "cell_type": "markdown",
      "source": [
        "## Improving our pipeline\n",
        "\n",
        "When we deal with Twitter, we may want to focus on a given user. The user has a screen name. However, this screen name may change. Thus, we should be working with the user id:"
      ],
      "metadata": {
        "id": "OwGLBKKwj7wG"
      }
    },
    {
      "cell_type": "code",
      "source": [
        "api.get_user('_goncalvsleo').id_str"
      ],
      "metadata": {
        "colab": {
          "base_uri": "https://localhost:8080/",
          "height": 36
        },
        "id": "6XeJLKRpNdl0",
        "outputId": "39f9f36e-8028-49c5-af6d-7c37319c290b"
      },
      "execution_count": 102,
      "outputs": [
        {
          "output_type": "execute_result",
          "data": {
            "text/plain": [
              "'1049076503101825024'"
            ],
            "application/vnd.google.colaboratory.intrinsic+json": {
              "type": "string"
            }
          },
          "metadata": {},
          "execution_count": 102
        }
      ]
    },
    {
      "cell_type": "markdown",
      "source": [
        "Let's get the id for the famous people from our list:"
      ],
      "metadata": {
        "id": "L-ls4yK6krYV"
      }
    },
    {
      "cell_type": "code",
      "source": [
        "famous_ids = []\n",
        "\n",
        "for famous in famous_list:\n",
        "  famous_id = api.get_user(famous).id_str\n",
        "  famous_ids.append(famous_id)"
      ],
      "metadata": {
        "id": "D1HhbRLukXvS"
      },
      "execution_count": 105,
      "outputs": []
    },
    {
      "cell_type": "code",
      "source": [
        "famous_ids"
      ],
      "metadata": {
        "colab": {
          "base_uri": "https://localhost:8080/"
        },
        "id": "HirWNZwtk2_q",
        "outputId": "5bde285f-9a46-484a-9433-5cbfe2059f99"
      },
      "execution_count": 106,
      "outputs": [
        {
          "output_type": "execute_result",
          "data": {
            "text/plain": [
              "['246591347',\n",
              " '72131142',\n",
              " '14502789',\n",
              " '48332360',\n",
              " '158487331',\n",
              " '58603510',\n",
              " '125432895',\n",
              " '50821343',\n",
              " '62557485',\n",
              " '510877109',\n",
              " '56482694',\n",
              " '136140018',\n",
              " '34171224',\n",
              " '43394391',\n",
              " '126676337',\n",
              " '141817380']"
            ]
          },
          "metadata": {},
          "execution_count": 106
        }
      ]
    },
    {
      "cell_type": "markdown",
      "source": [
        "Now, we can improve our code by passing the user id. Also, we can pass our information to a txt file. For instance:"
      ],
      "metadata": {
        "id": "fDv5whqzlCSO"
      }
    },
    {
      "cell_type": "code",
      "source": [
        "for famous in famous_list:\n",
        "  print(famous)\n",
        "  tweets_from_famous = tw.Cursor(api.search, q = famous, since = '2020-01-01').items(20)\n",
        "\n",
        "  for tweet in tweets_from_famous:\n",
        "    if 'media' in tweet.entities:\n",
        "      url = tweet.entities['media'][0]['media_url']\n",
        "\n",
        "      description = client.describe_image(url, 1, \"en\")\n",
        "      caption = description.captions[0].text\n",
        "\n",
        "      image_analyze = client.analyze_image(url, visual_features=[VisualFeatureTypes.tags])\n",
        "      tags = [tag.name for tag in image_analyze.tags]\n",
        "\n",
        "      results = {\n",
        "          'user' : tweet.user.screen_name,\n",
        "          'text' : tweet.text,\n",
        "          'image_url' : url,\n",
        "          'image_description' : caption,\n",
        "          'image_tags' : tags\n",
        "      }\n",
        "\n",
        "      with open('tweets.txt', 'a') as file:\n",
        "        file.write(json.dumps(results))\n",
        "        file.write('\\n')\n",
        "\n",
        "  print(\"-\"*30)\n",
        "  print('\\n')"
      ],
      "metadata": {
        "colab": {
          "base_uri": "https://localhost:8080/"
        },
        "id": "vY4N2vbsk6cj",
        "outputId": "67b82f88-258b-4b20-d89c-5646fe2d7fa4"
      },
      "execution_count": 108,
      "outputs": [
        {
          "output_type": "stream",
          "name": "stdout",
          "text": [
            "cauareymond\n",
            "------------------------------\n",
            "\n",
            "\n",
            "aguiarthur\n",
            "------------------------------\n",
            "\n",
            "\n",
            "ivetesangalo\n",
            "------------------------------\n",
            "\n",
            "\n",
            "ClaudiaLeitte\n",
            "------------------------------\n",
            "\n",
            "\n",
            "neymarjr\n",
            "------------------------------\n",
            "\n",
            "\n",
            "BruMarquezine\n",
            "------------------------------\n",
            "\n",
            "\n",
            "mariruybarbosa\n",
            "------------------------------\n",
            "\n",
            "\n",
            "FePaesLeme\n",
            "------------------------------\n",
            "\n",
            "\n",
            "Tatawerneck\n",
            "------------------------------\n",
            "\n",
            "\n",
            "FlaviaAleReal\n",
            "------------------------------\n",
            "\n",
            "\n",
            "julianapaes\n",
            "------------------------------\n",
            "\n",
            "\n",
            "dedesecco\n",
            "------------------------------\n",
            "\n",
            "\n",
            "SabrinaSato\n",
            "------------------------------\n",
            "\n",
            "\n",
            "ahickmann\n",
            "------------------------------\n",
            "\n",
            "\n",
            "gusttavo_lima\n",
            "------------------------------\n",
            "\n",
            "\n",
            "Anitta\n",
            "------------------------------\n",
            "\n",
            "\n"
          ]
        }
      ]
    },
    {
      "cell_type": "markdown",
      "source": [
        "Nice! Now, we were able to search for some information, analyze an image, and store everything into a txt file. "
      ],
      "metadata": {
        "id": "MHGNNtjUnE2X"
      }
    },
    {
      "cell_type": "markdown",
      "source": [
        "# Checking our results\n",
        "\n",
        "Finally, we can check our results, and see if they actually make sense. First, we can read our file using:"
      ],
      "metadata": {
        "id": "fsSkD3x-npxN"
      }
    },
    {
      "cell_type": "code",
      "source": [
        "read_file = []\n",
        "\n",
        "with open(\"tweets.txt\", \"r\") as file:\n",
        "  for line in file:\n",
        "    read_file.append(json.loads(line))"
      ],
      "metadata": {
        "id": "Ul1ZcMuEmwRz"
      },
      "execution_count": 109,
      "outputs": []
    },
    {
      "cell_type": "markdown",
      "source": [
        "If we get the first item from our list:"
      ],
      "metadata": {
        "id": "IZqdTZLbn_se"
      }
    },
    {
      "cell_type": "code",
      "source": [
        "read_file[0]"
      ],
      "metadata": {
        "colab": {
          "base_uri": "https://localhost:8080/"
        },
        "id": "CvmCp_YFoC7x",
        "outputId": "df2d8d68-ca90-4443-8bdf-2eba946c1bb0"
      },
      "execution_count": 110,
      "outputs": [
        {
          "output_type": "execute_result",
          "data": {
            "text/plain": [
              "{'image_description': 'a person flexing the muscles',\n",
              " 'image_tags': ['person',\n",
              "  'chest',\n",
              "  'muscle',\n",
              "  'barechested',\n",
              "  'human face',\n",
              "  'stomach',\n",
              "  'bodybuilding',\n",
              "  'abdomen',\n",
              "  'black and white',\n",
              "  'man',\n",
              "  'navel',\n",
              "  'art model',\n",
              "  'bodybuilder',\n",
              "  'nude photography',\n",
              "  'undergarment',\n",
              "  'male person',\n",
              "  'trunk',\n",
              "  'underpants',\n",
              "  'outdoor',\n",
              "  'underwear',\n",
              "  'shirtless'],\n",
              " 'image_url': 'http://pbs.twimg.com/media/FZGNxJQWIAErX9J.jpg',\n",
              " 'text': 'RT @sircaio_: Esse @cauareymond sabe nos fazer chorar. SEU GOSTOSO 😋 https://t.co/ctatjujjMU',\n",
              " 'user': 'joaopedroam0'}"
            ]
          },
          "metadata": {},
          "execution_count": 110
        }
      ]
    },
    {
      "cell_type": "markdown",
      "source": [
        "Nice! We managed to get all of the desired information. Since we are working with JSONs, we may also use Pandas, which may improve the visualization of our dataset. Thus, we can do:"
      ],
      "metadata": {
        "id": "VBu82EsjoEuG"
      }
    },
    {
      "cell_type": "code",
      "source": [
        "data = pd.DataFrame(read_file)"
      ],
      "metadata": {
        "id": "5sQYfAIKoKUF"
      },
      "execution_count": 112,
      "outputs": []
    },
    {
      "cell_type": "markdown",
      "source": [
        "Let's see the size of our dataframe:"
      ],
      "metadata": {
        "id": "ppIhODltoh56"
      }
    },
    {
      "cell_type": "code",
      "source": [
        "data.shape"
      ],
      "metadata": {
        "colab": {
          "base_uri": "https://localhost:8080/"
        },
        "id": "IQhUO7W0of_L",
        "outputId": "1a9c3cf4-798c-4bd1-9668-e809866606e0"
      },
      "execution_count": 114,
      "outputs": [
        {
          "output_type": "execute_result",
          "data": {
            "text/plain": [
              "(71, 5)"
            ]
          },
          "metadata": {},
          "execution_count": 114
        }
      ]
    },
    {
      "cell_type": "markdown",
      "source": [
        "So, we managed to get 71 entries into our dataframe, and we have five features. Let's look at the first five entries:"
      ],
      "metadata": {
        "id": "GSqaqrsTompm"
      }
    },
    {
      "cell_type": "code",
      "source": [
        "data.head( )"
      ],
      "metadata": {
        "colab": {
          "base_uri": "https://localhost:8080/",
          "height": 250
        },
        "id": "4v-sI6u4okSp",
        "outputId": "1392f182-08bd-4d44-8a77-3861e955d5c6"
      },
      "execution_count": 115,
      "outputs": [
        {
          "output_type": "execute_result",
          "data": {
            "text/plain": [
              "             user                                               text  \\\n",
              "0    joaopedroam0  RT @sircaio_: Esse @cauareymond sabe nos fazer...   \n",
              "1      thiagobeor  RT @sircaio_: Esse @cauareymond sabe nos fazer...   \n",
              "2        sircaio_  RT @sircaio_: Esse @cauareymond sabe nos fazer...   \n",
              "3    hanedanjoker  RT @sircaio_: Esse @cauareymond sabe nos fazer...   \n",
              "4  KelvilinAguiar  RT @tvglobo: Quero @Tatawerneck e @cauareymond...   \n",
              "\n",
              "                                           image_url  \\\n",
              "0     http://pbs.twimg.com/media/FZGNxJQWIAErX9J.jpg   \n",
              "1     http://pbs.twimg.com/media/FZGNxJQWIAErX9J.jpg   \n",
              "2     http://pbs.twimg.com/media/FZGNxJQWIAErX9J.jpg   \n",
              "3     http://pbs.twimg.com/media/FZGNxJQWIAErX9J.jpg   \n",
              "4  http://pbs.twimg.com/amplify_video_thumb/15310...   \n",
              "\n",
              "                    image_description  \\\n",
              "0        a person flexing the muscles   \n",
              "1        a person flexing the muscles   \n",
              "2        a person flexing the muscles   \n",
              "3        a person flexing the muscles   \n",
              "4  a man and woman dancing on a stage   \n",
              "\n",
              "                                          image_tags  \n",
              "0  [person, chest, muscle, barechested, human fac...  \n",
              "1  [person, chest, muscle, barechested, human fac...  \n",
              "2  [person, chest, muscle, barechested, human fac...  \n",
              "3  [person, chest, muscle, barechested, human fac...  \n",
              "4  [clothing, person, footwear, human face, dance...  "
            ],
            "text/html": [
              "\n",
              "  <div id=\"df-bdd8e31d-e886-4b3c-8189-9f3ff322c8c6\">\n",
              "    <div class=\"colab-df-container\">\n",
              "      <div>\n",
              "<style scoped>\n",
              "    .dataframe tbody tr th:only-of-type {\n",
              "        vertical-align: middle;\n",
              "    }\n",
              "\n",
              "    .dataframe tbody tr th {\n",
              "        vertical-align: top;\n",
              "    }\n",
              "\n",
              "    .dataframe thead th {\n",
              "        text-align: right;\n",
              "    }\n",
              "</style>\n",
              "<table border=\"1\" class=\"dataframe\">\n",
              "  <thead>\n",
              "    <tr style=\"text-align: right;\">\n",
              "      <th></th>\n",
              "      <th>user</th>\n",
              "      <th>text</th>\n",
              "      <th>image_url</th>\n",
              "      <th>image_description</th>\n",
              "      <th>image_tags</th>\n",
              "    </tr>\n",
              "  </thead>\n",
              "  <tbody>\n",
              "    <tr>\n",
              "      <th>0</th>\n",
              "      <td>joaopedroam0</td>\n",
              "      <td>RT @sircaio_: Esse @cauareymond sabe nos fazer...</td>\n",
              "      <td>http://pbs.twimg.com/media/FZGNxJQWIAErX9J.jpg</td>\n",
              "      <td>a person flexing the muscles</td>\n",
              "      <td>[person, chest, muscle, barechested, human fac...</td>\n",
              "    </tr>\n",
              "    <tr>\n",
              "      <th>1</th>\n",
              "      <td>thiagobeor</td>\n",
              "      <td>RT @sircaio_: Esse @cauareymond sabe nos fazer...</td>\n",
              "      <td>http://pbs.twimg.com/media/FZGNxJQWIAErX9J.jpg</td>\n",
              "      <td>a person flexing the muscles</td>\n",
              "      <td>[person, chest, muscle, barechested, human fac...</td>\n",
              "    </tr>\n",
              "    <tr>\n",
              "      <th>2</th>\n",
              "      <td>sircaio_</td>\n",
              "      <td>RT @sircaio_: Esse @cauareymond sabe nos fazer...</td>\n",
              "      <td>http://pbs.twimg.com/media/FZGNxJQWIAErX9J.jpg</td>\n",
              "      <td>a person flexing the muscles</td>\n",
              "      <td>[person, chest, muscle, barechested, human fac...</td>\n",
              "    </tr>\n",
              "    <tr>\n",
              "      <th>3</th>\n",
              "      <td>hanedanjoker</td>\n",
              "      <td>RT @sircaio_: Esse @cauareymond sabe nos fazer...</td>\n",
              "      <td>http://pbs.twimg.com/media/FZGNxJQWIAErX9J.jpg</td>\n",
              "      <td>a person flexing the muscles</td>\n",
              "      <td>[person, chest, muscle, barechested, human fac...</td>\n",
              "    </tr>\n",
              "    <tr>\n",
              "      <th>4</th>\n",
              "      <td>KelvilinAguiar</td>\n",
              "      <td>RT @tvglobo: Quero @Tatawerneck e @cauareymond...</td>\n",
              "      <td>http://pbs.twimg.com/amplify_video_thumb/15310...</td>\n",
              "      <td>a man and woman dancing on a stage</td>\n",
              "      <td>[clothing, person, footwear, human face, dance...</td>\n",
              "    </tr>\n",
              "  </tbody>\n",
              "</table>\n",
              "</div>\n",
              "      <button class=\"colab-df-convert\" onclick=\"convertToInteractive('df-bdd8e31d-e886-4b3c-8189-9f3ff322c8c6')\"\n",
              "              title=\"Convert this dataframe to an interactive table.\"\n",
              "              style=\"display:none;\">\n",
              "        \n",
              "  <svg xmlns=\"http://www.w3.org/2000/svg\" height=\"24px\"viewBox=\"0 0 24 24\"\n",
              "       width=\"24px\">\n",
              "    <path d=\"M0 0h24v24H0V0z\" fill=\"none\"/>\n",
              "    <path d=\"M18.56 5.44l.94 2.06.94-2.06 2.06-.94-2.06-.94-.94-2.06-.94 2.06-2.06.94zm-11 1L8.5 8.5l.94-2.06 2.06-.94-2.06-.94L8.5 2.5l-.94 2.06-2.06.94zm10 10l.94 2.06.94-2.06 2.06-.94-2.06-.94-.94-2.06-.94 2.06-2.06.94z\"/><path d=\"M17.41 7.96l-1.37-1.37c-.4-.4-.92-.59-1.43-.59-.52 0-1.04.2-1.43.59L10.3 9.45l-7.72 7.72c-.78.78-.78 2.05 0 2.83L4 21.41c.39.39.9.59 1.41.59.51 0 1.02-.2 1.41-.59l7.78-7.78 2.81-2.81c.8-.78.8-2.07 0-2.86zM5.41 20L4 18.59l7.72-7.72 1.47 1.35L5.41 20z\"/>\n",
              "  </svg>\n",
              "      </button>\n",
              "      \n",
              "  <style>\n",
              "    .colab-df-container {\n",
              "      display:flex;\n",
              "      flex-wrap:wrap;\n",
              "      gap: 12px;\n",
              "    }\n",
              "\n",
              "    .colab-df-convert {\n",
              "      background-color: #E8F0FE;\n",
              "      border: none;\n",
              "      border-radius: 50%;\n",
              "      cursor: pointer;\n",
              "      display: none;\n",
              "      fill: #1967D2;\n",
              "      height: 32px;\n",
              "      padding: 0 0 0 0;\n",
              "      width: 32px;\n",
              "    }\n",
              "\n",
              "    .colab-df-convert:hover {\n",
              "      background-color: #E2EBFA;\n",
              "      box-shadow: 0px 1px 2px rgba(60, 64, 67, 0.3), 0px 1px 3px 1px rgba(60, 64, 67, 0.15);\n",
              "      fill: #174EA6;\n",
              "    }\n",
              "\n",
              "    [theme=dark] .colab-df-convert {\n",
              "      background-color: #3B4455;\n",
              "      fill: #D2E3FC;\n",
              "    }\n",
              "\n",
              "    [theme=dark] .colab-df-convert:hover {\n",
              "      background-color: #434B5C;\n",
              "      box-shadow: 0px 1px 3px 1px rgba(0, 0, 0, 0.15);\n",
              "      filter: drop-shadow(0px 1px 2px rgba(0, 0, 0, 0.3));\n",
              "      fill: #FFFFFF;\n",
              "    }\n",
              "  </style>\n",
              "\n",
              "      <script>\n",
              "        const buttonEl =\n",
              "          document.querySelector('#df-bdd8e31d-e886-4b3c-8189-9f3ff322c8c6 button.colab-df-convert');\n",
              "        buttonEl.style.display =\n",
              "          google.colab.kernel.accessAllowed ? 'block' : 'none';\n",
              "\n",
              "        async function convertToInteractive(key) {\n",
              "          const element = document.querySelector('#df-bdd8e31d-e886-4b3c-8189-9f3ff322c8c6');\n",
              "          const dataTable =\n",
              "            await google.colab.kernel.invokeFunction('convertToInteractive',\n",
              "                                                     [key], {});\n",
              "          if (!dataTable) return;\n",
              "\n",
              "          const docLinkHtml = 'Like what you see? Visit the ' +\n",
              "            '<a target=\"_blank\" href=https://colab.research.google.com/notebooks/data_table.ipynb>data table notebook</a>'\n",
              "            + ' to learn more about interactive tables.';\n",
              "          element.innerHTML = '';\n",
              "          dataTable['output_type'] = 'display_data';\n",
              "          await google.colab.output.renderOutput(dataTable, element);\n",
              "          const docLink = document.createElement('div');\n",
              "          docLink.innerHTML = docLinkHtml;\n",
              "          element.appendChild(docLink);\n",
              "        }\n",
              "      </script>\n",
              "    </div>\n",
              "  </div>\n",
              "  "
            ]
          },
          "metadata": {},
          "execution_count": 115
        }
      ]
    },
    {
      "cell_type": "markdown",
      "source": [
        "Using pandas, it is very easy to filter our data and get whatever we may desire. For instance, let's get all images that have \"kitchen\" as a tag:"
      ],
      "metadata": {
        "id": "vM9k1u87pXc2"
      }
    },
    {
      "cell_type": "code",
      "source": [
        "search = 'kitchen'\n",
        "filtering = [(search in tags) for tags in data.image_tags]"
      ],
      "metadata": {
        "id": "EgRE0Omip6Ei"
      },
      "execution_count": 119,
      "outputs": []
    },
    {
      "cell_type": "code",
      "source": [
        "data[filtering]"
      ],
      "metadata": {
        "colab": {
          "base_uri": "https://localhost:8080/",
          "height": 219
        },
        "id": "A3KdOw-3qLiT",
        "outputId": "bd28a3d1-f79e-4e23-9401-5f2a43e418ae"
      },
      "execution_count": 120,
      "outputs": [
        {
          "output_type": "execute_result",
          "data": {
            "text/plain": [
              "               user                                               text  \\\n",
              "40         otaviano  RT @AcervoFlaviano: Os mimos que o Mundial for...   \n",
              "41  affectionflavia  RT @AcervoFlaviano: Os mimos que o Mundial for...   \n",
              "42    lovepublicfla  RT @AcervoFlaviano: Os mimos que o Mundial for...   \n",
              "43   AcervoFlaviano  Os mimos que o Mundial fornece com esses dois ...   \n",
              "\n",
              "                                         image_url  \\\n",
              "40  http://pbs.twimg.com/media/FZPJo45X0AMRn5j.jpg   \n",
              "41  http://pbs.twimg.com/media/FZPJo45X0AMRn5j.jpg   \n",
              "42  http://pbs.twimg.com/media/FZPJo45X0AMRn5j.jpg   \n",
              "43  http://pbs.twimg.com/media/FZPJo45X0AMRn5j.jpg   \n",
              "\n",
              "                         image_description  \\\n",
              "40  a man and a woman cooking in a kitchen   \n",
              "41  a man and a woman cooking in a kitchen   \n",
              "42  a man and a woman cooking in a kitchen   \n",
              "43  a man and a woman cooking in a kitchen   \n",
              "\n",
              "                                           image_tags  \n",
              "40  [person, indoor, clothing, kitchen, countertop...  \n",
              "41  [person, indoor, clothing, kitchen, countertop...  \n",
              "42  [person, indoor, clothing, kitchen, countertop...  \n",
              "43  [person, indoor, clothing, kitchen, countertop...  "
            ],
            "text/html": [
              "\n",
              "  <div id=\"df-411e35f7-5dea-49d0-9ca3-44175b6d8dfc\">\n",
              "    <div class=\"colab-df-container\">\n",
              "      <div>\n",
              "<style scoped>\n",
              "    .dataframe tbody tr th:only-of-type {\n",
              "        vertical-align: middle;\n",
              "    }\n",
              "\n",
              "    .dataframe tbody tr th {\n",
              "        vertical-align: top;\n",
              "    }\n",
              "\n",
              "    .dataframe thead th {\n",
              "        text-align: right;\n",
              "    }\n",
              "</style>\n",
              "<table border=\"1\" class=\"dataframe\">\n",
              "  <thead>\n",
              "    <tr style=\"text-align: right;\">\n",
              "      <th></th>\n",
              "      <th>user</th>\n",
              "      <th>text</th>\n",
              "      <th>image_url</th>\n",
              "      <th>image_description</th>\n",
              "      <th>image_tags</th>\n",
              "    </tr>\n",
              "  </thead>\n",
              "  <tbody>\n",
              "    <tr>\n",
              "      <th>40</th>\n",
              "      <td>otaviano</td>\n",
              "      <td>RT @AcervoFlaviano: Os mimos que o Mundial for...</td>\n",
              "      <td>http://pbs.twimg.com/media/FZPJo45X0AMRn5j.jpg</td>\n",
              "      <td>a man and a woman cooking in a kitchen</td>\n",
              "      <td>[person, indoor, clothing, kitchen, countertop...</td>\n",
              "    </tr>\n",
              "    <tr>\n",
              "      <th>41</th>\n",
              "      <td>affectionflavia</td>\n",
              "      <td>RT @AcervoFlaviano: Os mimos que o Mundial for...</td>\n",
              "      <td>http://pbs.twimg.com/media/FZPJo45X0AMRn5j.jpg</td>\n",
              "      <td>a man and a woman cooking in a kitchen</td>\n",
              "      <td>[person, indoor, clothing, kitchen, countertop...</td>\n",
              "    </tr>\n",
              "    <tr>\n",
              "      <th>42</th>\n",
              "      <td>lovepublicfla</td>\n",
              "      <td>RT @AcervoFlaviano: Os mimos que o Mundial for...</td>\n",
              "      <td>http://pbs.twimg.com/media/FZPJo45X0AMRn5j.jpg</td>\n",
              "      <td>a man and a woman cooking in a kitchen</td>\n",
              "      <td>[person, indoor, clothing, kitchen, countertop...</td>\n",
              "    </tr>\n",
              "    <tr>\n",
              "      <th>43</th>\n",
              "      <td>AcervoFlaviano</td>\n",
              "      <td>Os mimos que o Mundial fornece com esses dois ...</td>\n",
              "      <td>http://pbs.twimg.com/media/FZPJo45X0AMRn5j.jpg</td>\n",
              "      <td>a man and a woman cooking in a kitchen</td>\n",
              "      <td>[person, indoor, clothing, kitchen, countertop...</td>\n",
              "    </tr>\n",
              "  </tbody>\n",
              "</table>\n",
              "</div>\n",
              "      <button class=\"colab-df-convert\" onclick=\"convertToInteractive('df-411e35f7-5dea-49d0-9ca3-44175b6d8dfc')\"\n",
              "              title=\"Convert this dataframe to an interactive table.\"\n",
              "              style=\"display:none;\">\n",
              "        \n",
              "  <svg xmlns=\"http://www.w3.org/2000/svg\" height=\"24px\"viewBox=\"0 0 24 24\"\n",
              "       width=\"24px\">\n",
              "    <path d=\"M0 0h24v24H0V0z\" fill=\"none\"/>\n",
              "    <path d=\"M18.56 5.44l.94 2.06.94-2.06 2.06-.94-2.06-.94-.94-2.06-.94 2.06-2.06.94zm-11 1L8.5 8.5l.94-2.06 2.06-.94-2.06-.94L8.5 2.5l-.94 2.06-2.06.94zm10 10l.94 2.06.94-2.06 2.06-.94-2.06-.94-.94-2.06-.94 2.06-2.06.94z\"/><path d=\"M17.41 7.96l-1.37-1.37c-.4-.4-.92-.59-1.43-.59-.52 0-1.04.2-1.43.59L10.3 9.45l-7.72 7.72c-.78.78-.78 2.05 0 2.83L4 21.41c.39.39.9.59 1.41.59.51 0 1.02-.2 1.41-.59l7.78-7.78 2.81-2.81c.8-.78.8-2.07 0-2.86zM5.41 20L4 18.59l7.72-7.72 1.47 1.35L5.41 20z\"/>\n",
              "  </svg>\n",
              "      </button>\n",
              "      \n",
              "  <style>\n",
              "    .colab-df-container {\n",
              "      display:flex;\n",
              "      flex-wrap:wrap;\n",
              "      gap: 12px;\n",
              "    }\n",
              "\n",
              "    .colab-df-convert {\n",
              "      background-color: #E8F0FE;\n",
              "      border: none;\n",
              "      border-radius: 50%;\n",
              "      cursor: pointer;\n",
              "      display: none;\n",
              "      fill: #1967D2;\n",
              "      height: 32px;\n",
              "      padding: 0 0 0 0;\n",
              "      width: 32px;\n",
              "    }\n",
              "\n",
              "    .colab-df-convert:hover {\n",
              "      background-color: #E2EBFA;\n",
              "      box-shadow: 0px 1px 2px rgba(60, 64, 67, 0.3), 0px 1px 3px 1px rgba(60, 64, 67, 0.15);\n",
              "      fill: #174EA6;\n",
              "    }\n",
              "\n",
              "    [theme=dark] .colab-df-convert {\n",
              "      background-color: #3B4455;\n",
              "      fill: #D2E3FC;\n",
              "    }\n",
              "\n",
              "    [theme=dark] .colab-df-convert:hover {\n",
              "      background-color: #434B5C;\n",
              "      box-shadow: 0px 1px 3px 1px rgba(0, 0, 0, 0.15);\n",
              "      filter: drop-shadow(0px 1px 2px rgba(0, 0, 0, 0.3));\n",
              "      fill: #FFFFFF;\n",
              "    }\n",
              "  </style>\n",
              "\n",
              "      <script>\n",
              "        const buttonEl =\n",
              "          document.querySelector('#df-411e35f7-5dea-49d0-9ca3-44175b6d8dfc button.colab-df-convert');\n",
              "        buttonEl.style.display =\n",
              "          google.colab.kernel.accessAllowed ? 'block' : 'none';\n",
              "\n",
              "        async function convertToInteractive(key) {\n",
              "          const element = document.querySelector('#df-411e35f7-5dea-49d0-9ca3-44175b6d8dfc');\n",
              "          const dataTable =\n",
              "            await google.colab.kernel.invokeFunction('convertToInteractive',\n",
              "                                                     [key], {});\n",
              "          if (!dataTable) return;\n",
              "\n",
              "          const docLinkHtml = 'Like what you see? Visit the ' +\n",
              "            '<a target=\"_blank\" href=https://colab.research.google.com/notebooks/data_table.ipynb>data table notebook</a>'\n",
              "            + ' to learn more about interactive tables.';\n",
              "          element.innerHTML = '';\n",
              "          dataTable['output_type'] = 'display_data';\n",
              "          await google.colab.output.renderOutput(dataTable, element);\n",
              "          const docLink = document.createElement('div');\n",
              "          docLink.innerHTML = docLinkHtml;\n",
              "          element.appendChild(docLink);\n",
              "        }\n",
              "      </script>\n",
              "    </div>\n",
              "  </div>\n",
              "  "
            ]
          },
          "metadata": {},
          "execution_count": 120
        }
      ]
    },
    {
      "cell_type": "markdown",
      "source": [
        "So, we have found four images, these being:"
      ],
      "metadata": {
        "id": "cvs9i6j1qNlg"
      }
    },
    {
      "cell_type": "code",
      "source": [
        "data.loc[filtering, 'image_url']"
      ],
      "metadata": {
        "colab": {
          "base_uri": "https://localhost:8080/"
        },
        "id": "PTWKcq7-qMo1",
        "outputId": "9794732a-686b-44b3-d465-0759264d07b8"
      },
      "execution_count": 121,
      "outputs": [
        {
          "output_type": "execute_result",
          "data": {
            "text/plain": [
              "40    http://pbs.twimg.com/media/FZPJo45X0AMRn5j.jpg\n",
              "41    http://pbs.twimg.com/media/FZPJo45X0AMRn5j.jpg\n",
              "42    http://pbs.twimg.com/media/FZPJo45X0AMRn5j.jpg\n",
              "43    http://pbs.twimg.com/media/FZPJo45X0AMRn5j.jpg\n",
              "Name: image_url, dtype: object"
            ]
          },
          "metadata": {},
          "execution_count": 121
        }
      ]
    },
    {
      "cell_type": "markdown",
      "source": [
        "Note that these are actually the same image, which is the same as the one we analyzed previously. Nice!"
      ],
      "metadata": {
        "id": "9fmn-4bJqXCO"
      }
    }
  ]
}