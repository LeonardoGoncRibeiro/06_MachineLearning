{
  "nbformat": 4,
  "nbformat_minor": 0,
  "metadata": {
    "colab": {
      "name": "01_DeepLearning_Keras.ipynb",
      "provenance": [],
      "collapsed_sections": [],
      "authorship_tag": "ABX9TyPB4KETKbgyu8ZCAB8i1LGt",
      "include_colab_link": true
    },
    "kernelspec": {
      "name": "python3",
      "display_name": "Python 3"
    },
    "language_info": {
      "name": "python"
    }
  },
  "cells": [
    {
      "cell_type": "markdown",
      "metadata": {
        "id": "view-in-github",
        "colab_type": "text"
      },
      "source": [
        "<a href=\"https://colab.research.google.com/github/LeonardoGoncRibeiro/06_MachineLearning/blob/main/02_Advanced/01_DeepLearning_Keras.ipynb\" target=\"_parent\"><img src=\"https://colab.research.google.com/assets/colab-badge.svg\" alt=\"Open In Colab\"/></a>"
      ]
    },
    {
      "cell_type": "markdown",
      "source": [
        "# Introduction to Deep Learning with Keras\n",
        "\n",
        "In this course, we will start to understand what is Deep Learning and why this is a very popular topic of study. For this end, we will use Keras and Tensorflow, which are very popular Python libraries for building Artificial Neural Networks (ANNs) and Deep Neural Networks (DNNs). \n",
        "\n",
        "In this course, we will use the following packages:"
      ],
      "metadata": {
        "id": "3mPRY40O3WoB"
      }
    },
    {
      "cell_type": "code",
      "execution_count": 78,
      "metadata": {
        "id": "OQG-hx0W3UZd"
      },
      "outputs": [],
      "source": [
        "import tensorflow\n",
        "from tensorflow import keras\n",
        "\n",
        "import matplotlib.pyplot as plt\n",
        "import numpy as np"
      ]
    },
    {
      "cell_type": "markdown",
      "source": [
        "## Dataset"
      ],
      "metadata": {
        "id": "8_kjT7bu9QuK"
      }
    },
    {
      "cell_type": "markdown",
      "source": [
        "In this course, we will work with some very popular datasets, and we will start delving into image recognition. Let's start by importing our dataset:"
      ],
      "metadata": {
        "id": "84wqMw9y756H"
      }
    },
    {
      "cell_type": "code",
      "source": [
        "dataset = keras.datasets.fashion_mnist\n",
        "\n",
        "((X_train, y_train), (X_test, y_test)) = dataset.load_data( )"
      ],
      "metadata": {
        "id": "TfnGwNgf75TR"
      },
      "execution_count": 37,
      "outputs": []
    },
    {
      "cell_type": "markdown",
      "source": [
        "In this dataset, we have 60000 images in the training set, and 10000 in the test set:"
      ],
      "metadata": {
        "id": "ldC0vWIW-dxI"
      }
    },
    {
      "cell_type": "code",
      "source": [
        "len(X_train)"
      ],
      "metadata": {
        "colab": {
          "base_uri": "https://localhost:8080/"
        },
        "id": "EjyrDIt7-mvn",
        "outputId": "d064e06c-2fcc-4f15-c619-6af723874df0"
      },
      "execution_count": 38,
      "outputs": [
        {
          "output_type": "execute_result",
          "data": {
            "text/plain": [
              "60000"
            ]
          },
          "metadata": {},
          "execution_count": 38
        }
      ]
    },
    {
      "cell_type": "code",
      "source": [
        "len(X_test)"
      ],
      "metadata": {
        "colab": {
          "base_uri": "https://localhost:8080/"
        },
        "id": "6i8OKk1f-oC3",
        "outputId": "43b35629-d66d-4998-9da8-48847c31875b"
      },
      "execution_count": 39,
      "outputs": [
        {
          "output_type": "execute_result",
          "data": {
            "text/plain": [
              "10000"
            ]
          },
          "metadata": {},
          "execution_count": 39
        }
      ]
    },
    {
      "cell_type": "markdown",
      "source": [
        "And how is this data structured? Let's get the shape of our training set:"
      ],
      "metadata": {
        "id": "xCCvxu_N-r93"
      }
    },
    {
      "cell_type": "code",
      "source": [
        "X_train.shape"
      ],
      "metadata": {
        "colab": {
          "base_uri": "https://localhost:8080/"
        },
        "id": "OaD4juYt-znQ",
        "outputId": "a3cecbc6-9cb1-48d5-d9fe-c3031e641a11"
      },
      "execution_count": 40,
      "outputs": [
        {
          "output_type": "execute_result",
          "data": {
            "text/plain": [
              "(60000, 28, 28)"
            ]
          },
          "metadata": {},
          "execution_count": 40
        }
      ]
    },
    {
      "cell_type": "markdown",
      "source": [
        "So, this is telling us that we have 60000 images (as we have already identified), and each of our images are defined by a $28 \\times 28$ matrix. Let's see one of those matrices:"
      ],
      "metadata": {
        "id": "v41CuJtG-1Hv"
      }
    },
    {
      "cell_type": "code",
      "source": [
        "X_train[0]"
      ],
      "metadata": {
        "colab": {
          "base_uri": "https://localhost:8080/"
        },
        "id": "dwALC4Gh_A04",
        "outputId": "fa5df17e-ebff-41c6-ae45-1371566ab6a6"
      },
      "execution_count": 41,
      "outputs": [
        {
          "output_type": "execute_result",
          "data": {
            "text/plain": [
              "array([[  0,   0,   0,   0,   0,   0,   0,   0,   0,   0,   0,   0,   0,\n",
              "          0,   0,   0,   0,   0,   0,   0,   0,   0,   0,   0,   0,   0,\n",
              "          0,   0],\n",
              "       [  0,   0,   0,   0,   0,   0,   0,   0,   0,   0,   0,   0,   0,\n",
              "          0,   0,   0,   0,   0,   0,   0,   0,   0,   0,   0,   0,   0,\n",
              "          0,   0],\n",
              "       [  0,   0,   0,   0,   0,   0,   0,   0,   0,   0,   0,   0,   0,\n",
              "          0,   0,   0,   0,   0,   0,   0,   0,   0,   0,   0,   0,   0,\n",
              "          0,   0],\n",
              "       [  0,   0,   0,   0,   0,   0,   0,   0,   0,   0,   0,   0,   1,\n",
              "          0,   0,  13,  73,   0,   0,   1,   4,   0,   0,   0,   0,   1,\n",
              "          1,   0],\n",
              "       [  0,   0,   0,   0,   0,   0,   0,   0,   0,   0,   0,   0,   3,\n",
              "          0,  36, 136, 127,  62,  54,   0,   0,   0,   1,   3,   4,   0,\n",
              "          0,   3],\n",
              "       [  0,   0,   0,   0,   0,   0,   0,   0,   0,   0,   0,   0,   6,\n",
              "          0, 102, 204, 176, 134, 144, 123,  23,   0,   0,   0,   0,  12,\n",
              "         10,   0],\n",
              "       [  0,   0,   0,   0,   0,   0,   0,   0,   0,   0,   0,   0,   0,\n",
              "          0, 155, 236, 207, 178, 107, 156, 161, 109,  64,  23,  77, 130,\n",
              "         72,  15],\n",
              "       [  0,   0,   0,   0,   0,   0,   0,   0,   0,   0,   0,   1,   0,\n",
              "         69, 207, 223, 218, 216, 216, 163, 127, 121, 122, 146, 141,  88,\n",
              "        172,  66],\n",
              "       [  0,   0,   0,   0,   0,   0,   0,   0,   0,   1,   1,   1,   0,\n",
              "        200, 232, 232, 233, 229, 223, 223, 215, 213, 164, 127, 123, 196,\n",
              "        229,   0],\n",
              "       [  0,   0,   0,   0,   0,   0,   0,   0,   0,   0,   0,   0,   0,\n",
              "        183, 225, 216, 223, 228, 235, 227, 224, 222, 224, 221, 223, 245,\n",
              "        173,   0],\n",
              "       [  0,   0,   0,   0,   0,   0,   0,   0,   0,   0,   0,   0,   0,\n",
              "        193, 228, 218, 213, 198, 180, 212, 210, 211, 213, 223, 220, 243,\n",
              "        202,   0],\n",
              "       [  0,   0,   0,   0,   0,   0,   0,   0,   0,   1,   3,   0,  12,\n",
              "        219, 220, 212, 218, 192, 169, 227, 208, 218, 224, 212, 226, 197,\n",
              "        209,  52],\n",
              "       [  0,   0,   0,   0,   0,   0,   0,   0,   0,   0,   6,   0,  99,\n",
              "        244, 222, 220, 218, 203, 198, 221, 215, 213, 222, 220, 245, 119,\n",
              "        167,  56],\n",
              "       [  0,   0,   0,   0,   0,   0,   0,   0,   0,   4,   0,   0,  55,\n",
              "        236, 228, 230, 228, 240, 232, 213, 218, 223, 234, 217, 217, 209,\n",
              "         92,   0],\n",
              "       [  0,   0,   1,   4,   6,   7,   2,   0,   0,   0,   0,   0, 237,\n",
              "        226, 217, 223, 222, 219, 222, 221, 216, 223, 229, 215, 218, 255,\n",
              "         77,   0],\n",
              "       [  0,   3,   0,   0,   0,   0,   0,   0,   0,  62, 145, 204, 228,\n",
              "        207, 213, 221, 218, 208, 211, 218, 224, 223, 219, 215, 224, 244,\n",
              "        159,   0],\n",
              "       [  0,   0,   0,   0,  18,  44,  82, 107, 189, 228, 220, 222, 217,\n",
              "        226, 200, 205, 211, 230, 224, 234, 176, 188, 250, 248, 233, 238,\n",
              "        215,   0],\n",
              "       [  0,  57, 187, 208, 224, 221, 224, 208, 204, 214, 208, 209, 200,\n",
              "        159, 245, 193, 206, 223, 255, 255, 221, 234, 221, 211, 220, 232,\n",
              "        246,   0],\n",
              "       [  3, 202, 228, 224, 221, 211, 211, 214, 205, 205, 205, 220, 240,\n",
              "         80, 150, 255, 229, 221, 188, 154, 191, 210, 204, 209, 222, 228,\n",
              "        225,   0],\n",
              "       [ 98, 233, 198, 210, 222, 229, 229, 234, 249, 220, 194, 215, 217,\n",
              "        241,  65,  73, 106, 117, 168, 219, 221, 215, 217, 223, 223, 224,\n",
              "        229,  29],\n",
              "       [ 75, 204, 212, 204, 193, 205, 211, 225, 216, 185, 197, 206, 198,\n",
              "        213, 240, 195, 227, 245, 239, 223, 218, 212, 209, 222, 220, 221,\n",
              "        230,  67],\n",
              "       [ 48, 203, 183, 194, 213, 197, 185, 190, 194, 192, 202, 214, 219,\n",
              "        221, 220, 236, 225, 216, 199, 206, 186, 181, 177, 172, 181, 205,\n",
              "        206, 115],\n",
              "       [  0, 122, 219, 193, 179, 171, 183, 196, 204, 210, 213, 207, 211,\n",
              "        210, 200, 196, 194, 191, 195, 191, 198, 192, 176, 156, 167, 177,\n",
              "        210,  92],\n",
              "       [  0,   0,  74, 189, 212, 191, 175, 172, 175, 181, 185, 188, 189,\n",
              "        188, 193, 198, 204, 209, 210, 210, 211, 188, 188, 194, 192, 216,\n",
              "        170,   0],\n",
              "       [  2,   0,   0,   0,  66, 200, 222, 237, 239, 242, 246, 243, 244,\n",
              "        221, 220, 193, 191, 179, 182, 182, 181, 176, 166, 168,  99,  58,\n",
              "          0,   0],\n",
              "       [  0,   0,   0,   0,   0,   0,   0,  40,  61,  44,  72,  41,  35,\n",
              "          0,   0,   0,   0,   0,   0,   0,   0,   0,   0,   0,   0,   0,\n",
              "          0,   0],\n",
              "       [  0,   0,   0,   0,   0,   0,   0,   0,   0,   0,   0,   0,   0,\n",
              "          0,   0,   0,   0,   0,   0,   0,   0,   0,   0,   0,   0,   0,\n",
              "          0,   0],\n",
              "       [  0,   0,   0,   0,   0,   0,   0,   0,   0,   0,   0,   0,   0,\n",
              "          0,   0,   0,   0,   0,   0,   0,   0,   0,   0,   0,   0,   0,\n",
              "          0,   0]], dtype=uint8)"
            ]
          },
          "metadata": {},
          "execution_count": 41
        }
      ]
    },
    {
      "cell_type": "markdown",
      "source": [
        "So, actually, we have a numeric matrix. To see the image from our dataset, we can do:"
      ],
      "metadata": {
        "id": "qEtv96dZ_Fjq"
      }
    },
    {
      "cell_type": "code",
      "source": [
        "plt.imshow(X_train[0])"
      ],
      "metadata": {
        "colab": {
          "base_uri": "https://localhost:8080/",
          "height": 282
        },
        "id": "cX-6_weh9cVp",
        "outputId": "f2366deb-3952-4ebc-924e-f0e1dd0758d9"
      },
      "execution_count": 42,
      "outputs": [
        {
          "output_type": "execute_result",
          "data": {
            "text/plain": [
              "<matplotlib.image.AxesImage at 0x7f0ad105e310>"
            ]
          },
          "metadata": {},
          "execution_count": 42
        },
        {
          "output_type": "display_data",
          "data": {
            "text/plain": [
              "<Figure size 432x288 with 1 Axes>"
            ],
            "image/png": "[encoded data removed]"
          },
          "metadata": {
            "needs_background": "light"
          }
        }
      ]
    },
    {
      "cell_type": "markdown",
      "source": [
        "Nice! Finally, we are able to see our first image, which looks like a boot. Also, we have 28 pixels in each axis. Let's see the target label for this image:"
      ],
      "metadata": {
        "id": "DG07EtOUA9uR"
      }
    },
    {
      "cell_type": "code",
      "source": [
        "y_train[0]"
      ],
      "metadata": {
        "colab": {
          "base_uri": "https://localhost:8080/"
        },
        "id": "gzuzeN4EVpBU",
        "outputId": "71178807-0f49-4b7d-b334-de31f62d39cb"
      },
      "execution_count": 43,
      "outputs": [
        {
          "output_type": "execute_result",
          "data": {
            "text/plain": [
              "9"
            ]
          },
          "metadata": {},
          "execution_count": 43
        }
      ]
    },
    {
      "cell_type": "markdown",
      "source": [
        "Note that, actually, we have a number as our target. Most likely, there is relation between this number and the label for the target. In fact, if we search a little on the internet, we can find that this relation is:\n",
        "\n",
        "* 0 T-shirt/top\n",
        "* 1 Trouser\n",
        "* 2 Pullover\n",
        "* 3 Dress\n",
        "* 4 Coat\n",
        "* 5 Sandal\n",
        "* 6 Shirt\n",
        "* 7 Sneaker\n",
        "* 8 Bag\n",
        "* 9 Ankle boot\n",
        "\n",
        "Thus, our first image as an Ankle boot! Let's test one more image:"
      ],
      "metadata": {
        "id": "1bmsfWz8Vr-s"
      }
    },
    {
      "cell_type": "code",
      "source": [
        "plt.imshow(X_train[1])"
      ],
      "metadata": {
        "colab": {
          "base_uri": "https://localhost:8080/",
          "height": 282
        },
        "id": "55HZ9FzGWpmj",
        "outputId": "a2b0dc80-9354-42d7-f76f-176643d7cfa6"
      },
      "execution_count": 44,
      "outputs": [
        {
          "output_type": "execute_result",
          "data": {
            "text/plain": [
              "<matplotlib.image.AxesImage at 0x7f0ad0fc40d0>"
            ]
          },
          "metadata": {},
          "execution_count": 44
        },
        {
          "output_type": "display_data",
          "data": {
            "text/plain": [
              "<Figure size 432x288 with 1 Axes>"
            ],
            "image/png": "[encoded data removed]"
          },
          "metadata": {
            "needs_background": "light"
          }
        }
      ]
    },
    {
      "cell_type": "markdown",
      "source": [
        "This looks like a T-shirt, which has a target label 0. If we check:"
      ],
      "metadata": {
        "id": "8uiQYDq2Wsbk"
      }
    },
    {
      "cell_type": "code",
      "source": [
        "y_train[1]"
      ],
      "metadata": {
        "colab": {
          "base_uri": "https://localhost:8080/"
        },
        "id": "xfKL-7WxWzXz",
        "outputId": "f4a17d7f-4a13-40d6-9118-33eb1656fc5b"
      },
      "execution_count": 45,
      "outputs": [
        {
          "output_type": "execute_result",
          "data": {
            "text/plain": [
              "0"
            ]
          },
          "metadata": {},
          "execution_count": 45
        }
      ]
    },
    {
      "cell_type": "markdown",
      "source": [
        "Indeed, we have the correct target label!\n",
        "\n",
        "Before jumping to the next topic, let's create a dictionary to map the target labels to their respective meaning:"
      ],
      "metadata": {
        "id": "MW9juobZW4Dc"
      }
    },
    {
      "cell_type": "code",
      "source": [
        "target_map = {0 : 'T-shirt/top', 1 : 'Trouser', 2 : 'Pullouver', 3 : 'Dress', 4 : 'Coat', \n",
        "              5 : 'Sandal', 6 : 'Shirt', 7 : 'Sneaker', 8 : 'Bag', 9 : 'Ankle boot'}"
      ],
      "metadata": {
        "id": "1UnkO44pXXbz"
      },
      "execution_count": 46,
      "outputs": []
    },
    {
      "cell_type": "markdown",
      "source": [
        "Now, let's try to plot the first 10 images from our dataset, using their classification as the title:"
      ],
      "metadata": {
        "id": "k-n2kbwSYA8l"
      }
    },
    {
      "cell_type": "code",
      "source": [
        "for image in range(10):\n",
        "  plt.subplot(2, 5, image + 1)\n",
        "  plt.imshow(X_train[image])\n",
        "  plt.title(target_map[y_train[image]])"
      ],
      "metadata": {
        "id": "6kj0wZS58aTE",
        "colab": {
          "base_uri": "https://localhost:8080/",
          "height": 240
        },
        "outputId": "8f8d5556-478b-4514-a393-763b0b4b4113"
      },
      "execution_count": 47,
      "outputs": [
        {
          "output_type": "display_data",
          "data": {
            "text/plain": [
              "<Figure size 432x288 with 10 Axes>"
            ],
            "image/png": "[encoded data removed]"
          },
          "metadata": {
            "needs_background": "light"
          }
        }
      ]
    },
    {
      "cell_type": "markdown",
      "source": [
        "Nice! It seems that everything is correct."
      ],
      "metadata": {
        "id": "Y_A4Yc9bYZ9s"
      }
    },
    {
      "cell_type": "markdown",
      "source": [
        "# Starting to build our Neural Network\n",
        "\n",
        "Finally, let's start to build our Neural Network. \n",
        "\n",
        "A Neural Network is usually made of multiple layers, each having multiple neurons. \n",
        "\n",
        "The first layer will receive the input of our model. The intermediate labels are the hidden labels, and store the processing of our model. Finally, in the final label, we have the output of our model. This simple Neural Network is denominated as Sequential.\n",
        "\n",
        "This way, the first label needs to receive the inputs of our model. Note that our images are represented by $28 \\times 28$ matrices. Thus, our input layer should be able to receive each pixel from our image, and pass those to the following layers. Since we have a $28 \\times 28$ matrix, we have 784 pixels in our figure. Thus, our input layer should have 784 neurons."
      ],
      "metadata": {
        "id": "YKKlUrTdYj4t"
      }
    },
    {
      "cell_type": "code",
      "source": [
        "input_layer = keras.layers.Flatten(input_shape = (28, 28))"
      ],
      "metadata": {
        "id": "xhDn3NL0YXZt"
      },
      "execution_count": 48,
      "outputs": []
    },
    {
      "cell_type": "markdown",
      "source": [
        "Note that, here, we used the ```Flatten( )``` method to get the neurons from the first layer (transformed from a matrix to a vector). "
      ],
      "metadata": {
        "id": "DhETfdBKaSAc"
      }
    },
    {
      "cell_type": "markdown",
      "source": [
        "## Creating our first hidden layer\n",
        "\n",
        "So, we have created our first hidden layer, which should have a fixed number of neurons, which depends on the input dimension. \n",
        "\n",
        "Next, we can start creating the hidden layers. We can use as many hidden layers as we want, and each hidden layer can have as many neurons as we want. The more layers and the more neurons we create, the more \"freedom\" we are giving to our model, and the more likely it is that the model will overfit to our training dataset. \n",
        "\n",
        "There are different types of hidden layers. Here, we will create a Dense layer, where all neurons from the previous layer are connected to all neurons on the current layer. \n",
        "\n",
        "The hidden layer applies a transformation to the values received from the previous layers. This transformation depends on the activation function used. The most popular activation function is the Relu funcion, which will be used here. More on this activation function can be found in:\n",
        "\n",
        "https://machinelearningmastery.com/rectified-linear-activation-function-for-deep-learning-neural-networks/\n",
        "\n",
        "Finally, to create our dense layer, we may simply do:"
      ],
      "metadata": {
        "id": "tDrnyw6uD2qa"
      }
    },
    {
      "cell_type": "code",
      "source": [
        "hidden_layer_1 = keras.layers.Dense(256, activation = tensorflow.nn.relu)"
      ],
      "metadata": {
        "id": "GR2waQXYEZEg"
      },
      "execution_count": 49,
      "outputs": []
    },
    {
      "cell_type": "markdown",
      "source": [
        "## Creating our output layer\n",
        "\n",
        "Ok, we created ou input layer and our hidden layer. Finally, let's create our output layer. Once again, the output layer may be a layer where all neurons are connected to all neurons from the previous layer. Thus, we want to create a Dense layer. \n",
        "\n",
        "However, since we have 10 possible outputs (the 10 possible target labels), our output layer has a fixed size: 10. Also, we should use specific activation functions that allow us to find those target labels. It should be a function which evaluates probabilities: each neuron will have a number between 0 and 1, and their sum is 1. Each number may be understood as the probability that the image corresponds to a given target label. Thus, whichever target label has the highest probability is used to classify the image.\n",
        "\n",
        "To this end, we will use the Softmax function. More on the softmax function can be found in:\n",
        "\n",
        "https://deepai.org/machine-learning-glossary-and-terms/softmax-layer"
      ],
      "metadata": {
        "id": "b4u1W20UHM5R"
      }
    },
    {
      "cell_type": "code",
      "source": [
        "output_layer = keras.layers.Dense(10, activation = tensorflow.nn.softmax)"
      ],
      "metadata": {
        "id": "1DZELNK0GYFl"
      },
      "execution_count": 50,
      "outputs": []
    },
    {
      "cell_type": "markdown",
      "source": [
        "# Linking our layers and creating our first model\n",
        "\n",
        "So, we have created our layers separately. Now, let's join our layers together, and create a model. We may define a Sequential model using:"
      ],
      "metadata": {
        "id": "pzDzqe1TI7WP"
      }
    },
    {
      "cell_type": "code",
      "source": [
        "model = keras.Sequential([\n",
        "                          input_layer,\n",
        "                          hidden_layer_1,\n",
        "                          output_layer\n",
        "])"
      ],
      "metadata": {
        "id": "2Qoz65CmI1IS"
      },
      "execution_count": 51,
      "outputs": []
    },
    {
      "cell_type": "markdown",
      "source": [
        "# Compiling and fitting our model\n",
        "\n",
        "Different from usual models implemented in SKLearn, we need to compile our model before trying to fit it to the data. \n",
        "\n",
        "When we fit our Neural Network, we essentially are finding the optimal activation function parameters to perform our prediction. All parameters start at a random value, and the optimizer will be able to slowly adjust these parameters until the optimal values are found. \n",
        "\n",
        "Thus, when compiling our model, we have to define which will be the optimizer for our model, and which loss function will be used. This loss function is used to evaluate the goodness of fit of each set of parameters. Here, we will use the Adam optimizer, and we will use the cross entropy as the loss function.\n",
        "\n",
        "We can compile our model using:"
      ],
      "metadata": {
        "id": "GFhD449-JiLv"
      }
    },
    {
      "cell_type": "code",
      "source": [
        "model.compile(optimizer = 'adam', loss = 'sparse_categorical_crossentropy')"
      ],
      "metadata": {
        "id": "j2yrT4yZJ6Hx"
      },
      "execution_count": 52,
      "outputs": []
    },
    {
      "cell_type": "markdown",
      "source": [
        "To fit our model, we do:"
      ],
      "metadata": {
        "id": "iK5URvMRJbQR"
      }
    },
    {
      "cell_type": "code",
      "source": [
        "model.fit(X_train, y_train)"
      ],
      "metadata": {
        "colab": {
          "base_uri": "https://localhost:8080/"
        },
        "id": "t8lL1COUJX2r",
        "outputId": "31adf3b4-7537-45f0-cdd5-037c4bd1782f"
      },
      "execution_count": 53,
      "outputs": [
        {
          "output_type": "stream",
          "name": "stdout",
          "text": [
            "1875/1875 [==============================] - 6s 3ms/step - loss: 4.0815\n"
          ]
        },
        {
          "output_type": "execute_result",
          "data": {
            "text/plain": [
              "<keras.callbacks.History at 0x7f0ad8026f90>"
            ]
          },
          "metadata": {},
          "execution_count": 53
        }
      ]
    },
    {
      "cell_type": "markdown",
      "source": [
        "Nice! We have fitted our model using 1 epoch. Here, we got a loss of 4.1198. The lower our loss, the better our model is. Now, let's do some transformations that allow us to improve our model performance. Our data stores information about each of our figures, and each pixel has a number between 1 and 255 (RGB). The first thing we can do is normalize our data, so that our entire design space is between 0 and 1."
      ],
      "metadata": {
        "id": "LcS-UuxKKbo9"
      }
    },
    {
      "cell_type": "code",
      "source": [
        "X_train = X_train/255.0\n",
        "X_test  = X_test/255.0"
      ],
      "metadata": {
        "id": "DaqB5IDRK2hI"
      },
      "execution_count": 54,
      "outputs": []
    },
    {
      "cell_type": "markdown",
      "source": [
        "Now, let's fit our model once again:"
      ],
      "metadata": {
        "id": "lS2ZolcAL0Qf"
      }
    },
    {
      "cell_type": "code",
      "source": [
        "model.fit(X_train, y_train)"
      ],
      "metadata": {
        "colab": {
          "base_uri": "https://localhost:8080/"
        },
        "id": "qx5cGNwGJwzf",
        "outputId": "f9da8d4c-13d9-4d24-b97c-5ee1996c37a7"
      },
      "execution_count": 55,
      "outputs": [
        {
          "output_type": "stream",
          "name": "stdout",
          "text": [
            "1875/1875 [==============================] - 7s 3ms/step - loss: 1.0317\n"
          ]
        },
        {
          "output_type": "execute_result",
          "data": {
            "text/plain": [
              "<keras.callbacks.History at 0x7f0ad80216d0>"
            ]
          },
          "metadata": {},
          "execution_count": 55
        }
      ]
    },
    {
      "cell_type": "markdown",
      "source": [
        "Nice! Our loss reduced! Another thing we can do is add new hidden layers. For instance, we can use:"
      ],
      "metadata": {
        "id": "mOHh2lY2MLHq"
      }
    },
    {
      "cell_type": "code",
      "source": [
        "input_layer    = keras.layers.Flatten(input_shape = (28, 28))\n",
        "hidden_layer_1 = keras.layers.Dense(256, activation = tensorflow.nn.relu)\n",
        "hidden_layer_2 = keras.layers.Dense(128, activation = tensorflow.nn.relu)\n",
        "output_layer   = keras.layers.Dense(10,  activation = tensorflow.nn.softmax)"
      ],
      "metadata": {
        "id": "O7SCulazL2EV"
      },
      "execution_count": 61,
      "outputs": []
    },
    {
      "cell_type": "markdown",
      "source": [
        "Now, let's define our model once again, and compile it:"
      ],
      "metadata": {
        "id": "R6g1LCqiMiHt"
      }
    },
    {
      "cell_type": "code",
      "source": [
        "del model"
      ],
      "metadata": {
        "id": "nbooHZqtO0TY"
      },
      "execution_count": null,
      "outputs": []
    },
    {
      "cell_type": "code",
      "source": [
        "model = keras.Sequential([\n",
        "                          input_layer,\n",
        "                          hidden_layer_1,\n",
        "                          hidden_layer_2,\n",
        "                          output_layer\n",
        "])\n",
        "\n",
        "model.compile(optimizer = 'adam', loss = 'sparse_categorical_crossentropy')"
      ],
      "metadata": {
        "id": "kQc613o1MfgZ"
      },
      "execution_count": 62,
      "outputs": []
    },
    {
      "cell_type": "markdown",
      "source": [
        "Finally, we can fit our model using:"
      ],
      "metadata": {
        "id": "KgAJA47AN3Zp"
      }
    },
    {
      "cell_type": "code",
      "source": [
        "model.fit(X_train, y_train)"
      ],
      "metadata": {
        "colab": {
          "base_uri": "https://localhost:8080/"
        },
        "id": "yBACxpSFMmTd",
        "outputId": "6ed9b18a-da94-471a-e0f2-9a5a325c181c"
      },
      "execution_count": 63,
      "outputs": [
        {
          "output_type": "stream",
          "name": "stdout",
          "text": [
            "1875/1875 [==============================] - 7s 4ms/step - loss: 0.4750\n"
          ]
        },
        {
          "output_type": "execute_result",
          "data": {
            "text/plain": [
              "<keras.callbacks.History at 0x7f0ad0f6a2d0>"
            ]
          },
          "metadata": {},
          "execution_count": 63
        }
      ]
    },
    {
      "cell_type": "markdown",
      "source": [
        "Nice! Again, we were able to reduce our loss! It seems that, by adding new hidden layers, we are improving our model. Let's add a new hidden layer:"
      ],
      "metadata": {
        "id": "t_yl71n5N7lb"
      }
    },
    {
      "cell_type": "code",
      "source": [
        "input_layer    = keras.layers.Flatten(input_shape = (28, 28))\n",
        "hidden_layer_1 = keras.layers.Dense(256, activation = tensorflow.nn.relu)\n",
        "hidden_layer_2 = keras.layers.Dense(128, activation = tensorflow.nn.relu)\n",
        "hidden_layer_3 = keras.layers.Dense(64,  activation = tensorflow.nn.relu)\n",
        "output_layer   = keras.layers.Dense(10,  activation = tensorflow.nn.softmax)\n",
        "\n",
        "del model\n",
        "\n",
        "model = keras.Sequential([\n",
        "                          input_layer,\n",
        "                          hidden_layer_1,\n",
        "                          hidden_layer_2,\n",
        "                          hidden_layer_3,\n",
        "                          output_layer\n",
        "])\n",
        "\n",
        "model.compile(optimizer = 'adam', loss = 'sparse_categorical_crossentropy')\n",
        "\n",
        "model.fit(X_train, y_train)"
      ],
      "metadata": {
        "colab": {
          "base_uri": "https://localhost:8080/"
        },
        "id": "8GvkGlEdN2y3",
        "outputId": "3ec1de49-ba3e-466f-d3a3-c361d8d26380"
      },
      "execution_count": 64,
      "outputs": [
        {
          "output_type": "stream",
          "name": "stdout",
          "text": [
            "1875/1875 [==============================] - 7s 4ms/step - loss: 0.4831\n"
          ]
        },
        {
          "output_type": "execute_result",
          "data": {
            "text/plain": [
              "<keras.callbacks.History at 0x7f0ace826cd0>"
            ]
          },
          "metadata": {},
          "execution_count": 64
        }
      ]
    },
    {
      "cell_type": "markdown",
      "source": [
        "This time, our loss actually increased a little. It seems that our model is becoming too complex, and our optimizer is not being able to fit our model correctly. Thus, let's return to our previous model:"
      ],
      "metadata": {
        "id": "76dQk93XPqGB"
      }
    },
    {
      "cell_type": "code",
      "source": [
        "input_layer    = keras.layers.Flatten(input_shape = (28, 28))\n",
        "hidden_layer_1 = keras.layers.Dense(256, activation = tensorflow.nn.relu)\n",
        "hidden_layer_2 = keras.layers.Dense(128, activation = tensorflow.nn.relu)\n",
        "output_layer   = keras.layers.Dense(10,  activation = tensorflow.nn.softmax)\n",
        "\n",
        "del model\n",
        "\n",
        "model = keras.Sequential([\n",
        "                          input_layer,\n",
        "                          hidden_layer_1,\n",
        "                          hidden_layer_2,\n",
        "                          output_layer\n",
        "])\n",
        "\n",
        "model.compile(optimizer = 'adam', loss = 'sparse_categorical_crossentropy')\n",
        "\n",
        "model.fit(X_train, y_train)"
      ],
      "metadata": {
        "colab": {
          "base_uri": "https://localhost:8080/"
        },
        "id": "dxNxNGPWPnIN",
        "outputId": "5e79efbf-b542-4f61-a9b4-99c115d60fe5"
      },
      "execution_count": 65,
      "outputs": [
        {
          "output_type": "stream",
          "name": "stdout",
          "text": [
            "1875/1875 [==============================] - 8s 4ms/step - loss: 0.4802\n"
          ]
        },
        {
          "output_type": "execute_result",
          "data": {
            "text/plain": [
              "<keras.callbacks.History at 0x7f0ace71e490>"
            ]
          },
          "metadata": {},
          "execution_count": 65
        }
      ]
    },
    {
      "cell_type": "markdown",
      "source": [
        "Note that, currently, we are only using 1 epoch. That means that Neural Network is trying to be fitted only once. However, we can increase the number of epochs to get an even lower loss function. We can do that using:"
      ],
      "metadata": {
        "id": "gey4bggXQls-"
      }
    },
    {
      "cell_type": "code",
      "source": [
        "model.fit(X_train, y_train, epochs = 5)"
      ],
      "metadata": {
        "colab": {
          "base_uri": "https://localhost:8080/"
        },
        "id": "qOQdcoEaQz8v",
        "outputId": "d7dc2474-397b-4379-e987-ed5a13fb558f"
      },
      "execution_count": 66,
      "outputs": [
        {
          "output_type": "stream",
          "name": "stdout",
          "text": [
            "Epoch 1/5\n",
            "1875/1875 [==============================] - 7s 4ms/step - loss: 0.3606\n",
            "Epoch 2/5\n",
            "1875/1875 [==============================] - 7s 4ms/step - loss: 0.3220\n",
            "Epoch 3/5\n",
            "1875/1875 [==============================] - 7s 4ms/step - loss: 0.3014\n",
            "Epoch 4/5\n",
            "1875/1875 [==============================] - 8s 4ms/step - loss: 0.2841\n",
            "Epoch 5/5\n",
            "1875/1875 [==============================] - 8s 4ms/step - loss: 0.2707\n"
          ]
        },
        {
          "output_type": "execute_result",
          "data": {
            "text/plain": [
              "<keras.callbacks.History at 0x7f0acde67690>"
            ]
          },
          "metadata": {},
          "execution_count": 66
        }
      ]
    },
    {
      "cell_type": "markdown",
      "source": [
        "Note that, at each epoch, we are decreasing our loss. However, the more epochs we use, the lower the effect of the next epoch. This means that the effect of new epochs is not increasing very much. \n",
        "\n",
        "Also, it is hard to understand what \"loss\" represents. It would be better if we could print the model accuracy for each epoch. We can do that by:"
      ],
      "metadata": {
        "id": "BHMSxybJRA22"
      }
    },
    {
      "cell_type": "code",
      "source": [
        "input_layer    = keras.layers.Flatten(input_shape = (28, 28))\n",
        "hidden_layer_1 = keras.layers.Dense(256, activation = tensorflow.nn.relu)\n",
        "hidden_layer_2 = keras.layers.Dense(128, activation = tensorflow.nn.relu)\n",
        "output_layer   = keras.layers.Dense(10,  activation = tensorflow.nn.softmax)\n",
        "\n",
        "del model\n",
        "\n",
        "model = keras.Sequential([\n",
        "                          input_layer,\n",
        "                          hidden_layer_1,\n",
        "                          hidden_layer_2,\n",
        "                          output_layer\n",
        "])\n",
        "\n",
        "model.compile(optimizer = 'adam', loss = 'sparse_categorical_crossentropy', metrics = ['accuracy'])\n",
        "\n",
        "model.fit(X_train, y_train, epochs = 5)"
      ],
      "metadata": {
        "colab": {
          "base_uri": "https://localhost:8080/"
        },
        "id": "xNcGqJZ9Rc4J",
        "outputId": "fed8ab8c-6e3b-4c17-98ee-57189f458060"
      },
      "execution_count": 67,
      "outputs": [
        {
          "output_type": "stream",
          "name": "stdout",
          "text": [
            "Epoch 1/5\n",
            "1875/1875 [==============================] - 7s 4ms/step - loss: 0.4749 - accuracy: 0.8289\n",
            "Epoch 2/5\n",
            "1875/1875 [==============================] - 7s 4ms/step - loss: 0.3565 - accuracy: 0.8687\n",
            "Epoch 3/5\n",
            "1875/1875 [==============================] - 7s 4ms/step - loss: 0.3216 - accuracy: 0.8821\n",
            "Epoch 4/5\n",
            "1875/1875 [==============================] - 8s 4ms/step - loss: 0.2986 - accuracy: 0.8894\n",
            "Epoch 5/5\n",
            "1875/1875 [==============================] - 8s 4ms/step - loss: 0.2802 - accuracy: 0.8951\n"
          ]
        },
        {
          "output_type": "execute_result",
          "data": {
            "text/plain": [
              "<keras.callbacks.History at 0x7f0acddb57d0>"
            ]
          },
          "metadata": {},
          "execution_count": 67
        }
      ]
    },
    {
      "cell_type": "markdown",
      "source": [
        "Nice! Note that our accuracy increases from 82.9%, on the first epoch, to 89.51%, on the final epoch. "
      ],
      "metadata": {
        "id": "jA5Nq8r0Rric"
      }
    },
    {
      "cell_type": "markdown",
      "source": [
        "# Testing our Neural Network\n",
        "\n",
        "So, we have fitted our Neural Network to the training set, evaluating the accuracy of our model on this training set. Now, let's see how our model behaves to new data, that is, let's evaluate the accuracy over the test set. \n",
        "\n",
        "To get the prediction for one image, we can do:"
      ],
      "metadata": {
        "id": "bIxfuSmJQca0"
      }
    },
    {
      "cell_type": "code",
      "source": [
        "y_pred = model.predict(X_test)"
      ],
      "metadata": {
        "id": "Vv2u_9FxQY7Q"
      },
      "execution_count": 73,
      "outputs": []
    },
    {
      "cell_type": "code",
      "source": [
        "y_pred[0]"
      ],
      "metadata": {
        "colab": {
          "base_uri": "https://localhost:8080/"
        },
        "id": "V4m_z9AuSTz_",
        "outputId": "823e61e2-0f83-4c2d-9ace-1f610b7a0140"
      },
      "execution_count": 74,
      "outputs": [
        {
          "output_type": "execute_result",
          "data": {
            "text/plain": [
              "array([3.4807530e-05, 3.9625202e-06, 2.0246873e-06, 3.1841262e-06,\n",
              "       9.6405702e-06, 1.2096282e-03, 1.9573057e-05, 3.7266392e-02,\n",
              "       5.6662506e-05, 9.6139413e-01], dtype=float32)"
            ]
          },
          "metadata": {},
          "execution_count": 74
        }
      ]
    },
    {
      "cell_type": "markdown",
      "source": [
        "So, here, we have an array with ten positions, each having a float. Note that the sum of those values is 1:"
      ],
      "metadata": {
        "id": "1x_5jL8fSnIz"
      }
    },
    {
      "cell_type": "code",
      "source": [
        "y_pred[0].sum( )"
      ],
      "metadata": {
        "colab": {
          "base_uri": "https://localhost:8080/"
        },
        "id": "znU6rP0wSkdi",
        "outputId": "cf9d8904-0963-43b5-a27a-2f3fa214f8b4"
      },
      "execution_count": 75,
      "outputs": [
        {
          "output_type": "execute_result",
          "data": {
            "text/plain": [
              "1.0"
            ]
          },
          "metadata": {},
          "execution_count": 75
        }
      ]
    },
    {
      "cell_type": "markdown",
      "source": [
        "This number is the probability that the image is labelled as each of the target classes. To get the prediction, we can use:"
      ],
      "metadata": {
        "id": "Ws2ZF2dKSwts"
      }
    },
    {
      "cell_type": "code",
      "source": [
        "highest_proba_id = np.argmax(y_pred[0])\n",
        "highest_proba_id"
      ],
      "metadata": {
        "colab": {
          "base_uri": "https://localhost:8080/"
        },
        "id": "6Pqh6RTKSvDS",
        "outputId": "28738cb1-e77d-45ac-f89a-6baa6de89a8c"
      },
      "execution_count": 80,
      "outputs": [
        {
          "output_type": "execute_result",
          "data": {
            "text/plain": [
              "9"
            ]
          },
          "metadata": {},
          "execution_count": 80
        }
      ]
    },
    {
      "cell_type": "markdown",
      "source": [
        "Finally, to get the label, we can use:"
      ],
      "metadata": {
        "id": "kmUzzBQ7TFQA"
      }
    },
    {
      "cell_type": "code",
      "source": [
        "target_map[highest_proba_id]\n"
      ],
      "metadata": {
        "colab": {
          "base_uri": "https://localhost:8080/",
          "height": 36
        },
        "id": "edubi1lbS8us",
        "outputId": "af3fa76d-1dbe-4654-db56-f0ee37fb831a"
      },
      "execution_count": 81,
      "outputs": [
        {
          "output_type": "execute_result",
          "data": {
            "text/plain": [
              "'Ankle boot'"
            ],
            "application/vnd.google.colaboratory.intrinsic+json": {
              "type": "string"
            }
          },
          "metadata": {},
          "execution_count": 81
        }
      ]
    },
    {
      "cell_type": "markdown",
      "source": [
        "So, our model expects that the first image is an ankle boot. Let's check:"
      ],
      "metadata": {
        "id": "9DFlUkY5TQiK"
      }
    },
    {
      "cell_type": "code",
      "source": [
        "y_test[0]"
      ],
      "metadata": {
        "colab": {
          "base_uri": "https://localhost:8080/"
        },
        "id": "F6gRQlBoTPc7",
        "outputId": "b5f22db8-5784-4c12-fe22-676c2adbe36c"
      },
      "execution_count": 82,
      "outputs": [
        {
          "output_type": "execute_result",
          "data": {
            "text/plain": [
              "9"
            ]
          },
          "metadata": {},
          "execution_count": 82
        }
      ]
    },
    {
      "cell_type": "code",
      "source": [
        "plt.imshow(X_test[0])"
      ],
      "metadata": {
        "colab": {
          "base_uri": "https://localhost:8080/",
          "height": 282
        },
        "id": "Vw-1RxGDTWph",
        "outputId": "45b73945-abc9-4f39-991e-18231a67d6af"
      },
      "execution_count": 83,
      "outputs": [
        {
          "output_type": "execute_result",
          "data": {
            "text/plain": [
              "<matplotlib.image.AxesImage at 0x7f0acdd1cf90>"
            ]
          },
          "metadata": {},
          "execution_count": 83
        },
        {
          "output_type": "display_data",
          "data": {
            "text/plain": [
              "<Figure size 432x288 with 1 Axes>"
            ],
            "image/png": "[encoded data removed]"
          },
          "metadata": {
            "needs_background": "light"
          }
        }
      ]
    },
    {
      "cell_type": "markdown",
      "source": [
        "Nice! Indeed, our first image is an ankle boot!"
      ],
      "metadata": {
        "id": "tYXR-4MDTbGj"
      }
    },
    {
      "cell_type": "markdown",
      "source": [
        "Finally, to get the accuracy over our test set we can use:"
      ],
      "metadata": {
        "id": "sZNwuHzRTgiY"
      }
    },
    {
      "cell_type": "code",
      "source": [
        "loss_test, acc_test = model.evaluate(X_test, y_test)"
      ],
      "metadata": {
        "colab": {
          "base_uri": "https://localhost:8080/"
        },
        "id": "IiF7f1wKTaLU",
        "outputId": "f1a3c209-37bb-4bb9-ae25-bd08078171ca"
      },
      "execution_count": 85,
      "outputs": [
        {
          "output_type": "stream",
          "name": "stdout",
          "text": [
            "313/313 [==============================] - 1s 3ms/step - loss: 0.3359 - accuracy: 0.8752\n"
          ]
        }
      ]
    },
    {
      "cell_type": "markdown",
      "source": [
        "So, the accuracy over the test set is 87.5%!"
      ],
      "metadata": {
        "id": "0Uw-rviUTshg"
      }
    },
    {
      "cell_type": "markdown",
      "source": [
        "# Using a validation set\n",
        "\n",
        "Note that, here, we used a train and a test set. However, we may want to use a validation set, to check the accuracy of the trained model during model fitting. To do that, we can define a parameter on model fitting:"
      ],
      "metadata": {
        "id": "0wxR8DX3UDok"
      }
    },
    {
      "cell_type": "code",
      "source": [
        "input_layer    = keras.layers.Flatten(input_shape = (28, 28))\n",
        "hidden_layer_1 = keras.layers.Dense(256, activation = tensorflow.nn.relu)\n",
        "hidden_layer_2 = keras.layers.Dense(128, activation = tensorflow.nn.relu)\n",
        "output_layer   = keras.layers.Dense(10,  activation = tensorflow.nn.softmax)\n",
        "\n",
        "del model\n",
        "\n",
        "model = keras.Sequential([\n",
        "                          input_layer,\n",
        "                          hidden_layer_1,\n",
        "                          hidden_layer_2,\n",
        "                          output_layer\n",
        "])\n",
        "\n",
        "model.compile(optimizer = 'adam', loss = 'sparse_categorical_crossentropy', metrics = ['accuracy'])\n",
        "\n",
        "fit_history = model.fit(X_train, y_train, epochs = 5, validation_split = 0.2)"
      ],
      "metadata": {
        "colab": {
          "base_uri": "https://localhost:8080/"
        },
        "id": "gb-gF8CtTmLx",
        "outputId": "96e3d0c9-7677-46b6-deb1-a89396d235eb"
      },
      "execution_count": 95,
      "outputs": [
        {
          "output_type": "stream",
          "name": "stdout",
          "text": [
            "Epoch 1/5\n",
            "1500/1500 [==============================] - 9s 5ms/step - loss: 0.4950 - accuracy: 0.8227 - val_loss: 0.3855 - val_accuracy: 0.8597\n",
            "Epoch 2/5\n",
            "1500/1500 [==============================] - 7s 5ms/step - loss: 0.3686 - accuracy: 0.8649 - val_loss: 0.3562 - val_accuracy: 0.8715\n",
            "Epoch 3/5\n",
            "1500/1500 [==============================] - 7s 5ms/step - loss: 0.3317 - accuracy: 0.8769 - val_loss: 0.3702 - val_accuracy: 0.8677\n",
            "Epoch 4/5\n",
            "1500/1500 [==============================] - 7s 5ms/step - loss: 0.3051 - accuracy: 0.8870 - val_loss: 0.3333 - val_accuracy: 0.8837\n",
            "Epoch 5/5\n",
            "1500/1500 [==============================] - 7s 5ms/step - loss: 0.2878 - accuracy: 0.8923 - val_loss: 0.3246 - val_accuracy: 0.8831\n"
          ]
        }
      ]
    },
    {
      "cell_type": "markdown",
      "source": [
        "Now, we show the validation accuracy over the epochs. This is interesting if we want to optimize our model hyper-parameters, and we can use the validation accuracy to see which model hyperparameters show the highest accuracy outside the training set. Then, the test set can be used at the end, to prevent data leakage.\n",
        "\n",
        "Also, the validation accuracy helps us to check if our model is getting over fitted to the data. Note that the training set accuracy always increases as we move to new epochs. However, the validation accuracy decreases at some points. That occurs because is data is becoming overfitted to the training set, and generalization of our model is not as good.\n",
        "\n",
        "To make this more clear, we can also plot the accuracy over the epochs:"
      ],
      "metadata": {
        "id": "OL4OvY5eUg7M"
      }
    },
    {
      "cell_type": "code",
      "source": [
        "plt.figure(figsize = (16, 8))\n",
        "\n",
        "plt.plot(fit_history.history['accuracy'], label = 'Train')\n",
        "plt.plot(fit_history.history['val_accuracy'], label = 'Validation')\n",
        "\n",
        "plt.ylabel('Accuracy')\n",
        "plt.legend(fontsize = 14)"
      ],
      "metadata": {
        "colab": {
          "base_uri": "https://localhost:8080/",
          "height": 500
        },
        "id": "yYnRcAdzUdbc",
        "outputId": "43b64118-8026-4595-fb95-d4d02bedcc9b"
      },
      "execution_count": 99,
      "outputs": [
        {
          "output_type": "execute_result",
          "data": {
            "text/plain": [
              "<matplotlib.legend.Legend at 0x7f0ad0ef7cd0>"
            ]
          },
          "metadata": {},
          "execution_count": 99
        },
        {
          "output_type": "display_data",
          "data": {
            "text/plain": [
              "<Figure size 1152x576 with 1 Axes>"
            ],
            "image/png": "[encoded data removed]"
          },
          "metadata": {
            "needs_background": "light"
          }
        }
      ]
    },
    {
      "cell_type": "markdown",
      "source": [
        "It seems that our train/validation accuracy may still increase. Thus, we could try to increase the number of epochs to see if we are able to increase our model accuracy even further. Let's try to use 20 epochs:"
      ],
      "metadata": {
        "id": "m1XJmG4MYcPL"
      }
    },
    {
      "cell_type": "code",
      "source": [
        "input_layer    = keras.layers.Flatten(input_shape = (28, 28))\n",
        "hidden_layer_1 = keras.layers.Dense(256, activation = tensorflow.nn.relu)\n",
        "hidden_layer_2 = keras.layers.Dense(128, activation = tensorflow.nn.relu)\n",
        "output_layer   = keras.layers.Dense(10,  activation = tensorflow.nn.softmax)\n",
        "\n",
        "del model\n",
        "\n",
        "model = keras.Sequential([\n",
        "                          input_layer,\n",
        "                          hidden_layer_1,\n",
        "                          hidden_layer_2,\n",
        "                          output_layer\n",
        "])\n",
        "\n",
        "model.compile(optimizer = 'adam', loss = 'sparse_categorical_crossentropy', metrics = ['accuracy'])\n",
        "\n",
        "fit_history = model.fit(X_train, y_train, epochs = 20, validation_split = 0.2)"
      ],
      "metadata": {
        "colab": {
          "base_uri": "https://localhost:8080/"
        },
        "id": "z3NkoDdXWy4v",
        "outputId": "f4bfbfda-b62f-46d5-c124-3f2364d9affc"
      },
      "execution_count": 100,
      "outputs": [
        {
          "output_type": "stream",
          "name": "stdout",
          "text": [
            "Epoch 1/20\n",
            "1500/1500 [==============================] - 8s 5ms/step - loss: 0.4942 - accuracy: 0.8209 - val_loss: 0.4153 - val_accuracy: 0.8509\n",
            "Epoch 2/20\n",
            "1500/1500 [==============================] - 7s 5ms/step - loss: 0.3705 - accuracy: 0.8640 - val_loss: 0.3577 - val_accuracy: 0.8673\n",
            "Epoch 3/20\n",
            "1500/1500 [==============================] - 7s 5ms/step - loss: 0.3344 - accuracy: 0.8763 - val_loss: 0.3597 - val_accuracy: 0.8708\n",
            "Epoch 4/20\n",
            "1500/1500 [==============================] - 7s 4ms/step - loss: 0.3062 - accuracy: 0.8864 - val_loss: 0.3496 - val_accuracy: 0.8739\n",
            "Epoch 5/20\n",
            "1500/1500 [==============================] - 7s 5ms/step - loss: 0.2894 - accuracy: 0.8926 - val_loss: 0.3442 - val_accuracy: 0.8773\n",
            "Epoch 6/20\n",
            "1500/1500 [==============================] - 6s 4ms/step - loss: 0.2743 - accuracy: 0.8974 - val_loss: 0.3228 - val_accuracy: 0.8874\n",
            "Epoch 7/20\n",
            "1500/1500 [==============================] - 8s 5ms/step - loss: 0.2591 - accuracy: 0.9032 - val_loss: 0.3322 - val_accuracy: 0.8836\n",
            "Epoch 8/20\n",
            "1500/1500 [==============================] - 9s 6ms/step - loss: 0.2505 - accuracy: 0.9050 - val_loss: 0.3228 - val_accuracy: 0.8851\n",
            "Epoch 9/20\n",
            "1500/1500 [==============================] - 6s 4ms/step - loss: 0.2416 - accuracy: 0.9086 - val_loss: 0.3244 - val_accuracy: 0.8891\n",
            "Epoch 10/20\n",
            "1500/1500 [==============================] - 7s 5ms/step - loss: 0.2270 - accuracy: 0.9136 - val_loss: 0.3364 - val_accuracy: 0.8856\n",
            "Epoch 11/20\n",
            "1500/1500 [==============================] - 7s 5ms/step - loss: 0.2216 - accuracy: 0.9150 - val_loss: 0.3314 - val_accuracy: 0.8848\n",
            "Epoch 12/20\n",
            "1500/1500 [==============================] - 7s 5ms/step - loss: 0.2099 - accuracy: 0.9201 - val_loss: 0.3437 - val_accuracy: 0.8867\n",
            "Epoch 13/20\n",
            "1500/1500 [==============================] - 7s 5ms/step - loss: 0.2039 - accuracy: 0.9224 - val_loss: 0.3624 - val_accuracy: 0.8877\n",
            "Epoch 14/20\n",
            "1500/1500 [==============================] - 7s 5ms/step - loss: 0.1968 - accuracy: 0.9252 - val_loss: 0.3417 - val_accuracy: 0.8909\n",
            "Epoch 15/20\n",
            "1500/1500 [==============================] - 7s 5ms/step - loss: 0.1888 - accuracy: 0.9266 - val_loss: 0.3517 - val_accuracy: 0.8902\n",
            "Epoch 16/20\n",
            "1500/1500 [==============================] - 6s 4ms/step - loss: 0.1850 - accuracy: 0.9294 - val_loss: 0.3494 - val_accuracy: 0.8874\n",
            "Epoch 17/20\n",
            "1500/1500 [==============================] - 7s 5ms/step - loss: 0.1789 - accuracy: 0.9318 - val_loss: 0.3477 - val_accuracy: 0.8916\n",
            "Epoch 18/20\n",
            "1500/1500 [==============================] - 6s 4ms/step - loss: 0.1736 - accuracy: 0.9329 - val_loss: 0.3555 - val_accuracy: 0.8930\n",
            "Epoch 19/20\n",
            "1500/1500 [==============================] - 8s 5ms/step - loss: 0.1660 - accuracy: 0.9361 - val_loss: 0.3645 - val_accuracy: 0.8930\n",
            "Epoch 20/20\n",
            "1500/1500 [==============================] - 9s 6ms/step - loss: 0.1601 - accuracy: 0.9388 - val_loss: 0.3498 - val_accuracy: 0.8936\n"
          ]
        }
      ]
    },
    {
      "cell_type": "markdown",
      "source": [
        "Now, let's plot our accuracy over the epochs:"
      ],
      "metadata": {
        "id": "hR0U6uwFatjS"
      }
    },
    {
      "cell_type": "code",
      "source": [
        "plt.figure(figsize = (16, 8))\n",
        "\n",
        "plt.plot(fit_history.history['accuracy'], label = 'Train')\n",
        "plt.plot(fit_history.history['val_accuracy'], label = 'Validation')\n",
        "\n",
        "plt.ylabel('Accuracy')\n",
        "plt.legend(fontsize = 14)"
      ],
      "metadata": {
        "colab": {
          "base_uri": "https://localhost:8080/",
          "height": 500
        },
        "id": "j4O8XyxNW8QE",
        "outputId": "f4fd288d-4793-435d-fa91-5a2b9c86bb42"
      },
      "execution_count": 101,
      "outputs": [
        {
          "output_type": "execute_result",
          "data": {
            "text/plain": [
              "<matplotlib.legend.Legend at 0x7f0ac915c110>"
            ]
          },
          "metadata": {},
          "execution_count": 101
        },
        {
          "output_type": "display_data",
          "data": {
            "text/plain": [
              "<Figure size 1152x576 with 1 Axes>"
            ],
            "image/png": "[encoded data removed]"
          },
          "metadata": {
            "needs_background": "light"
          }
        }
      ]
    },
    {
      "cell_type": "markdown",
      "source": [
        "Note that the train accuracy continues tho increase, but the validation accuracy seems to have stabilized (even though it still did not start to decrease). This likely means that our model is over-fitted to the data. If we now check the accuracy of the test set:"
      ],
      "metadata": {
        "id": "TFFeKvYXa03V"
      }
    },
    {
      "cell_type": "code",
      "source": [
        "model.evaluate(X_test, y_test)"
      ],
      "metadata": {
        "colab": {
          "base_uri": "https://localhost:8080/"
        },
        "id": "N7s_GwrIaxv_",
        "outputId": "e0e7a53d-3b3b-44ba-95cc-e016df0a2fac"
      },
      "execution_count": 102,
      "outputs": [
        {
          "output_type": "stream",
          "name": "stdout",
          "text": [
            "313/313 [==============================] - 2s 6ms/step - loss: 0.3861 - accuracy: 0.8871\n"
          ]
        },
        {
          "output_type": "execute_result",
          "data": {
            "text/plain": [
              "[0.38610562682151794, 0.8870999813079834]"
            ]
          },
          "metadata": {},
          "execution_count": 102
        }
      ]
    },
    {
      "cell_type": "markdown",
      "source": [
        "We get an accuracy of 88.71%, which is much closer to the final validation accuracy than the final training accuracy.\n",
        "\n",
        "Finally, here, we will end up using 8 epochs, since, after that, it seems that our validation accuracy stabilized:"
      ],
      "metadata": {
        "id": "hF7ZU9UjbfWo"
      }
    },
    {
      "cell_type": "code",
      "source": [
        "input_layer    = keras.layers.Flatten(input_shape = (28, 28))\n",
        "hidden_layer_1 = keras.layers.Dense(256, activation = tensorflow.nn.relu)\n",
        "hidden_layer_2 = keras.layers.Dense(128, activation = tensorflow.nn.relu)\n",
        "output_layer   = keras.layers.Dense(10,  activation = tensorflow.nn.softmax)\n",
        "\n",
        "del model\n",
        "\n",
        "model = keras.Sequential([\n",
        "                          input_layer,\n",
        "                          hidden_layer_1,\n",
        "                          hidden_layer_2,\n",
        "                          output_layer\n",
        "])\n",
        "\n",
        "model.compile(optimizer = 'adam', loss = 'sparse_categorical_crossentropy', metrics = ['accuracy'])\n",
        "\n",
        "fit_history = model.fit(X_train, y_train, epochs = 8, validation_split = 0.2)"
      ],
      "metadata": {
        "colab": {
          "base_uri": "https://localhost:8080/"
        },
        "id": "6Wj4NUYyb3_C",
        "outputId": "e11046bc-8cef-4c88-a8e6-362bd98d80a7"
      },
      "execution_count": 103,
      "outputs": [
        {
          "output_type": "stream",
          "name": "stdout",
          "text": [
            "Epoch 1/8\n",
            "1500/1500 [==============================] - 8s 5ms/step - loss: 0.4945 - accuracy: 0.8219 - val_loss: 0.4296 - val_accuracy: 0.8426\n",
            "Epoch 2/8\n",
            "1500/1500 [==============================] - 7s 5ms/step - loss: 0.3694 - accuracy: 0.8636 - val_loss: 0.3742 - val_accuracy: 0.8651\n",
            "Epoch 3/8\n",
            "1500/1500 [==============================] - 6s 4ms/step - loss: 0.3298 - accuracy: 0.8767 - val_loss: 0.3620 - val_accuracy: 0.8700\n",
            "Epoch 4/8\n",
            "1500/1500 [==============================] - 7s 4ms/step - loss: 0.3030 - accuracy: 0.8873 - val_loss: 0.3355 - val_accuracy: 0.8797\n",
            "Epoch 5/8\n",
            "1500/1500 [==============================] - 7s 5ms/step - loss: 0.2866 - accuracy: 0.8929 - val_loss: 0.3146 - val_accuracy: 0.8889\n",
            "Epoch 6/8\n",
            "1500/1500 [==============================] - 7s 5ms/step - loss: 0.2708 - accuracy: 0.8982 - val_loss: 0.3435 - val_accuracy: 0.8808\n",
            "Epoch 7/8\n",
            "1500/1500 [==============================] - 7s 4ms/step - loss: 0.2604 - accuracy: 0.9024 - val_loss: 0.3448 - val_accuracy: 0.8807\n",
            "Epoch 8/8\n",
            "1500/1500 [==============================] - 7s 4ms/step - loss: 0.2470 - accuracy: 0.9071 - val_loss: 0.3243 - val_accuracy: 0.8834\n"
          ]
        }
      ]
    },
    {
      "cell_type": "code",
      "source": [
        "plt.figure(figsize = (16, 8))\n",
        "\n",
        "plt.plot(fit_history.history['accuracy'], label = 'Train')\n",
        "plt.plot(fit_history.history['val_accuracy'], label = 'Validation')\n",
        "\n",
        "plt.ylabel('Accuracy')\n",
        "plt.legend(fontsize = 14)"
      ],
      "metadata": {
        "colab": {
          "base_uri": "https://localhost:8080/",
          "height": 500
        },
        "id": "e_YIA00qdM8J",
        "outputId": "2fe09e27-7893-4eba-de36-b5eb54d787f3"
      },
      "execution_count": 107,
      "outputs": [
        {
          "output_type": "execute_result",
          "data": {
            "text/plain": [
              "<matplotlib.legend.Legend at 0x7f0ac66213d0>"
            ]
          },
          "metadata": {},
          "execution_count": 107
        },
        {
          "output_type": "display_data",
          "data": {
            "text/plain": [
              "<Figure size 1152x576 with 1 Axes>"
            ],
            "image/png": "[encoded data removed]"
          },
          "metadata": {
            "needs_background": "light"
          }
        }
      ]
    },
    {
      "cell_type": "markdown",
      "source": [
        "Still, our validation accuracy is much lower than the training accuracy. How can we improve this behavior?"
      ],
      "metadata": {
        "id": "Wx3R2NJQdQBi"
      }
    },
    {
      "cell_type": "markdown",
      "source": [
        "# Using a dropout layer\n",
        "\n",
        "Another thing we can do to prevent overfitting is using a dropout layer. This layer we slow down the model fitting, making model fitting smoother. To use a dropout layer, we can use:"
      ],
      "metadata": {
        "id": "3oU4JSr0bpcB"
      }
    },
    {
      "cell_type": "code",
      "source": [
        "input_layer    = keras.layers.Flatten(input_shape = (28, 28))\n",
        "hidden_layer_1 = keras.layers.Dense(256, activation = tensorflow.nn.relu)\n",
        "hidden_layer_2 = keras.layers.Dense(128, activation = tensorflow.nn.relu)\n",
        "dropout_layer  = keras.layers.Dropout(0.2)\n",
        "output_layer   = keras.layers.Dense(10,  activation = tensorflow.nn.softmax)\n",
        "\n",
        "del model\n",
        "\n",
        "model = keras.Sequential([\n",
        "                          input_layer,\n",
        "                          hidden_layer_1,\n",
        "                          dropout_layer,\n",
        "                          hidden_layer_2,\n",
        "                          dropout_layer,\n",
        "                          output_layer\n",
        "])\n",
        "\n",
        "model.compile(optimizer = 'adam', loss = 'sparse_categorical_crossentropy', metrics = ['accuracy'])\n",
        "\n",
        "fit_history = model.fit(X_train, y_train, epochs = 20, validation_split = 0.2)"
      ],
      "metadata": {
        "colab": {
          "base_uri": "https://localhost:8080/"
        },
        "id": "v5YnnV6_cb20",
        "outputId": "2d496e36-f89d-49a1-fd03-c245f313b87a"
      },
      "execution_count": 113,
      "outputs": [
        {
          "output_type": "stream",
          "name": "stdout",
          "text": [
            "Epoch 1/20\n",
            "1500/1500 [==============================] - 9s 6ms/step - loss: 0.5587 - accuracy: 0.8007 - val_loss: 0.4166 - val_accuracy: 0.8482\n",
            "Epoch 2/20\n",
            "1500/1500 [==============================] - 7s 5ms/step - loss: 0.4135 - accuracy: 0.8487 - val_loss: 0.4017 - val_accuracy: 0.8571\n",
            "Epoch 3/20\n",
            "1500/1500 [==============================] - 7s 5ms/step - loss: 0.3796 - accuracy: 0.8608 - val_loss: 0.3563 - val_accuracy: 0.8715\n",
            "Epoch 4/20\n",
            "1500/1500 [==============================] - 8s 5ms/step - loss: 0.3579 - accuracy: 0.8683 - val_loss: 0.3563 - val_accuracy: 0.8643\n",
            "Epoch 5/20\n",
            "1500/1500 [==============================] - 9s 6ms/step - loss: 0.3400 - accuracy: 0.8739 - val_loss: 0.3369 - val_accuracy: 0.8777\n",
            "Epoch 6/20\n",
            "1500/1500 [==============================] - 7s 5ms/step - loss: 0.3267 - accuracy: 0.8777 - val_loss: 0.3486 - val_accuracy: 0.8723\n",
            "Epoch 7/20\n",
            "1500/1500 [==============================] - 7s 5ms/step - loss: 0.3160 - accuracy: 0.8823 - val_loss: 0.3286 - val_accuracy: 0.8813\n",
            "Epoch 8/20\n",
            "1500/1500 [==============================] - 7s 5ms/step - loss: 0.3037 - accuracy: 0.8867 - val_loss: 0.3330 - val_accuracy: 0.8827\n",
            "Epoch 9/20\n",
            "1500/1500 [==============================] - 8s 5ms/step - loss: 0.2983 - accuracy: 0.8883 - val_loss: 0.3149 - val_accuracy: 0.8865\n",
            "Epoch 10/20\n",
            "1500/1500 [==============================] - 7s 5ms/step - loss: 0.2906 - accuracy: 0.8918 - val_loss: 0.3223 - val_accuracy: 0.8847\n",
            "Epoch 11/20\n",
            "1500/1500 [==============================] - 8s 5ms/step - loss: 0.2837 - accuracy: 0.8928 - val_loss: 0.3347 - val_accuracy: 0.8796\n",
            "Epoch 12/20\n",
            "1500/1500 [==============================] - 7s 5ms/step - loss: 0.2760 - accuracy: 0.8972 - val_loss: 0.3169 - val_accuracy: 0.8888\n",
            "Epoch 13/20\n",
            "1500/1500 [==============================] - 7s 5ms/step - loss: 0.2745 - accuracy: 0.8980 - val_loss: 0.3119 - val_accuracy: 0.8889\n",
            "Epoch 14/20\n",
            "1500/1500 [==============================] - 7s 5ms/step - loss: 0.2648 - accuracy: 0.9002 - val_loss: 0.3173 - val_accuracy: 0.8894\n",
            "Epoch 15/20\n",
            "1500/1500 [==============================] - 7s 5ms/step - loss: 0.2625 - accuracy: 0.9007 - val_loss: 0.3324 - val_accuracy: 0.8854\n",
            "Epoch 16/20\n",
            "1500/1500 [==============================] - 8s 5ms/step - loss: 0.2540 - accuracy: 0.9036 - val_loss: 0.3181 - val_accuracy: 0.8888\n",
            "Epoch 17/20\n",
            "1500/1500 [==============================] - 7s 5ms/step - loss: 0.2523 - accuracy: 0.9040 - val_loss: 0.3074 - val_accuracy: 0.8916\n",
            "Epoch 18/20\n",
            "1500/1500 [==============================] - 9s 6ms/step - loss: 0.2496 - accuracy: 0.9059 - val_loss: 0.3059 - val_accuracy: 0.8963\n",
            "Epoch 19/20\n",
            "1500/1500 [==============================] - 7s 5ms/step - loss: 0.2471 - accuracy: 0.9064 - val_loss: 0.3317 - val_accuracy: 0.8866\n",
            "Epoch 20/20\n",
            "1500/1500 [==============================] - 7s 5ms/step - loss: 0.2392 - accuracy: 0.9084 - val_loss: 0.3256 - val_accuracy: 0.8903\n"
          ]
        }
      ]
    },
    {
      "cell_type": "markdown",
      "source": [
        "What the dropout layer will do is effectively deactivate 20% (hence the 0.2 parameter) of the layers during each fitting phase, so that model fitting is slowed down. Thus, this makes the whole model fitting and optimization smoother. Here, we are using two dropout layers: one after each dense layer.\n",
        "\n",
        "Let's plot our graph:"
      ],
      "metadata": {
        "id": "IIR8jo_9dgYY"
      }
    },
    {
      "cell_type": "code",
      "source": [
        "plt.figure(figsize = (16, 8))\n",
        "\n",
        "plt.plot(fit_history.history['accuracy'], label = 'Train')\n",
        "plt.plot(fit_history.history['val_accuracy'], label = 'Validation')\n",
        "\n",
        "plt.ylabel('Accuracy')\n",
        "plt.legend(fontsize = 14)"
      ],
      "metadata": {
        "colab": {
          "base_uri": "https://localhost:8080/",
          "height": 500
        },
        "id": "FyudceS6ddZe",
        "outputId": "23dc1677-4f59-4898-cf3c-c078c05960c4"
      },
      "execution_count": 114,
      "outputs": [
        {
          "output_type": "execute_result",
          "data": {
            "text/plain": [
              "<matplotlib.legend.Legend at 0x7f0ab4df2890>"
            ]
          },
          "metadata": {},
          "execution_count": 114
        },
        {
          "output_type": "display_data",
          "data": {
            "text/plain": [
              "<Figure size 1152x576 with 1 Axes>"
            ],
            "image/png": "[encoded data removed]"
          },
          "metadata": {
            "needs_background": "light"
          }
        }
      ]
    },
    {
      "cell_type": "markdown",
      "source": [
        "Nice! This time, our validation accuracy is much closer to the train accuracy. Here, we could use 8~10 epochs, since the validation accuracy seems to have stabilized after that."
      ],
      "metadata": {
        "id": "x2KjsJaGfw4X"
      }
    },
    {
      "cell_type": "markdown",
      "source": [
        "# Saving our model\n",
        "\n",
        "After we fit our model, we can save it using:"
      ],
      "metadata": {
        "id": "KdqNv1DggUZr"
      }
    },
    {
      "cell_type": "code",
      "source": [
        "model.save('model.h5')"
      ],
      "metadata": {
        "id": "0Ex1rQOceZHq"
      },
      "execution_count": 115,
      "outputs": []
    },
    {
      "cell_type": "markdown",
      "source": [
        "This creates a file 'model.h5' with information about our serialized model. To load our model, we can use:"
      ],
      "metadata": {
        "id": "0Z95MR0agdJ_"
      }
    },
    {
      "cell_type": "code",
      "source": [
        "saved_model = keras.models.load_model('model.h5')"
      ],
      "metadata": {
        "id": "V9TI_-Q_gZyo"
      },
      "execution_count": 116,
      "outputs": []
    },
    {
      "cell_type": "markdown",
      "source": [
        "Let's check if these models are, indeed, the same:"
      ],
      "metadata": {
        "id": "paiNj3pRgsFs"
      }
    },
    {
      "cell_type": "code",
      "source": [
        "model.evaluate(X_test, y_test)"
      ],
      "metadata": {
        "colab": {
          "base_uri": "https://localhost:8080/"
        },
        "id": "ESUwypBDgpXo",
        "outputId": "d27785b9-a1d7-4f34-9e7c-e187ebd5ce46"
      },
      "execution_count": 117,
      "outputs": [
        {
          "output_type": "stream",
          "name": "stdout",
          "text": [
            "313/313 [==============================] - 1s 4ms/step - loss: 0.3552 - accuracy: 0.8855\n"
          ]
        },
        {
          "output_type": "execute_result",
          "data": {
            "text/plain": [
              "[0.3552040755748749, 0.8855000138282776]"
            ]
          },
          "metadata": {},
          "execution_count": 117
        }
      ]
    },
    {
      "cell_type": "code",
      "source": [
        "saved_model.evaluate(X_test, y_test)"
      ],
      "metadata": {
        "colab": {
          "base_uri": "https://localhost:8080/"
        },
        "id": "uqru-OOkgzHe",
        "outputId": "1e85bf26-aeae-4c69-f997-215b4b9e89f2"
      },
      "execution_count": 118,
      "outputs": [
        {
          "output_type": "stream",
          "name": "stdout",
          "text": [
            "313/313 [==============================] - 1s 2ms/step - loss: 0.3552 - accuracy: 0.8855\n"
          ]
        },
        {
          "output_type": "execute_result",
          "data": {
            "text/plain": [
              "[0.3552040755748749, 0.8855000138282776]"
            ]
          },
          "metadata": {},
          "execution_count": 118
        }
      ]
    },
    {
      "cell_type": "markdown",
      "source": [
        "Nice! WE got exactly the same accuracy and the same loss in both models."
      ],
      "metadata": {
        "id": "cGyZ9fckg3uk"
      }
    }
  ]
}