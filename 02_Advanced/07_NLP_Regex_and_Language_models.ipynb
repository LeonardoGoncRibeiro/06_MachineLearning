{
  "nbformat": 4,
  "nbformat_minor": 0,
  "metadata": {
    "colab": {
      "name": "07_NLP_Regex_and_Language_models.ipynb",
      "provenance": [],
      "collapsed_sections": [],
      "toc_visible": true,
      "authorship_tag": "ABX9TyOTidg5ax9UNZLyp19t59c/",
      "include_colab_link": true
    },
    "kernelspec": {
      "name": "python3",
      "display_name": "Python 3"
    },
    "language_info": {
      "name": "python"
    }
  },
  "cells": [
    {
      "cell_type": "markdown",
      "metadata": {
        "id": "view-in-github",
        "colab_type": "text"
      },
      "source": [
        "<a href=\"https://colab.research.google.com/github/LeonardoGoncRibeiro/06_MachineLearning/blob/main/02_Advanced/07_NLP_Regex_and_Language_models.ipynb\" target=\"_parent\"><img src=\"https://colab.research.google.com/assets/colab-badge.svg\" alt=\"Open In Colab\"/></a>"
      ]
    },
    {
      "cell_type": "markdown",
      "source": [
        "# NLP: Regex and language models\n",
        "\n",
        "In this course, we will continue our studies in NLP. We will learn how Regex may assist in the treatment of text data. Also, we will understand what are language models and their applications, and we will build a model to detect languages in an automatized way. \n",
        "\n",
        "In this course, we will use the following packages:"
      ],
      "metadata": {
        "id": "X4disBvC_Giw"
      }
    },
    {
      "cell_type": "code",
      "execution_count": 406,
      "metadata": {
        "id": "ExPC-4hQ_E4X"
      },
      "outputs": [],
      "source": [
        "import pandas as pd\n",
        "import numpy as np\n",
        "import nltk\n",
        "\n",
        "from nltk.lm.preprocessing import pad_both_ends\n",
        "from nltk.lm.preprocessing import padded_everygram_pipeline\n",
        "from nltk.lm import MLE\n",
        "from nltk.lm import Laplace\n",
        "\n",
        "from sklearn.model_selection import train_test_split\n",
        "\n",
        "import re"
      ]
    },
    {
      "cell_type": "markdown",
      "source": [
        "Also, we will use the following datasets:"
      ],
      "metadata": {
        "id": "nGC-4Sqj_jgA"
      }
    },
    {
      "cell_type": "code",
      "source": [
        "df_pt = pd.read_csv(\"stackoverflow_portugues.csv\")"
      ],
      "metadata": {
        "id": "1T-ToRHp_lIN"
      },
      "execution_count": 327,
      "outputs": []
    },
    {
      "cell_type": "code",
      "source": [
        "df_es = pd.read_csv(\"stackoverflow_espanhol.csv\", encoding = 'latin-1', sep = ';')"
      ],
      "metadata": {
        "id": "eMhUgzcyCMl4"
      },
      "execution_count": 328,
      "outputs": []
    },
    {
      "cell_type": "code",
      "source": [
        "df_en = pd.read_csv(\"stackoverflow_ingles.csv\")"
      ],
      "metadata": {
        "id": "jj7I3BIoB0Qx"
      },
      "execution_count": 329,
      "outputs": []
    },
    {
      "cell_type": "markdown",
      "source": [
        "Let's check our data:"
      ],
      "metadata": {
        "id": "O8-uW2EKB2OZ"
      }
    },
    {
      "cell_type": "code",
      "source": [
        "df_pt.head( )"
      ],
      "metadata": {
        "colab": {
          "base_uri": "https://localhost:8080/",
          "height": 337
        },
        "id": "7cSS06icB34Y",
        "outputId": "b695fdae-769f-4163-bfb1-41ededd08033"
      },
      "execution_count": 330,
      "outputs": [
        {
          "output_type": "execute_result",
          "data": {
            "text/plain": [
              "      Id                                             Título  \\\n",
              "0   2402         Como fazer hash de senhas de forma segura?   \n",
              "1   6441  Qual é a diferença entre INNER JOIN e OUTER JOIN?   \n",
              "2    579  Por que não devemos usar funções do tipo mysql_*?   \n",
              "3   2539           As mensagens de erro devem se desculpar?   \n",
              "4  17501  Qual é a diferença de API, biblioteca e Framew...   \n",
              "\n",
              "                                             Questão  \\\n",
              "0  <p>Se eu fizer o <em><a href=\"http://pt.wikipe...   \n",
              "1  <p>Qual é a diferença entre <code>INNER JOIN</...   \n",
              "2  <p>Uma dúvida muito comum é por que devemos pa...   \n",
              "3  <p>É comum encontrar uma mensagem de erro que ...   \n",
              "4  <p>Me parecem termos muito próximos e eventual...   \n",
              "\n",
              "                                         Tags  Pontuação  Visualizações  \n",
              "0     <hash><segurança><senhas><criptografia>        350          22367  \n",
              "1                                 <sql><join>        276         176953  \n",
              "2                                <php><mysql>        226           9761  \n",
              "3           <aplicação-web><gui><console><ux>        214           5075  \n",
              "4  <api><framework><terminologia><biblioteca>        193          54191  "
            ],
            "text/html": [
              "\n",
              "  <div id=\"df-53bfe08f-68dd-434b-8935-31673c6b5027\">\n",
              "    <div class=\"colab-df-container\">\n",
              "      <div>\n",
              "<style scoped>\n",
              "    .dataframe tbody tr th:only-of-type {\n",
              "        vertical-align: middle;\n",
              "    }\n",
              "\n",
              "    .dataframe tbody tr th {\n",
              "        vertical-align: top;\n",
              "    }\n",
              "\n",
              "    .dataframe thead th {\n",
              "        text-align: right;\n",
              "    }\n",
              "</style>\n",
              "<table border=\"1\" class=\"dataframe\">\n",
              "  <thead>\n",
              "    <tr style=\"text-align: right;\">\n",
              "      <th></th>\n",
              "      <th>Id</th>\n",
              "      <th>Título</th>\n",
              "      <th>Questão</th>\n",
              "      <th>Tags</th>\n",
              "      <th>Pontuação</th>\n",
              "      <th>Visualizações</th>\n",
              "    </tr>\n",
              "  </thead>\n",
              "  <tbody>\n",
              "    <tr>\n",
              "      <th>0</th>\n",
              "      <td>2402</td>\n",
              "      <td>Como fazer hash de senhas de forma segura?</td>\n",
              "      <td>&lt;p&gt;Se eu fizer o &lt;em&gt;&lt;a href=\"http://pt.wikipe...</td>\n",
              "      <td>&lt;hash&gt;&lt;segurança&gt;&lt;senhas&gt;&lt;criptografia&gt;</td>\n",
              "      <td>350</td>\n",
              "      <td>22367</td>\n",
              "    </tr>\n",
              "    <tr>\n",
              "      <th>1</th>\n",
              "      <td>6441</td>\n",
              "      <td>Qual é a diferença entre INNER JOIN e OUTER JOIN?</td>\n",
              "      <td>&lt;p&gt;Qual é a diferença entre &lt;code&gt;INNER JOIN&lt;/...</td>\n",
              "      <td>&lt;sql&gt;&lt;join&gt;</td>\n",
              "      <td>276</td>\n",
              "      <td>176953</td>\n",
              "    </tr>\n",
              "    <tr>\n",
              "      <th>2</th>\n",
              "      <td>579</td>\n",
              "      <td>Por que não devemos usar funções do tipo mysql_*?</td>\n",
              "      <td>&lt;p&gt;Uma dúvida muito comum é por que devemos pa...</td>\n",
              "      <td>&lt;php&gt;&lt;mysql&gt;</td>\n",
              "      <td>226</td>\n",
              "      <td>9761</td>\n",
              "    </tr>\n",
              "    <tr>\n",
              "      <th>3</th>\n",
              "      <td>2539</td>\n",
              "      <td>As mensagens de erro devem se desculpar?</td>\n",
              "      <td>&lt;p&gt;É comum encontrar uma mensagem de erro que ...</td>\n",
              "      <td>&lt;aplicação-web&gt;&lt;gui&gt;&lt;console&gt;&lt;ux&gt;</td>\n",
              "      <td>214</td>\n",
              "      <td>5075</td>\n",
              "    </tr>\n",
              "    <tr>\n",
              "      <th>4</th>\n",
              "      <td>17501</td>\n",
              "      <td>Qual é a diferença de API, biblioteca e Framew...</td>\n",
              "      <td>&lt;p&gt;Me parecem termos muito próximos e eventual...</td>\n",
              "      <td>&lt;api&gt;&lt;framework&gt;&lt;terminologia&gt;&lt;biblioteca&gt;</td>\n",
              "      <td>193</td>\n",
              "      <td>54191</td>\n",
              "    </tr>\n",
              "  </tbody>\n",
              "</table>\n",
              "</div>\n",
              "      <button class=\"colab-df-convert\" onclick=\"convertToInteractive('df-53bfe08f-68dd-434b-8935-31673c6b5027')\"\n",
              "              title=\"Convert this dataframe to an interactive table.\"\n",
              "              style=\"display:none;\">\n",
              "        \n",
              "  <svg xmlns=\"http://www.w3.org/2000/svg\" height=\"24px\"viewBox=\"0 0 24 24\"\n",
              "       width=\"24px\">\n",
              "    <path d=\"M0 0h24v24H0V0z\" fill=\"none\"/>\n",
              "    <path d=\"M18.56 5.44l.94 2.06.94-2.06 2.06-.94-2.06-.94-.94-2.06-.94 2.06-2.06.94zm-11 1L8.5 8.5l.94-2.06 2.06-.94-2.06-.94L8.5 2.5l-.94 2.06-2.06.94zm10 10l.94 2.06.94-2.06 2.06-.94-2.06-.94-.94-2.06-.94 2.06-2.06.94z\"/><path d=\"M17.41 7.96l-1.37-1.37c-.4-.4-.92-.59-1.43-.59-.52 0-1.04.2-1.43.59L10.3 9.45l-7.72 7.72c-.78.78-.78 2.05 0 2.83L4 21.41c.39.39.9.59 1.41.59.51 0 1.02-.2 1.41-.59l7.78-7.78 2.81-2.81c.8-.78.8-2.07 0-2.86zM5.41 20L4 18.59l7.72-7.72 1.47 1.35L5.41 20z\"/>\n",
              "  </svg>\n",
              "      </button>\n",
              "      \n",
              "  <style>\n",
              "    .colab-df-container {\n",
              "      display:flex;\n",
              "      flex-wrap:wrap;\n",
              "      gap: 12px;\n",
              "    }\n",
              "\n",
              "    .colab-df-convert {\n",
              "      background-color: #E8F0FE;\n",
              "      border: none;\n",
              "      border-radius: 50%;\n",
              "      cursor: pointer;\n",
              "      display: none;\n",
              "      fill: #1967D2;\n",
              "      height: 32px;\n",
              "      padding: 0 0 0 0;\n",
              "      width: 32px;\n",
              "    }\n",
              "\n",
              "    .colab-df-convert:hover {\n",
              "      background-color: #E2EBFA;\n",
              "      box-shadow: 0px 1px 2px rgba(60, 64, 67, 0.3), 0px 1px 3px 1px rgba(60, 64, 67, 0.15);\n",
              "      fill: #174EA6;\n",
              "    }\n",
              "\n",
              "    [theme=dark] .colab-df-convert {\n",
              "      background-color: #3B4455;\n",
              "      fill: #D2E3FC;\n",
              "    }\n",
              "\n",
              "    [theme=dark] .colab-df-convert:hover {\n",
              "      background-color: #434B5C;\n",
              "      box-shadow: 0px 1px 3px 1px rgba(0, 0, 0, 0.15);\n",
              "      filter: drop-shadow(0px 1px 2px rgba(0, 0, 0, 0.3));\n",
              "      fill: #FFFFFF;\n",
              "    }\n",
              "  </style>\n",
              "\n",
              "      <script>\n",
              "        const buttonEl =\n",
              "          document.querySelector('#df-53bfe08f-68dd-434b-8935-31673c6b5027 button.colab-df-convert');\n",
              "        buttonEl.style.display =\n",
              "          google.colab.kernel.accessAllowed ? 'block' : 'none';\n",
              "\n",
              "        async function convertToInteractive(key) {\n",
              "          const element = document.querySelector('#df-53bfe08f-68dd-434b-8935-31673c6b5027');\n",
              "          const dataTable =\n",
              "            await google.colab.kernel.invokeFunction('convertToInteractive',\n",
              "                                                     [key], {});\n",
              "          if (!dataTable) return;\n",
              "\n",
              "          const docLinkHtml = 'Like what you see? Visit the ' +\n",
              "            '<a target=\"_blank\" href=https://colab.research.google.com/notebooks/data_table.ipynb>data table notebook</a>'\n",
              "            + ' to learn more about interactive tables.';\n",
              "          element.innerHTML = '';\n",
              "          dataTable['output_type'] = 'display_data';\n",
              "          await google.colab.output.renderOutput(dataTable, element);\n",
              "          const docLink = document.createElement('div');\n",
              "          docLink.innerHTML = docLinkHtml;\n",
              "          element.appendChild(docLink);\n",
              "        }\n",
              "      </script>\n",
              "    </div>\n",
              "  </div>\n",
              "  "
            ]
          },
          "metadata": {},
          "execution_count": 330
        }
      ]
    },
    {
      "cell_type": "code",
      "source": [
        "df_pt['Questão'].loc[0]"
      ],
      "metadata": {
        "colab": {
          "base_uri": "https://localhost:8080/",
          "height": 140
        },
        "id": "Y19IgUCMB6Ig",
        "outputId": "d183730a-df59-4b51-9080-5417327bf119"
      },
      "execution_count": 331,
      "outputs": [
        {
          "output_type": "execute_result",
          "data": {
            "text/plain": [
              "'<p>Se eu fizer o <em><a href=\"http://pt.wikipedia.org/wiki/Fun%C3%A7%C3%A3o_de_embaralhamento_criptogr%C3%A1fico\" rel=\"noreferrer\">hash</a></em> de senhas antes de armazená-las em meu banco de dados é suficiente para evitar que elas sejam recuperadas por alguém?</p>\\n\\n<p>Estou falando apenas da recuperação diretamente do banco de dados e não qualquer outro tipo de ataque, como <a href=\"http://pt.wikipedia.org/wiki/Ataque_de_for%C3%A7a_bruta\" rel=\"noreferrer\">força bruta</a> na página de login da aplicação, <em><a href=\"http://pt.wikipedia.org/wiki/Keylogger\" rel=\"noreferrer\">keylogger</a></em> no cliente e <a href=\"http://pt.wikipedia.org/wiki/Criptoan%C3%A1lise_de_mangueira_de_borracha\" rel=\"noreferrer\">criptoanálise <em>rubberhose</em></a>. Qualquer forma de <em>hash</em> não vai impedir esses ataques.</p>\\n\\n<p>Tenho preocupação em dificultar ou até impossibilitar a obtenção das senhas originais caso o banco de dados seja comprometido. Como dar maior garantia de segurança neste aspecto?</p>\\n\\n<p>Quais preocupações adicionais evitariam o acesso às senhas? Existem formas melhores de fazer esse <em>hash</em>?</p>\\n'"
            ],
            "application/vnd.google.colaboratory.intrinsic+json": {
              "type": "string"
            }
          },
          "metadata": {},
          "execution_count": 331
        }
      ]
    },
    {
      "cell_type": "markdown",
      "source": [
        "Note that, since this dataset comes from HTML, it has a lot of unimportant data, such as HTML tags. In our project, we will try to make a language detection algorithm. Thus, we need to treat our data, excluding everything that seems unnecessary. For that end, we will use Regular Expressions (Regex)."
      ],
      "metadata": {
        "id": "KotdP3UK_ljY"
      }
    },
    {
      "cell_type": "markdown",
      "source": [
        "# Regular Expressions (Regex)\n",
        "\n",
        "A Regular Expression (Regex) helps to define patterns in our data so that we may extract important information. For instance, if we have data with multiple e-mails, and we want to store the possible e-mail servers, we should try to find a pattern in our data, such as:\n",
        "\n",
        "*   Look for everything after @\n",
        "*   Stop at .com\n",
        "\n",
        "This pattern is seem in basically all e-mail providers, and would serve to solve our problem. \n",
        "\n",
        "We can test our regex code using https://regex101.com/.\n",
        "\n",
        "Usign regex, we can use meta-characters to pass what we really want to do. Some important metacharacters are:\n",
        "\n",
        "*   . - can be interpreted as anything.\n",
        "*   \\ - The next metacharacter will not be understood as a metacharacter (for regex).\n",
        "*   () - Creates a group of words.\n",
        "*   [] - Creates a group of characters.\n",
        "*   \\* - States that the previous character can be repeated 0 to $n$ times.\n",
        "*   \\+ - States that the previous character can be repeated 1 to $n$ times.\n",
        "*   {i, j} - States that the previous character can be repeated i to $j$ times.\n",
        "*   ? - States that the previous character can be repeated 0 or 1 time.\n",
        "*   ^ - States that the string must start with the following character (e.g. ^t, string should start with t).\n",
        "*   \\$ - States that the string must end with the previous character.\n",
        "*   | - \"or\" operator.\n",
        "\n"
      ],
      "metadata": {
        "id": "jy2uMJCECc0x"
      }
    },
    {
      "cell_type": "markdown",
      "source": [
        "# Using Regex in Python\n",
        "\n",
        "So, here, we will use Regex to filter our data, so that we only get the desired text. For intance, let's get an example of each language:"
      ],
      "metadata": {
        "id": "xR_n1NFDCBlQ"
      }
    },
    {
      "cell_type": "code",
      "source": [
        "print(df_pt[\"Questão\"].iloc[0])"
      ],
      "metadata": {
        "id": "l_1LZY49_xlh",
        "colab": {
          "base_uri": "https://localhost:8080/"
        },
        "outputId": "6e129925-b6da-4f95-8d4f-5e957a30b601"
      },
      "execution_count": 332,
      "outputs": [
        {
          "output_type": "stream",
          "name": "stdout",
          "text": [
            "<p>Se eu fizer o <em><a href=\"http://pt.wikipedia.org/wiki/Fun%C3%A7%C3%A3o_de_embaralhamento_criptogr%C3%A1fico\" rel=\"noreferrer\">hash</a></em> de senhas antes de armazená-las em meu banco de dados é suficiente para evitar que elas sejam recuperadas por alguém?</p>\n",
            "\n",
            "<p>Estou falando apenas da recuperação diretamente do banco de dados e não qualquer outro tipo de ataque, como <a href=\"http://pt.wikipedia.org/wiki/Ataque_de_for%C3%A7a_bruta\" rel=\"noreferrer\">força bruta</a> na página de login da aplicação, <em><a href=\"http://pt.wikipedia.org/wiki/Keylogger\" rel=\"noreferrer\">keylogger</a></em> no cliente e <a href=\"http://pt.wikipedia.org/wiki/Criptoan%C3%A1lise_de_mangueira_de_borracha\" rel=\"noreferrer\">criptoanálise <em>rubberhose</em></a>. Qualquer forma de <em>hash</em> não vai impedir esses ataques.</p>\n",
            "\n",
            "<p>Tenho preocupação em dificultar ou até impossibilitar a obtenção das senhas originais caso o banco de dados seja comprometido. Como dar maior garantia de segurança neste aspecto?</p>\n",
            "\n",
            "<p>Quais preocupações adicionais evitariam o acesso às senhas? Existem formas melhores de fazer esse <em>hash</em>?</p>\n",
            "\n"
          ]
        }
      ]
    },
    {
      "cell_type": "code",
      "source": [
        "print(df_es[\"Questão\"].iloc[0])"
      ],
      "metadata": {
        "colab": {
          "base_uri": "https://localhost:8080/"
        },
        "id": "0KB5yCPoEIY7",
        "outputId": "115ab37e-b161-456a-b666-b9847a1550d3"
      },
      "execution_count": 333,
      "outputs": [
        {
          "output_type": "stream",
          "name": "stdout",
          "text": [
            "<p>Las sentencias dinámicas son sentencias SQL que se crean como cadenas de texto (strings) y en las que se insertan/concatenan valores obtenidos de alguna fuente (normalmente proveniente del usuario), lo que puede hacer que sean vulnerables a inyección SQL si no se sanean las entradas, como por ejemplo:</p>\n",
            "\n",
            "<pre><code>$id_usuario = $_POST[\"id\"];\n",
            "\n",
            "mysql_query(\"SELECT * FROM usuarios WHERE id = $id_usuario\");\n",
            "</code></pre>\n",
            "\n",
            "<p>Eso es un ejemplo de una vulnerabilidad grave en la seguridad de una aplicación (web o no) porque si el usuario introdujese un valor como <code>1; DROP TABLE usuarios;--</code> nos encontraríamos con que la sentencia ejecutada sería:</p>\n",
            "\n",
            "<pre><code>SELECT * FROM usuarios WHERE id = 1; DROP TABLE usuarios;--\n",
            "</code></pre>\n",
            "\n",
            "<p>Y se eliminaría la tabla Usuarios con todos los datos contenidos en ella. </p>\n",
            "\n",
            "<p><strong>¿Cómo puedo evitar que la inyección SQL ocurra en PHP?</strong></p>\n",
            "\n"
          ]
        }
      ]
    },
    {
      "cell_type": "code",
      "source": [
        "print(df_en[\"Questão\"].iloc[0])"
      ],
      "metadata": {
        "colab": {
          "base_uri": "https://localhost:8080/"
        },
        "id": "O4I5-8ZFEMIw",
        "outputId": "5dd1d252-fb23-4b79-ba32-7b257ef775ff"
      },
      "execution_count": 334,
      "outputs": [
        {
          "output_type": "stream",
          "name": "stdout",
          "text": [
            "<p>Here is a piece of C++ code that seems very peculiar. For some strange reason, sorting the data miraculously makes the code almost six times faster.</p>\n",
            "\n",
            "<pre class=\"lang-cpp prettyprint-override\"><code>#include &lt;algorithm&gt;\n",
            "#include &lt;ctime&gt;\n",
            "#include &lt;iostream&gt;\n",
            "\n",
            "int main()\n",
            "{\n",
            "    // Generate data\n",
            "    const unsigned arraySize = 32768;\n",
            "    int data[arraySize];\n",
            "\n",
            "    for (unsigned c = 0; c &lt; arraySize; ++c)\n",
            "        data[c] = std::rand() % 256;\n",
            "\n",
            "    // !!! With this, the next loop runs faster\n",
            "    std::sort(data, data + arraySize);\n",
            "\n",
            "    // Test\n",
            "    clock_t start = clock();\n",
            "    long long sum = 0;\n",
            "\n",
            "    for (unsigned i = 0; i &lt; 100000; ++i)\n",
            "    {\n",
            "        // Primary loop\n",
            "        for (unsigned c = 0; c &lt; arraySize; ++c)\n",
            "        {\n",
            "            if (data[c] &gt;= 128)\n",
            "                sum += data[c];\n",
            "        }\n",
            "    }\n",
            "\n",
            "    double elapsedTime = static_cast&lt;double&gt;(clock() - start) / CLOCKS_PER_SEC;\n",
            "\n",
            "    std::cout &lt;&lt; elapsedTime &lt;&lt; std::endl;\n",
            "    std::cout &lt;&lt; \"sum = \" &lt;&lt; sum &lt;&lt; std::endl;\n",
            "}\n",
            "</code></pre>\n",
            "\n",
            "<ul>\n",
            "<li>Without <code>std::sort(data, data + arraySize);</code>, the code runs in 11.54 seconds.</li>\n",
            "<li>With the sorted data, the code runs in 1.93 seconds.</li>\n",
            "</ul>\n",
            "\n",
            "<p>Initially, I thought this might be just a language or compiler anomaly. So I tried it in Java.</p>\n",
            "\n",
            "<pre class=\"lang-java prettyprint-override\"><code>import java.util.Arrays;\n",
            "import java.util.Random;\n",
            "\n",
            "public class Main\n",
            "{\n",
            "    public static void main(String[] args)\n",
            "    {\n",
            "        // Generate data\n",
            "        int arraySize = 32768;\n",
            "        int data[] = new int[arraySize];\n",
            "\n",
            "        Random rnd = new Random(0);\n",
            "        for (int c = 0; c &lt; arraySize; ++c)\n",
            "            data[c] = rnd.nextInt() % 256;\n",
            "\n",
            "        // !!! With this, the next loop runs faster\n",
            "        Arrays.sort(data);\n",
            "\n",
            "        // Test\n",
            "        long start = System.nanoTime();\n",
            "        long sum = 0;\n",
            "\n",
            "        for (int i = 0; i &lt; 100000; ++i)\n",
            "        {\n",
            "            // Primary loop\n",
            "            for (int c = 0; c &lt; arraySize; ++c)\n",
            "            {\n",
            "                if (data[c] &gt;= 128)\n",
            "                    sum += data[c];\n",
            "            }\n",
            "        }\n",
            "\n",
            "        System.out.println((System.nanoTime() - start) / 1000000000.0);\n",
            "        System.out.println(\"sum = \" + sum);\n",
            "    }\n",
            "}\n",
            "</code></pre>\n",
            "\n",
            "<p>With a somewhat similar but less extreme result.</p>\n",
            "\n",
            "<hr>\n",
            "\n",
            "<p>My first thought was that sorting brings the data into the cache, but then I thought how silly that is because the array was just generated.</p>\n",
            "\n",
            "<ul>\n",
            "<li>What is going on?</li>\n",
            "<li>Why is it faster to process a sorted array than an unsorted array?</li>\n",
            "<li>The code is summing up some independent terms, and the order should not matter.</li>\n",
            "</ul>\n",
            "\n"
          ]
        }
      ]
    },
    {
      "cell_type": "markdown",
      "source": [
        "## Removing HTML tags"
      ],
      "metadata": {
        "id": "9QUMAh-qNGYW"
      }
    },
    {
      "cell_type": "markdown",
      "source": [
        "Note that we have a piece of text full of HTML tags. In some cases, we also have some lines of code. Thus, we need to create a regex to identify these patterns, and extract important information from our data. Here, we will use the ```re``` package. Let's get our portuguese question, and try to make a regex. We have a lot of text under a \\<p\\> <\\p> tag. First, let's try to get those:"
      ],
      "metadata": {
        "id": "o1a56io1EPRd"
      }
    },
    {
      "cell_type": "code",
      "source": [
        "q_pt = df_pt[\"Questão\"].iloc[0]\n",
        "re.findall(r\"<p>\",q_pt)"
      ],
      "metadata": {
        "colab": {
          "base_uri": "https://localhost:8080/"
        },
        "id": "vlFKGf2bEOBE",
        "outputId": "dd4d0aa7-c3d1-46dc-8d13-1d388f57abe6"
      },
      "execution_count": 335,
      "outputs": [
        {
          "output_type": "execute_result",
          "data": {
            "text/plain": [
              "['<p>', '<p>', '<p>', '<p>']"
            ]
          },
          "metadata": {},
          "execution_count": 335
        }
      ]
    },
    {
      "cell_type": "markdown",
      "source": [
        "So, we found 4 tags. Now, let's try to find all tags in our text:"
      ],
      "metadata": {
        "id": "8AbwqU3CFiAX"
      }
    },
    {
      "cell_type": "code",
      "source": [
        "q_pt = df_pt[\"Questão\"].iloc[0]\n",
        "re.findall(r\"<.*?>\",q_pt)"
      ],
      "metadata": {
        "colab": {
          "base_uri": "https://localhost:8080/"
        },
        "id": "4o2HppfFE_PL",
        "outputId": "b823ce8b-1f1f-45b2-8082-d6273dadba8e"
      },
      "execution_count": 336,
      "outputs": [
        {
          "output_type": "execute_result",
          "data": {
            "text/plain": [
              "['<p>',\n",
              " '<em>',\n",
              " '<a href=\"http://pt.wikipedia.org/wiki/Fun%C3%A7%C3%A3o_de_embaralhamento_criptogr%C3%A1fico\" rel=\"noreferrer\">',\n",
              " '</a>',\n",
              " '</em>',\n",
              " '</p>',\n",
              " '<p>',\n",
              " '<a href=\"http://pt.wikipedia.org/wiki/Ataque_de_for%C3%A7a_bruta\" rel=\"noreferrer\">',\n",
              " '</a>',\n",
              " '<em>',\n",
              " '<a href=\"http://pt.wikipedia.org/wiki/Keylogger\" rel=\"noreferrer\">',\n",
              " '</a>',\n",
              " '</em>',\n",
              " '<a href=\"http://pt.wikipedia.org/wiki/Criptoan%C3%A1lise_de_mangueira_de_borracha\" rel=\"noreferrer\">',\n",
              " '<em>',\n",
              " '</em>',\n",
              " '</a>',\n",
              " '<em>',\n",
              " '</em>',\n",
              " '</p>',\n",
              " '<p>',\n",
              " '</p>',\n",
              " '<p>',\n",
              " '<em>',\n",
              " '</em>',\n",
              " '</p>']"
            ]
          },
          "metadata": {},
          "execution_count": 336
        }
      ]
    },
    {
      "cell_type": "markdown",
      "source": [
        "This regex seems to solve our problems. Thus, let's compile it:"
      ],
      "metadata": {
        "id": "urewOISdKTSk"
      }
    },
    {
      "cell_type": "code",
      "source": [
        "regex_search_tags = re.compile(r\"<.*?>\")"
      ],
      "metadata": {
        "id": "rtuFACOsKXWd"
      },
      "execution_count": 337,
      "outputs": []
    },
    {
      "cell_type": "markdown",
      "source": [
        "Compiling the regex saves us time when applying functions to the regex. Finally, we can simply substitute them for \"\":"
      ],
      "metadata": {
        "id": "rjS9qFFIGyvW"
      }
    },
    {
      "cell_type": "code",
      "source": [
        "regex_search_tags.sub(\"\",q_pt)"
      ],
      "metadata": {
        "colab": {
          "base_uri": "https://localhost:8080/",
          "height": 105
        },
        "id": "yObs1WS_Fv4l",
        "outputId": "788c4a1d-5b98-443c-d50d-734f5437ee3f"
      },
      "execution_count": 338,
      "outputs": [
        {
          "output_type": "execute_result",
          "data": {
            "text/plain": [
              "'Se eu fizer o hash de senhas antes de armazená-las em meu banco de dados é suficiente para evitar que elas sejam recuperadas por alguém?\\n\\nEstou falando apenas da recuperação diretamente do banco de dados e não qualquer outro tipo de ataque, como força bruta na página de login da aplicação, keylogger no cliente e criptoanálise rubberhose. Qualquer forma de hash não vai impedir esses ataques.\\n\\nTenho preocupação em dificultar ou até impossibilitar a obtenção das senhas originais caso o banco de dados seja comprometido. Como dar maior garantia de segurança neste aspecto?\\n\\nQuais preocupações adicionais evitariam o acesso às senhas? Existem formas melhores de fazer esse hash?\\n'"
            ],
            "application/vnd.google.colaboratory.intrinsic+json": {
              "type": "string"
            }
          },
          "metadata": {},
          "execution_count": 338
        }
      ]
    },
    {
      "cell_type": "markdown",
      "source": [
        "So, let's create a function to remove the HTML tags from a text:"
      ],
      "metadata": {
        "id": "NItYckRpL_O2"
      }
    },
    {
      "cell_type": "code",
      "source": [
        "def remove_HTML_tags(text, regex):\n",
        "  return regex.sub(\"\", text)"
      ],
      "metadata": {
        "id": "Ogqw2gNcHR_7"
      },
      "execution_count": 339,
      "outputs": []
    },
    {
      "cell_type": "markdown",
      "source": [
        "Now, let's test our function:"
      ],
      "metadata": {
        "id": "pZYhY_IRMYLi"
      }
    },
    {
      "cell_type": "code",
      "source": [
        "q_pt = df_pt[\"Questão\"].iloc[0]\n",
        "print(remove_HTML_tags(q_pt, regex_search_tags))"
      ],
      "metadata": {
        "colab": {
          "base_uri": "https://localhost:8080/"
        },
        "id": "HqlWOqoAMS_8",
        "outputId": "ad7d8b07-3bd5-45f3-9e04-ac6628ee4cc9"
      },
      "execution_count": 340,
      "outputs": [
        {
          "output_type": "stream",
          "name": "stdout",
          "text": [
            "Se eu fizer o hash de senhas antes de armazená-las em meu banco de dados é suficiente para evitar que elas sejam recuperadas por alguém?\n",
            "\n",
            "Estou falando apenas da recuperação diretamente do banco de dados e não qualquer outro tipo de ataque, como força bruta na página de login da aplicação, keylogger no cliente e criptoanálise rubberhose. Qualquer forma de hash não vai impedir esses ataques.\n",
            "\n",
            "Tenho preocupação em dificultar ou até impossibilitar a obtenção das senhas originais caso o banco de dados seja comprometido. Como dar maior garantia de segurança neste aspecto?\n",
            "\n",
            "Quais preocupações adicionais evitariam o acesso às senhas? Existem formas melhores de fazer esse hash?\n",
            "\n"
          ]
        }
      ]
    },
    {
      "cell_type": "code",
      "source": [
        "q_es = df_es[\"Questão\"].iloc[0]\n",
        "print(remove_HTML_tags(q_es, regex_search_tags))"
      ],
      "metadata": {
        "colab": {
          "base_uri": "https://localhost:8080/"
        },
        "id": "gRbKlzcTMeoN",
        "outputId": "c9d94eb2-0736-44d6-9ab8-20ecbd035947"
      },
      "execution_count": 341,
      "outputs": [
        {
          "output_type": "stream",
          "name": "stdout",
          "text": [
            "Las sentencias dinámicas son sentencias SQL que se crean como cadenas de texto (strings) y en las que se insertan/concatenan valores obtenidos de alguna fuente (normalmente proveniente del usuario), lo que puede hacer que sean vulnerables a inyección SQL si no se sanean las entradas, como por ejemplo:\n",
            "\n",
            "$id_usuario = $_POST[\"id\"];\n",
            "\n",
            "mysql_query(\"SELECT * FROM usuarios WHERE id = $id_usuario\");\n",
            "\n",
            "\n",
            "Eso es un ejemplo de una vulnerabilidad grave en la seguridad de una aplicación (web o no) porque si el usuario introdujese un valor como 1; DROP TABLE usuarios;-- nos encontraríamos con que la sentencia ejecutada sería:\n",
            "\n",
            "SELECT * FROM usuarios WHERE id = 1; DROP TABLE usuarios;--\n",
            "\n",
            "\n",
            "Y se eliminaría la tabla Usuarios con todos los datos contenidos en ella. \n",
            "\n",
            "¿Cómo puedo evitar que la inyección SQL ocurra en PHP?\n",
            "\n"
          ]
        }
      ]
    },
    {
      "cell_type": "code",
      "source": [
        "q_en = df_en[\"Questão\"].iloc[0]\n",
        "print(remove_HTML_tags(q_es, regex_search_tags))"
      ],
      "metadata": {
        "colab": {
          "base_uri": "https://localhost:8080/"
        },
        "id": "SovpHIHPMiL1",
        "outputId": "7a735f06-04c7-47df-d52d-25d2492ca69d"
      },
      "execution_count": 342,
      "outputs": [
        {
          "output_type": "stream",
          "name": "stdout",
          "text": [
            "Las sentencias dinámicas son sentencias SQL que se crean como cadenas de texto (strings) y en las que se insertan/concatenan valores obtenidos de alguna fuente (normalmente proveniente del usuario), lo que puede hacer que sean vulnerables a inyección SQL si no se sanean las entradas, como por ejemplo:\n",
            "\n",
            "$id_usuario = $_POST[\"id\"];\n",
            "\n",
            "mysql_query(\"SELECT * FROM usuarios WHERE id = $id_usuario\");\n",
            "\n",
            "\n",
            "Eso es un ejemplo de una vulnerabilidad grave en la seguridad de una aplicación (web o no) porque si el usuario introdujese un valor como 1; DROP TABLE usuarios;-- nos encontraríamos con que la sentencia ejecutada sería:\n",
            "\n",
            "SELECT * FROM usuarios WHERE id = 1; DROP TABLE usuarios;--\n",
            "\n",
            "\n",
            "Y se eliminaría la tabla Usuarios con todos los datos contenidos en ella. \n",
            "\n",
            "¿Cómo puedo evitar que la inyección SQL ocurra en PHP?\n",
            "\n"
          ]
        }
      ]
    },
    {
      "cell_type": "markdown",
      "source": [
        "## Removing code\n",
        "\n",
        "So, we managed to remove our HTML tags. However, note that our text still has code inside it. We can use the HTML tags to identify the code, and try to remove those first. Then, we can remove the HTML tags. Let's try to create a regex to identify the code and substitute it with the word CODE:"
      ],
      "metadata": {
        "id": "qaey_acSM2B2"
      }
    },
    {
      "cell_type": "code",
      "source": [
        "print(q_en)"
      ],
      "metadata": {
        "colab": {
          "base_uri": "https://localhost:8080/"
        },
        "id": "EUVH_-4nRV49",
        "outputId": "5789b8d1-5416-4c5f-da3a-1c121936a500"
      },
      "execution_count": 343,
      "outputs": [
        {
          "output_type": "stream",
          "name": "stdout",
          "text": [
            "<p>Here is a piece of C++ code that seems very peculiar. For some strange reason, sorting the data miraculously makes the code almost six times faster.</p>\n",
            "\n",
            "<pre class=\"lang-cpp prettyprint-override\"><code>#include &lt;algorithm&gt;\n",
            "#include &lt;ctime&gt;\n",
            "#include &lt;iostream&gt;\n",
            "\n",
            "int main()\n",
            "{\n",
            "    // Generate data\n",
            "    const unsigned arraySize = 32768;\n",
            "    int data[arraySize];\n",
            "\n",
            "    for (unsigned c = 0; c &lt; arraySize; ++c)\n",
            "        data[c] = std::rand() % 256;\n",
            "\n",
            "    // !!! With this, the next loop runs faster\n",
            "    std::sort(data, data + arraySize);\n",
            "\n",
            "    // Test\n",
            "    clock_t start = clock();\n",
            "    long long sum = 0;\n",
            "\n",
            "    for (unsigned i = 0; i &lt; 100000; ++i)\n",
            "    {\n",
            "        // Primary loop\n",
            "        for (unsigned c = 0; c &lt; arraySize; ++c)\n",
            "        {\n",
            "            if (data[c] &gt;= 128)\n",
            "                sum += data[c];\n",
            "        }\n",
            "    }\n",
            "\n",
            "    double elapsedTime = static_cast&lt;double&gt;(clock() - start) / CLOCKS_PER_SEC;\n",
            "\n",
            "    std::cout &lt;&lt; elapsedTime &lt;&lt; std::endl;\n",
            "    std::cout &lt;&lt; \"sum = \" &lt;&lt; sum &lt;&lt; std::endl;\n",
            "}\n",
            "</code></pre>\n",
            "\n",
            "<ul>\n",
            "<li>Without <code>std::sort(data, data + arraySize);</code>, the code runs in 11.54 seconds.</li>\n",
            "<li>With the sorted data, the code runs in 1.93 seconds.</li>\n",
            "</ul>\n",
            "\n",
            "<p>Initially, I thought this might be just a language or compiler anomaly. So I tried it in Java.</p>\n",
            "\n",
            "<pre class=\"lang-java prettyprint-override\"><code>import java.util.Arrays;\n",
            "import java.util.Random;\n",
            "\n",
            "public class Main\n",
            "{\n",
            "    public static void main(String[] args)\n",
            "    {\n",
            "        // Generate data\n",
            "        int arraySize = 32768;\n",
            "        int data[] = new int[arraySize];\n",
            "\n",
            "        Random rnd = new Random(0);\n",
            "        for (int c = 0; c &lt; arraySize; ++c)\n",
            "            data[c] = rnd.nextInt() % 256;\n",
            "\n",
            "        // !!! With this, the next loop runs faster\n",
            "        Arrays.sort(data);\n",
            "\n",
            "        // Test\n",
            "        long start = System.nanoTime();\n",
            "        long sum = 0;\n",
            "\n",
            "        for (int i = 0; i &lt; 100000; ++i)\n",
            "        {\n",
            "            // Primary loop\n",
            "            for (int c = 0; c &lt; arraySize; ++c)\n",
            "            {\n",
            "                if (data[c] &gt;= 128)\n",
            "                    sum += data[c];\n",
            "            }\n",
            "        }\n",
            "\n",
            "        System.out.println((System.nanoTime() - start) / 1000000000.0);\n",
            "        System.out.println(\"sum = \" + sum);\n",
            "    }\n",
            "}\n",
            "</code></pre>\n",
            "\n",
            "<p>With a somewhat similar but less extreme result.</p>\n",
            "\n",
            "<hr>\n",
            "\n",
            "<p>My first thought was that sorting brings the data into the cache, but then I thought how silly that is because the array was just generated.</p>\n",
            "\n",
            "<ul>\n",
            "<li>What is going on?</li>\n",
            "<li>Why is it faster to process a sorted array than an unsorted array?</li>\n",
            "<li>The code is summing up some independent terms, and the order should not matter.</li>\n",
            "</ul>\n",
            "\n"
          ]
        }
      ]
    },
    {
      "cell_type": "code",
      "source": [
        "print(re.sub(r\"<code>(.|(\\n))*?</code>\",\"CODE\", q_en))"
      ],
      "metadata": {
        "colab": {
          "base_uri": "https://localhost:8080/"
        },
        "id": "cPHuMN8lMrOH",
        "outputId": "eb4ff355-4fa1-40c1-9770-b39bbc3bab8a"
      },
      "execution_count": 344,
      "outputs": [
        {
          "output_type": "stream",
          "name": "stdout",
          "text": [
            "<p>Here is a piece of C++ code that seems very peculiar. For some strange reason, sorting the data miraculously makes the code almost six times faster.</p>\n",
            "\n",
            "<pre class=\"lang-cpp prettyprint-override\">CODE</pre>\n",
            "\n",
            "<ul>\n",
            "<li>Without CODE, the code runs in 11.54 seconds.</li>\n",
            "<li>With the sorted data, the code runs in 1.93 seconds.</li>\n",
            "</ul>\n",
            "\n",
            "<p>Initially, I thought this might be just a language or compiler anomaly. So I tried it in Java.</p>\n",
            "\n",
            "<pre class=\"lang-java prettyprint-override\">CODE</pre>\n",
            "\n",
            "<p>With a somewhat similar but less extreme result.</p>\n",
            "\n",
            "<hr>\n",
            "\n",
            "<p>My first thought was that sorting brings the data into the cache, but then I thought how silly that is because the array was just generated.</p>\n",
            "\n",
            "<ul>\n",
            "<li>What is going on?</li>\n",
            "<li>Why is it faster to process a sorted array than an unsorted array?</li>\n",
            "<li>The code is summing up some independent terms, and the order should not matter.</li>\n",
            "</ul>\n",
            "\n"
          ]
        }
      ]
    },
    {
      "cell_type": "markdown",
      "source": [
        "Nice! It seems to have worked out. Let's modify our user defined function:"
      ],
      "metadata": {
        "id": "McMyVhIORXEW"
      }
    },
    {
      "cell_type": "code",
      "source": [
        "regex_code = re.compile(r\"<code>(.|(\\n))*?</code>\")"
      ],
      "metadata": {
        "id": "Vn2irkQhRou2"
      },
      "execution_count": 345,
      "outputs": []
    },
    {
      "cell_type": "code",
      "source": [
        "def get_important_text(text, regex, regex_code, code_substitution):\n",
        "  text_no_code = regex_code.sub(\"CODE\", text)\n",
        "  return regex.sub(\"\", text_no_code)"
      ],
      "metadata": {
        "id": "CoAragiZO0YG"
      },
      "execution_count": 346,
      "outputs": []
    },
    {
      "cell_type": "markdown",
      "source": [
        "Let's test it:"
      ],
      "metadata": {
        "id": "QnzhVRgfR7lO"
      }
    },
    {
      "cell_type": "code",
      "source": [
        "print(get_important_text(q_en, regex_search_tags, regex_code, \"CODE\"))"
      ],
      "metadata": {
        "colab": {
          "base_uri": "https://localhost:8080/"
        },
        "id": "DwAeL5yNR37U",
        "outputId": "7bb41152-aa7f-4665-987b-78ec72e3bbfd"
      },
      "execution_count": 347,
      "outputs": [
        {
          "output_type": "stream",
          "name": "stdout",
          "text": [
            "Here is a piece of C++ code that seems very peculiar. For some strange reason, sorting the data miraculously makes the code almost six times faster.\n",
            "\n",
            "CODE\n",
            "\n",
            "\n",
            "Without CODE, the code runs in 11.54 seconds.\n",
            "With the sorted data, the code runs in 1.93 seconds.\n",
            "\n",
            "\n",
            "Initially, I thought this might be just a language or compiler anomaly. So I tried it in Java.\n",
            "\n",
            "CODE\n",
            "\n",
            "With a somewhat similar but less extreme result.\n",
            "\n",
            "\n",
            "\n",
            "My first thought was that sorting brings the data into the cache, but then I thought how silly that is because the array was just generated.\n",
            "\n",
            "\n",
            "What is going on?\n",
            "Why is it faster to process a sorted array than an unsorted array?\n",
            "The code is summing up some independent terms, and the order should not matter.\n",
            "\n",
            "\n"
          ]
        }
      ]
    },
    {
      "cell_type": "markdown",
      "source": [
        "Nice! It worked out. \n",
        "\n",
        "Now, let's apply the regex to our entire dataset:"
      ],
      "metadata": {
        "id": "L8Hg2HurSGVn"
      }
    },
    {
      "cell_type": "code",
      "source": [
        "df_pt[\"Q_Treat\"] = df_pt[\"Questão\"].apply(lambda x : get_important_text(x, regex_search_tags, regex_code, \"CODE\"))\n",
        "\n",
        "df_en[\"Q_Treat\"] = df_en[\"Questão\"].apply(lambda x : get_important_text(x, regex_search_tags, regex_code, \"CODE\"))\n",
        "\n",
        "df_es[\"Q_Treat\"] = df_es[\"Questão\"].apply(lambda x : get_important_text(x, regex_search_tags, regex_code, \"CODE\"))"
      ],
      "metadata": {
        "id": "DPtwL7dgSEo8"
      },
      "execution_count": 348,
      "outputs": []
    },
    {
      "cell_type": "markdown",
      "source": [
        "Let's see some examples to guarantee that everything worked out:"
      ],
      "metadata": {
        "id": "AhlJTG7oS2H9"
      }
    },
    {
      "cell_type": "code",
      "source": [
        "print(df_pt[\"Q_Treat\"].iloc[12])"
      ],
      "metadata": {
        "colab": {
          "base_uri": "https://localhost:8080/"
        },
        "id": "KbbvjohbSptH",
        "outputId": "9e5805bc-9b64-4ad8-c005-95a4b6e442ba"
      },
      "execution_count": 349,
      "outputs": [
        {
          "output_type": "stream",
          "name": "stdout",
          "text": [
            "Estou pensando em fazer uma aplicação para vender, gostaria de saber como proteger meu código fonte para manter meu software seguro.\n",
            "\n",
            "Eu vi que os bytecodes do Java, armazenados no arquivo CODE são facilmente convertidos de volta para CODE usando a ferramenta Java Decompiler\n",
            "\n",
            "Os CODE podem ser facilmente encontrados dentro de um CODE para o caso dos desktops, ou até mesmo em um CODE, conforme mostrado nesse post.\n",
            "\n",
            "Como fazem os milhões de aplicativos no Google Play para protegerem seus códigos fontes? Pois deixá-los expostos me parece meio inseguro, ou não é? Se sim (se é inseguro), tem como eu desenvolver aplicações que mantenham escondido o código fonte em Java para desktop e Android?\n",
            "\n",
            "EDIÇÃO\n",
            "\n",
            "A resposta do @mgibsonbr me convenceu de não ser paranoico e querer proteger todo o código fonte, entretanto existem alguns pontos da aplicação que não podem ser revelados por motivo de segurança dos dados, por exemplo:\n",
            "\n",
            "CODE\n",
            "\n",
            "Imaginem o estrago se alguém tiver o endereço, o usuário e a senha do seu banco de dados.\n",
            "\n",
            "Nos comentários o @mgibsonbr tentou responder essa minha dúvida, mas eu não entendi, ou talvez eu não tenha deixado a dúvida clara, enfim.\n",
            "\n",
            "Sobre o ofuscador, através de testes pude ver que ele funciona. Entretanto tenho dúvidas se ele é mesmo a solução que eu procuro ou se a solução na verdade é remodelar o meu software de uma maneira que não guarde no código fonte nenhum tipo de informações que exijam segredo como por exemplo usuário, senhas e endereços de BD.\n",
            "\n",
            "Se a solução for remodelar o software, por favor me expliquem como manter um arquivo externo ao código fonte de uma maneira que não seja possível o hacker copiar a parte do meu código fonte que faz a leitura desse arquivo externo, tendo então o código que consegue ler o arquivo, da mesma maneira que meu software faz.\n",
            "\n"
          ]
        }
      ]
    },
    {
      "cell_type": "code",
      "source": [
        "print(df_en[\"Q_Treat\"].iloc[5])"
      ],
      "metadata": {
        "colab": {
          "base_uri": "https://localhost:8080/"
        },
        "id": "aGKq__VtS9O7",
        "outputId": "97b39c25-4c4d-4285-f575-c3b507f154c7"
      },
      "execution_count": 350,
      "outputs": [
        {
          "output_type": "stream",
          "name": "stdout",
          "text": [
            "What is the use of the CODE keyword in Python? What does it do?\n",
            "\n",
            "For example, I'm trying to understand this code1:\n",
            "\n",
            "CODE\n",
            "\n",
            "And this is the caller:\n",
            "\n",
            "CODE\n",
            "\n",
            "What happens when the method CODE is called?\n",
            "Is a list returned? A single element? Is it called again? When will subsequent calls stop?\n",
            "\n",
            "\n",
            "\n",
            "\n",
            "1. This piece of code was written by Jochen Schulz (jrschulz), who made a great Python library for metric spaces. This is the link to the complete source: Module mspace.\n",
            "\n"
          ]
        }
      ]
    },
    {
      "cell_type": "code",
      "source": [
        "print(df_es[\"Q_Treat\"].iloc[5])"
      ],
      "metadata": {
        "colab": {
          "base_uri": "https://localhost:8080/"
        },
        "id": "OziSKLa6TCW-",
        "outputId": "71a980b6-993b-45fb-ded4-2f081f458630"
      },
      "execution_count": 351,
      "outputs": [
        {
          "output_type": "stream",
          "name": "stdout",
          "text": [
            "Siempre he visto que en CODE hay:\n",
            "\n",
            "\n",
            "asignaciones CODE\n",
            "comparaciones CODE y CODE\n",
            "\n",
            "\n",
            "Creo entender que CODE hace algo parecido a comparar el valor de la variable y el CODE también compara el tipo (como un equals de java). \n",
            "\n",
            "¿Alguien podría confirmarme este punto y extenderlo?. Soy javero y el no tipado de javascript a veces me encanta y otras lo odio.\n",
            "\n",
            "\n",
            "\n",
            "¿Cuál es la manera correcta en javascript de comparar CODE, CODE y otros valores por defecto? \n",
            "\n",
            "CODE\n",
            "\n",
            "¿CODE se usa como cadena de texto o como palabra clave? ¿Cual de las siguientes comparaciones es la correcta para un elemento CODE sin CODE? (por ejemplo un label sin contenido)\n",
            "\n",
            "CODE\n",
            "\n"
          ]
        }
      ]
    },
    {
      "cell_type": "markdown",
      "source": [
        "Nice! It seems to have worked out fine."
      ],
      "metadata": {
        "id": "RkIo9V3QTHfo"
      }
    },
    {
      "cell_type": "markdown",
      "source": [
        "# Removing digits and punctuation\n",
        "\n",
        "We want to create a model that allow us to detect which language is being used. Thus, we need to be able to read the WORDS, and nothing else. Things such as digits and punctuation are common for every language and, thus, may make it harder for our model to detect the language. First, let's use a regex to obtain our non-alphanumeric characthers:"
      ],
      "metadata": {
        "id": "Sr_3wBQtTcqv"
      }
    },
    {
      "cell_type": "code",
      "source": [
        "regex_punct = re.compile(r\"[^\\w\\s]\")  "
      ],
      "metadata": {
        "id": "ouIoRkoSTGYd"
      },
      "execution_count": 352,
      "outputs": []
    },
    {
      "cell_type": "markdown",
      "source": [
        "Here, we are getting everything that is not \"\\w\" (alphanumeric) or \"\\s\" (space). Let's try to use it:"
      ],
      "metadata": {
        "id": "BKAhhwzoUM0x"
      }
    },
    {
      "cell_type": "code",
      "source": [
        "print(regex_punct.sub(\"\", q_en))"
      ],
      "metadata": {
        "colab": {
          "base_uri": "https://localhost:8080/"
        },
        "id": "eh-4yE6eUgH1",
        "outputId": "8821a360-fb38-48d0-d216-9f04f7260324"
      },
      "execution_count": 353,
      "outputs": [
        {
          "output_type": "stream",
          "name": "stdout",
          "text": [
            "pHere is a piece of C code that seems very peculiar For some strange reason sorting the data miraculously makes the code almost six times fasterp\n",
            "\n",
            "pre classlangcpp prettyprintoverridecodeinclude ltalgorithmgt\n",
            "include ltctimegt\n",
            "include ltiostreamgt\n",
            "\n",
            "int main\n",
            "\n",
            "     Generate data\n",
            "    const unsigned arraySize  32768\n",
            "    int dataarraySize\n",
            "\n",
            "    for unsigned c  0 c lt arraySize c\n",
            "        datac  stdrand  256\n",
            "\n",
            "      With this the next loop runs faster\n",
            "    stdsortdata data  arraySize\n",
            "\n",
            "     Test\n",
            "    clock_t start  clock\n",
            "    long long sum  0\n",
            "\n",
            "    for unsigned i  0 i lt 100000 i\n",
            "    \n",
            "         Primary loop\n",
            "        for unsigned c  0 c lt arraySize c\n",
            "        \n",
            "            if datac gt 128\n",
            "                sum  datac\n",
            "        \n",
            "    \n",
            "\n",
            "    double elapsedTime  static_castltdoublegtclock  start  CLOCKS_PER_SEC\n",
            "\n",
            "    stdcout ltlt elapsedTime ltlt stdendl\n",
            "    stdcout ltlt sum   ltlt sum ltlt stdendl\n",
            "\n",
            "codepre\n",
            "\n",
            "ul\n",
            "liWithout codestdsortdata data  arraySizecode the code runs in 1154 secondsli\n",
            "liWith the sorted data the code runs in 193 secondsli\n",
            "ul\n",
            "\n",
            "pInitially I thought this might be just a language or compiler anomaly So I tried it in Javap\n",
            "\n",
            "pre classlangjava prettyprintoverridecodeimport javautilArrays\n",
            "import javautilRandom\n",
            "\n",
            "public class Main\n",
            "\n",
            "    public static void mainString args\n",
            "    \n",
            "         Generate data\n",
            "        int arraySize  32768\n",
            "        int data  new intarraySize\n",
            "\n",
            "        Random rnd  new Random0\n",
            "        for int c  0 c lt arraySize c\n",
            "            datac  rndnextInt  256\n",
            "\n",
            "          With this the next loop runs faster\n",
            "        Arrayssortdata\n",
            "\n",
            "         Test\n",
            "        long start  SystemnanoTime\n",
            "        long sum  0\n",
            "\n",
            "        for int i  0 i lt 100000 i\n",
            "        \n",
            "             Primary loop\n",
            "            for int c  0 c lt arraySize c\n",
            "            \n",
            "                if datac gt 128\n",
            "                    sum  datac\n",
            "            \n",
            "        \n",
            "\n",
            "        SystemoutprintlnSystemnanoTime  start  10000000000\n",
            "        Systemoutprintlnsum    sum\n",
            "    \n",
            "\n",
            "codepre\n",
            "\n",
            "pWith a somewhat similar but less extreme resultp\n",
            "\n",
            "hr\n",
            "\n",
            "pMy first thought was that sorting brings the data into the cache but then I thought how silly that is because the array was just generatedp\n",
            "\n",
            "ul\n",
            "liWhat is going onli\n",
            "liWhy is it faster to process a sorted array than an unsorted arrayli\n",
            "liThe code is summing up some independent terms and the order should not matterli\n",
            "ul\n",
            "\n"
          ]
        }
      ]
    },
    {
      "cell_type": "markdown",
      "source": [
        "Nice! Also, the last thing we may implement is a function that turns everything into lowercase. We can do that simply using the ```lower( )``` method.\n"
      ],
      "metadata": {
        "id": "CjRsYJJdUtwm"
      }
    },
    {
      "cell_type": "markdown",
      "source": [
        "\n",
        "Now, let's implement this again on our function:"
      ],
      "metadata": {
        "id": "OGApTsOMVTpF"
      }
    },
    {
      "cell_type": "code",
      "source": [
        "def get_important_text(text, regex, regex_punct, regex_code, code_substitution):\n",
        "  text_no_code = regex_code.sub(code_substitution, text)\n",
        "  text_no_tags = regex.sub(\"\", text_no_code)\n",
        "  return regex_punct.sub(\"\", text_no_tags).lower( )"
      ],
      "metadata": {
        "id": "2JwU3hgAUFfv"
      },
      "execution_count": 354,
      "outputs": []
    },
    {
      "cell_type": "markdown",
      "source": [
        "Finally, let's update our treatment:"
      ],
      "metadata": {
        "id": "xNieraJjVdlv"
      }
    },
    {
      "cell_type": "code",
      "source": [
        "df_pt[\"Q_Treat\"] = df_pt[\"Questão\"].apply(lambda x : get_important_text(x, regex_search_tags, regex_punct, regex_code, \"CODE\"))\n",
        "\n",
        "df_en[\"Q_Treat\"] = df_en[\"Questão\"].apply(lambda x : get_important_text(x, regex_search_tags, regex_punct, regex_code, \"CODE\"))\n",
        "\n",
        "df_es[\"Q_Treat\"] = df_es[\"Questão\"].apply(lambda x : get_important_text(x, regex_search_tags, regex_punct, regex_code, \"CODE\"))"
      ],
      "metadata": {
        "id": "fgMR9kufU9Vu"
      },
      "execution_count": 355,
      "outputs": []
    },
    {
      "cell_type": "markdown",
      "source": [
        "Now, we can check again if everything went alright:"
      ],
      "metadata": {
        "id": "RlBpP_P9Vqae"
      }
    },
    {
      "cell_type": "code",
      "source": [
        "print(df_pt[\"Q_Treat\"].iloc[12])"
      ],
      "metadata": {
        "colab": {
          "base_uri": "https://localhost:8080/"
        },
        "outputId": "c1130d1c-4fa1-449b-c553-44ee0860ed6f",
        "id": "Ecn4yic9VpaO"
      },
      "execution_count": 356,
      "outputs": [
        {
          "output_type": "stream",
          "name": "stdout",
          "text": [
            "estou pensando em fazer uma aplicação para vender gostaria de saber como proteger meu código fonte para manter meu software seguro\n",
            "\n",
            "eu vi que os bytecodes do java armazenados no arquivo code são facilmente convertidos de volta para code usando a ferramenta java decompiler\n",
            "\n",
            "os code podem ser facilmente encontrados dentro de um code para o caso dos desktops ou até mesmo em um code conforme mostrado nesse post\n",
            "\n",
            "como fazem os milhões de aplicativos no google play para protegerem seus códigos fontes pois deixálos expostos me parece meio inseguro ou não é se sim se é inseguro tem como eu desenvolver aplicações que mantenham escondido o código fonte em java para desktop e android\n",
            "\n",
            "edição\n",
            "\n",
            "a resposta do mgibsonbr me convenceu de não ser paranoico e querer proteger todo o código fonte entretanto existem alguns pontos da aplicação que não podem ser revelados por motivo de segurança dos dados por exemplo\n",
            "\n",
            "code\n",
            "\n",
            "imaginem o estrago se alguém tiver o endereço o usuário e a senha do seu banco de dados\n",
            "\n",
            "nos comentários o mgibsonbr tentou responder essa minha dúvida mas eu não entendi ou talvez eu não tenha deixado a dúvida clara enfim\n",
            "\n",
            "sobre o ofuscador através de testes pude ver que ele funciona entretanto tenho dúvidas se ele é mesmo a solução que eu procuro ou se a solução na verdade é remodelar o meu software de uma maneira que não guarde no código fonte nenhum tipo de informações que exijam segredo como por exemplo usuário senhas e endereços de bd\n",
            "\n",
            "se a solução for remodelar o software por favor me expliquem como manter um arquivo externo ao código fonte de uma maneira que não seja possível o hacker copiar a parte do meu código fonte que faz a leitura desse arquivo externo tendo então o código que consegue ler o arquivo da mesma maneira que meu software faz\n",
            "\n"
          ]
        }
      ]
    },
    {
      "cell_type": "code",
      "source": [
        "print(df_en[\"Q_Treat\"].iloc[5])"
      ],
      "metadata": {
        "colab": {
          "base_uri": "https://localhost:8080/"
        },
        "outputId": "015541fe-cee8-4f77-a4df-c3ecb725012c",
        "id": "q4Dn-DxmVpaP"
      },
      "execution_count": 357,
      "outputs": [
        {
          "output_type": "stream",
          "name": "stdout",
          "text": [
            "what is the use of the code keyword in python what does it do\n",
            "\n",
            "for example im trying to understand this code1\n",
            "\n",
            "code\n",
            "\n",
            "and this is the caller\n",
            "\n",
            "code\n",
            "\n",
            "what happens when the method code is called\n",
            "is a list returned a single element is it called again when will subsequent calls stop\n",
            "\n",
            "\n",
            "\n",
            "\n",
            "1 this piece of code was written by jochen schulz jrschulz who made a great python library for metric spaces this is the link to the complete source module mspace\n",
            "\n"
          ]
        }
      ]
    },
    {
      "cell_type": "code",
      "source": [
        "print(df_es[\"Q_Treat\"].iloc[5])"
      ],
      "metadata": {
        "colab": {
          "base_uri": "https://localhost:8080/"
        },
        "outputId": "bb602b4a-7824-48aa-83b8-9af9d043ef91",
        "id": "3lCUqQFzVpaP"
      },
      "execution_count": 358,
      "outputs": [
        {
          "output_type": "stream",
          "name": "stdout",
          "text": [
            "siempre he visto que en code hay\n",
            "\n",
            "\n",
            "asignaciones code\n",
            "comparaciones code y code\n",
            "\n",
            "\n",
            "creo entender que code hace algo parecido a comparar el valor de la variable y el code también compara el tipo como un equals de java \n",
            "\n",
            "alguien podría confirmarme este punto y extenderlo soy javero y el no tipado de javascript a veces me encanta y otras lo odio\n",
            "\n",
            "\n",
            "\n",
            "cuál es la manera correcta en javascript de comparar code code y otros valores por defecto \n",
            "\n",
            "code\n",
            "\n",
            "code se usa como cadena de texto o como palabra clave cual de las siguientes comparaciones es la correcta para un elemento code sin code por ejemplo un label sin contenido\n",
            "\n",
            "code\n",
            "\n"
          ]
        }
      ]
    },
    {
      "cell_type": "markdown",
      "source": [
        "Now, our text is in lowercase and there are no punctuation marks! Finally, we can remove our digits using another regex method:"
      ],
      "metadata": {
        "id": "SkcYjvfgVvMQ"
      }
    },
    {
      "cell_type": "code",
      "source": [
        "regex_digits = re.compile(r\"\\d+\")"
      ],
      "metadata": {
        "id": "oerRfhSnVukW"
      },
      "execution_count": 359,
      "outputs": []
    },
    {
      "cell_type": "markdown",
      "source": [
        "Updating our function:"
      ],
      "metadata": {
        "id": "TC53S-GgWJMV"
      }
    },
    {
      "cell_type": "code",
      "source": [
        "def get_important_text(text, regex, regex_punct, regex_digits, regex_code, code_substitution):\n",
        "  text_no_code = regex_code.sub(code_substitution, text)\n",
        "  text_no_tags = regex.sub(\"\", text_no_code)\n",
        "  text_no_punct = regex_punct.sub(\"\", text_no_tags)\n",
        "  text_no_digits = regex_digits(\"\", text_no_punct)\n",
        "  return text_no_digits.lower( )"
      ],
      "metadata": {
        "id": "DB0H_8JOWGyd"
      },
      "execution_count": 360,
      "outputs": []
    },
    {
      "cell_type": "markdown",
      "source": [
        "One final thing: let's remove duplicated spaces. We can simply do:"
      ],
      "metadata": {
        "id": "NB970ZnDWYpY"
      }
    },
    {
      "cell_type": "code",
      "source": [
        "regex_dup_spaces = re.compile(r\" +\")\n",
        "regex_line_break = re.compile(r\"(\\n)\")"
      ],
      "metadata": {
        "id": "CrQPpQHtWViU"
      },
      "execution_count": 361,
      "outputs": []
    },
    {
      "cell_type": "code",
      "source": [
        "def get_important_text(text, regex, regex_punct, regex_digits, regex_dup_spaces, regex_line_break, regex_code, code_substitution):\n",
        "  # Substituting code\n",
        "  text_no_code = regex_code.sub(code_substitution, text)\n",
        "  # Removing HTML tags\n",
        "  text_no_tags = regex.sub(\"\", text_no_code)\n",
        "  # Removing punctuation\n",
        "  text_no_punct = regex_punct.sub(\"\", text_no_tags)\n",
        "  # Removing decimal digits\n",
        "  text_no_digits = regex_digits.sub(\"\", text_no_punct)\n",
        "  # Removing line breaks\n",
        "  text_no_line_break = regex_line_break.sub(\" \", text_no_digits)\n",
        "  # Removing duplicated spaces\n",
        "  text_no_dup_space = regex_dup_spaces.sub(\" \", text_no_line_break)\n",
        "  return text_no_dup_space.lower( )"
      ],
      "metadata": {
        "id": "Q8Glh8uRWoOI"
      },
      "execution_count": 362,
      "outputs": []
    },
    {
      "cell_type": "markdown",
      "source": [
        "# Treating our dataset\n",
        "\n",
        "Finally, we have implemented all of our Regular Expressions in a single function. Now, let's performing the treatment in the portuguese dataset:"
      ],
      "metadata": {
        "id": "R0MCwpDpW0ox"
      }
    },
    {
      "cell_type": "code",
      "source": [
        "df_pt[\"Q_Treat\"] = df_pt[\"Questão\"].apply(lambda x : get_important_text(x, regex_search_tags, regex_punct, regex_digits, regex_dup_spaces, regex_line_break, regex_code, \"CODE\"))"
      ],
      "metadata": {
        "id": "dqZkZoKXWyYT"
      },
      "execution_count": 363,
      "outputs": []
    },
    {
      "cell_type": "markdown",
      "source": [
        "And, if we check an example, we get:"
      ],
      "metadata": {
        "id": "-sjNs5rEXq2P"
      }
    },
    {
      "cell_type": "code",
      "source": [
        "print(df_pt[\"Q_Treat\"].iloc[12])"
      ],
      "metadata": {
        "colab": {
          "base_uri": "https://localhost:8080/"
        },
        "id": "qaMYliYaXo11",
        "outputId": "3453097d-153d-43ca-f404-ec97c27c20a1"
      },
      "execution_count": 364,
      "outputs": [
        {
          "output_type": "stream",
          "name": "stdout",
          "text": [
            "estou pensando em fazer uma aplicação para vender gostaria de saber como proteger meu código fonte para manter meu software seguro eu vi que os bytecodes do java armazenados no arquivo code são facilmente convertidos de volta para code usando a ferramenta java decompiler os code podem ser facilmente encontrados dentro de um code para o caso dos desktops ou até mesmo em um code conforme mostrado nesse post como fazem os milhões de aplicativos no google play para protegerem seus códigos fontes pois deixálos expostos me parece meio inseguro ou não é se sim se é inseguro tem como eu desenvolver aplicações que mantenham escondido o código fonte em java para desktop e android edição a resposta do mgibsonbr me convenceu de não ser paranoico e querer proteger todo o código fonte entretanto existem alguns pontos da aplicação que não podem ser revelados por motivo de segurança dos dados por exemplo code imaginem o estrago se alguém tiver o endereço o usuário e a senha do seu banco de dados nos comentários o mgibsonbr tentou responder essa minha dúvida mas eu não entendi ou talvez eu não tenha deixado a dúvida clara enfim sobre o ofuscador através de testes pude ver que ele funciona entretanto tenho dúvidas se ele é mesmo a solução que eu procuro ou se a solução na verdade é remodelar o meu software de uma maneira que não guarde no código fonte nenhum tipo de informações que exijam segredo como por exemplo usuário senhas e endereços de bd se a solução for remodelar o software por favor me expliquem como manter um arquivo externo ao código fonte de uma maneira que não seja possível o hacker copiar a parte do meu código fonte que faz a leitura desse arquivo externo tendo então o código que consegue ler o arquivo da mesma maneira que meu software faz \n"
          ]
        }
      ]
    },
    {
      "cell_type": "markdown",
      "source": [
        "Nice! This is very good: we managed to simply keep the portuguese words in our text, with no punctuation, digits, or line breaks. This will be very good when we implement our language detection model. \n",
        "\n",
        "Now, let's apply the treatment in the other dataframes:"
      ],
      "metadata": {
        "id": "agx7DJ08Xu6p"
      }
    },
    {
      "cell_type": "code",
      "source": [
        "df_en[\"Q_Treat\"] = df_en[\"Questão\"].apply(lambda x : get_important_text(x, regex_search_tags, regex_punct, regex_digits, regex_dup_spaces, regex_line_break, regex_code, \"CODE\"))\n",
        "\n",
        "df_es[\"Q_Treat\"] = df_es[\"Questão\"].apply(lambda x : get_important_text(x, regex_search_tags, regex_punct, regex_digits, regex_dup_spaces, regex_line_break, regex_code, \"CODE\"))"
      ],
      "metadata": {
        "id": "qViBGzXLXtD4"
      },
      "execution_count": 365,
      "outputs": []
    },
    {
      "cell_type": "markdown",
      "source": [
        "Finally, now that we have treated our datasets, we can start to create our language model."
      ],
      "metadata": {
        "id": "et2DihzlZlF4"
      }
    },
    {
      "cell_type": "markdown",
      "source": [
        "# Natural Language Toolkit (NLTK) and Machine Learning\n",
        "\n",
        "Language models are important tools for Natural Language Processing. To detect the language of our text (portuguese, english, or spanish), we will basically evaluate what is the probability that a certain word is from a given language.\n",
        "\n",
        "Here, we will use bigrams, which are given by pairs of words taken from a sequence of text. For instance, the text:\n",
        "\n",
        "* Test.\n",
        "\n",
        "can be separated into the following biagrams:\n",
        "\n",
        "* (T, e), (e, s), (s, t)\n",
        "\n",
        "Let's get an example of bigrams:"
      ],
      "metadata": {
        "id": "Fm6H2CE1ZrhW"
      }
    },
    {
      "cell_type": "code",
      "source": [
        "list(nltk.bigrams('Test'))"
      ],
      "metadata": {
        "colab": {
          "base_uri": "https://localhost:8080/"
        },
        "id": "mBFUXLlzYCBT",
        "outputId": "8c082aa0-83b2-4486-c66f-b8442f199752"
      },
      "execution_count": 366,
      "outputs": [
        {
          "output_type": "execute_result",
          "data": {
            "text/plain": [
              "[('T', 'e'), ('e', 's'), ('s', 't')]"
            ]
          },
          "metadata": {},
          "execution_count": 366
        }
      ]
    },
    {
      "cell_type": "markdown",
      "source": [
        "Note that the first and final letters are counted only once, while the others are counted twice. This can mess with the probabilities in our model. To fix this, we can use \"fake characters\". We can do this with:"
      ],
      "metadata": {
        "id": "dk87Rk1vfgVe"
      }
    },
    {
      "cell_type": "code",
      "source": [
        "list(nltk.bigrams(pad_both_ends('Test', n = 2)))"
      ],
      "metadata": {
        "colab": {
          "base_uri": "https://localhost:8080/"
        },
        "id": "-E_YCFMZe6in",
        "outputId": "3f0d01ec-82f7-40d5-b2ef-888009a77cea"
      },
      "execution_count": 367,
      "outputs": [
        {
          "output_type": "execute_result",
          "data": {
            "text/plain": [
              "[('<s>', 'T'), ('T', 'e'), ('e', 's'), ('s', 't'), ('t', '</s>')]"
            ]
          },
          "metadata": {},
          "execution_count": 367
        }
      ]
    },
    {
      "cell_type": "markdown",
      "source": [
        "Nice! So, here, we used fake chars, forcing that all letters appear twice. Also, our model will be able to understand when is the start and end of each word.\n",
        "\n",
        "In our model, we need to have explicative features (which is our text) and target variables (which is the language). Let's create a column with the language of each df:"
      ],
      "metadata": {
        "id": "G1eOQojzgUv4"
      }
    },
    {
      "cell_type": "code",
      "source": [
        "df_pt['Language'] = 'PT'\n",
        "df_en['Language'] = 'EN'\n",
        "df_es['Language'] = 'ES'"
      ],
      "metadata": {
        "id": "RJJR7F76gSud"
      },
      "execution_count": 368,
      "outputs": []
    },
    {
      "cell_type": "markdown",
      "source": [
        "Now, let's create a single dataset with all of our data:"
      ],
      "metadata": {
        "id": "pPWdoA58jIQm"
      }
    },
    {
      "cell_type": "code",
      "source": [
        "df_aux1 = df_pt[['Q_Treat', 'Language']].copy( )\n",
        "df_aux2 = df_en[['Q_Treat', 'Language']].copy( )\n",
        "df_aux3 = df_es[['Q_Treat', 'Language']].copy( )"
      ],
      "metadata": {
        "id": "m3asebs5jE9Z"
      },
      "execution_count": 369,
      "outputs": []
    },
    {
      "cell_type": "markdown",
      "source": [
        "Nice. Now, let's divide our dataset into explicative and target features:"
      ],
      "metadata": {
        "id": "-WVYEdIkj1Y2"
      }
    },
    {
      "cell_type": "code",
      "source": [
        "X = df_aux1['Q_Treat']\n",
        "y = df_aux1['Language']"
      ],
      "metadata": {
        "id": "O1x6odoEjRgk"
      },
      "execution_count": 370,
      "outputs": []
    },
    {
      "cell_type": "markdown",
      "source": [
        "Now, we may perform the train-test split:"
      ],
      "metadata": {
        "id": "ZoiNs9-Ij-AH"
      }
    },
    {
      "cell_type": "code",
      "source": [
        "X_train_pt, X_test_pt, y_train_pt, y_test_pt = train_test_split(X, y, test_size = 0.2, stratify = y, random_state = 42)"
      ],
      "metadata": {
        "id": "vSi83aQ_jSBa"
      },
      "execution_count": 371,
      "outputs": []
    },
    {
      "cell_type": "markdown",
      "source": [
        "## Defining a model to detect the language of a given word\n",
        "\n",
        "Nice! Now, note that our explicative features are a set of words (which form a text). However, in our language detection model, we want to detect the language of a single word. Thus, we have to separate our text data into multiple words, and define our bigrams for each word.\n",
        "\n",
        "First, let's get all portuguese text into one feature:"
      ],
      "metadata": {
        "id": "MbTCs1euki2u"
      }
    },
    {
      "cell_type": "code",
      "source": [
        "pt_text_train = ' '.join(X_train_pt)"
      ],
      "metadata": {
        "id": "nslGtpi8kKpx"
      },
      "execution_count": 372,
      "outputs": []
    },
    {
      "cell_type": "code",
      "source": [
        "pt_text_train"
      ],
      "metadata": {
        "colab": {
          "base_uri": "https://localhost:8080/",
          "height": 140
        },
        "id": "UOTTl6XXmQJd",
        "outputId": "3f3c7f8a-7116-41ed-8bd9-87e89cd03985"
      },
      "execution_count": 373,
      "outputs": [
        {
          "output_type": "execute_result",
          "data": {
            "text/plain": [
              "'ultimamente ouvi muito a respeito de web service web service é uma solução utilizada na integração de sistemas e na comunicação entre aplicações diferentes permitem às aplicações enviar e receber dados em formato xml web service é uma solução utilizada na integração de sistemas e na comunicação entre aplicações diferentes com esta tecnologia é possível que novas aplicações possam interagir com aquelas que já existem e que sistemas desenvolvidos em plataformas diferentes sejam compatíveis os web services são componentes que permitem às aplicações enviar e receber dados em formato xml cada aplicação pode ter a sua própria linguagem que é traduzida para uma linguagem universal o formato xml fonte httpswwwoficinadanetcombrartigoo_que_e_web_service eu não consegui visualizar o que seria um web service mas afinal o que ele é alguém poderia elucidar com alguma aplicação que ele possa ser utilizado talvez isso melhore no meu entendimento  ao criar um componente usamos code para identificálo por exemplo code qual é a diferença de usar code sem o no lugar do code é correto usar um ou outro  estou fazendo um pequeno sistema e para acessálo o usuário digita o login e senha qual a melhor forma segura e simples de fazer o sistema de login e senha  estou procurando por maneiras de se copiar um texto pra área de transferência clipboard via javascript que funcione na maioria dos browsers modernos mas há informação demais e me parece desatualizada sei que há a clipboard api e que ela é parcialmente suportada por todos exceto o firefox que a implementa totalmete gostaria de utilizála mas só encontro exemplos que usam o code que é justamente a parte ainda não amplamente suportada montei um jsfiddle de exemplo que não funciona nem no firefox recursão infinita no evento code nem no chrome code não suportado segue o código code gostaria de um exemplo que evitasse essa recursão infinita ela é causada porque o handler que cria o code acaba capturando o evento que ele mesmo criou e que oferecesse um workaround pro caso do browser não dar suporte ao code  no php podemos suprimir erros utilizando o code antes de determinadas expressões isso pode ser visto em qual a funo do no inicio de expresses em php já assisti alguns hangouts sobre php e o pessoal estava criticando a utilização do code no php pela tese de que um erro deve ser tratado e não escondido o problema é que algumas funções do php retornam as vezes mensagens indesejadas como no caso do code que ao não encontrar o arquivo para deletar emite um code nesse caso eu sempre utilizo o code por exemplo code pois com o code o erro será suprimido e apenas retornará code caso haja alguma falha e isso é explicado na resposta do rray eu tenho algumas perguntas a fazer a respeito dessa prática do ponto de vista do desenvolvimento eu deveria utilizar um code arroba para casos como da função code ou configurar a exibição de erros para ocultar code ou fazer um code em relação ao uso de code antes de fazer code o arroba pode ser prejudicial para o desempenho de uma aplicação ou o desencorajamento quanto ao uso do code só existe por questões de boas práticas de programação  o que nos ensinam sobre herança a esmagadora maioria dos materiais que tratam sobre herança de classes a exemplificam como um mero mecanismo de agrupamento de atributos ou ações comuns no máximo como um meio de representar uma hierarquia análoga a algo que observamos na vida real como amostra veja esta apostila da unicamp e esta outra da caelum o mesmo se aplica às aulas que assisti sobre o assunto ainda lembro quando aprendi que a orientação a objetos possibilita representarmos o que vemos na vida real a herança é comumente definida como um relacionamento do tipo é um exemplos clássicos como code e code estendem code ilustram isso o problema é que quando aprendemos dessa forma a nossa preocupação recai em classificar os objetos da vida real para agrupar em hierarquias e então procurar atributos e ações comuns para colocarmos na superclasse posso dizer que passei muito tempo usando herança como forma de agrupar coisas parecidas e evitar repetição de código não considerando pontos importantes como acoplamento e coesão herança na prática contudo parece que na prática isso simplesmente não funciona tão bem como na teoria como exemplificado na questão prefira composição em vez de herança a excelente resposta aceita diz somente use herança se o subtipo puder perfeitamente substituir o tipo base essa afirmação que considero correta nos leva à consequência lógica que de que o exemplo dos bichos não representa adequadamente o modo como devemos encarar a herança code é um code mas cada code exibe um comportamento muito distinto dos demais code não é exatamente uma especialização de code ou seja um code que tem alguma coisa a mais ele é um tipo único de code que dificilmente pode ser substituído por outro sem impacto como foi explicado na resposta citada usar a herança simplesmente para exibir um comportamento comum ou reaproveitar código não é em geral uma solução adequada para isso existem interfaces e delegação conclusão enfim minha dúvida é existem situações onde seria apropriado usar a herança simplesmente para agrupar objetos com comportamentos e atributos comuns ou ainda para criar hierarquias de objetos que representam a vida real se possível dê um exemplo pergunta bônus será que vale a pena começar a utilizar outros exemplos para herança e não deixar que as pessoas descubram por si mesmas que na prática a coisa não é bem assim atualização considere apropriado ou certo o uso da herança que beneficie o sistema a longo prazo isto é evite problemas de manutenção e evolução do produto por exemplo usar herança para uma hierarquia pode causar um grande problema se os filhos dessa hierarquia passarem a ter características diferentes dos pais e o código polimórfico começar a quebrar ou ficar com vários codes para tratar casos específicos por esmagadora maioria quero dizer quase todos os livros apostilas e aulas que conheço note que não estou dizendo que elas estão totalmente erradas mas que transmitem um aspecto de forma equivocada observação eu entendo que muitos podem considerar esta questão baseada em opiniões se acharem que ela não é adequada ao formato do site comentem que eu ajustarei ou excluirei conforme o caso  um heisenbug é um bug que muda seu comportamento ao ser estudado ele tem seu nome derivado devido ao princípio que heisenberg detectou que a simples observação passiva de processos quânticos alteram o resultado final heisenbugs típicos acontecem com condições de corrida pois qualquer tipo de medição que você faça como trace debugging ou break points acaba por sincronizar os processos concorrentes de uma forma ou de outra o andré lfs bacci indicou que usar ponto flutuante para fins monetários podem causar heisenbugs na física quântica não existem observações puramente passivas mas isso são detalhes então imaginem que estou numa situação complicada tentando resolver um problema no sistema e até consigo reproduzir o bug mas quando eu tento ver mais coisas sobre o bug colocando um break point estratégico esse bug deixa de acontecer nesse momento me deparo com aquela situação omg um heisenbug o phb me pergunta o que está acontecendo o suporte está com o cliente na linha preciso dar uma resposta sobre como está o andamento do estudo desse problema preciso pedir mais tempo para tentar sanar porque não é um bug simples mas um heisenbug como consigo explicar para o chefe e para o suporte sobre o heisenbug eles não são os mais profundos conhecedores da programação acham que só por um code resolve o problema magicamente de preferência explicações que não resultem na minha demissão   é recomendável usar em projetos em quais situações reflection pode ser usado  sempre fico em dúvida nos projetos se coloco code antes de dar um valor a uma variavel ou não pois ambos funcionam eu acho alguém sabe explicar o motivo de usar ou não qual a convenção ou boa prática a ser seguida é uma pergunta boba eu acho mas como nunca estudei javascript gostaria de saber  tenho uma página e nela o conteúdo que quero imprimir criei um comando em javascript porém esse comando faz imprimir a página inteira existe alguma forma de ser impresso apenas o conteúdo de uma code  é comum vermos a recomendação de usar apenas um code por funçãométodo mas isso parece algo sem sentido e deixa o código mais confuso em muitos casos veja os exemplos forma como eu costumo fazer code forma como é recomendado code por que há essa recomendação o que se ganha em usar um único code  na pergunta do meta tags diferentes para quottestesquot eu notei que tenho alguma dificuldade para entender todos estes termos sobre testes certamente testes passaram ser muito importantes ao longo da trajetória do desenvolvimento de software com isto proliferam conceitos e a sopa de letrinhas está cada vez maior o que diferencia os conceitos envolvidos em testes as siglas e as definições formais são fácil de descobrir teste de software testes unitários ou unidade de testes há diferença testes funcionais tdd quality assurance acceptance testing existe algum outro termo relacionado que seja muito importante para ser destacado  preciso colocar um code com aquele olho do revelar senha porém tem que funcionar da seguinte maneira usuário clica no olho e ao soltar esconde os caracteres novamente segue uma foto de exemplo  vi em algum comentário aqui no site em alguma pergunta falando sobre code para resolver um problema de autenticação já tinha visto o termo vagamente anteriormente e eu pensava que se tratava de alguma coisa do java hehehe porém dando uma olhada em jwtio percebi que se tratava de uma coisa bem diferente então vou perguntar o que é jwt é uma biblioteca uma especificação para que serve  já busquei bastante no google mas nunca achei uma boa explicação pra como fazer programas opensource eu curto muito programar em java e python e queria desenvolver algum programa open com essas linguagens mas imagina se eu crio um programa desses vem outra pessoa e copia meu programa e diz que foi ela que fez como eu posso ficar seguro contra isso no geral como fazer programas opensource  o operador code diz que as strings são diferentes sendo que elas armazenam o mesmo valor literal veja o exemplo code resultado code como fazer para comparar o valor literal das strings  a ideia dos microsserviços é boa mas não entendo bem como resolver certos problemas talvez o problema seja como ela é vendida não vejo muito se falar quando usar ou quando evitar parece que tudo pode usar a tecnologia sem muitos sobressaltos mas nada é simples e universal assim a aplicação em si é tranquilo entender mas queria entender sobre banco de dados em leitura não parece muito complicado é possível pedir dados de bases diferentes e juntar tudo dá para questionar se isto é o mais eficiente mas não vejo complicadores muito fortes pelo menos não mais que os complicadores que microsserviços trazem eu entendo que certas atividades de uma solução são isoladas e podem ser um microsserviço fácil mas outras me parecem integradas demais para poderem ser separadas mais ainda o que pode parecer se mostrar ótimo isoladamente mas depois parece um caso que precisa de uma integração especificamente penso em transações qual é a solução quando você faz uma venda e deve atualizar diversas tabelas de dados tudo tem que estar em um microsserviço único mas aí tem uma série de tabelas que precisam estar em uma outra transação que envolve outras tabelas aí me parece que todas as tabelas deveriam estar juntas mesmo que nem todas se relacionem diretamente ou seja você quebra a aplicação em serviços específicos mas continua tendo um ponto único de falha e manutenção tem suas vantagens mas não é tão grande assim uma solução seria criar um sistema de transações na aplicação que garante o acid em diversas bases de dados mas isto é bem complicado será que só funciona onde o cap é admitidamente viável enfim tem alguma solução para micronizar o banco de dados quando o acid é necessário só funciona com algumas tecnologias de banco de dados que suportem isso estou enganado em alguma suposição minha  estou pensando em fazer uma aplicação para vender gostaria de saber como proteger meu código fonte para manter meu software seguro eu vi que os bytecodes do java armazenados no arquivo code são facilmente convertidos de volta para code usando a ferramenta java decompiler os code podem ser facilmente encontrados dentro de um code para o caso dos desktops ou até mesmo em um code conforme mostrado nesse post como fazem os milhões de aplicativos no google play para protegerem seus códigos fontes pois deixálos expostos me parece meio inseguro ou não é se sim se é inseguro tem como eu desenvolver aplicações que mantenham escondido o código fonte em java para desktop e android edição a resposta do mgibsonbr me convenceu de não ser paranoico e querer proteger todo o código fonte entretanto existem alguns pontos da aplicação que não podem ser revelados por motivo de segurança dos dados por exemplo code imaginem o estrago se alguém tiver o endereço o usuário e a senha do seu banco de dados nos comentários o mgibsonbr tentou responder essa minha dúvida mas eu não entendi ou talvez eu não tenha deixado a dúvida clara enfim sobre o ofuscador através de testes pude ver que ele funciona entretanto tenho dúvidas se ele é mesmo a solução que eu procuro ou se a solução na verdade é remodelar o meu software de uma maneira que não guarde no código fonte nenhum tipo de informações que exijam segredo como por exemplo usuário senhas e endereços de bd se a solução for remodelar o software por favor me expliquem como manter um arquivo externo ao código fonte de uma maneira que não seja possível o hacker copiar a parte do meu código fonte que faz a leitura desse arquivo externo tendo então o código que consegue ler o arquivo da mesma maneira que meu software faz  já vi alguns respostas aqui com o uso not in e algumas com o uso do not exists para responder uma mesma pergunta eu não sei a diferença entre ambas e gostaria de saber sobre qual dos dois é melhor quando se considera o desempenho em quais ocasiões devo usar um e outro se possível de exemplos com query  a microsoft anunciou um novo net core que raios é isto  quais as vantagens limitações e principais diferenças entre esses sistemas de versionamento git svn e cvs  estou com o seguinte código em javascript code por que a expressão com o operador code retorna code e com o operador code retorna code qual é a diferença entre os dois operadores  vejam esses testes que fiz no console do navegador code porque exatamente isso acontece  é possível fazer um tooltip com css puro ou seja sem jquery sem javascript mas somente com css por exemplo quero fazer isso baseando no seguinte elemento code  qual a é diferença entre as classes code code e code e em quais situções é recomendado o uso de uma ou outra  pelo que sei programação assíncrona em c por exemplo se usa da ideia de threads as tarefas a serem executadas podem ser divididas nas threads e então podem ser executadas paralelamente sempre imaginei que javascript fosse igual e que por exemplo quando chamamos a função code estamos instruindo que aquele código deve ser transferido para outra thread acontece que depois descobri que javascript não tem isso ele roda em uma thread só e não tem como distribuir as tarefas em threads mas ainda assim a programação assíncrona é um dos pontos principais da linguagem como que isso é feito no javascript e qual a relação disso com promessas e callbacks  recentemente descobri as famosas ou não tão famosas assim funções recursivas e achei bem interessante o conceito porém ao longo da minha leitura me surgiram algumas dúvidas com relação ao uso de tal ª qual a vantagem de usarmos uma função recursiva pois eu não consigo entender a vantagem disto code sobre isto code ª como fica o consumo de memória pois pelo que eu entendi uma função recursiva é executada dentro de outra função fazendo então um laço de repetição dependendo do tamanho do cálculo o uso de uma função recursiva poderia prejudicar o desempenho da minha aplicação ª eu devo utilizar uma função recursiva ao invés de um loop de repetição comum eg code quais seriam as situações ideais para o uso de funções recursivas  às vezes parece que estamos falamos da mesma coisa claro não é quando estes conceitos estão sendo utilizados qual é a real diferença entre eles quando utilizar um ou outro  geralmente quando precisamos recorrer à requisições ajax usando javascript temos à mão apis que nos auxiliam com isso ex jquery porém qual seria a maneira mais segura e crossbrowser de realizar essas requisições post e get usando javascript puro  como realizar o procedimento de captura de imagem da webcam do usuário em um formulário de cadastro para enviar via code busco por uma solução que seja compatível com a maioria dos navegadores e que seja de simples implementação  utilizar validações em javascript é suficiente para uma validação eficiente exemplo validação de datas é necessário verificar também no código quais as desvantagens de só realizar validações via clienteside podem causar  pelo que entendi o android ndk é voltado ao desenvolvimento com c ou c apesar de suportar java através do jni java native interface todavia gostaria de entender algumas coisas quando compilamos ele se torna um executável realmente ou ele é convertido para para maquina java eu não sei se esta é a maneira correta de se referir se ele é uma aplicação independente da maquina java então isto significa que as funcionalidades nativas dos aplicativos são independente do java agora a partir de que api posso usar o ndk como isto irá tratar a diferença entre processadores arm e intel x o aplicativos serão compilados no momento da instalação no dispositivo  pergunta gostaria de saber como transformar dígitos numéricos em números por extenso da seguinte maneira como demonstra o exemplo abaixo exemplo retorna zero retorna cinco retorna dois mil e quatorze retorna mil e trinta e quatro retorna dois mil quinhentos e sessenta e seis retorna setenta e oito mil trezentos e noventa e um retorna novecentos e noventa e nove mil novecentos e noventa e nove retorna um bilhão  estou tentando aplicar um estilo ao meu elemento e definir a importância dele desta maneira code porém não funciona qual seria a maneira correta  me parecem termos muito próximos e eventualmente vejo textos que trocam um pelo outro como se em algumas determinadas situações suas definições se sobreponham quais seriam as definições técnicas que permitem distinguir o que é api biblioteca e framework em quais situações é permitido intercambiar os termos sem ferir sua definição técnica  quais são as características de um código com coesão ou acoplamento até que ponto isso pode gerar problemas futuros  segundo esta definição do priberampt um número capicua é número que se lê igualmente da direita para a esquerda ou viceversa e ao qual se atribui boa sorte seguindo esse raciocínio capicua seriam etc como descobrir entre números de dígitos os que são capicua apenas utilizando cálculos matemáticos removendo números que possuam todos os dígitos idênticos como etc ps não importa a linguagem somente a lógica para se desenvolver uma forma de resolver isso  encontrei em um arquivo minificado do bootstrap o seguinte code o operador code parece estar sendo aplicado entre duas strings o que significa isso  costumo sempre dizer que não me dou muito bem com termos esses dias atrás precisei fazer uma operação num determinado framework em php chamado laravel onde eu precisava encontrar um recurso que me permitiria usar um banco já existente e fazer com que ele gerasse automaticamente os models e migrations da aplicação através das tabelas desse banco geralmente o que ocorre é o contrário você gera models e migrations que por sua vez geram o banco de dados fiz várias pesquisas na internet em inglês para poder encontrar o que eu queria porém não encontrava até que eu usei o termo database reverse engine for laravel e encontrei o que procurava até então eu não estava tão familiarizado com o termo por pensar em se tratar em algo muito distante do meu diaadia de programação mas parece que não era verdade o que eu entendo pela experiência que tive é que engenharia reversa está relacionado a usar o que foi gerado para criar o gerador me corrijam se eu estiver errado é por isso que venho aqui perguntar o que é exatamente a engenharia reversa nota não vou incluir a tag code ou code pois não se trata do assunto foi apenas um exemplo  eu estava vendo alguns métodos das classes do pacote code e alguns deles possuem assinatura semelhantes a esta code o que significa esse code  estou percebendo a adesão do angularjs e o abandono do jquery por parte de alguns desenvolvedores no entanto não conheço as vantagens do angularjs pois nunca trabalhei com este framework visto que alguns blogs ex jeremyzerr paulhammant encorajam o uso do angularjs gostaria de saber quais as diferenças entre esses frameworks e se vale a pena a troca alguns tópicos tudo que é feito no jquery pode ser feito no angularjs qual utiliza menos código qual é o mais rápido no processamento qual o mais leve qual é o de mais fácil manutenção como é a curva de aprendizado para cada um quais são as limitações de cada um o que um faz melhor do que o outro é legal utilizar ambos ao mesmo tempo obs exemplos são bemvindos  o que faz uma linguagem ser considerada de alto nível e outras de baixo nível  andei lendo sobre nosql nos últimos tempos pois a primeira impressão que tive sobre a tecnologia foi boa fiz testes com mongodb especificamente e achei muito prático e bem mais fácil do que bancos de dados relacionais também tive a impressão de que esse tipo de banco de dados é mais compatível com a orientação à objetos e por isso fiquei bastante interessado no assunto acontece que lendo comecei a ver muitas opiniões negativas a respeito dessa tecnologia ouvi falar sobre o teorema cap que implicaria que um banco de dados nosql ou não terá disponibilidade ou não terá consistência isso é uma coisa muito preocupamente porque até hoje não encontrei casos em que é possível abrir mão de uma dessas coisas na realidade construir um sistema que pode vir a não ter os dados disponíveis ou não ter garantia de que os dados exibidos estão corretos me parece uma coisa extremamente problemática vi até um programador falando já que esse tipo de tecnologia provavelmente não vai ser muito usada sendo que os bancos relacionais continuam sendo mais indicados se por um lado tem tudo isso por outro lado senti muito mais facilidade e naturalidade ao usar o nosql dessa forma gostaria de saber o nosql é tão problemático assim como parece não há nenhuma forma de contornar esses problemas ou o nosql realmente só tem alguns poucos usos nos quais os dados podem nem sempre ser corretos ou nem sempre disponíveis  o que significam e quais as melhores práticas para usálos  pelo que eu andei lendo os três conceitos são bastante parecidos mas eu fiquei confuso quanto a definição clara e exata deles pelo que eu sei uma expressão lambda por ser entendida como uma função inline ou um procedimento que se passa para outro procedimento como no pseudocódigo abaixo code entretanto o conceito que eu tenho de closure é exatamente o mesmo de cima com duas diferenças por alguma razão parece importante destacar que um closure referencia uma variável fora de seu escopo closures podem ser atribuídos a variáveis e manipulados como se fossem objetos entretanto recentemente andei aprendendo groovy que me apresentou um conceito de closure ligeiramente diferente a groovy closure is like a code block or a method pointer it is a piece of code that is defined and then executed at a later point it has some special properties like implicit variables support for currying and support for free variables which well see later on well ignore the nitty gritty details for now see the formal definition if you want those and look at some simple examples fonte em palavras mais simples um closure é um objeto groovy aliás é um objeto java que se comporta como um bloco de código e um cidadão de primeira classe que pode ser passado como parâmetro para métodos atribuído a variáveis e ter sua assinatura de método redefinida coincidentemente o c apresenta exatamente o mesmo conceito que ele chama de delegate no entanto a descrição dessa feature destaca que um delegate pode ser atribuído a outro método já existente que se conforme com sua assinatura a delegate is a type that safely encapsulates a method similar to a function pointer in c and c unlike c function pointers delegates are objectoriented type safe and secure the type of a delegate is defined by the name of the delegate the following example declares a delegate named del that can encapsulate a method that takes a string as an argument and returns void fonte quais as diferenças entre uma expressão lambda um closure e um delegate  gostaria de saber qual é a real diferença entre o code s maiúsculo e o code s minúsculo aparentemente os dois têm os mesmos objetivos porém qual é melhor para ser utilizado  em orientação a objetos é comum que objetos de uma certa classe possuam referências a um ou mais objetos de outras classes um exemplo muito simples é um objeto de uma classe code que possui referência a uma lista de code de forma que cada objeto desse tipo possua referência a vários objetos de outro tipo acontece que em alguns casos chamam isso de composição e em outros casos chamam isso de agregação pesquisando li que composição é quando um dos objetos não existe independente do outro e agregação é quando os dois podem existir independentemente é só isso mesmo mesmo se for só isso eu ainda não consigo identificar quais as implicações disso na prática basicamente nos dois casos basta ter uma propriedade no objeto cujo tipo é a classe do outro tipo não tem em código uma diferença entre agregação e composição então quais as utilidades de diferenciar esses dois casos e qual a diferença dessas duas abordagens na prática  por que a formação de cores no rgb não segue o mesmo padrão da natureza e mesmo assim dá certo por exemplo no rgb amarelo vemelho e verde ff ff ffff mas se pegarmos um lápis de cor amarelo e outro azul ou tintas pincéis etc e pintar uma mesma área ela se torna verde ou pelo menos algo parecido os tons não são os mesmos até porque depende da quantidade de amarelo ou azul para formar o verde isto é o amarelo depende do verde e em outro o verde depende do amarelo nota entendo que as respostas irão pender para o lado da física e biologia mas sempre tive essa dúvida porque além de trabalhar com backend trabalho com frontend e isso me ocorre muito frequentemente isso porque o sistema rgb não fecha muito o que aprendemos com a tia de artes na escola então não fica muito intuitivo na hora de chegar em uma cor ao desenhar uma página estou atrás do porque do sistema rgb ser diferente do outro e ele ser o escolhido para ser aplicado em imagens e desenhos de aplicações se não estou enganado é estudado em processamento de imagens  estou lendo um livro de javascript chamado javascript the good parts e nele em vários momentos o autor fala que não se deve utilizar variáveis globais porque elas são do mal por que elas são consideradas do mal que tipo de problemas elas podem causar  em geral classes possuem métodos construtores qual a utilidade do método construtor de uma classe por que devemos criálo dá para trabalhar sem ele  estou tentando implementar o code da google no meu site e não consigo fazer a integração code utilizo a linguagem code como posso fazer para que o code funcione e realize a validação antes enviar os dados do meu formulário fonte e documentação do google recaptcha  precisei desenvolver uma rotina que pegasse a cotação de venda do dólar e inserisse em uma tabela no banco o banco central disponibiliza um webservice onde é possível fazer as consultas para isso basta informar um código e ele tornar a cotação para você o problema que tenho é em conseguir a documentação que informe o que cada código retorna não encontrei nada no site do banco central quais códigos de moeda esse serviço aceita onde conseguir essa documentação  o que são esses tais de stack e heap que tanto se fala em gerenciamento de memória isso realmente são porções da memória como algumas pessoas falam ou é apenas um conceito abstrato para facilitar o entendimento da forma como se gerencia a memória algum deles é mais rápido que o outro se um é claramente mais rápido por que existe o outro faz diferença se estou usando por exemplo assembly c java ou javascript windows ou linux isso é controlado pela linguagem ou pelo sistema operacional enfim queria entender melhor esse conceito que parece ser mal compreendido pelos programadores seria muito útil uma explicação para quem está começando ou aprendeu isso de forma errada  qual a forma mais prática de encontrar a diferença de tempo entre duas datas no formato padrão usado pelo mysql yyyymmdd ex data data  numa discussão com experientes programadores aqui do site a respeito de controle de concorrência surgiram os termos semáforos mutex memória compartilhada monitor e ainda outros os quais estou começando a entender agora toda essas minhas dúvidas começaram quando perguntei sobre processos assíncronos onde percebi que eu não estava entendendo muito bem sobre o termo assíncrono e acabei aprendendo sobre bifurcação de processos no meio disso tudo comecei a pesquisar muitas coisas a respeito de processos de sistemas operacionais e foi aí que aprendi mais um termo ipc que disseram que significa inter process communication mas o que é ipc mais detalhadamente de que forma ele se relaciona com os termos que eu citei acima sobre os quais disse que eu estava discutindo  já ouvi falar sobre uma técnica assim chamada e qualquer coisa sobre explorar colisões de hashes mas como funciona essa técnica e onde ela pode ser aplicada  o que são escopo léxico e escopo dinâmico e quais são suas principais diferenças  usando ruby a divisão de dois números inteiros é uma divisão inteira isso é o resultado é um número inteiro por exemplo code se desejo que o resultado seja um numero decimal posso utilizar um numero flutuante ao invés de um inteiro code como posso fazer uma divisão inteira que funcione parecida com a de ruby em javascript  suponha a tabela code e o campo code em uma consulta sql qual a melhor forma de se calcular a idade de uma pessoa em formato inteiro na linguagem tsql do sql server  começarei um projeto em c que terá como code uma placa colibri t com processador nvidia tegra arm rodando uma versão leve de linux gostaria de saber se além de ter que utilizar um compilador cruzado compatível com o processador eu preciso me preocupar com algum outro detalhe específico da arquitetura arm pelo que li parece que a arquitetura do processador só importa se eu estiver programando em assembly estou errado não sei se é relevante mas meu code é ubuntu linux  sei que em no primeiro o objeto passado como argumento para uma função é copiado e no segundo não também sei que é extremamente incomum em linguagens modernas a passagem de objetos complexos por valor enquanto tipos primitivos números caracteres booleanos frequentemente o são mas o que exatamente são esses modos de passagem leio muito que em java as referências são passadas por valor e vejo também que há linguagens modernas como c que dão mais opções de passagem de parâmetros que a maioria das linguagens orientadas por objeto o que gostaria que fosse explicado é na passagem por valor o argumento é copiado ok mas o que exatamente é copiado o objeto inteiro inclusive todas as suas referências o que constitui uma passagem por referência se a linguagem possui ponteiros passar um ponteiro para um objeto como argumento significa que se está passando o objeto por referência o que significa exatamente passar uma referência por valor volta aqui o primeiro item o que da referência está sendo copiado já que a passagem é por valor para não ficar muito amplo se é que já não está peço que as respostas se foquem nas linguagens cc tradicionais que introduziram a muitos de nós os conceitos envolvidos java que pelo menos pra mim marcou a mudança de paradigma entre raciocinar em termos de ponteiros e em termos de referências e talvez c linguagem moderna que se não me engano trouxe mais flexibilidade nas formas de manipular objetos  estou trabalhando com code mas imagino que isso possa ser feito só com code quando faço um upload o navegador mostra na barra de status a porcentagem eu gostaria de pegar esse valor e criar a partir dele uma barra de progresso personalizada a barra eu sei fazer só não sei como pegar o valor atual da porcentagem como obtêlo  ao pesquisar um pouco sobre plataformas para o desenvolvimento de apps mobile acabei me deparando com o xamarin e o cordova ambos tem como proposta desenvolver uma única base de código para aplicativos que rodam em android ios e windows phone como não sou expert em desenvolvimento mobile me surgiram as seguintes dúvidas quais as principais diferenças entre essas plataformas é possível utilizar os recursos nativos que são exclusivos de determinado sistema operacional as plataformas são compatíveis entre si  como eu posso centralizar horizontalmente uma code que está dentro de outra code utilizando apenas css no caso podemos assumir que code externa code tem a largura de code  desde que abri um projeto online estou tendo problemas com invasão onde alguém está fazendo inserções diretas no banco de dados foi o que me deu iniciativa para por em todas as variáveis recebidas através do método code e code as funções code utilizei dois programas para fazer scanner para analisar o site acunetix e scrawlr onde na primeira vez retornou variáveis vulneráveis mas agora fiz todo o procedimento nas mesma e agora não da mais sinal de problema porém mesmo assim o atacante ainda consegue invadir o servidor mesmo tendo a certeza depois de ter verificado todas as linhas de código do projeto  no r isso seria muito simples code se você chamar code sem argumentos o resultado será code como fazer o mesmo em javascript e como saber se existem valores code na função sem ter que ler o código  dentro do contexto do desenvolvimento de software o que significa algo ser ortogonal por que é importante seguilo  tem um jogo de tanque d usando a unityengine em c em que é jogado na lateral da tela vendo apenas os lados dos tanques em que tem o tanque verde e o vermelho o verde precisa atirar e acertar o alvo vermelho o jogo lhe dá a força e ângulo ambos variam de acordo com sua mira em alguns turnos é definido um tempo aleatório que varia de à mas nesse aplicativo que estou criando é possível manualmente você pode definir o vento e sua direção não querendo dizer que é alterado o vento do jogo mas sim da trajetória que o aplicativo está calculando nota o vento já é gerado de uma forma aleatória de para com esse aplicativo que estou criando você apenas calcula a trajetória para te ajudar no jogo notem que o ângulo é espelhado mas já implementei uma função que nos dá o ângulo exato o jogo é dividido por turnos em todo turno o vento muda junto com sua direção o vento varia de para na direção direita ou esquerda nunca maior ou menor que isso a trajetória pontilhada é o que é projetado nesse aplicativo o processo está pronto a trajetória está sendo exibida o problema é que ela não é influenciada pelo vento qualquer mudança no vento ela irá permanecer sendo influenciada apenas por ângulo e a força não por vento eis o problema grande atualização da pergunta coloquei uma parte importante que estava faltando na pergunta o calculo horizontal code resuminho básico o valor code é calculado em base do tempo de voo para cada x basicamente entre à como mostrado na declaração do lopping acima que são os limites horizontais do jogo o valor code representa o tempo de voo de para a posição i x como a trajetória é afetada com o vento abaixo está a minha trajetória a linha contínua e a trajetória do tiro a linha pontilhada o vento que estava presente no jogo era é percebível que além da altura code o formato e a distância da trajetória também foram alterados com o vento brevemente minha dúvida é como implemento vento nessas formulas  algumas linguagens como c ainda possuem a instrução code sempre ouvi que utilizála não é uma boa prática eu gostaria de saber quais seriam as razões para evitar o code e quais os problemas causados por sua utilização code ainda existe por compatibilidade ou para casos muito restritos de utilização  como um computador entende o código binário como o código binário foi criado e quem a criou  estava lendo um livro sobre orientação a objetos e essas duas entidades são tradadas de modo diferente qual a diferença entre ambas  vejo isso em alguns arquivos javascript code para que serve e como funciona estou tentando fazer um code personalizado para um userscript vide how can i log information without using alert in userscripts e me dei conta que não conheço o que está por trás do code  eu gostaria de saber qual é a diferença entre os comandos code e code no software de versionamento git  qual a utilidade da palavrachave reservada code quando e onde é usada  na documentação do php sobre o code diz nota note que o switchcase faz comparação frouxa o que é uma comparação frouxa e qual a diferença entre uma comparação frouxa e uma rígida  eu já li o que reactive programming programao reativa a resposta parece boa mas é teórica entendi o que é mas com aquilo não sei o que fazer onde deve ser usada tem um exemplo simples qual é o mecanismo concreto usado para isto funcionar concreto até onde pode ser entendo que em programação tudo é abstração a não ser os elétrons excitados só funciona entre agentes locais ou um deles pode ser remoto é por causa da internet só funciona se for algo inteligente interligada em paralelo não linear se for o que é esse inteligente aparentemente tem que ter robustez para ser classificada assim precisa rodar em vários servidores ou é uma opção é um paradigma é um framework posso usar em net  estou começando a estudar composer e estou desenvolvendo um sistema onde separo arquivos do core de arquivos da aplicação da seguinte forma root src app dbconfig controller model core helper controller model então para setar esta configuração no arquivo composerjson e conseguir ter acesso a todas as classes tanto de app quanto de core seria desta forma autoload psrx app src core src ou há uma forma mais correta tenho lido também sobre psr vs psr e ainda estou um pouco em dúvidas de qual utilizar neste meu caso qual devo implementar psr ou psr  até a época em que os computadores eram puramente mecânicos e eram programados por cartões perfurados eu entendo como funciona depois quando surgiram os primeiros computadores digitais operados com válvulas e relés fica mais complicado de compreender como eram feitas as programações imagino que deveria haver algo semelhante a um compartimento com uma matriz de relés semelhante aos cartões perfurados pré programada que continha um programa fixo e único a ser executado pela máquina quando fosse preciso trocar o programa os programadores apenas rearranjavam as válvulas e a máquina continuava a trabalhar como surgiu essa noção que temos de programação hoje que o programador digita códigos em um editor de texto e compila eu não consigo imaginar como chegou a esse ponto por exemplo o assembly ele é apenas traduzido de textos para binário pelo assembler mas poxa seria preciso ter outra linguagem de programação para se criar o assembler suponha que só existam os computadores controlados por relés e válvulas como que alguém conseguiria escrever um código em assembly sendo que não existia editor de textos nem nada o resultado de uma montagem é outro arquivo no formato texto com s e s apenas ou são impulsos elétricos enviados para a máquina valvulada  dizem que o elemento code deve ser usado para ênfase e o code para ênfases ainda mais intensas isso parece bastante confuso quando e por que usar cada um deles e code e code ainda devem ser usados em alguma situação eles foram substituídos por code e code  o que é paradigma existe algum mais importante que outro é a mesma coisa que design pattern padrão de projeto é o mesmo que idioma  tenho um objeto chamado code e gostaria de criar e armazenar uma cópia desse objeto como objetos vetores funções e expressões regulares são considerados objetos não consigo fazer uma cópia apenas atribuindo esse objeto a uma outra variável ex code pois por serem objetos apenas uma referência é passada para a outra variável gostaria de saber se existe algum jeito de fazer um cópia de um objeto seja lá qual for o seu tipo objetos vetores funções ou expressões regulares  recentemente houve uma pergunta aqui no stack overflow sobre alterar o comportamento padrão do code para atuar na página como um code isto é ao ser selecionado um item os outros deveriam ser desmarcados mantendo a seleção única as respostas foram dadas utilizando javascript basicamente alterando o comportamento natural do code tratando os eventos nesse elemento eu sempre acreditei que fazêlo não era recomendado e que o ideal mesmo seria utilizar o próprio elemento code por questões de semântica eu cheguei a comentar a possível solução utilizando a propriedade code do css pois mantém a semântica do código alterando apenas a aparência do elemento sem necessitar de javascript \\r \\r code\\r code\\r \\r \\r porém pesquisando vi que tal propriedade foi removida do css então mesmo que os navegadores ainda suportam tal propriedade acredito que seu uso deve ser evitado e que a abordagem utilizando javascript é comumente discutida em fóruns mas são poucos os lugares que discutem se de fato é apropriado fazêlo a conclusão que chego é que não se deve alterar o comportamento de um elemento enquanto semanticamente é apropriado utilizar outro mas não consigo afirmar canonicamente qual é o impacto tanto de desempenho se houver quanto na usabilidade da página então é permitido utilizar javascript para alterar o comportamento natural de um elemento para agir como outro qual é o impacto gerado por esta abordagem existe uma diferença de desempenho na renderização da página e como isso pode afetar a usabilidade se a usabilidade for diretamente afetada é possível corrigir utilizando o atributo code nota o exemplo dado entre code e code foi mais para contextualização do problema e as respostas podem preferencialmente abordar outros exemplos se necessário  cenário estou montando um layout que será utilizado por terceiros e não sei qual será a linguagem utilizada tenho duas divs um será o menu esquerdo e outro o conteúdo eles são separados por um splitter minhas dúvidas são esse menu esquerdo quero desenvolver um code a parte e chamalo por code qual a melhor forma de fazer se eu fizer chamada via javascript será que terei problemas com javascript contido nessa página que será inserida existe algum padrão desse tipo no html css ou alguma forma simples de implementar em javascript sei que iframe não é uma boa solução através de code funciona mas creio que não seja uma boa solução também  quando eu estava lendo sobre alguns frameworks javascript como por exemplo o react li algumas vezes a expressão shadow dom em alguns artigos parece inclusive que é possível nas configurações de console do chrome ativar esse tal de shadow dom mas o que é shadow dom e pra que serve tem alguma coisa a ver apenas com o framework citado acima ou não  quero jogar a data atual num input mas no formato brasileiro ddmmyyyy meu código code  sei que são funções que não tem o nome especificado mas qual a finalidade é possível recursividade com funções anônimas ex sequência de fibonacci \\r \\r code\\r \\r \\r  alguém que esteja a aprender a linguagem novato ou experiente pode nunca se ter cruzado com enumerações de java já li por várias vezes que são úteis por exemplo para implementar os padrões singleton com mais garantias de visibilidade entre threads qual é a utilidade de se aprender e usar as code na programação do diaadia  o que é escopo o que é tempo de vida eles se confundem visibilidade tem alguma coisa a ver com isto também  gostaria de saber o que são e como funcionam os número das versões de softwares como por exemplo code o que significa existe algum padrão ou recomendação para versões de aplicações web  sei que é possível executar um code com dados de outra tabela code mas gostaria de fazer o mesmo com um code algo equivalente à isso code é possível como  vi esse termo sendo empregado diversas vezes muitas pessoas e empresas querem que seus códigos sejam limpos vi também o livro código limpo habilidades práticas do agile software mas eu queria saber o que define um código ser limpo ou não quais os pontos são avaliados uma vez que o conhecimento e o domínio sobre uma determinada linguagem pode influenciar na avaliação de quem está lendo na pergunta como escrever um código legível e de fácil manutenção temos alguns exemplos de um código que aparentemente está bem escrito porém o domínio da linguagem é que faz bastante diferença na hora de interpretálo então focando bem a pergunta quais o pontos que são avaliados qual a importância e o peso de cada um desses pontos dentro da avaliação gostaria principalmente das referências para estudar um pouco mais a fundo e que não fosse limitado a um paradigma ex orientação a objeto e sim num contexto geral  sempre utilizei os termos parâmetro e argumento como se fossem sinônimos aquilo que é passado para uma função eou que a função recebe como entrada da mesma forma tenho lido um e outro termo em inglês e português ora sendo usado um ora outro mas não consegui perceber nenhum critério na escolha entre um e outro há diferença entre eles ou são sinônimos mesmo já cheguei a pensar que parâmetro era o único termo correto pois é usado na matemática e que argumento era algum erro de tradução mas depois percebi que não é o caso em inglês também temos parameter e argument qual a forma correta de se usar esses termos  segundo esta definição de dado dados são um conjunto de informações quantitativas qualitativas categóricas ou indefinidas podendo ser organizadas ou não wikipédia seguindo esta linha eu posso assumir que dados e informação são as mesmas coisas entretanto na faculdade meu professor disse que dado não é informação quando o mesmo não é tratado ou quando ele não possui algum significado por exemplo este é um dado code e code também é um dado porem eu não sei o que esses dados representam como eles poderiam ser considerados informação e é neste ponto que surgi minha dúvida que vem logo abaixo dúvida eu gostaria de saber qual é a diferença entre dado e informação e o que faz com que dados se torne informação  muitos dizem que ela não é uma linguagem orientada a objetos por não ser possível definir classes nela até sua versão ecmascript porém com a utilização de funções construtoras e prototipação é possível implementar muitos dos conceitos de orientação a objetos como herança encapsulamento sobrecarga etc então certamente ela pode ser considerada como uma linguagem orientada a objetos apesar de ser baseada em protótipos  em javascript podemos declarar uma matriz de duas maneiras code e code qual é a diferença entre as duas e que consequências dai advêm esta pergunta está a ser colocada com o propósito de documentar em português a sua versão original que pode ser vista no soen whats the difference between array and while declaring a javascript array  sempre quando tenho problema de permissões de pastas no meu sistema operacional ubuntu eu costumo dar a permissão code para a determinada pasta costumo fazer isso no ambiente de desenvolvimento em algumas situações já dei esse tipo de permissão em ambiente de produção em um servidor linux onde rodo minhas aplicações escritas em php por exemplo quando tive um problema específico de escrita de arquivos de upload na pasta code de um determinado sistema eu dei a permissão code nesta pasta porém vejo sempre recomendações de que devemos usar a permissão code ou code porque usar code é perigoso mas em que sentido isso seria perigoso por que os programadores mais experientes sempre recomendam a utilização de outros valores para permissões de pasta em produção ao invés de code por exemplo já ouvi dizer que uma pessoa pode ter problemas com ataques a uma aplicação web caso haja uma permissão de escrita code em determinada pasta isso é verdade seria legal também se a resposta pudesse explicar melhor sobre as diferenças entre code code e code   o que é o php injection qual a diferença dele para o sql injection como evitar o php injection na minha aplicação quais são as principais formas de ataque do tipo php injection atualização observação lembrando que o sql injection não é a mesma coisa que o php injection code injection in php what is sql injection  já vi esse termo polyfill sendo utilizado várias vezes quando se trata de uma nova função que não está disponível em versões antigas de determinadas linguagens e afins mas afinal polyfill é simplesmente isso ou é mais abrangente qual é o significado da palavra polyfill e a que se refere dentro do diaadia da programação especificamente nota aparentemente esse termo está relacionado diretamente à linguagem javascript mas já vi sendo utilizado em outras linguagens também  sempre usei o code independente da situação e sempre funcionou raras vezes que tive que usar um dos outros e nessas vezes fiz por orientação de alguém e não por saber exatamente o que eu tinha que fazer então qual a diferença entre os tipo de this quando devo usar um e quando devo usar outro muda de alguma forma a performance do código  contexto fui educado na metodologia do processo unificado sei que agile é muito popular hoje em dia mas tenho pouquíssimo conhecimento do processo entendo a filosofia que mudanças são inevitáveis é melhor se preparar pra lidar bem com elas do que tentar evitálas mas isso não é muito consolo quando sou cobrado a apresentar um orçamento mesmo que inicial para um projeto de desenvolvimento pelo up primeiro se orça a elaboração do projeto conceitual que é uma simples questão de estimar o número de horas necessárias para se levantar e analisar todos os requisitos e com poucas consequências negativas caso se erre no julgamento e com base neste se orça o projeto de implementação na teoria parece tudo muito bom mas me falta experiência prática para corroborar essa afirmação problema sei que a resposta correta para como orçar um projeto de software é depende depende do escopo depende dos requisitos específicos depende do cliente mas o fato é que clientes em potencial demandam no mínimo uma previsão preliminar de prazos e custos e às vezes plataforma antes mesmo dos requisitos serem detalhados minha dificuldade é em estabelecer esses parâmetros iniciais ou mesmo ajustar minhas expectativas sobre o que é ou não realizável na prática pergunta quais parâmetros devo observar para fazer um orçamento inicial ou preliminar para um projeto arbitrário de desenvolvimento mais especificamente devo cobrar pelo levantamento inicial de requisitosdefinição do escopo ou esse é um ônus que terei de assumir e se a resposta for não cobrar devo insistir com o cliente que não é possível orçar nada antes de fazer esse levantamento o cliente não vai gostar uma vez que levantar requisitos exige envolvimento de sua equipe também o que lhe traz custos indiretos antes mesmo de ter a certeza que vai mesmo fechar contrato conosco no caso de um projeto de grande escopo embora ainda bastante indefinido devo separálo em um projeto conceitual e um projeto de implementação ou isso é contraproducente esclarecendo projeto conceitual é aquele em que eu faço levantamento e análise de requisitos sendo que o deliverable é uma especificação mais orçamento para a fase de implementação o projeto de implementação esse já feito com bases mais sólidas pode sim ser flexível em relação a mudanças não precisando seguir a especificação a ferro e fogo mas ainda precisa de uma base para ser orçado e essa base seria conseguida através do projeto conceitual por que seria contraproducente não sei apenas é o que sempre ouço dos proponentes do agile que é besteira fazer projeto de grande escala antes de se começar a implementar ao menos um sprint deveria estar previsto que os requisitos mudam o tempo todo e no final pouco do que foi projetado no início será implementado de fato etc em que termos deve ser feito esse orçamento idealmente mudanças nos requisitos deveriam refletir em mudanças nos prazos e custos nisso a turma do up e a turma do agile concordam mas se contratualmente estou obrigado a entregar x no prazo y mediante pagamento de z não me parece viável haver uma mudança contratual toda vez que se fizer uma renegociação de prazos e custos questões jurídicas à parte já que isso está obviamente fora do escopo do site o que eu pergunto é se é melhor fazer um guesstimate de preferência por cima do custo e ir refinando com o passar do tempo porém comprometido com a conclusão do projeto a todo custo ou se devo estabelecer condições para que na impossibilidade de se continuar o projeto dentro dos prazos e custos estabelecidos o mesmo seja encerrado de comum acordo por ambas as partes como fazer isso é claro é responsabilidade do nosso advogado de preferência gostaria de respostas embasadas em experiência pregressa sei que nem todo desenvolvedor está diretamente envolvido com esse tipo de questão mas ao menos os que ocupam uma posição de liderança já devem ter tido que fazer estimativas sob bases incertas e para não ficar muito amplo o ponto central da pergunta é o quanto eu devo assumir de ônus ao estabelecer um escopopreparar uma proposta de graça e quais são os parâmetros mínimos que eu preciso coletar antes de dizer a partir daqui só me pagando  quais as vantagens e desvantagens do uso de índices em base de dados  sei que um elemento dentro com posição code não respeita os limites da div pai e que code respeita e teoricamente se posiciona em relação a si minhas duvidas basicamente são um elemento code deixa de respeitar apenas os limites da div pai mas se alinha com a div anterior ou só com o body quando e por que usar um elemento code dentro de um code ou viceversa quando é apropriado utilizar um ou outro  quando estudei java aprendi que exceções somente deveriam ser usadas em situações bem excepcionais ie um erro uma condição não prevista etc jamais para controle de fluxo normal não só por ser menos performático criar uma exceção envolve montar um stack trace dentre outras coisas mas por ser menos elegante e correto o ideal sendo testar as précondições antes de se fazer uma operação ou chamar um método ou para sinalizar um erro ao chamador usar um código de erro ou similar somente nos casos realmente imprevisíveis é que seria adequado se usar um code entretanto ao aprender python me deparei com uma filosofia bastante diferente nessa linguagem há muitos casos em que o modo recomendado e às vezes o único modo de se tratar uma condição indesejada é tentar executála e se algo der errado capturar a exceção não há menção a performance e muitas vezes justificase essa abordagem para se prevenir condições de corrida ex em vez de testar se um arquivo existe antes de abrilo simplesmente abrao de uma vez afinal ele poderia ser apagado entre o teste e o uso e se o programa não está preparado para isso seu comportamento nessa situação pode ficar incorreto entendo que se uma linguagemplataforma segue um determinado paradigma é aconselhável se ater a ele nem que seja por questões de consistência mas assumindose que não só linguagens novas possam ser criadas como as existentes possam ser aprimoradas pergunto existem vantagens claras de um desses paradigmas sobre o outro ou talvez situações específicas em que se justifique usar um ou outro padrão mesmo que contrarie as recomendações oficiais que parâmetros eu devo observar ao decidir entre uma abordagem e outra a título de exemplo há muitas situações em que o argumento da condição de corrida não se aplica quando os dados envolvidos na operação são imutáveis por exemplo por fim há algum meio termo razoável que combine os benefícios de ambos sem que o ônus caia no programador por exemplo poderia testar se o arquivo existe e usar um code em seguida mas isso seria redundante nota peço que esse último ponto caso abordado na resposta venha acompanhado de fontes confiáveis para evitar mera especulação ps algumas referências demonstrando que esse uso corriqueiro de exceções é de fato bastante recomendado na comunidade python em oposição à maioria das outras better to try something and catch the exception or test if its possible first to avoid an exception is it a good practice to use tryexceptelse in python how do i check if a string is a number in python python exception handling techniques look before you leap vs easier to ask for forgiveness than permission exceptions and file handling dive into python  estava olhando uns códigos e me deparei com o operador code code code qual a diferença do primeiro código para o segundo  estou com algumas dúvidas quanto ao code li em algum lugar e me lembro vagamente sobre a questão da reescrita mas o que é isso e para que serve como se aplica em um código java existe em alguma outra linguagem  li em alguns lugares que não é recomendado o uso exagerado do code pois ele torna seu código difícil de ler e de dar manutenção logo não é uma boa prática o que seria o uso exagerado de code em um código quais são as boas práticas em um código para evitar muitos codes edit a idéia da campanha anti if na verdade não é exterminar o if e sim estimular o uso correto da programação orientada a objetos que deixa o código mais limpo e de fácil manutenção a minha pergunta é na verdade saber como eu devo substituir os zilhões de if s por uma boa diagramação de classes que conceitos da programação orientada a objetos são utilizados para atingir tal objetivo entre outras palavras porque trocar o condicional imperativo pelo polimorfismo ou outra forma que facilite o entendimento e organização do código fontes de motivação leitura campanha anti if anti if campaigninglês  preciso mudar a posição do na máscara code com esta solução o resultado é o seguinte para celulares e para fixos porém gostaria de deixar para celulares e  o fato de uma função ser maior ou menor afeta a performance da aplicação especialmente em php se precisar de performance seria melhor funções grandes ou pequenas e o consumo de memória é afetado se uma função grande dá lugar a diversas funções pequenas  eu estou trabalhando em uma solução que envolve determinar a rota de menor esforço entre dois pontos de um prédio imagine estudantes em seu primeiro dia de universidade e que precisam saber onde fica e como chegar a uma dada sala de aula em um prédio ou como ir da sala atual para a próxima aula basicamente eu tenho uma estrutura cartesiana onde cada andar está mapeado eu também tenho indicadores de pontos de acesso portas rampas para deficientes escadarias e os pontos onde estes pontos se conectam escadaria do térreo se conecta com escadaria do º andar em x y por exemplo mais ou menos como a imagem abaixo onde ciano indica uma escadaria e azulestranho elevadores entre outros marcadores não exibidos para os daltônicos minhas sinceras desculpas e algumas informações adicionais as escadarias estão localizadas na parte superior direita dos mapas os elevadores próximos ao centro eu comecei meu código baseado em uma variante do algoritmo de dijkstra chamado aestrela a que é basicamente o problema do caminho mais curto com algumas otimizações curiosidade vários jogos implementam variantes do a para determinar a rota de personagens em um mapa a é perfeito para determinar rotas em um mesmo andar porém eu tenho que levar em consideração os vários andares cada um com um layout diferente pergunta existe alguma maneira mais apropriada para solucionar este problema ou de forma mais clara obrigado bfavaretto dado o fator adicional de n andares existe algum algoritmo que seja mais indicado do que o a disclaimer imagem isométrica original de dougillustrationscom  o que são e quais as principais diferenças entre programação funcional e programação orientada a objetos  pelas pesquisas tive o conhecimento que as views em sql são como tabelas virtuais resultados de pesquisas armazenadas de acesso frequente a ws define essencialmente como tabela virtual há que diga que views são pesquisas armazenadas dúvidas o que são views quais vantagens e desvantagens em utilizar assumindo que são tabelas virtuais eu gostaria de saber se elas são sempre carregadas na altura em que o servidor de base de dados arranca e sempre que alguma das tabelas envolvidasrelacionadas a esta view sofrer uma atualização a view sofre de igual modo se for apenas uma consulta que diferença terá com storedprocedure  bom eu estava pensando como sites com grande acesso usuários fazem testes em seu software e os testam para lançamento final por que qualquer coisa ou erro de código pode ocasionar em falha bruta do sistema é interrupção em nível geral o que ocasionaria um prejuízo feio eu li um pouco sobre automação de testes no php com o phpunit entretanto fiquei em aberto com a seguintes dúvidas no geral qual seria uma boa forma de testar o software seria interessante usar processos de testes manuais ou automáticos existem critérios para realização de tal como definir que aquele software está apto para o usuário final  acho que todo mundo com o mínimo de conhecimento sabe quando escolher c ou c no lugar de outras linguagens existem casos claros em que estas linguagens são mais adequadas e outros que não faz tanta diferença mas pode haver situação em que se sabe que uma das duas seja ideal mas não se sabe qual das duas quais elementos concretos devemos analisar e em que situações podemos ter certeza que o c é mais indicado que c ou c é o mais adequado os motivos não precisam ser essencialmente técnicos mas eles precisam ser objetivos precisa ser algo que os profissionais experientes nas duas linguagens costumam concordar em outras palavras quais problemas o c lida melhor e quais o c costuma se sair bem é claro que ambas podem ser usadas para qualquer projeto mas nem sempre é a ferramenta mais adequada existem casos que alguns requisitos podem inviabilizar uma escolha que requisitos podem dificultar tanto o uso de uma linguagem que é melhor usar a outra considere pontos políticos como não requisitos fundamentais só a parte técnica importa mesmo  em c existe uma distinção clara entre tipos valor structs e tipos referência classes sendo essa distinção basicamente a forma com que o clr gerencia instâncias de cada tipo instâncias de tipo valor são colocadas na pilha diretamente e instâncias de tipo referência são colocadas no heap contendo uma referência na pilha basicamente isso é fácil de entender com tipos primitivos e classes simples que contém só campos nesses casos estamos falando de armazenar dados na memória e isso é algo simples de entender o problema é o fato de métodos também serem armazenados na memória classes podem conter métodos e dessa forma esses métodos devem ficar armazenados na memória de alguma forma quando criamos uma instância além disso usando delegates podemos apontar para métodos o que novamente sugere que os métodos são armazenados na memória assim como dados mas isso é estranho o que viria a ser armazenar um método na memória um método não contém um dado que pode ser guardado ele pode conter várias variáveis vários comandos etc não consigo entender como o clr gerencia isso  no wikipédia possui a seguinte afirmação na teoria de linguagens formais uma linguagem livre de contexto llc é uma linguagem gerada por alguma gramática livre de contexto glc diferentes gramáticas livres de contexto podem gerar a mesma linguagem livre de contexto ou inversamente uma dada linguagem livre de contexto pode ser gerada por diferentes gramáticas livres de contexto oh god no entanto achei a explicação um pouco confusa embaralhada e sendo assim ainda pergunto o que é uma linguagem livre de contexto como é possível se é possível definir se uma linguagem é livre de contexto ou não  estou tentando centralizar verticalmente o conteúdo de um elemento que tem code consegui fazer o conteúdo se posicionar da metade para baixo do container no entanto da metade para cima o espaço fica sobrando como posso resolver isso apenas utilizando css eis o meu código até o momento \\r \\r code\\r code\\r \\r \\r a ideia é que o elemento code sobreponha o elementopai como se fosse um indicador de loading em cima de apenas um elemento na página  existe alguma diferença entre code e code eu sei que os dois retornam o mesmo resultado tem algum tipo de convenção adotada para usar sempre o code  existe uma forma clara de determinar quando um projeto de desenvolvimento de software deve ser conduzido usando uma metodologia waterfall ou usar scrum quais os critérios devem ser observados para escolher um ou outro  suponha que eu tenha uma lista de palavras em javascript se necessário já ordenada segundo as regras de collation code repare que não usei o cedilha code nem o til code de forma consistente como posso buscar nessa lista por programação mas ignorando a acentuação de modo que várias modalidades de buscas retornem resultados ex code fiz uma pergunta semalhante para a linguagem python e tentei aplicar a solução proposta normalizar e remover combinantes para javascript mas esbarrei no problema da falta de suporte à normalização unicode e ainda que eu consiga normalizálas usando um polyfill por exemplo ainda faltaria identificar e remover os caracteres combinantes há algo já pronto nesse sentido para que eu não precise reinventar a roda caso contrário como fazer atualização muitas boas respostas cada uma com seus prós e contras difícil de escolher uma decidi propor um teste levando em consideração fatores robustez ie capacidade de buscar por palavras cujo acento está representado de mais de uma forma diferente code flexibilidade pode buscar ignorando capitalização pode só casar o acento com outra letra acentuada code performance exige mexer na lista original quanto tempo leva uma operação exemplo no jsfiddle vou adequar cada resposta a esse exemplo da melhor forma que puder e availála com base nisso assim poderemos ter uma resposta canônica  sempre quis saber como funcionam closures em javascript já li algumas definições mas nunca entendi muito bem vocês poderiam me dar uma explicação simples objetiva mas com conteúdo  quero colocar no meu site um sistema igual o do gag onde as pessoas podem pausar e dar play em um code eu sei que tenho que usar duas imagens um code e um code mas tentei algumas funções e não consegui achei essa função code mas eu não sei o que passar por parâmetro e nem como usálas no html  qual diferença de linguagem compilada para linguagem interpretada e quais as vantagens de uma para outra  tenho um código em c que por algum motivo inexplicável parece ser executado muito mais rapidamente quando os meus dados estão previamente ordenados consegui reproduzir o comportamento com o seguinte código code tenho o seguinte resultado compilado com o g sem otimizações code um aumento de velocidade de quase vezes inicialmente suspeitei que fosse algum tipo de otimização que o compilador pudesse estar fazendo com o meu código se aproveitando de alguma forma do fato de minha lista estar ordenada então decidi implementar a mesma ideia em uma linguagem completamente diferente e que não fosse otimizavél escolhi o ruby code o resultado rodando com o ruby executando vezes a menos por ser mais lento code aqui o ganho de perfomance é bastante menor pouco mais de x mas claramente significativo o que exatamente está acontecendo aqui de onde vem esse efeito e como eu posso me aproveitar dele baseado em uma pergunta famosa do so  estou estudando programação de nodejs realtime e me surgiram algumas dúvidas a respeito de sockets de rede não achei nada detalhadamente explicado dai resolvi abrir a questão o que é um socket de rede e um websocket qual a diferença entre os dois uma comunicação http baseada em requisiçãoresposta sem ser em tempo real é dada através de um socket qual é o papel do protocolo tcp nos sockets e websockets  qual a melhor forma por melhor eu quero dizer com maior compatibilidade possível entre browsers e o mais simples possível de posicionar um elemento no centro da página vertical e horizontalmente e independentemente de resolução utilizando somente css  como saber se o código é de fácil leitura e manutenção costumo abstrair grande parte dos meus códigos tenho costume de usar muito funções lambda no c como essa função para validação de cpf code nesse exemplo comentei para facilitar quem for realizar leitura ou alteração no código a solução seria comentar eou utilizar a quantidade mínima possível de funções prontas que agilizam muito desenvolvimento quais outras técnicas podem ser usadas para melhorar a legibilidade do código  e quais minificadores posso usar  executo uma rotina diariamente de acessar o site do serasa e fazer a consulta de cnpj preciso desenvolver uma macro para acessar esse site do serasa efetuar o login e depois a consulta e em seguida jogar as informações no excel detalhe já consegui desenvolver a macro pra acessar o site mas na hora da consulta de cnpj da erro de script e não deixa copiar as informações alguém sabe me dizer se é possível que a macro execute todas essas atividades code  certa vez eu vi um código em c com a seguinte linha code o que significa em linguagem c  reconheço que é comum que cada linguagem utilize um padrão para compor seus identificadores variáveis constantes objetos controles etc no caso do c quais seriam as boas práticas com relação à maiúsculasminúsculas tamanho e utilização de caracteres especiais  estou interessado em criar sites com animação comandada pelo scroll ex kano onde os conteúdos vão sendo animados e substituídos conforme o rolamento da página quais são as técnicas para facilitar esse tipo de programação  contexto quando faço um sql e desejo por um alias especifico devo por entre aspas duplas code quando quero fazer um code de um campo code os valores devem estar em aspa simples code pergunta qual a diferença entre aspa simples e aspa dupla no sql adendo se eu fizer um code de code code de campos que tem alias em o meu code mais externo também deve ter code  estou fazendo uma implementação de um jogo em assembly no proteus eu sorteio dois números aleatórios de até e preciso gerar no lcd uma imagem referente aos números que eu gerei exemplo se eu gerar o número a imagem que vai aparecer no display é se eu gerar o número a imagem que vai aparecer no display é implementação foi feita da seguinte maneira code no código escrevi assim para gerar o número aleatório e guardar nas variáveis auxiliares para comparação no final do jogo code eu tenho number e number os valores dos números aleatórios gerados eu fiz da seguinte maneira para buscar o número gerado e armazenar a posição de memória da imagem referente ao número armazeno em bl antes de chamar code o valor para buscar a imagem do number e para a number em ax contém o valor do number code para cada just equals eu chamo assim code mas não acho que é a melhor solução alguém saberia um método mais prático criar uma nova variável e armazenar como fosse um array de posições de memória se eu querer a imagem eu somente iria fazer code ou imagem code algo assim obs sim atualmente eu gerei variáveis para armazenar cada imagem referente a cada número meu editor está até travando pela quantidade de informações no código escrevi linhas só para comparar qual é o número gerado e tive que escrever linhas referente as imagens de cada número ds significa data segment  eu comecei a ler um artigo sobre ecmascript e me deparei com o termo transpilation que em português seria transpilação além desse percebi que outros artigos usam esse termo é a primeira vez na minha vida de programação que me deparo com esse termo o que isso significa esse trans tem a ver com traduzir código ou algo do tipo  tenho ouvido falar muito de kotlin o que é isso é uma linguagem de programação se sim quais as principais características posso programar em qualquer sistema operacional e executar como funcionam os tipos nela não quero saber tudo mas uma informação básica sobre o que é isso  muitos sites do governo brasileiro costumam não ter certificados de segurança válidos exemplos httpswwwibamagovbr validade expirada httpswwwibgegovbr autoassinado url inválida httpswwwfunaigovbr autoassinado httpswwwbrasilgovbr ca desconhecido icpbrasil httpswwwsenadogovbr ca desconhecido icpbrasil url inválida na maioria dos casos o browser diz que o certificado raiz da autoridade de certificação não é confiável e outros ainda estão simplesmente com a validade expirada essa situação é incomum em sites comerciais mas de vez em quando também topo com um desses e naturalmente eu próprio tenho certa dificuldade de manter os sites que gerencio sempre com certificados válidos é necessário que um site tenha certificado válido para que a comunicação com ele seja segura por que alguns desses sites do governo têm funções muito importantes ex receita federal ministério do trabalho siape é seguro continuar utilizandoos apesar do alerta de segurança apresentado alguns chegam mesmo a instruir o usuário a ignorar esses alertas já me foi sugerido pelo meu antigo provedor de hospedagem usar certificados do cacertorg em vez de um autoassinado pois eles ainda não são reconhecidos pelos principais browsers mas muitos sistemas já aceitam ou seja ainda é invalido seria essa uma prática aceitável posso simplesmente dizer pros meus usuários ingnorarem o alerta de segurança e pronto tal como esses sites do governo fazem que impactos um certificado inválido tem na segurança de um site  é possível observar em alguns casos que a separação de tarefas em múltiplas threads não dá ganho e até torna uma aplicação mais lenta que o uso em thread única não deveria sempre ter ganho de performance quando tem vários processadores não necessariamente chips o ganho ocorre em alguma situação quando só existe um processador ou core na máquina é possível paralelizar qualquer tarefa e obter ganho de performance  tenho uma tabela com uma coluna code não posso definir como chave primária em um sistema que recebe muitas notificações antes verifica com um code para ver se aquele código já existe na tabela se não existir ele dá o code e se existir ele faz o code acontece que esse sistema recebe muitas notificações via code onde muitas delas acontecem ao mesmo tempo para o mesmo código muitas vezes o sistema mesmo dando o code antes acaba inserindo códigos duplicados na tabela não sei como é que o mysql trata isto pelo que não sei se é seguro fazer um code verificador antes do code presumo que exista uma espécie de fila de consultas e que a mesma vai sendo processanda uma a uma code como que um código acima poderia permitir inserir dois registros com códigos iguais imagina uma requisição com uma notificação acontecendo ao mesmo tempo exatamente ao mesmo tempo qual a melhor maneira de contornar isso sem uso de chave primária  distinct a instrução select distinct é usada para retornar apenas valores distintos diferentes dentro de uma tabela uma coluna geralmente contém muitos valores duplicados e às vezes você só deseja listar os diferentes valores distintos sintaxe code group by a instrução group by geralmente é usada com funções agregadas count max min sum avg para agrupar o conjunto de resultados por uma ou mais colunas sintaxe code code retorna valores diferentes valores agrupadoscode também ficam distintosdiferentes para demonstrar que os mesmo resultados são retornados usando ambas as declarações eu fiz um teste sql fiddle algumas dúvidas qual a diferença entre ambas as declarações além da sintaxe em relação ao desempenho existem diferenças existe alguma possibilidadeexemplo na prática em que o uso das declarações é necessária poderiam dar exemplos de uso ideal de cada uma das declarações pode parecer bobagem mas esses tipos de declarações confundem as pessoas e apesar de não parecerem o uso de ambos trazem resultados iguais  quais problemas um programa poderá enfrentar com o uso de estados globais onde ele pode ser aceitável ou seja como saber se estou abusando do recurso que alternativas existem para evitar isto eu já passei perto do assunto na pergunta por que no devemos usar singleton e de certa forma motivou esta nova pergunta  estava lendo as respostas da pergunta quando usar waterfall e quando usar scrum e me deparei com algo citado pelo usuário utluiz que me deixou com dúvida que é a sequência de desenvolvimento de software requisito análise design implementação teste integração dúvida eu gostaria de uma explicação a respeito de cada passo desta sequência e qual é a finalidade de cada um dos passos  em um tabuleiro de xadrez em qualquer casa possuo um cavalo representado em vermelho e terei somente uma outra peça representada em verde que o cavalo deve ir até ela devo utilizar o caminho mais simples e levar em consideração o movimento do cavalo em l e contabilizar os movimentos até chegar no ponto determinado como no exemplo abaixo como posso fazer isso usando python tenho em mente que tenho que usar matriz e uma lista como entrada de posição mas não sei como continuar  cada módulo do projeto possui um code e um code quais são as funções desse artifacts nesse processo de deploy e qual a função do jenkins nesse contexto entendo que deploy é um processo de montar esse war pois toda vez que algo está errado recebo um build failed in jenkins  vejo grandes conhecedores aqui do sopt dizerem a frase quer desempenho esqueça o php por exemplo perguntas sobre php como posso melhorar o desempenho disso claro que sabemos que desempenho vem muito da estrutura do código mas essa afirmação esqueça desempenho no php não seria pelo php não ter desempenho mas sim porque é um fator a não ser considerado quando o cenário é o php em comparação de sua tecnologia com uma outra correto então gostaria de saber acredito eu que quando dizem que o php não se foca em seu desempenho seria em comparação a outras linguagenstecnologias isso seria sobre o php ser uma linguagem interpretada somente o php ou todas as linguagens interpretadas ou correlacionadas entendendo melhor o tipo de resposta que eu gostaria como no comentário feito é dito isso porque o php não foi feito para ser rápido simples assim php foi criado para ser fácil e ter entrega rápida abrindo mão da performance que em aplicações web não é crítica se precisa de performance não use php assim como se precisar martelar um prego não use um alicate anderson carlos woss antes de comentar ou responder entenda não é comparar qual a melhor linguagem ou opinião mas sim sobre a diferença entre as tecnologias eou seus limites  comecei a estudar aspnet mvc e me deparei com o termo scaffold não entendi muito bem por isso as perguntas º o que é º qual sua utilização dentro do aspnet mvc  falam muito mal do code mas as vezes me pergunto se ele realmente é o problema ou é a pessoa que está sentada na frente do computador o suporto programador minha vida inteira na programação tenho ouvido críticas piadinhas zoeiras em cima dessa função code mas o curioso é que mesmo aqueles que zoam acabam por usar bibliotecas que a utilizam internamente sem saber um exemplo disso é code que no sistema de views utiliza code exemplo removi os comentários do código original code github viewphp linha é verdade o mesmo já está descontinuado mas não está numa era tão distante assim a versão dele é para php porém não seria surpresa se um dos críticos de code tivesse utilizando esse framework sem saber dessa informação e ainda eu dou outro exemplo que muitos programadores também usam mas sem saber o superclosure que é utilizado no laravel e laravel essa biblioteca tem como finalidade prover uma possibilidade de serializar closures no php já que nativamente as closures no php não têm suporte a serialização essa biblioteca se torna útil para quem precisa utilizar sistemas de filas como o beanstalkd onde as informações passadas geralmente são uma string e portanto os dados em php precisam ser serializados exemplo code github serializableclosurephp linha pensando na utilidade das classes das bibliotecas apresentadas acima lembrando que são só dois exemplos mas deve haver outros casos fiquei me questionando se eu deveria ainda continuar falando mau do code ou simplesmente fazer uma análise e avaliar quando é bom ou ruim usálo por outro lado se eu pensar que todo eval independente de como é implementado é um risco provavelmente vou ter que parar de usar as bibliotecas que citei acima e fazer um trabalho todo manual quais são os riscos de usar code num projeto devo sempre evitálo se a resposta for sim para devo evitálo então eu também deveria deixar de usar bibliotecas que o implementam afinal de contas isso não pode pôr meu código em risco o code deve ser utilizado em alguns casos bem específicos como por exemplo somente em geração de código ou posso utilizálo livremente desde que eu tenha consciência do que estou fazendo nota favor não editar e colocar tags como php ou laravel pois os exemplos foram apenas para mostrar casos onde code foi bem recebido se houver exemplos de outras linguagens que o usem será bemvindo  estou realizando alguns testes e pelo que me parece object e dynamic realizam a mesma tarefa ao contrário de var que depois de atribuído é impossível mudar seu tipo qual a diferença entre eles code  eu tenho duas aplicações em domínios diferentes e preciso realizar uma requisição ajax entre elas via code ou code de forma crossdomain qual seria a maneira mais segura de implementar isto em javascript sem fazer uso de nenhuma api ou framework de uma forma que funcione em todos os navegadores crossbrowser  eu já vi muita gente defendendo o uso dos métodos http corretamente ou seja respeitando a semântica dos métodos definidos na especificação ao fazer uma requisição code só deve ser utilizado para recuperar dados e nunca para ações que causem efeitos colaterais os métodos code e code muitas vezes devem ser utilizados no lugar do code porém é um fato óbvio que muito pouca gente na web faz isso na prática code e code são utilizados quase que exclusivamente por diversos motivos que não vêm ao caso gostaria de saber quais as vantagens do uso correto e as desvantagens do que é feito na prática para além do dogma do certo e errado e da questão semântica  normalmente utilizo code mas vejo na maioria dos formulários o uso do code existe alguma diferença qual é o ideal  na calculadora windows no meu programa gostaria de obter esse nível de precisão usando c vide trechos do meu programa code como fazer  quando estou escrevendo programas normalmente eu escrevo os nomes de variáveis em inglês por exemplo code por vários motivos nomes em inglês não têm acentos então não fica um negócio estranho como code os nomes normalmente são menores ref o código poderá um dia ser mantido por alguém que não fala a língua portuguesa as apis quase sempre são todas em inglês porém há outras coisas que eu prefiro manter em português principalmente se for do contexto do sistema comentários nomes de classes ou tabelas por exemplo code por esse motivo algumas vezes os nomes em português se misturam com inglês por exemplo pode haver uma code enquanto é perfeitamente compreensível isso me parece estranho levandose também em consideração que todo programador deve ter noções básicas de inglês qual é o método preferido para a escolha do idioma que eu devo usar ao programar quais as vantagens de escolher um método ou o outro  o que é essa tal de race condition que pode causar problemas nas aplicações como evitála  faz um tempo estou tentando aprender a usar promessas e programação assíncrona em javascript mas até agora não tive muito sucesso nisso já entendi que existem funções que retornam as tais promessas e que então é possível encaixar um callback no método code do objeto retornado também sei construir funções que retornam promessas usando a biblioteca code meu problema é que não sei como usar as promessas na prática sempre que tento vira uma confusão e acabo tendo um monte de codes aninhados e na maioria das vezes nada funciona sem falar que é extremamente comum que eu caia em situações do seguinte tipo preciso de certos dados que são carregados do servidor essa chamada retorna uma promessa mas eu preciso dos dados em uma função que é executada logo em seguida na verdade não estou conseguindo pensar do jeito certo com programação assincrona e promessas é muito natural pensar daquela forma primeiro acontece isso e em seguida tem que acontecer aquilo mas parece muito estranho pensar alguma hora vai acontecer isso e nem sabemos quando vai acabar e precisa acontecer uma outra coisa que depende da primeira alguém poderia dar algumas dicasreferências pra pegar o jeito mesmo disso  encontrei no so en essa pergunta creating meta language with java no qual o usuário tem interesse em criar uma meta linguagem usando java fiz uma breve pesquisa e encontrei no site da microsoft um tópico falando sobre gramáticas linguagens e compiladores um retorno às bases onde fala que em computação uma metalinguagem muito conhecida é a bnf ou backusnaur form o que é uma meta linguagem  o timestamp é a representação numérica de uma data e é bastante utilizado nas linguagens de programação e em banco de dados quero saber como é feito esse cálculo existe alguma padronização para esse cálculo uma iso ou algo parecido já ouvi falar em code existem outros sabores de timestamp  estou fazendo essa pergunta porque eu já cansei de ver coisas como requisitos para determinado cargo de programação é necessários saber as linguagens php javascript css e ajax já aprendi que code não é uma linguagem de programação é claro porque ninguém programa em ajax mas se tratando da questão dos termos como deveríamos classificar o code recurso tecnologia como deveria ser denominado  estou desenvolvendo uma aplicação onde a partir de uma senha fornecida pelo usuário um par de chaves autenticação e criptografia é derivado a senha em si nunca é enviada ao servidor somente a chave de autenticação gostaria de oferecer ao usuário a opção do navegador lembrar sua senha é possível fazer isso via javascript e de forma segura li diversas referências por exemplo essa pergunta no soen e pelo jeito não há um meio consistente entre os diversos browsers ex o chrome só oferece para salvar a senha no retorno da submissão do formulário e só se a própria senha tiver sido submetida o que não é o caso aqui pois a senha não deve nunca sair do browser estou procurando por alternativas é possível forçar o browser a salvar um campo code arbitrário com o mesmo nível de segurança que ele salvaria uma senha submetida ainda que essa segurança não seja assim tão elevada de preferência satisfazendo essa restrição adicional de não enviála ao servidor se não dá para salvar junto com as senhas haveria uma solução igualmente boa considerei por exemplo a opção de usar code apesar dos avisos enfáticos que não se deve armazenar informações confidenciais no code entretanto não vejo como usálo possa ser pior do que salvar a senha no browser uma vez que alguém com acesso local ao computador também poderá ler essas senhas a única desvantagem que vejo é que ele é mais vulnerável a xss o que acredito não ser necessariamente o caso com as senhas salvas do jeito normal sem envolver javascript ou estou enganado nota conheço a webcrypto api sendo desenvolvida no futuro quando a mesma estiver consolidada e amplamente suportada ela pode vir a se tornar a solução ideal entretanto estou analisando alternativas a curto prazo e não a de criptografia toda a criptografia ocorre no lado cliente de modo que nem o servidor tem acesso aos dados do usuário por essa razão a senha original deve ser mantida confidencial inclusive do servidor mais detalhes do meu caso particular aqui assuma como premissa que o usuário optou por armazenar a senha tenho consciência que esse é um tradeoff segurança vs conveniência e gostaria de oferecer ao usuário diferentes opções a respeito em vez de impor isso a ele uma discussão aprofundada sobre segurança seria offtopic aqui mais apropriada para securityse por exemplo essa pergunta referese somente a um problema de programação comandar o browser para salvar uma senha através dos seus mecanismos usuais atualização por exigência popular aqui vai o meu threat model modelo de ameaças e outros requisitos particulares a principal preocupação é confidencialidade na nuvem ou seja ainda que o código da minha aplicação javascript tenha de vir necessariamente de uma fonte confiável caso contrário nada do que eu fizesse iria garantir a segurança o servidor onde os dados são armazenados é menosqueconfiável ie há o interesse de se esconder a infomação confidencial mesmo dele ainda que não se presuma malícia a priori a resistência contra acesso local não autorizado não é uma preocupação assumese que qualquer um com acesso físico à máquina está autorizado a acessar esses dados e se pra um usuário particular isso não for verdadeiro ele será instruído a não salvar sua senha dessa maneira a facilidade de uso é um requisito de extrema importância instalar plugins java webpg etc gerenciadores de senha lastpass keepass etc usar um browser ou so particular muitos tem integração nativa com chaveiros seguros ou mesmo um servidor proxy local poderão ser oferecidos como opção para os indivíduos mais conscientes em segurança mas não devem ser obrigatórios o sistema deve ser usável somente com os recursos nativos do navegador independente de plataforma estou postando isso aqui porque tenho recebido demasiadas sugestões de não fazer isso ou fazer aquilo em vez disso mas minha pergunta original não é sobre segurança e sim programação se é ou não possível usar o mecanismo nativo do browser de lembrar as senhas cada um tem um mas a funcionalidade é equivalente programaticamente  em php quando possuo um code com valores duplicados é possível obter apenas valores únicos através da função code exemplo code porém eu precisei fazer algo parecido em javascript mas não encontrei uma função que fizesse isso nativamente qual é o meio mais simples em javascript de se obter os valores únicos de um code vou deixar esse array de exemplo \\r \\r code\\r \\r \\r  supondo uma condição onde eu tenho um projeto com commits e decido por razões inexplicáveis voltar alguns commits independente se quero voltar ou supondo que a descrição de meus commits são bem claros visualizo meus últimos commits usando o comando code e depois de localizado como faço pra reverter pra um específico commit quais os possíveis problemas que posso encontrar e como sanálos   a ª imagem utilizo o charsetiso nesta ª imagem utilizo o utf tenho um sistema de notícias em que é possível colar html ou texto de outras páginas na página em que as noticias são apresentadas utilizo o code por causa da acentuação mas ao utilizar este charset os menus e restantes títulos ficam alterados devido à acentuçao precisava da vossa ajuda para saber se é possivel ter dois metas charset na mesma página ou numa parte da página ou outra forma de contornar a situção para além disso tenho dois ficheiros de conexao code mysqlphp code  vejo isso em várias classes de terceiros lembrando que o fechamento geralmente é o code mas sem code  eu sempre faço confusão com aplicação web e aplicação desktop não consigo entender muito bem a diferenças de ambas perguntas quais são as diferenças entre aplicação web e aplicação desktop quais são as principais característica de cada um  é comum dizer que devese evitar retornar códigos de erro em uma função quando alguma operação falha não é difícil perceber que códigos de erros são confusos é um valor válido ou um erro e não fornecem informação relevante a recomendação é utilizar o lançamento de exceções ao invés de códigos de erro por que as exceções são melhores que o retorno de códigos de erro há casos onde esta solução é pior o título obviamente não implica que uma afirmação ou outra esteja correta a dúvida é esta  me parece que o conceito de protótipo é fundamental em javascript e inclusive em vários lugares tenho lido que é um de seus pontos fortes entretanto este não parece um conceito tão simples de entender para quem vem de outras linguagens assim pergunto como funcionam protótipos em javascript  o código de endereçamento postal cep ou zip code dos endereços de uma cidade garantem maior confiabilidade aos dados de endereço e à resolução de geolocalização por endereço lembrando que endereço não se presta somente ao envio de carta pelo correio é um complemento essencial ao cadastro de uma pessoa física localização mesmo que aproximada de onde reside ou jurídica endereço da sede da empresa presente em bases de dados de crms erps etc e padrões tais como vcard schema e centenas de outros a pergunta é onde estão os dados da minha cidade e pode ter uma resposta específica para cada país da língua portuguesa assim como eventualmente para cada cidade pois as cidades tem certa autonomia sobre o tema como tomei como exemplo a cidade de campinas fica a sugestão de restringirmos discussões a campinas no caso do brasil os dados não estão nem sob a responsabilidade do ibge nem sob a responsabilidade da prefeitura apesar da prefeitura ser a responsável pelas leis de batismo de cada nome de rua da cidade exemplo de rua de campinas notas o geonames tem se empenhado em construir um esboço dessa base de dados mas não resolve o openstreetmap parece ter uma parte dos dados de fato o ideal para o cep é telo espacializado dada uma coordenada geográfica da cidade retornar o cep da coordenada o diretório nacional de endereços dne é a base de dados mantida pela empresa brasileira de correios e telegrafos ect mais conhecida como correios do brasil para validar endereços postais e determinar ceps ela não pode estar numa base apoiada pelo ckan ou qualquer outra iniciativa de dados abertos  se eu tenho o seguinte código code e mando para o banco de dados code deveria ser possível recuperar esse code no banco e mostrar senha de volta num formulário de atualização de informações não isso é possível ou uma string criptografada em code não tem pode ser descriptografada  eu tenho uma code code que eu quero converter para code como eu removo os acentos preciso para guardar no banco de dados como uma url  no contexto do desenvolvimento de software o que é um jitter cada vez se fala mais nisso e várias linguagens estão usando a tão falada compilação jit no que ele difere de um compilador  por vezes vejo em documentações ou especificações que um determinado valor no geral string pode ou deve ser considerado opaco o que isso realmente quer dizer quais são as características que definem uma string como opaca a citar vale referenciar a rfc também discutida nesta pergunta que afirma que um segmento de caminho é considerado opaco pela sintaxe genérica a path segment is considered opaque by the generic syntax assim como é válido referenciar a documentação na mdn sobre o atributo code que diz que o valor do atributo é uma string opaca this attributes value is an opaque string o significado de opaco nas duas situações é o mesmo pois ainda na documentação mdn há logo após o trecho citado a seguinte afirmação this means that web author must not use it to convey any information que traduzindo seria que o autor não deve utilizar o atributo code para transmitir qualquer informação considerando que o path da url é o identificador de recurso requisitado é correto afirmar que este também é opaco por não carregar nenhuma informação em caso afirmativo uma url amigável que carrega valores de atributos no path por exemplo code quebram a definição de valor opaco opcional para respostas citar outros valores que são considerados opacos  em c quando preciso verificar se uma variável é de determinado tipo normalmente uso o operador code code sei que também é possível verificar o tipo de uma variável de outras formas uma delas é usando code code qual a diferença entre esses dois operadores existem outros que façam a mesma coisa mas com uma pequena diferença  quando devo fazer essa gravação direto no banco quais as situações eu sei que posso gravar no banco o caminho da imagem  vejo que alguns sites ao definir o code utilizam a unidade code em uma breve pesquisa eu li que é recomendado usar code em fontes por ser melhor do que a unidade code afinal qual seria a unidade certa ao definir o tamanho da fonte e por que  ao implementar um software de faturação online questionei a empresa responsável se existia a versão rest da api a resposta foi que não utilizavam rest devido a segurança que soap seria mais seguro por se tratar de um software que manipula informações financeiras seria essa uma informação verdadeira se sim em que contexto soap é mais seguro que rest e viceversa  estou trabalhando em um site com característica responsiva e nele tenho uma página de promoções e gostaria que as imagens acompanhassem a mudança de tamanho do navegador o tamanho máximo da largura da imagem é px seguindo algumas dicas de companheiros refiz o css e exemplo exibido isoladamente funciona corretamente mas ao inserilo em minhas tabs o mesmo não funciona ficou assim divpage width auto textalign center padding px px img maxwidth o código para exibição code a página pode ser vista aqui página de promoções o código da minha tab está assim tabs uitabs fontfamily open sans sansserif fontsize px lineheight em px marginbottom px padding border none background none widthpx uitabs uihelperreset lineheight em px uitabs uiwidgetcontent color uitabs uitabshide position absolute left em uitabs uitabsnav padding border none uitabs uiwidgetheader uitabs uistateactive background none uitabs uitabsnav li uitabs uitabsnav liuitabsactive float left margin px px padding position relative zindex border none uitabs uitabsnav li a display block padding px px color backgroundcolor fff border px solid eee borderbottom none uitabs uitabsnav liuistateactive a backgroundcolor fff paddingbottom px makes the unselected tabs appear above the border uitabs uitabsnav liuistatedisabled a color important cursor default uitabs uitabspanel padding px px backgroundcolor fff border px solid eee borderradius overflow hidden vejam no tamanho da tab coloquei esse valor para que ela possa ficar expandida code ainda não consegui deixar a imagem responsiva dentro das tabs mesmo seguindo a dica de deixar a div pai com percentagem  como busco nos correios os detalhes de um endereço utilizando seu cep similar aos cadastros de endereço que vemos nos sites de ecommerce  qual a grande diferença sobre o aspnet e o c eu programo em c pra desktop mas não consigo compreender c pra desktop windows forms application é idêntico ao c utilizado na programação web e o c usado na programação web é igual ao asp  eu já li e reli no wikipédia já assisti uns videos em inglês e em português sobre esse assunto já li vários artigos no google mas não consigo entender por que ela entraria num loop infinito ou por que ela pararia todas as explicações usando a contradição não fazem sentido na minha cabeça por favor sem termos técnicos me ajude com lógica simples a entender  como uma linguagem de programação é criada em termos gerais por onde e como funciona a validação das funcionalidades da nova linguagem por exemplo temos a linguagem c ela é complexa e tem bastante conteúdo e utilização mas como chegou até aqui como se iniciou como foi criada estou usando o c só como um exemplo a pergunta é mais geral não quero saber sobre o que é uma linguagem de programação que já tem pergunta sobre isto não quero saber sobre como funciona um compilador e a diferença dele para a linguagem isto já foi perguntado antes  dúvidas como é feita a randomização pelo computador qual algorítimo ou qual base matemática o computador usa para gerar esses números por exemplo no javascript utilizo o code ele me retorna diferentes números todas as vezes como por exemplo code e etc  eu preciso do regex para detectar quando a bandeira do cartão de crédito é hipercard aura e elo eu já possuo regexes para amex martercard diners club visa discover and jcb code  no meu projeto estou a usar a função code no entanto gostaria que fosse em português a saída da data de momento é code gostaria que ficasse no mesmo modelo mas em português este é o meu código code  o que é importante saber antes de licenciar um programa de computador no brasil eu realmente preciso utilizar uma licença o que é e como funciona o sistema de software livre  pelo que percebo vejo um recuo em relação a outro elemento quando definidas as propriedades code existe diferença entre code e code no css uma resposta com exemplosimagens ou código ajudaria bastante no entendimento da questão  nessa pergunta que fiz a respeito de tipos valor e tipos referência em c foi citado na resposta aceita que instâncias de structs devem ser objetos imutáveis lendo no wikipedia confirmei que um objeto imutável não deveria ter seu estado modificado depois de criado mas isso é confuso porque afinal se eu declaro uma variável seja de um tipo struct ou um tipo classe eu posso modificar seu valor a qualquer momento ou então ela seria uma constante na realidade code é uma struct pelo que sei então nesse caso se eu declaro uma variável do tipo code ela não deveria ser modificada se instâncias de structs são realmente imutáveis mas isso claramente não é verdade eu posso fazer code e depois code e só nisso já mudei o seu estado dessa forma o que realmente significa objetos imutáveis e como esse conceito é um conceito útil em orientação a objetos  por exemplo code estou fazendo um efeito aqui mas não estou entendendo esse sinal de code que tem no framework resultado final \\r \\r code\\r code\\r code\\r \\r \\r  estava pesquisando algumas bibliotecas em python que pudesse detectar a nudez em fotos para que de alguma forma eu pudesse evitar conteúdo impróprio no meu site daí encontrei o nudepy o problema é que para algumas imagens ele erroneamente retornava positivo pois as imagens não continham nudez por exemplo a imagem abaixo que não contém nudez ao fazer o teste retornou code veja code o usuário bacco recomendou que eu fizesse testes com uma foto que tivesse apenas cor de pele já para essa imagem o resultado foi code veja daí fiquei me perguntando qual era o critério utilizado para detecção de nudez mesmo sabendo que isso pode ser falho gostaria de ser esclarecido nos seguintes pontos existe algum algorítimo que detecte nudez com alto grau de eficiência qual é a técnica que costuma ser utilizada para detecção de nudez em uma imagem atualização foramme solicitados testes com imagens também com pretoebranco para avaliarmos a forma que o code analisa as imagens aqui vai o teste existem três imagens numa pasta tirei o printscreen da tela ao rodar code os seguintes resultados são retornados code  existe diferença entre code além de um ser javascript e o outro ser jquery vejo que ambos os eventos são disparados assim que o dom modelo de objetos do documento é carregado na prática como são escritos code  olá busquei por essa dúvida nas perguntas porém não a consegui encontrar pois bem gostaria de fazer com que um campo tivesse as máscaras de cpf e cnpj dependendo da quantidade de caracteres digitados aqui não dá totalmente certo pois com vários testes que fiz aqui esse meu código não deu resultado que preciso não sei se devo apenas alterar ou se preciso fazer outro segue o código code obs estou usando esse plugin  eu já li em vários artigos e livros de designer patterns a expressão code acredito que é um tema bastante polêmico devido aos pontos de vista discutidos a meu ver composição e herança são usadas para resolver problemas diferentes certo code o exemplo acima é bem coerente pois um carro deve ter um motor entretanto se substituirmos a herança por composição em alguns casos a estrutura fica um pouco estranha por exemplo code é estranho pensar que veiculo virá um atributo de carro nesse contexto veiculo serve apenas para a reutilização de código pois não segue uma hierarquia e não agrega polimorfismo desculpem minha ignorância mas as classes herdadas mantém o acoplamento que é necessário entre elas a herança em si certo quais as vantagens de se usar composição em vez de herança é possível especificar um momento certo de usálas seguindo a opinião do título a melhor combinação seria composição interface  tenho em minha aplicação nomes próprios em maiúsculo por exemplo josé da silva gostaria de formatar da seguinte maneira josé da silva como fazer  desde que lançou o html tenho notado que diversas tags diferentes começaram a surgir em todo lugar que tentei estudar sobre o assunto sempre via a tal da expressão semântica entendi que essas tags na verdade não têm uma habilidade especial mas é apenas como um contexto de organização me surgiram algumas dúvidas e preocupação quanto a essas tags pois como eu não tive paciência de aprender o que cada tag significava eu continuei a usar a boa e velha code essas tags semânticas ajudam a melhorar o seo de um site usar somente divs como eu costumo fazer sempre é prejudicial ao seo do site há ainda uma outra dúvida que gostaria de esclarecer é em relação à algumas tags que não são tão óbvias para mim por exemplo olhando a tag code ou code parece que é obvio que se trata do cabecalho e rodapé do site porém algumas vezes já vi um code e um code em cada code code por sua vez não entendi para que serve pois cada tutorial que vi explica uma coisa de um jeito diferente talvez para mim a única tag que ficou óbvia o seu uso é a code então vou fazer mais alguma perguntas qual é a finalidade semântica das tags code code code code e code posso usar um code e um code por página ou posso usálos dentro de cada code e se sim por quê  qual a diferença entre code e code que tipo de situação devo utilizar uma code invés de uma code  ao modelar endereços em uma aplicação ingenuamente segui a forma normalizada ao representar no bd ie tabelas separadas para país estado cidade bairro etc joins para todo lado e na interface de usuário html coloquei um campo separado para cada parte desse endereço caixa de texto com autocompletar ou combo box no começo achava que estava bom desse jeito e não pensei muito no assunto entretanto após fazer uma pergunta no uxse relativo ao nosso padrão de usar rua x em vez de x street as respostas me levaram a questionar se valia a pena na prática exigir tamanho nível de detalhe na representação além da complexidade adicional na hora de buscaratualizar como exemplificado nessa pirâmide não sei como a performance do sistema será quando ele contiver um número elevado de endereços gostaria de saber de quem já tem experiência lidando com um grande número de endereços quais práticas seriam recomendadas deixar tudo normalizado usar um campo de texto aberto condensar algumas tabelas numa só ex code e deixar outras separadas etc levando em consideração que poucos usuários entrarão com muitos endereços de outras pessoas se fosse cada usuário entrando com o próprio endereço uma vez e pronto não justificaria investir em usabilidade se uma parte do endereço já existe no banco ex uma rua previamente cadastrada o autocompletar pode ser usado para agilizar a entrada de dados isso seria mais difícil se o endereço fosse um campo aberto alguns dados são mais fáceis de encontrar e prépopular ex lista completa de cidades brasileiras outros são mais difíceis ou mais caros podendo ser melhor que o usuário entre com eles sob demanda mas ainda permitindo autocompletar se um campo é aberto fica mais sujeito a duplicação ex av foo av foo avenida foo a foo foo mas duplicação não é necessariamente um problema é mais difícil fazer agregação em um campo desnormalizado ex se quero estatísticas por estado mas agrupei code num campo só terei problemas  é comum encontrar uma mensagem de erro que diz desculpe você não tem permissão para acessar esta função entre em contato com o administrador para obter ajuda é apropriado um pedido de desculpas neste caso é um caso claro que o problema não é culpa do sistemaplataformaprovedor do serviço então por que deveria existir esse pedido de desculpas isso é importante tem alguma fonte de informação autoritativa que justifique o seu uso note que não estou perguntando se você usa de um jeito ou de outro e o que você acha que é certo respostas com opiniões sem base são inválidas e devem ser votadas negativamente informações que indiquem com clareza e justificativa de qual o motivo do uso ou não são construtivas  durante a manutenção de um sistema legado reparei na seguinte procedure code a primeira coisa que me chamou atenção foi a condição where por que o programador que escreveu essa procedure usou essa condição  quando a sessão é iniciada ela cria um cookie com phpsessid tornando o id público sabendose que para prevenir o sequestro de sessão o melhor é esconder o id da sessão de outros usuários então phpsessid se torna um ponto de partida para um ataque podese recorrer à code e code mas mesmo assim um cookie com um id é fácil de ser encontrado por exemplo se eu criar uma code para um usuário chamado fulano teóricamente somente ele terá acesso à session o problema é que se joãozinho alterar o phpsessid com o valor do fulano ele terá acesso às sessions criadas cookie phpsessid são suscetíveis ao mau uso de terceiros ou até uma máquina infectada estou tentando fazer uso de sessions sem a criação de cookies tentei code mas todos acessos geram uma nova id e as sessões que foram salvas são perdidas realmente gostaria de usar as sessions fora do alcance do cliente pensei em definir code para não fazer uso de cookies por sessão e usar code para gerenciar as sessões de usuário para poder implementar mais verificações pergunta minha pergunta principal é há alguma forma no php de trabalhar com sessões sem a necessidade de criação de cookie pergunta levando em conta que o cookie é alocado no cliente seria dele e só dele a responsabilidade em não permitir que seja público ou seja alguém em uma máquina pública deve fazer o logout ou o usuário usando um computador pessoal deve mantêla livre de infecções que possam rastrear suas ids essa questão eu tive como base o facebook onde entrei em uma outra conta alterando os cookies era minha outra conta antiga do facebook não há temores  existem diferentes métodos para concatenar strings como concatenando com o operador code formatando code utilizando o stringbuilder code utilizando o método concat de string code em que situação eu devo utilizar cada uma o que pode ser mais eficiente em cada caso  wikipedia sistema de computadores interligados em rede através da internet que cooperam de modo transparente para fornecer conteúdo cdn são geralmente implantados em vários locais os benefícios incluem a redução dos custos de largura de banda melhorando os tempos de carregamento da página ou aumentando disponibilidade global de conteúdo baboo uma cdn é uma rede de distribuição de informação e dados que permite fornecer conteúdo na web de forma rápida para vários usuários independentemente de onde essa pessoa se encontra o que o sistema faz é distribuir um mesmo conteúdo em diversos servidores para direcionar esses dados de acordo com a proximidade de servidor do usuário o serviço funciona como um cache dos arquivos não dinâmicos do site em diferentes datacenters de localidades dispersas em todo o mundo stackoverflow cdn é simplesmente uma rede de servidores que replicam seus arquivos binários de modo que eles são servidos a partir de locais geograficamente próximos cdn é simplesmente um bando de discos que estão espalhados por todo o mundo em diferentes datacenters você envia o seu arquivo a um desses discos e depois diz de onde seus clientes estão vindo ela irá então copiar o mesmo arquivo para outros discos que estão mais perto de seus clientes distribuição de servidor único vs cdn wikipedia dito isso vamos às questões tem um bom tempo que venho pesquisando sobre cdns para um projeto com grande demanda de conteúdo estático não queria recorrer a nenhum cdn free tão pouco contratar um akamai então pensei em me aprofundar no assunto para pesar o custo benefício de montar algo próprio supondo que eu escolha um dc no brasil e um nos eua para um cdn nas américas a identificação da requisição para buscar o dc mais próximo é feita no server ou no php feito o upload de uma imagem ela é replicada instantaneamente para os dc ou somente quando houver demanda local apache e linux bastam ou há necessidade de instalação de outras ferramentas próprias para um cdn tendo meu domínio principal com links para code neste posso ter o php trabalhando com o geoip para saber a localização da requisição mas como demandar o dc correto me parece que dessa forma o processo é mais dispendioso há ferramentas próprias não espero um tutorial só uma luz sobre alguns pontos eu realmente já procurei bastante mas tudo é muito superficial não encontrei nada que se aprofunde na criação de um cdn a maioria explica como funciona ou explana as diferenças entre cdn e um cloud  estou estudando javascript e vi algumas explicações que me deixaram com dúvidas aqui no stackoverflow vi várias perguntas sobre a possibilidade de se criar um classe abstrata em javascript porém minha dúvida é a seguinte é possível criar uma classe em javascript estou perguntando isso porque estou usando como guia o site developermozilla encontrei a seguinte informação a javascript é uma linguagem dinâmica orientada a objetos tem tipos e operadores objetos e métodos sua sintaxe vem das linguagens java e c por isso tantas estruturas dessas linguagens se aplicam a javascript também uma das principais diferenças é que o javascript não tem classes em vez disso a funcionalidade de classe é realizada por protótipos de objetos a outra diferença principal é que as funções são objetos dando as funções a capacidade para armazenar código executável e serem passadas como parâmetro para qualquer outro objeto a afirmação em negrito me deixou com essa dúvida pois se trata de uma fonte confiável para estudos o que entendi é que não existem classes mas existem elementos que podem ser usados como classes não sei se essa é a interpretação correta e mais esse mesmo texto diz que o javascript é orientado a objetos então tentei entender o porque da afirmação da não existência de classes estaria por ali vejo muitos colegas de trabalho e profissionais afora que dizem que instanciaram classes em javascript usaram tal classe para tal propósito em javascript com isso quero entender é correto afirmar que existem classes em javascript ou não  para medir a performance e comparar dois códigos em code eu faço da seguinte maneira no console do navegador code explicação rápida basta iniciar um contador em milissegundos rodar o código que eu quero testar várias vezes etc dentro de um loop e anotar o tempo depois é só fazer o mesmo procedimento para o outro código a ser testado e comparar os tempos para ver quem tem o melhor desempenho para o navegador em questão mas e em php será que o método a seguir é o mais recomendado code baseado em httpphpdzonecomarticlesthingsyoushouldchecknow  para que serve a declaração code no css code  como uma música é interpretada pelo computador entendo que uma imagem é uma matriz de pixels em que cada elemento é uma cor quando abro uma música no code ele a apresenta como duas sequências left e right de frequências conforme a imagem será que é correto afirmar que uma música é uma matriz com duas colunas e o número de linhas sendo alguma unidade de tempo  o que é url o que é uri são sinônimos em geral as pessoas usam quase sempre url são a mesma coisa tem mais alguma coisa relacionada  eu tenho visto que bibliotecas de software escritas em c no geral costumam usar números hexadecimais e programadores assembly também precisam ser ninjas com este sistema numérico não é em qualquer lugar que se acha um programador que saiba ler hexadecimal decentemente e muito menos fazer uso dos números mas hexadecimais são bastante comuns principalmente em programação de sistemas programação de baixo nível e segurança da informação payloads de exploits precisam dos opcodes em hexadecimal hexdumps o nome já diz tudo eu não sei porquê mas hexadecimais também estão bastante presente em macros de c considerando a importância desse sistema eu pergunto como funcionam os números em hexadecimal  como definir apropriadamente e eficientemente dados naturalmente organizados em árvore em bancos de dados relacionais considerando as implicações físicas disso ou seja organizar de forma que minimize os acessos feitos em qualquer nó assuma que o rdbms não tem características especiais para lidar com isso exceto a ddl do ansi sql ou recursos disponíveis em todos os principais sistemas de banco de dados relacionais eventualmente uma otimização específica opcional pode ser útil mas não obrigatória se existir uma forma query mais adequada para acessar varreratravessar os dados estruturados desta forma um exemplo ajudaria  existe diferença de performance entre utilizar um if e um operador ternário em c utilizo resharper ferramenta de produtividade para o vs ele insiste que o operador ternário é melhor mas não me explica o porque código antes do refactoring code depois code  no desenvolvimento de um portal web utilizando o git fizemos o controle de tudo que foi alterado a nível de código no ambiente homologação e com o jenkins subimos o site para o ambiente de produção para migrar o banco foi feita um dump de toda a base que foi colocada no outro ambiente o problema está nas próximas modificações que interfiram na estrutura ou no conteúdo do banco de dados com o site sendo utilizado novos conteúdos vão sendo adicionados e já não posso realizar uma nova cópia do ambiente de homologação sem riscos de perder informações se todas as alterações no banco fossem feitas manualmente eu poderia gerar um arquivo sql e rodar ele no produção quando fosse subir novas alterações mas a instalação de módulos e componentes no site gera alterações no banco que podem não ser tão simples de controlar manualmente gostaria de saber se há uma forma de versionar o banco de dados assim como usamos o git para versionar o códigofonte update minha principal necessidade é encontrar uma maneiramétodo para replicar as alterações feitas no ambiente de desenvolvimento para o ambiente de homologação e produção  como exportar uma página html para um ficheiro pdf tendo um documento padrão onde possa mudar variáveis dentro desse template para depois exportar essa página para um ficheiro pdf em formato a sem estragar o layout exemplo de código code  os métodos http são utilizados para enviar e receber dados do servidor tais como o code recupera dados e o code envia os dados seguindo a definição acima da para entender muito bem a finalidade do code e do code porem eu tenho uma dúvida pertinente a respeito de como o http processa a requisição de acordo com o verbo http dúvida como o protocolo http processa por baixo dos panos as requisições ou seja como ocorre a comunicação cliente e servidor através dos métodos de requisição  otimização prematura é quando há uma preocupação excessiva por parte do programador com o desempenho da aplicação ela é normalmente condenada por alguns programadores por motivos como isso pode deixar o código mais complexo sua produtividade cai você perde tempo há uma grande chance de você se preocupar muito com otimizações que não trarão uma melhora perceptível pelo usuário a recomendação seria que você primeiro fizesse funcionar e só depois identificasse os gargalos de desempenhos e os corrigisse porém há certas otimizações que devem ser levadas em conta desde o início pois depois pode se tornar mais difícil otimizar até que ponto devemos nos preocupar com o desempenho sem que isso cause uma perda considerável na produtividade  existe algum algoritmo para checar a validade de um número de rg no brasil usando dígitos verificadores como acontece com o cpf caso afirmativo como é esse algoritmo  tenho um problema de maratona de programação e quero saber se a minha solução está certa assim como sugestões de melhoria problema um grupo de formigas é realmente orgulhoso porque elas construíram uma magnifica e grande colônia no entanto o enorme tamanho tornouse um problema porque muitas formigas não sabem o caminho entre algumas partes da colônia elas precisam desesperadamente da sua ajuda a colônia de formigas foi feita como uma série de code formigueiros ligados por túneis as formigas obsessivas como elas são contaram os formigueiros sequencialmente como elas construíramlos o primeiro formigueiro numerado de code não requer qualquer túnel mas para cada um dos formigueiros subseqüentes de code a code as formigas também construiram um único túnel que ligava o novo formigueiro para um dos formigueiros existentes claro este túnel foi suficiente para permitir que qualquer formiga fosse a qualquer formigueiro previamente construído possivelmente passando por outros formigueiros em seu caminho mas elas não se incomodaram em fazer túneis extras e continuaram construindo mais formigueiros seu trabalho é dada a estrutura da colônia e um conjunto de consultas calcular para cada consulta o caminho mais curto entre pares de formigueiros o comprimento de um caminho é a soma dos comprimentos de todos os túneis que precisam ser explorada entrada cada caso de teste se estende por várias linhas a primeira linha contém um inteiro code representa o número de formigueiros na colónia code cada uma das linhas seguintes code contém dois inteiros que descrevem um túnel linha code para code contém code e code indicando que o formigueiro i estava conectado diretamente ao formigueiro code com um túnel de comprimento code code a próxima linha contém um inteiro code representando o número de consultas que se seguem q cada uma das próximas code linhas descreve uma consulta e contém dois inteiros code e code distintas code que representam respectivamente os formigueiros origem e de destino o último caso de teste é seguido por uma linha contendo um zero saída para cada caso a saída de teste com uma única linha code números inteiros cada um deles sendo o comprimento de um caminho mais curto entre o par de formigueiros de uma consulta escrever os resultados para cada comando na mesma ordem em que foram dadas as consultas no input minha solução atual code   qual a definição de inteligência artificial a pergunta à primeira vista parece falta de vontade de pesquisar por aí afora mas uma lida nos primeiros links que encontrei no google me deixaram com mais dúvidas do que eu tinha antes de começar a estudar sobre o assunto a wikipédia me deu algumas definições e o tecmundo que foi o primeiro link que o buscador me retornou não me passou credibilidade por não citar fontes partindo de uma definição como esta sistemas que pensam como um humano seria correto dizer que todo sistema que afirme que é um sistema com inteligência artificial  ou será que isto é apenas gosto não quero se você gosta mais de um do que outro não quero saber porque as pessoas gostam mais de uma ou outra não quero achismos ou respostas rasas não quero saber razões históricas quero saber de forma fundamentada o que se ganha ou se perde em cada uma das abordagens exemplos de linguagens sensíveis c c c java javascript python ruby objective c exemplos de linguagens insensíveis sql cobol basic acho que todos os dialetos php bom sei lá em parte e clipper e dialetos esta pergunta tem relação com essa outra só para deixar claro para quem não entende do assunto estou falando da sintaxe da linguagem falo das palavraschave dos identificadores  num handler de evento do jquery podese usar code code e code ou combinações desses para cancelar a ação do evento sei que tem diferença no comportamento deles mas sinceramente sempre que preciso fazer algo do tipo começo com code e vou na tentativa e erro porque ainda não compreendo muito bem a diferença já li em algum lugar que code é a mesma coisa que acionar code e code ambos e já li gente dizendo que não é bem assim alguém pode explicar melhor como devo fazer pra decidir qual desses caras eu preciso com exemplos  estou estudando rest e desenvolvimento de web apis e ouvi falar sobre hateoas hypertext as the engine of application state eu entendi a ideia ao responder uma requisição além do que normalmente retornamos a ideia é também retornar dados sobre o que pode ser feito em seguida um exemplo que vi na internet foi esse code além disso já li várias vezes que fazer isso é muito importante pra várias coisas entre elas pra permitir que a api consiga evoluir facilmente sem quebrar clients antigos acontece que eu não consigo entender quais são os reais benefícios de fazer isso basicamente o client não vai decidir por si só quais chamadas fazer baseado nesses links de qualquer forma temos que colocar hardcoded lá o que pode ser feito em seguida assim qual a real importância de usar hateoas e quais benefícios temos a partir do seu uso  tenho um textbox code queria que quando uma pessoa digitasse uma vírgula nesse textbox ela fosse bloqueada e não aparecesse no textbox como fazer isso da melhor maneira não gostaria que se a pessoa mantivesse pressionada a virgula ela fosse aparecendo no textbox e só depois fosse apagada foi o máximo que eu consegui fazer  no fim das contas em c um array code se torna um ponteiro code se não o que são arrays quais as diferenças entre eles como os arrays funcionam internamente  há muito tempo atrás vi em laboratório um programa chamado povray e uma dúvida me instigou o professor disse que é uma linguagem de programação e argumentou ora tem código fonte sintaxe semântica e compilador logo é uma linguagem de programação é correto fazer tal afirmação usando esses argumentos como podemos definir uma linguagem de programação quais elementos se faz necessário estar presente para que seja enquadrado  em c temos propriedades com getters e setters o que facilita a inserção e leitura de dados em um objeto quando alguma lógica deve ser realizada em outras linguagens como o java essas tarefas são feitas com métodos quando precisamos de lógica para ler um campo ou para escrever nele usamos métodos code e code coisas do tipo essa abordagem com métodos também pode ser feita no c e é ai que ta minha dúvida quais são as vantagens e desvantagens no c dessas duas abordagens minha preocupação com essa questão é a seguinte estive resolvendo exercícios de orientação a objetos e notei que a grande maioria dos métodos que os exercícios pedem pra codificar podem se tornar propriedades no c o problema é que isso faz a classe parecer anêmica ou seja tendo só propriedades e sem lógica dessa forma existem diferenças entre as duas abordagens existe algum tipo de recomendação sobre qual técnica usar edição a resposta do maniero é muito boa e esclarece algumas coisas com relação a esse tipo de decisão mas vou adicionar alguns exemplos para ilustar o que estou falando só pra completar um ponto os exemplos são de exercícios em java um dos exercícios que resolvi pedia uma classe code com métodos code code code e code para decidir se o ano é bissexto os métodos code claramente em c poderiam ser implementados como getters acontece que o code também poderia afinal ele devolve uma característica do objeto invés de executar um comportamento claro que existe uma lógica pra verificar isso mas me pergunto se isso não seria uma propriedade outro exercício pede uma classe code que deve ter métodos code para inserir a alternativa da próxima questão code para retornar o número de acertos code para retornar a nota e code para comparar com outra prova novamente os métodos code e code me parecem naturalmente propriedades eles são características da prova existe novamente uma lógica pra verificar isso basicamente é preciso comparar cada questão com os dados provenientes de um gabarito informado no construtor mas por conta de parecerem características achei que deveriam ser propriedades acontece que tirando esses métodos e transformando em propriedades essas classes ficam quase sem funcionalidades e não só elas mas muitas outras que já vi por ai isso indicaria o problema que ouvi dizer se chama modelo anêmico dessa forma a decisão de algo como propriedade não depende somente de ser uma característica do objeto depende também de haver ou não uma lógica a ser utilizada para ler ou escrever aquele dado em casos então como esses que citei é mais interessante então realmente utilizar métodos  vejo em muitos códigos e até mesmo arquiteturas a palavra callback vejo que é em funções javascript mas o que é como é usada por que gostaria de um exemplo de uso real  tenho um layout com uma barra de navegação horizontal na parte superior do site ele está com code quando rolar a página o menu deve ser fixado no topo da janela mas com code qual a melhor forma de realizar isso  comecei em a usar padrão mvc o conceito de model e controller entendo perfeitamente mas a questão de view me intriga o que é a view em um modelo mvc sei que é o que o cliente vê representação dos dados mas o que pode ser entendido como parte de uma view e no caso de uma aplicação separada para a interface do cliente posso considerar essa como a camada de view em outras palavras o que faz parte da view no lado do servidor falando em desenvolvimento web  sempre tenho visto em alguns frameworks que trabalham com rest ou com envio de dados em formato json numa requisição o uso da expressão payload o que significa esse nome em requisições http o que é especificamente um payload é um corpo de uma requisição em formato json um exemplo do termo sendo usado pelo google chrome exemplo exemplo  minha dúvida é bem objetiva tratandose de seletores css tenho o seguinte código code e code \\r \\r code\\r code\\r \\r \\r sei que já há uma pergunta relacionada mas nesse caso estou tratando com uma série de seletores e não somente code e code porque é aplicado o estilo do seletor code porque o code tem prioridade em cima dos outros tantos seletores já que os demais vem depois dele na última linha de estilo eu tenho um caminho com seletores e mesmo assim o code tem prioridade porquê  tenho ouvido falar bastante sobre injeção de dependência a pergunta é como quando e para que usar  estou iniciando meus estudos na área de engenharia de software ouvi muito a respeito do termo design patterns e sua aplicabilidade e importância em projetos de software segue abaixo uma definição em engenharia de software um padrão de projeto ou padrão de desenho do inglês design pattern é uma solução geral reutilizável para um problema que ocorre com frequência dentro de um determinado contexto no projeto de software fonte wikipédia eu não consegui visualizar o que seriam code mas afinal o que ele é alguém poderia elucidar o que devemos levar em consideração para buscarmos aplicar estes conceitos em um projeto de software talvez isso melhore no meu entendimento  quero saber qual é a maneira mais simples possível de se descobrir se a data de hoje é sábado ou domingo em php quais são as maneiras possíveis de se fazer isso  como é possivel resolver esse bug code resultado code  desde os tempos de faculdade não consigo entender a real diferença entre o tipo code e code acabei encontrando o tipo code que também trata valores reais sobre o tipo code encontrei a seguinte afirmação para qualquer cálculo que envolva dinheiro ou finanças o tipo code deve ser sempre utilizado só este tipo tem a precisão adequada para evitar os erros críticos de arredondamento por quê o tipo de dados decimal é simplesmente um tipo de ponto flutuante que é representado internamente como base ao invés de base dois em quais situações esses tipos devem ser usados de forma correta poderiam me explicar o porquê do tipo decimal ser o ideal quando se tem dinheiro envolvido qual a diferença entre ambos  por que é obrigatório implementar esse método em uma aplicação java  para que serve o code no javascript ele funciona apenas para obter os valores do objeto como se fosse uma variável ou também é possível definir ou alterar propriedades através dele exemplo code  existe alguma situação em que ter o banco de dados desnormalizado é mais interessante que têlo normalizado por exemplo normalizado code desnormalizado code em algum momento o segundo caso é mais apropriado que o primeiro  qual é a melhor forma de iterar os objetos em um code no java de forma a ter acesso à chave e ao valor de cada entrada  hoje vi o seguinte vídeo httpswwwyoutubecomwatchvjgpvqcfms mostra um bracelete que projeta a tela de um celular android pareado no braço do usuário este então pode manipular o celular movendo o dedo em seu braço o vídeo me parece claramente uma montagem em vários momentos a projeção da tela não acompanha corretamente o movimento da câmera e o aparelho responde excessivamente rápido às entradas mas a empresa existe e está arrecadando fundos para lançar um protótipo então é possível que meramente tenham feito um vídeo promocional sem ter o protótipo pronto o que me deixou em dúvida é assumindo que seja tudo real como eles fariam um aplicativo que faz streaming da tela do android e permite disparar eventos de gesture no aparelho isso é mesmo possível ou seria uma solução apenas para aparelhos com root e que tenham sido modificados de alguma forma se isso é possível por que empresas como o teamviewer ainda não fizeram um cliente de controle remoto para o android  um usuário digitará uma frase e devo mostrar esta frase invertida e em maiúsculo como posso fazer isto code  acredito que a maioria dos softwares padronizam o uso da palavra cancelar para um botão cuja a ação é cancelar a operação que está em curso claro que a operação em curso é a mais próxima que está ocorrendo provavelmente é aquela operação responsável pelo mecanismo de confirmação de uma outra operação que provavelmente faz parte de uma regra de negócio por exemplo se você vai cancelar o pagamento já efetuado de um boleto esta operação usa exatamente o termo cancelar porque os usuários do software estão acostumados com ele faz parte do domínio deles e antes de concluir o cancelamento o software pergunta se é isto mesmo que o usuário quer fazer é muito comum o uso de dois botões nesta confirmação um ok e outro cancelar neste caso é para cancelar o o processo de cancelamento e provavelmente isto é o padrão para todo o software mudar isto seria despadronizar o funcionamento todo mundo está acostumado com o ok e cancela para cancelar operações em processo de confirmação mas é bem claro que isto não é intuitivo é fácil cometer um erro confundindo o que você está efetivamente cancelando este problema é bem mais comum do que parece o que fazer nestes casos a intenção da pergunta é ter um conteúdo em português sobre o assunto já que eu tenho informações em inglês se possível gostaria de novas informações também além das contidas lá nem vou pedir um estudo específico sobre o assunto porque não é fácil ter algo assim mas qualquer informação deve ser minimamente fundamentada pode parecer óbvio o que fazer mas em ux todo cuidado é pouco bonus point muitas vezes isto só ocorre por causa de traduções sem contexto ou seja o problema podia não ocorrer no original além de simplesmente testar tudo antes de liberar que é a solução óbvia tem algo a mais que pode ser feito para garantir que o texto não seja confuso  tenho uma tabela que possui registros duplicados eles não deveriam estar duplicados alguns registros duplicaram duas cinco e até trinta vezes por acidente preciso remover esses registros duplicados porém preciso deixar um então por exemplo se eu tenho um valor repetindo vezes preciso deletar meu cenário é mais ou menos esse code o resultado está assim code mas preciso que fique assim code nota só quero deletar os duplicados se o status for porém quero deixar um como fazer uma query que delete os duplicados porém deixando sempre um registro  tenho um code no formulário que deve aceitar cpf ou cnpj utilizarei no backend em php o valor para guardar ou no campo cpf ou no campo cnpj de uma tabela no banco de dados estou usando angularjs e preciso de uma expressão regular para colocar em code para aceitar apenas dados utilizáveis não me interessa neste momento validar os dígitos de verificação ao final quero ser um pouco flexível permitindo ao usuário que use pontos traço e barra se quiser ou só números  é comum em muitos sistemas ao inserir o usuário e a senha incorreta o sistema nos informar que um deles está errado mas não exatamente qual isso acontece também aqui no stack overflow isto acontece para proteger os dados ou poderíamos dizer que é porque é mais fácil fazer dessa forma hoje em sistemas como o google e a microsoft é diferente do passado agora primeiro pedem o login e só se estiver correto pedem a senha  os conceitos de erro sintático e semântico são encontrados em livros e outros materiais sobre programação no entanto sempre geram dúvidas para quem está iniciando de forma prática qual a diferença entre erro sintático e semântico  é apenas conveniência digo é desnecessário instanciar um objeto para utilizar uma função que não utiliza os dados do mesmo há diferença na execução memória processamento recursos em geral  eu vejo uma tendência cada vez maior embora isto já existisse antes de criar várias telas vários passos para executar uma única ação claro que o advento de telas menores incentiva isto mas estou falando de desktop normal o mesmo vale para aplicações web normais que não são feitas para rodar em mobile também entendo que telas superpopuladas de informação que permitem fazer várias coisas muitas vezes não relacionadas não fazem sentido mas percebo que antes o que você fazia em um click em interfaces modernizadas acabam exigindo dois três ou mais clicks para se alcançar o mesmo propósito muitas vezes você limpa a tela mas dificulta o acesso à operação desejada este tipo de filosofia me parece prejudica a descoberta da operação realmente atrapalha ter muita informação por que existem estudos ou pelo menos informações consistentes que mostram que um realmente é melhor que outro por que esconder operações é melhor e se não é por que estão adotando isto seria interessante ver um comparação entre as duas situações para entender as vantagens e desvantagens de cada uma e com isto ajudar a entender quando e optar por um mais que o outro existe alguma forma de facilitar a descoberta facilitar o acesso às operações sem sujar a tela há exceções onde não devemos aplicar uma destas filosofias  é uma questão bem básica porém que me intriga bastante vejam o código abaixo code agora vejam o mesmo com code code e code code ou seja o mesmo fim pode ser obtido de ambas as maneiras o code e code não teriam apenas efeito semântico  fiz essa pergunta algoritmo para detectar nudez com boa precisão aqui no site e algumas pessoas citaram algumas coisas sobre aprendizado de máquina machine learning pelo que foi dito entre um comentário e outro a respeito do assunto deu a entender bem superficialmente que é uma forma de uma máquina aprender a ter um comportamento a partir de dados prédefinidos gostaria de uma explanação mais detalhada a respeito do assunto o que seria o aprendizado de máquina machine learning ele está relacionado à ou é uma forma de inteligência artificial que exemplo mais simples podemos citar a respeito desse assunto  conforme a especificação do java grande parte da api do swing não é threadsafe e deve rodar na event dispatch thread como após inicializar o gui os eventos são disparados de dentro da própria edt a não ser que você esteja usando threads em background que precisam atualizar a ui isso não costuma ser um problema porém como o método code roda em sua própria thread inicial é comum o uso de code para despachar a exibição da gui para a edt code veja que após exibir a tela o método code não executa mais nada na teoria nenhum código concorrente à edt parece ser executado na thread principal minha dúvida é existe um motivo para termos que despachar a criação da tela para a edt na stack overflow em inglês encontrei uma referência que aponta para a documentação dizendo que a thread inicial não deve criar o gui pois quase todo o código que cria ou interage com componentes swing deve rodar na edt esse dias porém vi o código de uma aplicação que está rodando a quase anos em produção esse código cria e exibe a code principal diretamente do code nunca houve nenhum problema reportado sobre o funcionamento dessa aplicação nesse sentido quais seriam os problemas de concorrência possíveis se não usarmos code o que ficará rodando na thread principal e o que ficará rodando na edt eg a code principal fica na thread principal mas seus eventos vão para a edt   atenção não estou procurando por pedaços de código prontos quero apenas que alguém me ajude a pensar em alguma forma de gerar esses primos da forma mais eficiente possível em python estou resolvendo a questão do codeabbey mas não estou conseguindo pensar em como gerar os primos que o exercício pede o enunciado basicamente considera que existe uma list que contém todos os números primos do mundo a começar pelo com base nessa list o enunciado dá uma série de índices índices dessa list e o programa tem que retornar o primo que ocupa esse índice nessa list imaginária ex na list o índice é o é o enunciado garante que a série de índices que ele vai fornecer aleatoriamente não possui nenhum índice superior a por isso primos no máximo exemplo de input e output code no final do enunciado o codeabbey avisa que existe uma forma de gerar o resultado em segundo eu poderia deixar o meu código do jeito que está agora esperar dois dias e dar a resposta hahaha mas isso seria trapaça e eu não teria aprendido nada com o exercício deixei o meu programa rodando por minutos e não gerou resultado talvez um segundo seja muito pouco tempo mas com certeza tem como resolver em hm menos de segundos para tentar resolver estou implantando o sieve of eratosthene ou crivo de eratóstenes segue meu código atual code  se eu fizer o hash de senhas antes de armazenálas em meu banco de dados é suficiente para evitar que elas sejam recuperadas por alguém estou falando apenas da recuperação diretamente do banco de dados e não qualquer outro tipo de ataque como força bruta na página de login da aplicação keylogger no cliente e criptoanálise rubberhose qualquer forma de hash não vai impedir esses ataques tenho preocupação em dificultar ou até impossibilitar a obtenção das senhas originais caso o banco de dados seja comprometido como dar maior garantia de segurança neste aspecto quais preocupações adicionais evitariam o acesso às senhas existem formas melhores de fazer esse hash  alguém poderia me ajudar a entender porque o postgresql errou varias estimativas de custos em um experimento que fiz estou fazendo um experimento com queries do benchmark tpch para verificar o desempenho de índices nas consultas de consultas somente consultas foi verificado que o otimizador utilizou índices secundários em um outro experimento foram executados as queries citadas num banco de dados sem a presença de índices visando identificar se o tempo de execução aumentaria devido a ausência de índices mas para minha surpresa o experimento sem a presença de índices na base de dados foi mais rápido do que utilizando os índices para as consultas gostaria de entender porque o parametro custo total errou em todos os casos ou seja todas as consultas que gastaram mais tempo indicou um custo menor em todos os casos que esta incorreto na minha opiniao vejam abaixo que a primeira linha referese a query que utilizou índice o custo foi menor do que o custo da mesma query que não utilizou índice também vejam o tempo gasto a query que utilizou índice gastou minutos enquanto sem o uso de índices demorou segundos esse comportamento se estendeu aos outros casos minha pergunta é porque o custo total execution plan calcula incorretamente o custo para todos os casos em que se tem índices code por questoes de uso de um patch especifico do meu projeto de pesquisa estou utilizando uma versao antiga do ano eu não modifiquei os parâmetros padroes somente o random_page_cost para pois estou utilizando um disco ssd onde o custo de acesso aleatório é menor que em um hdd segue o que esta no meu postgresqlconf code será que algum destes parâmetros interferiram para acontecer esse erro nas estatísticas de custos segue a query e o seu explain analyse com e sem índices code qualquer dica é bem vinda  tenho dúvidas a respeito do uso do code em funções exemplo code eu sei que esta função irá me retornar um inteiro que é a soma dos dois parâmetros na função code e code exemplo code eu vi em um programa que continha uma implementação parecida como a do segundo exemplo acima que usei para ilustrar a situação que testemunhei do uso do code eu testei a função code e ela retorna a soma dos dois parâmetros mesmo tendo o code especificado como retorno ou seja vazio isto me deixou confuso em relação ao uso do code eu pensava que servia somente para dizer que uma função não vai ter retorno nenhum ou não irá receber nenhum parâmetro como este exemplo code afinal de contas qual é a finalidade deste comando em c o uso do code especificado como ponteiro pode retornar valores mesmo sendo code  muitas pessoas falam sobre o que é null mas afinal qual é o seu verdadeiro significado  estou desenvolvendo um sistema help desk e gostaria de algumas idéias de como criar um sistema de notificação semelhante ao próprio stack overflow sempre que algum novo suporte for cadastrado pretendo utilizar php mysql e jquery apenas devo utilizar o code para verificar no banco de tempos em tempos se um novo chamado for registrado  estou a desenvolver uma aplicação em php e gostaria de saber quando e porque utilizar code ou code ou code ou code reparei também que dá para fazer destas formas e funciona code qualquer uma das formas está correta estão todas  no método code da classe code eu tenho configurado um code code isso faz com que os dados recebidos ou enviados por json sejam convertidos de code padrão do client javascript para code padrão que uso nas propriedades no server e viceversa ex de json que a api recebe num método code normal sem usar o code code isso é traduzido para code até aí tudo bem o problema é que eu tenho uma code code em um code que faz uso do code e as requisições que são enviadas para este método acabam não passando por esta tradução eu li em alguns lugares que o odata usa um serializador e um deserializador próprio e este deve ser o problema método code do code code existe alguma forma de tratar o casing dos dados recebidos em code que usam odata eu vou precisar escrever um novo serializador ou já tem algo pronto que possa me ajudar com isso se for necessário escrever um serializador é possível me ajudar com pelo menos a implementação básica do mesmo exemplo do json que recebo no método com code code se eu enviar o json como o abaixo funciona normal code obs estou usando owin mas a aplicação está sendo hospedada no iis usando o pacote code   arquitetura de software engenharia de software aparentemente esses dois conceitos são relacionados mas qual a diferença entre eles  no java o conceito do trywithresources foi adicionado na linguagem o que é o trywithresources como ele funciona para que ele serve como é que ele é usado que problema ele visa resolver  qual é o termo correto para uma linguagem totalmente baseada em objetos c e uma linguagem que usa objetos mas não é completamente baseada neles exemplo o vb tem tinha diversas funções que não estavam em objetos e um suporte limitado a oop acho que o c é assim também existem termos certos para isso eu me lembro de ver essa diferença de classificação entre linguagens objectenabled vb e linguagens baseadas em objeto c mas não onde nem quais eram os termos específicos  estava pesquisando sobre callback em javascript quando achei esta questão como realmente aprender a usar promises promessas em javascript mas afinal o que são promises para que servem  quais as principais diferenças entre as engines code e code e qual a situação mais apropriada para o uso de cada sei que code não suporta code mas suporta code enquanto no code é o contrário pelo menos até a versão do mysql por que um sgbdr rdbms tem como padrão uma engine que não oferece meios para relacionar as tabelas  desenvolvo um sistema de gerenciamento empresarial há algum tempo estou precisando adicionar ao mesmo a funcionalidade de emissão de nota fiscal eletrônica no padrão brasileiro existe alguma biblioteca java bem testada e de preferência livre e de código aberto que me ajude com isso  iniciar em programação nem sempre é fácil além de termos que aprender a escrever o código existem dezenas de termos tecnologias entre outras coisas que precisam ser estudadas visando ajudar quem está começando minha pergunta é o que é uma linguagem de programação uma ide e um compilador qual a relação entre esses itens  enquanto desenvolvia vi que em grande parte das minhas classes continham uma certa quantidade de code que não estavam sendo utilizados e me veio a dúvida do título using não utilizado afeta o desempenho da aplicação de alguma forma é preciso sempre remover os não utilizados ou isso não fará diferença  ainda uso apenas o code mas procurei e não encontrei um exemplo mesmo que mínimo em português que fale sobre o aspnet identity para o mvc estou usando o aspnet mvc e o entityframework gostaria de aprender sobre o aspnet identity mas estou tendo dificuldade em enteder o template mvc com code alguém poderia dar um exemplo básico para não ser amplo e não fugir do escopo do sopt partindo do template web mvc sem autenticação code  preciso fazer uma barra de progresso que inicie do e vá ao porém preciso fazer somente com css e além disso necessito que quando ela chegar ao iniciar novamente do apesar de existirem algumas informações sobre essa barra de progresso eu preciso que ela dure exatamente segundos e quando chegar ao pule para o alguém já precisou fazer algo semelhante  se tenho uma imagem horizontal x code e coloco a regra css code a redução não fica proporcional e se coloco code dá errado com imagens horizontais e verticais como acertar isso \\r \\r code\\r code\\r \\r \\r  até o java tínhamos as classes code e code para representar datas para convertêlas para codes a forma mais fácil era com o uso do code o java introduziu uma nova api de datas como é que ela pode ser usada como faço para integrar ela com as code e code que são usadas em código já existente e legados qual é a relação dele com o jodatime  na empresa onde trabalho atualmente somos fortemente encorajados a evitar programação orientada a objetos tanto para projetos antigos como para projetos novos para projetos antigos concordo que seja uma má pratica começar a inserir orientação a objetos em um projeto totalmente estrutural porém para projetos novos acredito ser mais produtivo utilizar oop questionando a situação recebi como resposta da empresa orientação a objetos é pesada e lenta portanto recomendamos não utilizar qual o overhead de se utilizar orientação a objetos vs programação procedural considerando que boas práticas de programação são seguidas é mais produtivo utilizar orientação a objetos ou programação procedural  achei engraçado o exemplo mas é válida a pergunta no sentido de entender o porquê de o php se comportar dessa forma quando fazemos a soma exemplificada abaixo uma inteiro somado a uma string code o resultado é code porém nesse caso ele retorna apenas code code por que o interpretador do php se comporta dessa forma  tenho receio de estar me preocupando demais com testes já que estou gastando atualmente cerca de do tempo do meu projeto apenas na criação deles eu sei que quanto mais tempo eu gastar com testes menos eu vou gastar para corrigir bugs mas assim como existe a curva abc para definir os itens de maior impacto em pesquisas econômicas e estratégias de negócio talvez exista algum estudo análogo na área de desenvolvimento de softwares que calcule uma quantidade ideal de tempo que deva ser gasta com testes já que assim como apontado pela curva abc a partir de um certo ponto o teste vai custar mais caro do que o próprio código que ele testa pergunta qual é a fração de tempo ideal de um projeto que deveria ser reservada para o desenvolvimento de testes  ouvi falar muito em comunicação assíncrona e síncrona porém não sei o que realmente são elas alguém poderia me explicar qual a diferença e o funcionamento de cada uma quando e para que devo usálas se possível com exemplos de código  boa noite estou tentando fazer um acesso de minha máquina local a um servidor e estou recebendo esta resposta no accesscontrolalloworigin header is present on the requested resource origin httplocalhost is therefore not allowed access porém usando o postman eu consigo este são os requisitos do servidor code meu código code alguem me da uma luz  qual a melhor forma de se representar unidades monetárias ie dinheiro em javascript sei que não é bom usar ponto flutuante dado o problema de arredondamento mas não sei qual seria a melhor alternativa outras linguagens têm tipos code como builtins mas até onde eu saiba não tem nada padronizado ou amplamente utilizado para esse propósito em javascript até o momento tenho usado inteiros para representar centavos e feito toda formataçãoconversão na mão há uma maneira melhor ou mais limpa detalhes adicionais estou buscando uma resposta canônica haja vista que esse é um requisito comum com o qual muitos de nós precisamos lidar e que frequentemente é feito de forma incorreta uma boa resposta pode tanto ser uma indicação de biblioteca desde que bem embasada quanto um guideline para se implementar manualmente caso a resposta certa seja depende ie não exista uma forma canônica para isso exemplos de critérios a serem considerados não exaustivo confiabilidade essa representação produz resultados corretos em operações matemáticas envolvendo unidades monetárias ex arredondamento correto se comporta bem em casos limite interoperabilidade é simples converter de e para um formato aceito pelo servidor eou sistemas externos em geral um decimal sem separador de milhar e usando o ponto code para separar a parte inteira da fracionária robustez se o usuário entrar com os dados incorretamente ex usando o ponto ou a vírgula de forma incorretainconsistente colocando ou não o cifrão etc a conversão para esse formato interpreta a entrada corretamente eou falha consistentemente apresentação é simples formatar esse tipo de dados para ser apresentado ao usuário  como este código pode executar desta forma code saída code intuitivamente deve ser menor que sempre porque acontece este tipo de erro o computador não é uma máquina que não erra  em várias aplicações que foram escritas com linguagens fortemente tipadas uma variável geralmente é declarada com seu valor padrão exemplo code entretanto é possível declarálas sem definir um valor inicial desta forma code no caso eu perguntei ao meu professor e ele respondeu que tempos atrás caso não fosse declarado da primeira maneira um número absurdo seria atribuído a variável code code essa premissa é verdadeira caso seja que número é esse o exemplo que demonstrei foi baseado na linguagem c mas eu acredito que a declaração de variáveis deve ser semelhante em outras linguagens isso também ocorreocorreu em outras linguagens  pense em uma classe grande um cadastro completo de cliente por exemplo tem uma quantidade enorme de atributos nele muitos deles precisam ser inicializados na construção do objeto para o objeto ser válido e de antemão não sabe se todos estão válidos ou se o uso conjunto deles torna o objeto válido o objeto pode ser usado em diversos contextos da aplicação poderíamos fazer um construtor com todos os parâmetros necessários e ele valida tudo e decide se conclui a construção ou não um construtor só com o básico para criar o objeto e depois deixar colocar valor em outros atributos validando individualmente como deve proceder com a invalidade temporária ter um método estático que valide tudo antes de chamar o construtor para saber que vai construir corretamente criar um objeto temporário de um tipo definido para este propósito e usálo como base para criar o objeto definitivo provavelmente com um construtor que aceite este objeto e saiba o que fazer este objeto aceitaria os atributos incrementalmente e poderia validar em determinado momento para poder ser usado no objeto real alguma outra forma eu imagino que todas podem ser úteis em alguma situação específica ainda que algumas de forma bem rara e praticamente para contornar alguma outra deficiência quais as vantagens e desvantagens de cada abordagem e em que cenário escolher cada uma referência para que serve um construtor  durante meus trabalhos eu aprendi uma forma de lidar com code mas não sei se é muito boa aqui vai um exemplo do código code a minha ideia é mapear os erros e jogar a responsabilidade de seu tratamento para o método principal para ser mais objetivo vou direto as perguntas gostaria de saber a opnião de vocês existe uma forma melhor correta de propagar e exibir as exceções de forma simples essa é uma boa forma de lidar com exceptions qual a importância de capturar code mais especificas por exemplo dividebyzeroexception  para aceder a uma área em particular do site tenho que indicar de um a três parâmetros no url url normal code através do htaccess estou a tentar permitir acesso aos módulos submódulos e conteúdos específicos da seguinte forma code até ao momento tenho o seguinte o código em baixo permiteme aceder ao módulo mas tenho que o repetir por cada módulo existente faltando ainda lidar com submódulos e conteúdos específicos code pergunta como é que consigo através do code ler os endereços para que possam ser utilizados de ambas as maneiras em cima apresentadas tendo em conta os três possíveis parâmetros  o seguinte código imprime vezes o texto mensagem em um code code veja o exemplo no jsfiddle eu entendo que isso ocorre porque o valor de code é atualizado na função externa e no momento da execução da função interna a referência aponta para o valor atualizado como fazer para imprimir o valor da variável code correspondente ao número da iteração ou seja o valor de code no momento em que a função interna foi criada na chamado do code resultando em textos de mensagem a mensagem  o dry significa dont repeat yourself então toda vez que eu ver uma repetição no código não estou fazendo dry o dry é sobre não ter redundâncias como ele deve ser aplicado  venho navegando em vários sites que em seus cabeçalhos mostram mensagens como este site utiliza cookies para melhorar a sua navegação ao navegar no site estará a consentir a sua utilização tudo bem que os cookies são armazenados na máquina do usuário mas é realmente necessário esses avisos existe outro motivo por trás não achei quase nada relacionado na internet  sou iniciante no js e procuro entender a teoria só que todos os artigos que encontro sobre dom são demasiadamente científicos não haveria uma forma mais simples de explicar isso para um leigo  sei que code e code são bibliotecas a primeira é dinâmica e a segunda é estática mas o que isso realmente quer dizer como cada uma funciona se eu tiver que gerar uma biblioteca a partir de um código o que eu devo ter em mente para decidir se eu faço uma code ou uma code  problema testem aí nos consoles dos seus browsers code o correto seria code alguém poderia me explicar isso e como faço para resolver isso  estou desenvolvendo este programinha que deve receber uma expressão do usuário e fazer o cálculo ex insira uma expressão o meu problema é como tratar a expressão enviada pelo usuário me foi recomendado usar algo como o code mas não achei nada equivalente na linguagem c alguém tem algo equivalente  preciso criar um executável c e ficou a duvida fazer com code ou fazer com code na prática existe alguma diferença entre usar code e o tradicional code é verdade que uma code pode ter várias code basicamente meu executável terá chamadas diferentes que podem ser executadas ao mesmo tempo como tratamse de chamadas individuais eu quero evitar que uma execute somente quando a outra termine e simplesmente executar todas ao mesmo tempo  recentemente em meus estudo notei um objeto que manipulava o dom do elemento que tinha o mesmo nome em seu id \\r \\r code\\r code\\r \\r \\r dúvida por que os ids vão para o global space se eu posso acessar o elemento direto por seu id por que usar getelementbyid nota objetos de nome composto são acessíveis no window \\r \\r code\\r code\\r \\r \\r   o que são os path parameters de uma uri e qual sua função uma uri que define os parâmetros representa um recurso diferente da uri que não possui os parâmetros isto é code é um recurso diferente de code se possível dê exemplos de sua aplicaçãofunção pois até então o formato da uri que eu conhecia era code mas hoje acabei percebendo a existência de mais um item code onde a rfc recomenda utilizar o caractere code para separar os parâmetros o caractere code para separar o nome do valor e o caractere code para separar múltiplos valores de um mesmo parâmetro  vejo algumas pessoas do meio da programação se referindo a esse termo sempre que aparece um código com uma solução estranha ou meio engambiarrada dando uma pesquisada rápida no google eu cheguei a conclusão de que realmente é isso achei os termos go horse process e extreme go horse o que achei estranho é que em alguns artigos que falam sobre go horse process apareceu também vários tópicos de como fazer itens e ainda foi chamado de metodologia mas do que realmente isso se trata é realmente uma metodologia ou uma piada ou uma forma hilária de se listar aquilo que deve ser evitado na programação  quais são os principais motivos na prática que levam desenvolvedores a aplicar a prática de desenvolver voltado para interface e não para implementação  suponha que eu tenha uma base de dados enorme que não caiba na memória ram quais estratégias para analisar esta base de dados no r uma vez que não posso carregála inteiramente na memória ps a pergunta não trata somente de como fazer o r conversar com uma base de dados relacionalnãorelacional se por exemplo os seus dados estiverem em uma base de dados relacional você ainda assim não pode carregálos todos de uma vez no r para rodar um random forest ou uma regressão por exemplo  você encontra na internet a afirmação que singletons são ruins isto é verdade por quê o problema seria generalizado para quaisquer objetos com instância única ou para qualquer coisa que tenha estado global se é tão ruim pra que foi inventado ou seja que problema ele queria resolver quais os problemas que terei se usálo existe alternativa viável  eu estou estudando c e me deparei com code como funciona e quando é aplicado caso possível algum exemplo básico  estou começando a tentar usar o kanban na prática no caso eu trabaho sozinho então estou tentando buscar essa resposta em um contexto no qual não há equipe disponível muito menos processos mais formais encontrados em empresas maiores ao utilizar metodologias ágeis é comum tentar fazer estimativas uma técnica que recentemente conheci é utilizar pomodoros e a sequencia de fibonacci com essa técnica estimamos o tempo em pomodoros um pomodoro se refere a minutos de trabalho e minutos de descanso para estimar uma tarefa usamos os números da sequência de fibonacci uma tarefa pode ser estimada em pomodoros e assim por diante o problema que eu vejo é nesse caso temos uma unidade de tempo específica para usar e temos uma sequência de números permitidos para essa unidade de tempo a nossa disposição de qualquer forma é necessário ainda olhar para cada tarefa e dizer essa tarefa requer x unidades de tempo isso parece ser realmente muito complicado por vários fatores certas vezes pode se tratar de algo que nunca fizemos antes e não temos ideia de quanto tempo aquilo demora as vezes achamos que algo é fácil e rápido e no fim não era tão simples quanto pensávamos podem ocorrer imprevistos e fazer demorar mais isso se não aparecer uma complicação tão grande no meio do caminho que acabe emperrando o desenvolvimento esses são só alguns fatores que eu pensei que complicam isso para mim que estou começando agora com as metodologias ágeis em prática mesmo eu realmente não consigo ter a menor ideia de como atribuir x unidades de tempo para cada tarefa na teoria parece simples na prática não é tão simples assim dessa forma como fazer estimativas de forma correta ao utilizar metodologias ágeis como contornar essas complicações que eu citei qual é a métrica usada para atribuir um certo número de unidades de tempo a uma tarefa  o que é a complexidade de um algoritmo e quais as formas de medila big o big theta  em primeiro lugar peço desculpas pelo texto longo e pelos vários pontos perguntados achei melhor lançar todos em uma pergunta só porque são interrelacionados e porque penso que qualquer pessoa com experiência no tipo de aplicativo descrito um cliente android que mantém uma conexão socket contínua recebendo e enviando dados é capaz de dar sua opinião a respeito de todos ou maioria desses pontos basicamente estou precisando tomar decisões de design e tenho dúvidas sobre como seria a maneira recomendada android de fazer estou tentando definir qual seria o esqueleto mínimo necessário para se ter um aplicativo dsse tipo isto é que se conecte a um servidor via socket websocket socketio tcp etc e possa trocar mensagens com ele não tenho um exemplo de uso específico chat não é um desses exemplos porque nesse caso o ideal seria usar push notification essa conexão não deve estar atrelada às code do aplicativo isto é as mensagens podem ser recebidas mesmo depois do usuário ter saído do aplicativo perguntas que estou tentando responder é recomendado delegar o gerenciamento da conexão conectar desconectar e o envio de mensagens para uma classe separada por exemplo um singleton o uso de broadcasts para passar uma mensagem recebida para a code atual parece ser a escolha apropriada no caso de uma arquitetura de aplicativo relativamente simples alguém discorda seria preferível um event bus ou então acoplamento bind a um serviço é esperado que o sistema mate o processo do aplicativo para liberar memória mas a conexão deve ser reestabelecida assim que houver memória disponível para isso qual a melhor forma de fazer isso agendar checagens periódicas da conexão via code não me parece apropriado e nem usar code que além de não garantir que o processo seja morto apenas torna isso menos provável de acontecer ainda exibe ao usuário uma incômoda notificação de que o aplicativo está em execução que ainda por cima se for clicada leva a uma tela oferecendo a opção de encerrar o aplicativo achei que retornar code no método code poderia ajudar nesse sentido mas ele não parece ser feito para isso não estou certo de como deve funcionar o reestabelecimento de conexão a fim de processar a fila de mensagens a enviar suponho que envolve ouvir o broadcast code ou então um evento de conexão reestabelecida qual a melhor forma de fazer isso garantindo que o aplicativo tente enviar as mensagens quando possível após haver consenso a respeito da modelagem do aplicativo creio que será necessário incluir wake locks ao código para evitar que o aparelho entre em sleep mode enquanto processa mensagens recebidas ou colocadas na fila de envio porém não tenho certeza de em qual parte do código incluilas e gostaria de recomendações para isso tenho também as seguintes considerações adicionais a uma vez a conexão estabelecida o aparelho pode entrar em sleep mode tranquilamente que a chegada de dados irá acordálo porém não é garantido que esses dados sejam processados em sua completude sem uma wake lock antes do aparelho voltar a dormir b se o aplicativo estiver adormecido e a conexão se tornar disponível um requisito desejável pode ser que a fila de mensagens a enviar seja processada em sua completude antes do aparelho voltar a dormir não tenho a certeza de onde devo adicionar a wake lock nesse caso c mesmo que a biblioteca que trabalha com o protocolo de comunicação escolhido esteja preparada para funcionar com android isto é gerencie a entradasaída em um ou mais threads secundários e não no thread de ui pode ser que ela esteja programada para executar seus callbacks em particular o callback que recebe mensagens no thread de ui isso pode afetar a maneira como disponho as wake locks no meu código há a necessidade de manter um thread ativo em loop contínuo para manter a conexão aberta como posso evitar isso agradeço a qualquer feedback lancei essa pergunta também no so em inglês  bom comecei a desenvolver web a pouco tempo digamos ano e aqui na empresa utilizamos muito code e code sei que na visão de html os frames estão obsoletos mas ainda vejo muita gente defendendo o uso deles gostaria muito de saber o por que deles serem motivo de tanto debate quais seus benefícios e malefícios na hora de se desenvolver se o code está obsoleto qual é o seu substituto na visão de html se para o html os frames estão obsoletos deve ter uma resposta plausível do porque  em eu fiz uma pergunta no so sobre controle de versão para desenvolvedor solo e recebi uma excelente resposta do jon skeet indicando o uso do svn infelizmente recentemente ela foi fechada e removida hoje o git está se tornando ubíquo isto por si só traz algumas vantagens se você usa alguns projetos open source de terceiros provavelmente já é pelo menos cliente de git eu vejo o git como algo complexo para quem precisa de controle de versão simplificadamente mas admito que existem algumas vantagens também objetivamente o que é realmente determinante para escolher trocar o svn pelo git em um cenário de desenvolvimento individual que característica matadora pode definir esta escolha lembrese que algumas das vantagens do git não se aplicam a este cenário há vantagem nisso vou perder alguma coisa significativa com a troca  tenho uma tabela por exemplo code e gostaria de deletar todas as pessoas acima de anos com o script abaixo faço isso code o problema que existe mais de milhões de registro na tabela com pessoas acima de anos e como o banco esta em produção ao fazer isso vou travar todos os usuários existe uma forma mais eficiente de resolver este problema  o que acontece quando se faz um rebase na seguinte situação branch master com commits a b e c após fazer o commit c criei um novo branch com o nome design fiz um commit d no branch design e voltei ao branch master fiz um commit e no branch master atualmente o meu histórico de commits é master a b c e design a b c d após fazer o rebase no branch master o histórico ficará da seguinte forma master a b c d e design a b c d se a resposta é sim qual o objetivo de refazer o histórico quando uma das vantagens do git é poder ver o histórico tal como ele é se posso manipular o histórico então posso não ver o que realmente aconteceu  estou estudando javascript e tenho dúvidas quanto às diferentes formas de se fazer um code code por exemplo isto code como exatamente funciona  de forma a podermos ter a administração de um website a ser realizada a partir de um servidor diferente daquele onde o website está alojado surgiu o problema de lidar com imagens remotas problemas comuns verificar se a imagem efectivamente existe antes de criar links para a mesma ao substituir determinada imagem verificar se a anterior existe para que seja eliminada verificar se a imagem carregada para o servidor não está com o mesmo nome de uma imagem já existente normalmente este tipo de operações é realizado com o code mas como o mesmo não suporta url apenas caminhos absolutos ou relativos do próprio servidor fica assim inviabilizado para este cenário pergunta utilizando php como posso verificar se uma imagem remota existe  estou tentando entender como usar code e métodos assíncronos em code mas todo lugar que eu vejo sobre isso na internet menciona uma forma multithreading usual que seria diferente do uso de code o problema é que até agora eu não entendi muito bem como funcionam as code eu só sei que elas seriam intuitivamente caminhos de execução do código dessa forma como entender corretamente code em code o que são e como trabalhamos com essas code eu acredito que essa pergunta seja análoga à essa que fiz mas considerando agora a relação com o processador e não com a memória  tenho ouvido falar muito sobre metodologias ágeis e gostei bastante da ideia claro que pelo que vi o cliente precisa cooperar mas me parece que para projetos próprios ou seja cuja ideia seja minha e não de um cliente essas metodologias podem ajudar bastante minha dúvida na realidade é se essas ideias todas se aplicam a programadores que trabalham sozinhos a ideia de agilidade na primeira vez que a vi parecia ser basicamente a ideia de quebrar o processo de desenvolvimento de um software em várias iterações cada uma composta por análise design e programação pesquisando mais porém tudo que achei se relaciona com equipes achei várias formas de se usar metodologias ágeis como scrum etc mas tudo que eu lia sobre o assunto falava sobre equipes dividir tarefas etc minha pergunta é existe uma forma de se utilizar metodologias ágeis trabalhando sozinho se sim onde posso ver mais sobre isso  recentemente estou criando muita coisa de html dinamicamente exemplo \\r \\r code\\r \\r \\r duvida vendo algumas perguntas sobre js vi que na grande maioria o pessoal monta por string \\r \\r code\\r \\r \\r quais a diferenças entre estes métodos tirando o fato de um ser por objeto e o outro string algum deles é melhor que o outro ou são equivalentes tirando eu prefiro assim pois  o java será lançado em breve março de e a principal feature desta versão são as expressões lambda alguém poderia descrever como diz a pergunta o que este recurso vai agregar na prática para os desenvolvedores e se possível algum exemplo de código comentado  frequentemente é dito que pegar todas as colunas de uma tabela através do comando code é uma má prática qualquer recomendação sem explicação não é útil então se é uma má prática deve haver um jeito de usálo adequadamente deve haver uma situação em que não cause problemas se fosse sempre ruim provavelmente nem existiria a possibilidade de uso quais problemas são causados pelo seu uso estes problemas ocorrem sempre há como contornar ou há situações que não faz diferença as recomendações são válidas para qualquer banco de dados  como posso implementar um sistema de internacionalização utilizando a tecnologia mvc da microsoft existe algo semelhante ao android para que meu website possa suportar diversas línguas existe também algum modo de obter a linguagem do navegador que o usuário está acessando para configurar o idioma padrão deste ponto de partida   o que é programação orientada a eventos o que difere entre a programação orientada a eventos e programação orientada a objeto que linguagens podemos citar que são orientada a eventos  um problema pode ser resolvido e obter o mesmo resultado utilizado um loop ou através de chamadas recursivas a uma função considerando que a linguagem de programação sendo usada possua os dois recursos como saber quando um é melhor que o outro  esta é uma pergunta conceitual que sempre gera confusão na hora de decidir se uma coluna deve ou não aceitar null há uma corrente que considera o uso do null um erro e que sempre deveria ser feito uma organização no banco de dados normalmente aplicando normalização evitando assim qualquer uso de valores null tenho uma dúvida especial com colunas do tipo code em qualquer de suas variantes onde existe uma forma de representar que não há qualquer informação mantendo a coluna em estado vazio mas esse valor pode não ser suficiente para indicar o que se quer com a coluna já obtive alguma resposta no stack exchange do ponto de vista do dba mas além das respostas não terem me satisfeito completamente tinham um viés do administrador e não do desenvolvedor e eu também acabei me restringindo a um tipo de campo e ficou a dúvida se o mesmo comportamento valeria para outros tipos de colunas que possam ou não ter um valor natural que possa representar a ausência de valor você pode usar o valor ou negativo em alguns campos definindo o uso do valor como ausência de valor relevante cada sistema de banco de dados trata null de um jeito diferente e é muito difícil transferir um modelo criado em um banco para outro com semântica diferente quando você cria sua própria semântica isso fica mais fácil então existem cenários em que o null é realmente benéfico e seu uso traz vantagens que compensem os problemas que o seu uso pode carregar  sou estudante em sistemas de informação e estou modelando um jogo um pet virtual que tem suas necessidades e conversa com seu dono abaixo segue a modelagem das classes e interfaces mostrei para um amigo formado em ciência da computação ele achou que tem muitas interfaces que não era necessário eu argumentei que caso no futuro eu poderia dar manutenção e implementar pets da forma que eu quisesse sem muito esforço podendo criar um pet híbrido entre animal e robo e atribuindo a ele seus comportamentos através das interfaces mas enfim ele veio com argumentos de desempenho da aplicação minha dúvida é se minha modelagem que não está pronta apenas um esboço com tantas interfaces é uma má prática de programação quando devo utilizar uma interface link da imagem  estou começando a ler sobre desenvolvimento java em camadas e li alguma coisa a respeito sobre o bean uma classe encapsulada mas não encontrei nenhum conteúdo que realmente explicasse a finalidade e um exemplo então o que é e para que serve um bean  quando se fala em programação concorrente sempre citam problemas clássicosmodelos de concorrência produtores e consumidores leitores e escritores filósofos glutões ou jantar dos filósofos procurei aqui no site porém em nenhum momento achei explicando o que é esse problema minhas dúvidas então são o que é o problema dos filósofos glutões mais focado no enunciadometáfora do problema o que o jantar dos filósofos modela de fato mais focado na coisa técnica do que é esse problema deixando a metáfora de lado qual a importância dele para um programador quando um programador deve se preocupar diretamente com esse problema existe alguma coisa real e cotidiana que nos esbarremos com esse problema sem termos conhecimento sei lá num banco de dados  em programação python é comum ouvir o termo pythônico ou pythonic veja sopt entendendo o modo pythônico de lidar com propriedades sopt passar parâmetros de forma pythônica wikipedia python programming language pythonnet code like a pythonista idiomatic python o que significa o termo pythônico e o que diferencia um código nãopythônico de um código pythônico  na especificação do protocolo http mais precisamente na rfc é previsto a possibilidade de existir entidades intermediárias entre o user agent ua entidade que efetua a requisição http e o origin server o entidade que responderá à requisição as setas para a direita indicam o trajeto da requisição http e as setas para a esquerda indicam o trajeto da resposta http as entidades a b e c são as entidades intermediárias que se comunicam entre si com o user agent ou origin server através de quatro conexões http as três entidades intermediárias descritas são proxy gateway tunnel sendo que cada entidade intermediária pode operar como um origin server proxy gateway ou tunnel dependendo da natureza da requisição http que será por ela tratada o que eu gostaria de saber é qual a diferença entre os três tipos de entidades intermediárias e quando cada um é utilizado na prática também se é possível a existência de apenas uma entidade intermediária ou se são relacionadas a ponto de só existirem mutuamente  por que consultas sql parametrizadascode previnem sql injection podem citar exemplos  já li alguns comentários na web a respeito de utilizar ou não o code no final das linhas quando se escreve javascript alguns dizem que sim outros dizem não ter necessidade mas nenhum sabe explicar bem os motivos das divergências exemplo code o interessante é que mesmo esquecendo o code no meu código as vezes ele continua rodando sem problemas e sem disparar erros então o correto é usar ou não o famoso ponto e vírgula  tenho lido sobre sass há algum tempo e ele fornece um poderoso conjunto de funcionalidades para o css como variáveis mixins e afins e ao mesmo tempo vejo o termo scss qual a diferença entre ambos são a mesma coisa e possuem as mesmas funcionalidades e apenas recebem nomes diferentes em alguns casos ou são coisas diferentes  algum tempo atrás o facebook lançou sua própria linguagem de programação baseada no php veja tecnoblog facebook anuncia hack sua própria linguagem de programação o tecnoblog explica da seguinte maneira a diferença entre o php e o hack ênfase adicionada o objetivo principal sempre foi o de atacar os erros no comunicado oficial os desenvolvedores explicam que linguagens dinâmicas como o php facilitam o desenvolvimento rápido mas geralmente tornam a detecção de erros mais difícil uma vez que as falhas só são percebidas quando o programa está em execução o que é particularmente preocupante em projetos muito grandes por sua vez usando linguagens do tipo estática como c os desenvolvedores podem encontrar erros antes da efetiva execução do código com a possível desvantagem de linguagens como esta não serem tão práticas quanto às mais atuais como consequência o hack foi criado para unir o melhor dos mundos aparentemente isso significa que o hack suporta declarar o tipo de retorno das funçõesmétodos permitindo que as ides identifiquem antecipadamente erros de compilação qual a diferença entre uma linguagem estática e dinâmica existem outras diferenças além da que eu consegui identificar acima vantagens e desvantagens podese dizer que as linguagens de script são sempre dinâmicas e viceversa veja o que uma linguagem de script  sou iniciante em php e gostaria de saber se pdophp data objects é a maneira mais segura de se conectar a um banco de dados preciso também de um exemplo de como fazer esta conexão e inserirselecionar dados  a foto original do feijão é essa diminui a resolução da foto já apliquei um filtro para ficar em escala de cinza e aumentei o contraste ao máximo para ficar preto e branco depois examinei a cor de cada um dos pixels e montei uma array matriz se eu iterar sobre essa array e escrever um para os pixels brancos e um x para os pretos eu consigo o seguinte a partir daí estou tentando encontrar uma maneira de contar quantas porções de x tem nessa matriz alguém pode me ajudar com isso  tenho a seguinte string code qual a função do code na frente da string  passei pelas linguagens php c c javascript e agora estou trabalhando com c nesse tempo todo sempre ouvi dizer que é importante ter códigos bem comentados mas eu nunca soube a medida certa de comentários ou comento de mais ou comento de menos além disso no c tem aquele comentário com três barras que basicamente gera algo assim code e ainda tem um comentário que normalmente alguns programadores colocam no topo do código com várias informações como nome do programador data versão etc dessa forma qual a medida certa de comentários para que eles ajudem na compreensão do código invés de simplesmente poluílo  o que é memoization em quais circunstâncias pode ser útil e como utilizar se possível ilustrar com um exemplo simples   quais as principais diferenças entre esses tipos de web service em quais casos se aplicam existe alguma diferença de performance  achar informações de como calcular os dígitos verificadores do cpf não é nada difícil qualquer busca no google dá inúmeros resultados a maioria é confiável e tem até uma fonte bastante respeitada que é a entrada sobre cpf na wikipedia onde infelizmente alguns códigos previamente existentes foram removidos alguns dos algoritmos apresentados ali estão em melhor forma que outros lá tem até como fazer isso em plsql mas a dúvida seria como fazer o cálculo dos dígitos e obter se este cálculo é válido ou inválido usando apenas o comando code do sql preferencialmente com sintaxe ansi ou tão próxima quanto possível mas o mais importante é o algoritmo mesmo mais do que um aspecto técnico específico o algoritmo nesta forma é útil quando não se tem acesso a um sistema de banco de dados com stored procedures ou privilégios para criar uma sp em uma base de dados se ajudar inicialmente o formato do dado não contém sinais separadores este é um cenário onde não se sabe se os dados contidos na base de dados são confiáveis ou não montar um code em um algoritmo que geralmente é feito utilizando códigos mais complexos como demonstrado na wikipedia não é algo tão trivial alternativas que ajudem resolver o problema da forma correta serão apreciadas obviamente não pode haver falsos positivos ou negativos o que destruiria o propósito desconheço local onde há documentação oficial sobre o assunto já procurei bastante e não achei pelo menos nos lugares óbvios é incrível como falta fonte oficial em todos os locais onde se ensina fazer o cálculo mas ele é algo bem conhecido no brasil não importa a verificação da situação cadastral na receita federal somente se os dígitos estão corretos  qual a forma correta de se fazer uma substituição regular em javascript para todas as ocorrências encontradas a forma como faço atualmente code ou até code não me parecem ser as mais adequadas  uma code de uma classe não é a mesma coisa que um code qual a real diferença entre eles ou code é um sinônimo para code ou viceversa ou varia conforme a linguagem de programação  estou com essa dúvida faz um bom tempo vejo algumas pessoas recomendando o uso do postgresql mas não fica claro as vantagens e desvantagens em relação ao mysql quero definir o banco que irei utilizar em meu projeto e gostaria de saber qual o melhor  qual a diferença entre code code e code quando devo usar cada um especificamente  pesquisei e li a respeito do padrão dao data access object porém não estou conseguindo entender como é o seu funcionamento e como é a estrutura dele ele também é responsável pelas regras de negócio de uma aplicação ou ele é apenas responsável pelo crud e pelas transações e conexões obs de preferência se puder mostrar sua implementação e seu funcionamento prático em java  eu estava dando uma olhada no códigofonte de uma library conhecida do php chamada code tratase de um template engine com sintaxe própria e me deparei com classes interfaces e métodos como code code e code dei uma pesquisada e percebi que se tratava do termo análise léxica apesar de ter entendido algumas coisas fiquei confuso em outras por exemplo estou acostumado a ver o termo code ou code quando se trata em transformação de um determinado dado em outro dado o que seria a análise léxica análise léxica e parsingparser se trata das mesmas coisas ou na verdade são coisas diferentes desculpem se estou confuso na pergunta mas creio que a comunidade me ajudará com uma boa e esclarecedora resposta  a partir do php temos o code que são mecanismos que ajudam e muito a reutilização de código e servem perfeitamente para resolver o problema da falta de herança múltipla exemplo de classe abastrata code exemplo com traits e interfaces code para os dois casos eu poderia fazer algo como code aí surgiu algumas confusões na minha mente quando é que devo utilizar uma classe abstrata ou uma simples herança quando é que devo utilizar o trait seguido de uma interface implementada na classe que vai usálo segundo algumas recomendações que li internet a fora por que dizem não ser recomendável utilizar um code sem implementar code devo implementar uma interface numa code visto que a própria classe abstrata já pode forçar a criação de um método para a classe que extenderá a classe abstrata  nesta outra pergunta eu perguntei a mesma coisa mas em relação a java agora pergunto sobre o javascript pelo que eu saiba historicamente o javascript sempre foi interpretado mas o google mudou isso com o v no chromium estou certo ou errado e em relação aos outros browsers como o firefox e ie ainda é interpretado  caso alguém não saiba hoje code teremos um segundo a mais ou seja hoje depois das code teremos code isso para fazer a correção do tempo atômico internacional sei que existem vários serviços que são sincronizados com relógios atômicos como o que fica no observatório nacional que podem ter problemas com esse segundo a mais que tipos de problemas podemos esperar em nossos sistemasservidores e aplicações quando ocorre um evento como esse caso você não esteja sabendo de nada veja algumas matérias falando disso radioagência nacional relógios terão um segundo extra por alterações gravitacionais tecmundo dia de junho terá segundo a mais mas o que isso pode causar  se você seguir o passo a passo de instalação do visual studio ele instala a linguagem do sistema operacional como alterar a linguagem para inglês  tenho um site onde controlamos os usuários pelo numero de cpf acredito ser a melhor forma pois é um dado único que todo mundo sabe e é checavel porem o cliente tem agora usuários estrangeiros que não tem cpf como lidar com isso pelo que sei não é possível controlar número de passaporte não existe nada que seja igual ao cpf mais detalhes como chave primaria é usado um userid o cpf é o login no sistema quem acessa são vendedores de lojas que vendem o produto e o site é uma área do lojista onde é feito promoções internas pedir o cpf é um esforço de prevenir mais de um cadastro por pessoa já que o site cria campanhas onde o usuário pode receber prêmios por responder questionários ex uma das acoes feitas foi ganhe um par de ingressos para assistir a final da copa no maracana ele responde o questionário com perguntas sobre o produto técnica de vendas etc e quem acertar mais ganha o premio cada um pode fazer x temos um banco de questões o questionário pede no banco tem que são randomizadas mas de qualquer modo quanto mais cadastros um usuário tem mais chances ele forjará para si  estive procurando a respeito desse termo e não compreendi muito bem a função desse profissional de ti o que é um full stack web developer  em linguagens como java os parâmetros de métodos são validados na compilação pelo menos o tipo code em linguagens de tipagem dinâmica como javascript é recomendado validar a entrada para evitar problemas code isso fica mais complexo quando se trabalha com objetos e arrays code entre os problemas de tantas validações está código poluído desempenho da aplicação prejudicado apesar disso isto pode evitar alguns problemas até que ponto ir com esta estória de validação de entrada existe alguma alternativa mais interessante  alguém pode dar uma explicação prática sobre motivos para se usar interfaces e por que elas são úteis para nós desenvolvedores  estive me questionando porque alguns sistemas exigirem senhas tão fortes exemplo minimo de caracteres maiúsculas e minusculas números caracteres especiais em vários locais dizem que senhas fortes garantem uma maior segurança do sistema e que ajudam a prevenir ataques de algorítimo como o codealgoritmo capaz de detectar senhas curtas em contrapartida descobrir o algoritmo code bancos por exemplo usam senhas com dígitos e essa senha são números penso que senhas fortes e complexas dificultam e muito o usuário no login pela dificuldade em lembrar qual senha criou porque usar senhas tão complexas isso não dificultaria o usuário a lembrar essa senha em uma possível volta ao sistema porque uma senha sem esses critérios mencionados acima são consideradas fracas  desenvolvi uma página em php para uso interno da empresa que trabalho e apenas pouquíssimas pessoas a utilizam através dessa página é possível fazer algumas consultas inserções alterações e remoções de dados de uma tabela em um banco de dados mysql porém eu acredito que meu código em php não está protegido contra injeção de código sql por exemplo code logo digamos que o usuário usar a sentença code para ao campo code o comando ficaria code ele vai inserir um novo registro cujo o campo code será code e logo em seguida ele vai deletar a tabela produtos como posso melhorar meu código para prevenir essa situação  recebe como parâmetro um valor numérico por exemplo ou e tenho uma função que retorna um valor um booleano code se todos os números forem iguais ou code se forem diferentes como procedo com o algoritmo  recentemente fiz a pergunta porque devemos usar anonymous functions com jquery ao invés da função diretamente e junto com a resposta aceita veio uma segunda pergunta como passar argumentos pra uma função js que estamos invocando por referência como seria a chamada à code se esta função recebesse parâmetros simples como um número ou mais complexos como um objeto propriamente dito  estamos em já li em alguns lugares na internet que não é mais necessário utilizar essa declaração code de fato utilizar a tag code sem declarar esse trecho não afeta em nada o funcionamento do javascript mas mesmo assim ainda em ides atualizadas como por exemplo o sublime text o mecanismo de autocompletamento faz com que a tag code seja declarada com code gostaria de saber se é seguro deixar de usar code algumas ides ainda colocam por questão de compatibilidade   em quais situações devem ser usados qual a diferença entre eles  temos alguns paradigmas de programação bem conhecidos porém bati de frente com esse paradigma e me surgiu algumas dúvidas onde é aplicado existe algum exemplo de onde já foi utilizado com sucesso qual a diferença da orientação a objetos x orientação a agentes  vi algo do tipo nesta pergunta e sei que isso se relaciona de alguma forma com orientação a objetos o que são como afetam meu código e como posso utilizálas para codificar melhor  tenho usado uma biblioteca de javascript para fazer iconessimbolos de uma app de metereologia queria agora fazer em svg o simbolo da nuvem céu nublado e questionome sobre qual a melhor abordagem fiz um svg com a linha da nuvem estática jsfiddle e uma rotação básica que não é o efeito pretendido uma vez que a nuvem original na animação com o canvasjs tem arcos que expandem e contraem à medida que rotacionam possiveis abordagens que pensei fazer circulos usando dash para ter só arcos e depois tentar animar esse valor e fazer tudo rodar à volta de um eixo fazer path e depois tentar animar esse valor e fazer tudo rodar à volta de um eixo haverá uma maneira melhor e que funcione em browsers modernos de maneira a recriar a animação mas com svg o exemplo de js como no jsfiddle em cima \\r \\r code\\r code\\r \\r \\r  onde o código javascript deve ser colocado em um documento html no elemento code ou code no início ou no final de cada um existe alguma diferença de performance ou qualquer outra relacionada a isso  a maioria dos programas se encaixam bem em espaço de endereço de menor que gb mas em alguns casos o programa pode precisar usar os novos recursosinstruções do processador que só estão disponíveis na arquitetura x infelizmente o procedimento normal seria gerar um executável bits e ganhando o custo dos ponteiros terem o dobro do tamanho há aplicações específicas em que a maioria das estruturas de dados tem grande parte de seus elementos compostos por ponteiros ponteiros grandes produzirão cache missen com mais frequência e se você não vai usar memória além dos gb ponteiros de bits são puro desperdício existem compiladores onde eu possa usar registradores e instruções específicas x mas preservando os ponteiros de bits para economizar a memória em quais plataformas é possível fazer isso de forma transparente em código legado há um switchflag para ligar isso no compilador caso não seja possível trabalhar com código legado o que é necessário mudar no código para obter os recursos de bits enquanto mantêm ponteiros de bits eu sei que isto só é vantajoso se essa economia de memória realmente é importante  esses dias vi nosso colega maniero comentando sobre a existência do net native em uma resposta sobre c e c vi que a microsoft anunciou em abril de o preview do net native e pesquisando sobre o assunto encontrei essa página explicando httpmsdnmicrosoftcomptbrvstudiodotnetnativeaspx pelo o que entendi a ideia é permitir que código escritos em c sejam compilados para código nativo da máquina isso deixaria os aplicativos mais rápidos e usando menos memória como o assunto é novo e estou cheio de perguntas eis algumas delas por que a microsoft está fazendo isso não será mais necessário ter o net framework instalado nas máquinas vamos ter que compilar nossos códigos para tipos diferentes de arquiteturas x x programas que usam o net native vão poder rodar em qualquer tipo de dispositivo e sistema operacional vou poder desenvolver um driver ou um sistema operacional com isso isso é só para apps da windows store terá alguma diferença em como desenvolvemos hoje quem puder compartilhar um pouco sobre o assunto é muito bem vindo inclusive se quiserem editar algo na pergunta afim de enriquecer a questão  fiz um campo de email para o usuário se cadastrar e agora preciso de um sistema que verifique se esse email existe eu preciso que quando o usuário digite seu email um sistema verifique se ele existe se ele possui mesmo esse email por exemplo o usuário digita code aí aparecerá do lado email válido ou email inválido já pesquisei sistema de validação de emails mas não aparecem resultados concretos será que alguém pode me ajudar  estou a usar uma development board da microchip explorer com o code como master e o arduino como slave o pic está a enviar tudo direitinho mas por alguma razão o arduino envia code para todos os data apenas manda code no início quando se envia o address código pic master code código arduino slave code  quando estudei mvc pela primeira vez no livro falava muito sobre ddd domaindriven design pelo que eu entendi na época a ideia do ddd era simplesmente programar o software com foco no desenvolvimento da camada de domínio depois disso lendo sobre o processo de análise e projeto em orientação a objetos tive a impressão de que sempre que programamos um software orientado a objetos damos essa ênfase na camada de domínio começando por ela e usando os requisitos pra montar ela corretamente isso faz parecer que o ddd prega basicamente a mesma coisa que o processo de análise e projeto em orientação a objetos dessa forma o que realmente é o ddd e quando ele se aplica de verdade quais as vantagens de se usar ddd em um projeto eu sei que existe um livro chamado domaindriven design tackling complexity in the heart of software mas por ser um livro muito extenso nunca consegui parar pra ler ele existe alguma referência mais resumida sobre o assunto  ao se criar um site ou aplicação web sempre há o problema do que fazer quando nem todos os browsers implementam todas as funcionalidades desejáveis pelo que tenho lido há duas principais maneiras de se lidar com isso graceful degradation degradação suave desenvolvese pensando num ambiente o mais completo possível mas assegurandose que se a funcionalidade x ou y estiver ausente o site ainda funcione da melhor forma possível sem ela progressive enhancement enriquecimento progressivo desenvolvese pensando num ambiente o mais básico possível e acrescentase características extra caso a presença da funcionalidade x ou y seja detectada quais as vantagens e desvantagens de cada uma delas há situações em que uma é mais adequada que a outra ou é apenas questão de preferência estou interessado principalmente no aspecto da manutenabilidade à medida que características novas vão sendo introduzidas aos browsers e versões antigas dos mesmos caem em desuso quais as implicações disso num siteaplicação desenvolvido segundo essas estratégias  quais são os métodos de requisição http entre os quais estão code code e code para que se deve usar cada um deles e qual é a diferença entre eles  é mais vantajoso utilizar um tipo ansi ao invés de um tipo utf ou viceversa existe algum ganho em performance ou armazenamento entre os tipos  como regra geral é considerada má pratica de programação usar métodos estáticos mas em que situações ela se justifica ou não se justifica por exemplo se eu fosse criar um método simples para ler um arquivo de texto criando esse método no tipo de instância eu teria que instanciar a classe apenas para poder executálo o que não faz muito sentido código em portugol code já na forma estática eu chamaria o método diretamente code  já vi programas assim code e outros assim code o segundo código vai consumir mais processamento  é comum vermos em softwares para qualquer plataforma alguns lugares onde o usuário pode selecionar uma opção e para identificar lá o que é esta opção pode haver um ícone ou pode haver um texto curto ou ainda podemos encontrar ambos imagino que existam contextos onde uma opção é mais adequada que outra ou será que só uma delas é adequada e as outras são usadas erroneamente por contexto falo da plataforma do tipo de aplicação do tipo de operação onde tem esta representação tipo de audiência etc alguns softwares adotam um default mas deixam escolher isto existe alguma desvantagem em dar esta escolha para o usuário obviamente não estou buscando opiniões nem quero saber o que você usa preciso de justificativa clara e tão fundamentada quanto possível eu sei que idealmente testes devem ser feitos com a audiência nem sempre isto é possível por um motivo ou outro  o que é o cgi common gateway interface e o que ele faz é uma tecnologia antiga existem outras alternativas a ele se sim quais  hoje é comum os compiladores das linguagens de programação permitirem que o arquivo de código de seus programas aceitem código com caracteres unicode isto é útil especialmente para quem usa o português e outras línguas que fogem do ascii para criar strings com acentos e melhorar os comentários em nossa língua mas é incomum o uso de identificadores com acentos no código há até mesmo quem recomende que não seja usado eu mesmo não costumo usar mas me parece que dar um sentido melhor nestes casos só um exemplo isolado sem definição de linguagem code existe algum motivo técnico para evitar acentos e outros caracteres unicode em identificadores se não existe problema técnico existe algum motivo prático para evitálos depende da linguagem de programação considerando que ela suporte bem acentuação em plenitude importa se o código é proprietário e desenvolvido por uma equipe pequena e fechada ou se é desenvolvido amplamente possivelmente de forma aberta existe algum cuidado específico que devemos tomar quando usamos acentos em identificadores quando a utilização de caracteres além do ascii é abuso  por que criar parâmetros para cada campo que será atualizado ajuda a evitar sql injection exemplo code  estou desenvolvendo uma ferramenta para reconhecimento biométrico usando o sdk fornecido em formato dll desenvolvido em delphi para o acesso à dll a partir do java estou usando jna o template da digital a parte mais importante é um objeto que se refere a este trecho em delphi code como desenvolver algo equivalente em java basicamente preciso chamar as seguintes funções da dll code olhando o exemplo fornecido desenvolvido em delphi vi que o objeto code que é passado nas funções code e code é do tipo code declarado no trecho de código mais acima no mesmo exemplo antes de chamar o método code o objeto code é instanciado e vai vazio onde então é preenchido através da função o leitor é o techmag bioflex que é baseado nos leitores futronic fs pesquisando vi que o objeto code do trecho de código faz acesso à memória para ler as informações que o leitor grava nela escreve depois de muitas pesquisa acho que devo desenvolver algum objeto equivalente em java estendendo das classes code ou code do jna atualização informações sobre meu código leio e armazeno duas vezes a minha digital utilizando o método code depois comparo as duas utilizando o método code que sempre retorna code comando não executado printei os objetos code e code após ler a digital code retorna code e code retorna code interface com os métodos da dll code classe que estende structure referente ao objeto cis_digital code método responsável por ler duas vezes qualquer digital e comparálas code  uma dúvida muito comum é por que devemos parar de usar funções do tipo mysql_ por exemplo code ou code vejo que muitas pessoas as usam ou param de usar mas não sabem o real motivo por que elas deveriam parar de ser usadas uma vez que funcionam  em php posso fazer isto sem declarardefenir variáveis code usando code o mesmo dá respectivamente code e code se eu usar code antes o mesmo dá codee code a questão é existe alguma implicação de performanceutilização ou outra que justifique evitar estas utilizações code  eu tenho a impressão que toda vez que executo o comando code para gerar o autoload das classes via code um arquivo code é criado dentro dele parece haver um emaranhado de classes e namespaces é como se tivessem unidos vários arquivos em um só gerar um código php em que as classes utilizadas estão no mesmo arquivo seria mais rápido do que ter elas espalhadas pelos diretórios  no código do linux vi algumas macros com code existe motivo porque aparentemente não tem lógica um laço de repetição em que o código repete apenas uma vez  tenho o arquivo que se chama code e quero colocálo numa code por exemplo code pergunta como escrever esse método code  uma assinatura do métodofunção comum ou construtor é composta por seu nome quantidade de parâmetros tipo dos parâmetros  talvez eu me integre a uma equipe para desenvolver um novo projeto o líder já tomou algumas decisões entre elas que as regras de negócio estarão no banco de dados em procedures e views triggers etc ao tomar conhecimento disto minha primeira reação foi negativa estou acostumado com regras de negócio na camada de aplicação e não me parece uma boa ideia que fiquem no banco de dados porém o fato é que eu realmente não sei tampouco tenho experiência com essa arquitetura por isso pergunto quais as vantagens quais as desvantagens é uma boa prática é uma má ideia  vejo como uma dúvida muito frequente quando devemos usar o code ou o code no php qual forma é mais adequada para o uso e qual a diferença das situações  ao fazer um select reparei que os dados com campo code não são recuperados usando o operadorcode por que isso acontece code é igual a um code vejam que na consulta abaixo só a primeira linha é retornada sqlfiddle  eu estava estudando essa documentação sobre aspnet identity e nos exemplos em c tem uma palavrachave que eu desconheço que é a code exemplo code para que serve essa palavrachave  sempre ouço falar de code e code mas não sei diferenciar um do outro nem para que servem me pareceu algo com padrão de arquitetura de aplicação estilo commonjs  já vi gente recomendando nunca usar code underscore em html e css ao invés disso deveríamos dar preferência para code exemplo code por que existe essa recomendação  como inverter uma string em javascript por exemplo entrada alguma coisa aqui saída iuqa asioc amugla  quando comecei a usar linq vi que poderia usar as famosas lambda expressions até sei que code é uma lambda expression mas não consegui explicar para um colega o que realmente são e qual a vantagem em usálas então vos pergunto o que são lambda expressions e qual a sacada em usálas  estou trabalhando em um sistema muito grande utilizando net aspnet mvc a aplicação requer um nível crítico de desempenho até que ponto vale ou não a pena utilizar uma orm existe alguma ferramenta que eu possa comparar em termos de desempenho os orms e sql puro eu sei que existe uma diferença de desempenho entre sql puro e orm não sei se é os activerecords ou os orms em gerais são mais lentos em comparação com sql puro caso considere usar um orm qual deles provavelmente tem o melhor desempenho ef ou nhibernate sei que tudo também depende da estrutura do banco e das boas práticas mas de modo geral para um sistema muito grande considero uma orm já que o custo beneficio em relação manutenção do sistema é muito mais alto do que não utilizando  é comum que se ensine que o certo é deixar os atributos da classe privados e criar code e code para eles tudo por causa do encapsulamento isso não é a mesma coisa que deixar tudo público já que você pode alterar e obter o valor livremente isso não cria apenas uma ilusão de encapsulamento é recomendado ou não o seu uso por quê  sou novo na linguagem java e tenho essa dúvida procurei em vários locais na internet e perguntei a vários amigos programadores java mas nenhum conseguiu me explicar com clareza qual a diferença entre os dois qual a diferença entre javabean e pojo  qual tipo do campo cpf ou cnpj no banco de dados code ou code já vi alguns posts sugerindo usar code para otimizar a performance no caso de codee filtros se possuir a esquerda é só completar de acordo com o tamanho do campo armazenado cpf ou cnpj para efetuar a validação então qual seria a melhor abordagem  estou com dúvida na utilização do code e code atualmente ao criar uma query no sql server fiquei com dúvida sobre code e code realizei algumas pesquisas e consegui descobrir a diferença de ambos só que me surgiu algumas duvidas que não consegui encontrar realizei a seguinte query dúvidas ao ler em alguns sites vi que o code ou code tem alguma diferença na hora do code em banco só que não consegui descobrir qual deles pois os dois tem o mesmo comportamento ao realizar a seguinte query code só que em alguns sites diziam code ou code quando string ficaria da seguinte forma ex se a coluna tiver o tamanho code code foi isso que pude entender mais nenhum site mostrava exemplos para melhor entendimento queria saber qual a diferença de ambos na questão em banco ficou um pouco difícil descrever minha dúvida  tenho uma listagem de status que é exibida e cada status tem uma cor atribuída essas cores estão salvas no meu banco de dados em formato hexadecimal exemplo code eu estou com um pequeno problema se a cor for escura demais pelo fato da mesma ser usada para code a cor do texto tornase ilegível então eu queria saber se tem alguma forma de descobrir se a cor é escura para quando for escura eu determinar que a cor do texto será branco e se for clara preto tem como fazer isso nota a solução pode ser tanto em javascript como em php  como remover acentos e outros sinais gráficos de uma string em java ex code  qual a diferença entre code e code ambas são muito parecidas mas em qual caso é melhor usar uma ou a outra gostaria de código de exemplos  já encontrei em vários lugares este termo vanilla js ele parece ser citado como um framework mas nos códigos onde ele é citado e no próprio site o código apresentado é puro javascript  ok já li o que uma arquitetura de microservios e artigos sobre o assunto sei o que é e como funciona mas ainda não sei que problema ele tenta resolver quais as vantagens de usálo do ponto de vista do desenvolvimento e manutenção de software e do funcionamento da solução e as desvantagens me parece que ele gera um overhead dá a impressão que a solução se torna mais complexa  tenho essa dúvida qual a diferença entre code e code e entre code e code qual deles devo usar   o que são exceções code quais são suas principais causas que métodospráticas podem ser utilizadas para se prevenir  uma das primeiras coisas que aprendi sobre java é que essa linguagem não possui ponteiros somente referências seguida de algumas afirmações genéricas de como o primeiro é complexo e o segundo é mais simples mas nunca entendi exatamente qual a diferença de um para o outro há alguma diferença ou conceitualmente eles são a mesma coisa esclarecendo eu sei que nem java nem a maioria das linguagens que só suporta referências permite que seja feita aritmética com essas referências algo como code não é permitido mas seria isso apenas uma restrição às operações que a linguagem deixa fazer ao mesmo tipo ponteiro ou são de fato conceitos diferentes  eu estava conversando com alguns amigos programadores quando eu ouvi o termo normalização de banco de dados embora eu já tenha ouvido esse termo algumas vezes antes não consegui compreender do que se tratava surgiram algumas dúvidas o que significa esse termo qualquer tipo de banco de dados seja sql ou nosql pode usar essa tal normalização outra coisa é que ao pesquisar na internet encontrei os termos normalização de dados e normalização de banco dados existe alguma diferença entre as duas coisas normalização de dados e normalização de banco dados existe o termo correto ou pode ser falado das duas formas não quero mais passar vergonha ao ouvir um termo desses numa reunião e ficar sem entender  sendo um programador net mas com uma antiga paixão por c que cresceu desde o c estive com essa curiosidade eu sei que o net pode ser extendido com o ccli mas eu gostaria de saber o que o c puro não consegue fazer enquanto o c consegue nota eu não quero opiniões aqui e também não quero iniciar uma guerra das chamas eu quero fatos eu só quero saber o que o título da pergunta diz não quero saber se você prefere uma linguagem ou outra porque é mais fácil fazer x nela atualização depois de respostas e algumas horas estou julgando a do utluiz como a que melhor respondeu a minha pergunta portanto estou marcando como aceita a do fláviogranato também é boa mas achei a do utluiz mais correta as duas outras respostas falam principalmente sobre o framework e a performance que são óbvios para quem não é novato no assunto não estou dizendo que foram más respostas só não foram respostas boas para essa pergunta fora o fato que o framework é bem estável e performance não é um assunto crítico  quando se lê sobre arquitetura de software na web às vezes é usado o termo código spaghetti se referindo a algo que deve ser evitado porém nunca consegui entender com clareza o que código spaghetti significa  eu vejo cada um usando de um jeito eu mesmo vario a forma em alguns momentos e todos funcionam mas qual é o certo depende de versão do html ou do browser  eu já ouvi esse termo da boca de algumas pessoas mas não costumo ser bom com esses termos técnicos o que seria um código legado está relacionado a código ultrapassado  sei que srp significa princípio da responsabilidade única cada classe deve ser responsável por tal coisa o que devo fazer pra detectar que estou violando o srp o que devo levar em consideração para aplicálo corretamente uso com moderação uma dúvida de como exemplo estou desenvolvendo o framework na parte referente à biblioteca da code sempre considero esses fatores carrega um arquivo para view carrega os dados da view possibilidade de estender essa view possibilidade de criar blocos para a view em cada um desses casos devo me preocupar em criar uma classe que faça o que é pretendido code code code code ou jogo tudo na classe code se considerar jogar tudo na classe code estaria violando o srp  não é minha intenção trazer a confusão dos outros para o site porém ficou uma dúvida minha interna daquelas coisas que se tem certeza e depois vem alguém e faz uma pergunta que mexe com as certezas antigas vi neste site a classificação do top das linguagens de programação e notei que para algumas pessoas html é uma linguagem de programação e para outras não dúvida html é uma linguagem de programação ou não '"
            ],
            "application/vnd.google.colaboratory.intrinsic+json": {
              "type": "string"
            }
          },
          "metadata": {},
          "execution_count": 373
        }
      ]
    },
    {
      "cell_type": "markdown",
      "source": [
        "Now, to split our words, we can use a vectorizer:"
      ],
      "metadata": {
        "id": "HL684CnPmaQR"
      }
    },
    {
      "cell_type": "code",
      "source": [
        "tokenizer = nltk.tokenize.WhitespaceTokenizer( )\n",
        "all_pt_words = tokenizer.tokenize(pt_text_train)"
      ],
      "metadata": {
        "id": "wEUaJ_MOmRae"
      },
      "execution_count": 374,
      "outputs": []
    },
    {
      "cell_type": "code",
      "source": [
        "all_pt_words"
      ],
      "metadata": {
        "colab": {
          "base_uri": "https://localhost:8080/"
        },
        "id": "95f5QaKmmlaf",
        "outputId": "f731de13-e2ff-4177-9794-2a61698401f3"
      },
      "execution_count": 375,
      "outputs": [
        {
          "output_type": "execute_result",
          "data": {
            "text/plain": [
              "['ultimamente',\n",
              " 'ouvi',\n",
              " 'muito',\n",
              " 'a',\n",
              " 'respeito',\n",
              " 'de',\n",
              " 'web',\n",
              " 'service',\n",
              " 'web',\n",
              " 'service',\n",
              " 'é',\n",
              " 'uma',\n",
              " 'solução',\n",
              " 'utilizada',\n",
              " 'na',\n",
              " 'integração',\n",
              " 'de',\n",
              " 'sistemas',\n",
              " 'e',\n",
              " 'na',\n",
              " 'comunicação',\n",
              " 'entre',\n",
              " 'aplicações',\n",
              " 'diferentes',\n",
              " 'permitem',\n",
              " 'às',\n",
              " 'aplicações',\n",
              " 'enviar',\n",
              " 'e',\n",
              " 'receber',\n",
              " 'dados',\n",
              " 'em',\n",
              " 'formato',\n",
              " 'xml',\n",
              " 'web',\n",
              " 'service',\n",
              " 'é',\n",
              " 'uma',\n",
              " 'solução',\n",
              " 'utilizada',\n",
              " 'na',\n",
              " 'integração',\n",
              " 'de',\n",
              " 'sistemas',\n",
              " 'e',\n",
              " 'na',\n",
              " 'comunicação',\n",
              " 'entre',\n",
              " 'aplicações',\n",
              " 'diferentes',\n",
              " 'com',\n",
              " 'esta',\n",
              " 'tecnologia',\n",
              " 'é',\n",
              " 'possível',\n",
              " 'que',\n",
              " 'novas',\n",
              " 'aplicações',\n",
              " 'possam',\n",
              " 'interagir',\n",
              " 'com',\n",
              " 'aquelas',\n",
              " 'que',\n",
              " 'já',\n",
              " 'existem',\n",
              " 'e',\n",
              " 'que',\n",
              " 'sistemas',\n",
              " 'desenvolvidos',\n",
              " 'em',\n",
              " 'plataformas',\n",
              " 'diferentes',\n",
              " 'sejam',\n",
              " 'compatíveis',\n",
              " 'os',\n",
              " 'web',\n",
              " 'services',\n",
              " 'são',\n",
              " 'componentes',\n",
              " 'que',\n",
              " 'permitem',\n",
              " 'às',\n",
              " 'aplicações',\n",
              " 'enviar',\n",
              " 'e',\n",
              " 'receber',\n",
              " 'dados',\n",
              " 'em',\n",
              " 'formato',\n",
              " 'xml',\n",
              " 'cada',\n",
              " 'aplicação',\n",
              " 'pode',\n",
              " 'ter',\n",
              " 'a',\n",
              " 'sua',\n",
              " 'própria',\n",
              " 'linguagem',\n",
              " 'que',\n",
              " 'é',\n",
              " 'traduzida',\n",
              " 'para',\n",
              " 'uma',\n",
              " 'linguagem',\n",
              " 'universal',\n",
              " 'o',\n",
              " 'formato',\n",
              " 'xml',\n",
              " 'fonte',\n",
              " 'httpswwwoficinadanetcombrartigoo_que_e_web_service',\n",
              " 'eu',\n",
              " 'não',\n",
              " 'consegui',\n",
              " 'visualizar',\n",
              " 'o',\n",
              " 'que',\n",
              " 'seria',\n",
              " 'um',\n",
              " 'web',\n",
              " 'service',\n",
              " 'mas',\n",
              " 'afinal',\n",
              " 'o',\n",
              " 'que',\n",
              " 'ele',\n",
              " 'é',\n",
              " 'alguém',\n",
              " 'poderia',\n",
              " 'elucidar',\n",
              " 'com',\n",
              " 'alguma',\n",
              " 'aplicação',\n",
              " 'que',\n",
              " 'ele',\n",
              " 'possa',\n",
              " 'ser',\n",
              " 'utilizado',\n",
              " 'talvez',\n",
              " 'isso',\n",
              " 'melhore',\n",
              " 'no',\n",
              " 'meu',\n",
              " 'entendimento',\n",
              " 'ao',\n",
              " 'criar',\n",
              " 'um',\n",
              " 'componente',\n",
              " 'usamos',\n",
              " 'code',\n",
              " 'para',\n",
              " 'identificálo',\n",
              " 'por',\n",
              " 'exemplo',\n",
              " 'code',\n",
              " 'qual',\n",
              " 'é',\n",
              " 'a',\n",
              " 'diferença',\n",
              " 'de',\n",
              " 'usar',\n",
              " 'code',\n",
              " 'sem',\n",
              " 'o',\n",
              " 'no',\n",
              " 'lugar',\n",
              " 'do',\n",
              " 'code',\n",
              " 'é',\n",
              " 'correto',\n",
              " 'usar',\n",
              " 'um',\n",
              " 'ou',\n",
              " 'outro',\n",
              " 'estou',\n",
              " 'fazendo',\n",
              " 'um',\n",
              " 'pequeno',\n",
              " 'sistema',\n",
              " 'e',\n",
              " 'para',\n",
              " 'acessálo',\n",
              " 'o',\n",
              " 'usuário',\n",
              " 'digita',\n",
              " 'o',\n",
              " 'login',\n",
              " 'e',\n",
              " 'senha',\n",
              " 'qual',\n",
              " 'a',\n",
              " 'melhor',\n",
              " 'forma',\n",
              " 'segura',\n",
              " 'e',\n",
              " 'simples',\n",
              " 'de',\n",
              " 'fazer',\n",
              " 'o',\n",
              " 'sistema',\n",
              " 'de',\n",
              " 'login',\n",
              " 'e',\n",
              " 'senha',\n",
              " 'estou',\n",
              " 'procurando',\n",
              " 'por',\n",
              " 'maneiras',\n",
              " 'de',\n",
              " 'se',\n",
              " 'copiar',\n",
              " 'um',\n",
              " 'texto',\n",
              " 'pra',\n",
              " 'área',\n",
              " 'de',\n",
              " 'transferência',\n",
              " 'clipboard',\n",
              " 'via',\n",
              " 'javascript',\n",
              " 'que',\n",
              " 'funcione',\n",
              " 'na',\n",
              " 'maioria',\n",
              " 'dos',\n",
              " 'browsers',\n",
              " 'modernos',\n",
              " 'mas',\n",
              " 'há',\n",
              " 'informação',\n",
              " 'demais',\n",
              " 'e',\n",
              " 'me',\n",
              " 'parece',\n",
              " 'desatualizada',\n",
              " 'sei',\n",
              " 'que',\n",
              " 'há',\n",
              " 'a',\n",
              " 'clipboard',\n",
              " 'api',\n",
              " 'e',\n",
              " 'que',\n",
              " 'ela',\n",
              " 'é',\n",
              " 'parcialmente',\n",
              " 'suportada',\n",
              " 'por',\n",
              " 'todos',\n",
              " 'exceto',\n",
              " 'o',\n",
              " 'firefox',\n",
              " 'que',\n",
              " 'a',\n",
              " 'implementa',\n",
              " 'totalmete',\n",
              " 'gostaria',\n",
              " 'de',\n",
              " 'utilizála',\n",
              " 'mas',\n",
              " 'só',\n",
              " 'encontro',\n",
              " 'exemplos',\n",
              " 'que',\n",
              " 'usam',\n",
              " 'o',\n",
              " 'code',\n",
              " 'que',\n",
              " 'é',\n",
              " 'justamente',\n",
              " 'a',\n",
              " 'parte',\n",
              " 'ainda',\n",
              " 'não',\n",
              " 'amplamente',\n",
              " 'suportada',\n",
              " 'montei',\n",
              " 'um',\n",
              " 'jsfiddle',\n",
              " 'de',\n",
              " 'exemplo',\n",
              " 'que',\n",
              " 'não',\n",
              " 'funciona',\n",
              " 'nem',\n",
              " 'no',\n",
              " 'firefox',\n",
              " 'recursão',\n",
              " 'infinita',\n",
              " 'no',\n",
              " 'evento',\n",
              " 'code',\n",
              " 'nem',\n",
              " 'no',\n",
              " 'chrome',\n",
              " 'code',\n",
              " 'não',\n",
              " 'suportado',\n",
              " 'segue',\n",
              " 'o',\n",
              " 'código',\n",
              " 'code',\n",
              " 'gostaria',\n",
              " 'de',\n",
              " 'um',\n",
              " 'exemplo',\n",
              " 'que',\n",
              " 'evitasse',\n",
              " 'essa',\n",
              " 'recursão',\n",
              " 'infinita',\n",
              " 'ela',\n",
              " 'é',\n",
              " 'causada',\n",
              " 'porque',\n",
              " 'o',\n",
              " 'handler',\n",
              " 'que',\n",
              " 'cria',\n",
              " 'o',\n",
              " 'code',\n",
              " 'acaba',\n",
              " 'capturando',\n",
              " 'o',\n",
              " 'evento',\n",
              " 'que',\n",
              " 'ele',\n",
              " 'mesmo',\n",
              " 'criou',\n",
              " 'e',\n",
              " 'que',\n",
              " 'oferecesse',\n",
              " 'um',\n",
              " 'workaround',\n",
              " 'pro',\n",
              " 'caso',\n",
              " 'do',\n",
              " 'browser',\n",
              " 'não',\n",
              " 'dar',\n",
              " 'suporte',\n",
              " 'ao',\n",
              " 'code',\n",
              " 'no',\n",
              " 'php',\n",
              " 'podemos',\n",
              " 'suprimir',\n",
              " 'erros',\n",
              " 'utilizando',\n",
              " 'o',\n",
              " 'code',\n",
              " 'antes',\n",
              " 'de',\n",
              " 'determinadas',\n",
              " 'expressões',\n",
              " 'isso',\n",
              " 'pode',\n",
              " 'ser',\n",
              " 'visto',\n",
              " 'em',\n",
              " 'qual',\n",
              " 'a',\n",
              " 'funo',\n",
              " 'do',\n",
              " 'no',\n",
              " 'inicio',\n",
              " 'de',\n",
              " 'expresses',\n",
              " 'em',\n",
              " 'php',\n",
              " 'já',\n",
              " 'assisti',\n",
              " 'alguns',\n",
              " 'hangouts',\n",
              " 'sobre',\n",
              " 'php',\n",
              " 'e',\n",
              " 'o',\n",
              " 'pessoal',\n",
              " 'estava',\n",
              " 'criticando',\n",
              " 'a',\n",
              " 'utilização',\n",
              " 'do',\n",
              " 'code',\n",
              " 'no',\n",
              " 'php',\n",
              " 'pela',\n",
              " 'tese',\n",
              " 'de',\n",
              " 'que',\n",
              " 'um',\n",
              " 'erro',\n",
              " 'deve',\n",
              " 'ser',\n",
              " 'tratado',\n",
              " 'e',\n",
              " 'não',\n",
              " 'escondido',\n",
              " 'o',\n",
              " 'problema',\n",
              " 'é',\n",
              " 'que',\n",
              " 'algumas',\n",
              " 'funções',\n",
              " 'do',\n",
              " 'php',\n",
              " 'retornam',\n",
              " 'as',\n",
              " 'vezes',\n",
              " 'mensagens',\n",
              " 'indesejadas',\n",
              " 'como',\n",
              " 'no',\n",
              " 'caso',\n",
              " 'do',\n",
              " 'code',\n",
              " 'que',\n",
              " 'ao',\n",
              " 'não',\n",
              " 'encontrar',\n",
              " 'o',\n",
              " 'arquivo',\n",
              " 'para',\n",
              " 'deletar',\n",
              " 'emite',\n",
              " 'um',\n",
              " 'code',\n",
              " 'nesse',\n",
              " 'caso',\n",
              " 'eu',\n",
              " 'sempre',\n",
              " 'utilizo',\n",
              " 'o',\n",
              " 'code',\n",
              " 'por',\n",
              " 'exemplo',\n",
              " 'code',\n",
              " 'pois',\n",
              " 'com',\n",
              " 'o',\n",
              " 'code',\n",
              " 'o',\n",
              " 'erro',\n",
              " 'será',\n",
              " 'suprimido',\n",
              " 'e',\n",
              " 'apenas',\n",
              " 'retornará',\n",
              " 'code',\n",
              " 'caso',\n",
              " 'haja',\n",
              " 'alguma',\n",
              " 'falha',\n",
              " 'e',\n",
              " 'isso',\n",
              " 'é',\n",
              " 'explicado',\n",
              " 'na',\n",
              " 'resposta',\n",
              " 'do',\n",
              " 'rray',\n",
              " 'eu',\n",
              " 'tenho',\n",
              " 'algumas',\n",
              " 'perguntas',\n",
              " 'a',\n",
              " 'fazer',\n",
              " 'a',\n",
              " 'respeito',\n",
              " 'dessa',\n",
              " 'prática',\n",
              " 'do',\n",
              " 'ponto',\n",
              " 'de',\n",
              " 'vista',\n",
              " 'do',\n",
              " 'desenvolvimento',\n",
              " 'eu',\n",
              " 'deveria',\n",
              " 'utilizar',\n",
              " 'um',\n",
              " 'code',\n",
              " 'arroba',\n",
              " 'para',\n",
              " 'casos',\n",
              " 'como',\n",
              " 'da',\n",
              " 'função',\n",
              " 'code',\n",
              " 'ou',\n",
              " 'configurar',\n",
              " 'a',\n",
              " 'exibição',\n",
              " 'de',\n",
              " 'erros',\n",
              " 'para',\n",
              " 'ocultar',\n",
              " 'code',\n",
              " 'ou',\n",
              " 'fazer',\n",
              " 'um',\n",
              " 'code',\n",
              " 'em',\n",
              " 'relação',\n",
              " 'ao',\n",
              " 'uso',\n",
              " 'de',\n",
              " 'code',\n",
              " 'antes',\n",
              " 'de',\n",
              " 'fazer',\n",
              " 'code',\n",
              " 'o',\n",
              " 'arroba',\n",
              " 'pode',\n",
              " 'ser',\n",
              " 'prejudicial',\n",
              " 'para',\n",
              " 'o',\n",
              " 'desempenho',\n",
              " 'de',\n",
              " 'uma',\n",
              " 'aplicação',\n",
              " 'ou',\n",
              " 'o',\n",
              " 'desencorajamento',\n",
              " 'quanto',\n",
              " 'ao',\n",
              " 'uso',\n",
              " 'do',\n",
              " 'code',\n",
              " 'só',\n",
              " 'existe',\n",
              " 'por',\n",
              " 'questões',\n",
              " 'de',\n",
              " 'boas',\n",
              " 'práticas',\n",
              " 'de',\n",
              " 'programação',\n",
              " 'o',\n",
              " 'que',\n",
              " 'nos',\n",
              " 'ensinam',\n",
              " 'sobre',\n",
              " 'herança',\n",
              " 'a',\n",
              " 'esmagadora',\n",
              " 'maioria',\n",
              " 'dos',\n",
              " 'materiais',\n",
              " 'que',\n",
              " 'tratam',\n",
              " 'sobre',\n",
              " 'herança',\n",
              " 'de',\n",
              " 'classes',\n",
              " 'a',\n",
              " 'exemplificam',\n",
              " 'como',\n",
              " 'um',\n",
              " 'mero',\n",
              " 'mecanismo',\n",
              " 'de',\n",
              " 'agrupamento',\n",
              " 'de',\n",
              " 'atributos',\n",
              " 'ou',\n",
              " 'ações',\n",
              " 'comuns',\n",
              " 'no',\n",
              " 'máximo',\n",
              " 'como',\n",
              " 'um',\n",
              " 'meio',\n",
              " 'de',\n",
              " 'representar',\n",
              " 'uma',\n",
              " 'hierarquia',\n",
              " 'análoga',\n",
              " 'a',\n",
              " 'algo',\n",
              " 'que',\n",
              " 'observamos',\n",
              " 'na',\n",
              " 'vida',\n",
              " 'real',\n",
              " 'como',\n",
              " 'amostra',\n",
              " 'veja',\n",
              " 'esta',\n",
              " 'apostila',\n",
              " 'da',\n",
              " 'unicamp',\n",
              " 'e',\n",
              " 'esta',\n",
              " 'outra',\n",
              " 'da',\n",
              " 'caelum',\n",
              " 'o',\n",
              " 'mesmo',\n",
              " 'se',\n",
              " 'aplica',\n",
              " 'às',\n",
              " 'aulas',\n",
              " 'que',\n",
              " 'assisti',\n",
              " 'sobre',\n",
              " 'o',\n",
              " 'assunto',\n",
              " 'ainda',\n",
              " 'lembro',\n",
              " 'quando',\n",
              " 'aprendi',\n",
              " 'que',\n",
              " 'a',\n",
              " 'orientação',\n",
              " 'a',\n",
              " 'objetos',\n",
              " 'possibilita',\n",
              " 'representarmos',\n",
              " 'o',\n",
              " 'que',\n",
              " 'vemos',\n",
              " 'na',\n",
              " 'vida',\n",
              " 'real',\n",
              " 'a',\n",
              " 'herança',\n",
              " 'é',\n",
              " 'comumente',\n",
              " 'definida',\n",
              " 'como',\n",
              " 'um',\n",
              " 'relacionamento',\n",
              " 'do',\n",
              " 'tipo',\n",
              " 'é',\n",
              " 'um',\n",
              " 'exemplos',\n",
              " 'clássicos',\n",
              " 'como',\n",
              " 'code',\n",
              " 'e',\n",
              " 'code',\n",
              " 'estendem',\n",
              " 'code',\n",
              " 'ilustram',\n",
              " 'isso',\n",
              " 'o',\n",
              " 'problema',\n",
              " 'é',\n",
              " 'que',\n",
              " 'quando',\n",
              " 'aprendemos',\n",
              " 'dessa',\n",
              " 'forma',\n",
              " 'a',\n",
              " 'nossa',\n",
              " 'preocupação',\n",
              " 'recai',\n",
              " 'em',\n",
              " 'classificar',\n",
              " 'os',\n",
              " 'objetos',\n",
              " 'da',\n",
              " 'vida',\n",
              " 'real',\n",
              " 'para',\n",
              " 'agrupar',\n",
              " 'em',\n",
              " 'hierarquias',\n",
              " 'e',\n",
              " 'então',\n",
              " 'procurar',\n",
              " 'atributos',\n",
              " 'e',\n",
              " 'ações',\n",
              " 'comuns',\n",
              " 'para',\n",
              " 'colocarmos',\n",
              " 'na',\n",
              " 'superclasse',\n",
              " 'posso',\n",
              " 'dizer',\n",
              " 'que',\n",
              " 'passei',\n",
              " 'muito',\n",
              " 'tempo',\n",
              " 'usando',\n",
              " 'herança',\n",
              " 'como',\n",
              " 'forma',\n",
              " 'de',\n",
              " 'agrupar',\n",
              " 'coisas',\n",
              " 'parecidas',\n",
              " 'e',\n",
              " 'evitar',\n",
              " 'repetição',\n",
              " 'de',\n",
              " 'código',\n",
              " 'não',\n",
              " 'considerando',\n",
              " 'pontos',\n",
              " 'importantes',\n",
              " 'como',\n",
              " 'acoplamento',\n",
              " 'e',\n",
              " 'coesão',\n",
              " 'herança',\n",
              " 'na',\n",
              " 'prática',\n",
              " 'contudo',\n",
              " 'parece',\n",
              " 'que',\n",
              " 'na',\n",
              " 'prática',\n",
              " 'isso',\n",
              " 'simplesmente',\n",
              " 'não',\n",
              " 'funciona',\n",
              " 'tão',\n",
              " 'bem',\n",
              " 'como',\n",
              " 'na',\n",
              " 'teoria',\n",
              " 'como',\n",
              " 'exemplificado',\n",
              " 'na',\n",
              " 'questão',\n",
              " 'prefira',\n",
              " 'composição',\n",
              " 'em',\n",
              " 'vez',\n",
              " 'de',\n",
              " 'herança',\n",
              " 'a',\n",
              " 'excelente',\n",
              " 'resposta',\n",
              " 'aceita',\n",
              " 'diz',\n",
              " 'somente',\n",
              " 'use',\n",
              " 'herança',\n",
              " 'se',\n",
              " 'o',\n",
              " 'subtipo',\n",
              " 'puder',\n",
              " 'perfeitamente',\n",
              " 'substituir',\n",
              " 'o',\n",
              " 'tipo',\n",
              " 'base',\n",
              " 'essa',\n",
              " 'afirmação',\n",
              " 'que',\n",
              " 'considero',\n",
              " 'correta',\n",
              " 'nos',\n",
              " 'leva',\n",
              " 'à',\n",
              " 'consequência',\n",
              " 'lógica',\n",
              " 'que',\n",
              " 'de',\n",
              " 'que',\n",
              " 'o',\n",
              " 'exemplo',\n",
              " 'dos',\n",
              " 'bichos',\n",
              " 'não',\n",
              " 'representa',\n",
              " 'adequadamente',\n",
              " 'o',\n",
              " 'modo',\n",
              " 'como',\n",
              " 'devemos',\n",
              " 'encarar',\n",
              " 'a',\n",
              " 'herança',\n",
              " 'code',\n",
              " 'é',\n",
              " 'um',\n",
              " 'code',\n",
              " 'mas',\n",
              " 'cada',\n",
              " 'code',\n",
              " 'exibe',\n",
              " 'um',\n",
              " 'comportamento',\n",
              " 'muito',\n",
              " 'distinto',\n",
              " 'dos',\n",
              " 'demais',\n",
              " 'code',\n",
              " 'não',\n",
              " 'é',\n",
              " 'exatamente',\n",
              " 'uma',\n",
              " 'especialização',\n",
              " 'de',\n",
              " 'code',\n",
              " 'ou',\n",
              " 'seja',\n",
              " 'um',\n",
              " 'code',\n",
              " 'que',\n",
              " 'tem',\n",
              " 'alguma',\n",
              " 'coisa',\n",
              " 'a',\n",
              " 'mais',\n",
              " 'ele',\n",
              " 'é',\n",
              " 'um',\n",
              " 'tipo',\n",
              " 'único',\n",
              " 'de',\n",
              " 'code',\n",
              " 'que',\n",
              " 'dificilmente',\n",
              " 'pode',\n",
              " 'ser',\n",
              " 'substituído',\n",
              " 'por',\n",
              " 'outro',\n",
              " 'sem',\n",
              " 'impacto',\n",
              " 'como',\n",
              " 'foi',\n",
              " 'explicado',\n",
              " 'na',\n",
              " 'resposta',\n",
              " 'citada',\n",
              " 'usar',\n",
              " 'a',\n",
              " 'herança',\n",
              " 'simplesmente',\n",
              " 'para',\n",
              " 'exibir',\n",
              " 'um',\n",
              " 'comportamento',\n",
              " 'comum',\n",
              " 'ou',\n",
              " 'reaproveitar',\n",
              " 'código',\n",
              " 'não',\n",
              " 'é',\n",
              " 'em',\n",
              " 'geral',\n",
              " 'uma',\n",
              " 'solução',\n",
              " 'adequada',\n",
              " 'para',\n",
              " 'isso',\n",
              " 'existem',\n",
              " 'interfaces',\n",
              " 'e',\n",
              " 'delegação',\n",
              " 'conclusão',\n",
              " 'enfim',\n",
              " 'minha',\n",
              " 'dúvida',\n",
              " 'é',\n",
              " 'existem',\n",
              " 'situações',\n",
              " 'onde',\n",
              " 'seria',\n",
              " 'apropriado',\n",
              " 'usar',\n",
              " 'a',\n",
              " 'herança',\n",
              " 'simplesmente',\n",
              " 'para',\n",
              " 'agrupar',\n",
              " 'objetos',\n",
              " 'com',\n",
              " 'comportamentos',\n",
              " 'e',\n",
              " 'atributos',\n",
              " 'comuns',\n",
              " 'ou',\n",
              " 'ainda',\n",
              " 'para',\n",
              " 'criar',\n",
              " 'hierarquias',\n",
              " 'de',\n",
              " 'objetos',\n",
              " 'que',\n",
              " 'representam',\n",
              " 'a',\n",
              " 'vida',\n",
              " 'real',\n",
              " 'se',\n",
              " 'possível',\n",
              " 'dê',\n",
              " 'um',\n",
              " 'exemplo',\n",
              " 'pergunta',\n",
              " 'bônus',\n",
              " 'será',\n",
              " 'que',\n",
              " 'vale',\n",
              " 'a',\n",
              " 'pena',\n",
              " 'começar',\n",
              " 'a',\n",
              " 'utilizar',\n",
              " 'outros',\n",
              " 'exemplos',\n",
              " 'para',\n",
              " 'herança',\n",
              " 'e',\n",
              " 'não',\n",
              " 'deixar',\n",
              " 'que',\n",
              " 'as',\n",
              " 'pessoas',\n",
              " 'descubram',\n",
              " 'por',\n",
              " 'si',\n",
              " 'mesmas',\n",
              " 'que',\n",
              " 'na',\n",
              " 'prática',\n",
              " 'a',\n",
              " 'coisa',\n",
              " 'não',\n",
              " 'é',\n",
              " 'bem',\n",
              " 'assim',\n",
              " 'atualização',\n",
              " 'considere',\n",
              " 'apropriado',\n",
              " 'ou',\n",
              " 'certo',\n",
              " 'o',\n",
              " 'uso',\n",
              " 'da',\n",
              " 'herança',\n",
              " 'que',\n",
              " 'beneficie',\n",
              " 'o',\n",
              " 'sistema',\n",
              " 'a',\n",
              " 'longo',\n",
              " 'prazo',\n",
              " 'isto',\n",
              " 'é',\n",
              " 'evite',\n",
              " 'problemas',\n",
              " 'de',\n",
              " 'manutenção',\n",
              " 'e',\n",
              " 'evolução',\n",
              " 'do',\n",
              " 'produto',\n",
              " 'por',\n",
              " 'exemplo',\n",
              " 'usar',\n",
              " 'herança',\n",
              " 'para',\n",
              " 'uma',\n",
              " 'hierarquia',\n",
              " 'pode',\n",
              " 'causar',\n",
              " 'um',\n",
              " 'grande',\n",
              " 'problema',\n",
              " 'se',\n",
              " 'os',\n",
              " 'filhos',\n",
              " 'dessa',\n",
              " 'hierarquia',\n",
              " 'passarem',\n",
              " 'a',\n",
              " 'ter',\n",
              " 'características',\n",
              " 'diferentes',\n",
              " 'dos',\n",
              " 'pais',\n",
              " 'e',\n",
              " 'o',\n",
              " 'código',\n",
              " 'polimórfico',\n",
              " 'começar',\n",
              " 'a',\n",
              " 'quebrar',\n",
              " 'ou',\n",
              " 'ficar',\n",
              " 'com',\n",
              " 'vários',\n",
              " 'codes',\n",
              " 'para',\n",
              " 'tratar',\n",
              " 'casos',\n",
              " 'específicos',\n",
              " 'por',\n",
              " 'esmagadora',\n",
              " ...]"
            ]
          },
          "metadata": {},
          "execution_count": 375
        }
      ]
    },
    {
      "cell_type": "markdown",
      "source": [
        "Nice! Now, let's add our fake chars:"
      ],
      "metadata": {
        "id": "2tVpz56Umt5m"
      }
    },
    {
      "cell_type": "code",
      "source": [
        "all_pt_bigrams, vocab_pt = padded_everygram_pipeline(2, all_pt_words)"
      ],
      "metadata": {
        "id": "75ucB1K0msOg"
      },
      "execution_count": 376,
      "outputs": []
    },
    {
      "cell_type": "markdown",
      "source": [
        "Now, let's do a similar thing for the other two languages:"
      ],
      "metadata": {
        "id": "hGTgf9iLniHv"
      }
    },
    {
      "cell_type": "code",
      "source": [
        "X = df_aux2['Q_Treat']\n",
        "y = df_aux2['Language']\n",
        "X_train_en, X_test_en, y_train_en, y_test_en = train_test_split(X, y, test_size = 0.2, stratify = y, random_state = 42)\n",
        "all_en_text = ' '.join(X_train_en)\n",
        "all_en_words = tokenizer.tokenize(all_en_text)\n",
        "all_en_bigrams, vocab_en = padded_everygram_pipeline(2, all_en_words)"
      ],
      "metadata": {
        "id": "Tnjcc9IRnbJf"
      },
      "execution_count": 377,
      "outputs": []
    },
    {
      "cell_type": "code",
      "source": [
        "X = df_aux3['Q_Treat']\n",
        "y = df_aux3['Language']\n",
        "X_train_es, X_test_es, y_train_es, y_test_es = train_test_split(X, y, test_size = 0.2, stratify = y, random_state = 42)\n",
        "all_es_text = ' '.join(X_train_es)\n",
        "all_es_words = tokenizer.tokenize(all_en_text)\n",
        "all_es_bigrams, vocab_es = padded_everygram_pipeline(2, all_es_words)"
      ],
      "metadata": {
        "id": "H72vbyOVnx_P"
      },
      "execution_count": 378,
      "outputs": []
    },
    {
      "cell_type": "markdown",
      "source": [
        "Now, we can fit an MLE model to detect the probability that a given word is from the portuguese language:"
      ],
      "metadata": {
        "id": "LZSiaaV4rz3y"
      }
    },
    {
      "cell_type": "code",
      "source": [
        "model_pt = nltk.lm.MLE(2)\n",
        "model_pt.fit(all_pt_bigrams, vocab_pt)"
      ],
      "metadata": {
        "id": "pekAcEzwn1j9"
      },
      "execution_count": 379,
      "outputs": []
    },
    {
      "cell_type": "markdown",
      "source": [
        "## Perplexity\n",
        "\n",
        "We can evaluate the probability that a given word is from a given language. In our case, this will be represented by the perplexity. For instance:"
      ],
      "metadata": {
        "id": "WwAHXWwRtW-X"
      }
    },
    {
      "cell_type": "code",
      "source": [
        "def GetTransformedWord(word):\n",
        "  return nltk.bigrams(pad_both_ends(word.lower( ), n = 2))"
      ],
      "metadata": {
        "id": "m2J2gCUstlWk"
      },
      "execution_count": 382,
      "outputs": []
    },
    {
      "cell_type": "code",
      "source": [
        "Word = \"Bom\"\n",
        "new_word = GetTransformedWord(Word)\n",
        "model_pt.perplexity(new_word)"
      ],
      "metadata": {
        "colab": {
          "base_uri": "https://localhost:8080/"
        },
        "id": "fsOA4R_CvxR0",
        "outputId": "f7173c8d-3dbd-406a-e47b-01406eafca6d"
      },
      "execution_count": 383,
      "outputs": [
        {
          "output_type": "execute_result",
          "data": {
            "text/plain": [
              "15.06440684750102"
            ]
          },
          "metadata": {},
          "execution_count": 383
        }
      ]
    },
    {
      "cell_type": "markdown",
      "source": [
        "Nice!"
      ],
      "metadata": {
        "id": "pCgu3rakxnn1"
      }
    },
    {
      "cell_type": "markdown",
      "source": [
        "## Obtaining the other models\n",
        "\n",
        "Finally, let's create an user defined function to fit our model. Then, we will create a function to evaluate the perplexity for a given word. Finally, we will create a function to get the perplexity of an entire phrase.\n",
        "\n",
        "Let's start:"
      ],
      "metadata": {
        "id": "B9S6IDDo0uRs"
      }
    },
    {
      "cell_type": "code",
      "source": [
        "def FitMLEModel(X_train):\n",
        "  all_text = ' '.join(X_train)\n",
        "  all_words = tokenizer.tokenize(all_text)\n",
        "  all_bigrams, vocab = padded_everygram_pipeline(2, all_words)\n",
        "\n",
        "  model = MLE(2)\n",
        "  model.fit(all_bigrams, vocab)\n",
        "\n",
        "  return model"
      ],
      "metadata": {
        "id": "-9vqI-OPxskU"
      },
      "execution_count": 407,
      "outputs": []
    },
    {
      "cell_type": "markdown",
      "source": [
        "Now, a function to return the perplexity of a given word:"
      ],
      "metadata": {
        "id": "LCpFbyutyZMt"
      }
    },
    {
      "cell_type": "code",
      "source": [
        "def GetPerplexity(model, word):\n",
        "  word_aux = GetTransformedWord(word)\n",
        "  return model.perplexity(word_aux)"
      ],
      "metadata": {
        "id": "saTUI1RZx--M"
      },
      "execution_count": 387,
      "outputs": []
    },
    {
      "cell_type": "markdown",
      "source": [
        "Let's test with our portuguese model:"
      ],
      "metadata": {
        "id": "pcWPAG4eyrmH"
      }
    },
    {
      "cell_type": "code",
      "source": [
        "model_pt = FitMLEModel(X_train_pt)\n",
        "perp_pt = GetPerplexity(model_pt, \"Bom\")"
      ],
      "metadata": {
        "id": "vV8WYsHIyqf4"
      },
      "execution_count": 388,
      "outputs": []
    },
    {
      "cell_type": "code",
      "source": [
        "perp_pt"
      ],
      "metadata": {
        "colab": {
          "base_uri": "https://localhost:8080/"
        },
        "id": "PDj8SOzZyzE3",
        "outputId": "d2556682-f011-4b48-d523-7e92f9d4bea7"
      },
      "execution_count": 389,
      "outputs": [
        {
          "output_type": "execute_result",
          "data": {
            "text/plain": [
              "15.06440684750102"
            ]
          },
          "metadata": {},
          "execution_count": 389
        }
      ]
    },
    {
      "cell_type": "markdown",
      "source": [
        "Nice! We got the same perplexity. Now, we can create our other models:"
      ],
      "metadata": {
        "id": "TGyrW6jly2hW"
      }
    },
    {
      "cell_type": "code",
      "source": [
        "model_en = FitMLEModel(X_train_en)\n",
        "perp_en = GetPerplexity(model_en, \"Bom\")\n",
        "perp_en"
      ],
      "metadata": {
        "colab": {
          "base_uri": "https://localhost:8080/"
        },
        "id": "r3gTzd5Qy68V",
        "outputId": "af3f80f1-24c6-4292-a16a-8867c220c001"
      },
      "execution_count": 393,
      "outputs": [
        {
          "output_type": "execute_result",
          "data": {
            "text/plain": [
              "13.630990439787295"
            ]
          },
          "metadata": {},
          "execution_count": 393
        }
      ]
    },
    {
      "cell_type": "code",
      "source": [
        "model_es = FitMLEModel(X_train_es)\n",
        "perp_es = GetPerplexity(model_es, \"Bom\")\n",
        "perp_es"
      ],
      "metadata": {
        "colab": {
          "base_uri": "https://localhost:8080/"
        },
        "id": "K3GmeA3czDVH",
        "outputId": "142a782a-dd85-465a-ada6-9e614c8fa764"
      },
      "execution_count": 392,
      "outputs": [
        {
          "output_type": "execute_result",
          "data": {
            "text/plain": [
              "43.13441134592497"
            ]
          },
          "metadata": {},
          "execution_count": 392
        }
      ]
    },
    {
      "cell_type": "markdown",
      "source": [
        "Note that the perplexity for the english model was actually lower! Thus, the model thinks that the word \"Bom\" is from the english language. "
      ],
      "metadata": {
        "id": "4fZATB0azKQ3"
      }
    },
    {
      "cell_type": "markdown",
      "source": [
        "## Perplexity for an entire text\n",
        "\n",
        "Now, let's create a function to obtain the perplexity for an entire phrase:"
      ],
      "metadata": {
        "id": "sk8lC0Hq0yZ7"
      }
    },
    {
      "cell_type": "code",
      "source": [
        "def GetPerplexityText(model, text):\n",
        "  p = 0\n",
        "\n",
        "  words = nltk.tokenize.WhitespaceTokenizer( ).tokenize(text)\n",
        "\n",
        "  for word in words:\n",
        "    p += GetPerplexity(model, word)\n",
        "\n",
        "  return p"
      ],
      "metadata": {
        "id": "rTCHvobqzFIQ"
      },
      "execution_count": 398,
      "outputs": []
    },
    {
      "cell_type": "markdown",
      "source": [
        "Nice! Now, let's get a portuguese text, and check its perplexity:"
      ],
      "metadata": {
        "id": "qd-gvwz7z1tE"
      }
    },
    {
      "cell_type": "code",
      "source": [
        "pt_test = df_aux1.Q_Treat.iloc[0]\n",
        "pt_test"
      ],
      "metadata": {
        "colab": {
          "base_uri": "https://localhost:8080/",
          "height": 105
        },
        "id": "7QB9GlHhzxK1",
        "outputId": "9c34c960-3769-412b-b573-00fa09dc9079"
      },
      "execution_count": 399,
      "outputs": [
        {
          "output_type": "execute_result",
          "data": {
            "text/plain": [
              "'se eu fizer o hash de senhas antes de armazenálas em meu banco de dados é suficiente para evitar que elas sejam recuperadas por alguém estou falando apenas da recuperação diretamente do banco de dados e não qualquer outro tipo de ataque como força bruta na página de login da aplicação keylogger no cliente e criptoanálise rubberhose qualquer forma de hash não vai impedir esses ataques tenho preocupação em dificultar ou até impossibilitar a obtenção das senhas originais caso o banco de dados seja comprometido como dar maior garantia de segurança neste aspecto quais preocupações adicionais evitariam o acesso às senhas existem formas melhores de fazer esse hash '"
            ],
            "application/vnd.google.colaboratory.intrinsic+json": {
              "type": "string"
            }
          },
          "metadata": {},
          "execution_count": 399
        }
      ]
    },
    {
      "cell_type": "code",
      "source": [
        "GetPerplexityText(model_pt, pt_test)"
      ],
      "metadata": {
        "colab": {
          "base_uri": "https://localhost:8080/"
        },
        "id": "mNQn1UgAzzLI",
        "outputId": "2014bf76-a40f-4138-91c6-f06bcd8895d1"
      },
      "execution_count": 402,
      "outputs": [
        {
          "output_type": "execute_result",
          "data": {
            "text/plain": [
              "1201.0271279239876"
            ]
          },
          "metadata": {},
          "execution_count": 402
        }
      ]
    },
    {
      "cell_type": "markdown",
      "source": [
        "Now, let's evaluate the perplexity using our other models:"
      ],
      "metadata": {
        "id": "FEOQpTue0H6o"
      }
    },
    {
      "cell_type": "code",
      "source": [
        "GetPerplexityText(model_en, pt_test)"
      ],
      "metadata": {
        "colab": {
          "base_uri": "https://localhost:8080/"
        },
        "id": "bTGGxLl_0ENW",
        "outputId": "6d289800-1725-474e-fecf-aa1b5dae7de9"
      },
      "execution_count": 403,
      "outputs": [
        {
          "output_type": "execute_result",
          "data": {
            "text/plain": [
              "inf"
            ]
          },
          "metadata": {},
          "execution_count": 403
        }
      ]
    },
    {
      "cell_type": "code",
      "source": [
        "GetPerplexityText(model_es, pt_test)"
      ],
      "metadata": {
        "colab": {
          "base_uri": "https://localhost:8080/"
        },
        "id": "0vQfCdz20K9V",
        "outputId": "5caf69e7-74b8-49d3-ff4b-7c785aa52c0d"
      },
      "execution_count": 404,
      "outputs": [
        {
          "output_type": "execute_result",
          "data": {
            "text/plain": [
              "inf"
            ]
          },
          "metadata": {},
          "execution_count": 404
        }
      ]
    },
    {
      "cell_type": "markdown",
      "source": [
        "Nice! Since the perplexity for the portuguese model was the lowest one, it worked! We were able to guess that the text is from the portuguese language."
      ],
      "metadata": {
        "id": "WmS50VDa0M0M"
      }
    },
    {
      "cell_type": "markdown",
      "source": [
        "## Infinite perplexity\n",
        "\n",
        "Note that, for the text, we actually got an infinite perplexity for the english and spanish language. This means that, according to our model, it is impossible that our text is from the english language. Actually, this is an error of our model: nothing should be impossible, but rather very difficult. However, this occurs because we trained using a limited number of words. \n",
        "\n",
        "What our model essentially do is check the set of bigrams, and evaluate the probability that those sets of biagram exist in the language. However, if the model does not see a given bigram, it we think that the probability of it happening is null. Thus, the perplexity is infinite!\n",
        "\n",
        "To solve this, we can use different models, such as the Laplace model."
      ],
      "metadata": {
        "id": "2kqQNEHK011K"
      }
    },
    {
      "cell_type": "markdown",
      "source": [
        "# Laplace model\n",
        "\n",
        "To solve the infinite perplexity problem, we should simply make it impossible to have a probability of zero. To do so, we can use a Laplace smoothing. Thus, let's try to use it:"
      ],
      "metadata": {
        "id": "pbWJrOpo18RG"
      }
    },
    {
      "cell_type": "code",
      "source": [
        "def FitLaplaceModel(X_train):\n",
        "  all_text = ' '.join(X_train)\n",
        "  all_words = tokenizer.tokenize(all_text)\n",
        "  all_bigrams, vocab = padded_everygram_pipeline(2, all_words)\n",
        "\n",
        "  model = Laplace(2)\n",
        "  model.fit(all_bigrams, vocab)\n",
        "\n",
        "  return model"
      ],
      "metadata": {
        "id": "GzmQfLyM0MFr"
      },
      "execution_count": 408,
      "outputs": []
    },
    {
      "cell_type": "markdown",
      "source": [
        "Nice! Now, let's fit all of our models, and evaluate their perplexity again:"
      ],
      "metadata": {
        "id": "2vuvk-Il3o3s"
      }
    },
    {
      "cell_type": "code",
      "source": [
        "model_pt = FitLaplaceModel(X_train_pt)\n",
        "model_en = FitLaplaceModel(X_train_en)\n",
        "model_es = FitLaplaceModel(X_train_es)"
      ],
      "metadata": {
        "id": "myd4ai5j3oWk"
      },
      "execution_count": 409,
      "outputs": []
    },
    {
      "cell_type": "code",
      "source": [
        "GetPerplexityText(model_pt, pt_test)"
      ],
      "metadata": {
        "colab": {
          "base_uri": "https://localhost:8080/"
        },
        "id": "VeC_yShK30Af",
        "outputId": "295a8403-e650-4541-fc9d-490671250a55"
      },
      "execution_count": 410,
      "outputs": [
        {
          "output_type": "execute_result",
          "data": {
            "text/plain": [
              "1203.1552501461438"
            ]
          },
          "metadata": {},
          "execution_count": 410
        }
      ]
    },
    {
      "cell_type": "code",
      "source": [
        "GetPerplexityText(model_en, pt_test)"
      ],
      "metadata": {
        "colab": {
          "base_uri": "https://localhost:8080/"
        },
        "id": "e4pDoBcB353U",
        "outputId": "d9e7041f-b9e0-49b5-c0d9-815278880bcc"
      },
      "execution_count": 411,
      "outputs": [
        {
          "output_type": "execute_result",
          "data": {
            "text/plain": [
              "3159.7754120899795"
            ]
          },
          "metadata": {},
          "execution_count": 411
        }
      ]
    },
    {
      "cell_type": "code",
      "source": [
        "GetPerplexityText(model_es, pt_test)"
      ],
      "metadata": {
        "colab": {
          "base_uri": "https://localhost:8080/"
        },
        "id": "BlDzdMWM37I-",
        "outputId": "9446b94e-1043-4ba6-fcc2-84b921894bca"
      },
      "execution_count": 412,
      "outputs": [
        {
          "output_type": "execute_result",
          "data": {
            "text/plain": [
              "2173.2287167447803"
            ]
          },
          "metadata": {},
          "execution_count": 412
        }
      ]
    },
    {
      "cell_type": "markdown",
      "source": [
        "Nice! Now, due to our smoothing, we didn't get an infinite perplexity and, still, our portuguese model showed the lowest perplexity. "
      ],
      "metadata": {
        "id": "CiRLODFU38xh"
      }
    },
    {
      "cell_type": "markdown",
      "source": [
        "# Obtaining the language of our text\n",
        "\n",
        "Let's define a function that returns the language for a given text:"
      ],
      "metadata": {
        "id": "OioQvyWu7pkV"
      }
    },
    {
      "cell_type": "code",
      "source": [
        "def GetLanguage(text):\n",
        "  language = \"\"\n",
        "\n",
        "  perp_pt = GetPerplexityText(model_pt, text)\n",
        "  perp_en = GetPerplexityText(model_en, text)\n",
        "  perp_es = GetPerplexityText(model_es, text)\n",
        "\n",
        "  perp_array = np.array([perp_pt, perp_en, perp_es])\n",
        "  min_ind = np.argmin(perp_array)\n",
        "\n",
        "  if min_ind == 0:\n",
        "    language = \"PT\"\n",
        "  elif min_ind == 1:\n",
        "    language = \"EN\"\n",
        "  elif min_ind == 2:\n",
        "    language = \"ES\"\n",
        "  else:\n",
        "    language = \"ERROR\"\n",
        "\n",
        "  return language"
      ],
      "metadata": {
        "id": "r2zeD6eO4jaC"
      },
      "execution_count": 443,
      "outputs": []
    },
    {
      "cell_type": "markdown",
      "source": [
        "Let's test this function:"
      ],
      "metadata": {
        "id": "DEF7nPwx5UlC"
      }
    },
    {
      "cell_type": "code",
      "source": [
        "GetLanguage(df_aux1.Q_Treat.iloc[2])"
      ],
      "metadata": {
        "colab": {
          "base_uri": "https://localhost:8080/",
          "height": 36
        },
        "id": "PCeHBi-R4-Lm",
        "outputId": "74e767d8-6612-4c84-d3aa-0f3e3baa200d"
      },
      "execution_count": 444,
      "outputs": [
        {
          "output_type": "execute_result",
          "data": {
            "text/plain": [
              "'PT'"
            ],
            "application/vnd.google.colaboratory.intrinsic+json": {
              "type": "string"
            }
          },
          "metadata": {},
          "execution_count": 444
        }
      ]
    },
    {
      "cell_type": "markdown",
      "source": [
        "Nice! Now, let's test our language detection algorithm in our test data:"
      ],
      "metadata": {
        "id": "Y220MU2e5ZE0"
      }
    },
    {
      "cell_type": "code",
      "source": [
        "df_aux1[\"Detected\"] = df_aux1.Q_Treat.apply(GetLanguage)"
      ],
      "metadata": {
        "id": "w24iiNxC5YL3"
      },
      "execution_count": 445,
      "outputs": []
    },
    {
      "cell_type": "markdown",
      "source": [
        "Let's see our results:"
      ],
      "metadata": {
        "id": "WWRT-3Nm5ofU"
      }
    },
    {
      "cell_type": "code",
      "source": [
        "df_aux1.Detected.value_counts( )"
      ],
      "metadata": {
        "colab": {
          "base_uri": "https://localhost:8080/"
        },
        "id": "Lsedv1cK5gkO",
        "outputId": "93944934-9c4b-4c7f-bad2-f4e2d6a8d44b"
      },
      "execution_count": 446,
      "outputs": [
        {
          "output_type": "execute_result",
          "data": {
            "text/plain": [
              "PT    497\n",
              "ES      2\n",
              "EN      1\n",
              "Name: Detected, dtype: int64"
            ]
          },
          "metadata": {},
          "execution_count": 446
        }
      ]
    },
    {
      "cell_type": "markdown",
      "source": [
        "So, we only missed 3 entries here. We can get the accuracy from:"
      ],
      "metadata": {
        "id": "Pc7iz7Kt6ivT"
      }
    },
    {
      "cell_type": "code",
      "source": [
        "acc = sum(df_aux1.Detected == df_aux1.Language)/len(df_aux1)*100\n",
        "print(\"Accuracy: {:.2f}%\".format(acc))"
      ],
      "metadata": {
        "colab": {
          "base_uri": "https://localhost:8080/"
        },
        "id": "7OLLM5Iz6nWF",
        "outputId": "aaba8920-ad5c-4351-f997-10edee674170"
      },
      "execution_count": 451,
      "outputs": [
        {
          "output_type": "stream",
          "name": "stdout",
          "text": [
            "Accuracy: 99.40%\n"
          ]
        }
      ]
    },
    {
      "cell_type": "markdown",
      "source": [
        "Let's define a function to get this:"
      ],
      "metadata": {
        "id": "iVP6OSds62GJ"
      }
    },
    {
      "cell_type": "code",
      "source": [
        "def GetModelAccuracy(df):\n",
        "  df_new = df.copy( )\n",
        "  df_new[\"Detected\"] = df_new.Q_Treat.apply(GetLanguage)\n",
        "  acc = sum(df_new.Detected == df_new.Language)/len(df_new)*100\n",
        "  return df_new, acc"
      ],
      "metadata": {
        "id": "-jPZjLdy636E"
      },
      "execution_count": 455,
      "outputs": []
    },
    {
      "cell_type": "markdown",
      "source": [
        "Now, we can evaluate the accuracy for the other two datasets:"
      ],
      "metadata": {
        "id": "sgSjVVam7GZf"
      }
    },
    {
      "cell_type": "code",
      "source": [
        "# English\n",
        "df_aux2, acc = GetModelAccuracy(df_aux2)\n",
        "print(\"Accuracy: {:.2f}%\".format(acc))"
      ],
      "metadata": {
        "colab": {
          "base_uri": "https://localhost:8080/"
        },
        "id": "hKG5Wb2u5trF",
        "outputId": "ec4a3e6c-2003-48d6-87cb-be2c72b332d0"
      },
      "execution_count": 456,
      "outputs": [
        {
          "output_type": "stream",
          "name": "stdout",
          "text": [
            "Accuracy: 100.00%\n"
          ]
        }
      ]
    },
    {
      "cell_type": "code",
      "source": [
        "# Spanish\n",
        "df_aux3, acc = GetModelAccuracy(df_aux3)\n",
        "print(\"Accuracy: {:.2f}%\".format(acc))"
      ],
      "metadata": {
        "colab": {
          "base_uri": "https://localhost:8080/"
        },
        "id": "OD2_XxVC5rjV",
        "outputId": "f85b4bef-2c35-456f-a8fa-76c348dd0108"
      },
      "execution_count": 457,
      "outputs": [
        {
          "output_type": "stream",
          "name": "stdout",
          "text": [
            "Accuracy: 99.00%\n"
          ]
        }
      ]
    },
    {
      "cell_type": "markdown",
      "source": [
        "So, we got a 100% accuracy in the english dataset, and a 99% accuracy in the spanish dataset. Nice!"
      ],
      "metadata": {
        "id": "KIgGgUdh7flO"
      }
    }
  ]
}