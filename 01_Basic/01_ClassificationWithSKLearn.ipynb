{
  "nbformat": 4,
  "nbformat_minor": 0,
  "metadata": {
    "colab": {
      "name": "01_ClassificationWithSKLearn.ipynb",
      "provenance": [],
      "collapsed_sections": [],
      "toc_visible": true,
      "authorship_tag": "ABX9TyO4NG7I2c5iAG5MFoMKFIyo",
      "include_colab_link": true
    },
    "kernelspec": {
      "name": "python3",
      "display_name": "Python 3"
    },
    "language_info": {
      "name": "python"
    }
  },
  "cells": [
    {
      "cell_type": "markdown",
      "metadata": {
        "id": "view-in-github",
        "colab_type": "text"
      },
      "source": [
        "<a href=\"https://colab.research.google.com/github/LeonardoGoncRibeiro/06_MachineLearning/blob/main/01_Basic/01_ClassificationWithSKLearn.ipynb\" target=\"_parent\"><img src=\"https://colab.research.google.com/assets/colab-badge.svg\" alt=\"Open In Colab\"/></a>"
      ]
    },
    {
      "cell_type": "markdown",
      "source": [
        "# Classification using Sci-kit Learn\n",
        "\n",
        "In this course, we will learn how to perform classification using the Sci-kit Learn package from Python. Here, we will work with different examples for classification methods, using different datasets. In this course, we will use the following packages:"
      ],
      "metadata": {
        "id": "wDCYGm1m8Ulu"
      }
    },
    {
      "cell_type": "code",
      "source": [
        "# Packages\n",
        "\n",
        "import numpy as np                                               # N-dimensional array manipulation\n",
        "import pandas as pd                                              # Data manipulation\n",
        "from datetime import datetime                                    # Manipulation of datetime features\n",
        "\n",
        "from sklearn.model_selection import train_test_split             # Split data into training and testing sets\n",
        "from sklearn.preprocessing import StandardScaler                 # Normalization of the explicative features (standard scaler)\n",
        "\n",
        "from sklearn.dummy import DummyClassifier                        # Dummy classification algorithm\n",
        "from sklearn.svm import LinearSVC                                # Simple classification algorithm (Linear Support Vector Classification)\n",
        "from sklearn.svm import SVC                                      # Support Vector Classification algorithm (generalized)\n",
        "from sklearn.tree import DecisionTreeClassifier                  # Decision tree classification algorithm\n",
        "\n",
        "from sklearn.metrics import accuracy_score                       # Accuracy score metric\n",
        "\n",
        "import matplotlib.pyplot as plt                                  # Data visualization\n",
        "import seaborn as sns                                            # Data visualization\n",
        "from sklearn.tree import export_graphviz                         # Visualization of the decision tree\n",
        "import graphviz                                                  # Graphviz package for visualizing the decision tree"
      ],
      "metadata": {
        "id": "bmyUC4EI_Xtc"
      },
      "execution_count": 197,
      "outputs": []
    },
    {
      "cell_type": "markdown",
      "source": [
        "# Example 01: Basic classification\n",
        "\n",
        "First, we will present a very simple example: our algorithm should identify if something is a dog or a pig. Usually, we assign a number to each class, so it becomes easier for the computer to work with them. Thus, we can say that:\n",
        "\n",
        "*   Dog: Class 0\n",
        "*   Pig: Class 1\n",
        "\n",
        "Nice! Now, to teach our algorithm about this classification, we first have to \"show\" to our machine some pigs and dogs, and define some characteristics for them. For instance, we can state whether they have:\n",
        "\n",
        "*   Long pelage;\n",
        "*   Short legs;\n",
        "*   If it makes a dog sound.\n",
        "\n",
        "These caractheristics, or features ($\\mathbf{x}$), will help the model to perform our classification, which means that they will help to define which class our entry ($y$) belongs to. \n",
        "\n",
        "So, for instance, let's create some animals with their respective charactheristics:\n"
      ],
      "metadata": {
        "id": "kFFYIJtt9Cyl"
      }
    },
    {
      "cell_type": "code",
      "execution_count": 8,
      "metadata": {
        "id": "tT_LRiEm8Cvx"
      },
      "outputs": [],
      "source": [
        "# Features:\n",
        "# Long pelage? | Short legs? | It makes a dog sound?\n",
        "\n",
        "pig1 = [0, 1, 0]\n",
        "pig2 = [0, 1, 1]\n",
        "pig3 = [1, 1, 0]\n",
        "\n",
        "dog1 = [0, 0, 1]\n",
        "dog2 = [1, 0, 1]\n",
        "dog3 = [1, 1, 1]\n",
        "\n",
        "features = [pig1, pig2, pig3, dog1, dog2, dog3]\n",
        "\n",
        "# Classes\n",
        "# 0: Pig | 1: Dog\n",
        "\n",
        "classes = [1, 1, 1, 0, 0, 0]"
      ]
    },
    {
      "cell_type": "markdown",
      "source": [
        "Since we have some features and some classes, we can fit a classification model. Here, we will use a very simple algorithm, the linear Support Vector Classification:"
      ],
      "metadata": {
        "id": "8Rw4KXd-ApBj"
      }
    },
    {
      "cell_type": "code",
      "source": [
        "model = LinearSVC( )\n",
        "model.fit(features, classes)"
      ],
      "metadata": {
        "colab": {
          "base_uri": "https://localhost:8080/"
        },
        "id": "yLWHQpwrAJNd",
        "outputId": "43f67e95-1a39-47ad-da52-381b85ba5f7e"
      },
      "execution_count": 9,
      "outputs": [
        {
          "output_type": "execute_result",
          "data": {
            "text/plain": [
              "LinearSVC()"
            ]
          },
          "metadata": {},
          "execution_count": 9
        }
      ]
    },
    {
      "cell_type": "markdown",
      "source": [
        "Now, let's predict whether a new animal is a pig or a dog. This new animal has long pelage, has short legs, and makes a dog sound. Thus:"
      ],
      "metadata": {
        "id": "Z2ud2C17A3NS"
      }
    },
    {
      "cell_type": "code",
      "source": [
        "new_animal = [1, 1, 1]\n",
        "model.predict([new_animal])[0]"
      ],
      "metadata": {
        "colab": {
          "base_uri": "https://localhost:8080/"
        },
        "id": "mOpTmGm8AzC7",
        "outputId": "542d8b68-c96c-4113-87aa-f70986d5eae9"
      },
      "execution_count": 10,
      "outputs": [
        {
          "output_type": "execute_result",
          "data": {
            "text/plain": [
              "0"
            ]
          },
          "metadata": {},
          "execution_count": 10
        }
      ]
    },
    {
      "cell_type": "markdown",
      "source": [
        "So, it seems that our new animal is a dog (class 0)! We can also perform classification for multiple animals:"
      ],
      "metadata": {
        "id": "83153jkXBQFz"
      }
    },
    {
      "cell_type": "code",
      "source": [
        "animal1 = [1, 1, 1]\n",
        "animal2 = [1, 1, 0]\n",
        "animal3 = [0, 1, 1]\n",
        "\n",
        "test = [animal1, animal2, animal3]\n",
        "\n",
        "y_pred = model.predict(test)\n",
        "\n",
        "y_pred"
      ],
      "metadata": {
        "colab": {
          "base_uri": "https://localhost:8080/"
        },
        "id": "p3TsDoSyBDDG",
        "outputId": "bdacae7a-2001-4df5-9bfd-12f5dde8291b"
      },
      "execution_count": 12,
      "outputs": [
        {
          "output_type": "execute_result",
          "data": {
            "text/plain": [
              "array([0, 1, 1])"
            ]
          },
          "metadata": {},
          "execution_count": 12
        }
      ]
    },
    {
      "cell_type": "markdown",
      "source": [
        "Usually, a test set is used to compare the result of a model with other known results. Note that these three new animals were actually taken from the initial dataset, and their correct labels were:"
      ],
      "metadata": {
        "id": "87IhGsiAB5y0"
      }
    },
    {
      "cell_type": "code",
      "source": [
        "y_test = [0, 1, 1]\n",
        "y_test"
      ],
      "metadata": {
        "colab": {
          "base_uri": "https://localhost:8080/"
        },
        "id": "YQtvi-DJBk_e",
        "outputId": "f8eecfb8-eac9-4f09-c789-286886b9d9e2"
      },
      "execution_count": 13,
      "outputs": [
        {
          "output_type": "execute_result",
          "data": {
            "text/plain": [
              "[0, 1, 1]"
            ]
          },
          "metadata": {},
          "execution_count": 13
        }
      ]
    },
    {
      "cell_type": "markdown",
      "source": [
        "We can compare these two using:"
      ],
      "metadata": {
        "id": "MAzy_MLsCasK"
      }
    },
    {
      "cell_type": "code",
      "source": [
        "y_pred == y_test"
      ],
      "metadata": {
        "colab": {
          "base_uri": "https://localhost:8080/"
        },
        "id": "XKHkD9VXCJTB",
        "outputId": "e7248a58-384f-46e5-de35-c56364cf633b"
      },
      "execution_count": 14,
      "outputs": [
        {
          "output_type": "execute_result",
          "data": {
            "text/plain": [
              "array([ True,  True,  True])"
            ]
          },
          "metadata": {},
          "execution_count": 14
        }
      ]
    },
    {
      "cell_type": "markdown",
      "source": [
        "So, all of our predictions were correct! When we have many test entries, we usually consider a given metric. Thus, we can evaluate the accuracy of our model by:"
      ],
      "metadata": {
        "id": "jaSNNofNCfLa"
      }
    },
    {
      "cell_type": "code",
      "source": [
        "is_pred_correct = y_pred == y_test\n",
        "acc = is_pred_correct.sum( )/len(is_pred_correct)\n",
        "\n",
        "print(\"Accuracy: {:.2f} %\".format(acc*100))"
      ],
      "metadata": {
        "colab": {
          "base_uri": "https://localhost:8080/"
        },
        "id": "lyB86FONCejM",
        "outputId": "1beaf403-c55e-4b5c-a188-11401ab29d6e"
      },
      "execution_count": 30,
      "outputs": [
        {
          "output_type": "stream",
          "name": "stdout",
          "text": [
            "Accuracy: 100.00 %\n"
          ]
        }
      ]
    },
    {
      "cell_type": "markdown",
      "source": [
        "We can also evaluate the accuracy simply using:"
      ],
      "metadata": {
        "id": "RPPHLx70Db1s"
      }
    },
    {
      "cell_type": "code",
      "source": [
        "acc = accuracy_score(y_pred, y_test)\n",
        "\n",
        "print(\"Accuracy: {:.2f} %\".format(acc*100))"
      ],
      "metadata": {
        "colab": {
          "base_uri": "https://localhost:8080/"
        },
        "id": "2Oz9OwyrC_bu",
        "outputId": "2a02aa6a-37e7-4efa-fee8-b941b94da083"
      },
      "execution_count": 31,
      "outputs": [
        {
          "output_type": "stream",
          "name": "stdout",
          "text": [
            "Accuracy: 100.00 %\n"
          ]
        }
      ]
    },
    {
      "cell_type": "markdown",
      "source": [
        "# Example 02: Using classification for a \"real' problem\n",
        "\n",
        "Now, we will work with another dataset, about users who acessed a given site. Since now we have a much bigger dataset, we will import it from an external file:"
      ],
      "metadata": {
        "id": "mtpzR0tdJH6w"
      }
    },
    {
      "cell_type": "code",
      "source": [
        "df = pd.read_csv('https://gist.githubusercontent.com/guilhermesilveira/2d2efa37d66b6c84a722ea627a897ced/raw/10968b997d885cbded1c92938c7a9912ba41c615/tracking.csv')"
      ],
      "metadata": {
        "id": "nR693DrgDpVr"
      },
      "execution_count": 33,
      "outputs": []
    },
    {
      "cell_type": "markdown",
      "source": [
        "Let's see the header of our dataset and the first 5 rows:"
      ],
      "metadata": {
        "id": "t7XyEu5vJpSp"
      }
    },
    {
      "cell_type": "code",
      "source": [
        "df.head( )"
      ],
      "metadata": {
        "colab": {
          "base_uri": "https://localhost:8080/",
          "height": 206
        },
        "id": "KaihvzaKJlPe",
        "outputId": "9b96de54-1444-47a5-e695-a5c72935e810"
      },
      "execution_count": 35,
      "outputs": [
        {
          "output_type": "execute_result",
          "data": {
            "text/plain": [
              "   home  how_it_works  contact  bought\n",
              "0     1             1        0       0\n",
              "1     1             1        0       0\n",
              "2     1             1        0       0\n",
              "3     1             1        0       0\n",
              "4     1             1        0       0"
            ],
            "text/html": [
              "\n",
              "  <div id=\"df-9a4087ff-3813-485f-9c1e-65ee18d3e5be\">\n",
              "    <div class=\"colab-df-container\">\n",
              "      <div>\n",
              "<style scoped>\n",
              "    .dataframe tbody tr th:only-of-type {\n",
              "        vertical-align: middle;\n",
              "    }\n",
              "\n",
              "    .dataframe tbody tr th {\n",
              "        vertical-align: top;\n",
              "    }\n",
              "\n",
              "    .dataframe thead th {\n",
              "        text-align: right;\n",
              "    }\n",
              "</style>\n",
              "<table border=\"1\" class=\"dataframe\">\n",
              "  <thead>\n",
              "    <tr style=\"text-align: right;\">\n",
              "      <th></th>\n",
              "      <th>home</th>\n",
              "      <th>how_it_works</th>\n",
              "      <th>contact</th>\n",
              "      <th>bought</th>\n",
              "    </tr>\n",
              "  </thead>\n",
              "  <tbody>\n",
              "    <tr>\n",
              "      <th>0</th>\n",
              "      <td>1</td>\n",
              "      <td>1</td>\n",
              "      <td>0</td>\n",
              "      <td>0</td>\n",
              "    </tr>\n",
              "    <tr>\n",
              "      <th>1</th>\n",
              "      <td>1</td>\n",
              "      <td>1</td>\n",
              "      <td>0</td>\n",
              "      <td>0</td>\n",
              "    </tr>\n",
              "    <tr>\n",
              "      <th>2</th>\n",
              "      <td>1</td>\n",
              "      <td>1</td>\n",
              "      <td>0</td>\n",
              "      <td>0</td>\n",
              "    </tr>\n",
              "    <tr>\n",
              "      <th>3</th>\n",
              "      <td>1</td>\n",
              "      <td>1</td>\n",
              "      <td>0</td>\n",
              "      <td>0</td>\n",
              "    </tr>\n",
              "    <tr>\n",
              "      <th>4</th>\n",
              "      <td>1</td>\n",
              "      <td>1</td>\n",
              "      <td>0</td>\n",
              "      <td>0</td>\n",
              "    </tr>\n",
              "  </tbody>\n",
              "</table>\n",
              "</div>\n",
              "      <button class=\"colab-df-convert\" onclick=\"convertToInteractive('df-9a4087ff-3813-485f-9c1e-65ee18d3e5be')\"\n",
              "              title=\"Convert this dataframe to an interactive table.\"\n",
              "              style=\"display:none;\">\n",
              "        \n",
              "  <svg xmlns=\"http://www.w3.org/2000/svg\" height=\"24px\"viewBox=\"0 0 24 24\"\n",
              "       width=\"24px\">\n",
              "    <path d=\"M0 0h24v24H0V0z\" fill=\"none\"/>\n",
              "    <path d=\"M18.56 5.44l.94 2.06.94-2.06 2.06-.94-2.06-.94-.94-2.06-.94 2.06-2.06.94zm-11 1L8.5 8.5l.94-2.06 2.06-.94-2.06-.94L8.5 2.5l-.94 2.06-2.06.94zm10 10l.94 2.06.94-2.06 2.06-.94-2.06-.94-.94-2.06-.94 2.06-2.06.94z\"/><path d=\"M17.41 7.96l-1.37-1.37c-.4-.4-.92-.59-1.43-.59-.52 0-1.04.2-1.43.59L10.3 9.45l-7.72 7.72c-.78.78-.78 2.05 0 2.83L4 21.41c.39.39.9.59 1.41.59.51 0 1.02-.2 1.41-.59l7.78-7.78 2.81-2.81c.8-.78.8-2.07 0-2.86zM5.41 20L4 18.59l7.72-7.72 1.47 1.35L5.41 20z\"/>\n",
              "  </svg>\n",
              "      </button>\n",
              "      \n",
              "  <style>\n",
              "    .colab-df-container {\n",
              "      display:flex;\n",
              "      flex-wrap:wrap;\n",
              "      gap: 12px;\n",
              "    }\n",
              "\n",
              "    .colab-df-convert {\n",
              "      background-color: #E8F0FE;\n",
              "      border: none;\n",
              "      border-radius: 50%;\n",
              "      cursor: pointer;\n",
              "      display: none;\n",
              "      fill: #1967D2;\n",
              "      height: 32px;\n",
              "      padding: 0 0 0 0;\n",
              "      width: 32px;\n",
              "    }\n",
              "\n",
              "    .colab-df-convert:hover {\n",
              "      background-color: #E2EBFA;\n",
              "      box-shadow: 0px 1px 2px rgba(60, 64, 67, 0.3), 0px 1px 3px 1px rgba(60, 64, 67, 0.15);\n",
              "      fill: #174EA6;\n",
              "    }\n",
              "\n",
              "    [theme=dark] .colab-df-convert {\n",
              "      background-color: #3B4455;\n",
              "      fill: #D2E3FC;\n",
              "    }\n",
              "\n",
              "    [theme=dark] .colab-df-convert:hover {\n",
              "      background-color: #434B5C;\n",
              "      box-shadow: 0px 1px 3px 1px rgba(0, 0, 0, 0.15);\n",
              "      filter: drop-shadow(0px 1px 2px rgba(0, 0, 0, 0.3));\n",
              "      fill: #FFFFFF;\n",
              "    }\n",
              "  </style>\n",
              "\n",
              "      <script>\n",
              "        const buttonEl =\n",
              "          document.querySelector('#df-9a4087ff-3813-485f-9c1e-65ee18d3e5be button.colab-df-convert');\n",
              "        buttonEl.style.display =\n",
              "          google.colab.kernel.accessAllowed ? 'block' : 'none';\n",
              "\n",
              "        async function convertToInteractive(key) {\n",
              "          const element = document.querySelector('#df-9a4087ff-3813-485f-9c1e-65ee18d3e5be');\n",
              "          const dataTable =\n",
              "            await google.colab.kernel.invokeFunction('convertToInteractive',\n",
              "                                                     [key], {});\n",
              "          if (!dataTable) return;\n",
              "\n",
              "          const docLinkHtml = 'Like what you see? Visit the ' +\n",
              "            '<a target=\"_blank\" href=https://colab.research.google.com/notebooks/data_table.ipynb>data table notebook</a>'\n",
              "            + ' to learn more about interactive tables.';\n",
              "          element.innerHTML = '';\n",
              "          dataTable['output_type'] = 'display_data';\n",
              "          await google.colab.output.renderOutput(dataTable, element);\n",
              "          const docLink = document.createElement('div');\n",
              "          docLink.innerHTML = docLinkHtml;\n",
              "          element.appendChild(docLink);\n",
              "        }\n",
              "      </script>\n",
              "    </div>\n",
              "  </div>\n",
              "  "
            ]
          },
          "metadata": {},
          "execution_count": 35
        }
      ]
    },
    {
      "cell_type": "markdown",
      "source": [
        "Here we have information about:\n",
        "\n",
        "*   Whether the users acessed the home of our website;\n",
        "*   Whether the users acessed the 'how it works' page of our website;\n",
        "*   Whether the users acessed the 'contact' page of our website;\n",
        "*   Whether the users bought an item on our website.\n",
        "\n",
        "Here, our target feature (what we want to predict) is the feature **bought**. Thus, let's separate our data:\n",
        "\n"
      ],
      "metadata": {
        "id": "R9wECXQeJxzP"
      }
    },
    {
      "cell_type": "code",
      "source": [
        "y = df.bought                       # Target feature\n",
        "X = df.drop('bought', axis = 1)     # Explicative features"
      ],
      "metadata": {
        "id": "lylvPpV9JmZ4"
      },
      "execution_count": 38,
      "outputs": []
    },
    {
      "cell_type": "markdown",
      "source": [
        "It is not in the best practices to use the **entire** dataset for training, because then we will have to use some samples used for training in the testing of our model. Thus, we usually perform a split between training and testing sets:"
      ],
      "metadata": {
        "id": "sJlcWxqGK0On"
      }
    },
    {
      "cell_type": "code",
      "source": [
        "SEED = 42\n",
        "\n",
        "X_train, X_test, y_train, y_test = train_test_split(X, y, test_size = 0.25, random_state = SEED)"
      ],
      "metadata": {
        "id": "bQpkeNiVKRUT"
      },
      "execution_count": 40,
      "outputs": []
    },
    {
      "cell_type": "markdown",
      "source": [
        "Finally, let's fit our model using the Linear SVC model:"
      ],
      "metadata": {
        "id": "nVaZk_6yLwMn"
      }
    },
    {
      "cell_type": "code",
      "source": [
        "model = LinearSVC( )\n",
        "model.fit(X_train, y_train)"
      ],
      "metadata": {
        "colab": {
          "base_uri": "https://localhost:8080/"
        },
        "id": "mTbxG4v1LsR4",
        "outputId": "40ec5a4a-3b22-4d01-efbc-b730ea15af9a"
      },
      "execution_count": 44,
      "outputs": [
        {
          "output_type": "execute_result",
          "data": {
            "text/plain": [
              "LinearSVC()"
            ]
          },
          "metadata": {},
          "execution_count": 44
        }
      ]
    },
    {
      "cell_type": "markdown",
      "source": [
        "Now, let's get the accuracy in our test set:"
      ],
      "metadata": {
        "id": "x8ta_itfL4W2"
      }
    },
    {
      "cell_type": "code",
      "source": [
        "y_pred = model.predict(X_test)\n",
        "\n",
        "acc = accuracy_score(y_test, y_pred)\n",
        "\n",
        "print(\"Accuracy: {:.2f}%\".format(acc*100))"
      ],
      "metadata": {
        "colab": {
          "base_uri": "https://localhost:8080/"
        },
        "id": "rFY27aUWL3rG",
        "outputId": "d0ce7539-f423-4431-f77f-86ffacd5aa8e"
      },
      "execution_count": 49,
      "outputs": [
        {
          "output_type": "stream",
          "name": "stdout",
          "text": [
            "Accuracy: 96.00%\n"
          ]
        }
      ]
    },
    {
      "cell_type": "markdown",
      "source": [
        "## Understanding more about our dataset\n",
        "\n",
        "Let's understand more about our dataset. First, let's see how many entries we have for each target value:"
      ],
      "metadata": {
        "id": "W_3aeun8RyWe"
      }
    },
    {
      "cell_type": "code",
      "source": [
        "df.bought.value_counts( )"
      ],
      "metadata": {
        "colab": {
          "base_uri": "https://localhost:8080/"
        },
        "id": "Mb9ggV-TMAex",
        "outputId": "1b14e35a-b554-491c-c14b-1125603c5ca0"
      },
      "execution_count": 50,
      "outputs": [
        {
          "output_type": "execute_result",
          "data": {
            "text/plain": [
              "0    66\n",
              "1    33\n",
              "Name: bought, dtype: int64"
            ]
          },
          "metadata": {},
          "execution_count": 50
        }
      ]
    },
    {
      "cell_type": "markdown",
      "source": [
        "So, we have 66 entries who did not bought, and 33 who bought from our site. The ratio $n_0/n_1 = 2.0$. This means that our dataset is **not balanced**, which may affect the performance of our model. Let's also see the ratio in our training and testing sets:"
      ],
      "metadata": {
        "id": "RH7BoRXUR-cM"
      }
    },
    {
      "cell_type": "code",
      "source": [
        "y_train.value_counts( )"
      ],
      "metadata": {
        "colab": {
          "base_uri": "https://localhost:8080/"
        },
        "id": "tW4AkFEAR9Lh",
        "outputId": "99378c44-2c6f-41f2-a237-4ec7ab2f211b"
      },
      "execution_count": 58,
      "outputs": [
        {
          "output_type": "execute_result",
          "data": {
            "text/plain": [
              "0    50\n",
              "1    24\n",
              "Name: bought, dtype: int64"
            ]
          },
          "metadata": {},
          "execution_count": 58
        }
      ]
    },
    {
      "cell_type": "code",
      "source": [
        "y_test.value_counts( )"
      ],
      "metadata": {
        "colab": {
          "base_uri": "https://localhost:8080/"
        },
        "id": "LkxxPN8USS2l",
        "outputId": "db57bf03-da04-44b6-8f5d-a687cfa51ff1"
      },
      "execution_count": 59,
      "outputs": [
        {
          "output_type": "execute_result",
          "data": {
            "text/plain": [
              "0    16\n",
              "1     9\n",
              "Name: bought, dtype: int64"
            ]
          },
          "metadata": {},
          "execution_count": 59
        }
      ]
    },
    {
      "cell_type": "markdown",
      "source": [
        "So, the ratio in our training set is 2.08, while the ratio in the test set is 1.78. "
      ],
      "metadata": {
        "id": "AV2wFBXDSp-A"
      }
    },
    {
      "cell_type": "code",
      "source": [
        "50/24"
      ],
      "metadata": {
        "colab": {
          "base_uri": "https://localhost:8080/"
        },
        "id": "JzSn1g6jSm2r",
        "outputId": "079f178f-f5f0-4b40-b871-8e75b422ca54"
      },
      "execution_count": 60,
      "outputs": [
        {
          "output_type": "execute_result",
          "data": {
            "text/plain": [
              "2.0833333333333335"
            ]
          },
          "metadata": {},
          "execution_count": 60
        }
      ]
    },
    {
      "cell_type": "code",
      "source": [
        "16/9"
      ],
      "metadata": {
        "colab": {
          "base_uri": "https://localhost:8080/"
        },
        "id": "nMqhJ-s2SoBu",
        "outputId": "b5160324-bfad-4b88-963f-3227bb36ccac"
      },
      "execution_count": 61,
      "outputs": [
        {
          "output_type": "execute_result",
          "data": {
            "text/plain": [
              "1.7777777777777777"
            ]
          },
          "metadata": {},
          "execution_count": 61
        }
      ]
    },
    {
      "cell_type": "markdown",
      "source": [
        "This is risky, because our algorithm will be biased towards the ratio in the training set, which is not the same as the real ratio nor the ratio from the testing set. \n",
        "\n",
        "We can force the split ratio to remain close by using the *stratify* parameter:"
      ],
      "metadata": {
        "id": "jGy8FdAPS0Kb"
      }
    },
    {
      "cell_type": "code",
      "source": [
        "X_train, X_test, y_train, y_test = train_test_split(X, y, test_size = 0.25, random_state = SEED, stratify = y)\n",
        "\n",
        "model = LinearSVC( )\n",
        "model.fit(X_train, y_train)\n",
        "\n",
        "y_pred = model.predict(X_test)\n",
        "\n",
        "acc = accuracy_score(y_test, y_pred)\n",
        "\n",
        "print(\"Accuracy: {:.2f}%\".format(acc*100))"
      ],
      "metadata": {
        "colab": {
          "base_uri": "https://localhost:8080/"
        },
        "id": "MCz0CrWuSouf",
        "outputId": "911603a1-3b05-4f4f-803a-5f2714575218"
      },
      "execution_count": 62,
      "outputs": [
        {
          "output_type": "stream",
          "name": "stdout",
          "text": [
            "Accuracy: 96.00%\n"
          ]
        }
      ]
    },
    {
      "cell_type": "markdown",
      "source": [
        "Our accuracy was actually the same. However, now, we have closer ratios:"
      ],
      "metadata": {
        "id": "WjvEtpR2Tgfe"
      }
    },
    {
      "cell_type": "code",
      "source": [
        "y_train.value_counts( )"
      ],
      "metadata": {
        "colab": {
          "base_uri": "https://localhost:8080/"
        },
        "outputId": "7d939b4b-505c-44c5-f080-6e67fa872e12",
        "id": "vKGdFfqATeVi"
      },
      "execution_count": 63,
      "outputs": [
        {
          "output_type": "execute_result",
          "data": {
            "text/plain": [
              "0    49\n",
              "1    25\n",
              "Name: bought, dtype: int64"
            ]
          },
          "metadata": {},
          "execution_count": 63
        }
      ]
    },
    {
      "cell_type": "code",
      "source": [
        "y_test.value_counts( )"
      ],
      "metadata": {
        "colab": {
          "base_uri": "https://localhost:8080/"
        },
        "outputId": "666d4abf-55d7-4979-9bd7-767d66c3f46d",
        "id": "AHlxJcmRTeVk"
      },
      "execution_count": 64,
      "outputs": [
        {
          "output_type": "execute_result",
          "data": {
            "text/plain": [
              "0    17\n",
              "1     8\n",
              "Name: bought, dtype: int64"
            ]
          },
          "metadata": {},
          "execution_count": 64
        }
      ]
    },
    {
      "cell_type": "markdown",
      "source": [
        "# Example 03: Working with two-dimensional data\n",
        "\n",
        "An advantage of working with two-dimensional data is that we are able to visualize our classifications. Let's import it using:"
      ],
      "metadata": {
        "id": "NRsABlKbT4kr"
      }
    },
    {
      "cell_type": "code",
      "source": [
        "df = pd.read_csv('https://gist.githubusercontent.com/guilhermesilveira/1b7d5475863c15f484ac495bd70975cf/raw/16aff7a0aee67e7c100a2a48b676a2d2d142f646/projects.csv')\n",
        "\n",
        "df.head( )"
      ],
      "metadata": {
        "colab": {
          "base_uri": "https://localhost:8080/",
          "height": 206
        },
        "id": "-BifVKbzTfdD",
        "outputId": "ebd70425-61ae-41d7-b036-06fc3be7b144"
      },
      "execution_count": 65,
      "outputs": [
        {
          "output_type": "execute_result",
          "data": {
            "text/plain": [
              "   unfinished  expected_hours  price\n",
              "0           1              26    192\n",
              "1           1              88   9015\n",
              "2           1              89   2577\n",
              "3           1              42    275\n",
              "4           1              39    170"
            ],
            "text/html": [
              "\n",
              "  <div id=\"df-ef359190-781b-4d55-935a-4a3743b2fa71\">\n",
              "    <div class=\"colab-df-container\">\n",
              "      <div>\n",
              "<style scoped>\n",
              "    .dataframe tbody tr th:only-of-type {\n",
              "        vertical-align: middle;\n",
              "    }\n",
              "\n",
              "    .dataframe tbody tr th {\n",
              "        vertical-align: top;\n",
              "    }\n",
              "\n",
              "    .dataframe thead th {\n",
              "        text-align: right;\n",
              "    }\n",
              "</style>\n",
              "<table border=\"1\" class=\"dataframe\">\n",
              "  <thead>\n",
              "    <tr style=\"text-align: right;\">\n",
              "      <th></th>\n",
              "      <th>unfinished</th>\n",
              "      <th>expected_hours</th>\n",
              "      <th>price</th>\n",
              "    </tr>\n",
              "  </thead>\n",
              "  <tbody>\n",
              "    <tr>\n",
              "      <th>0</th>\n",
              "      <td>1</td>\n",
              "      <td>26</td>\n",
              "      <td>192</td>\n",
              "    </tr>\n",
              "    <tr>\n",
              "      <th>1</th>\n",
              "      <td>1</td>\n",
              "      <td>88</td>\n",
              "      <td>9015</td>\n",
              "    </tr>\n",
              "    <tr>\n",
              "      <th>2</th>\n",
              "      <td>1</td>\n",
              "      <td>89</td>\n",
              "      <td>2577</td>\n",
              "    </tr>\n",
              "    <tr>\n",
              "      <th>3</th>\n",
              "      <td>1</td>\n",
              "      <td>42</td>\n",
              "      <td>275</td>\n",
              "    </tr>\n",
              "    <tr>\n",
              "      <th>4</th>\n",
              "      <td>1</td>\n",
              "      <td>39</td>\n",
              "      <td>170</td>\n",
              "    </tr>\n",
              "  </tbody>\n",
              "</table>\n",
              "</div>\n",
              "      <button class=\"colab-df-convert\" onclick=\"convertToInteractive('df-ef359190-781b-4d55-935a-4a3743b2fa71')\"\n",
              "              title=\"Convert this dataframe to an interactive table.\"\n",
              "              style=\"display:none;\">\n",
              "        \n",
              "  <svg xmlns=\"http://www.w3.org/2000/svg\" height=\"24px\"viewBox=\"0 0 24 24\"\n",
              "       width=\"24px\">\n",
              "    <path d=\"M0 0h24v24H0V0z\" fill=\"none\"/>\n",
              "    <path d=\"M18.56 5.44l.94 2.06.94-2.06 2.06-.94-2.06-.94-.94-2.06-.94 2.06-2.06.94zm-11 1L8.5 8.5l.94-2.06 2.06-.94-2.06-.94L8.5 2.5l-.94 2.06-2.06.94zm10 10l.94 2.06.94-2.06 2.06-.94-2.06-.94-.94-2.06-.94 2.06-2.06.94z\"/><path d=\"M17.41 7.96l-1.37-1.37c-.4-.4-.92-.59-1.43-.59-.52 0-1.04.2-1.43.59L10.3 9.45l-7.72 7.72c-.78.78-.78 2.05 0 2.83L4 21.41c.39.39.9.59 1.41.59.51 0 1.02-.2 1.41-.59l7.78-7.78 2.81-2.81c.8-.78.8-2.07 0-2.86zM5.41 20L4 18.59l7.72-7.72 1.47 1.35L5.41 20z\"/>\n",
              "  </svg>\n",
              "      </button>\n",
              "      \n",
              "  <style>\n",
              "    .colab-df-container {\n",
              "      display:flex;\n",
              "      flex-wrap:wrap;\n",
              "      gap: 12px;\n",
              "    }\n",
              "\n",
              "    .colab-df-convert {\n",
              "      background-color: #E8F0FE;\n",
              "      border: none;\n",
              "      border-radius: 50%;\n",
              "      cursor: pointer;\n",
              "      display: none;\n",
              "      fill: #1967D2;\n",
              "      height: 32px;\n",
              "      padding: 0 0 0 0;\n",
              "      width: 32px;\n",
              "    }\n",
              "\n",
              "    .colab-df-convert:hover {\n",
              "      background-color: #E2EBFA;\n",
              "      box-shadow: 0px 1px 2px rgba(60, 64, 67, 0.3), 0px 1px 3px 1px rgba(60, 64, 67, 0.15);\n",
              "      fill: #174EA6;\n",
              "    }\n",
              "\n",
              "    [theme=dark] .colab-df-convert {\n",
              "      background-color: #3B4455;\n",
              "      fill: #D2E3FC;\n",
              "    }\n",
              "\n",
              "    [theme=dark] .colab-df-convert:hover {\n",
              "      background-color: #434B5C;\n",
              "      box-shadow: 0px 1px 3px 1px rgba(0, 0, 0, 0.15);\n",
              "      filter: drop-shadow(0px 1px 2px rgba(0, 0, 0, 0.3));\n",
              "      fill: #FFFFFF;\n",
              "    }\n",
              "  </style>\n",
              "\n",
              "      <script>\n",
              "        const buttonEl =\n",
              "          document.querySelector('#df-ef359190-781b-4d55-935a-4a3743b2fa71 button.colab-df-convert');\n",
              "        buttonEl.style.display =\n",
              "          google.colab.kernel.accessAllowed ? 'block' : 'none';\n",
              "\n",
              "        async function convertToInteractive(key) {\n",
              "          const element = document.querySelector('#df-ef359190-781b-4d55-935a-4a3743b2fa71');\n",
              "          const dataTable =\n",
              "            await google.colab.kernel.invokeFunction('convertToInteractive',\n",
              "                                                     [key], {});\n",
              "          if (!dataTable) return;\n",
              "\n",
              "          const docLinkHtml = 'Like what you see? Visit the ' +\n",
              "            '<a target=\"_blank\" href=https://colab.research.google.com/notebooks/data_table.ipynb>data table notebook</a>'\n",
              "            + ' to learn more about interactive tables.';\n",
              "          element.innerHTML = '';\n",
              "          dataTable['output_type'] = 'display_data';\n",
              "          await google.colab.output.renderOutput(dataTable, element);\n",
              "          const docLink = document.createElement('div');\n",
              "          docLink.innerHTML = docLinkHtml;\n",
              "          element.appendChild(docLink);\n",
              "        }\n",
              "      </script>\n",
              "    </div>\n",
              "  </div>\n",
              "  "
            ]
          },
          "metadata": {},
          "execution_count": 65
        }
      ]
    },
    {
      "cell_type": "markdown",
      "source": [
        "This new dataset has information about:\n",
        "\n",
        "*   The expected number of hours to finish a project.\n",
        "*   The price we want to pay\n",
        "*   Whether the project is unfinished or not.\n",
        "\n",
        "Let's change our unfinished feature to finished, and invert its values:\n",
        "\n"
      ],
      "metadata": {
        "id": "-b8eHKYjURFG"
      }
    },
    {
      "cell_type": "code",
      "source": [
        "swap_values = {0 : 1, 1 : 0}\n",
        "\n",
        "df['finished'] = df.unfinished.map(swap_values)\n",
        "df.drop('unfinished', axis = 1, inplace = True)"
      ],
      "metadata": {
        "id": "80G6K73aUQci"
      },
      "execution_count": 67,
      "outputs": []
    },
    {
      "cell_type": "code",
      "source": [
        "df.head( )"
      ],
      "metadata": {
        "colab": {
          "base_uri": "https://localhost:8080/",
          "height": 206
        },
        "id": "HDBPUZXTVHqb",
        "outputId": "a69e15a7-8149-47a1-a67a-fc92896ebaab"
      },
      "execution_count": 69,
      "outputs": [
        {
          "output_type": "execute_result",
          "data": {
            "text/plain": [
              "   expected_hours  price  finished\n",
              "0              26    192         0\n",
              "1              88   9015         0\n",
              "2              89   2577         0\n",
              "3              42    275         0\n",
              "4              39    170         0"
            ],
            "text/html": [
              "\n",
              "  <div id=\"df-a91c2873-a80e-497f-9093-1183ea878ac9\">\n",
              "    <div class=\"colab-df-container\">\n",
              "      <div>\n",
              "<style scoped>\n",
              "    .dataframe tbody tr th:only-of-type {\n",
              "        vertical-align: middle;\n",
              "    }\n",
              "\n",
              "    .dataframe tbody tr th {\n",
              "        vertical-align: top;\n",
              "    }\n",
              "\n",
              "    .dataframe thead th {\n",
              "        text-align: right;\n",
              "    }\n",
              "</style>\n",
              "<table border=\"1\" class=\"dataframe\">\n",
              "  <thead>\n",
              "    <tr style=\"text-align: right;\">\n",
              "      <th></th>\n",
              "      <th>expected_hours</th>\n",
              "      <th>price</th>\n",
              "      <th>finished</th>\n",
              "    </tr>\n",
              "  </thead>\n",
              "  <tbody>\n",
              "    <tr>\n",
              "      <th>0</th>\n",
              "      <td>26</td>\n",
              "      <td>192</td>\n",
              "      <td>0</td>\n",
              "    </tr>\n",
              "    <tr>\n",
              "      <th>1</th>\n",
              "      <td>88</td>\n",
              "      <td>9015</td>\n",
              "      <td>0</td>\n",
              "    </tr>\n",
              "    <tr>\n",
              "      <th>2</th>\n",
              "      <td>89</td>\n",
              "      <td>2577</td>\n",
              "      <td>0</td>\n",
              "    </tr>\n",
              "    <tr>\n",
              "      <th>3</th>\n",
              "      <td>42</td>\n",
              "      <td>275</td>\n",
              "      <td>0</td>\n",
              "    </tr>\n",
              "    <tr>\n",
              "      <th>4</th>\n",
              "      <td>39</td>\n",
              "      <td>170</td>\n",
              "      <td>0</td>\n",
              "    </tr>\n",
              "  </tbody>\n",
              "</table>\n",
              "</div>\n",
              "      <button class=\"colab-df-convert\" onclick=\"convertToInteractive('df-a91c2873-a80e-497f-9093-1183ea878ac9')\"\n",
              "              title=\"Convert this dataframe to an interactive table.\"\n",
              "              style=\"display:none;\">\n",
              "        \n",
              "  <svg xmlns=\"http://www.w3.org/2000/svg\" height=\"24px\"viewBox=\"0 0 24 24\"\n",
              "       width=\"24px\">\n",
              "    <path d=\"M0 0h24v24H0V0z\" fill=\"none\"/>\n",
              "    <path d=\"M18.56 5.44l.94 2.06.94-2.06 2.06-.94-2.06-.94-.94-2.06-.94 2.06-2.06.94zm-11 1L8.5 8.5l.94-2.06 2.06-.94-2.06-.94L8.5 2.5l-.94 2.06-2.06.94zm10 10l.94 2.06.94-2.06 2.06-.94-2.06-.94-.94-2.06-.94 2.06-2.06.94z\"/><path d=\"M17.41 7.96l-1.37-1.37c-.4-.4-.92-.59-1.43-.59-.52 0-1.04.2-1.43.59L10.3 9.45l-7.72 7.72c-.78.78-.78 2.05 0 2.83L4 21.41c.39.39.9.59 1.41.59.51 0 1.02-.2 1.41-.59l7.78-7.78 2.81-2.81c.8-.78.8-2.07 0-2.86zM5.41 20L4 18.59l7.72-7.72 1.47 1.35L5.41 20z\"/>\n",
              "  </svg>\n",
              "      </button>\n",
              "      \n",
              "  <style>\n",
              "    .colab-df-container {\n",
              "      display:flex;\n",
              "      flex-wrap:wrap;\n",
              "      gap: 12px;\n",
              "    }\n",
              "\n",
              "    .colab-df-convert {\n",
              "      background-color: #E8F0FE;\n",
              "      border: none;\n",
              "      border-radius: 50%;\n",
              "      cursor: pointer;\n",
              "      display: none;\n",
              "      fill: #1967D2;\n",
              "      height: 32px;\n",
              "      padding: 0 0 0 0;\n",
              "      width: 32px;\n",
              "    }\n",
              "\n",
              "    .colab-df-convert:hover {\n",
              "      background-color: #E2EBFA;\n",
              "      box-shadow: 0px 1px 2px rgba(60, 64, 67, 0.3), 0px 1px 3px 1px rgba(60, 64, 67, 0.15);\n",
              "      fill: #174EA6;\n",
              "    }\n",
              "\n",
              "    [theme=dark] .colab-df-convert {\n",
              "      background-color: #3B4455;\n",
              "      fill: #D2E3FC;\n",
              "    }\n",
              "\n",
              "    [theme=dark] .colab-df-convert:hover {\n",
              "      background-color: #434B5C;\n",
              "      box-shadow: 0px 1px 3px 1px rgba(0, 0, 0, 0.15);\n",
              "      filter: drop-shadow(0px 1px 2px rgba(0, 0, 0, 0.3));\n",
              "      fill: #FFFFFF;\n",
              "    }\n",
              "  </style>\n",
              "\n",
              "      <script>\n",
              "        const buttonEl =\n",
              "          document.querySelector('#df-a91c2873-a80e-497f-9093-1183ea878ac9 button.colab-df-convert');\n",
              "        buttonEl.style.display =\n",
              "          google.colab.kernel.accessAllowed ? 'block' : 'none';\n",
              "\n",
              "        async function convertToInteractive(key) {\n",
              "          const element = document.querySelector('#df-a91c2873-a80e-497f-9093-1183ea878ac9');\n",
              "          const dataTable =\n",
              "            await google.colab.kernel.invokeFunction('convertToInteractive',\n",
              "                                                     [key], {});\n",
              "          if (!dataTable) return;\n",
              "\n",
              "          const docLinkHtml = 'Like what you see? Visit the ' +\n",
              "            '<a target=\"_blank\" href=https://colab.research.google.com/notebooks/data_table.ipynb>data table notebook</a>'\n",
              "            + ' to learn more about interactive tables.';\n",
              "          element.innerHTML = '';\n",
              "          dataTable['output_type'] = 'display_data';\n",
              "          await google.colab.output.renderOutput(dataTable, element);\n",
              "          const docLink = document.createElement('div');\n",
              "          docLink.innerHTML = docLinkHtml;\n",
              "          element.appendChild(docLink);\n",
              "        }\n",
              "      </script>\n",
              "    </div>\n",
              "  </div>\n",
              "  "
            ]
          },
          "metadata": {},
          "execution_count": 69
        }
      ]
    },
    {
      "cell_type": "markdown",
      "source": [
        "Nice. Now, again, let's use a value_counts to see the number of finished works:"
      ],
      "metadata": {
        "id": "qIMCjSsbVR-l"
      }
    },
    {
      "cell_type": "code",
      "source": [
        "df.finished.value_counts( )"
      ],
      "metadata": {
        "colab": {
          "base_uri": "https://localhost:8080/"
        },
        "id": "STRUZitvVOuC",
        "outputId": "c61f6cca-8a76-42bd-f72c-af33cd7c88b7"
      },
      "execution_count": 70,
      "outputs": [
        {
          "output_type": "execute_result",
          "data": {
            "text/plain": [
              "1    1134\n",
              "0    1023\n",
              "Name: finished, dtype: int64"
            ]
          },
          "metadata": {},
          "execution_count": 70
        }
      ]
    },
    {
      "cell_type": "markdown",
      "source": [
        "So, our data is not very unbalanced. The ratio of each class is almost 50%. Since we have a two-dimensional dataset (only two explicative features), we can visualize them using:"
      ],
      "metadata": {
        "id": "hXAoPRr6VaV3"
      }
    },
    {
      "cell_type": "code",
      "source": [
        "sns.scatterplot(x = 'expected_hours', y = 'price', hue = 'finished', data = df)"
      ],
      "metadata": {
        "colab": {
          "base_uri": "https://localhost:8080/",
          "height": 297
        },
        "id": "p9QwXkCYVrQz",
        "outputId": "b3e83eba-cd64-4b93-866f-9b9e5c9217c7"
      },
      "execution_count": 72,
      "outputs": [
        {
          "output_type": "execute_result",
          "data": {
            "text/plain": [
              "<matplotlib.axes._subplots.AxesSubplot at 0x7fd5acc3d7d0>"
            ]
          },
          "metadata": {},
          "execution_count": 72
        },
        {
          "output_type": "display_data",
          "data": {
            "text/plain": [
              "<Figure size 432x288 with 1 Axes>"
            ],
            "image/png": "[encoded data removed]"
          },
          "metadata": {
            "needs_background": "light"
          }
        }
      ]
    },
    {
      "cell_type": "markdown",
      "source": [
        "Note that, as the number of expected hours increase, so does the price. Also, usually, the projects will only get finished if the price is adequate to the number of hours. \n",
        "\n",
        "So, let's model this classification:"
      ],
      "metadata": {
        "id": "SeRkH0e9WA2L"
      }
    },
    {
      "cell_type": "code",
      "source": [
        "y = df.finished\n",
        "X = df.drop('finished', axis = 1)"
      ],
      "metadata": {
        "id": "Al1EEUOrVZaZ"
      },
      "execution_count": 73,
      "outputs": []
    },
    {
      "cell_type": "code",
      "source": [
        "X_train, X_test, y_train, y_test = train_test_split(X, y, test_size = 0.25, random_state = SEED, stratify = y)\n",
        "\n",
        "model_SVC = LinearSVC( )\n",
        "model_SVC.fit(X_train, y_train)\n",
        "\n",
        "y_pred = model_SVC.predict(X_test)\n",
        "\n",
        "acc = accuracy_score(y_test, y_pred)\n",
        "\n",
        "print(\"Accuracy: {:.2f}%\".format(acc*100))"
      ],
      "metadata": {
        "colab": {
          "base_uri": "https://localhost:8080/"
        },
        "id": "RGSZKVGKYXPN",
        "outputId": "02bcf1c7-e47b-4df0-989a-51438374cacb"
      },
      "execution_count": 85,
      "outputs": [
        {
          "output_type": "stream",
          "name": "stdout",
          "text": [
            "Accuracy: 57.41%\n"
          ]
        },
        {
          "output_type": "stream",
          "name": "stderr",
          "text": [
            "/usr/local/lib/python3.7/dist-packages/sklearn/svm/_base.py:1208: ConvergenceWarning: Liblinear failed to converge, increase the number of iterations.\n",
            "  ConvergenceWarning,\n"
          ]
        }
      ]
    },
    {
      "cell_type": "markdown",
      "source": [
        "So, it seems like a very bad accuracy. To have something to compare to, let's use a dummy classifier, which simply gets the highest frequency class, and assumes that all data is from that class. Thus, we can do:"
      ],
      "metadata": {
        "id": "Y-KLYWidYvqT"
      }
    },
    {
      "cell_type": "code",
      "source": [
        "model_dummy = DummyClassifier(strategy = 'most_frequent')\n",
        "model_dummy.fit(X_train, y_train)\n",
        "\n",
        "y_pred_dummy = model_dummy.predict(X_test)\n",
        "\n",
        "acc = accuracy_score(y_test, y_pred_dummy)\n",
        "\n",
        "print(\"Accuracy: {:.2f}%\".format(acc*100))"
      ],
      "metadata": {
        "colab": {
          "base_uri": "https://localhost:8080/"
        },
        "id": "XUy6IcIzYt9y",
        "outputId": "e8cb567d-0a30-410b-ff40-f642143c0dd5"
      },
      "execution_count": 86,
      "outputs": [
        {
          "output_type": "stream",
          "name": "stdout",
          "text": [
            "Accuracy: 52.59%\n"
          ]
        }
      ]
    },
    {
      "cell_type": "markdown",
      "source": [
        "So, this dummy classifier was almost as good as our SVC model. Note that the SVC is a linear model, but the relationship between our features is not linear. Let's see the classifications for the SVC:"
      ],
      "metadata": {
        "id": "hWB5S4ULZcBx"
      }
    },
    {
      "cell_type": "code",
      "source": [
        "df_test = X_test.copy( )\n",
        "df_test = df_test.merge(y_test, left_index=True, right_index=True)\n",
        "df_test['SVC_pred'] = model_SVC.predict(X_test)\n",
        "\n",
        "df_test.head( )"
      ],
      "metadata": {
        "colab": {
          "base_uri": "https://localhost:8080/",
          "height": 206
        },
        "id": "w_ywTwjnZYIi",
        "outputId": "acbe5e2f-f5f3-4dde-f623-ef00937941b9"
      },
      "execution_count": 88,
      "outputs": [
        {
          "output_type": "execute_result",
          "data": {
            "text/plain": [
              "      expected_hours  price  finished  SVC_pred\n",
              "1516              83  12048         1         1\n",
              "443               13    151         0         0\n",
              "597               10    132         0         0\n",
              "937               65   1133         0         0\n",
              "939               54    292         0         0"
            ],
            "text/html": [
              "\n",
              "  <div id=\"df-09317742-17fe-4ba5-b38a-b1d490142c69\">\n",
              "    <div class=\"colab-df-container\">\n",
              "      <div>\n",
              "<style scoped>\n",
              "    .dataframe tbody tr th:only-of-type {\n",
              "        vertical-align: middle;\n",
              "    }\n",
              "\n",
              "    .dataframe tbody tr th {\n",
              "        vertical-align: top;\n",
              "    }\n",
              "\n",
              "    .dataframe thead th {\n",
              "        text-align: right;\n",
              "    }\n",
              "</style>\n",
              "<table border=\"1\" class=\"dataframe\">\n",
              "  <thead>\n",
              "    <tr style=\"text-align: right;\">\n",
              "      <th></th>\n",
              "      <th>expected_hours</th>\n",
              "      <th>price</th>\n",
              "      <th>finished</th>\n",
              "      <th>SVC_pred</th>\n",
              "    </tr>\n",
              "  </thead>\n",
              "  <tbody>\n",
              "    <tr>\n",
              "      <th>1516</th>\n",
              "      <td>83</td>\n",
              "      <td>12048</td>\n",
              "      <td>1</td>\n",
              "      <td>1</td>\n",
              "    </tr>\n",
              "    <tr>\n",
              "      <th>443</th>\n",
              "      <td>13</td>\n",
              "      <td>151</td>\n",
              "      <td>0</td>\n",
              "      <td>0</td>\n",
              "    </tr>\n",
              "    <tr>\n",
              "      <th>597</th>\n",
              "      <td>10</td>\n",
              "      <td>132</td>\n",
              "      <td>0</td>\n",
              "      <td>0</td>\n",
              "    </tr>\n",
              "    <tr>\n",
              "      <th>937</th>\n",
              "      <td>65</td>\n",
              "      <td>1133</td>\n",
              "      <td>0</td>\n",
              "      <td>0</td>\n",
              "    </tr>\n",
              "    <tr>\n",
              "      <th>939</th>\n",
              "      <td>54</td>\n",
              "      <td>292</td>\n",
              "      <td>0</td>\n",
              "      <td>0</td>\n",
              "    </tr>\n",
              "  </tbody>\n",
              "</table>\n",
              "</div>\n",
              "      <button class=\"colab-df-convert\" onclick=\"convertToInteractive('df-09317742-17fe-4ba5-b38a-b1d490142c69')\"\n",
              "              title=\"Convert this dataframe to an interactive table.\"\n",
              "              style=\"display:none;\">\n",
              "        \n",
              "  <svg xmlns=\"http://www.w3.org/2000/svg\" height=\"24px\"viewBox=\"0 0 24 24\"\n",
              "       width=\"24px\">\n",
              "    <path d=\"M0 0h24v24H0V0z\" fill=\"none\"/>\n",
              "    <path d=\"M18.56 5.44l.94 2.06.94-2.06 2.06-.94-2.06-.94-.94-2.06-.94 2.06-2.06.94zm-11 1L8.5 8.5l.94-2.06 2.06-.94-2.06-.94L8.5 2.5l-.94 2.06-2.06.94zm10 10l.94 2.06.94-2.06 2.06-.94-2.06-.94-.94-2.06-.94 2.06-2.06.94z\"/><path d=\"M17.41 7.96l-1.37-1.37c-.4-.4-.92-.59-1.43-.59-.52 0-1.04.2-1.43.59L10.3 9.45l-7.72 7.72c-.78.78-.78 2.05 0 2.83L4 21.41c.39.39.9.59 1.41.59.51 0 1.02-.2 1.41-.59l7.78-7.78 2.81-2.81c.8-.78.8-2.07 0-2.86zM5.41 20L4 18.59l7.72-7.72 1.47 1.35L5.41 20z\"/>\n",
              "  </svg>\n",
              "      </button>\n",
              "      \n",
              "  <style>\n",
              "    .colab-df-container {\n",
              "      display:flex;\n",
              "      flex-wrap:wrap;\n",
              "      gap: 12px;\n",
              "    }\n",
              "\n",
              "    .colab-df-convert {\n",
              "      background-color: #E8F0FE;\n",
              "      border: none;\n",
              "      border-radius: 50%;\n",
              "      cursor: pointer;\n",
              "      display: none;\n",
              "      fill: #1967D2;\n",
              "      height: 32px;\n",
              "      padding: 0 0 0 0;\n",
              "      width: 32px;\n",
              "    }\n",
              "\n",
              "    .colab-df-convert:hover {\n",
              "      background-color: #E2EBFA;\n",
              "      box-shadow: 0px 1px 2px rgba(60, 64, 67, 0.3), 0px 1px 3px 1px rgba(60, 64, 67, 0.15);\n",
              "      fill: #174EA6;\n",
              "    }\n",
              "\n",
              "    [theme=dark] .colab-df-convert {\n",
              "      background-color: #3B4455;\n",
              "      fill: #D2E3FC;\n",
              "    }\n",
              "\n",
              "    [theme=dark] .colab-df-convert:hover {\n",
              "      background-color: #434B5C;\n",
              "      box-shadow: 0px 1px 3px 1px rgba(0, 0, 0, 0.15);\n",
              "      filter: drop-shadow(0px 1px 2px rgba(0, 0, 0, 0.3));\n",
              "      fill: #FFFFFF;\n",
              "    }\n",
              "  </style>\n",
              "\n",
              "      <script>\n",
              "        const buttonEl =\n",
              "          document.querySelector('#df-09317742-17fe-4ba5-b38a-b1d490142c69 button.colab-df-convert');\n",
              "        buttonEl.style.display =\n",
              "          google.colab.kernel.accessAllowed ? 'block' : 'none';\n",
              "\n",
              "        async function convertToInteractive(key) {\n",
              "          const element = document.querySelector('#df-09317742-17fe-4ba5-b38a-b1d490142c69');\n",
              "          const dataTable =\n",
              "            await google.colab.kernel.invokeFunction('convertToInteractive',\n",
              "                                                     [key], {});\n",
              "          if (!dataTable) return;\n",
              "\n",
              "          const docLinkHtml = 'Like what you see? Visit the ' +\n",
              "            '<a target=\"_blank\" href=https://colab.research.google.com/notebooks/data_table.ipynb>data table notebook</a>'\n",
              "            + ' to learn more about interactive tables.';\n",
              "          element.innerHTML = '';\n",
              "          dataTable['output_type'] = 'display_data';\n",
              "          await google.colab.output.renderOutput(dataTable, element);\n",
              "          const docLink = document.createElement('div');\n",
              "          docLink.innerHTML = docLinkHtml;\n",
              "          element.appendChild(docLink);\n",
              "        }\n",
              "      </script>\n",
              "    </div>\n",
              "  </div>\n",
              "  "
            ]
          },
          "metadata": {},
          "execution_count": 88
        }
      ]
    },
    {
      "cell_type": "code",
      "source": [
        "sns.scatterplot(x = 'expected_hours', y = 'price', hue = 'SVC_pred', data = df_test)"
      ],
      "metadata": {
        "colab": {
          "base_uri": "https://localhost:8080/",
          "height": 297
        },
        "id": "bNQLBsB3au7E",
        "outputId": "90caf020-5054-4fbe-d9d7-eb45741edc3a"
      },
      "execution_count": 90,
      "outputs": [
        {
          "output_type": "execute_result",
          "data": {
            "text/plain": [
              "<matplotlib.axes._subplots.AxesSubplot at 0x7fd5acb809d0>"
            ]
          },
          "metadata": {},
          "execution_count": 90
        },
        {
          "output_type": "display_data",
          "data": {
            "text/plain": [
              "<Figure size 432x288 with 1 Axes>"
            ],
            "image/png": "[encoded data removed]"
          },
          "metadata": {
            "needs_background": "light"
          }
        }
      ]
    },
    {
      "cell_type": "markdown",
      "source": [
        "To improve our visualization, we can do:"
      ],
      "metadata": {
        "id": "wLYqKgnRbliQ"
      }
    },
    {
      "cell_type": "code",
      "source": [
        "x_min = df_test.expected_hours.min( )\n",
        "x_max = df_test.expected_hours.max( )\n",
        "\n",
        "y_min = df_test.price.min( )\n",
        "y_max = df_test.price.max( )\n",
        "\n",
        "n_pixels = 100"
      ],
      "metadata": {
        "id": "mqIDVsqzbnzQ"
      },
      "execution_count": 93,
      "outputs": []
    },
    {
      "cell_type": "code",
      "source": [
        "x_axis = np.arange(x_min, x_max, (x_max - x_min)/n_pixels)\n",
        "y_axis = np.arange(y_min, y_max, (y_max - y_min)/n_pixels)\n",
        "\n",
        "xx, yy = np.meshgrid(x_axis, y_axis)\n",
        "\n",
        "data_for_hue = np.c_[xx.ravel( ), yy.ravel( )]               # Creates a grid for the entire data domain"
      ],
      "metadata": {
        "id": "zTHrY-ORcOkA"
      },
      "execution_count": 99,
      "outputs": []
    },
    {
      "cell_type": "markdown",
      "source": [
        "Let's perform model prediction on the data from the grid:"
      ],
      "metadata": {
        "id": "unmP7L57dL8f"
      }
    },
    {
      "cell_type": "code",
      "source": [
        "z = model_SVC.predict(data_for_hue).reshape(xx.shape)"
      ],
      "metadata": {
        "colab": {
          "base_uri": "https://localhost:8080/"
        },
        "id": "est5tOwgc0IY",
        "outputId": "257427ed-2daf-4987-8711-2e528b67dab9"
      },
      "execution_count": 102,
      "outputs": [
        {
          "output_type": "stream",
          "name": "stderr",
          "text": [
            "/usr/local/lib/python3.7/dist-packages/sklearn/base.py:451: UserWarning: X does not have valid feature names, but LinearSVC was fitted with feature names\n",
            "  \"X does not have valid feature names, but\"\n"
          ]
        }
      ]
    },
    {
      "cell_type": "markdown",
      "source": [
        "Now, let's plot this using matplotlib:"
      ],
      "metadata": {
        "id": "Q1YTEvHIdK97"
      }
    },
    {
      "cell_type": "code",
      "source": [
        "colors = np.array([\"blue\", \"orangered\"])\n",
        "\n",
        "cs = plt.contourf(xx, yy, z, [0,0.99], colors = colors, alpha = 0.3, extend='both')\n",
        "cs.cmap.set_over(colors[1])\n",
        "cs.cmap.set_under(colors[0])\n",
        "cs.changed()\n",
        "plt.scatter(df_test.expected_hours, df_test.price, c = colors[df_test.finished], s = 2) # plots the real data and their classification"
      ],
      "metadata": {
        "colab": {
          "base_uri": "https://localhost:8080/",
          "height": 282
        },
        "id": "Yzx8JKzMds6R",
        "outputId": "1d15a3eb-a752-42f6-e64e-370204fe886e"
      },
      "execution_count": 133,
      "outputs": [
        {
          "output_type": "execute_result",
          "data": {
            "text/plain": [
              "<matplotlib.collections.PathCollection at 0x7fd5a81ba810>"
            ]
          },
          "metadata": {},
          "execution_count": 133
        },
        {
          "output_type": "display_data",
          "data": {
            "text/plain": [
              "<Figure size 432x288 with 1 Axes>"
            ],
            "image/png": "[encoded data removed]"
          },
          "metadata": {
            "needs_background": "light"
          }
        }
      ]
    },
    {
      "cell_type": "markdown",
      "source": [
        "Note that we can actually identify a line separating finished and unfinished works. In fact, we need to use a better algorithm to model our data. "
      ],
      "metadata": {
        "id": "a149uDPxa1Hp"
      }
    },
    {
      "cell_type": "markdown",
      "source": [
        "## Testing a better estimator\n",
        "\n",
        "Now, we will try to use another estimator, which is able to identify non-linear patterns. Thus, we will use a generalized Support Vector Classification model."
      ],
      "metadata": {
        "id": "m4cExm9ii7TP"
      }
    },
    {
      "cell_type": "code",
      "source": [
        "model_SVC2 = SVC( )\n",
        "model_SVC2.fit(X_train, y_train)\n",
        "\n",
        "y_pred = model_SVC2.predict(X_test)\n",
        "\n",
        "acc = accuracy_score(y_test, y_pred)\n",
        "\n",
        "print(\"Accuracy: {:.2f}%\".format(acc*100))\n",
        "\n",
        "df_test['SVC_pred2'] = y_pred "
      ],
      "metadata": {
        "colab": {
          "base_uri": "https://localhost:8080/"
        },
        "id": "Hu3pCHGXazMv",
        "outputId": "dc93a213-1744-482e-8ca7-f49294c8afde"
      },
      "execution_count": 138,
      "outputs": [
        {
          "output_type": "stream",
          "name": "stdout",
          "text": [
            "Accuracy: 56.85%\n"
          ]
        }
      ]
    },
    {
      "cell_type": "markdown",
      "source": [
        "So, it seems that our generalized SVC algorithm was not that much better. Let's plot its classification:"
      ],
      "metadata": {
        "id": "3Yr8zK45j5Vl"
      }
    },
    {
      "cell_type": "code",
      "source": [
        "z = model_SVC2.predict(data_for_hue).reshape(xx.shape)\n",
        "\n",
        "colors = np.array([\"blue\", \"orangered\"])\n",
        "\n",
        "cs = plt.contourf(xx, yy, z, [0,0.99], colors = colors, alpha = 0.3, extend='both')\n",
        "cs.cmap.set_over(colors[1])\n",
        "cs.cmap.set_under(colors[0])\n",
        "cs.changed()\n",
        "plt.scatter(df_test.expected_hours, df_test.price, c = colors[df_test.finished], s = 2) # plots the real data and their classification"
      ],
      "metadata": {
        "colab": {
          "base_uri": "https://localhost:8080/",
          "height": 337
        },
        "id": "v2Ek1GEIjuAl",
        "outputId": "69bee414-7360-4431-f679-e44c945d251b"
      },
      "execution_count": 139,
      "outputs": [
        {
          "output_type": "stream",
          "name": "stderr",
          "text": [
            "/usr/local/lib/python3.7/dist-packages/sklearn/base.py:451: UserWarning: X does not have valid feature names, but SVC was fitted with feature names\n",
            "  \"X does not have valid feature names, but\"\n"
          ]
        },
        {
          "output_type": "execute_result",
          "data": {
            "text/plain": [
              "<matplotlib.collections.PathCollection at 0x7fd5a8167ed0>"
            ]
          },
          "metadata": {},
          "execution_count": 139
        },
        {
          "output_type": "display_data",
          "data": {
            "text/plain": [
              "<Figure size 432x288 with 1 Axes>"
            ],
            "image/png": "[encoded data removed]"
          },
          "metadata": {
            "needs_background": "light"
          }
        }
      ]
    },
    {
      "cell_type": "markdown",
      "source": [
        "Note that the classification threshold is, once again, very close to a straight line. Note data our data is not normalize: while prices go from 0 to ~30000, hours go from 0 to ~100. Let's normalize all of our explicative features using the standard scaler:"
      ],
      "metadata": {
        "id": "-f0SvU3okJYc"
      }
    },
    {
      "cell_type": "code",
      "source": [
        "X_train_raw, X_test_raw, y_train, y_test = train_test_split(X, y, test_size = 0.25, random_state = SEED, stratify = y)\n",
        "\n",
        "scaler = StandardScaler( )\n",
        "scaler.fit(X_train)\n",
        "X_train_np = scaler.transform(X_train_raw)\n",
        "X_test_np = scaler.transform(X_test_raw)\n",
        "\n",
        "X_train = pd.DataFrame(X_train_np, columns = X_train_raw.columns)\n",
        "X_test = pd.DataFrame(X_test_np, columns = X_train_raw.columns)"
      ],
      "metadata": {
        "id": "g2eJEIukkHvv"
      },
      "execution_count": 151,
      "outputs": []
    },
    {
      "cell_type": "markdown",
      "source": [
        "The standard scaler uses the following normalization method:\n",
        "\n",
        "\\begin{equation}\n",
        "X_{i, j, n} = \\dfrac{X_{i, j} - \\overline{x}_i}{s_i}\n",
        "\\end{equation}\n",
        "where $\\overline{x}_i$ is the average for feature $i$ and $s_i$ is the standard deviation for feature $i$. Now, let's see those sets:"
      ],
      "metadata": {
        "id": "dixV2Z8Rk-MW"
      }
    },
    {
      "cell_type": "code",
      "source": [
        "X_train.head( )"
      ],
      "metadata": {
        "colab": {
          "base_uri": "https://localhost:8080/",
          "height": 206
        },
        "id": "-rbBFJHXlQ0F",
        "outputId": "44cdfea0-0d55-4a56-bc20-f6956897dfb4"
      },
      "execution_count": 152,
      "outputs": [
        {
          "output_type": "execute_result",
          "data": {
            "text/plain": [
              "   expected_hours     price\n",
              "0       -1.162871 -0.568840\n",
              "1       -0.287861 -0.506275\n",
              "2       -0.427862 -0.549527\n",
              "3        1.077156 -0.000726\n",
              "4       -0.602865 -0.553752"
            ],
            "text/html": [
              "\n",
              "  <div id=\"df-38f6e4b1-eeda-45a0-bb47-5fc796c7cf2a\">\n",
              "    <div class=\"colab-df-container\">\n",
              "      <div>\n",
              "<style scoped>\n",
              "    .dataframe tbody tr th:only-of-type {\n",
              "        vertical-align: middle;\n",
              "    }\n",
              "\n",
              "    .dataframe tbody tr th {\n",
              "        vertical-align: top;\n",
              "    }\n",
              "\n",
              "    .dataframe thead th {\n",
              "        text-align: right;\n",
              "    }\n",
              "</style>\n",
              "<table border=\"1\" class=\"dataframe\">\n",
              "  <thead>\n",
              "    <tr style=\"text-align: right;\">\n",
              "      <th></th>\n",
              "      <th>expected_hours</th>\n",
              "      <th>price</th>\n",
              "    </tr>\n",
              "  </thead>\n",
              "  <tbody>\n",
              "    <tr>\n",
              "      <th>0</th>\n",
              "      <td>-1.162871</td>\n",
              "      <td>-0.568840</td>\n",
              "    </tr>\n",
              "    <tr>\n",
              "      <th>1</th>\n",
              "      <td>-0.287861</td>\n",
              "      <td>-0.506275</td>\n",
              "    </tr>\n",
              "    <tr>\n",
              "      <th>2</th>\n",
              "      <td>-0.427862</td>\n",
              "      <td>-0.549527</td>\n",
              "    </tr>\n",
              "    <tr>\n",
              "      <th>3</th>\n",
              "      <td>1.077156</td>\n",
              "      <td>-0.000726</td>\n",
              "    </tr>\n",
              "    <tr>\n",
              "      <th>4</th>\n",
              "      <td>-0.602865</td>\n",
              "      <td>-0.553752</td>\n",
              "    </tr>\n",
              "  </tbody>\n",
              "</table>\n",
              "</div>\n",
              "      <button class=\"colab-df-convert\" onclick=\"convertToInteractive('df-38f6e4b1-eeda-45a0-bb47-5fc796c7cf2a')\"\n",
              "              title=\"Convert this dataframe to an interactive table.\"\n",
              "              style=\"display:none;\">\n",
              "        \n",
              "  <svg xmlns=\"http://www.w3.org/2000/svg\" height=\"24px\"viewBox=\"0 0 24 24\"\n",
              "       width=\"24px\">\n",
              "    <path d=\"M0 0h24v24H0V0z\" fill=\"none\"/>\n",
              "    <path d=\"M18.56 5.44l.94 2.06.94-2.06 2.06-.94-2.06-.94-.94-2.06-.94 2.06-2.06.94zm-11 1L8.5 8.5l.94-2.06 2.06-.94-2.06-.94L8.5 2.5l-.94 2.06-2.06.94zm10 10l.94 2.06.94-2.06 2.06-.94-2.06-.94-.94-2.06-.94 2.06-2.06.94z\"/><path d=\"M17.41 7.96l-1.37-1.37c-.4-.4-.92-.59-1.43-.59-.52 0-1.04.2-1.43.59L10.3 9.45l-7.72 7.72c-.78.78-.78 2.05 0 2.83L4 21.41c.39.39.9.59 1.41.59.51 0 1.02-.2 1.41-.59l7.78-7.78 2.81-2.81c.8-.78.8-2.07 0-2.86zM5.41 20L4 18.59l7.72-7.72 1.47 1.35L5.41 20z\"/>\n",
              "  </svg>\n",
              "      </button>\n",
              "      \n",
              "  <style>\n",
              "    .colab-df-container {\n",
              "      display:flex;\n",
              "      flex-wrap:wrap;\n",
              "      gap: 12px;\n",
              "    }\n",
              "\n",
              "    .colab-df-convert {\n",
              "      background-color: #E8F0FE;\n",
              "      border: none;\n",
              "      border-radius: 50%;\n",
              "      cursor: pointer;\n",
              "      display: none;\n",
              "      fill: #1967D2;\n",
              "      height: 32px;\n",
              "      padding: 0 0 0 0;\n",
              "      width: 32px;\n",
              "    }\n",
              "\n",
              "    .colab-df-convert:hover {\n",
              "      background-color: #E2EBFA;\n",
              "      box-shadow: 0px 1px 2px rgba(60, 64, 67, 0.3), 0px 1px 3px 1px rgba(60, 64, 67, 0.15);\n",
              "      fill: #174EA6;\n",
              "    }\n",
              "\n",
              "    [theme=dark] .colab-df-convert {\n",
              "      background-color: #3B4455;\n",
              "      fill: #D2E3FC;\n",
              "    }\n",
              "\n",
              "    [theme=dark] .colab-df-convert:hover {\n",
              "      background-color: #434B5C;\n",
              "      box-shadow: 0px 1px 3px 1px rgba(0, 0, 0, 0.15);\n",
              "      filter: drop-shadow(0px 1px 2px rgba(0, 0, 0, 0.3));\n",
              "      fill: #FFFFFF;\n",
              "    }\n",
              "  </style>\n",
              "\n",
              "      <script>\n",
              "        const buttonEl =\n",
              "          document.querySelector('#df-38f6e4b1-eeda-45a0-bb47-5fc796c7cf2a button.colab-df-convert');\n",
              "        buttonEl.style.display =\n",
              "          google.colab.kernel.accessAllowed ? 'block' : 'none';\n",
              "\n",
              "        async function convertToInteractive(key) {\n",
              "          const element = document.querySelector('#df-38f6e4b1-eeda-45a0-bb47-5fc796c7cf2a');\n",
              "          const dataTable =\n",
              "            await google.colab.kernel.invokeFunction('convertToInteractive',\n",
              "                                                     [key], {});\n",
              "          if (!dataTable) return;\n",
              "\n",
              "          const docLinkHtml = 'Like what you see? Visit the ' +\n",
              "            '<a target=\"_blank\" href=https://colab.research.google.com/notebooks/data_table.ipynb>data table notebook</a>'\n",
              "            + ' to learn more about interactive tables.';\n",
              "          element.innerHTML = '';\n",
              "          dataTable['output_type'] = 'display_data';\n",
              "          await google.colab.output.renderOutput(dataTable, element);\n",
              "          const docLink = document.createElement('div');\n",
              "          docLink.innerHTML = docLinkHtml;\n",
              "          element.appendChild(docLink);\n",
              "        }\n",
              "      </script>\n",
              "    </div>\n",
              "  </div>\n",
              "  "
            ]
          },
          "metadata": {},
          "execution_count": 152
        }
      ]
    },
    {
      "cell_type": "code",
      "source": [
        "X_test.head( )"
      ],
      "metadata": {
        "colab": {
          "base_uri": "https://localhost:8080/",
          "height": 206
        },
        "id": "BwKgbUiAmKS8",
        "outputId": "0b785df5-08ab-4715-c95f-ee492e8a7d2a"
      },
      "execution_count": 153,
      "outputs": [
        {
          "output_type": "execute_result",
          "data": {
            "text/plain": [
              "   expected_hours     price\n",
              "0        1.147157  1.809233\n",
              "1       -1.302873 -0.584129\n",
              "2       -1.407874 -0.587952\n",
              "3        0.517149 -0.386577\n",
              "4        0.132144 -0.555764"
            ],
            "text/html": [
              "\n",
              "  <div id=\"df-87dbaffa-526a-4d2b-b4e9-f6fd1e587563\">\n",
              "    <div class=\"colab-df-container\">\n",
              "      <div>\n",
              "<style scoped>\n",
              "    .dataframe tbody tr th:only-of-type {\n",
              "        vertical-align: middle;\n",
              "    }\n",
              "\n",
              "    .dataframe tbody tr th {\n",
              "        vertical-align: top;\n",
              "    }\n",
              "\n",
              "    .dataframe thead th {\n",
              "        text-align: right;\n",
              "    }\n",
              "</style>\n",
              "<table border=\"1\" class=\"dataframe\">\n",
              "  <thead>\n",
              "    <tr style=\"text-align: right;\">\n",
              "      <th></th>\n",
              "      <th>expected_hours</th>\n",
              "      <th>price</th>\n",
              "    </tr>\n",
              "  </thead>\n",
              "  <tbody>\n",
              "    <tr>\n",
              "      <th>0</th>\n",
              "      <td>1.147157</td>\n",
              "      <td>1.809233</td>\n",
              "    </tr>\n",
              "    <tr>\n",
              "      <th>1</th>\n",
              "      <td>-1.302873</td>\n",
              "      <td>-0.584129</td>\n",
              "    </tr>\n",
              "    <tr>\n",
              "      <th>2</th>\n",
              "      <td>-1.407874</td>\n",
              "      <td>-0.587952</td>\n",
              "    </tr>\n",
              "    <tr>\n",
              "      <th>3</th>\n",
              "      <td>0.517149</td>\n",
              "      <td>-0.386577</td>\n",
              "    </tr>\n",
              "    <tr>\n",
              "      <th>4</th>\n",
              "      <td>0.132144</td>\n",
              "      <td>-0.555764</td>\n",
              "    </tr>\n",
              "  </tbody>\n",
              "</table>\n",
              "</div>\n",
              "      <button class=\"colab-df-convert\" onclick=\"convertToInteractive('df-87dbaffa-526a-4d2b-b4e9-f6fd1e587563')\"\n",
              "              title=\"Convert this dataframe to an interactive table.\"\n",
              "              style=\"display:none;\">\n",
              "        \n",
              "  <svg xmlns=\"http://www.w3.org/2000/svg\" height=\"24px\"viewBox=\"0 0 24 24\"\n",
              "       width=\"24px\">\n",
              "    <path d=\"M0 0h24v24H0V0z\" fill=\"none\"/>\n",
              "    <path d=\"M18.56 5.44l.94 2.06.94-2.06 2.06-.94-2.06-.94-.94-2.06-.94 2.06-2.06.94zm-11 1L8.5 8.5l.94-2.06 2.06-.94-2.06-.94L8.5 2.5l-.94 2.06-2.06.94zm10 10l.94 2.06.94-2.06 2.06-.94-2.06-.94-.94-2.06-.94 2.06-2.06.94z\"/><path d=\"M17.41 7.96l-1.37-1.37c-.4-.4-.92-.59-1.43-.59-.52 0-1.04.2-1.43.59L10.3 9.45l-7.72 7.72c-.78.78-.78 2.05 0 2.83L4 21.41c.39.39.9.59 1.41.59.51 0 1.02-.2 1.41-.59l7.78-7.78 2.81-2.81c.8-.78.8-2.07 0-2.86zM5.41 20L4 18.59l7.72-7.72 1.47 1.35L5.41 20z\"/>\n",
              "  </svg>\n",
              "      </button>\n",
              "      \n",
              "  <style>\n",
              "    .colab-df-container {\n",
              "      display:flex;\n",
              "      flex-wrap:wrap;\n",
              "      gap: 12px;\n",
              "    }\n",
              "\n",
              "    .colab-df-convert {\n",
              "      background-color: #E8F0FE;\n",
              "      border: none;\n",
              "      border-radius: 50%;\n",
              "      cursor: pointer;\n",
              "      display: none;\n",
              "      fill: #1967D2;\n",
              "      height: 32px;\n",
              "      padding: 0 0 0 0;\n",
              "      width: 32px;\n",
              "    }\n",
              "\n",
              "    .colab-df-convert:hover {\n",
              "      background-color: #E2EBFA;\n",
              "      box-shadow: 0px 1px 2px rgba(60, 64, 67, 0.3), 0px 1px 3px 1px rgba(60, 64, 67, 0.15);\n",
              "      fill: #174EA6;\n",
              "    }\n",
              "\n",
              "    [theme=dark] .colab-df-convert {\n",
              "      background-color: #3B4455;\n",
              "      fill: #D2E3FC;\n",
              "    }\n",
              "\n",
              "    [theme=dark] .colab-df-convert:hover {\n",
              "      background-color: #434B5C;\n",
              "      box-shadow: 0px 1px 3px 1px rgba(0, 0, 0, 0.15);\n",
              "      filter: drop-shadow(0px 1px 2px rgba(0, 0, 0, 0.3));\n",
              "      fill: #FFFFFF;\n",
              "    }\n",
              "  </style>\n",
              "\n",
              "      <script>\n",
              "        const buttonEl =\n",
              "          document.querySelector('#df-87dbaffa-526a-4d2b-b4e9-f6fd1e587563 button.colab-df-convert');\n",
              "        buttonEl.style.display =\n",
              "          google.colab.kernel.accessAllowed ? 'block' : 'none';\n",
              "\n",
              "        async function convertToInteractive(key) {\n",
              "          const element = document.querySelector('#df-87dbaffa-526a-4d2b-b4e9-f6fd1e587563');\n",
              "          const dataTable =\n",
              "            await google.colab.kernel.invokeFunction('convertToInteractive',\n",
              "                                                     [key], {});\n",
              "          if (!dataTable) return;\n",
              "\n",
              "          const docLinkHtml = 'Like what you see? Visit the ' +\n",
              "            '<a target=\"_blank\" href=https://colab.research.google.com/notebooks/data_table.ipynb>data table notebook</a>'\n",
              "            + ' to learn more about interactive tables.';\n",
              "          element.innerHTML = '';\n",
              "          dataTable['output_type'] = 'display_data';\n",
              "          await google.colab.output.renderOutput(dataTable, element);\n",
              "          const docLink = document.createElement('div');\n",
              "          docLink.innerHTML = docLinkHtml;\n",
              "          element.appendChild(docLink);\n",
              "        }\n",
              "      </script>\n",
              "    </div>\n",
              "  </div>\n",
              "  "
            ]
          },
          "metadata": {},
          "execution_count": 153
        }
      ]
    },
    {
      "cell_type": "markdown",
      "source": [
        "Nice! Now, let's fit our SVC again, and plot its classification:"
      ],
      "metadata": {
        "id": "4jkgBRTLm8RV"
      }
    },
    {
      "cell_type": "code",
      "source": [
        "model_SVC3 = SVC( )\n",
        "model_SVC3.fit(X_train, y_train)\n",
        "\n",
        "y_pred = model_SVC3.predict(X_test)\n",
        "\n",
        "acc = accuracy_score(y_test, y_pred)\n",
        "\n",
        "print(\"Accuracy: {:.2f}%\".format(acc*100))"
      ],
      "metadata": {
        "colab": {
          "base_uri": "https://localhost:8080/"
        },
        "id": "p5RQOhX3mLbJ",
        "outputId": "f0f0a0bd-fd95-4184-82c3-6da317a40d1b"
      },
      "execution_count": 158,
      "outputs": [
        {
          "output_type": "stream",
          "name": "stdout",
          "text": [
            "Accuracy: 67.78%\n"
          ]
        }
      ]
    },
    {
      "cell_type": "markdown",
      "source": [
        "So, our accuracy was a little higher, as we are right in almost 70% of our data."
      ],
      "metadata": {
        "id": "_AAAM-Binx50"
      }
    },
    {
      "cell_type": "code",
      "source": [
        "x_min = X_test.expected_hours.min( )\n",
        "x_max = X_test.expected_hours.max( )\n",
        "\n",
        "y_min = X_test.price.min( )\n",
        "y_max = X_test.price.max( )\n",
        "\n",
        "n_pixels = 100"
      ],
      "metadata": {
        "id": "GFtRvoM3nMyA"
      },
      "execution_count": 162,
      "outputs": []
    },
    {
      "cell_type": "code",
      "source": [
        "x_axis = np.arange(x_min, x_max, (x_max - x_min)/n_pixels)\n",
        "y_axis = np.arange(y_min, y_max, (y_max - y_min)/n_pixels)\n",
        "\n",
        "xx, yy = np.meshgrid(x_axis, y_axis)\n",
        "\n",
        "data_for_hue = np.c_[xx.ravel( ), yy.ravel( )]               # Creates a grid for the entire data domain"
      ],
      "metadata": {
        "id": "59J1tfuTnMyC"
      },
      "execution_count": 163,
      "outputs": []
    },
    {
      "cell_type": "code",
      "source": [
        "z = model_SVC3.predict(data_for_hue).reshape(xx.shape)\n",
        "\n",
        "colors = np.array([\"blue\", \"orangered\"])\n",
        "\n",
        "cs = plt.contourf(xx, yy, z, [0,0.99], colors = colors, alpha = 0.3, extend='both')\n",
        "cs.cmap.set_over(colors[1])\n",
        "cs.cmap.set_under(colors[0])\n",
        "cs.changed()\n",
        "plt.scatter(X_test.expected_hours, X_test.price, c = colors[df_test.finished], s = 2) # plots the real data and their classification"
      ],
      "metadata": {
        "colab": {
          "base_uri": "https://localhost:8080/",
          "height": 337
        },
        "id": "5p-70YwrnGyw",
        "outputId": "ce7de9a1-d344-4c18-e5d1-962e80848e08"
      },
      "execution_count": 165,
      "outputs": [
        {
          "output_type": "stream",
          "name": "stderr",
          "text": [
            "/usr/local/lib/python3.7/dist-packages/sklearn/base.py:451: UserWarning: X does not have valid feature names, but SVC was fitted with feature names\n",
            "  \"X does not have valid feature names, but\"\n"
          ]
        },
        {
          "output_type": "execute_result",
          "data": {
            "text/plain": [
              "<matplotlib.collections.PathCollection at 0x7fd5a7ef14d0>"
            ]
          },
          "metadata": {},
          "execution_count": 165
        },
        {
          "output_type": "display_data",
          "data": {
            "text/plain": [
              "<Figure size 432x288 with 1 Axes>"
            ],
            "image/png": "[encoded data removed]"
          },
          "metadata": {
            "needs_background": "light"
          }
        }
      ]
    },
    {
      "cell_type": "markdown",
      "source": [
        "Nice! Now, note that we were able to identify a non-linear relationship in our data! Great."
      ],
      "metadata": {
        "id": "exupYEK2nsWV"
      }
    },
    {
      "cell_type": "markdown",
      "source": [
        "# Example 04: Working with a more complex dataset\n",
        "\n",
        "Now, we will work with a more complex dataset, with more features:"
      ],
      "metadata": {
        "id": "7i_PlKvDurQo"
      }
    },
    {
      "cell_type": "code",
      "source": [
        "df = pd.read_csv('https://gist.githubusercontent.com/guilhermesilveira/4d1d4a16ccbf6ea4e0a64a38a24ec884/raw/afd05cb0c796d18f3f5a6537053ded308ba94bf7/car-prices.csv', index_col = 0)\n",
        "\n",
        "df.head( )"
      ],
      "metadata": {
        "colab": {
          "base_uri": "https://localhost:8080/",
          "height": 206
        },
        "id": "kp86aBs_neTp",
        "outputId": "44f91651-db61-48c0-b7ec-44200122eea4"
      },
      "execution_count": 177,
      "outputs": [
        {
          "output_type": "execute_result",
          "data": {
            "text/plain": [
              "   mileage_per_year  model_year      price sold\n",
              "0             21801        2000   30941.02  yes\n",
              "1              7843        1998   40557.96  yes\n",
              "2              7109        2006   89627.50   no\n",
              "3             26823        2015   95276.14   no\n",
              "4              7935        2014  117384.68  yes"
            ],
            "text/html": [
              "\n",
              "  <div id=\"df-8810e168-69ea-4ad6-836d-fff76fac5070\">\n",
              "    <div class=\"colab-df-container\">\n",
              "      <div>\n",
              "<style scoped>\n",
              "    .dataframe tbody tr th:only-of-type {\n",
              "        vertical-align: middle;\n",
              "    }\n",
              "\n",
              "    .dataframe tbody tr th {\n",
              "        vertical-align: top;\n",
              "    }\n",
              "\n",
              "    .dataframe thead th {\n",
              "        text-align: right;\n",
              "    }\n",
              "</style>\n",
              "<table border=\"1\" class=\"dataframe\">\n",
              "  <thead>\n",
              "    <tr style=\"text-align: right;\">\n",
              "      <th></th>\n",
              "      <th>mileage_per_year</th>\n",
              "      <th>model_year</th>\n",
              "      <th>price</th>\n",
              "      <th>sold</th>\n",
              "    </tr>\n",
              "  </thead>\n",
              "  <tbody>\n",
              "    <tr>\n",
              "      <th>0</th>\n",
              "      <td>21801</td>\n",
              "      <td>2000</td>\n",
              "      <td>30941.02</td>\n",
              "      <td>yes</td>\n",
              "    </tr>\n",
              "    <tr>\n",
              "      <th>1</th>\n",
              "      <td>7843</td>\n",
              "      <td>1998</td>\n",
              "      <td>40557.96</td>\n",
              "      <td>yes</td>\n",
              "    </tr>\n",
              "    <tr>\n",
              "      <th>2</th>\n",
              "      <td>7109</td>\n",
              "      <td>2006</td>\n",
              "      <td>89627.50</td>\n",
              "      <td>no</td>\n",
              "    </tr>\n",
              "    <tr>\n",
              "      <th>3</th>\n",
              "      <td>26823</td>\n",
              "      <td>2015</td>\n",
              "      <td>95276.14</td>\n",
              "      <td>no</td>\n",
              "    </tr>\n",
              "    <tr>\n",
              "      <th>4</th>\n",
              "      <td>7935</td>\n",
              "      <td>2014</td>\n",
              "      <td>117384.68</td>\n",
              "      <td>yes</td>\n",
              "    </tr>\n",
              "  </tbody>\n",
              "</table>\n",
              "</div>\n",
              "      <button class=\"colab-df-convert\" onclick=\"convertToInteractive('df-8810e168-69ea-4ad6-836d-fff76fac5070')\"\n",
              "              title=\"Convert this dataframe to an interactive table.\"\n",
              "              style=\"display:none;\">\n",
              "        \n",
              "  <svg xmlns=\"http://www.w3.org/2000/svg\" height=\"24px\"viewBox=\"0 0 24 24\"\n",
              "       width=\"24px\">\n",
              "    <path d=\"M0 0h24v24H0V0z\" fill=\"none\"/>\n",
              "    <path d=\"M18.56 5.44l.94 2.06.94-2.06 2.06-.94-2.06-.94-.94-2.06-.94 2.06-2.06.94zm-11 1L8.5 8.5l.94-2.06 2.06-.94-2.06-.94L8.5 2.5l-.94 2.06-2.06.94zm10 10l.94 2.06.94-2.06 2.06-.94-2.06-.94-.94-2.06-.94 2.06-2.06.94z\"/><path d=\"M17.41 7.96l-1.37-1.37c-.4-.4-.92-.59-1.43-.59-.52 0-1.04.2-1.43.59L10.3 9.45l-7.72 7.72c-.78.78-.78 2.05 0 2.83L4 21.41c.39.39.9.59 1.41.59.51 0 1.02-.2 1.41-.59l7.78-7.78 2.81-2.81c.8-.78.8-2.07 0-2.86zM5.41 20L4 18.59l7.72-7.72 1.47 1.35L5.41 20z\"/>\n",
              "  </svg>\n",
              "      </button>\n",
              "      \n",
              "  <style>\n",
              "    .colab-df-container {\n",
              "      display:flex;\n",
              "      flex-wrap:wrap;\n",
              "      gap: 12px;\n",
              "    }\n",
              "\n",
              "    .colab-df-convert {\n",
              "      background-color: #E8F0FE;\n",
              "      border: none;\n",
              "      border-radius: 50%;\n",
              "      cursor: pointer;\n",
              "      display: none;\n",
              "      fill: #1967D2;\n",
              "      height: 32px;\n",
              "      padding: 0 0 0 0;\n",
              "      width: 32px;\n",
              "    }\n",
              "\n",
              "    .colab-df-convert:hover {\n",
              "      background-color: #E2EBFA;\n",
              "      box-shadow: 0px 1px 2px rgba(60, 64, 67, 0.3), 0px 1px 3px 1px rgba(60, 64, 67, 0.15);\n",
              "      fill: #174EA6;\n",
              "    }\n",
              "\n",
              "    [theme=dark] .colab-df-convert {\n",
              "      background-color: #3B4455;\n",
              "      fill: #D2E3FC;\n",
              "    }\n",
              "\n",
              "    [theme=dark] .colab-df-convert:hover {\n",
              "      background-color: #434B5C;\n",
              "      box-shadow: 0px 1px 3px 1px rgba(0, 0, 0, 0.15);\n",
              "      filter: drop-shadow(0px 1px 2px rgba(0, 0, 0, 0.3));\n",
              "      fill: #FFFFFF;\n",
              "    }\n",
              "  </style>\n",
              "\n",
              "      <script>\n",
              "        const buttonEl =\n",
              "          document.querySelector('#df-8810e168-69ea-4ad6-836d-fff76fac5070 button.colab-df-convert');\n",
              "        buttonEl.style.display =\n",
              "          google.colab.kernel.accessAllowed ? 'block' : 'none';\n",
              "\n",
              "        async function convertToInteractive(key) {\n",
              "          const element = document.querySelector('#df-8810e168-69ea-4ad6-836d-fff76fac5070');\n",
              "          const dataTable =\n",
              "            await google.colab.kernel.invokeFunction('convertToInteractive',\n",
              "                                                     [key], {});\n",
              "          if (!dataTable) return;\n",
              "\n",
              "          const docLinkHtml = 'Like what you see? Visit the ' +\n",
              "            '<a target=\"_blank\" href=https://colab.research.google.com/notebooks/data_table.ipynb>data table notebook</a>'\n",
              "            + ' to learn more about interactive tables.';\n",
              "          element.innerHTML = '';\n",
              "          dataTable['output_type'] = 'display_data';\n",
              "          await google.colab.output.renderOutput(dataTable, element);\n",
              "          const docLink = document.createElement('div');\n",
              "          docLink.innerHTML = docLinkHtml;\n",
              "          element.appendChild(docLink);\n",
              "        }\n",
              "      </script>\n",
              "    </div>\n",
              "  </div>\n",
              "  "
            ]
          },
          "metadata": {},
          "execution_count": 177
        }
      ]
    },
    {
      "cell_type": "markdown",
      "source": [
        "So, here, we have information about:\n",
        "\n",
        "*   The mileage per year for each car;\n",
        "*   The year of the car model;\n",
        "*   The price;\n",
        "*   Whether it was sold or not.\n",
        "\n",
        "Since we have more explicative features, it is harder to visualize our model. However, we can still use adequate metrics to understand if our model was able to perform accurate classifications.\n",
        "\n",
        "First, let's change the values for the target feature:\n",
        "\n"
      ],
      "metadata": {
        "id": "harMvLVCvj5n"
      }
    },
    {
      "cell_type": "code",
      "source": [
        "target_map = {'yes' : 1, 'no' : 0}\n",
        "\n",
        "df.sold = df.sold.map(target_map)"
      ],
      "metadata": {
        "id": "aDmUjOZJvMql"
      },
      "execution_count": 178,
      "outputs": []
    },
    {
      "cell_type": "markdown",
      "source": [
        "Also, let's change one of our features: instead of working with the model year, let's work with the age of the model:"
      ],
      "metadata": {
        "id": "s5HClGcYw0QP"
      }
    },
    {
      "cell_type": "code",
      "source": [
        "current_year = datetime.today( ).year\n",
        "df['model_age'] = current_year - df['model_year']\n",
        "df.drop('model_year', axis = 1, inplace = True)\n",
        "df.head( )"
      ],
      "metadata": {
        "colab": {
          "base_uri": "https://localhost:8080/",
          "height": 206
        },
        "id": "vJPdM3Dsw6Wd",
        "outputId": "15c61d02-6c8a-4f7a-ddaf-c5c893cf7b04"
      },
      "execution_count": 180,
      "outputs": [
        {
          "output_type": "execute_result",
          "data": {
            "text/plain": [
              "   mileage_per_year      price  sold  model_age\n",
              "0             21801   30941.02     1         22\n",
              "1              7843   40557.96     1         24\n",
              "2              7109   89627.50     0         16\n",
              "3             26823   95276.14     0          7\n",
              "4              7935  117384.68     1          8"
            ],
            "text/html": [
              "\n",
              "  <div id=\"df-ab9e425c-760f-45a0-a84a-a771da2126a6\">\n",
              "    <div class=\"colab-df-container\">\n",
              "      <div>\n",
              "<style scoped>\n",
              "    .dataframe tbody tr th:only-of-type {\n",
              "        vertical-align: middle;\n",
              "    }\n",
              "\n",
              "    .dataframe tbody tr th {\n",
              "        vertical-align: top;\n",
              "    }\n",
              "\n",
              "    .dataframe thead th {\n",
              "        text-align: right;\n",
              "    }\n",
              "</style>\n",
              "<table border=\"1\" class=\"dataframe\">\n",
              "  <thead>\n",
              "    <tr style=\"text-align: right;\">\n",
              "      <th></th>\n",
              "      <th>mileage_per_year</th>\n",
              "      <th>price</th>\n",
              "      <th>sold</th>\n",
              "      <th>model_age</th>\n",
              "    </tr>\n",
              "  </thead>\n",
              "  <tbody>\n",
              "    <tr>\n",
              "      <th>0</th>\n",
              "      <td>21801</td>\n",
              "      <td>30941.02</td>\n",
              "      <td>1</td>\n",
              "      <td>22</td>\n",
              "    </tr>\n",
              "    <tr>\n",
              "      <th>1</th>\n",
              "      <td>7843</td>\n",
              "      <td>40557.96</td>\n",
              "      <td>1</td>\n",
              "      <td>24</td>\n",
              "    </tr>\n",
              "    <tr>\n",
              "      <th>2</th>\n",
              "      <td>7109</td>\n",
              "      <td>89627.50</td>\n",
              "      <td>0</td>\n",
              "      <td>16</td>\n",
              "    </tr>\n",
              "    <tr>\n",
              "      <th>3</th>\n",
              "      <td>26823</td>\n",
              "      <td>95276.14</td>\n",
              "      <td>0</td>\n",
              "      <td>7</td>\n",
              "    </tr>\n",
              "    <tr>\n",
              "      <th>4</th>\n",
              "      <td>7935</td>\n",
              "      <td>117384.68</td>\n",
              "      <td>1</td>\n",
              "      <td>8</td>\n",
              "    </tr>\n",
              "  </tbody>\n",
              "</table>\n",
              "</div>\n",
              "      <button class=\"colab-df-convert\" onclick=\"convertToInteractive('df-ab9e425c-760f-45a0-a84a-a771da2126a6')\"\n",
              "              title=\"Convert this dataframe to an interactive table.\"\n",
              "              style=\"display:none;\">\n",
              "        \n",
              "  <svg xmlns=\"http://www.w3.org/2000/svg\" height=\"24px\"viewBox=\"0 0 24 24\"\n",
              "       width=\"24px\">\n",
              "    <path d=\"M0 0h24v24H0V0z\" fill=\"none\"/>\n",
              "    <path d=\"M18.56 5.44l.94 2.06.94-2.06 2.06-.94-2.06-.94-.94-2.06-.94 2.06-2.06.94zm-11 1L8.5 8.5l.94-2.06 2.06-.94-2.06-.94L8.5 2.5l-.94 2.06-2.06.94zm10 10l.94 2.06.94-2.06 2.06-.94-2.06-.94-.94-2.06-.94 2.06-2.06.94z\"/><path d=\"M17.41 7.96l-1.37-1.37c-.4-.4-.92-.59-1.43-.59-.52 0-1.04.2-1.43.59L10.3 9.45l-7.72 7.72c-.78.78-.78 2.05 0 2.83L4 21.41c.39.39.9.59 1.41.59.51 0 1.02-.2 1.41-.59l7.78-7.78 2.81-2.81c.8-.78.8-2.07 0-2.86zM5.41 20L4 18.59l7.72-7.72 1.47 1.35L5.41 20z\"/>\n",
              "  </svg>\n",
              "      </button>\n",
              "      \n",
              "  <style>\n",
              "    .colab-df-container {\n",
              "      display:flex;\n",
              "      flex-wrap:wrap;\n",
              "      gap: 12px;\n",
              "    }\n",
              "\n",
              "    .colab-df-convert {\n",
              "      background-color: #E8F0FE;\n",
              "      border: none;\n",
              "      border-radius: 50%;\n",
              "      cursor: pointer;\n",
              "      display: none;\n",
              "      fill: #1967D2;\n",
              "      height: 32px;\n",
              "      padding: 0 0 0 0;\n",
              "      width: 32px;\n",
              "    }\n",
              "\n",
              "    .colab-df-convert:hover {\n",
              "      background-color: #E2EBFA;\n",
              "      box-shadow: 0px 1px 2px rgba(60, 64, 67, 0.3), 0px 1px 3px 1px rgba(60, 64, 67, 0.15);\n",
              "      fill: #174EA6;\n",
              "    }\n",
              "\n",
              "    [theme=dark] .colab-df-convert {\n",
              "      background-color: #3B4455;\n",
              "      fill: #D2E3FC;\n",
              "    }\n",
              "\n",
              "    [theme=dark] .colab-df-convert:hover {\n",
              "      background-color: #434B5C;\n",
              "      box-shadow: 0px 1px 3px 1px rgba(0, 0, 0, 0.15);\n",
              "      filter: drop-shadow(0px 1px 2px rgba(0, 0, 0, 0.3));\n",
              "      fill: #FFFFFF;\n",
              "    }\n",
              "  </style>\n",
              "\n",
              "      <script>\n",
              "        const buttonEl =\n",
              "          document.querySelector('#df-ab9e425c-760f-45a0-a84a-a771da2126a6 button.colab-df-convert');\n",
              "        buttonEl.style.display =\n",
              "          google.colab.kernel.accessAllowed ? 'block' : 'none';\n",
              "\n",
              "        async function convertToInteractive(key) {\n",
              "          const element = document.querySelector('#df-ab9e425c-760f-45a0-a84a-a771da2126a6');\n",
              "          const dataTable =\n",
              "            await google.colab.kernel.invokeFunction('convertToInteractive',\n",
              "                                                     [key], {});\n",
              "          if (!dataTable) return;\n",
              "\n",
              "          const docLinkHtml = 'Like what you see? Visit the ' +\n",
              "            '<a target=\"_blank\" href=https://colab.research.google.com/notebooks/data_table.ipynb>data table notebook</a>'\n",
              "            + ' to learn more about interactive tables.';\n",
              "          element.innerHTML = '';\n",
              "          dataTable['output_type'] = 'display_data';\n",
              "          await google.colab.output.renderOutput(dataTable, element);\n",
              "          const docLink = document.createElement('div');\n",
              "          docLink.innerHTML = docLinkHtml;\n",
              "          element.appendChild(docLink);\n",
              "        }\n",
              "      </script>\n",
              "    </div>\n",
              "  </div>\n",
              "  "
            ]
          },
          "metadata": {},
          "execution_count": 180
        }
      ]
    },
    {
      "cell_type": "markdown",
      "source": [
        "Finally, let's define our sets for model training/testing:"
      ],
      "metadata": {
        "id": "QBz1Rr3ox0RW"
      }
    },
    {
      "cell_type": "code",
      "source": [
        "y = df.sold\n",
        "X = df.drop('sold', axis = 1)"
      ],
      "metadata": {
        "id": "mL8AKebQxKR7"
      },
      "execution_count": 181,
      "outputs": []
    },
    {
      "cell_type": "markdown",
      "source": [
        "Now, let's normalize our explicative features:"
      ],
      "metadata": {
        "id": "pNW69y94znk-"
      }
    },
    {
      "cell_type": "code",
      "source": [
        "scaler = StandardScaler( )\n",
        "scaler.fit(X)\n",
        "\n",
        "X_train_raw, X_test_raw, y_train, y_test = train_test_split(X, y, test_size = 0.25, random_state = SEED, stratify = y)\n",
        "\n",
        "X_train_np = scaler.transform(X_train_raw)\n",
        "X_test_np = scaler.transform(X_test_raw)\n",
        "\n",
        "X_train = pd.DataFrame(X_train_np, columns = X_train_raw.columns)\n",
        "X_test = pd.DataFrame(X_test_np, columns = X_train_raw.columns)\n",
        "\n",
        "SEED = 42"
      ],
      "metadata": {
        "id": "n4DR21gezq2I"
      },
      "execution_count": 184,
      "outputs": []
    },
    {
      "cell_type": "markdown",
      "source": [
        "Let's use our linear SVC model:"
      ],
      "metadata": {
        "id": "2nowBKsZyM6t"
      }
    },
    {
      "cell_type": "code",
      "source": [
        "linear_svc = LinearSVC( )\n",
        "linear_svc.fit(X_train, y_train)\n",
        "\n",
        "y_pred = linear_svc.predict(X_test)\n",
        "\n",
        "acc = accuracy_score(y_test, y_pred)\n",
        "\n",
        "print(\"Accuracy: {:.2f}%\".format(acc*100))"
      ],
      "metadata": {
        "colab": {
          "base_uri": "https://localhost:8080/"
        },
        "id": "UcQsydCOx9EE",
        "outputId": "756afa47-acbe-49ee-91ef-22ed5a8840e6"
      },
      "execution_count": 185,
      "outputs": [
        {
          "output_type": "stream",
          "name": "stdout",
          "text": [
            "Accuracy: 70.12%\n"
          ]
        }
      ]
    },
    {
      "cell_type": "markdown",
      "source": [
        "Our accuracy using the Linear SVC is ~70%, which means that we were correct in almost 70% of our predictions. For comparison purposes, let's use a dummy classifier:"
      ],
      "metadata": {
        "id": "Da5g5HNGysTG"
      }
    },
    {
      "cell_type": "code",
      "source": [
        "dummy_clf = DummyClassifier(strategy = 'most_frequent')\n",
        "dummy_clf.fit(X_train, y_train)\n",
        "\n",
        "y_pred = dummy_clf.predict(X_test)\n",
        "\n",
        "acc = accuracy_score(y_test, y_pred)\n",
        "\n",
        "print(\"Accuracy: {:.2f}%\".format(acc*100))"
      ],
      "metadata": {
        "colab": {
          "base_uri": "https://localhost:8080/"
        },
        "id": "VIdkYQbMyxeI",
        "outputId": "61a04e6b-f62c-4f28-cc03-a2310e04ca8a"
      },
      "execution_count": 186,
      "outputs": [
        {
          "output_type": "stream",
          "name": "stdout",
          "text": [
            "Accuracy: 58.00%\n"
          ]
        }
      ]
    },
    {
      "cell_type": "markdown",
      "source": [
        "So, our Linear SVC algorithm is better than the dummy classifier. Now, let's use a generalized SVC model:"
      ],
      "metadata": {
        "id": "VkwchCcIzZew"
      }
    },
    {
      "cell_type": "code",
      "source": [
        "gen_svc = SVC( )\n",
        "gen_svc.fit(X_train, y_train)\n",
        "\n",
        "y_pred = gen_svc.predict(X_test)\n",
        "\n",
        "acc = accuracy_score(y_test, y_pred)\n",
        "\n",
        "print(\"Accuracy: {:.2f}%\".format(acc*100))"
      ],
      "metadata": {
        "colab": {
          "base_uri": "https://localhost:8080/"
        },
        "id": "k_o7ZkDJy6-m",
        "outputId": "568e3d87-adbb-441a-e871-13132a6c2f85"
      },
      "execution_count": 187,
      "outputs": [
        {
          "output_type": "stream",
          "name": "stdout",
          "text": [
            "Accuracy: 76.00%\n"
          ]
        }
      ]
    },
    {
      "cell_type": "markdown",
      "source": [
        "So, the generalized SVC model was the best one, as its accuracy was the highest (76%)!"
      ],
      "metadata": {
        "id": "hbQJsXpk0O7V"
      }
    },
    {
      "cell_type": "markdown",
      "source": [
        "## Using a tree-based algorithm\n",
        "\n",
        "Support Vector Machines are very basic algorithms for classification. They work as a black-box and, thus, it is not trivial to understand what the classifier is doing, and why it is performing certain classifications. To get a better sense of this, we can use different algorithms, derived from decision trees.\n",
        "\n",
        "For the decision tree, we will not use the standard scaler (decision trees usually work well even if data is not normalized). For that end, we simply do:"
      ],
      "metadata": {
        "id": "_aMZ1CY203Tm"
      }
    },
    {
      "cell_type": "code",
      "source": [
        "X_train, X_test, y_train, y_test = train_test_split(X, y, test_size = 0.25, random_state = SEED, stratify = y)\n",
        "\n",
        "dec_tree = DecisionTreeClassifier(max_depth = 3)\n",
        "dec_tree.fit(X_train, y_train)\n",
        "\n",
        "y_pred = dec_tree.predict(X_test)\n",
        "\n",
        "acc = accuracy_score(y_test, y_pred)\n",
        "\n",
        "print(\"Accuracy: {:.2f}%\".format(acc*100))"
      ],
      "metadata": {
        "colab": {
          "base_uri": "https://localhost:8080/"
        },
        "id": "zTrIZjge0Viw",
        "outputId": "5f78aecd-f56d-49bc-f5c4-4a2c438e15f2"
      },
      "execution_count": 207,
      "outputs": [
        {
          "output_type": "stream",
          "name": "stdout",
          "text": [
            "Accuracy: 78.04%\n"
          ]
        }
      ]
    },
    {
      "cell_type": "markdown",
      "source": [
        "So, our decision tree was a little better than our SVC algorithm. Using decision trees, we can understand why the model is making a given decision. To visualize the decision tree, we can use:"
      ],
      "metadata": {
        "id": "xhwQAamX11k9"
      }
    },
    {
      "cell_type": "code",
      "source": [
        "dot_data = export_graphviz(dec_tree, feature_names = X.columns, \n",
        "                           filled = True, rounded = True, \n",
        "                           class_names = ['no', 'yes'], label='all')\n",
        "graph = graphviz.Source(dot_data)\n",
        "graph"
      ],
      "metadata": {
        "colab": {
          "base_uri": "https://localhost:8080/",
          "height": 619
        },
        "id": "FBYQihA01qxB",
        "outputId": "8952f5f7-bc85-4d19-d7ea-0a1a49b857c3"
      },
      "execution_count": 209,
      "outputs": [
        {
          "output_type": "execute_result",
          "data": {
            "text/plain": [
              "<graphviz.files.Source at 0x7fd5a8899a10>"
            ],
            "image/svg+xml": "<?xml version=\"1.0\" encoding=\"UTF-8\" standalone=\"no\"?>\n<!DOCTYPE svg PUBLIC \"-//W3C//DTD SVG 1.1//EN\"\n \"http://www.w3.org/Graphics/SVG/1.1/DTD/svg11.dtd\">\n<!-- Generated by graphviz version 2.40.1 (20161225.0304)\n -->\n<!-- Title: Tree Pages: 1 -->\n<svg width=\"922pt\" height=\"433pt\"\n viewBox=\"0.00 0.00 922.00 433.00\" xmlns=\"http://www.w3.org/2000/svg\" xmlns:xlink=\"http://www.w3.org/1999/xlink\">\n<g id=\"graph0\" class=\"graph\" transform=\"scale(1 1) rotate(0) translate(4 429)\">\n<title>Tree</title>\n<polygon fill=\"#ffffff\" stroke=\"transparent\" points=\"-4,4 -4,-429 918,-429 918,4 -4,4\"/>\n<!-- 0 -->\n<g id=\"node1\" class=\"node\">\n<title>0</title>\n<path fill=\"#c8e4f8\" stroke=\"#000000\" d=\"M403.5,-425C403.5,-425 278.5,-425 278.5,-425 272.5,-425 266.5,-419 266.5,-413 266.5,-413 266.5,-354 266.5,-354 266.5,-348 272.5,-342 278.5,-342 278.5,-342 403.5,-342 403.5,-342 409.5,-342 415.5,-348 415.5,-354 415.5,-354 415.5,-413 415.5,-413 415.5,-419 409.5,-425 403.5,-425\"/>\n<text text-anchor=\"middle\" x=\"341\" y=\"-409.8\" font-family=\"Helvetica,sans-Serif\" font-size=\"14.00\" fill=\"#000000\">price &lt;= 60069.984</text>\n<text text-anchor=\"middle\" x=\"341\" y=\"-394.8\" font-family=\"Helvetica,sans-Serif\" font-size=\"14.00\" fill=\"#000000\">gini = 0.487</text>\n<text text-anchor=\"middle\" x=\"341\" y=\"-379.8\" font-family=\"Helvetica,sans-Serif\" font-size=\"14.00\" fill=\"#000000\">samples = 7500</text>\n<text text-anchor=\"middle\" x=\"341\" y=\"-364.8\" font-family=\"Helvetica,sans-Serif\" font-size=\"14.00\" fill=\"#000000\">value = [3150, 4350]</text>\n<text text-anchor=\"middle\" x=\"341\" y=\"-349.8\" font-family=\"Helvetica,sans-Serif\" font-size=\"14.00\" fill=\"#000000\">class = yes</text>\n</g>\n<!-- 1 -->\n<g id=\"node2\" class=\"node\">\n<title>1</title>\n<path fill=\"#52a9e8\" stroke=\"#000000\" d=\"M303,-306C303,-306 185,-306 185,-306 179,-306 173,-300 173,-294 173,-294 173,-235 173,-235 173,-229 179,-223 185,-223 185,-223 303,-223 303,-223 309,-223 315,-229 315,-235 315,-235 315,-294 315,-294 315,-300 309,-306 303,-306\"/>\n<text text-anchor=\"middle\" x=\"244\" y=\"-290.8\" font-family=\"Helvetica,sans-Serif\" font-size=\"14.00\" fill=\"#000000\">price &lt;= 40083.385</text>\n<text text-anchor=\"middle\" x=\"244\" y=\"-275.8\" font-family=\"Helvetica,sans-Serif\" font-size=\"14.00\" fill=\"#000000\">gini = 0.2</text>\n<text text-anchor=\"middle\" x=\"244\" y=\"-260.8\" font-family=\"Helvetica,sans-Serif\" font-size=\"14.00\" fill=\"#000000\">samples = 3290</text>\n<text text-anchor=\"middle\" x=\"244\" y=\"-245.8\" font-family=\"Helvetica,sans-Serif\" font-size=\"14.00\" fill=\"#000000\">value = [370, 2920]</text>\n<text text-anchor=\"middle\" x=\"244\" y=\"-230.8\" font-family=\"Helvetica,sans-Serif\" font-size=\"14.00\" fill=\"#000000\">class = yes</text>\n</g>\n<!-- 0&#45;&gt;1 -->\n<g id=\"edge1\" class=\"edge\">\n<title>0&#45;&gt;1</title>\n<path fill=\"none\" stroke=\"#000000\" d=\"M307.0741,-341.8796C299.8062,-332.9633 292.057,-323.4565 284.5672,-314.268\"/>\n<polygon fill=\"#000000\" stroke=\"#000000\" points=\"287.1018,-311.8379 278.0707,-306.2981 281.676,-316.2606 287.1018,-311.8379\"/>\n<text text-anchor=\"middle\" x=\"275.5375\" y=\"-327.4694\" font-family=\"Helvetica,sans-Serif\" font-size=\"14.00\" fill=\"#000000\">True</text>\n</g>\n<!-- 6 -->\n<g id=\"node7\" class=\"node\">\n<title>6</title>\n<path fill=\"#f2c29f\" stroke=\"#000000\" d=\"M581.5,-306C581.5,-306 394.5,-306 394.5,-306 388.5,-306 382.5,-300 382.5,-294 382.5,-294 382.5,-235 382.5,-235 382.5,-229 388.5,-223 394.5,-223 394.5,-223 581.5,-223 581.5,-223 587.5,-223 593.5,-229 593.5,-235 593.5,-235 593.5,-294 593.5,-294 593.5,-300 587.5,-306 581.5,-306\"/>\n<text text-anchor=\"middle\" x=\"488\" y=\"-290.8\" font-family=\"Helvetica,sans-Serif\" font-size=\"14.00\" fill=\"#000000\">mileage_per_year &lt;= 14990.5</text>\n<text text-anchor=\"middle\" x=\"488\" y=\"-275.8\" font-family=\"Helvetica,sans-Serif\" font-size=\"14.00\" fill=\"#000000\">gini = 0.449</text>\n<text text-anchor=\"middle\" x=\"488\" y=\"-260.8\" font-family=\"Helvetica,sans-Serif\" font-size=\"14.00\" fill=\"#000000\">samples = 4210</text>\n<text text-anchor=\"middle\" x=\"488\" y=\"-245.8\" font-family=\"Helvetica,sans-Serif\" font-size=\"14.00\" fill=\"#000000\">value = [2780, 1430]</text>\n<text text-anchor=\"middle\" x=\"488\" y=\"-230.8\" font-family=\"Helvetica,sans-Serif\" font-size=\"14.00\" fill=\"#000000\">class = no</text>\n</g>\n<!-- 0&#45;&gt;6 -->\n<g id=\"edge6\" class=\"edge\">\n<title>0&#45;&gt;6</title>\n<path fill=\"none\" stroke=\"#000000\" d=\"M392.4135,-341.8796C404.0952,-332.4229 416.5975,-322.302 428.581,-312.6011\"/>\n<polygon fill=\"#000000\" stroke=\"#000000\" points=\"430.7968,-315.3105 436.3671,-306.2981 426.3924,-309.8697 430.7968,-315.3105\"/>\n<text text-anchor=\"middle\" x=\"433.75\" y=\"-327.4607\" font-family=\"Helvetica,sans-Serif\" font-size=\"14.00\" fill=\"#000000\">False</text>\n</g>\n<!-- 2 -->\n<g id=\"node3\" class=\"node\">\n<title>2</title>\n<path fill=\"#399de5\" stroke=\"#000000\" d=\"M112,-179.5C112,-179.5 12,-179.5 12,-179.5 6,-179.5 0,-173.5 0,-167.5 0,-167.5 0,-123.5 0,-123.5 0,-117.5 6,-111.5 12,-111.5 12,-111.5 112,-111.5 112,-111.5 118,-111.5 124,-117.5 124,-123.5 124,-123.5 124,-167.5 124,-167.5 124,-173.5 118,-179.5 112,-179.5\"/>\n<text text-anchor=\"middle\" x=\"62\" y=\"-164.3\" font-family=\"Helvetica,sans-Serif\" font-size=\"14.00\" fill=\"#000000\">gini = 0.0</text>\n<text text-anchor=\"middle\" x=\"62\" y=\"-149.3\" font-family=\"Helvetica,sans-Serif\" font-size=\"14.00\" fill=\"#000000\">samples = 1476</text>\n<text text-anchor=\"middle\" x=\"62\" y=\"-134.3\" font-family=\"Helvetica,sans-Serif\" font-size=\"14.00\" fill=\"#000000\">value = [0, 1476]</text>\n<text text-anchor=\"middle\" x=\"62\" y=\"-119.3\" font-family=\"Helvetica,sans-Serif\" font-size=\"14.00\" fill=\"#000000\">class = yes</text>\n</g>\n<!-- 1&#45;&gt;2 -->\n<g id=\"edge2\" class=\"edge\">\n<title>1&#45;&gt;2</title>\n<path fill=\"none\" stroke=\"#000000\" d=\"M180.3452,-222.8796C161.5889,-210.6158 141.1239,-197.2348 122.567,-185.1015\"/>\n<polygon fill=\"#000000\" stroke=\"#000000\" points=\"124.4733,-182.1662 114.1882,-179.623 120.6425,-188.025 124.4733,-182.1662\"/>\n</g>\n<!-- 3 -->\n<g id=\"node4\" class=\"node\">\n<title>3</title>\n<path fill=\"#6cb6ec\" stroke=\"#000000\" d=\"M333.5,-187C333.5,-187 154.5,-187 154.5,-187 148.5,-187 142.5,-181 142.5,-175 142.5,-175 142.5,-116 142.5,-116 142.5,-110 148.5,-104 154.5,-104 154.5,-104 333.5,-104 333.5,-104 339.5,-104 345.5,-110 345.5,-116 345.5,-116 345.5,-175 345.5,-175 345.5,-181 339.5,-187 333.5,-187\"/>\n<text text-anchor=\"middle\" x=\"244\" y=\"-171.8\" font-family=\"Helvetica,sans-Serif\" font-size=\"14.00\" fill=\"#000000\">mileage_per_year &lt;= 3993.5</text>\n<text text-anchor=\"middle\" x=\"244\" y=\"-156.8\" font-family=\"Helvetica,sans-Serif\" font-size=\"14.00\" fill=\"#000000\">gini = 0.325</text>\n<text text-anchor=\"middle\" x=\"244\" y=\"-141.8\" font-family=\"Helvetica,sans-Serif\" font-size=\"14.00\" fill=\"#000000\">samples = 1814</text>\n<text text-anchor=\"middle\" x=\"244\" y=\"-126.8\" font-family=\"Helvetica,sans-Serif\" font-size=\"14.00\" fill=\"#000000\">value = [370, 1444]</text>\n<text text-anchor=\"middle\" x=\"244\" y=\"-111.8\" font-family=\"Helvetica,sans-Serif\" font-size=\"14.00\" fill=\"#000000\">class = yes</text>\n</g>\n<!-- 1&#45;&gt;3 -->\n<g id=\"edge3\" class=\"edge\">\n<title>1&#45;&gt;3</title>\n<path fill=\"none\" stroke=\"#000000\" d=\"M244,-222.8796C244,-214.6838 244,-205.9891 244,-197.5013\"/>\n<polygon fill=\"#000000\" stroke=\"#000000\" points=\"247.5001,-197.298 244,-187.2981 240.5001,-197.2981 247.5001,-197.298\"/>\n</g>\n<!-- 4 -->\n<g id=\"node5\" class=\"node\">\n<title>4</title>\n<path fill=\"#e58139\" stroke=\"#000000\" d=\"M143.5,-68C143.5,-68 68.5,-68 68.5,-68 62.5,-68 56.5,-62 56.5,-56 56.5,-56 56.5,-12 56.5,-12 56.5,-6 62.5,0 68.5,0 68.5,0 143.5,0 143.5,0 149.5,0 155.5,-6 155.5,-12 155.5,-12 155.5,-56 155.5,-56 155.5,-62 149.5,-68 143.5,-68\"/>\n<text text-anchor=\"middle\" x=\"106\" y=\"-52.8\" font-family=\"Helvetica,sans-Serif\" font-size=\"14.00\" fill=\"#000000\">gini = 0.0</text>\n<text text-anchor=\"middle\" x=\"106\" y=\"-37.8\" font-family=\"Helvetica,sans-Serif\" font-size=\"14.00\" fill=\"#000000\">samples = 3</text>\n<text text-anchor=\"middle\" x=\"106\" y=\"-22.8\" font-family=\"Helvetica,sans-Serif\" font-size=\"14.00\" fill=\"#000000\">value = [3, 0]</text>\n<text text-anchor=\"middle\" x=\"106\" y=\"-7.8\" font-family=\"Helvetica,sans-Serif\" font-size=\"14.00\" fill=\"#000000\">class = no</text>\n</g>\n<!-- 3&#45;&gt;4 -->\n<g id=\"edge4\" class=\"edge\">\n<title>3&#45;&gt;4</title>\n<path fill=\"none\" stroke=\"#000000\" d=\"M192.6139,-103.9815C180.7839,-94.4232 168.2136,-84.2668 156.4249,-74.7419\"/>\n<polygon fill=\"#000000\" stroke=\"#000000\" points=\"158.3851,-71.826 148.4071,-68.2637 153.9858,-77.2708 158.3851,-71.826\"/>\n</g>\n<!-- 5 -->\n<g id=\"node6\" class=\"node\">\n<title>5</title>\n<path fill=\"#6bb6ec\" stroke=\"#000000\" d=\"M302,-68C302,-68 186,-68 186,-68 180,-68 174,-62 174,-56 174,-56 174,-12 174,-12 174,-6 180,0 186,0 186,0 302,0 302,0 308,0 314,-6 314,-12 314,-12 314,-56 314,-56 314,-62 308,-68 302,-68\"/>\n<text text-anchor=\"middle\" x=\"244\" y=\"-52.8\" font-family=\"Helvetica,sans-Serif\" font-size=\"14.00\" fill=\"#000000\">gini = 0.323</text>\n<text text-anchor=\"middle\" x=\"244\" y=\"-37.8\" font-family=\"Helvetica,sans-Serif\" font-size=\"14.00\" fill=\"#000000\">samples = 1811</text>\n<text text-anchor=\"middle\" x=\"244\" y=\"-22.8\" font-family=\"Helvetica,sans-Serif\" font-size=\"14.00\" fill=\"#000000\">value = [367, 1444]</text>\n<text text-anchor=\"middle\" x=\"244\" y=\"-7.8\" font-family=\"Helvetica,sans-Serif\" font-size=\"14.00\" fill=\"#000000\">class = yes</text>\n</g>\n<!-- 3&#45;&gt;5 -->\n<g id=\"edge5\" class=\"edge\">\n<title>3&#45;&gt;5</title>\n<path fill=\"none\" stroke=\"#000000\" d=\"M244,-103.9815C244,-95.618 244,-86.7965 244,-78.3409\"/>\n<polygon fill=\"#000000\" stroke=\"#000000\" points=\"247.5001,-78.2636 244,-68.2637 240.5001,-78.2637 247.5001,-78.2636\"/>\n</g>\n<!-- 7 -->\n<g id=\"node8\" class=\"node\">\n<title>7</title>\n<path fill=\"#fbede2\" stroke=\"#000000\" d=\"M551,-187C551,-187 425,-187 425,-187 419,-187 413,-181 413,-175 413,-175 413,-116 413,-116 413,-110 419,-104 425,-104 425,-104 551,-104 551,-104 557,-104 563,-110 563,-116 563,-116 563,-175 563,-175 563,-181 557,-187 551,-187\"/>\n<text text-anchor=\"middle\" x=\"488\" y=\"-171.8\" font-family=\"Helvetica,sans-Serif\" font-size=\"14.00\" fill=\"#000000\">price &lt;= 100058.801</text>\n<text text-anchor=\"middle\" x=\"488\" y=\"-156.8\" font-family=\"Helvetica,sans-Serif\" font-size=\"14.00\" fill=\"#000000\">gini = 0.497</text>\n<text text-anchor=\"middle\" x=\"488\" y=\"-141.8\" font-family=\"Helvetica,sans-Serif\" font-size=\"14.00\" fill=\"#000000\">samples = 2629</text>\n<text text-anchor=\"middle\" x=\"488\" y=\"-126.8\" font-family=\"Helvetica,sans-Serif\" font-size=\"14.00\" fill=\"#000000\">value = [1418, 1211]</text>\n<text text-anchor=\"middle\" x=\"488\" y=\"-111.8\" font-family=\"Helvetica,sans-Serif\" font-size=\"14.00\" fill=\"#000000\">class = no</text>\n</g>\n<!-- 6&#45;&gt;7 -->\n<g id=\"edge7\" class=\"edge\">\n<title>6&#45;&gt;7</title>\n<path fill=\"none\" stroke=\"#000000\" d=\"M488,-222.8796C488,-214.6838 488,-205.9891 488,-197.5013\"/>\n<polygon fill=\"#000000\" stroke=\"#000000\" points=\"491.5001,-197.298 488,-187.2981 484.5001,-197.2981 491.5001,-197.298\"/>\n</g>\n<!-- 10 -->\n<g id=\"node11\" class=\"node\">\n<title>10</title>\n<path fill=\"#e99559\" stroke=\"#000000\" d=\"M769,-187C769,-187 643,-187 643,-187 637,-187 631,-181 631,-175 631,-175 631,-116 631,-116 631,-110 637,-104 643,-104 643,-104 769,-104 769,-104 775,-104 781,-110 781,-116 781,-116 781,-175 781,-175 781,-181 775,-187 769,-187\"/>\n<text text-anchor=\"middle\" x=\"706\" y=\"-171.8\" font-family=\"Helvetica,sans-Serif\" font-size=\"14.00\" fill=\"#000000\">price &lt;= 100076.957</text>\n<text text-anchor=\"middle\" x=\"706\" y=\"-156.8\" font-family=\"Helvetica,sans-Serif\" font-size=\"14.00\" fill=\"#000000\">gini = 0.239</text>\n<text text-anchor=\"middle\" x=\"706\" y=\"-141.8\" font-family=\"Helvetica,sans-Serif\" font-size=\"14.00\" fill=\"#000000\">samples = 1581</text>\n<text text-anchor=\"middle\" x=\"706\" y=\"-126.8\" font-family=\"Helvetica,sans-Serif\" font-size=\"14.00\" fill=\"#000000\">value = [1362, 219]</text>\n<text text-anchor=\"middle\" x=\"706\" y=\"-111.8\" font-family=\"Helvetica,sans-Serif\" font-size=\"14.00\" fill=\"#000000\">class = no</text>\n</g>\n<!-- 6&#45;&gt;10 -->\n<g id=\"edge10\" class=\"edge\">\n<title>6&#45;&gt;10</title>\n<path fill=\"none\" stroke=\"#000000\" d=\"M564.2458,-222.8796C582.9012,-212.6962 602.9676,-201.7424 621.9649,-191.3724\"/>\n<polygon fill=\"#000000\" stroke=\"#000000\" points=\"623.8,-194.3582 630.9005,-186.4947 620.4461,-188.214 623.8,-194.3582\"/>\n</g>\n<!-- 8 -->\n<g id=\"node9\" class=\"node\">\n<title>8</title>\n<path fill=\"#f8decb\" stroke=\"#000000\" d=\"M460,-68C460,-68 344,-68 344,-68 338,-68 332,-62 332,-56 332,-56 332,-12 332,-12 332,-6 338,0 344,0 344,0 460,0 460,0 466,0 472,-6 472,-12 472,-12 472,-56 472,-56 472,-62 466,-68 460,-68\"/>\n<text text-anchor=\"middle\" x=\"402\" y=\"-52.8\" font-family=\"Helvetica,sans-Serif\" font-size=\"14.00\" fill=\"#000000\">gini = 0.488</text>\n<text text-anchor=\"middle\" x=\"402\" y=\"-37.8\" font-family=\"Helvetica,sans-Serif\" font-size=\"14.00\" fill=\"#000000\">samples = 2217</text>\n<text text-anchor=\"middle\" x=\"402\" y=\"-22.8\" font-family=\"Helvetica,sans-Serif\" font-size=\"14.00\" fill=\"#000000\">value = [1277, 940]</text>\n<text text-anchor=\"middle\" x=\"402\" y=\"-7.8\" font-family=\"Helvetica,sans-Serif\" font-size=\"14.00\" fill=\"#000000\">class = no</text>\n</g>\n<!-- 7&#45;&gt;8 -->\n<g id=\"edge8\" class=\"edge\">\n<title>7&#45;&gt;8</title>\n<path fill=\"none\" stroke=\"#000000\" d=\"M455.9768,-103.9815C449.0298,-94.9747 441.6731,-85.4367 434.7004,-76.3965\"/>\n<polygon fill=\"#000000\" stroke=\"#000000\" points=\"437.3064,-74.0444 428.4276,-68.2637 431.7636,-78.3196 437.3064,-74.0444\"/>\n</g>\n<!-- 9 -->\n<g id=\"node10\" class=\"node\">\n<title>9</title>\n<path fill=\"#a0d0f3\" stroke=\"#000000\" d=\"M610,-68C610,-68 502,-68 502,-68 496,-68 490,-62 490,-56 490,-56 490,-12 490,-12 490,-6 496,0 502,0 502,0 610,0 610,0 616,0 622,-6 622,-12 622,-12 622,-56 622,-56 622,-62 616,-68 610,-68\"/>\n<text text-anchor=\"middle\" x=\"556\" y=\"-52.8\" font-family=\"Helvetica,sans-Serif\" font-size=\"14.00\" fill=\"#000000\">gini = 0.45</text>\n<text text-anchor=\"middle\" x=\"556\" y=\"-37.8\" font-family=\"Helvetica,sans-Serif\" font-size=\"14.00\" fill=\"#000000\">samples = 412</text>\n<text text-anchor=\"middle\" x=\"556\" y=\"-22.8\" font-family=\"Helvetica,sans-Serif\" font-size=\"14.00\" fill=\"#000000\">value = [141, 271]</text>\n<text text-anchor=\"middle\" x=\"556\" y=\"-7.8\" font-family=\"Helvetica,sans-Serif\" font-size=\"14.00\" fill=\"#000000\">class = yes</text>\n</g>\n<!-- 7&#45;&gt;9 -->\n<g id=\"edge9\" class=\"edge\">\n<title>7&#45;&gt;9</title>\n<path fill=\"none\" stroke=\"#000000\" d=\"M513.3207,-103.9815C518.7016,-95.1585 524.3932,-85.8258 529.8059,-76.9506\"/>\n<polygon fill=\"#000000\" stroke=\"#000000\" points=\"532.8851,-78.6236 535.1038,-68.2637 526.9088,-74.9789 532.8851,-78.6236\"/>\n</g>\n<!-- 11 -->\n<g id=\"node12\" class=\"node\">\n<title>11</title>\n<path fill=\"#e68641\" stroke=\"#000000\" d=\"M760,-68C760,-68 652,-68 652,-68 646,-68 640,-62 640,-56 640,-56 640,-12 640,-12 640,-6 646,0 652,0 652,0 760,0 760,0 766,0 772,-6 772,-12 772,-12 772,-56 772,-56 772,-62 766,-68 760,-68\"/>\n<text text-anchor=\"middle\" x=\"706\" y=\"-52.8\" font-family=\"Helvetica,sans-Serif\" font-size=\"14.00\" fill=\"#000000\">gini = 0.074</text>\n<text text-anchor=\"middle\" x=\"706\" y=\"-37.8\" font-family=\"Helvetica,sans-Serif\" font-size=\"14.00\" fill=\"#000000\">samples = 1334</text>\n<text text-anchor=\"middle\" x=\"706\" y=\"-22.8\" font-family=\"Helvetica,sans-Serif\" font-size=\"14.00\" fill=\"#000000\">value = [1283, 51]</text>\n<text text-anchor=\"middle\" x=\"706\" y=\"-7.8\" font-family=\"Helvetica,sans-Serif\" font-size=\"14.00\" fill=\"#000000\">class = no</text>\n</g>\n<!-- 10&#45;&gt;11 -->\n<g id=\"edge11\" class=\"edge\">\n<title>10&#45;&gt;11</title>\n<path fill=\"none\" stroke=\"#000000\" d=\"M706,-103.9815C706,-95.618 706,-86.7965 706,-78.3409\"/>\n<polygon fill=\"#000000\" stroke=\"#000000\" points=\"709.5001,-78.2636 706,-68.2637 702.5001,-78.2637 709.5001,-78.2636\"/>\n</g>\n<!-- 12 -->\n<g id=\"node13\" class=\"node\">\n<title>12</title>\n<path fill=\"#96cbf1\" stroke=\"#000000\" d=\"M902,-68C902,-68 802,-68 802,-68 796,-68 790,-62 790,-56 790,-56 790,-12 790,-12 790,-6 796,0 802,0 802,0 902,0 902,0 908,0 914,-6 914,-12 914,-12 914,-56 914,-56 914,-62 908,-68 902,-68\"/>\n<text text-anchor=\"middle\" x=\"852\" y=\"-52.8\" font-family=\"Helvetica,sans-Serif\" font-size=\"14.00\" fill=\"#000000\">gini = 0.435</text>\n<text text-anchor=\"middle\" x=\"852\" y=\"-37.8\" font-family=\"Helvetica,sans-Serif\" font-size=\"14.00\" fill=\"#000000\">samples = 247</text>\n<text text-anchor=\"middle\" x=\"852\" y=\"-22.8\" font-family=\"Helvetica,sans-Serif\" font-size=\"14.00\" fill=\"#000000\">value = [79, 168]</text>\n<text text-anchor=\"middle\" x=\"852\" y=\"-7.8\" font-family=\"Helvetica,sans-Serif\" font-size=\"14.00\" fill=\"#000000\">class = yes</text>\n</g>\n<!-- 10&#45;&gt;12 -->\n<g id=\"edge12\" class=\"edge\">\n<title>10&#45;&gt;12</title>\n<path fill=\"none\" stroke=\"#000000\" d=\"M760.365,-103.9815C773.0011,-94.3313 786.4356,-84.0714 799.0115,-74.4673\"/>\n<polygon fill=\"#000000\" stroke=\"#000000\" points=\"801.3114,-77.1148 807.1346,-68.2637 797.0628,-71.5515 801.3114,-77.1148\"/>\n</g>\n</g>\n</svg>\n"
          },
          "metadata": {},
          "execution_count": 209
        }
      ]
    },
    {
      "cell_type": "markdown",
      "source": [
        "Here, it is easier to understand why the model is making a given decision. For instance, if the price is lower than 40083.385, our model decides that the car will be sold. If the price is lower than 60069.984, higher than 40083;385, and mileage_per_year is higher than 3993.5, the car will be sold. And so on."
      ],
      "metadata": {
        "id": "Y1XM42aW6gE7"
      }
    }
  ]
}