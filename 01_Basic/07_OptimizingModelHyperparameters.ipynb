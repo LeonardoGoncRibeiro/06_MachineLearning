{
  "nbformat": 4,
  "nbformat_minor": 0,
  "metadata": {
    "colab": {
      "name": "07_OptimizingModelHyperparameters.ipynb",
      "provenance": [],
      "collapsed_sections": [],
      "toc_visible": true,
      "authorship_tag": "ABX9TyPDevh50BqUwBR8CEp2QNAs",
      "include_colab_link": true
    },
    "kernelspec": {
      "name": "python3",
      "display_name": "Python 3"
    },
    "language_info": {
      "name": "python"
    }
  },
  "cells": [
    {
      "cell_type": "markdown",
      "metadata": {
        "id": "view-in-github",
        "colab_type": "text"
      },
      "source": [
        "<a href=\"https://colab.research.google.com/github/LeonardoGoncRibeiro/06_MachineLearning/blob/main/01_Basic/07_OptimizingModelHyperparameters.ipynb\" target=\"_parent\"><img src=\"https://colab.research.google.com/assets/colab-badge.svg\" alt=\"Open In Colab\"/></a>"
      ]
    },
    {
      "cell_type": "markdown",
      "source": [
        "# Machine Learning: Optimizing model hyperparameters\n",
        "\n",
        "When dealing with Machine Learning models, we often have to define model hyperparameters beforehand. These are very important for model performance but, at the same time, they are not always easy to set. Thus, we can try to optimize the model hyperparameters in order to find the optimal set of parameters that improve our model accuracy. \n",
        "\n",
        "In this course we will use the following packages:"
      ],
      "metadata": {
        "id": "b5l3wrhWF5LR"
      }
    },
    {
      "cell_type": "code",
      "execution_count": 34,
      "metadata": {
        "id": "wKjA189ZF4Vb"
      },
      "outputs": [],
      "source": [
        "import pandas as pd\n",
        "import numpy as np\n",
        "\n",
        "import matplotlib.pyplot as plt\n",
        "import seaborn as sns\n",
        "\n",
        "from sklearn.tree import export_graphviz\n",
        "import graphviz\n",
        "\n",
        "from sklearn.preprocessing import StandardScaler\n",
        "\n",
        "from sklearn.model_selection import StratifiedKFold\n",
        "from sklearn.model_selection import cross_validate\n",
        "from sklearn.model_selection import cross_val_score\n",
        "\n",
        "from sklearn.dummy import DummyClassifier\n",
        "from sklearn.tree import DecisionTreeClassifier\n",
        "\n",
        "from sklearn.pipeline import Pipeline\n",
        "\n",
        "from sklearn.model_selection import GridSearchCV\n",
        "\n",
        "from sklearn.metrics import accuracy_score"
      ]
    },
    {
      "cell_type": "markdown",
      "source": [
        "Also, we will use the following dataset, which contains information about car prices, their age, their km per year, and whether they were sold or not."
      ],
      "metadata": {
        "id": "4ST9OX4BTgBy"
      }
    },
    {
      "cell_type": "code",
      "source": [
        "uri = \"https://gist.githubusercontent.com/guilhermesilveira/e99a526b2e7ccc6c3b70f53db43a87d2/raw/1605fc74aa778066bf2e6695e24d53cf65f2f447/machine-learning-carros-simulacao.csv\"\n",
        "\n",
        "df = pd.read_csv(uri).drop(columns=[\"Unnamed: 0\"], axis=1)\n",
        "df.columns = ['Price', 'Sold', 'Age', 'Km_per_year']\n",
        "\n",
        "df.head()"
      ],
      "metadata": {
        "colab": {
          "base_uri": "https://localhost:8080/",
          "height": 206
        },
        "id": "4FFGxVB7Teml",
        "outputId": "60b5311c-af5c-4eaa-f3e7-d7b1db44ef7d"
      },
      "execution_count": 2,
      "outputs": [
        {
          "output_type": "execute_result",
          "data": {
            "text/plain": [
              "       Price  Sold  Age  Km_per_year\n",
              "0   30941.02     1   18  35085.22134\n",
              "1   40557.96     1   20  12622.05362\n",
              "2   89627.50     0   12  11440.79806\n",
              "3   95276.14     0    3  43167.32682\n",
              "4  117384.68     1    4  12770.11290"
            ],
            "text/html": [
              "\n",
              "  <div id=\"df-514a4158-cb07-43a7-a0f8-419c6825c389\">\n",
              "    <div class=\"colab-df-container\">\n",
              "      <div>\n",
              "<style scoped>\n",
              "    .dataframe tbody tr th:only-of-type {\n",
              "        vertical-align: middle;\n",
              "    }\n",
              "\n",
              "    .dataframe tbody tr th {\n",
              "        vertical-align: top;\n",
              "    }\n",
              "\n",
              "    .dataframe thead th {\n",
              "        text-align: right;\n",
              "    }\n",
              "</style>\n",
              "<table border=\"1\" class=\"dataframe\">\n",
              "  <thead>\n",
              "    <tr style=\"text-align: right;\">\n",
              "      <th></th>\n",
              "      <th>Price</th>\n",
              "      <th>Sold</th>\n",
              "      <th>Age</th>\n",
              "      <th>Km_per_year</th>\n",
              "    </tr>\n",
              "  </thead>\n",
              "  <tbody>\n",
              "    <tr>\n",
              "      <th>0</th>\n",
              "      <td>30941.02</td>\n",
              "      <td>1</td>\n",
              "      <td>18</td>\n",
              "      <td>35085.22134</td>\n",
              "    </tr>\n",
              "    <tr>\n",
              "      <th>1</th>\n",
              "      <td>40557.96</td>\n",
              "      <td>1</td>\n",
              "      <td>20</td>\n",
              "      <td>12622.05362</td>\n",
              "    </tr>\n",
              "    <tr>\n",
              "      <th>2</th>\n",
              "      <td>89627.50</td>\n",
              "      <td>0</td>\n",
              "      <td>12</td>\n",
              "      <td>11440.79806</td>\n",
              "    </tr>\n",
              "    <tr>\n",
              "      <th>3</th>\n",
              "      <td>95276.14</td>\n",
              "      <td>0</td>\n",
              "      <td>3</td>\n",
              "      <td>43167.32682</td>\n",
              "    </tr>\n",
              "    <tr>\n",
              "      <th>4</th>\n",
              "      <td>117384.68</td>\n",
              "      <td>1</td>\n",
              "      <td>4</td>\n",
              "      <td>12770.11290</td>\n",
              "    </tr>\n",
              "  </tbody>\n",
              "</table>\n",
              "</div>\n",
              "      <button class=\"colab-df-convert\" onclick=\"convertToInteractive('df-514a4158-cb07-43a7-a0f8-419c6825c389')\"\n",
              "              title=\"Convert this dataframe to an interactive table.\"\n",
              "              style=\"display:none;\">\n",
              "        \n",
              "  <svg xmlns=\"http://www.w3.org/2000/svg\" height=\"24px\"viewBox=\"0 0 24 24\"\n",
              "       width=\"24px\">\n",
              "    <path d=\"M0 0h24v24H0V0z\" fill=\"none\"/>\n",
              "    <path d=\"M18.56 5.44l.94 2.06.94-2.06 2.06-.94-2.06-.94-.94-2.06-.94 2.06-2.06.94zm-11 1L8.5 8.5l.94-2.06 2.06-.94-2.06-.94L8.5 2.5l-.94 2.06-2.06.94zm10 10l.94 2.06.94-2.06 2.06-.94-2.06-.94-.94-2.06-.94 2.06-2.06.94z\"/><path d=\"M17.41 7.96l-1.37-1.37c-.4-.4-.92-.59-1.43-.59-.52 0-1.04.2-1.43.59L10.3 9.45l-7.72 7.72c-.78.78-.78 2.05 0 2.83L4 21.41c.39.39.9.59 1.41.59.51 0 1.02-.2 1.41-.59l7.78-7.78 2.81-2.81c.8-.78.8-2.07 0-2.86zM5.41 20L4 18.59l7.72-7.72 1.47 1.35L5.41 20z\"/>\n",
              "  </svg>\n",
              "      </button>\n",
              "      \n",
              "  <style>\n",
              "    .colab-df-container {\n",
              "      display:flex;\n",
              "      flex-wrap:wrap;\n",
              "      gap: 12px;\n",
              "    }\n",
              "\n",
              "    .colab-df-convert {\n",
              "      background-color: #E8F0FE;\n",
              "      border: none;\n",
              "      border-radius: 50%;\n",
              "      cursor: pointer;\n",
              "      display: none;\n",
              "      fill: #1967D2;\n",
              "      height: 32px;\n",
              "      padding: 0 0 0 0;\n",
              "      width: 32px;\n",
              "    }\n",
              "\n",
              "    .colab-df-convert:hover {\n",
              "      background-color: #E2EBFA;\n",
              "      box-shadow: 0px 1px 2px rgba(60, 64, 67, 0.3), 0px 1px 3px 1px rgba(60, 64, 67, 0.15);\n",
              "      fill: #174EA6;\n",
              "    }\n",
              "\n",
              "    [theme=dark] .colab-df-convert {\n",
              "      background-color: #3B4455;\n",
              "      fill: #D2E3FC;\n",
              "    }\n",
              "\n",
              "    [theme=dark] .colab-df-convert:hover {\n",
              "      background-color: #434B5C;\n",
              "      box-shadow: 0px 1px 3px 1px rgba(0, 0, 0, 0.15);\n",
              "      filter: drop-shadow(0px 1px 2px rgba(0, 0, 0, 0.3));\n",
              "      fill: #FFFFFF;\n",
              "    }\n",
              "  </style>\n",
              "\n",
              "      <script>\n",
              "        const buttonEl =\n",
              "          document.querySelector('#df-514a4158-cb07-43a7-a0f8-419c6825c389 button.colab-df-convert');\n",
              "        buttonEl.style.display =\n",
              "          google.colab.kernel.accessAllowed ? 'block' : 'none';\n",
              "\n",
              "        async function convertToInteractive(key) {\n",
              "          const element = document.querySelector('#df-514a4158-cb07-43a7-a0f8-419c6825c389');\n",
              "          const dataTable =\n",
              "            await google.colab.kernel.invokeFunction('convertToInteractive',\n",
              "                                                     [key], {});\n",
              "          if (!dataTable) return;\n",
              "\n",
              "          const docLinkHtml = 'Like what you see? Visit the ' +\n",
              "            '<a target=\"_blank\" href=https://colab.research.google.com/notebooks/data_table.ipynb>data table notebook</a>'\n",
              "            + ' to learn more about interactive tables.';\n",
              "          element.innerHTML = '';\n",
              "          dataTable['output_type'] = 'display_data';\n",
              "          await google.colab.output.renderOutput(dataTable, element);\n",
              "          const docLink = document.createElement('div');\n",
              "          docLink.innerHTML = docLinkHtml;\n",
              "          element.appendChild(docLink);\n",
              "        }\n",
              "      </script>\n",
              "    </div>\n",
              "  </div>\n",
              "  "
            ]
          },
          "metadata": {},
          "execution_count": 2
        }
      ]
    },
    {
      "cell_type": "markdown",
      "source": [
        "## Fitting some baseline models to our data\n",
        "\n",
        "So, first, let's start by getting the accuracy of a dummy classifier. For that end, we will use a pipeline:"
      ],
      "metadata": {
        "id": "xvEu892HYTTp"
      }
    },
    {
      "cell_type": "code",
      "source": [
        "# Separating target and explicative features\n",
        "y = df.Sold\n",
        "X = df.drop('Sold', axis = 1)\n",
        "\n",
        "# Defining normalization method\n",
        "scaler = StandardScaler( )\n",
        "\n",
        "# Defining an estimator\n",
        "dummy_clf = DummyClassifier( )\n",
        "\n",
        "# Defining pipeline for production\n",
        "pipe = Pipeline([('scaler', scaler), ('estimator', dummy_clf)])\n",
        "\n",
        "# Defining the cross-validation technique\n",
        "cv = StratifiedKFold(n_splits = 10, shuffle = True)\n",
        "\n",
        "# Performing the cross-validation\n",
        "results = cross_validate(pipe, X, y, cv = cv)\n",
        "\n",
        "# Obtaining the results for cross-validation\n",
        "acc_avg = results['test_score'].mean( )*100\n",
        "\n",
        "print(\"Accuracy: {:.2f}%\".format(acc_avg))"
      ],
      "metadata": {
        "colab": {
          "base_uri": "https://localhost:8080/"
        },
        "id": "-IgfjgETTm-1",
        "outputId": "57728387-07ad-4c87-c648-f181038c6cd2"
      },
      "execution_count": 3,
      "outputs": [
        {
          "output_type": "stream",
          "name": "stdout",
          "text": [
            "Accuracy: 58.00%\n"
          ]
        }
      ]
    },
    {
      "cell_type": "markdown",
      "source": [
        "Here, we got the accuracy for a dummy classifier, which was 58%. Now, let's run a more robust model, and check if it improves over the dummy classifier. Before doing that, let's create a user-defined function:"
      ],
      "metadata": {
        "id": "agDJa334XTVU"
      }
    },
    {
      "cell_type": "code",
      "source": [
        "def PerformCrossValidation(scaler, model, X, y):\n",
        "  # Defining pipeline for production\n",
        "  pipe = Pipeline([('scaler', scaler), ('estimator', model)])\n",
        "\n",
        "  # Defining the cross-validation technique\n",
        "  cv = StratifiedKFold(n_splits = 10, shuffle = True)\n",
        "\n",
        "  # Performing the cross-validation\n",
        "  results = cross_validate(pipe, X, y, cv = cv)\n",
        "\n",
        "  # Obtaining the results for cross-validation\n",
        "  acc_avg = results['test_score'].mean( )*100\n",
        "\n",
        "  return acc_avg"
      ],
      "metadata": {
        "id": "xC68g-SCV_rA"
      },
      "execution_count": 4,
      "outputs": []
    },
    {
      "cell_type": "markdown",
      "source": [
        "Now, let's get the accuracy of the decision tree classifier:"
      ],
      "metadata": {
        "id": "NvTKcEb4X5E1"
      }
    },
    {
      "cell_type": "code",
      "source": [
        "dec_tree = DecisionTreeClassifier(max_depth = 2)\n",
        "\n",
        "acc_avg = PerformCrossValidation(scaler, dec_tree, X, y)\n",
        "\n",
        "print(\"Accuracy: {:.2f}%\".format(acc_avg))"
      ],
      "metadata": {
        "colab": {
          "base_uri": "https://localhost:8080/"
        },
        "id": "ZzTsb32JX2D1",
        "outputId": "45fef9c6-9812-4048-a838-4802d8fc37d5"
      },
      "execution_count": 5,
      "outputs": [
        {
          "output_type": "stream",
          "name": "stdout",
          "text": [
            "Accuracy: 75.78%\n"
          ]
        }
      ]
    },
    {
      "cell_type": "markdown",
      "source": [
        "Nice! Our decision tree classifier showed a much higher accuracy. However, note that, here, we arbitrarily chose the maximum depth for the model: ```max_depth = 2```. What would happen if we try to change this parameter?"
      ],
      "metadata": {
        "id": "KYtyl_G1Yx33"
      }
    },
    {
      "cell_type": "markdown",
      "source": [
        "# Understanding the max_depth parameter\n",
        "\n",
        "First, let's understand what is the parameter ```max_depth```. When we use tree-based algorithms (such as a decision tree), our decision tree starts growing, generating new leaves. The parameter ```max_depth``` sets the maximum depth the tree may have. To have a better understanding of this procedure, let's visualize a tree fitted using ```max_depth = 2```:"
      ],
      "metadata": {
        "id": "JfMdd5_8ZVwJ"
      }
    },
    {
      "cell_type": "code",
      "source": [
        "dec_tree = DecisionTreeClassifier(max_depth = 2)\n",
        "dec_tree.fit(X, y)\n",
        "\n",
        "dot_data = export_graphviz(dec_tree, out_file = None,\n",
        "                           filled = True, rounded = True, class_names = [\"N\", \"Y\"],\n",
        "                           feature_names = X.columns)\n",
        "\n",
        "graphviz.Source(dot_data)"
      ],
      "metadata": {
        "colab": {
          "base_uri": "https://localhost:8080/",
          "height": 440
        },
        "id": "qnohhK4xYiwj",
        "outputId": "2d65c132-094d-4332-bc04-b0be6389a312"
      },
      "execution_count": 6,
      "outputs": [
        {
          "output_type": "execute_result",
          "data": {
            "text/plain": [
              "<graphviz.files.Source at 0x7f0c310b3550>"
            ],
            "image/svg+xml": "<?xml version=\"1.0\" encoding=\"UTF-8\" standalone=\"no\"?>\n<!DOCTYPE svg PUBLIC \"-//W3C//DTD SVG 1.1//EN\"\n \"http://www.w3.org/Graphics/SVG/1.1/DTD/svg11.dtd\">\n<!-- Generated by graphviz version 2.40.1 (20161225.0304)\n -->\n<!-- Title: Tree Pages: 1 -->\n<svg width=\"629pt\" height=\"314pt\"\n viewBox=\"0.00 0.00 629.00 314.00\" xmlns=\"http://www.w3.org/2000/svg\" xmlns:xlink=\"http://www.w3.org/1999/xlink\">\n<g id=\"graph0\" class=\"graph\" transform=\"scale(1 1) rotate(0) translate(4 310)\">\n<title>Tree</title>\n<polygon fill=\"#ffffff\" stroke=\"transparent\" points=\"-4,4 -4,-310 625,-310 625,4 -4,4\"/>\n<!-- 0 -->\n<g id=\"node1\" class=\"node\">\n<title>0</title>\n<path fill=\"#c8e4f8\" stroke=\"#000000\" d=\"M361.5,-306C361.5,-306 236.5,-306 236.5,-306 230.5,-306 224.5,-300 224.5,-294 224.5,-294 224.5,-235 224.5,-235 224.5,-229 230.5,-223 236.5,-223 236.5,-223 361.5,-223 361.5,-223 367.5,-223 373.5,-229 373.5,-235 373.5,-235 373.5,-294 373.5,-294 373.5,-300 367.5,-306 361.5,-306\"/>\n<text text-anchor=\"middle\" x=\"299\" y=\"-290.8\" font-family=\"Helvetica,sans-Serif\" font-size=\"14.00\" fill=\"#000000\">Price &lt;= 59982.246</text>\n<text text-anchor=\"middle\" x=\"299\" y=\"-275.8\" font-family=\"Helvetica,sans-Serif\" font-size=\"14.00\" fill=\"#000000\">gini = 0.487</text>\n<text text-anchor=\"middle\" x=\"299\" y=\"-260.8\" font-family=\"Helvetica,sans-Serif\" font-size=\"14.00\" fill=\"#000000\">samples = 10000</text>\n<text text-anchor=\"middle\" x=\"299\" y=\"-245.8\" font-family=\"Helvetica,sans-Serif\" font-size=\"14.00\" fill=\"#000000\">value = [4200, 5800]</text>\n<text text-anchor=\"middle\" x=\"299\" y=\"-230.8\" font-family=\"Helvetica,sans-Serif\" font-size=\"14.00\" fill=\"#000000\">class = Y</text>\n</g>\n<!-- 1 -->\n<g id=\"node2\" class=\"node\">\n<title>1</title>\n<path fill=\"#52a9e8\" stroke=\"#000000\" d=\"M264.5,-187C264.5,-187 145.5,-187 145.5,-187 139.5,-187 133.5,-181 133.5,-175 133.5,-175 133.5,-116 133.5,-116 133.5,-110 139.5,-104 145.5,-104 145.5,-104 264.5,-104 264.5,-104 270.5,-104 276.5,-110 276.5,-116 276.5,-116 276.5,-175 276.5,-175 276.5,-181 270.5,-187 264.5,-187\"/>\n<text text-anchor=\"middle\" x=\"205\" y=\"-171.8\" font-family=\"Helvetica,sans-Serif\" font-size=\"14.00\" fill=\"#000000\">Price &lt;= 40083.385</text>\n<text text-anchor=\"middle\" x=\"205\" y=\"-156.8\" font-family=\"Helvetica,sans-Serif\" font-size=\"14.00\" fill=\"#000000\">gini = 0.198</text>\n<text text-anchor=\"middle\" x=\"205\" y=\"-141.8\" font-family=\"Helvetica,sans-Serif\" font-size=\"14.00\" fill=\"#000000\">samples = 4347</text>\n<text text-anchor=\"middle\" x=\"205\" y=\"-126.8\" font-family=\"Helvetica,sans-Serif\" font-size=\"14.00\" fill=\"#000000\">value = [484, 3863]</text>\n<text text-anchor=\"middle\" x=\"205\" y=\"-111.8\" font-family=\"Helvetica,sans-Serif\" font-size=\"14.00\" fill=\"#000000\">class = Y</text>\n</g>\n<!-- 0&#45;&gt;1 -->\n<g id=\"edge1\" class=\"edge\">\n<title>0&#45;&gt;1</title>\n<path fill=\"none\" stroke=\"#000000\" d=\"M266.1234,-222.8796C259.0803,-213.9633 251.5707,-204.4565 244.3126,-195.268\"/>\n<polygon fill=\"#000000\" stroke=\"#000000\" points=\"246.9621,-192.9757 238.017,-187.2981 241.4691,-197.3147 246.9621,-192.9757\"/>\n<text text-anchor=\"middle\" x=\"235.1027\" y=\"-208.4276\" font-family=\"Helvetica,sans-Serif\" font-size=\"14.00\" fill=\"#000000\">True</text>\n</g>\n<!-- 4 -->\n<g id=\"node5\" class=\"node\">\n<title>4</title>\n<path fill=\"#f3c3a0\" stroke=\"#000000\" d=\"M481,-187C481,-187 307,-187 307,-187 301,-187 295,-181 295,-175 295,-175 295,-116 295,-116 295,-110 301,-104 307,-104 307,-104 481,-104 481,-104 487,-104 493,-110 493,-116 493,-116 493,-175 493,-175 493,-181 487,-187 481,-187\"/>\n<text text-anchor=\"middle\" x=\"394\" y=\"-171.8\" font-family=\"Helvetica,sans-Serif\" font-size=\"14.00\" fill=\"#000000\">Km_per_year &lt;= 24124.006</text>\n<text text-anchor=\"middle\" x=\"394\" y=\"-156.8\" font-family=\"Helvetica,sans-Serif\" font-size=\"14.00\" fill=\"#000000\">gini = 0.45</text>\n<text text-anchor=\"middle\" x=\"394\" y=\"-141.8\" font-family=\"Helvetica,sans-Serif\" font-size=\"14.00\" fill=\"#000000\">samples = 5653</text>\n<text text-anchor=\"middle\" x=\"394\" y=\"-126.8\" font-family=\"Helvetica,sans-Serif\" font-size=\"14.00\" fill=\"#000000\">value = [3716, 1937]</text>\n<text text-anchor=\"middle\" x=\"394\" y=\"-111.8\" font-family=\"Helvetica,sans-Serif\" font-size=\"14.00\" fill=\"#000000\">class = N</text>\n</g>\n<!-- 0&#45;&gt;4 -->\n<g id=\"edge4\" class=\"edge\">\n<title>0&#45;&gt;4</title>\n<path fill=\"none\" stroke=\"#000000\" d=\"M332.2264,-222.8796C339.3444,-213.9633 346.9339,-204.4565 354.2692,-195.268\"/>\n<polygon fill=\"#000000\" stroke=\"#000000\" points=\"357.1281,-197.2968 360.6318,-187.2981 351.6575,-192.9295 357.1281,-197.2968\"/>\n<text text-anchor=\"middle\" x=\"363.4181\" y=\"-208.4423\" font-family=\"Helvetica,sans-Serif\" font-size=\"14.00\" fill=\"#000000\">False</text>\n</g>\n<!-- 2 -->\n<g id=\"node3\" class=\"node\">\n<title>2</title>\n<path fill=\"#399de5\" stroke=\"#000000\" d=\"M112,-68C112,-68 12,-68 12,-68 6,-68 0,-62 0,-56 0,-56 0,-12 0,-12 0,-6 6,0 12,0 12,0 112,0 112,0 118,0 124,-6 124,-12 124,-12 124,-56 124,-56 124,-62 118,-68 112,-68\"/>\n<text text-anchor=\"middle\" x=\"62\" y=\"-52.8\" font-family=\"Helvetica,sans-Serif\" font-size=\"14.00\" fill=\"#000000\">gini = 0.0</text>\n<text text-anchor=\"middle\" x=\"62\" y=\"-37.8\" font-family=\"Helvetica,sans-Serif\" font-size=\"14.00\" fill=\"#000000\">samples = 1935</text>\n<text text-anchor=\"middle\" x=\"62\" y=\"-22.8\" font-family=\"Helvetica,sans-Serif\" font-size=\"14.00\" fill=\"#000000\">value = [0, 1935]</text>\n<text text-anchor=\"middle\" x=\"62\" y=\"-7.8\" font-family=\"Helvetica,sans-Serif\" font-size=\"14.00\" fill=\"#000000\">class = Y</text>\n</g>\n<!-- 1&#45;&gt;2 -->\n<g id=\"edge2\" class=\"edge\">\n<title>1&#45;&gt;2</title>\n<path fill=\"none\" stroke=\"#000000\" d=\"M151.7521,-103.9815C139.3756,-94.3313 126.2172,-84.0714 113.8997,-74.4673\"/>\n<polygon fill=\"#000000\" stroke=\"#000000\" points=\"115.9818,-71.6525 105.9435,-68.2637 111.6775,-77.1728 115.9818,-71.6525\"/>\n</g>\n<!-- 3 -->\n<g id=\"node4\" class=\"node\">\n<title>3</title>\n<path fill=\"#6bb6ec\" stroke=\"#000000\" d=\"M270,-68C270,-68 154,-68 154,-68 148,-68 142,-62 142,-56 142,-56 142,-12 142,-12 142,-6 148,0 154,0 154,0 270,0 270,0 276,0 282,-6 282,-12 282,-12 282,-56 282,-56 282,-62 276,-68 270,-68\"/>\n<text text-anchor=\"middle\" x=\"212\" y=\"-52.8\" font-family=\"Helvetica,sans-Serif\" font-size=\"14.00\" fill=\"#000000\">gini = 0.321</text>\n<text text-anchor=\"middle\" x=\"212\" y=\"-37.8\" font-family=\"Helvetica,sans-Serif\" font-size=\"14.00\" fill=\"#000000\">samples = 2412</text>\n<text text-anchor=\"middle\" x=\"212\" y=\"-22.8\" font-family=\"Helvetica,sans-Serif\" font-size=\"14.00\" fill=\"#000000\">value = [484, 1928]</text>\n<text text-anchor=\"middle\" x=\"212\" y=\"-7.8\" font-family=\"Helvetica,sans-Serif\" font-size=\"14.00\" fill=\"#000000\">class = Y</text>\n</g>\n<!-- 1&#45;&gt;3 -->\n<g id=\"edge3\" class=\"edge\">\n<title>1&#45;&gt;3</title>\n<path fill=\"none\" stroke=\"#000000\" d=\"M207.6065,-103.9815C208.1316,-95.618 208.6854,-86.7965 209.2163,-78.3409\"/>\n<polygon fill=\"#000000\" stroke=\"#000000\" points=\"212.7154,-78.4634 209.8489,-68.2637 205.7291,-78.0247 212.7154,-78.4634\"/>\n</g>\n<!-- 5 -->\n<g id=\"node6\" class=\"node\">\n<title>5</title>\n<path fill=\"#fcefe5\" stroke=\"#000000\" d=\"M450.5,-68C450.5,-68 325.5,-68 325.5,-68 319.5,-68 313.5,-62 313.5,-56 313.5,-56 313.5,-12 313.5,-12 313.5,-6 319.5,0 325.5,0 325.5,0 450.5,0 450.5,0 456.5,0 462.5,-6 462.5,-12 462.5,-12 462.5,-56 462.5,-56 462.5,-62 456.5,-68 450.5,-68\"/>\n<text text-anchor=\"middle\" x=\"388\" y=\"-52.8\" font-family=\"Helvetica,sans-Serif\" font-size=\"14.00\" fill=\"#000000\">gini = 0.498</text>\n<text text-anchor=\"middle\" x=\"388\" y=\"-37.8\" font-family=\"Helvetica,sans-Serif\" font-size=\"14.00\" fill=\"#000000\">samples = 3513</text>\n<text text-anchor=\"middle\" x=\"388\" y=\"-22.8\" font-family=\"Helvetica,sans-Serif\" font-size=\"14.00\" fill=\"#000000\">value = [1879, 1634]</text>\n<text text-anchor=\"middle\" x=\"388\" y=\"-7.8\" font-family=\"Helvetica,sans-Serif\" font-size=\"14.00\" fill=\"#000000\">class = N</text>\n</g>\n<!-- 4&#45;&gt;5 -->\n<g id=\"edge5\" class=\"edge\">\n<title>4&#45;&gt;5</title>\n<path fill=\"none\" stroke=\"#000000\" d=\"M391.7658,-103.9815C391.3158,-95.618 390.8411,-86.7965 390.3861,-78.3409\"/>\n<polygon fill=\"#000000\" stroke=\"#000000\" points=\"393.8762,-78.0611 389.8438,-68.2637 386.8863,-78.4373 393.8762,-78.0611\"/>\n</g>\n<!-- 6 -->\n<g id=\"node7\" class=\"node\">\n<title>6</title>\n<path fill=\"#e9965a\" stroke=\"#000000\" d=\"M609,-68C609,-68 493,-68 493,-68 487,-68 481,-62 481,-56 481,-56 481,-12 481,-12 481,-6 487,0 493,0 493,0 609,0 609,0 615,0 621,-6 621,-12 621,-12 621,-56 621,-56 621,-62 615,-68 609,-68\"/>\n<text text-anchor=\"middle\" x=\"551\" y=\"-52.8\" font-family=\"Helvetica,sans-Serif\" font-size=\"14.00\" fill=\"#000000\">gini = 0.243</text>\n<text text-anchor=\"middle\" x=\"551\" y=\"-37.8\" font-family=\"Helvetica,sans-Serif\" font-size=\"14.00\" fill=\"#000000\">samples = 2140</text>\n<text text-anchor=\"middle\" x=\"551\" y=\"-22.8\" font-family=\"Helvetica,sans-Serif\" font-size=\"14.00\" fill=\"#000000\">value = [1837, 303]</text>\n<text text-anchor=\"middle\" x=\"551\" y=\"-7.8\" font-family=\"Helvetica,sans-Serif\" font-size=\"14.00\" fill=\"#000000\">class = N</text>\n</g>\n<!-- 4&#45;&gt;6 -->\n<g id=\"edge6\" class=\"edge\">\n<title>4&#45;&gt;6</title>\n<path fill=\"none\" stroke=\"#000000\" d=\"M452.461,-103.9815C466.2508,-94.1881 480.9247,-83.7668 494.6205,-74.0402\"/>\n<polygon fill=\"#000000\" stroke=\"#000000\" points=\"496.8785,-76.7295 503.005,-68.0856 492.8253,-71.0223 496.8785,-76.7295\"/>\n</g>\n</g>\n</svg>\n"
          },
          "metadata": {},
          "execution_count": 6
        }
      ]
    },
    {
      "cell_type": "markdown",
      "source": [
        "So, here, the maximum depth is 2. Now, let's try to use ```max_depth = 3```."
      ],
      "metadata": {
        "id": "PgBoK3Araaqz"
      }
    },
    {
      "cell_type": "code",
      "source": [
        "dec_tree = DecisionTreeClassifier(max_depth = 3)\n",
        "dec_tree.fit(X, y)\n",
        "\n",
        "dot_data = export_graphviz(dec_tree, out_file = None,\n",
        "                           filled = True, rounded = True, class_names = [\"N\", \"Y\"],\n",
        "                           feature_names = X.columns)\n",
        "\n",
        "graphviz.Source(dot_data)"
      ],
      "metadata": {
        "colab": {
          "base_uri": "https://localhost:8080/",
          "height": 619
        },
        "id": "MPrukMdsaWlj",
        "outputId": "494b805b-6ead-44de-9aa0-91ba2b277af6"
      },
      "execution_count": 7,
      "outputs": [
        {
          "output_type": "execute_result",
          "data": {
            "text/plain": [
              "<graphviz.files.Source at 0x7f0c1a026490>"
            ],
            "image/svg+xml": "<?xml version=\"1.0\" encoding=\"UTF-8\" standalone=\"no\"?>\n<!DOCTYPE svg PUBLIC \"-//W3C//DTD SVG 1.1//EN\"\n \"http://www.w3.org/Graphics/SVG/1.1/DTD/svg11.dtd\">\n<!-- Generated by graphviz version 2.40.1 (20161225.0304)\n -->\n<!-- Title: Tree Pages: 1 -->\n<svg width=\"910pt\" height=\"433pt\"\n viewBox=\"0.00 0.00 910.00 433.00\" xmlns=\"http://www.w3.org/2000/svg\" xmlns:xlink=\"http://www.w3.org/1999/xlink\">\n<g id=\"graph0\" class=\"graph\" transform=\"scale(1 1) rotate(0) translate(4 429)\">\n<title>Tree</title>\n<polygon fill=\"#ffffff\" stroke=\"transparent\" points=\"-4,4 -4,-429 906,-429 906,4 -4,4\"/>\n<!-- 0 -->\n<g id=\"node1\" class=\"node\">\n<title>0</title>\n<path fill=\"#c8e4f8\" stroke=\"#000000\" d=\"M370.5,-425C370.5,-425 245.5,-425 245.5,-425 239.5,-425 233.5,-419 233.5,-413 233.5,-413 233.5,-354 233.5,-354 233.5,-348 239.5,-342 245.5,-342 245.5,-342 370.5,-342 370.5,-342 376.5,-342 382.5,-348 382.5,-354 382.5,-354 382.5,-413 382.5,-413 382.5,-419 376.5,-425 370.5,-425\"/>\n<text text-anchor=\"middle\" x=\"308\" y=\"-409.8\" font-family=\"Helvetica,sans-Serif\" font-size=\"14.00\" fill=\"#000000\">Price &lt;= 59982.246</text>\n<text text-anchor=\"middle\" x=\"308\" y=\"-394.8\" font-family=\"Helvetica,sans-Serif\" font-size=\"14.00\" fill=\"#000000\">gini = 0.487</text>\n<text text-anchor=\"middle\" x=\"308\" y=\"-379.8\" font-family=\"Helvetica,sans-Serif\" font-size=\"14.00\" fill=\"#000000\">samples = 10000</text>\n<text text-anchor=\"middle\" x=\"308\" y=\"-364.8\" font-family=\"Helvetica,sans-Serif\" font-size=\"14.00\" fill=\"#000000\">value = [4200, 5800]</text>\n<text text-anchor=\"middle\" x=\"308\" y=\"-349.8\" font-family=\"Helvetica,sans-Serif\" font-size=\"14.00\" fill=\"#000000\">class = Y</text>\n</g>\n<!-- 1 -->\n<g id=\"node2\" class=\"node\">\n<title>1</title>\n<path fill=\"#52a9e8\" stroke=\"#000000\" d=\"M273.5,-306C273.5,-306 154.5,-306 154.5,-306 148.5,-306 142.5,-300 142.5,-294 142.5,-294 142.5,-235 142.5,-235 142.5,-229 148.5,-223 154.5,-223 154.5,-223 273.5,-223 273.5,-223 279.5,-223 285.5,-229 285.5,-235 285.5,-235 285.5,-294 285.5,-294 285.5,-300 279.5,-306 273.5,-306\"/>\n<text text-anchor=\"middle\" x=\"214\" y=\"-290.8\" font-family=\"Helvetica,sans-Serif\" font-size=\"14.00\" fill=\"#000000\">Price &lt;= 40083.385</text>\n<text text-anchor=\"middle\" x=\"214\" y=\"-275.8\" font-family=\"Helvetica,sans-Serif\" font-size=\"14.00\" fill=\"#000000\">gini = 0.198</text>\n<text text-anchor=\"middle\" x=\"214\" y=\"-260.8\" font-family=\"Helvetica,sans-Serif\" font-size=\"14.00\" fill=\"#000000\">samples = 4347</text>\n<text text-anchor=\"middle\" x=\"214\" y=\"-245.8\" font-family=\"Helvetica,sans-Serif\" font-size=\"14.00\" fill=\"#000000\">value = [484, 3863]</text>\n<text text-anchor=\"middle\" x=\"214\" y=\"-230.8\" font-family=\"Helvetica,sans-Serif\" font-size=\"14.00\" fill=\"#000000\">class = Y</text>\n</g>\n<!-- 0&#45;&gt;1 -->\n<g id=\"edge1\" class=\"edge\">\n<title>0&#45;&gt;1</title>\n<path fill=\"none\" stroke=\"#000000\" d=\"M275.1234,-341.8796C268.0803,-332.9633 260.5707,-323.4565 253.3126,-314.268\"/>\n<polygon fill=\"#000000\" stroke=\"#000000\" points=\"255.9621,-311.9757 247.017,-306.2981 250.4691,-316.3147 255.9621,-311.9757\"/>\n<text text-anchor=\"middle\" x=\"244.1027\" y=\"-327.4276\" font-family=\"Helvetica,sans-Serif\" font-size=\"14.00\" fill=\"#000000\">True</text>\n</g>\n<!-- 6 -->\n<g id=\"node7\" class=\"node\">\n<title>6</title>\n<path fill=\"#f3c3a0\" stroke=\"#000000\" d=\"M547,-306C547,-306 373,-306 373,-306 367,-306 361,-300 361,-294 361,-294 361,-235 361,-235 361,-229 367,-223 373,-223 373,-223 547,-223 547,-223 553,-223 559,-229 559,-235 559,-235 559,-294 559,-294 559,-300 553,-306 547,-306\"/>\n<text text-anchor=\"middle\" x=\"460\" y=\"-290.8\" font-family=\"Helvetica,sans-Serif\" font-size=\"14.00\" fill=\"#000000\">Km_per_year &lt;= 24124.006</text>\n<text text-anchor=\"middle\" x=\"460\" y=\"-275.8\" font-family=\"Helvetica,sans-Serif\" font-size=\"14.00\" fill=\"#000000\">gini = 0.45</text>\n<text text-anchor=\"middle\" x=\"460\" y=\"-260.8\" font-family=\"Helvetica,sans-Serif\" font-size=\"14.00\" fill=\"#000000\">samples = 5653</text>\n<text text-anchor=\"middle\" x=\"460\" y=\"-245.8\" font-family=\"Helvetica,sans-Serif\" font-size=\"14.00\" fill=\"#000000\">value = [3716, 1937]</text>\n<text text-anchor=\"middle\" x=\"460\" y=\"-230.8\" font-family=\"Helvetica,sans-Serif\" font-size=\"14.00\" fill=\"#000000\">class = N</text>\n</g>\n<!-- 0&#45;&gt;6 -->\n<g id=\"edge6\" class=\"edge\">\n<title>0&#45;&gt;6</title>\n<path fill=\"none\" stroke=\"#000000\" d=\"M361.1622,-341.8796C373.3115,-332.368 386.3192,-322.1843 398.776,-312.432\"/>\n<polygon fill=\"#000000\" stroke=\"#000000\" points=\"401.1514,-315.0173 406.8678,-306.0969 396.8362,-309.5055 401.1514,-315.0173\"/>\n<text text-anchor=\"middle\" x=\"403.8458\" y=\"-327.2136\" font-family=\"Helvetica,sans-Serif\" font-size=\"14.00\" fill=\"#000000\">False</text>\n</g>\n<!-- 2 -->\n<g id=\"node3\" class=\"node\">\n<title>2</title>\n<path fill=\"#399de5\" stroke=\"#000000\" d=\"M112,-179.5C112,-179.5 12,-179.5 12,-179.5 6,-179.5 0,-173.5 0,-167.5 0,-167.5 0,-123.5 0,-123.5 0,-117.5 6,-111.5 12,-111.5 12,-111.5 112,-111.5 112,-111.5 118,-111.5 124,-117.5 124,-123.5 124,-123.5 124,-167.5 124,-167.5 124,-173.5 118,-179.5 112,-179.5\"/>\n<text text-anchor=\"middle\" x=\"62\" y=\"-164.3\" font-family=\"Helvetica,sans-Serif\" font-size=\"14.00\" fill=\"#000000\">gini = 0.0</text>\n<text text-anchor=\"middle\" x=\"62\" y=\"-149.3\" font-family=\"Helvetica,sans-Serif\" font-size=\"14.00\" fill=\"#000000\">samples = 1935</text>\n<text text-anchor=\"middle\" x=\"62\" y=\"-134.3\" font-family=\"Helvetica,sans-Serif\" font-size=\"14.00\" fill=\"#000000\">value = [0, 1935]</text>\n<text text-anchor=\"middle\" x=\"62\" y=\"-119.3\" font-family=\"Helvetica,sans-Serif\" font-size=\"14.00\" fill=\"#000000\">class = Y</text>\n</g>\n<!-- 1&#45;&gt;2 -->\n<g id=\"edge2\" class=\"edge\">\n<title>1&#45;&gt;2</title>\n<path fill=\"none\" stroke=\"#000000\" d=\"M160.8378,-222.8796C145.6687,-211.0038 129.1616,-198.0804 114.0591,-186.2568\"/>\n<polygon fill=\"#000000\" stroke=\"#000000\" points=\"115.8624,-183.2236 105.8308,-179.8149 111.5472,-188.7353 115.8624,-183.2236\"/>\n</g>\n<!-- 3 -->\n<g id=\"node4\" class=\"node\">\n<title>3</title>\n<path fill=\"#6bb6ec\" stroke=\"#000000\" d=\"M273.5,-187C273.5,-187 154.5,-187 154.5,-187 148.5,-187 142.5,-181 142.5,-175 142.5,-175 142.5,-116 142.5,-116 142.5,-110 148.5,-104 154.5,-104 154.5,-104 273.5,-104 273.5,-104 279.5,-104 285.5,-110 285.5,-116 285.5,-116 285.5,-175 285.5,-175 285.5,-181 279.5,-187 273.5,-187\"/>\n<text text-anchor=\"middle\" x=\"214\" y=\"-171.8\" font-family=\"Helvetica,sans-Serif\" font-size=\"14.00\" fill=\"#000000\">Price &lt;= 41083.029</text>\n<text text-anchor=\"middle\" x=\"214\" y=\"-156.8\" font-family=\"Helvetica,sans-Serif\" font-size=\"14.00\" fill=\"#000000\">gini = 0.321</text>\n<text text-anchor=\"middle\" x=\"214\" y=\"-141.8\" font-family=\"Helvetica,sans-Serif\" font-size=\"14.00\" fill=\"#000000\">samples = 2412</text>\n<text text-anchor=\"middle\" x=\"214\" y=\"-126.8\" font-family=\"Helvetica,sans-Serif\" font-size=\"14.00\" fill=\"#000000\">value = [484, 1928]</text>\n<text text-anchor=\"middle\" x=\"214\" y=\"-111.8\" font-family=\"Helvetica,sans-Serif\" font-size=\"14.00\" fill=\"#000000\">class = Y</text>\n</g>\n<!-- 1&#45;&gt;3 -->\n<g id=\"edge3\" class=\"edge\">\n<title>1&#45;&gt;3</title>\n<path fill=\"none\" stroke=\"#000000\" d=\"M214,-222.8796C214,-214.6838 214,-205.9891 214,-197.5013\"/>\n<polygon fill=\"#000000\" stroke=\"#000000\" points=\"217.5001,-197.298 214,-187.2981 210.5001,-197.2981 217.5001,-197.298\"/>\n</g>\n<!-- 4 -->\n<g id=\"node5\" class=\"node\">\n<title>4</title>\n<path fill=\"#95cbf1\" stroke=\"#000000\" d=\"M114,-68C114,-68 22,-68 22,-68 16,-68 10,-62 10,-56 10,-56 10,-12 10,-12 10,-6 16,0 22,0 22,0 114,0 114,0 120,0 126,-6 126,-12 126,-12 126,-56 126,-56 126,-62 120,-68 114,-68\"/>\n<text text-anchor=\"middle\" x=\"68\" y=\"-52.8\" font-family=\"Helvetica,sans-Serif\" font-size=\"14.00\" fill=\"#000000\">gini = 0.434</text>\n<text text-anchor=\"middle\" x=\"68\" y=\"-37.8\" font-family=\"Helvetica,sans-Serif\" font-size=\"14.00\" fill=\"#000000\">samples = 110</text>\n<text text-anchor=\"middle\" x=\"68\" y=\"-22.8\" font-family=\"Helvetica,sans-Serif\" font-size=\"14.00\" fill=\"#000000\">value = [35, 75]</text>\n<text text-anchor=\"middle\" x=\"68\" y=\"-7.8\" font-family=\"Helvetica,sans-Serif\" font-size=\"14.00\" fill=\"#000000\">class = Y</text>\n</g>\n<!-- 3&#45;&gt;4 -->\n<g id=\"edge4\" class=\"edge\">\n<title>3&#45;&gt;4</title>\n<path fill=\"none\" stroke=\"#000000\" d=\"M159.635,-103.9815C146.9989,-94.3313 133.5644,-84.0714 120.9885,-74.4673\"/>\n<polygon fill=\"#000000\" stroke=\"#000000\" points=\"122.9372,-71.5515 112.8654,-68.2637 118.6886,-77.1148 122.9372,-71.5515\"/>\n</g>\n<!-- 5 -->\n<g id=\"node6\" class=\"node\">\n<title>5</title>\n<path fill=\"#69b5eb\" stroke=\"#000000\" d=\"M272,-68C272,-68 156,-68 156,-68 150,-68 144,-62 144,-56 144,-56 144,-12 144,-12 144,-6 150,0 156,0 156,0 272,0 272,0 278,0 284,-6 284,-12 284,-12 284,-56 284,-56 284,-62 278,-68 272,-68\"/>\n<text text-anchor=\"middle\" x=\"214\" y=\"-52.8\" font-family=\"Helvetica,sans-Serif\" font-size=\"14.00\" fill=\"#000000\">gini = 0.314</text>\n<text text-anchor=\"middle\" x=\"214\" y=\"-37.8\" font-family=\"Helvetica,sans-Serif\" font-size=\"14.00\" fill=\"#000000\">samples = 2302</text>\n<text text-anchor=\"middle\" x=\"214\" y=\"-22.8\" font-family=\"Helvetica,sans-Serif\" font-size=\"14.00\" fill=\"#000000\">value = [449, 1853]</text>\n<text text-anchor=\"middle\" x=\"214\" y=\"-7.8\" font-family=\"Helvetica,sans-Serif\" font-size=\"14.00\" fill=\"#000000\">class = Y</text>\n</g>\n<!-- 3&#45;&gt;5 -->\n<g id=\"edge5\" class=\"edge\">\n<title>3&#45;&gt;5</title>\n<path fill=\"none\" stroke=\"#000000\" d=\"M214,-103.9815C214,-95.618 214,-86.7965 214,-78.3409\"/>\n<polygon fill=\"#000000\" stroke=\"#000000\" points=\"217.5001,-78.2636 214,-68.2637 210.5001,-78.2637 217.5001,-78.2636\"/>\n</g>\n<!-- 7 -->\n<g id=\"node8\" class=\"node\">\n<title>7</title>\n<path fill=\"#fcefe5\" stroke=\"#000000\" d=\"M522.5,-187C522.5,-187 397.5,-187 397.5,-187 391.5,-187 385.5,-181 385.5,-175 385.5,-175 385.5,-116 385.5,-116 385.5,-110 391.5,-104 397.5,-104 397.5,-104 522.5,-104 522.5,-104 528.5,-104 534.5,-110 534.5,-116 534.5,-116 534.5,-175 534.5,-175 534.5,-181 528.5,-187 522.5,-187\"/>\n<text text-anchor=\"middle\" x=\"460\" y=\"-171.8\" font-family=\"Helvetica,sans-Serif\" font-size=\"14.00\" fill=\"#000000\">Price &lt;= 99974.41</text>\n<text text-anchor=\"middle\" x=\"460\" y=\"-156.8\" font-family=\"Helvetica,sans-Serif\" font-size=\"14.00\" fill=\"#000000\">gini = 0.498</text>\n<text text-anchor=\"middle\" x=\"460\" y=\"-141.8\" font-family=\"Helvetica,sans-Serif\" font-size=\"14.00\" fill=\"#000000\">samples = 3513</text>\n<text text-anchor=\"middle\" x=\"460\" y=\"-126.8\" font-family=\"Helvetica,sans-Serif\" font-size=\"14.00\" fill=\"#000000\">value = [1879, 1634]</text>\n<text text-anchor=\"middle\" x=\"460\" y=\"-111.8\" font-family=\"Helvetica,sans-Serif\" font-size=\"14.00\" fill=\"#000000\">class = N</text>\n</g>\n<!-- 6&#45;&gt;7 -->\n<g id=\"edge7\" class=\"edge\">\n<title>6&#45;&gt;7</title>\n<path fill=\"none\" stroke=\"#000000\" d=\"M460,-222.8796C460,-214.6838 460,-205.9891 460,-197.5013\"/>\n<polygon fill=\"#000000\" stroke=\"#000000\" points=\"463.5001,-197.298 460,-187.2981 456.5001,-197.2981 463.5001,-197.298\"/>\n</g>\n<!-- 10 -->\n<g id=\"node11\" class=\"node\">\n<title>10</title>\n<path fill=\"#e9965a\" stroke=\"#000000\" d=\"M750,-187C750,-187 622,-187 622,-187 616,-187 610,-181 610,-175 610,-175 610,-116 610,-116 610,-110 616,-104 622,-104 622,-104 750,-104 750,-104 756,-104 762,-110 762,-116 762,-116 762,-175 762,-175 762,-181 756,-187 750,-187\"/>\n<text text-anchor=\"middle\" x=\"686\" y=\"-171.8\" font-family=\"Helvetica,sans-Serif\" font-size=\"14.00\" fill=\"#000000\">Price &lt;= 100076.957</text>\n<text text-anchor=\"middle\" x=\"686\" y=\"-156.8\" font-family=\"Helvetica,sans-Serif\" font-size=\"14.00\" fill=\"#000000\">gini = 0.243</text>\n<text text-anchor=\"middle\" x=\"686\" y=\"-141.8\" font-family=\"Helvetica,sans-Serif\" font-size=\"14.00\" fill=\"#000000\">samples = 2140</text>\n<text text-anchor=\"middle\" x=\"686\" y=\"-126.8\" font-family=\"Helvetica,sans-Serif\" font-size=\"14.00\" fill=\"#000000\">value = [1837, 303]</text>\n<text text-anchor=\"middle\" x=\"686\" y=\"-111.8\" font-family=\"Helvetica,sans-Serif\" font-size=\"14.00\" fill=\"#000000\">class = N</text>\n</g>\n<!-- 6&#45;&gt;10 -->\n<g id=\"edge10\" class=\"edge\">\n<title>6&#45;&gt;10</title>\n<path fill=\"none\" stroke=\"#000000\" d=\"M539.0438,-222.8796C559.0023,-212.3705 580.5188,-201.041 600.7672,-190.3792\"/>\n<polygon fill=\"#000000\" stroke=\"#000000\" points=\"602.4463,-193.4507 609.664,-185.6946 599.1849,-187.2568 602.4463,-193.4507\"/>\n</g>\n<!-- 8 -->\n<g id=\"node9\" class=\"node\">\n<title>8</title>\n<path fill=\"#f9e0ce\" stroke=\"#000000\" d=\"M439.5,-68C439.5,-68 314.5,-68 314.5,-68 308.5,-68 302.5,-62 302.5,-56 302.5,-56 302.5,-12 302.5,-12 302.5,-6 308.5,0 314.5,0 314.5,0 439.5,0 439.5,0 445.5,0 451.5,-6 451.5,-12 451.5,-12 451.5,-56 451.5,-56 451.5,-62 445.5,-68 439.5,-68\"/>\n<text text-anchor=\"middle\" x=\"377\" y=\"-52.8\" font-family=\"Helvetica,sans-Serif\" font-size=\"14.00\" fill=\"#000000\">gini = 0.49</text>\n<text text-anchor=\"middle\" x=\"377\" y=\"-37.8\" font-family=\"Helvetica,sans-Serif\" font-size=\"14.00\" fill=\"#000000\">samples = 2944</text>\n<text text-anchor=\"middle\" x=\"377\" y=\"-22.8\" font-family=\"Helvetica,sans-Serif\" font-size=\"14.00\" fill=\"#000000\">value = [1682, 1262]</text>\n<text text-anchor=\"middle\" x=\"377\" y=\"-7.8\" font-family=\"Helvetica,sans-Serif\" font-size=\"14.00\" fill=\"#000000\">class = N</text>\n</g>\n<!-- 7&#45;&gt;8 -->\n<g id=\"edge8\" class=\"edge\">\n<title>7&#45;&gt;8</title>\n<path fill=\"none\" stroke=\"#000000\" d=\"M429.0939,-103.9815C422.3892,-94.9747 415.2892,-85.4367 408.5597,-76.3965\"/>\n<polygon fill=\"#000000\" stroke=\"#000000\" points=\"411.2845,-74.1953 402.5057,-68.2637 405.6694,-78.3752 411.2845,-74.1953\"/>\n</g>\n<!-- 9 -->\n<g id=\"node10\" class=\"node\">\n<title>9</title>\n<path fill=\"#a2d1f3\" stroke=\"#000000\" d=\"M590,-68C590,-68 482,-68 482,-68 476,-68 470,-62 470,-56 470,-56 470,-12 470,-12 470,-6 476,0 482,0 482,0 590,0 590,0 596,0 602,-6 602,-12 602,-12 602,-56 602,-56 602,-62 596,-68 590,-68\"/>\n<text text-anchor=\"middle\" x=\"536\" y=\"-52.8\" font-family=\"Helvetica,sans-Serif\" font-size=\"14.00\" fill=\"#000000\">gini = 0.453</text>\n<text text-anchor=\"middle\" x=\"536\" y=\"-37.8\" font-family=\"Helvetica,sans-Serif\" font-size=\"14.00\" fill=\"#000000\">samples = 569</text>\n<text text-anchor=\"middle\" x=\"536\" y=\"-22.8\" font-family=\"Helvetica,sans-Serif\" font-size=\"14.00\" fill=\"#000000\">value = [197, 372]</text>\n<text text-anchor=\"middle\" x=\"536\" y=\"-7.8\" font-family=\"Helvetica,sans-Serif\" font-size=\"14.00\" fill=\"#000000\">class = Y</text>\n</g>\n<!-- 7&#45;&gt;9 -->\n<g id=\"edge9\" class=\"edge\">\n<title>7&#45;&gt;9</title>\n<path fill=\"none\" stroke=\"#000000\" d=\"M488.2996,-103.9815C494.3762,-95.0666 500.8074,-85.6313 506.9132,-76.6734\"/>\n<polygon fill=\"#000000\" stroke=\"#000000\" points=\"509.9052,-78.498 512.6454,-68.2637 504.1211,-74.5555 509.9052,-78.498\"/>\n</g>\n<!-- 11 -->\n<g id=\"node12\" class=\"node\">\n<title>11</title>\n<path fill=\"#e68742\" stroke=\"#000000\" d=\"M740,-68C740,-68 632,-68 632,-68 626,-68 620,-62 620,-56 620,-56 620,-12 620,-12 620,-6 626,0 632,0 632,0 740,0 740,0 746,0 752,-6 752,-12 752,-12 752,-56 752,-56 752,-62 746,-68 740,-68\"/>\n<text text-anchor=\"middle\" x=\"686\" y=\"-52.8\" font-family=\"Helvetica,sans-Serif\" font-size=\"14.00\" fill=\"#000000\">gini = 0.082</text>\n<text text-anchor=\"middle\" x=\"686\" y=\"-37.8\" font-family=\"Helvetica,sans-Serif\" font-size=\"14.00\" fill=\"#000000\">samples = 1809</text>\n<text text-anchor=\"middle\" x=\"686\" y=\"-22.8\" font-family=\"Helvetica,sans-Serif\" font-size=\"14.00\" fill=\"#000000\">value = [1732, 77]</text>\n<text text-anchor=\"middle\" x=\"686\" y=\"-7.8\" font-family=\"Helvetica,sans-Serif\" font-size=\"14.00\" fill=\"#000000\">class = N</text>\n</g>\n<!-- 10&#45;&gt;11 -->\n<g id=\"edge11\" class=\"edge\">\n<title>10&#45;&gt;11</title>\n<path fill=\"none\" stroke=\"#000000\" d=\"M686,-103.9815C686,-95.618 686,-86.7965 686,-78.3409\"/>\n<polygon fill=\"#000000\" stroke=\"#000000\" points=\"689.5001,-78.2636 686,-68.2637 682.5001,-78.2637 689.5001,-78.2636\"/>\n</g>\n<!-- 12 -->\n<g id=\"node13\" class=\"node\">\n<title>12</title>\n<path fill=\"#95cbf1\" stroke=\"#000000\" d=\"M890,-68C890,-68 782,-68 782,-68 776,-68 770,-62 770,-56 770,-56 770,-12 770,-12 770,-6 776,0 782,0 782,0 890,0 890,0 896,0 902,-6 902,-12 902,-12 902,-56 902,-56 902,-62 896,-68 890,-68\"/>\n<text text-anchor=\"middle\" x=\"836\" y=\"-52.8\" font-family=\"Helvetica,sans-Serif\" font-size=\"14.00\" fill=\"#000000\">gini = 0.433</text>\n<text text-anchor=\"middle\" x=\"836\" y=\"-37.8\" font-family=\"Helvetica,sans-Serif\" font-size=\"14.00\" fill=\"#000000\">samples = 331</text>\n<text text-anchor=\"middle\" x=\"836\" y=\"-22.8\" font-family=\"Helvetica,sans-Serif\" font-size=\"14.00\" fill=\"#000000\">value = [105, 226]</text>\n<text text-anchor=\"middle\" x=\"836\" y=\"-7.8\" font-family=\"Helvetica,sans-Serif\" font-size=\"14.00\" fill=\"#000000\">class = Y</text>\n</g>\n<!-- 10&#45;&gt;12 -->\n<g id=\"edge12\" class=\"edge\">\n<title>10&#45;&gt;12</title>\n<path fill=\"none\" stroke=\"#000000\" d=\"M741.8545,-103.9815C754.8368,-94.3313 768.6394,-84.0714 781.5597,-74.4673\"/>\n<polygon fill=\"#000000\" stroke=\"#000000\" points=\"783.9678,-77.0384 789.9054,-68.2637 779.7917,-71.4204 783.9678,-77.0384\"/>\n</g>\n</g>\n</svg>\n"
          },
          "metadata": {},
          "execution_count": 7
        }
      ]
    },
    {
      "cell_type": "markdown",
      "source": [
        "Now, note that we have a much more complex tree. However, this does not mean that we have a better tree (which has a better accuracy in real world data)."
      ],
      "metadata": {
        "id": "AjwFqsa-ajLX"
      }
    },
    {
      "cell_type": "markdown",
      "source": [
        "## Checking the accuracy for different values of max_depth\n",
        "\n",
        "Thus, let's check the accuracy for different values of the parameter. First, once again, let's evaluate the average accuracy for ```max_depth = 2```:"
      ],
      "metadata": {
        "id": "DWH2s109bCoP"
      }
    },
    {
      "cell_type": "code",
      "source": [
        "dec_tree = DecisionTreeClassifier(max_depth = 2)\n",
        "\n",
        "acc_avg = PerformCrossValidation(scaler, dec_tree, X, y)\n",
        "\n",
        "print(\"Accuracy: {:.2f}%\".format(acc_avg))"
      ],
      "metadata": {
        "colab": {
          "base_uri": "https://localhost:8080/"
        },
        "id": "IhukCCbbaiK8",
        "outputId": "bbbbb78a-8385-4576-f713-705f486bdcb9"
      },
      "execution_count": 8,
      "outputs": [
        {
          "output_type": "stream",
          "name": "stdout",
          "text": [
            "Accuracy: 75.76%\n"
          ]
        }
      ]
    },
    {
      "cell_type": "markdown",
      "source": [
        "Our accuracy is 75.78%. Now, let's use ```max_depth = 3```:"
      ],
      "metadata": {
        "id": "Qr1K3xQYbXmX"
      }
    },
    {
      "cell_type": "code",
      "source": [
        "dec_tree = DecisionTreeClassifier(max_depth = 3)\n",
        "\n",
        "acc_avg = PerformCrossValidation(scaler, dec_tree, X, y)\n",
        "\n",
        "print(\"Accuracy: {:.2f}%\".format(acc_avg))"
      ],
      "metadata": {
        "colab": {
          "base_uri": "https://localhost:8080/"
        },
        "id": "h6H0OBIBbTIZ",
        "outputId": "8e841b9c-bbfb-4b22-be0f-c021273e039a"
      },
      "execution_count": 9,
      "outputs": [
        {
          "output_type": "stream",
          "name": "stdout",
          "text": [
            "Accuracy: 78.68%\n"
          ]
        }
      ]
    },
    {
      "cell_type": "markdown",
      "source": [
        "Our accuracy increased! Nice. However, this does not mean that, everytime we increase the ```max_depth```, we will get a higher accuracy. For instance, for ```max_depth = 10```:"
      ],
      "metadata": {
        "id": "2iq9VIBSbb3X"
      }
    },
    {
      "cell_type": "code",
      "source": [
        "dec_tree = DecisionTreeClassifier(max_depth = 10)\n",
        "\n",
        "acc_avg = PerformCrossValidation(scaler, dec_tree, X, y)\n",
        "\n",
        "print(\"Accuracy: {:.2f}%\".format(acc_avg))"
      ],
      "metadata": {
        "colab": {
          "base_uri": "https://localhost:8080/"
        },
        "id": "xxPKqBmPbVK0",
        "outputId": "aeb1773c-a5b4-49c9-c768-dc5ae784bd49"
      },
      "execution_count": 10,
      "outputs": [
        {
          "output_type": "stream",
          "name": "stdout",
          "text": [
            "Accuracy: 76.57%\n"
          ]
        }
      ]
    },
    {
      "cell_type": "markdown",
      "source": [
        "Our accuracy was lower. This shows how a more complex model is not always a better model (in terms of accuracy), and why optimizing models is not a trivial task. In the rest of the course, we will see how can we choose the parameter which optimizes the model for our dataset."
      ],
      "metadata": {
        "id": "7Corj1snbnjU"
      }
    },
    {
      "cell_type": "markdown",
      "source": [
        "## Checking the accuracy of multiple trees\n",
        "\n",
        "Now, let's try something more: we will fit multiple decision trees, with different ```max_depth```, and plot their accuracies in a graph. This way, we have a simple way of finding which value is the optimal for the parameter. Thus, we can do:"
      ],
      "metadata": {
        "id": "H-SXKbAZcMwg"
      }
    },
    {
      "cell_type": "code",
      "source": [
        "max_depth_list = []\n",
        "accuracy_list  = []\n",
        "\n",
        "for md in range(1, 33):\n",
        "  dec_tree = DecisionTreeClassifier(max_depth = md)\n",
        "  acc_avg = PerformCrossValidation(scaler, dec_tree, X, y)\n",
        "\n",
        "  max_depth_list.append(md)\n",
        "  accuracy_list.append(acc_avg)"
      ],
      "metadata": {
        "id": "DcSgYfn7bWO3"
      },
      "execution_count": 11,
      "outputs": []
    },
    {
      "cell_type": "markdown",
      "source": [
        "Now, we can plot our accuracy using:"
      ],
      "metadata": {
        "id": "-RFxcVbodB2Y"
      }
    },
    {
      "cell_type": "code",
      "source": [
        "plt.figure(figsize = (12, 6))\n",
        "plt.plot(max_depth_list, accuracy_list)\n",
        "plt.grid( )\n",
        "plt.xlabel('Maximum depth')\n",
        "plt.ylabel('Accuracy (%)')"
      ],
      "metadata": {
        "colab": {
          "base_uri": "https://localhost:8080/",
          "height": 409
        },
        "id": "Y9QmytANc5SW",
        "outputId": "117bc4df-38a0-4fbe-92db-b408f2e1e052"
      },
      "execution_count": 12,
      "outputs": [
        {
          "output_type": "execute_result",
          "data": {
            "text/plain": [
              "Text(0, 0.5, 'Accuracy (%)')"
            ]
          },
          "metadata": {},
          "execution_count": 12
        },
        {
          "output_type": "display_data",
          "data": {
            "text/plain": [
              "<Figure size 864x432 with 1 Axes>"
            ],
            "image/png": "[encoded data removed]"
          },
          "metadata": {
            "needs_background": "light"
          }
        }
      ]
    },
    {
      "cell_type": "markdown",
      "source": [
        "We can see that, indeed, the highest accuracy is found for very small values of ```max_depth```. But why?\n",
        "\n",
        "When we increase ```max_depth```, we are giving more **freedom** to our model. First, it becomes harder and more costly to fit it. But also, the model becomes better fitted to the training set. Actually, the model becomes **overfitted** to the training set. This means that the model will be very good to predict values from the training set, but it may not be as good to predict values from a test or validation sets. \n",
        "\n",
        "For instance, let's try to plot the accuracy of the training set. First, let's redefine our user-defined function:"
      ],
      "metadata": {
        "id": "SrEt8zuXdfTW"
      }
    },
    {
      "cell_type": "code",
      "source": [
        "def PerformCrossValidation(scaler, model, X, y):\n",
        "  # Defining pipeline for production\n",
        "  pipe = Pipeline([('scaler', scaler), ('estimator', model)])\n",
        "\n",
        "  # Defining the cross-validation technique\n",
        "  cv = StratifiedKFold(n_splits = 10, shuffle = True)\n",
        "\n",
        "  # Performing the cross-validation\n",
        "  results = cross_validate(pipe, X, y, cv = cv, return_train_score=True)\n",
        "\n",
        "  # Obtaining the results for cross-validation\n",
        "  acc_avg_train = results['train_score'].mean( )*100\n",
        "  acc_avg_test  = results['test_score'].mean( )*100\n",
        "\n",
        "  return (acc_avg_train, acc_avg_test)"
      ],
      "metadata": {
        "id": "OSH_VIdTdOZ6"
      },
      "execution_count": 13,
      "outputs": []
    },
    {
      "cell_type": "markdown",
      "source": [
        "Now, we can do:"
      ],
      "metadata": {
        "id": "LBQ2yohHedHh"
      }
    },
    {
      "cell_type": "code",
      "source": [
        "max_depth_list = []\n",
        "train_acc_list = []\n",
        "test_acc_list  = []\n",
        "\n",
        "for md in range(1, 33):\n",
        "  dec_tree = DecisionTreeClassifier(max_depth = md)\n",
        "  acc_avg_train, acc_avg_test = PerformCrossValidation(scaler, dec_tree, X, y)\n",
        "\n",
        "  max_depth_list.append(md)\n",
        "  train_acc_list.append(acc_avg_train)\n",
        "  test_acc_list.append(acc_avg_test)"
      ],
      "metadata": {
        "id": "i8s1VzZEecoh"
      },
      "execution_count": 14,
      "outputs": []
    },
    {
      "cell_type": "markdown",
      "source": [
        "Now, to plot our accuracy:"
      ],
      "metadata": {
        "id": "d1lvF1kNe7Iw"
      }
    },
    {
      "cell_type": "code",
      "source": [
        "plt.figure(figsize = (12, 6))\n",
        "plt.plot(max_depth_list, test_acc_list, label = 'Test accuracy')\n",
        "plt.plot(max_depth_list, train_acc_list, label = 'Train accuracy')\n",
        "plt.grid( )\n",
        "plt.xlabel('Maximum depth')\n",
        "plt.ylabel('Accuracy (%)')\n",
        "plt.legend( )"
      ],
      "metadata": {
        "colab": {
          "base_uri": "https://localhost:8080/",
          "height": 406
        },
        "id": "OeEFpegTe46i",
        "outputId": "7300c37a-d117-4db2-dc82-46b0bd2721f8"
      },
      "execution_count": 15,
      "outputs": [
        {
          "output_type": "execute_result",
          "data": {
            "text/plain": [
              "<matplotlib.legend.Legend at 0x7f0c17d70e50>"
            ]
          },
          "metadata": {},
          "execution_count": 15
        },
        {
          "output_type": "display_data",
          "data": {
            "text/plain": [
              "<Figure size 864x432 with 1 Axes>"
            ],
            "image/png": "[encoded data removed]"
          },
          "metadata": {
            "needs_background": "light"
          }
        }
      ]
    },
    {
      "cell_type": "markdown",
      "source": [
        "Note that, for a very small maximum depth, the train and test accuracy are very similar. However, as we increase the maximum depth, our train accuracy continues to grow, while the test accuracy starts to decrease. That is a very good example of overfitting, where the model represents the train set very well, but is not able to get a good accuracy over the test set."
      ],
      "metadata": {
        "id": "9XrOKCVcfJkj"
      }
    },
    {
      "cell_type": "markdown",
      "source": [
        "# Optimizing two hyper-parameters at once\n",
        "\n",
        "Until now, we evaluated the accuracy for different values of the ```max_depth``` parameter. However, a decision tree has multiple parameters, and one should be able to set the optimal (or almost optimal) values for most of these parameters. For instance, we have the minimum number of samples on a leaf (```min_samples_leaf```).\n",
        "\n",
        "To analyze both parameters, we should define a grid, where we test all possible combinations of each parameter. Note that, if we have 32 possible values for each parameter, we have 1024 possibilities. Here, it becomes more clear how the optimization of hyper-parameters starts to become more and more expensive as we increase the number of dimensions. Thus, instead of exploring the entire space, we may want to pick some discrete values to test with.\n",
        "\n",
        "So, let's work with two parameters:"
      ],
      "metadata": {
        "id": "CEwMUf_GnJPV"
      }
    },
    {
      "cell_type": "code",
      "source": [
        "max_depth_list = []\n",
        "min_leaf_list  = []\n",
        "train_acc_list = []\n",
        "test_acc_list  = []\n",
        "\n",
        "for md in [3, 6, 9, 12, 15, 18, 21, 24]:                                              # Possible values for max_depth\n",
        "  for msl in [32, 64, 128, 256, 512, 1024]:                                           # Possible values for min_samples_leaf\n",
        "    dec_tree = DecisionTreeClassifier(max_depth = md, min_samples_leaf = msl)\n",
        "    acc_avg_train, acc_avg_test = PerformCrossValidation(scaler, dec_tree, X, y)\n",
        "\n",
        "    max_depth_list.append(md)\n",
        "    min_leaf_list.append(msl)\n",
        "    train_acc_list.append(acc_avg_train)\n",
        "    test_acc_list.append(acc_avg_test)\n",
        "\n",
        "result = {'Max_depth' : max_depth_list, \n",
        "          'Min_samp_leaf' : min_leaf_list, \n",
        "          'Train_acc' : train_acc_list, \n",
        "          'Test_acc' : test_acc_list}\n",
        "\n",
        "result_df = pd.DataFrame(result)"
      ],
      "metadata": {
        "id": "KU7vus26oRwq"
      },
      "execution_count": 16,
      "outputs": []
    },
    {
      "cell_type": "markdown",
      "source": [
        "This time, we ended up creating a dataframe with our results. To get the best results (based on the test set), we can do:"
      ],
      "metadata": {
        "id": "6SOQVODOpR2f"
      }
    },
    {
      "cell_type": "code",
      "source": [
        "result_df.sort_values('Test_acc', ascending = False).head( )"
      ],
      "metadata": {
        "colab": {
          "base_uri": "https://localhost:8080/",
          "height": 206
        },
        "id": "e2LIQpQ-pPkM",
        "outputId": "da0adb08-59bf-4c60-ecb7-097f6bb25552"
      },
      "execution_count": 17,
      "outputs": [
        {
          "output_type": "execute_result",
          "data": {
            "text/plain": [
              "    Max_depth  Min_samp_leaf  Train_acc  Test_acc\n",
              "0           3             32  78.750000     78.70\n",
              "2           3            128  78.751111     78.69\n",
              "3           3            256  78.751111     78.69\n",
              "1           3             64  78.752222     78.68\n",
              "33         18            256  78.876667     78.40"
            ],
            "text/html": [
              "\n",
              "  <div id=\"df-0d422f97-7bc2-4d2b-ac01-c94c04a26350\">\n",
              "    <div class=\"colab-df-container\">\n",
              "      <div>\n",
              "<style scoped>\n",
              "    .dataframe tbody tr th:only-of-type {\n",
              "        vertical-align: middle;\n",
              "    }\n",
              "\n",
              "    .dataframe tbody tr th {\n",
              "        vertical-align: top;\n",
              "    }\n",
              "\n",
              "    .dataframe thead th {\n",
              "        text-align: right;\n",
              "    }\n",
              "</style>\n",
              "<table border=\"1\" class=\"dataframe\">\n",
              "  <thead>\n",
              "    <tr style=\"text-align: right;\">\n",
              "      <th></th>\n",
              "      <th>Max_depth</th>\n",
              "      <th>Min_samp_leaf</th>\n",
              "      <th>Train_acc</th>\n",
              "      <th>Test_acc</th>\n",
              "    </tr>\n",
              "  </thead>\n",
              "  <tbody>\n",
              "    <tr>\n",
              "      <th>0</th>\n",
              "      <td>3</td>\n",
              "      <td>32</td>\n",
              "      <td>78.750000</td>\n",
              "      <td>78.70</td>\n",
              "    </tr>\n",
              "    <tr>\n",
              "      <th>2</th>\n",
              "      <td>3</td>\n",
              "      <td>128</td>\n",
              "      <td>78.751111</td>\n",
              "      <td>78.69</td>\n",
              "    </tr>\n",
              "    <tr>\n",
              "      <th>3</th>\n",
              "      <td>3</td>\n",
              "      <td>256</td>\n",
              "      <td>78.751111</td>\n",
              "      <td>78.69</td>\n",
              "    </tr>\n",
              "    <tr>\n",
              "      <th>1</th>\n",
              "      <td>3</td>\n",
              "      <td>64</td>\n",
              "      <td>78.752222</td>\n",
              "      <td>78.68</td>\n",
              "    </tr>\n",
              "    <tr>\n",
              "      <th>33</th>\n",
              "      <td>18</td>\n",
              "      <td>256</td>\n",
              "      <td>78.876667</td>\n",
              "      <td>78.40</td>\n",
              "    </tr>\n",
              "  </tbody>\n",
              "</table>\n",
              "</div>\n",
              "      <button class=\"colab-df-convert\" onclick=\"convertToInteractive('df-0d422f97-7bc2-4d2b-ac01-c94c04a26350')\"\n",
              "              title=\"Convert this dataframe to an interactive table.\"\n",
              "              style=\"display:none;\">\n",
              "        \n",
              "  <svg xmlns=\"http://www.w3.org/2000/svg\" height=\"24px\"viewBox=\"0 0 24 24\"\n",
              "       width=\"24px\">\n",
              "    <path d=\"M0 0h24v24H0V0z\" fill=\"none\"/>\n",
              "    <path d=\"M18.56 5.44l.94 2.06.94-2.06 2.06-.94-2.06-.94-.94-2.06-.94 2.06-2.06.94zm-11 1L8.5 8.5l.94-2.06 2.06-.94-2.06-.94L8.5 2.5l-.94 2.06-2.06.94zm10 10l.94 2.06.94-2.06 2.06-.94-2.06-.94-.94-2.06-.94 2.06-2.06.94z\"/><path d=\"M17.41 7.96l-1.37-1.37c-.4-.4-.92-.59-1.43-.59-.52 0-1.04.2-1.43.59L10.3 9.45l-7.72 7.72c-.78.78-.78 2.05 0 2.83L4 21.41c.39.39.9.59 1.41.59.51 0 1.02-.2 1.41-.59l7.78-7.78 2.81-2.81c.8-.78.8-2.07 0-2.86zM5.41 20L4 18.59l7.72-7.72 1.47 1.35L5.41 20z\"/>\n",
              "  </svg>\n",
              "      </button>\n",
              "      \n",
              "  <style>\n",
              "    .colab-df-container {\n",
              "      display:flex;\n",
              "      flex-wrap:wrap;\n",
              "      gap: 12px;\n",
              "    }\n",
              "\n",
              "    .colab-df-convert {\n",
              "      background-color: #E8F0FE;\n",
              "      border: none;\n",
              "      border-radius: 50%;\n",
              "      cursor: pointer;\n",
              "      display: none;\n",
              "      fill: #1967D2;\n",
              "      height: 32px;\n",
              "      padding: 0 0 0 0;\n",
              "      width: 32px;\n",
              "    }\n",
              "\n",
              "    .colab-df-convert:hover {\n",
              "      background-color: #E2EBFA;\n",
              "      box-shadow: 0px 1px 2px rgba(60, 64, 67, 0.3), 0px 1px 3px 1px rgba(60, 64, 67, 0.15);\n",
              "      fill: #174EA6;\n",
              "    }\n",
              "\n",
              "    [theme=dark] .colab-df-convert {\n",
              "      background-color: #3B4455;\n",
              "      fill: #D2E3FC;\n",
              "    }\n",
              "\n",
              "    [theme=dark] .colab-df-convert:hover {\n",
              "      background-color: #434B5C;\n",
              "      box-shadow: 0px 1px 3px 1px rgba(0, 0, 0, 0.15);\n",
              "      filter: drop-shadow(0px 1px 2px rgba(0, 0, 0, 0.3));\n",
              "      fill: #FFFFFF;\n",
              "    }\n",
              "  </style>\n",
              "\n",
              "      <script>\n",
              "        const buttonEl =\n",
              "          document.querySelector('#df-0d422f97-7bc2-4d2b-ac01-c94c04a26350 button.colab-df-convert');\n",
              "        buttonEl.style.display =\n",
              "          google.colab.kernel.accessAllowed ? 'block' : 'none';\n",
              "\n",
              "        async function convertToInteractive(key) {\n",
              "          const element = document.querySelector('#df-0d422f97-7bc2-4d2b-ac01-c94c04a26350');\n",
              "          const dataTable =\n",
              "            await google.colab.kernel.invokeFunction('convertToInteractive',\n",
              "                                                     [key], {});\n",
              "          if (!dataTable) return;\n",
              "\n",
              "          const docLinkHtml = 'Like what you see? Visit the ' +\n",
              "            '<a target=\"_blank\" href=https://colab.research.google.com/notebooks/data_table.ipynb>data table notebook</a>'\n",
              "            + ' to learn more about interactive tables.';\n",
              "          element.innerHTML = '';\n",
              "          dataTable['output_type'] = 'display_data';\n",
              "          await google.colab.output.renderOutput(dataTable, element);\n",
              "          const docLink = document.createElement('div');\n",
              "          docLink.innerHTML = docLinkHtml;\n",
              "          element.appendChild(docLink);\n",
              "        }\n",
              "      </script>\n",
              "    </div>\n",
              "  </div>\n",
              "  "
            ]
          },
          "metadata": {},
          "execution_count": 17
        }
      ]
    },
    {
      "cell_type": "markdown",
      "source": [
        "So, the highest test accuracy is found with ```max_depth = 3```. Also, note that multiple ```min_samples_leaf``` values were able to find a very similar accuracy! The parameter seems to be unimportant for this maximum depth."
      ],
      "metadata": {
        "id": "z9lGezNsrBBp"
      }
    },
    {
      "cell_type": "markdown",
      "source": [
        "## Visualizing the parameter grid\n",
        "\n",
        "When we had only one parameter, we had a very nice way of visualizing the change in accuracy for a change in the parameter. When we have two parameters, we can also visualize the change in accuracy, but now using a grid.\n",
        "\n",
        "First, we can try to get the correlation for our dataframe:"
      ],
      "metadata": {
        "id": "pwLl9lEzrWxq"
      }
    },
    {
      "cell_type": "code",
      "source": [
        "pd.options.display.float_format = '{:,.6f}'.format"
      ],
      "metadata": {
        "id": "eV69oU0esIXs"
      },
      "execution_count": 18,
      "outputs": []
    },
    {
      "cell_type": "code",
      "source": [
        "result_df.corr( )"
      ],
      "metadata": {
        "colab": {
          "base_uri": "https://localhost:8080/",
          "height": 175
        },
        "id": "uZo9D1Z-qyms",
        "outputId": "73bac8de-51ba-488a-f555-1c2759dab861"
      },
      "execution_count": 19,
      "outputs": [
        {
          "output_type": "execute_result",
          "data": {
            "text/plain": [
              "               Max_depth  Min_samp_leaf  Train_acc  Test_acc\n",
              "Max_depth       1.000000       0.000000   0.167164 -0.240826\n",
              "Min_samp_leaf   0.000000       1.000000  -0.934610 -0.730237\n",
              "Train_acc       0.167164      -0.934610   1.000000  0.504437\n",
              "Test_acc       -0.240826      -0.730237   0.504437  1.000000"
            ],
            "text/html": [
              "\n",
              "  <div id=\"df-49b3f22d-f78d-4da6-bae7-85582337fcf9\">\n",
              "    <div class=\"colab-df-container\">\n",
              "      <div>\n",
              "<style scoped>\n",
              "    .dataframe tbody tr th:only-of-type {\n",
              "        vertical-align: middle;\n",
              "    }\n",
              "\n",
              "    .dataframe tbody tr th {\n",
              "        vertical-align: top;\n",
              "    }\n",
              "\n",
              "    .dataframe thead th {\n",
              "        text-align: right;\n",
              "    }\n",
              "</style>\n",
              "<table border=\"1\" class=\"dataframe\">\n",
              "  <thead>\n",
              "    <tr style=\"text-align: right;\">\n",
              "      <th></th>\n",
              "      <th>Max_depth</th>\n",
              "      <th>Min_samp_leaf</th>\n",
              "      <th>Train_acc</th>\n",
              "      <th>Test_acc</th>\n",
              "    </tr>\n",
              "  </thead>\n",
              "  <tbody>\n",
              "    <tr>\n",
              "      <th>Max_depth</th>\n",
              "      <td>1.000000</td>\n",
              "      <td>0.000000</td>\n",
              "      <td>0.167164</td>\n",
              "      <td>-0.240826</td>\n",
              "    </tr>\n",
              "    <tr>\n",
              "      <th>Min_samp_leaf</th>\n",
              "      <td>0.000000</td>\n",
              "      <td>1.000000</td>\n",
              "      <td>-0.934610</td>\n",
              "      <td>-0.730237</td>\n",
              "    </tr>\n",
              "    <tr>\n",
              "      <th>Train_acc</th>\n",
              "      <td>0.167164</td>\n",
              "      <td>-0.934610</td>\n",
              "      <td>1.000000</td>\n",
              "      <td>0.504437</td>\n",
              "    </tr>\n",
              "    <tr>\n",
              "      <th>Test_acc</th>\n",
              "      <td>-0.240826</td>\n",
              "      <td>-0.730237</td>\n",
              "      <td>0.504437</td>\n",
              "      <td>1.000000</td>\n",
              "    </tr>\n",
              "  </tbody>\n",
              "</table>\n",
              "</div>\n",
              "      <button class=\"colab-df-convert\" onclick=\"convertToInteractive('df-49b3f22d-f78d-4da6-bae7-85582337fcf9')\"\n",
              "              title=\"Convert this dataframe to an interactive table.\"\n",
              "              style=\"display:none;\">\n",
              "        \n",
              "  <svg xmlns=\"http://www.w3.org/2000/svg\" height=\"24px\"viewBox=\"0 0 24 24\"\n",
              "       width=\"24px\">\n",
              "    <path d=\"M0 0h24v24H0V0z\" fill=\"none\"/>\n",
              "    <path d=\"M18.56 5.44l.94 2.06.94-2.06 2.06-.94-2.06-.94-.94-2.06-.94 2.06-2.06.94zm-11 1L8.5 8.5l.94-2.06 2.06-.94-2.06-.94L8.5 2.5l-.94 2.06-2.06.94zm10 10l.94 2.06.94-2.06 2.06-.94-2.06-.94-.94-2.06-.94 2.06-2.06.94z\"/><path d=\"M17.41 7.96l-1.37-1.37c-.4-.4-.92-.59-1.43-.59-.52 0-1.04.2-1.43.59L10.3 9.45l-7.72 7.72c-.78.78-.78 2.05 0 2.83L4 21.41c.39.39.9.59 1.41.59.51 0 1.02-.2 1.41-.59l7.78-7.78 2.81-2.81c.8-.78.8-2.07 0-2.86zM5.41 20L4 18.59l7.72-7.72 1.47 1.35L5.41 20z\"/>\n",
              "  </svg>\n",
              "      </button>\n",
              "      \n",
              "  <style>\n",
              "    .colab-df-container {\n",
              "      display:flex;\n",
              "      flex-wrap:wrap;\n",
              "      gap: 12px;\n",
              "    }\n",
              "\n",
              "    .colab-df-convert {\n",
              "      background-color: #E8F0FE;\n",
              "      border: none;\n",
              "      border-radius: 50%;\n",
              "      cursor: pointer;\n",
              "      display: none;\n",
              "      fill: #1967D2;\n",
              "      height: 32px;\n",
              "      padding: 0 0 0 0;\n",
              "      width: 32px;\n",
              "    }\n",
              "\n",
              "    .colab-df-convert:hover {\n",
              "      background-color: #E2EBFA;\n",
              "      box-shadow: 0px 1px 2px rgba(60, 64, 67, 0.3), 0px 1px 3px 1px rgba(60, 64, 67, 0.15);\n",
              "      fill: #174EA6;\n",
              "    }\n",
              "\n",
              "    [theme=dark] .colab-df-convert {\n",
              "      background-color: #3B4455;\n",
              "      fill: #D2E3FC;\n",
              "    }\n",
              "\n",
              "    [theme=dark] .colab-df-convert:hover {\n",
              "      background-color: #434B5C;\n",
              "      box-shadow: 0px 1px 3px 1px rgba(0, 0, 0, 0.15);\n",
              "      filter: drop-shadow(0px 1px 2px rgba(0, 0, 0, 0.3));\n",
              "      fill: #FFFFFF;\n",
              "    }\n",
              "  </style>\n",
              "\n",
              "      <script>\n",
              "        const buttonEl =\n",
              "          document.querySelector('#df-49b3f22d-f78d-4da6-bae7-85582337fcf9 button.colab-df-convert');\n",
              "        buttonEl.style.display =\n",
              "          google.colab.kernel.accessAllowed ? 'block' : 'none';\n",
              "\n",
              "        async function convertToInteractive(key) {\n",
              "          const element = document.querySelector('#df-49b3f22d-f78d-4da6-bae7-85582337fcf9');\n",
              "          const dataTable =\n",
              "            await google.colab.kernel.invokeFunction('convertToInteractive',\n",
              "                                                     [key], {});\n",
              "          if (!dataTable) return;\n",
              "\n",
              "          const docLinkHtml = 'Like what you see? Visit the ' +\n",
              "            '<a target=\"_blank\" href=https://colab.research.google.com/notebooks/data_table.ipynb>data table notebook</a>'\n",
              "            + ' to learn more about interactive tables.';\n",
              "          element.innerHTML = '';\n",
              "          dataTable['output_type'] = 'display_data';\n",
              "          await google.colab.output.renderOutput(dataTable, element);\n",
              "          const docLink = document.createElement('div');\n",
              "          docLink.innerHTML = docLinkHtml;\n",
              "          element.appendChild(docLink);\n",
              "        }\n",
              "      </script>\n",
              "    </div>\n",
              "  </div>\n",
              "  "
            ]
          },
          "metadata": {},
          "execution_count": 19
        }
      ]
    },
    {
      "cell_type": "markdown",
      "source": [
        "The correlation can tell us how the accuracy is correlated with the parameters. For instance, the correlation between the test accuracy and ```min_samples_leaf``` is very low. That means that, ass ```min_samples_leaf``` increases, the test accuracy tends to decrease.\n",
        "\n",
        "To visualize the correlation we can use:"
      ],
      "metadata": {
        "id": "ARofSfy5sMg0"
      }
    },
    {
      "cell_type": "code",
      "source": [
        "sns.heatmap(result_df.corr( ))"
      ],
      "metadata": {
        "colab": {
          "base_uri": "https://localhost:8080/",
          "height": 287
        },
        "id": "2pk81WIpsAcg",
        "outputId": "18988be2-833c-412a-8441-37ad193748f6"
      },
      "execution_count": 20,
      "outputs": [
        {
          "output_type": "execute_result",
          "data": {
            "text/plain": [
              "<matplotlib.axes._subplots.AxesSubplot at 0x7f0c17d4db50>"
            ]
          },
          "metadata": {},
          "execution_count": 20
        },
        {
          "output_type": "display_data",
          "data": {
            "text/plain": [
              "<Figure size 432x288 with 2 Axes>"
            ],
            "image/png": "[encoded data removed]"
          },
          "metadata": {
            "needs_background": "light"
          }
        }
      ]
    },
    {
      "cell_type": "markdown",
      "source": [
        "Another way of visualizing how some features are correlated is to use a pairplot:"
      ],
      "metadata": {
        "id": "Fdv0Kqt0tIYR"
      }
    },
    {
      "cell_type": "code",
      "source": [
        "sns.pairplot(result_df, y_vars = ['Train_acc', 'Test_acc'], x_vars = ['Max_depth', 'Min_samp_leaf'])"
      ],
      "metadata": {
        "colab": {
          "base_uri": "https://localhost:8080/",
          "height": 391
        },
        "id": "2HgPNZYEsvgO",
        "outputId": "f25eccb2-d076-412a-cc84-7b183f95b6d5"
      },
      "execution_count": 21,
      "outputs": [
        {
          "output_type": "execute_result",
          "data": {
            "text/plain": [
              "<seaborn.axisgrid.PairGrid at 0x7f0c17d4f090>"
            ]
          },
          "metadata": {},
          "execution_count": 21
        },
        {
          "output_type": "display_data",
          "data": {
            "text/plain": [
              "<Figure size 360x360 with 4 Axes>"
            ],
            "image/png": "[encoded data removed]"
          },
          "metadata": {
            "needs_background": "light"
          }
        }
      ]
    },
    {
      "cell_type": "markdown",
      "source": [
        "Here, it is clear that, as ```min_samp_leaf``` increases, the accuracy (both test and train) tends to decrease. Also, as the depth increases, the training accuracy tends to increase. However, this is not always true, as ```min_samples_leaf``` seems to have a strong effect in the accuracy. "
      ],
      "metadata": {
        "id": "SXv6J0-5tg2-"
      }
    },
    {
      "cell_type": "markdown",
      "source": [
        "# Exploring more parameters\n",
        "\n",
        "Finally, the Decision Tree Classifier has more than 2 parameters. In fact, it has a very high number of parameters, and trying to set those by exploring the entire design space and by analyzing and visualizing each effect is not feasible. \n",
        "\n",
        "Let's try to define some possible values for another parameter:"
      ],
      "metadata": {
        "id": "f0nxf_dRuvqC"
      }
    },
    {
      "cell_type": "code",
      "source": [
        "possible_max_depth = [2, 4, 6, 8, 10]\n",
        "possible_min_samples_leaf = [32, 64, 128, 256, 512, 1024]\n",
        "possible_min_samples_split = [16, 32, 64, 128, 256]"
      ],
      "metadata": {
        "id": "0cWYhAhks5l1"
      },
      "execution_count": 22,
      "outputs": []
    },
    {
      "cell_type": "markdown",
      "source": [
        "Now, let's, once again, get the test and train accuracy for each set of parameters:"
      ],
      "metadata": {
        "id": "VJ7SktFiwLTM"
      }
    },
    {
      "cell_type": "code",
      "source": [
        "max_depth_list = []\n",
        "min_leaf_list  = []\n",
        "min_split_list = []\n",
        "train_acc_list = []\n",
        "test_acc_list  = []\n",
        "\n",
        "for md in possible_max_depth:                                                     # Possible values for max_depth\n",
        "  for msl in possible_min_samples_leaf:                                           # Possible values for min_samples_leaf\n",
        "    for mss in possible_min_samples_split:                                        # Possible values for min_samples_split\n",
        "      dec_tree = DecisionTreeClassifier(max_depth = md, min_samples_leaf = msl)\n",
        "      acc_avg_train, acc_avg_test = PerformCrossValidation(scaler, dec_tree, X, y)\n",
        "\n",
        "      max_depth_list.append(md)\n",
        "      min_leaf_list.append(msl)\n",
        "      min_split_list.append(mss)\n",
        "      train_acc_list.append(acc_avg_train)\n",
        "      test_acc_list.append(acc_avg_test)\n",
        "\n",
        "result = {'Max_depth' : max_depth_list, \n",
        "          'Min_samp_leaf' : min_leaf_list, \n",
        "          'Min_samp_split' : min_split_list,\n",
        "          'Train_acc' : train_acc_list, \n",
        "          'Test_acc' : test_acc_list}\n",
        "\n",
        "result_df = pd.DataFrame(result)"
      ],
      "metadata": {
        "id": "rbuV8VU4vdNP"
      },
      "execution_count": 23,
      "outputs": []
    },
    {
      "cell_type": "markdown",
      "source": [
        "Finally, let's get the set of parameters which returned the highest test accuracy:"
      ],
      "metadata": {
        "id": "0FA-p3Z5wW87"
      }
    },
    {
      "cell_type": "code",
      "source": [
        "result_df.sort_values('Test_acc', ascending = False).head( )"
      ],
      "metadata": {
        "colab": {
          "base_uri": "https://localhost:8080/",
          "height": 206
        },
        "id": "pYriXVDSwGf5",
        "outputId": "31f2e2f8-74a8-43ba-f655-d3a7c2e5c14c"
      },
      "execution_count": 24,
      "outputs": [
        {
          "output_type": "execute_result",
          "data": {
            "text/plain": [
              "    Max_depth  Min_samp_leaf  Min_samp_split  Train_acc  Test_acc\n",
              "31          4             32              32  78.750000 78.710000\n",
              "41          4            128              32  78.750000 78.710000\n",
              "48          4            256             128  78.751111 78.710000\n",
              "35          4             64              16  78.750000 78.710000\n",
              "45          4            256              16  78.751111 78.700000"
            ],
            "text/html": [
              "\n",
              "  <div id=\"df-52fc840e-d3ae-470e-bce0-dbd7df9e4098\">\n",
              "    <div class=\"colab-df-container\">\n",
              "      <div>\n",
              "<style scoped>\n",
              "    .dataframe tbody tr th:only-of-type {\n",
              "        vertical-align: middle;\n",
              "    }\n",
              "\n",
              "    .dataframe tbody tr th {\n",
              "        vertical-align: top;\n",
              "    }\n",
              "\n",
              "    .dataframe thead th {\n",
              "        text-align: right;\n",
              "    }\n",
              "</style>\n",
              "<table border=\"1\" class=\"dataframe\">\n",
              "  <thead>\n",
              "    <tr style=\"text-align: right;\">\n",
              "      <th></th>\n",
              "      <th>Max_depth</th>\n",
              "      <th>Min_samp_leaf</th>\n",
              "      <th>Min_samp_split</th>\n",
              "      <th>Train_acc</th>\n",
              "      <th>Test_acc</th>\n",
              "    </tr>\n",
              "  </thead>\n",
              "  <tbody>\n",
              "    <tr>\n",
              "      <th>31</th>\n",
              "      <td>4</td>\n",
              "      <td>32</td>\n",
              "      <td>32</td>\n",
              "      <td>78.750000</td>\n",
              "      <td>78.710000</td>\n",
              "    </tr>\n",
              "    <tr>\n",
              "      <th>41</th>\n",
              "      <td>4</td>\n",
              "      <td>128</td>\n",
              "      <td>32</td>\n",
              "      <td>78.750000</td>\n",
              "      <td>78.710000</td>\n",
              "    </tr>\n",
              "    <tr>\n",
              "      <th>48</th>\n",
              "      <td>4</td>\n",
              "      <td>256</td>\n",
              "      <td>128</td>\n",
              "      <td>78.751111</td>\n",
              "      <td>78.710000</td>\n",
              "    </tr>\n",
              "    <tr>\n",
              "      <th>35</th>\n",
              "      <td>4</td>\n",
              "      <td>64</td>\n",
              "      <td>16</td>\n",
              "      <td>78.750000</td>\n",
              "      <td>78.710000</td>\n",
              "    </tr>\n",
              "    <tr>\n",
              "      <th>45</th>\n",
              "      <td>4</td>\n",
              "      <td>256</td>\n",
              "      <td>16</td>\n",
              "      <td>78.751111</td>\n",
              "      <td>78.700000</td>\n",
              "    </tr>\n",
              "  </tbody>\n",
              "</table>\n",
              "</div>\n",
              "      <button class=\"colab-df-convert\" onclick=\"convertToInteractive('df-52fc840e-d3ae-470e-bce0-dbd7df9e4098')\"\n",
              "              title=\"Convert this dataframe to an interactive table.\"\n",
              "              style=\"display:none;\">\n",
              "        \n",
              "  <svg xmlns=\"http://www.w3.org/2000/svg\" height=\"24px\"viewBox=\"0 0 24 24\"\n",
              "       width=\"24px\">\n",
              "    <path d=\"M0 0h24v24H0V0z\" fill=\"none\"/>\n",
              "    <path d=\"M18.56 5.44l.94 2.06.94-2.06 2.06-.94-2.06-.94-.94-2.06-.94 2.06-2.06.94zm-11 1L8.5 8.5l.94-2.06 2.06-.94-2.06-.94L8.5 2.5l-.94 2.06-2.06.94zm10 10l.94 2.06.94-2.06 2.06-.94-2.06-.94-.94-2.06-.94 2.06-2.06.94z\"/><path d=\"M17.41 7.96l-1.37-1.37c-.4-.4-.92-.59-1.43-.59-.52 0-1.04.2-1.43.59L10.3 9.45l-7.72 7.72c-.78.78-.78 2.05 0 2.83L4 21.41c.39.39.9.59 1.41.59.51 0 1.02-.2 1.41-.59l7.78-7.78 2.81-2.81c.8-.78.8-2.07 0-2.86zM5.41 20L4 18.59l7.72-7.72 1.47 1.35L5.41 20z\"/>\n",
              "  </svg>\n",
              "      </button>\n",
              "      \n",
              "  <style>\n",
              "    .colab-df-container {\n",
              "      display:flex;\n",
              "      flex-wrap:wrap;\n",
              "      gap: 12px;\n",
              "    }\n",
              "\n",
              "    .colab-df-convert {\n",
              "      background-color: #E8F0FE;\n",
              "      border: none;\n",
              "      border-radius: 50%;\n",
              "      cursor: pointer;\n",
              "      display: none;\n",
              "      fill: #1967D2;\n",
              "      height: 32px;\n",
              "      padding: 0 0 0 0;\n",
              "      width: 32px;\n",
              "    }\n",
              "\n",
              "    .colab-df-convert:hover {\n",
              "      background-color: #E2EBFA;\n",
              "      box-shadow: 0px 1px 2px rgba(60, 64, 67, 0.3), 0px 1px 3px 1px rgba(60, 64, 67, 0.15);\n",
              "      fill: #174EA6;\n",
              "    }\n",
              "\n",
              "    [theme=dark] .colab-df-convert {\n",
              "      background-color: #3B4455;\n",
              "      fill: #D2E3FC;\n",
              "    }\n",
              "\n",
              "    [theme=dark] .colab-df-convert:hover {\n",
              "      background-color: #434B5C;\n",
              "      box-shadow: 0px 1px 3px 1px rgba(0, 0, 0, 0.15);\n",
              "      filter: drop-shadow(0px 1px 2px rgba(0, 0, 0, 0.3));\n",
              "      fill: #FFFFFF;\n",
              "    }\n",
              "  </style>\n",
              "\n",
              "      <script>\n",
              "        const buttonEl =\n",
              "          document.querySelector('#df-52fc840e-d3ae-470e-bce0-dbd7df9e4098 button.colab-df-convert');\n",
              "        buttonEl.style.display =\n",
              "          google.colab.kernel.accessAllowed ? 'block' : 'none';\n",
              "\n",
              "        async function convertToInteractive(key) {\n",
              "          const element = document.querySelector('#df-52fc840e-d3ae-470e-bce0-dbd7df9e4098');\n",
              "          const dataTable =\n",
              "            await google.colab.kernel.invokeFunction('convertToInteractive',\n",
              "                                                     [key], {});\n",
              "          if (!dataTable) return;\n",
              "\n",
              "          const docLinkHtml = 'Like what you see? Visit the ' +\n",
              "            '<a target=\"_blank\" href=https://colab.research.google.com/notebooks/data_table.ipynb>data table notebook</a>'\n",
              "            + ' to learn more about interactive tables.';\n",
              "          element.innerHTML = '';\n",
              "          dataTable['output_type'] = 'display_data';\n",
              "          await google.colab.output.renderOutput(dataTable, element);\n",
              "          const docLink = document.createElement('div');\n",
              "          docLink.innerHTML = docLinkHtml;\n",
              "          element.appendChild(docLink);\n",
              "        }\n",
              "      </script>\n",
              "    </div>\n",
              "  </div>\n",
              "  "
            ]
          },
          "metadata": {},
          "execution_count": 24
        }
      ]
    },
    {
      "cell_type": "markdown",
      "source": [
        "Nice! However, note that, as we increase the number of parameters, we increase the number of models we are fitting and, thus, we increase the time required to get our optimal parameters. Thus, as we increase the number of parameters, we have to be very careful with the time we spend performing this process."
      ],
      "metadata": {
        "id": "lpd9swNbwhbz"
      }
    },
    {
      "cell_type": "markdown",
      "source": [
        "# Using GridSearchCV\n",
        "\n",
        "Until now, we showed how to optimize our model for one, two, or three parameters. Using a similar idea, we can optimize our model for $n$ parameters. However, we can also simply use an already implemented method: GridSearchCV. Let's test it. First, let's define the space in which our parameters will be tested:"
      ],
      "metadata": {
        "id": "7dKF0l9dx_Q5"
      }
    },
    {
      "cell_type": "code",
      "source": [
        "parameter_space = {'max_depth' : [3, 5, 7],\n",
        "                   'min_samples_split' : [32, 64, 128],\n",
        "                   'min_samples_leaf' : [32, 64, 128],\n",
        "                   'criterion' : ['gini', 'entropy'],\n",
        "                   'splitter' : ['best', 'random']}"
      ],
      "metadata": {
        "id": "KPmlb2iUHr4m"
      },
      "execution_count": 25,
      "outputs": []
    },
    {
      "cell_type": "markdown",
      "source": [
        "Here, we will test 5 different parameters. On total, we have 108 possibilities. Thus, let's use our GridSearchCV:"
      ],
      "metadata": {
        "id": "g0mHHXTsIEMG"
      }
    },
    {
      "cell_type": "code",
      "source": [
        "SEED = 301\n",
        "np.random.seed(SEED)\n",
        "\n",
        "model = DecisionTreeClassifier( )\n",
        "cv = StratifiedKFold(n_splits = 10, shuffle = True)\n",
        "\n",
        "grid_search = GridSearchCV(model, parameter_space, cv = cv, return_train_score = True)\n",
        "grid_search.fit(X, y)\n",
        "results_df = pd.DataFrame(grid_search.cv_results_)"
      ],
      "metadata": {
        "id": "01BT3IpJ1kD1"
      },
      "execution_count": 26,
      "outputs": []
    },
    {
      "cell_type": "markdown",
      "source": [
        "Nice! Note that, here, we are performing a grid search over our entire parameter space. Now, to see the results, we may simply do:"
      ],
      "metadata": {
        "id": "n_7-CnWzI5VX"
      }
    },
    {
      "cell_type": "code",
      "source": [
        "results_df.head( )"
      ],
      "metadata": {
        "colab": {
          "base_uri": "https://localhost:8080/",
          "height": 646
        },
        "id": "MbM7dfECI0ti",
        "outputId": "578b62c2-e7ce-4b5c-8517-4e26e8b81125"
      },
      "execution_count": 27,
      "outputs": [
        {
          "output_type": "execute_result",
          "data": {
            "text/plain": [
              "   mean_fit_time  std_fit_time  mean_score_time  std_score_time  \\\n",
              "0       0.012558      0.001659         0.002608        0.000218   \n",
              "1       0.004447      0.000254         0.002128        0.000403   \n",
              "2       0.012076      0.000427         0.002525        0.000067   \n",
              "3       0.005621      0.001469         0.002291        0.000395   \n",
              "4       0.012192      0.000604         0.002584        0.000294   \n",
              "\n",
              "  param_criterion param_max_depth param_min_samples_leaf  \\\n",
              "0            gini               3                     32   \n",
              "1            gini               3                     32   \n",
              "2            gini               3                     32   \n",
              "3            gini               3                     32   \n",
              "4            gini               3                     32   \n",
              "\n",
              "  param_min_samples_split param_splitter  \\\n",
              "0                      32           best   \n",
              "1                      32         random   \n",
              "2                      64           best   \n",
              "3                      64         random   \n",
              "4                     128           best   \n",
              "\n",
              "                                              params  ...  split2_train_score  \\\n",
              "0  {'criterion': 'gini', 'max_depth': 3, 'min_sam...  ...            0.786111   \n",
              "1  {'criterion': 'gini', 'max_depth': 3, 'min_sam...  ...            0.611556   \n",
              "2  {'criterion': 'gini', 'max_depth': 3, 'min_sam...  ...            0.786111   \n",
              "3  {'criterion': 'gini', 'max_depth': 3, 'min_sam...  ...            0.748778   \n",
              "4  {'criterion': 'gini', 'max_depth': 3, 'min_sam...  ...            0.786111   \n",
              "\n",
              "   split3_train_score  split4_train_score  split5_train_score  \\\n",
              "0            0.787778            0.785444            0.787778   \n",
              "1            0.722889            0.696111            0.655000   \n",
              "2            0.787778            0.785444            0.787778   \n",
              "3            0.686667            0.580000            0.637444   \n",
              "4            0.787778            0.785444            0.787778   \n",
              "\n",
              "   split6_train_score  split7_train_score  split8_train_score  \\\n",
              "0            0.787778            0.789000            0.785778   \n",
              "1            0.649111            0.624444            0.700222   \n",
              "2            0.787778            0.789000            0.785778   \n",
              "3            0.742667            0.733889            0.665333   \n",
              "4            0.787778            0.789000            0.785778   \n",
              "\n",
              "   split9_train_score  mean_train_score  std_train_score  \n",
              "0            0.788556          0.787511         0.001366  \n",
              "1            0.679222          0.680289         0.042771  \n",
              "2            0.788556          0.787511         0.001366  \n",
              "3            0.711667          0.687689         0.052368  \n",
              "4            0.788556          0.787511         0.001366  \n",
              "\n",
              "[5 rows x 35 columns]"
            ],
            "text/html": [
              "\n",
              "  <div id=\"df-e870bf5a-f7bb-4401-bdad-179ff4536b5a\">\n",
              "    <div class=\"colab-df-container\">\n",
              "      <div>\n",
              "<style scoped>\n",
              "    .dataframe tbody tr th:only-of-type {\n",
              "        vertical-align: middle;\n",
              "    }\n",
              "\n",
              "    .dataframe tbody tr th {\n",
              "        vertical-align: top;\n",
              "    }\n",
              "\n",
              "    .dataframe thead th {\n",
              "        text-align: right;\n",
              "    }\n",
              "</style>\n",
              "<table border=\"1\" class=\"dataframe\">\n",
              "  <thead>\n",
              "    <tr style=\"text-align: right;\">\n",
              "      <th></th>\n",
              "      <th>mean_fit_time</th>\n",
              "      <th>std_fit_time</th>\n",
              "      <th>mean_score_time</th>\n",
              "      <th>std_score_time</th>\n",
              "      <th>param_criterion</th>\n",
              "      <th>param_max_depth</th>\n",
              "      <th>param_min_samples_leaf</th>\n",
              "      <th>param_min_samples_split</th>\n",
              "      <th>param_splitter</th>\n",
              "      <th>params</th>\n",
              "      <th>...</th>\n",
              "      <th>split2_train_score</th>\n",
              "      <th>split3_train_score</th>\n",
              "      <th>split4_train_score</th>\n",
              "      <th>split5_train_score</th>\n",
              "      <th>split6_train_score</th>\n",
              "      <th>split7_train_score</th>\n",
              "      <th>split8_train_score</th>\n",
              "      <th>split9_train_score</th>\n",
              "      <th>mean_train_score</th>\n",
              "      <th>std_train_score</th>\n",
              "    </tr>\n",
              "  </thead>\n",
              "  <tbody>\n",
              "    <tr>\n",
              "      <th>0</th>\n",
              "      <td>0.012558</td>\n",
              "      <td>0.001659</td>\n",
              "      <td>0.002608</td>\n",
              "      <td>0.000218</td>\n",
              "      <td>gini</td>\n",
              "      <td>3</td>\n",
              "      <td>32</td>\n",
              "      <td>32</td>\n",
              "      <td>best</td>\n",
              "      <td>{'criterion': 'gini', 'max_depth': 3, 'min_sam...</td>\n",
              "      <td>...</td>\n",
              "      <td>0.786111</td>\n",
              "      <td>0.787778</td>\n",
              "      <td>0.785444</td>\n",
              "      <td>0.787778</td>\n",
              "      <td>0.787778</td>\n",
              "      <td>0.789000</td>\n",
              "      <td>0.785778</td>\n",
              "      <td>0.788556</td>\n",
              "      <td>0.787511</td>\n",
              "      <td>0.001366</td>\n",
              "    </tr>\n",
              "    <tr>\n",
              "      <th>1</th>\n",
              "      <td>0.004447</td>\n",
              "      <td>0.000254</td>\n",
              "      <td>0.002128</td>\n",
              "      <td>0.000403</td>\n",
              "      <td>gini</td>\n",
              "      <td>3</td>\n",
              "      <td>32</td>\n",
              "      <td>32</td>\n",
              "      <td>random</td>\n",
              "      <td>{'criterion': 'gini', 'max_depth': 3, 'min_sam...</td>\n",
              "      <td>...</td>\n",
              "      <td>0.611556</td>\n",
              "      <td>0.722889</td>\n",
              "      <td>0.696111</td>\n",
              "      <td>0.655000</td>\n",
              "      <td>0.649111</td>\n",
              "      <td>0.624444</td>\n",
              "      <td>0.700222</td>\n",
              "      <td>0.679222</td>\n",
              "      <td>0.680289</td>\n",
              "      <td>0.042771</td>\n",
              "    </tr>\n",
              "    <tr>\n",
              "      <th>2</th>\n",
              "      <td>0.012076</td>\n",
              "      <td>0.000427</td>\n",
              "      <td>0.002525</td>\n",
              "      <td>0.000067</td>\n",
              "      <td>gini</td>\n",
              "      <td>3</td>\n",
              "      <td>32</td>\n",
              "      <td>64</td>\n",
              "      <td>best</td>\n",
              "      <td>{'criterion': 'gini', 'max_depth': 3, 'min_sam...</td>\n",
              "      <td>...</td>\n",
              "      <td>0.786111</td>\n",
              "      <td>0.787778</td>\n",
              "      <td>0.785444</td>\n",
              "      <td>0.787778</td>\n",
              "      <td>0.787778</td>\n",
              "      <td>0.789000</td>\n",
              "      <td>0.785778</td>\n",
              "      <td>0.788556</td>\n",
              "      <td>0.787511</td>\n",
              "      <td>0.001366</td>\n",
              "    </tr>\n",
              "    <tr>\n",
              "      <th>3</th>\n",
              "      <td>0.005621</td>\n",
              "      <td>0.001469</td>\n",
              "      <td>0.002291</td>\n",
              "      <td>0.000395</td>\n",
              "      <td>gini</td>\n",
              "      <td>3</td>\n",
              "      <td>32</td>\n",
              "      <td>64</td>\n",
              "      <td>random</td>\n",
              "      <td>{'criterion': 'gini', 'max_depth': 3, 'min_sam...</td>\n",
              "      <td>...</td>\n",
              "      <td>0.748778</td>\n",
              "      <td>0.686667</td>\n",
              "      <td>0.580000</td>\n",
              "      <td>0.637444</td>\n",
              "      <td>0.742667</td>\n",
              "      <td>0.733889</td>\n",
              "      <td>0.665333</td>\n",
              "      <td>0.711667</td>\n",
              "      <td>0.687689</td>\n",
              "      <td>0.052368</td>\n",
              "    </tr>\n",
              "    <tr>\n",
              "      <th>4</th>\n",
              "      <td>0.012192</td>\n",
              "      <td>0.000604</td>\n",
              "      <td>0.002584</td>\n",
              "      <td>0.000294</td>\n",
              "      <td>gini</td>\n",
              "      <td>3</td>\n",
              "      <td>32</td>\n",
              "      <td>128</td>\n",
              "      <td>best</td>\n",
              "      <td>{'criterion': 'gini', 'max_depth': 3, 'min_sam...</td>\n",
              "      <td>...</td>\n",
              "      <td>0.786111</td>\n",
              "      <td>0.787778</td>\n",
              "      <td>0.785444</td>\n",
              "      <td>0.787778</td>\n",
              "      <td>0.787778</td>\n",
              "      <td>0.789000</td>\n",
              "      <td>0.785778</td>\n",
              "      <td>0.788556</td>\n",
              "      <td>0.787511</td>\n",
              "      <td>0.001366</td>\n",
              "    </tr>\n",
              "  </tbody>\n",
              "</table>\n",
              "<p>5 rows × 35 columns</p>\n",
              "</div>\n",
              "      <button class=\"colab-df-convert\" onclick=\"convertToInteractive('df-e870bf5a-f7bb-4401-bdad-179ff4536b5a')\"\n",
              "              title=\"Convert this dataframe to an interactive table.\"\n",
              "              style=\"display:none;\">\n",
              "        \n",
              "  <svg xmlns=\"http://www.w3.org/2000/svg\" height=\"24px\"viewBox=\"0 0 24 24\"\n",
              "       width=\"24px\">\n",
              "    <path d=\"M0 0h24v24H0V0z\" fill=\"none\"/>\n",
              "    <path d=\"M18.56 5.44l.94 2.06.94-2.06 2.06-.94-2.06-.94-.94-2.06-.94 2.06-2.06.94zm-11 1L8.5 8.5l.94-2.06 2.06-.94-2.06-.94L8.5 2.5l-.94 2.06-2.06.94zm10 10l.94 2.06.94-2.06 2.06-.94-2.06-.94-.94-2.06-.94 2.06-2.06.94z\"/><path d=\"M17.41 7.96l-1.37-1.37c-.4-.4-.92-.59-1.43-.59-.52 0-1.04.2-1.43.59L10.3 9.45l-7.72 7.72c-.78.78-.78 2.05 0 2.83L4 21.41c.39.39.9.59 1.41.59.51 0 1.02-.2 1.41-.59l7.78-7.78 2.81-2.81c.8-.78.8-2.07 0-2.86zM5.41 20L4 18.59l7.72-7.72 1.47 1.35L5.41 20z\"/>\n",
              "  </svg>\n",
              "      </button>\n",
              "      \n",
              "  <style>\n",
              "    .colab-df-container {\n",
              "      display:flex;\n",
              "      flex-wrap:wrap;\n",
              "      gap: 12px;\n",
              "    }\n",
              "\n",
              "    .colab-df-convert {\n",
              "      background-color: #E8F0FE;\n",
              "      border: none;\n",
              "      border-radius: 50%;\n",
              "      cursor: pointer;\n",
              "      display: none;\n",
              "      fill: #1967D2;\n",
              "      height: 32px;\n",
              "      padding: 0 0 0 0;\n",
              "      width: 32px;\n",
              "    }\n",
              "\n",
              "    .colab-df-convert:hover {\n",
              "      background-color: #E2EBFA;\n",
              "      box-shadow: 0px 1px 2px rgba(60, 64, 67, 0.3), 0px 1px 3px 1px rgba(60, 64, 67, 0.15);\n",
              "      fill: #174EA6;\n",
              "    }\n",
              "\n",
              "    [theme=dark] .colab-df-convert {\n",
              "      background-color: #3B4455;\n",
              "      fill: #D2E3FC;\n",
              "    }\n",
              "\n",
              "    [theme=dark] .colab-df-convert:hover {\n",
              "      background-color: #434B5C;\n",
              "      box-shadow: 0px 1px 3px 1px rgba(0, 0, 0, 0.15);\n",
              "      filter: drop-shadow(0px 1px 2px rgba(0, 0, 0, 0.3));\n",
              "      fill: #FFFFFF;\n",
              "    }\n",
              "  </style>\n",
              "\n",
              "      <script>\n",
              "        const buttonEl =\n",
              "          document.querySelector('#df-e870bf5a-f7bb-4401-bdad-179ff4536b5a button.colab-df-convert');\n",
              "        buttonEl.style.display =\n",
              "          google.colab.kernel.accessAllowed ? 'block' : 'none';\n",
              "\n",
              "        async function convertToInteractive(key) {\n",
              "          const element = document.querySelector('#df-e870bf5a-f7bb-4401-bdad-179ff4536b5a');\n",
              "          const dataTable =\n",
              "            await google.colab.kernel.invokeFunction('convertToInteractive',\n",
              "                                                     [key], {});\n",
              "          if (!dataTable) return;\n",
              "\n",
              "          const docLinkHtml = 'Like what you see? Visit the ' +\n",
              "            '<a target=\"_blank\" href=https://colab.research.google.com/notebooks/data_table.ipynb>data table notebook</a>'\n",
              "            + ' to learn more about interactive tables.';\n",
              "          element.innerHTML = '';\n",
              "          dataTable['output_type'] = 'display_data';\n",
              "          await google.colab.output.renderOutput(dataTable, element);\n",
              "          const docLink = document.createElement('div');\n",
              "          docLink.innerHTML = docLinkHtml;\n",
              "          element.appendChild(docLink);\n",
              "        }\n",
              "      </script>\n",
              "    </div>\n",
              "  </div>\n",
              "  "
            ]
          },
          "metadata": {},
          "execution_count": 27
        }
      ]
    },
    {
      "cell_type": "markdown",
      "source": [
        "Note that, here, we have a lot of information. To better understand the columns of this dataframe, we can do:"
      ],
      "metadata": {
        "id": "-rH4x902Jc7u"
      }
    },
    {
      "cell_type": "code",
      "source": [
        "results_df.info( )"
      ],
      "metadata": {
        "colab": {
          "base_uri": "https://localhost:8080/"
        },
        "id": "TvfMyc6BJbJl",
        "outputId": "144a8493-011e-4fb8-e857-83b93e9e0980"
      },
      "execution_count": 28,
      "outputs": [
        {
          "output_type": "stream",
          "name": "stdout",
          "text": [
            "<class 'pandas.core.frame.DataFrame'>\n",
            "RangeIndex: 108 entries, 0 to 107\n",
            "Data columns (total 35 columns):\n",
            " #   Column                   Non-Null Count  Dtype  \n",
            "---  ------                   --------------  -----  \n",
            " 0   mean_fit_time            108 non-null    float64\n",
            " 1   std_fit_time             108 non-null    float64\n",
            " 2   mean_score_time          108 non-null    float64\n",
            " 3   std_score_time           108 non-null    float64\n",
            " 4   param_criterion          108 non-null    object \n",
            " 5   param_max_depth          108 non-null    object \n",
            " 6   param_min_samples_leaf   108 non-null    object \n",
            " 7   param_min_samples_split  108 non-null    object \n",
            " 8   param_splitter           108 non-null    object \n",
            " 9   params                   108 non-null    object \n",
            " 10  split0_test_score        108 non-null    float64\n",
            " 11  split1_test_score        108 non-null    float64\n",
            " 12  split2_test_score        108 non-null    float64\n",
            " 13  split3_test_score        108 non-null    float64\n",
            " 14  split4_test_score        108 non-null    float64\n",
            " 15  split5_test_score        108 non-null    float64\n",
            " 16  split6_test_score        108 non-null    float64\n",
            " 17  split7_test_score        108 non-null    float64\n",
            " 18  split8_test_score        108 non-null    float64\n",
            " 19  split9_test_score        108 non-null    float64\n",
            " 20  mean_test_score          108 non-null    float64\n",
            " 21  std_test_score           108 non-null    float64\n",
            " 22  rank_test_score          108 non-null    int32  \n",
            " 23  split0_train_score       108 non-null    float64\n",
            " 24  split1_train_score       108 non-null    float64\n",
            " 25  split2_train_score       108 non-null    float64\n",
            " 26  split3_train_score       108 non-null    float64\n",
            " 27  split4_train_score       108 non-null    float64\n",
            " 28  split5_train_score       108 non-null    float64\n",
            " 29  split6_train_score       108 non-null    float64\n",
            " 30  split7_train_score       108 non-null    float64\n",
            " 31  split8_train_score       108 non-null    float64\n",
            " 32  split9_train_score       108 non-null    float64\n",
            " 33  mean_train_score         108 non-null    float64\n",
            " 34  std_train_score          108 non-null    float64\n",
            "dtypes: float64(28), int32(1), object(6)\n",
            "memory usage: 29.2+ KB\n"
          ]
        }
      ]
    },
    {
      "cell_type": "markdown",
      "source": [
        "So, let's print only the most important columns:"
      ],
      "metadata": {
        "id": "7PqSVvtSJnwW"
      }
    },
    {
      "cell_type": "code",
      "source": [
        "results_df_summary = results_df[['params', 'mean_train_score', 'mean_test_score', 'mean_fit_time']].copy( )\n",
        "\n",
        "results_df_summary.sort_values('mean_test_score', ascending = False)"
      ],
      "metadata": {
        "colab": {
          "base_uri": "https://localhost:8080/",
          "height": 424
        },
        "id": "LrlvXCzSJk_u",
        "outputId": "269c0530-d120-4ec3-cede-73a73130718d"
      },
      "execution_count": 29,
      "outputs": [
        {
          "output_type": "execute_result",
          "data": {
            "text/plain": [
              "                                               params  mean_train_score  \\\n",
              "0   {'criterion': 'gini', 'max_depth': 3, 'min_sam...          0.787511   \n",
              "12  {'criterion': 'gini', 'max_depth': 3, 'min_sam...          0.787511   \n",
              "70  {'criterion': 'entropy', 'max_depth': 3, 'min_...          0.787511   \n",
              "68  {'criterion': 'entropy', 'max_depth': 3, 'min_...          0.787511   \n",
              "66  {'criterion': 'entropy', 'max_depth': 3, 'min_...          0.787511   \n",
              "..                                                ...               ...   \n",
              "3   {'criterion': 'gini', 'max_depth': 3, 'min_sam...          0.687689   \n",
              "1   {'criterion': 'gini', 'max_depth': 3, 'min_sam...          0.680289   \n",
              "5   {'criterion': 'gini', 'max_depth': 3, 'min_sam...          0.681889   \n",
              "71  {'criterion': 'entropy', 'max_depth': 3, 'min_...          0.679722   \n",
              "9   {'criterion': 'gini', 'max_depth': 3, 'min_sam...          0.663400   \n",
              "\n",
              "    mean_test_score  mean_fit_time  \n",
              "0          0.786900       0.012558  \n",
              "12         0.786900       0.012536  \n",
              "70         0.786900       0.016280  \n",
              "68         0.786900       0.016774  \n",
              "66         0.786900       0.017167  \n",
              "..              ...            ...  \n",
              "3          0.682800       0.005621  \n",
              "1          0.679200       0.004447  \n",
              "5          0.678300       0.004996  \n",
              "71         0.676100       0.004326  \n",
              "9          0.659400       0.005059  \n",
              "\n",
              "[108 rows x 4 columns]"
            ],
            "text/html": [
              "\n",
              "  <div id=\"df-254f7938-a36d-4982-8635-92e9135e2a1a\">\n",
              "    <div class=\"colab-df-container\">\n",
              "      <div>\n",
              "<style scoped>\n",
              "    .dataframe tbody tr th:only-of-type {\n",
              "        vertical-align: middle;\n",
              "    }\n",
              "\n",
              "    .dataframe tbody tr th {\n",
              "        vertical-align: top;\n",
              "    }\n",
              "\n",
              "    .dataframe thead th {\n",
              "        text-align: right;\n",
              "    }\n",
              "</style>\n",
              "<table border=\"1\" class=\"dataframe\">\n",
              "  <thead>\n",
              "    <tr style=\"text-align: right;\">\n",
              "      <th></th>\n",
              "      <th>params</th>\n",
              "      <th>mean_train_score</th>\n",
              "      <th>mean_test_score</th>\n",
              "      <th>mean_fit_time</th>\n",
              "    </tr>\n",
              "  </thead>\n",
              "  <tbody>\n",
              "    <tr>\n",
              "      <th>0</th>\n",
              "      <td>{'criterion': 'gini', 'max_depth': 3, 'min_sam...</td>\n",
              "      <td>0.787511</td>\n",
              "      <td>0.786900</td>\n",
              "      <td>0.012558</td>\n",
              "    </tr>\n",
              "    <tr>\n",
              "      <th>12</th>\n",
              "      <td>{'criterion': 'gini', 'max_depth': 3, 'min_sam...</td>\n",
              "      <td>0.787511</td>\n",
              "      <td>0.786900</td>\n",
              "      <td>0.012536</td>\n",
              "    </tr>\n",
              "    <tr>\n",
              "      <th>70</th>\n",
              "      <td>{'criterion': 'entropy', 'max_depth': 3, 'min_...</td>\n",
              "      <td>0.787511</td>\n",
              "      <td>0.786900</td>\n",
              "      <td>0.016280</td>\n",
              "    </tr>\n",
              "    <tr>\n",
              "      <th>68</th>\n",
              "      <td>{'criterion': 'entropy', 'max_depth': 3, 'min_...</td>\n",
              "      <td>0.787511</td>\n",
              "      <td>0.786900</td>\n",
              "      <td>0.016774</td>\n",
              "    </tr>\n",
              "    <tr>\n",
              "      <th>66</th>\n",
              "      <td>{'criterion': 'entropy', 'max_depth': 3, 'min_...</td>\n",
              "      <td>0.787511</td>\n",
              "      <td>0.786900</td>\n",
              "      <td>0.017167</td>\n",
              "    </tr>\n",
              "    <tr>\n",
              "      <th>...</th>\n",
              "      <td>...</td>\n",
              "      <td>...</td>\n",
              "      <td>...</td>\n",
              "      <td>...</td>\n",
              "    </tr>\n",
              "    <tr>\n",
              "      <th>3</th>\n",
              "      <td>{'criterion': 'gini', 'max_depth': 3, 'min_sam...</td>\n",
              "      <td>0.687689</td>\n",
              "      <td>0.682800</td>\n",
              "      <td>0.005621</td>\n",
              "    </tr>\n",
              "    <tr>\n",
              "      <th>1</th>\n",
              "      <td>{'criterion': 'gini', 'max_depth': 3, 'min_sam...</td>\n",
              "      <td>0.680289</td>\n",
              "      <td>0.679200</td>\n",
              "      <td>0.004447</td>\n",
              "    </tr>\n",
              "    <tr>\n",
              "      <th>5</th>\n",
              "      <td>{'criterion': 'gini', 'max_depth': 3, 'min_sam...</td>\n",
              "      <td>0.681889</td>\n",
              "      <td>0.678300</td>\n",
              "      <td>0.004996</td>\n",
              "    </tr>\n",
              "    <tr>\n",
              "      <th>71</th>\n",
              "      <td>{'criterion': 'entropy', 'max_depth': 3, 'min_...</td>\n",
              "      <td>0.679722</td>\n",
              "      <td>0.676100</td>\n",
              "      <td>0.004326</td>\n",
              "    </tr>\n",
              "    <tr>\n",
              "      <th>9</th>\n",
              "      <td>{'criterion': 'gini', 'max_depth': 3, 'min_sam...</td>\n",
              "      <td>0.663400</td>\n",
              "      <td>0.659400</td>\n",
              "      <td>0.005059</td>\n",
              "    </tr>\n",
              "  </tbody>\n",
              "</table>\n",
              "<p>108 rows × 4 columns</p>\n",
              "</div>\n",
              "      <button class=\"colab-df-convert\" onclick=\"convertToInteractive('df-254f7938-a36d-4982-8635-92e9135e2a1a')\"\n",
              "              title=\"Convert this dataframe to an interactive table.\"\n",
              "              style=\"display:none;\">\n",
              "        \n",
              "  <svg xmlns=\"http://www.w3.org/2000/svg\" height=\"24px\"viewBox=\"0 0 24 24\"\n",
              "       width=\"24px\">\n",
              "    <path d=\"M0 0h24v24H0V0z\" fill=\"none\"/>\n",
              "    <path d=\"M18.56 5.44l.94 2.06.94-2.06 2.06-.94-2.06-.94-.94-2.06-.94 2.06-2.06.94zm-11 1L8.5 8.5l.94-2.06 2.06-.94-2.06-.94L8.5 2.5l-.94 2.06-2.06.94zm10 10l.94 2.06.94-2.06 2.06-.94-2.06-.94-.94-2.06-.94 2.06-2.06.94z\"/><path d=\"M17.41 7.96l-1.37-1.37c-.4-.4-.92-.59-1.43-.59-.52 0-1.04.2-1.43.59L10.3 9.45l-7.72 7.72c-.78.78-.78 2.05 0 2.83L4 21.41c.39.39.9.59 1.41.59.51 0 1.02-.2 1.41-.59l7.78-7.78 2.81-2.81c.8-.78.8-2.07 0-2.86zM5.41 20L4 18.59l7.72-7.72 1.47 1.35L5.41 20z\"/>\n",
              "  </svg>\n",
              "      </button>\n",
              "      \n",
              "  <style>\n",
              "    .colab-df-container {\n",
              "      display:flex;\n",
              "      flex-wrap:wrap;\n",
              "      gap: 12px;\n",
              "    }\n",
              "\n",
              "    .colab-df-convert {\n",
              "      background-color: #E8F0FE;\n",
              "      border: none;\n",
              "      border-radius: 50%;\n",
              "      cursor: pointer;\n",
              "      display: none;\n",
              "      fill: #1967D2;\n",
              "      height: 32px;\n",
              "      padding: 0 0 0 0;\n",
              "      width: 32px;\n",
              "    }\n",
              "\n",
              "    .colab-df-convert:hover {\n",
              "      background-color: #E2EBFA;\n",
              "      box-shadow: 0px 1px 2px rgba(60, 64, 67, 0.3), 0px 1px 3px 1px rgba(60, 64, 67, 0.15);\n",
              "      fill: #174EA6;\n",
              "    }\n",
              "\n",
              "    [theme=dark] .colab-df-convert {\n",
              "      background-color: #3B4455;\n",
              "      fill: #D2E3FC;\n",
              "    }\n",
              "\n",
              "    [theme=dark] .colab-df-convert:hover {\n",
              "      background-color: #434B5C;\n",
              "      box-shadow: 0px 1px 3px 1px rgba(0, 0, 0, 0.15);\n",
              "      filter: drop-shadow(0px 1px 2px rgba(0, 0, 0, 0.3));\n",
              "      fill: #FFFFFF;\n",
              "    }\n",
              "  </style>\n",
              "\n",
              "      <script>\n",
              "        const buttonEl =\n",
              "          document.querySelector('#df-254f7938-a36d-4982-8635-92e9135e2a1a button.colab-df-convert');\n",
              "        buttonEl.style.display =\n",
              "          google.colab.kernel.accessAllowed ? 'block' : 'none';\n",
              "\n",
              "        async function convertToInteractive(key) {\n",
              "          const element = document.querySelector('#df-254f7938-a36d-4982-8635-92e9135e2a1a');\n",
              "          const dataTable =\n",
              "            await google.colab.kernel.invokeFunction('convertToInteractive',\n",
              "                                                     [key], {});\n",
              "          if (!dataTable) return;\n",
              "\n",
              "          const docLinkHtml = 'Like what you see? Visit the ' +\n",
              "            '<a target=\"_blank\" href=https://colab.research.google.com/notebooks/data_table.ipynb>data table notebook</a>'\n",
              "            + ' to learn more about interactive tables.';\n",
              "          element.innerHTML = '';\n",
              "          dataTable['output_type'] = 'display_data';\n",
              "          await google.colab.output.renderOutput(dataTable, element);\n",
              "          const docLink = document.createElement('div');\n",
              "          docLink.innerHTML = docLinkHtml;\n",
              "          element.appendChild(docLink);\n",
              "        }\n",
              "      </script>\n",
              "    </div>\n",
              "  </div>\n",
              "  "
            ]
          },
          "metadata": {},
          "execution_count": 29
        }
      ]
    },
    {
      "cell_type": "markdown",
      "source": [
        "Nice! So, our best performing model showed an average test score of 78.69%. Also, this is very close to the average train score, which means that the model is, likely, not overfitted to the training data."
      ],
      "metadata": {
        "id": "BHXy47ilJ9Y3"
      }
    },
    {
      "cell_type": "markdown",
      "source": [
        "If we simply want to get the best parameters, we may do:"
      ],
      "metadata": {
        "id": "QBooV7SrKgC2"
      }
    },
    {
      "cell_type": "code",
      "source": [
        "grid_search.best_params_"
      ],
      "metadata": {
        "colab": {
          "base_uri": "https://localhost:8080/"
        },
        "id": "BxftXShkJ5IP",
        "outputId": "da0ad5ba-eb93-434b-da97-e3642e9d67b0"
      },
      "execution_count": 30,
      "outputs": [
        {
          "output_type": "execute_result",
          "data": {
            "text/plain": [
              "{'criterion': 'gini',\n",
              " 'max_depth': 3,\n",
              " 'min_samples_leaf': 32,\n",
              " 'min_samples_split': 32,\n",
              " 'splitter': 'best'}"
            ]
          },
          "metadata": {},
          "execution_count": 30
        }
      ]
    },
    {
      "cell_type": "markdown",
      "source": [
        "Also, we may get the best trained model from:"
      ],
      "metadata": {
        "id": "q7VhzWDgKsGN"
      }
    },
    {
      "cell_type": "code",
      "source": [
        "best_model = grid_search.best_estimator_"
      ],
      "metadata": {
        "id": "GZQY00RIKlYM"
      },
      "execution_count": 31,
      "outputs": []
    },
    {
      "cell_type": "code",
      "source": [
        "best_model"
      ],
      "metadata": {
        "colab": {
          "base_uri": "https://localhost:8080/"
        },
        "id": "Hm3m1uxBKxgS",
        "outputId": "b88ffc52-9465-4b69-91bd-ec0c38c062ac"
      },
      "execution_count": 32,
      "outputs": [
        {
          "output_type": "execute_result",
          "data": {
            "text/plain": [
              "DecisionTreeClassifier(max_depth=3, min_samples_leaf=32, min_samples_split=32)"
            ]
          },
          "metadata": {},
          "execution_count": 32
        }
      ]
    },
    {
      "cell_type": "markdown",
      "source": [
        "Nice! So, let's test this model in the entire dataset:"
      ],
      "metadata": {
        "id": "9P2FMyHDK5HG"
      }
    },
    {
      "cell_type": "code",
      "source": [
        "y_pred = best_model.predict(X)\n",
        "\n",
        "acc = accuracy_score(y, y_pred)*100\n",
        "\n",
        "print(\"Accuracy: {:.2f}%\".format(acc))"
      ],
      "metadata": {
        "colab": {
          "base_uri": "https://localhost:8080/"
        },
        "id": "UQnYjFHuKyPJ",
        "outputId": "20975c67-f726-4d32-83ad-86759487d502"
      },
      "execution_count": 33,
      "outputs": [
        {
          "output_type": "stream",
          "name": "stdout",
          "text": [
            "Accuracy: 78.75%\n"
          ]
        }
      ]
    },
    {
      "cell_type": "markdown",
      "source": [
        "Nice! Our accuracy was very close to the accuracy found in the cross-validation."
      ],
      "metadata": {
        "id": "fdtnt96DLPyB"
      }
    },
    {
      "cell_type": "markdown",
      "source": [
        "# Nested cross-validation\n",
        "\n",
        "Note that, however, when we get the accuracy of the best model using a predict method, we are being very optimistic about the accuracy of our model. That happens because we have already fitted and picked our best model for $X$, and using $X$ again to check its accuracy will certainly return a high value. \n",
        "\n",
        "Nested CV effectively uses a series of train/validation/test splits to run away from this issue. Here:\n",
        "\n",
        "* One set is used to train the model.\n",
        "* One set is used to evaluate the accuracy and pick the hyper-parameters.\n",
        "* One set is used to estimate the accuracy (and, therefore, the generalization error).\n",
        "\n",
        "Thus, after we perform a GridSearchCV, what we should do is perform a new cross-validation. We can do that using:"
      ],
      "metadata": {
        "id": "glyGrSHJ6lxy"
      }
    },
    {
      "cell_type": "code",
      "source": [
        "scores = cross_val_score(grid_search, X, y, cv = cv)"
      ],
      "metadata": {
        "id": "fYnxQSeD6lhF"
      },
      "execution_count": 48,
      "outputs": []
    },
    {
      "cell_type": "markdown",
      "source": [
        "Finally, we can evaluate the average accuracy (and the confidence interval) by:"
      ],
      "metadata": {
        "id": "D_SNCdGZ9Yx1"
      }
    },
    {
      "cell_type": "code",
      "source": [
        "acc_avg = scores.mean( )*100\n",
        "acc_std = scores.std( )*100\n",
        "\n",
        "print(\"Accuracy: {:.2f}% - Confidence interval [{:.2f}%, {:.2f}%]\".format(acc_avg, acc_avg - 2*acc_std, acc_avg + 2*acc_std))"
      ],
      "metadata": {
        "colab": {
          "base_uri": "https://localhost:8080/"
        },
        "id": "xwUPh0fI9R00",
        "outputId": "e633cc7f-803f-4fdb-f626-c3b2ebc9cf43"
      },
      "execution_count": 49,
      "outputs": [
        {
          "output_type": "stream",
          "name": "stdout",
          "text": [
            "Accuracy: 78.68% - Confidence interval [76.77%, 80.59%]\n"
          ]
        }
      ]
    },
    {
      "cell_type": "markdown",
      "source": [
        "Nice! Note that the accuracy we evaluated previously was very close to the accuracy from nested cross-validation. \n",
        "\n",
        "To end things up, let's plot our best decision tree:"
      ],
      "metadata": {
        "id": "TL1NCTmZ95uA"
      }
    },
    {
      "cell_type": "code",
      "source": [
        "dot_data = export_graphviz(best_model, out_file = None,\n",
        "                           filled = True, rounded = True, class_names = [\"N\", \"Y\"],\n",
        "                           feature_names = X.columns)\n",
        "\n",
        "graphviz.Source(dot_data)"
      ],
      "metadata": {
        "colab": {
          "base_uri": "https://localhost:8080/",
          "height": 619
        },
        "id": "2NFAm-r-9mGD",
        "outputId": "a17f3cef-84fe-4f39-c6b8-a2abd5d63bc4"
      },
      "execution_count": 50,
      "outputs": [
        {
          "output_type": "execute_result",
          "data": {
            "text/plain": [
              "<graphviz.files.Source at 0x7f0c1278b390>"
            ],
            "image/svg+xml": "<?xml version=\"1.0\" encoding=\"UTF-8\" standalone=\"no\"?>\n<!DOCTYPE svg PUBLIC \"-//W3C//DTD SVG 1.1//EN\"\n \"http://www.w3.org/Graphics/SVG/1.1/DTD/svg11.dtd\">\n<!-- Generated by graphviz version 2.40.1 (20161225.0304)\n -->\n<!-- Title: Tree Pages: 1 -->\n<svg width=\"910pt\" height=\"433pt\"\n viewBox=\"0.00 0.00 910.00 433.00\" xmlns=\"http://www.w3.org/2000/svg\" xmlns:xlink=\"http://www.w3.org/1999/xlink\">\n<g id=\"graph0\" class=\"graph\" transform=\"scale(1 1) rotate(0) translate(4 429)\">\n<title>Tree</title>\n<polygon fill=\"#ffffff\" stroke=\"transparent\" points=\"-4,4 -4,-429 906,-429 906,4 -4,4\"/>\n<!-- 0 -->\n<g id=\"node1\" class=\"node\">\n<title>0</title>\n<path fill=\"#c8e4f8\" stroke=\"#000000\" d=\"M370.5,-425C370.5,-425 245.5,-425 245.5,-425 239.5,-425 233.5,-419 233.5,-413 233.5,-413 233.5,-354 233.5,-354 233.5,-348 239.5,-342 245.5,-342 245.5,-342 370.5,-342 370.5,-342 376.5,-342 382.5,-348 382.5,-354 382.5,-354 382.5,-413 382.5,-413 382.5,-419 376.5,-425 370.5,-425\"/>\n<text text-anchor=\"middle\" x=\"308\" y=\"-409.8\" font-family=\"Helvetica,sans-Serif\" font-size=\"14.00\" fill=\"#000000\">Price &lt;= 59982.246</text>\n<text text-anchor=\"middle\" x=\"308\" y=\"-394.8\" font-family=\"Helvetica,sans-Serif\" font-size=\"14.00\" fill=\"#000000\">gini = 0.487</text>\n<text text-anchor=\"middle\" x=\"308\" y=\"-379.8\" font-family=\"Helvetica,sans-Serif\" font-size=\"14.00\" fill=\"#000000\">samples = 10000</text>\n<text text-anchor=\"middle\" x=\"308\" y=\"-364.8\" font-family=\"Helvetica,sans-Serif\" font-size=\"14.00\" fill=\"#000000\">value = [4200, 5800]</text>\n<text text-anchor=\"middle\" x=\"308\" y=\"-349.8\" font-family=\"Helvetica,sans-Serif\" font-size=\"14.00\" fill=\"#000000\">class = Y</text>\n</g>\n<!-- 1 -->\n<g id=\"node2\" class=\"node\">\n<title>1</title>\n<path fill=\"#52a9e8\" stroke=\"#000000\" d=\"M273.5,-306C273.5,-306 154.5,-306 154.5,-306 148.5,-306 142.5,-300 142.5,-294 142.5,-294 142.5,-235 142.5,-235 142.5,-229 148.5,-223 154.5,-223 154.5,-223 273.5,-223 273.5,-223 279.5,-223 285.5,-229 285.5,-235 285.5,-235 285.5,-294 285.5,-294 285.5,-300 279.5,-306 273.5,-306\"/>\n<text text-anchor=\"middle\" x=\"214\" y=\"-290.8\" font-family=\"Helvetica,sans-Serif\" font-size=\"14.00\" fill=\"#000000\">Price &lt;= 40083.385</text>\n<text text-anchor=\"middle\" x=\"214\" y=\"-275.8\" font-family=\"Helvetica,sans-Serif\" font-size=\"14.00\" fill=\"#000000\">gini = 0.198</text>\n<text text-anchor=\"middle\" x=\"214\" y=\"-260.8\" font-family=\"Helvetica,sans-Serif\" font-size=\"14.00\" fill=\"#000000\">samples = 4347</text>\n<text text-anchor=\"middle\" x=\"214\" y=\"-245.8\" font-family=\"Helvetica,sans-Serif\" font-size=\"14.00\" fill=\"#000000\">value = [484, 3863]</text>\n<text text-anchor=\"middle\" x=\"214\" y=\"-230.8\" font-family=\"Helvetica,sans-Serif\" font-size=\"14.00\" fill=\"#000000\">class = Y</text>\n</g>\n<!-- 0&#45;&gt;1 -->\n<g id=\"edge1\" class=\"edge\">\n<title>0&#45;&gt;1</title>\n<path fill=\"none\" stroke=\"#000000\" d=\"M275.1234,-341.8796C268.0803,-332.9633 260.5707,-323.4565 253.3126,-314.268\"/>\n<polygon fill=\"#000000\" stroke=\"#000000\" points=\"255.9621,-311.9757 247.017,-306.2981 250.4691,-316.3147 255.9621,-311.9757\"/>\n<text text-anchor=\"middle\" x=\"244.1027\" y=\"-327.4276\" font-family=\"Helvetica,sans-Serif\" font-size=\"14.00\" fill=\"#000000\">True</text>\n</g>\n<!-- 6 -->\n<g id=\"node7\" class=\"node\">\n<title>6</title>\n<path fill=\"#f3c3a0\" stroke=\"#000000\" d=\"M547,-306C547,-306 373,-306 373,-306 367,-306 361,-300 361,-294 361,-294 361,-235 361,-235 361,-229 367,-223 373,-223 373,-223 547,-223 547,-223 553,-223 559,-229 559,-235 559,-235 559,-294 559,-294 559,-300 553,-306 547,-306\"/>\n<text text-anchor=\"middle\" x=\"460\" y=\"-290.8\" font-family=\"Helvetica,sans-Serif\" font-size=\"14.00\" fill=\"#000000\">Km_per_year &lt;= 24124.006</text>\n<text text-anchor=\"middle\" x=\"460\" y=\"-275.8\" font-family=\"Helvetica,sans-Serif\" font-size=\"14.00\" fill=\"#000000\">gini = 0.45</text>\n<text text-anchor=\"middle\" x=\"460\" y=\"-260.8\" font-family=\"Helvetica,sans-Serif\" font-size=\"14.00\" fill=\"#000000\">samples = 5653</text>\n<text text-anchor=\"middle\" x=\"460\" y=\"-245.8\" font-family=\"Helvetica,sans-Serif\" font-size=\"14.00\" fill=\"#000000\">value = [3716, 1937]</text>\n<text text-anchor=\"middle\" x=\"460\" y=\"-230.8\" font-family=\"Helvetica,sans-Serif\" font-size=\"14.00\" fill=\"#000000\">class = N</text>\n</g>\n<!-- 0&#45;&gt;6 -->\n<g id=\"edge6\" class=\"edge\">\n<title>0&#45;&gt;6</title>\n<path fill=\"none\" stroke=\"#000000\" d=\"M361.1622,-341.8796C373.3115,-332.368 386.3192,-322.1843 398.776,-312.432\"/>\n<polygon fill=\"#000000\" stroke=\"#000000\" points=\"401.1514,-315.0173 406.8678,-306.0969 396.8362,-309.5055 401.1514,-315.0173\"/>\n<text text-anchor=\"middle\" x=\"403.8458\" y=\"-327.2136\" font-family=\"Helvetica,sans-Serif\" font-size=\"14.00\" fill=\"#000000\">False</text>\n</g>\n<!-- 2 -->\n<g id=\"node3\" class=\"node\">\n<title>2</title>\n<path fill=\"#399de5\" stroke=\"#000000\" d=\"M112,-179.5C112,-179.5 12,-179.5 12,-179.5 6,-179.5 0,-173.5 0,-167.5 0,-167.5 0,-123.5 0,-123.5 0,-117.5 6,-111.5 12,-111.5 12,-111.5 112,-111.5 112,-111.5 118,-111.5 124,-117.5 124,-123.5 124,-123.5 124,-167.5 124,-167.5 124,-173.5 118,-179.5 112,-179.5\"/>\n<text text-anchor=\"middle\" x=\"62\" y=\"-164.3\" font-family=\"Helvetica,sans-Serif\" font-size=\"14.00\" fill=\"#000000\">gini = 0.0</text>\n<text text-anchor=\"middle\" x=\"62\" y=\"-149.3\" font-family=\"Helvetica,sans-Serif\" font-size=\"14.00\" fill=\"#000000\">samples = 1935</text>\n<text text-anchor=\"middle\" x=\"62\" y=\"-134.3\" font-family=\"Helvetica,sans-Serif\" font-size=\"14.00\" fill=\"#000000\">value = [0, 1935]</text>\n<text text-anchor=\"middle\" x=\"62\" y=\"-119.3\" font-family=\"Helvetica,sans-Serif\" font-size=\"14.00\" fill=\"#000000\">class = Y</text>\n</g>\n<!-- 1&#45;&gt;2 -->\n<g id=\"edge2\" class=\"edge\">\n<title>1&#45;&gt;2</title>\n<path fill=\"none\" stroke=\"#000000\" d=\"M160.8378,-222.8796C145.6687,-211.0038 129.1616,-198.0804 114.0591,-186.2568\"/>\n<polygon fill=\"#000000\" stroke=\"#000000\" points=\"115.8624,-183.2236 105.8308,-179.8149 111.5472,-188.7353 115.8624,-183.2236\"/>\n</g>\n<!-- 3 -->\n<g id=\"node4\" class=\"node\">\n<title>3</title>\n<path fill=\"#6bb6ec\" stroke=\"#000000\" d=\"M273.5,-187C273.5,-187 154.5,-187 154.5,-187 148.5,-187 142.5,-181 142.5,-175 142.5,-175 142.5,-116 142.5,-116 142.5,-110 148.5,-104 154.5,-104 154.5,-104 273.5,-104 273.5,-104 279.5,-104 285.5,-110 285.5,-116 285.5,-116 285.5,-175 285.5,-175 285.5,-181 279.5,-187 273.5,-187\"/>\n<text text-anchor=\"middle\" x=\"214\" y=\"-171.8\" font-family=\"Helvetica,sans-Serif\" font-size=\"14.00\" fill=\"#000000\">Price &lt;= 41083.029</text>\n<text text-anchor=\"middle\" x=\"214\" y=\"-156.8\" font-family=\"Helvetica,sans-Serif\" font-size=\"14.00\" fill=\"#000000\">gini = 0.321</text>\n<text text-anchor=\"middle\" x=\"214\" y=\"-141.8\" font-family=\"Helvetica,sans-Serif\" font-size=\"14.00\" fill=\"#000000\">samples = 2412</text>\n<text text-anchor=\"middle\" x=\"214\" y=\"-126.8\" font-family=\"Helvetica,sans-Serif\" font-size=\"14.00\" fill=\"#000000\">value = [484, 1928]</text>\n<text text-anchor=\"middle\" x=\"214\" y=\"-111.8\" font-family=\"Helvetica,sans-Serif\" font-size=\"14.00\" fill=\"#000000\">class = Y</text>\n</g>\n<!-- 1&#45;&gt;3 -->\n<g id=\"edge3\" class=\"edge\">\n<title>1&#45;&gt;3</title>\n<path fill=\"none\" stroke=\"#000000\" d=\"M214,-222.8796C214,-214.6838 214,-205.9891 214,-197.5013\"/>\n<polygon fill=\"#000000\" stroke=\"#000000\" points=\"217.5001,-197.298 214,-187.2981 210.5001,-197.2981 217.5001,-197.298\"/>\n</g>\n<!-- 4 -->\n<g id=\"node5\" class=\"node\">\n<title>4</title>\n<path fill=\"#95cbf1\" stroke=\"#000000\" d=\"M114,-68C114,-68 22,-68 22,-68 16,-68 10,-62 10,-56 10,-56 10,-12 10,-12 10,-6 16,0 22,0 22,0 114,0 114,0 120,0 126,-6 126,-12 126,-12 126,-56 126,-56 126,-62 120,-68 114,-68\"/>\n<text text-anchor=\"middle\" x=\"68\" y=\"-52.8\" font-family=\"Helvetica,sans-Serif\" font-size=\"14.00\" fill=\"#000000\">gini = 0.434</text>\n<text text-anchor=\"middle\" x=\"68\" y=\"-37.8\" font-family=\"Helvetica,sans-Serif\" font-size=\"14.00\" fill=\"#000000\">samples = 110</text>\n<text text-anchor=\"middle\" x=\"68\" y=\"-22.8\" font-family=\"Helvetica,sans-Serif\" font-size=\"14.00\" fill=\"#000000\">value = [35, 75]</text>\n<text text-anchor=\"middle\" x=\"68\" y=\"-7.8\" font-family=\"Helvetica,sans-Serif\" font-size=\"14.00\" fill=\"#000000\">class = Y</text>\n</g>\n<!-- 3&#45;&gt;4 -->\n<g id=\"edge4\" class=\"edge\">\n<title>3&#45;&gt;4</title>\n<path fill=\"none\" stroke=\"#000000\" d=\"M159.635,-103.9815C146.9989,-94.3313 133.5644,-84.0714 120.9885,-74.4673\"/>\n<polygon fill=\"#000000\" stroke=\"#000000\" points=\"122.9372,-71.5515 112.8654,-68.2637 118.6886,-77.1148 122.9372,-71.5515\"/>\n</g>\n<!-- 5 -->\n<g id=\"node6\" class=\"node\">\n<title>5</title>\n<path fill=\"#69b5eb\" stroke=\"#000000\" d=\"M272,-68C272,-68 156,-68 156,-68 150,-68 144,-62 144,-56 144,-56 144,-12 144,-12 144,-6 150,0 156,0 156,0 272,0 272,0 278,0 284,-6 284,-12 284,-12 284,-56 284,-56 284,-62 278,-68 272,-68\"/>\n<text text-anchor=\"middle\" x=\"214\" y=\"-52.8\" font-family=\"Helvetica,sans-Serif\" font-size=\"14.00\" fill=\"#000000\">gini = 0.314</text>\n<text text-anchor=\"middle\" x=\"214\" y=\"-37.8\" font-family=\"Helvetica,sans-Serif\" font-size=\"14.00\" fill=\"#000000\">samples = 2302</text>\n<text text-anchor=\"middle\" x=\"214\" y=\"-22.8\" font-family=\"Helvetica,sans-Serif\" font-size=\"14.00\" fill=\"#000000\">value = [449, 1853]</text>\n<text text-anchor=\"middle\" x=\"214\" y=\"-7.8\" font-family=\"Helvetica,sans-Serif\" font-size=\"14.00\" fill=\"#000000\">class = Y</text>\n</g>\n<!-- 3&#45;&gt;5 -->\n<g id=\"edge5\" class=\"edge\">\n<title>3&#45;&gt;5</title>\n<path fill=\"none\" stroke=\"#000000\" d=\"M214,-103.9815C214,-95.618 214,-86.7965 214,-78.3409\"/>\n<polygon fill=\"#000000\" stroke=\"#000000\" points=\"217.5001,-78.2636 214,-68.2637 210.5001,-78.2637 217.5001,-78.2636\"/>\n</g>\n<!-- 7 -->\n<g id=\"node8\" class=\"node\">\n<title>7</title>\n<path fill=\"#fcefe5\" stroke=\"#000000\" d=\"M522.5,-187C522.5,-187 397.5,-187 397.5,-187 391.5,-187 385.5,-181 385.5,-175 385.5,-175 385.5,-116 385.5,-116 385.5,-110 391.5,-104 397.5,-104 397.5,-104 522.5,-104 522.5,-104 528.5,-104 534.5,-110 534.5,-116 534.5,-116 534.5,-175 534.5,-175 534.5,-181 528.5,-187 522.5,-187\"/>\n<text text-anchor=\"middle\" x=\"460\" y=\"-171.8\" font-family=\"Helvetica,sans-Serif\" font-size=\"14.00\" fill=\"#000000\">Price &lt;= 99974.41</text>\n<text text-anchor=\"middle\" x=\"460\" y=\"-156.8\" font-family=\"Helvetica,sans-Serif\" font-size=\"14.00\" fill=\"#000000\">gini = 0.498</text>\n<text text-anchor=\"middle\" x=\"460\" y=\"-141.8\" font-family=\"Helvetica,sans-Serif\" font-size=\"14.00\" fill=\"#000000\">samples = 3513</text>\n<text text-anchor=\"middle\" x=\"460\" y=\"-126.8\" font-family=\"Helvetica,sans-Serif\" font-size=\"14.00\" fill=\"#000000\">value = [1879, 1634]</text>\n<text text-anchor=\"middle\" x=\"460\" y=\"-111.8\" font-family=\"Helvetica,sans-Serif\" font-size=\"14.00\" fill=\"#000000\">class = N</text>\n</g>\n<!-- 6&#45;&gt;7 -->\n<g id=\"edge7\" class=\"edge\">\n<title>6&#45;&gt;7</title>\n<path fill=\"none\" stroke=\"#000000\" d=\"M460,-222.8796C460,-214.6838 460,-205.9891 460,-197.5013\"/>\n<polygon fill=\"#000000\" stroke=\"#000000\" points=\"463.5001,-197.298 460,-187.2981 456.5001,-197.2981 463.5001,-197.298\"/>\n</g>\n<!-- 10 -->\n<g id=\"node11\" class=\"node\">\n<title>10</title>\n<path fill=\"#e9965a\" stroke=\"#000000\" d=\"M750,-187C750,-187 622,-187 622,-187 616,-187 610,-181 610,-175 610,-175 610,-116 610,-116 610,-110 616,-104 622,-104 622,-104 750,-104 750,-104 756,-104 762,-110 762,-116 762,-116 762,-175 762,-175 762,-181 756,-187 750,-187\"/>\n<text text-anchor=\"middle\" x=\"686\" y=\"-171.8\" font-family=\"Helvetica,sans-Serif\" font-size=\"14.00\" fill=\"#000000\">Price &lt;= 100076.957</text>\n<text text-anchor=\"middle\" x=\"686\" y=\"-156.8\" font-family=\"Helvetica,sans-Serif\" font-size=\"14.00\" fill=\"#000000\">gini = 0.243</text>\n<text text-anchor=\"middle\" x=\"686\" y=\"-141.8\" font-family=\"Helvetica,sans-Serif\" font-size=\"14.00\" fill=\"#000000\">samples = 2140</text>\n<text text-anchor=\"middle\" x=\"686\" y=\"-126.8\" font-family=\"Helvetica,sans-Serif\" font-size=\"14.00\" fill=\"#000000\">value = [1837, 303]</text>\n<text text-anchor=\"middle\" x=\"686\" y=\"-111.8\" font-family=\"Helvetica,sans-Serif\" font-size=\"14.00\" fill=\"#000000\">class = N</text>\n</g>\n<!-- 6&#45;&gt;10 -->\n<g id=\"edge10\" class=\"edge\">\n<title>6&#45;&gt;10</title>\n<path fill=\"none\" stroke=\"#000000\" d=\"M539.0438,-222.8796C559.0023,-212.3705 580.5188,-201.041 600.7672,-190.3792\"/>\n<polygon fill=\"#000000\" stroke=\"#000000\" points=\"602.4463,-193.4507 609.664,-185.6946 599.1849,-187.2568 602.4463,-193.4507\"/>\n</g>\n<!-- 8 -->\n<g id=\"node9\" class=\"node\">\n<title>8</title>\n<path fill=\"#f9e0ce\" stroke=\"#000000\" d=\"M439.5,-68C439.5,-68 314.5,-68 314.5,-68 308.5,-68 302.5,-62 302.5,-56 302.5,-56 302.5,-12 302.5,-12 302.5,-6 308.5,0 314.5,0 314.5,0 439.5,0 439.5,0 445.5,0 451.5,-6 451.5,-12 451.5,-12 451.5,-56 451.5,-56 451.5,-62 445.5,-68 439.5,-68\"/>\n<text text-anchor=\"middle\" x=\"377\" y=\"-52.8\" font-family=\"Helvetica,sans-Serif\" font-size=\"14.00\" fill=\"#000000\">gini = 0.49</text>\n<text text-anchor=\"middle\" x=\"377\" y=\"-37.8\" font-family=\"Helvetica,sans-Serif\" font-size=\"14.00\" fill=\"#000000\">samples = 2944</text>\n<text text-anchor=\"middle\" x=\"377\" y=\"-22.8\" font-family=\"Helvetica,sans-Serif\" font-size=\"14.00\" fill=\"#000000\">value = [1682, 1262]</text>\n<text text-anchor=\"middle\" x=\"377\" y=\"-7.8\" font-family=\"Helvetica,sans-Serif\" font-size=\"14.00\" fill=\"#000000\">class = N</text>\n</g>\n<!-- 7&#45;&gt;8 -->\n<g id=\"edge8\" class=\"edge\">\n<title>7&#45;&gt;8</title>\n<path fill=\"none\" stroke=\"#000000\" d=\"M429.0939,-103.9815C422.3892,-94.9747 415.2892,-85.4367 408.5597,-76.3965\"/>\n<polygon fill=\"#000000\" stroke=\"#000000\" points=\"411.2845,-74.1953 402.5057,-68.2637 405.6694,-78.3752 411.2845,-74.1953\"/>\n</g>\n<!-- 9 -->\n<g id=\"node10\" class=\"node\">\n<title>9</title>\n<path fill=\"#a2d1f3\" stroke=\"#000000\" d=\"M590,-68C590,-68 482,-68 482,-68 476,-68 470,-62 470,-56 470,-56 470,-12 470,-12 470,-6 476,0 482,0 482,0 590,0 590,0 596,0 602,-6 602,-12 602,-12 602,-56 602,-56 602,-62 596,-68 590,-68\"/>\n<text text-anchor=\"middle\" x=\"536\" y=\"-52.8\" font-family=\"Helvetica,sans-Serif\" font-size=\"14.00\" fill=\"#000000\">gini = 0.453</text>\n<text text-anchor=\"middle\" x=\"536\" y=\"-37.8\" font-family=\"Helvetica,sans-Serif\" font-size=\"14.00\" fill=\"#000000\">samples = 569</text>\n<text text-anchor=\"middle\" x=\"536\" y=\"-22.8\" font-family=\"Helvetica,sans-Serif\" font-size=\"14.00\" fill=\"#000000\">value = [197, 372]</text>\n<text text-anchor=\"middle\" x=\"536\" y=\"-7.8\" font-family=\"Helvetica,sans-Serif\" font-size=\"14.00\" fill=\"#000000\">class = Y</text>\n</g>\n<!-- 7&#45;&gt;9 -->\n<g id=\"edge9\" class=\"edge\">\n<title>7&#45;&gt;9</title>\n<path fill=\"none\" stroke=\"#000000\" d=\"M488.2996,-103.9815C494.3762,-95.0666 500.8074,-85.6313 506.9132,-76.6734\"/>\n<polygon fill=\"#000000\" stroke=\"#000000\" points=\"509.9052,-78.498 512.6454,-68.2637 504.1211,-74.5555 509.9052,-78.498\"/>\n</g>\n<!-- 11 -->\n<g id=\"node12\" class=\"node\">\n<title>11</title>\n<path fill=\"#e68742\" stroke=\"#000000\" d=\"M740,-68C740,-68 632,-68 632,-68 626,-68 620,-62 620,-56 620,-56 620,-12 620,-12 620,-6 626,0 632,0 632,0 740,0 740,0 746,0 752,-6 752,-12 752,-12 752,-56 752,-56 752,-62 746,-68 740,-68\"/>\n<text text-anchor=\"middle\" x=\"686\" y=\"-52.8\" font-family=\"Helvetica,sans-Serif\" font-size=\"14.00\" fill=\"#000000\">gini = 0.082</text>\n<text text-anchor=\"middle\" x=\"686\" y=\"-37.8\" font-family=\"Helvetica,sans-Serif\" font-size=\"14.00\" fill=\"#000000\">samples = 1809</text>\n<text text-anchor=\"middle\" x=\"686\" y=\"-22.8\" font-family=\"Helvetica,sans-Serif\" font-size=\"14.00\" fill=\"#000000\">value = [1732, 77]</text>\n<text text-anchor=\"middle\" x=\"686\" y=\"-7.8\" font-family=\"Helvetica,sans-Serif\" font-size=\"14.00\" fill=\"#000000\">class = N</text>\n</g>\n<!-- 10&#45;&gt;11 -->\n<g id=\"edge11\" class=\"edge\">\n<title>10&#45;&gt;11</title>\n<path fill=\"none\" stroke=\"#000000\" d=\"M686,-103.9815C686,-95.618 686,-86.7965 686,-78.3409\"/>\n<polygon fill=\"#000000\" stroke=\"#000000\" points=\"689.5001,-78.2636 686,-68.2637 682.5001,-78.2637 689.5001,-78.2636\"/>\n</g>\n<!-- 12 -->\n<g id=\"node13\" class=\"node\">\n<title>12</title>\n<path fill=\"#95cbf1\" stroke=\"#000000\" d=\"M890,-68C890,-68 782,-68 782,-68 776,-68 770,-62 770,-56 770,-56 770,-12 770,-12 770,-6 776,0 782,0 782,0 890,0 890,0 896,0 902,-6 902,-12 902,-12 902,-56 902,-56 902,-62 896,-68 890,-68\"/>\n<text text-anchor=\"middle\" x=\"836\" y=\"-52.8\" font-family=\"Helvetica,sans-Serif\" font-size=\"14.00\" fill=\"#000000\">gini = 0.433</text>\n<text text-anchor=\"middle\" x=\"836\" y=\"-37.8\" font-family=\"Helvetica,sans-Serif\" font-size=\"14.00\" fill=\"#000000\">samples = 331</text>\n<text text-anchor=\"middle\" x=\"836\" y=\"-22.8\" font-family=\"Helvetica,sans-Serif\" font-size=\"14.00\" fill=\"#000000\">value = [105, 226]</text>\n<text text-anchor=\"middle\" x=\"836\" y=\"-7.8\" font-family=\"Helvetica,sans-Serif\" font-size=\"14.00\" fill=\"#000000\">class = Y</text>\n</g>\n<!-- 10&#45;&gt;12 -->\n<g id=\"edge12\" class=\"edge\">\n<title>10&#45;&gt;12</title>\n<path fill=\"none\" stroke=\"#000000\" d=\"M741.8545,-103.9815C754.8368,-94.3313 768.6394,-84.0714 781.5597,-74.4673\"/>\n<polygon fill=\"#000000\" stroke=\"#000000\" points=\"783.9678,-77.0384 789.9054,-68.2637 779.7917,-71.4204 783.9678,-77.0384\"/>\n</g>\n</g>\n</svg>\n"
          },
          "metadata": {},
          "execution_count": 50
        }
      ]
    },
    {
      "cell_type": "code",
      "source": [
        ""
      ],
      "metadata": {
        "id": "4ADGiPq-Fx2V"
      },
      "execution_count": null,
      "outputs": []
    }
  ]
}