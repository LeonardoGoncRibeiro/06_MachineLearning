{
  "nbformat": 4,
  "nbformat_minor": 0,
  "metadata": {
    "colab": {
      "name": "04_Clustering.ipynb",
      "provenance": [],
      "collapsed_sections": [],
      "toc_visible": true,
      "authorship_tag": "ABX9TyMgH+phKbBu4pLDj+qOzkyc",
      "include_colab_link": true
    },
    "kernelspec": {
      "name": "python3",
      "display_name": "Python 3"
    },
    "language_info": {
      "name": "python"
    }
  },
  "cells": [
    {
      "cell_type": "markdown",
      "metadata": {
        "id": "view-in-github",
        "colab_type": "text"
      },
      "source": [
        "<a href=\"https://colab.research.google.com/github/LeonardoGoncRibeiro/06_MachineLearning/blob/main/01_Basic/04_Clustering.ipynb\" target=\"_parent\"><img src=\"https://colab.research.google.com/assets/colab-badge.svg\" alt=\"Open In Colab\"/></a>"
      ]
    },
    {
      "cell_type": "markdown",
      "source": [
        "# Clustering\n",
        "\n",
        "In this course, we will learn more about clustering algorithms. Clustering algorithms are able to group data on a dataset, defining groups for different entries. Clustering is heavily performed in customer segmentation, for instance. In this course, we will use the following packages:"
      ],
      "metadata": {
        "id": "X_NYYU3QLDVC"
      }
    },
    {
      "cell_type": "code",
      "source": [
        "!pip install biokit --quiet"
      ],
      "metadata": {
        "id": "Nz7Hvjn-PeSH"
      },
      "execution_count": 73,
      "outputs": []
    },
    {
      "cell_type": "code",
      "execution_count": 121,
      "metadata": {
        "id": "d26k35fjK32A"
      },
      "outputs": [],
      "source": [
        "import plotly.graph_objects as go\n",
        "from biokit.viz import corrplot\n",
        "import matplotlib.pyplot as plt\n",
        "\n",
        "import pandas as pd\n",
        "import numpy as np\n",
        "\n",
        "from sklearn.preprocessing import MinMaxScaler\n",
        "\n",
        "from sklearn.cluster import KMeans\n",
        "from sklearn.cluster import DBSCAN\n",
        "from sklearn.cluster import MeanShift\n",
        "\n",
        "from sklearn.cluster import estimate_bandwidth\n",
        "\n",
        "from sklearn.metrics import silhouette_score"
      ]
    },
    {
      "cell_type": "markdown",
      "source": [
        "In this course, we will try to cluster different wines from a dataset:"
      ],
      "metadata": {
        "id": "WHi7URXwLxJA"
      }
    },
    {
      "cell_type": "code",
      "source": [
        "df = pd.read_csv('https://raw.githubusercontent.com/alura-cursos/Clustering/Aula-1.-An%C3%A1lise-Explorat%C3%B3ria/Wine.csv')"
      ],
      "metadata": {
        "id": "1bOdG-5zL3eh"
      },
      "execution_count": 75,
      "outputs": []
    },
    {
      "cell_type": "code",
      "source": [
        "df.head( )"
      ],
      "metadata": {
        "colab": {
          "base_uri": "https://localhost:8080/",
          "height": 270
        },
        "id": "KzuBrjxEMOQN",
        "outputId": "0fbc86a1-b11f-4250-f971-6f271fbbc6b8"
      },
      "execution_count": 76,
      "outputs": [
        {
          "output_type": "execute_result",
          "data": {
            "text/plain": [
              "   Alcohol  Malic_Acid   Ash  Ash_Alcanity  Magnesium  Total_Phenols  \\\n",
              "0    14.23        1.71  2.43          15.6        127           2.80   \n",
              "1    13.20        1.78  2.14          11.2        100           2.65   \n",
              "2    13.16        2.36  2.67          18.6        101           2.80   \n",
              "3    14.37        1.95  2.50          16.8        113           3.85   \n",
              "4    13.24        2.59  2.87          21.0        118           2.80   \n",
              "\n",
              "   Flavanoids  Nonflavanoid_Phenols  Proanthocyanins  Color_Intensity   Hue  \\\n",
              "0        3.06                  0.28             2.29             5.64  1.04   \n",
              "1        2.76                  0.26             1.28             4.38  1.05   \n",
              "2        3.24                  0.30             2.81             5.68  1.03   \n",
              "3        3.49                  0.24             2.18             7.80  0.86   \n",
              "4        2.69                  0.39             1.82             4.32  1.04   \n",
              "\n",
              "   OD280  Proline  Customer_Segment  \n",
              "0   3.92     1065                 1  \n",
              "1   3.40     1050                 1  \n",
              "2   3.17     1185                 1  \n",
              "3   3.45     1480                 1  \n",
              "4   2.93      735                 1  "
            ],
            "text/html": [
              "\n",
              "  <div id=\"df-802e75a5-91cb-4d0e-9fb7-412bebbc6364\">\n",
              "    <div class=\"colab-df-container\">\n",
              "      <div>\n",
              "<style scoped>\n",
              "    .dataframe tbody tr th:only-of-type {\n",
              "        vertical-align: middle;\n",
              "    }\n",
              "\n",
              "    .dataframe tbody tr th {\n",
              "        vertical-align: top;\n",
              "    }\n",
              "\n",
              "    .dataframe thead th {\n",
              "        text-align: right;\n",
              "    }\n",
              "</style>\n",
              "<table border=\"1\" class=\"dataframe\">\n",
              "  <thead>\n",
              "    <tr style=\"text-align: right;\">\n",
              "      <th></th>\n",
              "      <th>Alcohol</th>\n",
              "      <th>Malic_Acid</th>\n",
              "      <th>Ash</th>\n",
              "      <th>Ash_Alcanity</th>\n",
              "      <th>Magnesium</th>\n",
              "      <th>Total_Phenols</th>\n",
              "      <th>Flavanoids</th>\n",
              "      <th>Nonflavanoid_Phenols</th>\n",
              "      <th>Proanthocyanins</th>\n",
              "      <th>Color_Intensity</th>\n",
              "      <th>Hue</th>\n",
              "      <th>OD280</th>\n",
              "      <th>Proline</th>\n",
              "      <th>Customer_Segment</th>\n",
              "    </tr>\n",
              "  </thead>\n",
              "  <tbody>\n",
              "    <tr>\n",
              "      <th>0</th>\n",
              "      <td>14.23</td>\n",
              "      <td>1.71</td>\n",
              "      <td>2.43</td>\n",
              "      <td>15.6</td>\n",
              "      <td>127</td>\n",
              "      <td>2.80</td>\n",
              "      <td>3.06</td>\n",
              "      <td>0.28</td>\n",
              "      <td>2.29</td>\n",
              "      <td>5.64</td>\n",
              "      <td>1.04</td>\n",
              "      <td>3.92</td>\n",
              "      <td>1065</td>\n",
              "      <td>1</td>\n",
              "    </tr>\n",
              "    <tr>\n",
              "      <th>1</th>\n",
              "      <td>13.20</td>\n",
              "      <td>1.78</td>\n",
              "      <td>2.14</td>\n",
              "      <td>11.2</td>\n",
              "      <td>100</td>\n",
              "      <td>2.65</td>\n",
              "      <td>2.76</td>\n",
              "      <td>0.26</td>\n",
              "      <td>1.28</td>\n",
              "      <td>4.38</td>\n",
              "      <td>1.05</td>\n",
              "      <td>3.40</td>\n",
              "      <td>1050</td>\n",
              "      <td>1</td>\n",
              "    </tr>\n",
              "    <tr>\n",
              "      <th>2</th>\n",
              "      <td>13.16</td>\n",
              "      <td>2.36</td>\n",
              "      <td>2.67</td>\n",
              "      <td>18.6</td>\n",
              "      <td>101</td>\n",
              "      <td>2.80</td>\n",
              "      <td>3.24</td>\n",
              "      <td>0.30</td>\n",
              "      <td>2.81</td>\n",
              "      <td>5.68</td>\n",
              "      <td>1.03</td>\n",
              "      <td>3.17</td>\n",
              "      <td>1185</td>\n",
              "      <td>1</td>\n",
              "    </tr>\n",
              "    <tr>\n",
              "      <th>3</th>\n",
              "      <td>14.37</td>\n",
              "      <td>1.95</td>\n",
              "      <td>2.50</td>\n",
              "      <td>16.8</td>\n",
              "      <td>113</td>\n",
              "      <td>3.85</td>\n",
              "      <td>3.49</td>\n",
              "      <td>0.24</td>\n",
              "      <td>2.18</td>\n",
              "      <td>7.80</td>\n",
              "      <td>0.86</td>\n",
              "      <td>3.45</td>\n",
              "      <td>1480</td>\n",
              "      <td>1</td>\n",
              "    </tr>\n",
              "    <tr>\n",
              "      <th>4</th>\n",
              "      <td>13.24</td>\n",
              "      <td>2.59</td>\n",
              "      <td>2.87</td>\n",
              "      <td>21.0</td>\n",
              "      <td>118</td>\n",
              "      <td>2.80</td>\n",
              "      <td>2.69</td>\n",
              "      <td>0.39</td>\n",
              "      <td>1.82</td>\n",
              "      <td>4.32</td>\n",
              "      <td>1.04</td>\n",
              "      <td>2.93</td>\n",
              "      <td>735</td>\n",
              "      <td>1</td>\n",
              "    </tr>\n",
              "  </tbody>\n",
              "</table>\n",
              "</div>\n",
              "      <button class=\"colab-df-convert\" onclick=\"convertToInteractive('df-802e75a5-91cb-4d0e-9fb7-412bebbc6364')\"\n",
              "              title=\"Convert this dataframe to an interactive table.\"\n",
              "              style=\"display:none;\">\n",
              "        \n",
              "  <svg xmlns=\"http://www.w3.org/2000/svg\" height=\"24px\"viewBox=\"0 0 24 24\"\n",
              "       width=\"24px\">\n",
              "    <path d=\"M0 0h24v24H0V0z\" fill=\"none\"/>\n",
              "    <path d=\"M18.56 5.44l.94 2.06.94-2.06 2.06-.94-2.06-.94-.94-2.06-.94 2.06-2.06.94zm-11 1L8.5 8.5l.94-2.06 2.06-.94-2.06-.94L8.5 2.5l-.94 2.06-2.06.94zm10 10l.94 2.06.94-2.06 2.06-.94-2.06-.94-.94-2.06-.94 2.06-2.06.94z\"/><path d=\"M17.41 7.96l-1.37-1.37c-.4-.4-.92-.59-1.43-.59-.52 0-1.04.2-1.43.59L10.3 9.45l-7.72 7.72c-.78.78-.78 2.05 0 2.83L4 21.41c.39.39.9.59 1.41.59.51 0 1.02-.2 1.41-.59l7.78-7.78 2.81-2.81c.8-.78.8-2.07 0-2.86zM5.41 20L4 18.59l7.72-7.72 1.47 1.35L5.41 20z\"/>\n",
              "  </svg>\n",
              "      </button>\n",
              "      \n",
              "  <style>\n",
              "    .colab-df-container {\n",
              "      display:flex;\n",
              "      flex-wrap:wrap;\n",
              "      gap: 12px;\n",
              "    }\n",
              "\n",
              "    .colab-df-convert {\n",
              "      background-color: #E8F0FE;\n",
              "      border: none;\n",
              "      border-radius: 50%;\n",
              "      cursor: pointer;\n",
              "      display: none;\n",
              "      fill: #1967D2;\n",
              "      height: 32px;\n",
              "      padding: 0 0 0 0;\n",
              "      width: 32px;\n",
              "    }\n",
              "\n",
              "    .colab-df-convert:hover {\n",
              "      background-color: #E2EBFA;\n",
              "      box-shadow: 0px 1px 2px rgba(60, 64, 67, 0.3), 0px 1px 3px 1px rgba(60, 64, 67, 0.15);\n",
              "      fill: #174EA6;\n",
              "    }\n",
              "\n",
              "    [theme=dark] .colab-df-convert {\n",
              "      background-color: #3B4455;\n",
              "      fill: #D2E3FC;\n",
              "    }\n",
              "\n",
              "    [theme=dark] .colab-df-convert:hover {\n",
              "      background-color: #434B5C;\n",
              "      box-shadow: 0px 1px 3px 1px rgba(0, 0, 0, 0.15);\n",
              "      filter: drop-shadow(0px 1px 2px rgba(0, 0, 0, 0.3));\n",
              "      fill: #FFFFFF;\n",
              "    }\n",
              "  </style>\n",
              "\n",
              "      <script>\n",
              "        const buttonEl =\n",
              "          document.querySelector('#df-802e75a5-91cb-4d0e-9fb7-412bebbc6364 button.colab-df-convert');\n",
              "        buttonEl.style.display =\n",
              "          google.colab.kernel.accessAllowed ? 'block' : 'none';\n",
              "\n",
              "        async function convertToInteractive(key) {\n",
              "          const element = document.querySelector('#df-802e75a5-91cb-4d0e-9fb7-412bebbc6364');\n",
              "          const dataTable =\n",
              "            await google.colab.kernel.invokeFunction('convertToInteractive',\n",
              "                                                     [key], {});\n",
              "          if (!dataTable) return;\n",
              "\n",
              "          const docLinkHtml = 'Like what you see? Visit the ' +\n",
              "            '<a target=\"_blank\" href=https://colab.research.google.com/notebooks/data_table.ipynb>data table notebook</a>'\n",
              "            + ' to learn more about interactive tables.';\n",
              "          element.innerHTML = '';\n",
              "          dataTable['output_type'] = 'display_data';\n",
              "          await google.colab.output.renderOutput(dataTable, element);\n",
              "          const docLink = document.createElement('div');\n",
              "          docLink.innerHTML = docLinkHtml;\n",
              "          element.appendChild(docLink);\n",
              "        }\n",
              "      </script>\n",
              "    </div>\n",
              "  </div>\n",
              "  "
            ]
          },
          "metadata": {},
          "execution_count": 76
        }
      ]
    },
    {
      "cell_type": "code",
      "source": [
        "df.info( )"
      ],
      "metadata": {
        "colab": {
          "base_uri": "https://localhost:8080/"
        },
        "id": "iUauhLeVMSk9",
        "outputId": "4eb85f85-5ef6-4c51-c805-ae417e9a9369"
      },
      "execution_count": 77,
      "outputs": [
        {
          "output_type": "stream",
          "name": "stdout",
          "text": [
            "<class 'pandas.core.frame.DataFrame'>\n",
            "RangeIndex: 178 entries, 0 to 177\n",
            "Data columns (total 14 columns):\n",
            " #   Column                Non-Null Count  Dtype  \n",
            "---  ------                --------------  -----  \n",
            " 0   Alcohol               178 non-null    float64\n",
            " 1   Malic_Acid            178 non-null    float64\n",
            " 2   Ash                   178 non-null    float64\n",
            " 3   Ash_Alcanity          178 non-null    float64\n",
            " 4   Magnesium             178 non-null    int64  \n",
            " 5   Total_Phenols         178 non-null    float64\n",
            " 6   Flavanoids            178 non-null    float64\n",
            " 7   Nonflavanoid_Phenols  178 non-null    float64\n",
            " 8   Proanthocyanins       178 non-null    float64\n",
            " 9   Color_Intensity       178 non-null    float64\n",
            " 10  Hue                   178 non-null    float64\n",
            " 11  OD280                 178 non-null    float64\n",
            " 12  Proline               178 non-null    int64  \n",
            " 13  Customer_Segment      178 non-null    int64  \n",
            "dtypes: float64(11), int64(3)\n",
            "memory usage: 19.6 KB\n"
          ]
        }
      ]
    },
    {
      "cell_type": "markdown",
      "source": [
        "So, our dataset has 178 entries with information about different wines. Here, we want to cluster these wines into different groups using an adequate clustering algorithm. For that end, we will use the features of our data (here, we have 14 features).\n",
        "\n",
        "Let's understand more about our features using a describe:"
      ],
      "metadata": {
        "id": "RyvpqlU0MWdE"
      }
    },
    {
      "cell_type": "code",
      "source": [
        "df.describe( )"
      ],
      "metadata": {
        "colab": {
          "base_uri": "https://localhost:8080/",
          "height": 364
        },
        "id": "7rEgJE1QNb5K",
        "outputId": "7e7f4e99-6a59-4cdc-f549-ead0f220d197"
      },
      "execution_count": 78,
      "outputs": [
        {
          "output_type": "execute_result",
          "data": {
            "text/plain": [
              "          Alcohol  Malic_Acid         Ash  Ash_Alcanity   Magnesium  \\\n",
              "count  178.000000  178.000000  178.000000    178.000000  178.000000   \n",
              "mean    13.000618    2.336348    2.366517     19.494944   99.741573   \n",
              "std      0.811827    1.117146    0.274344      3.339564   14.282484   \n",
              "min     11.030000    0.740000    1.360000     10.600000   70.000000   \n",
              "25%     12.362500    1.602500    2.210000     17.200000   88.000000   \n",
              "50%     13.050000    1.865000    2.360000     19.500000   98.000000   \n",
              "75%     13.677500    3.082500    2.557500     21.500000  107.000000   \n",
              "max     14.830000    5.800000    3.230000     30.000000  162.000000   \n",
              "\n",
              "       Total_Phenols  Flavanoids  Nonflavanoid_Phenols  Proanthocyanins  \\\n",
              "count     178.000000  178.000000            178.000000       178.000000   \n",
              "mean        2.295112    2.029270              0.361854         1.590899   \n",
              "std         0.625851    0.998859              0.124453         0.572359   \n",
              "min         0.980000    0.340000              0.130000         0.410000   \n",
              "25%         1.742500    1.205000              0.270000         1.250000   \n",
              "50%         2.355000    2.135000              0.340000         1.555000   \n",
              "75%         2.800000    2.875000              0.437500         1.950000   \n",
              "max         3.880000    5.080000              0.660000         3.580000   \n",
              "\n",
              "       Color_Intensity         Hue       OD280      Proline  Customer_Segment  \n",
              "count       178.000000  178.000000  178.000000   178.000000        178.000000  \n",
              "mean          5.058090    0.957449    2.611685   746.893258          1.938202  \n",
              "std           2.318286    0.228572    0.709990   314.907474          0.775035  \n",
              "min           1.280000    0.480000    1.270000   278.000000          1.000000  \n",
              "25%           3.220000    0.782500    1.937500   500.500000          1.000000  \n",
              "50%           4.690000    0.965000    2.780000   673.500000          2.000000  \n",
              "75%           6.200000    1.120000    3.170000   985.000000          3.000000  \n",
              "max          13.000000    1.710000    4.000000  1680.000000          3.000000  "
            ],
            "text/html": [
              "\n",
              "  <div id=\"df-a4659a46-ae0a-46b0-beac-d286bb855a9c\">\n",
              "    <div class=\"colab-df-container\">\n",
              "      <div>\n",
              "<style scoped>\n",
              "    .dataframe tbody tr th:only-of-type {\n",
              "        vertical-align: middle;\n",
              "    }\n",
              "\n",
              "    .dataframe tbody tr th {\n",
              "        vertical-align: top;\n",
              "    }\n",
              "\n",
              "    .dataframe thead th {\n",
              "        text-align: right;\n",
              "    }\n",
              "</style>\n",
              "<table border=\"1\" class=\"dataframe\">\n",
              "  <thead>\n",
              "    <tr style=\"text-align: right;\">\n",
              "      <th></th>\n",
              "      <th>Alcohol</th>\n",
              "      <th>Malic_Acid</th>\n",
              "      <th>Ash</th>\n",
              "      <th>Ash_Alcanity</th>\n",
              "      <th>Magnesium</th>\n",
              "      <th>Total_Phenols</th>\n",
              "      <th>Flavanoids</th>\n",
              "      <th>Nonflavanoid_Phenols</th>\n",
              "      <th>Proanthocyanins</th>\n",
              "      <th>Color_Intensity</th>\n",
              "      <th>Hue</th>\n",
              "      <th>OD280</th>\n",
              "      <th>Proline</th>\n",
              "      <th>Customer_Segment</th>\n",
              "    </tr>\n",
              "  </thead>\n",
              "  <tbody>\n",
              "    <tr>\n",
              "      <th>count</th>\n",
              "      <td>178.000000</td>\n",
              "      <td>178.000000</td>\n",
              "      <td>178.000000</td>\n",
              "      <td>178.000000</td>\n",
              "      <td>178.000000</td>\n",
              "      <td>178.000000</td>\n",
              "      <td>178.000000</td>\n",
              "      <td>178.000000</td>\n",
              "      <td>178.000000</td>\n",
              "      <td>178.000000</td>\n",
              "      <td>178.000000</td>\n",
              "      <td>178.000000</td>\n",
              "      <td>178.000000</td>\n",
              "      <td>178.000000</td>\n",
              "    </tr>\n",
              "    <tr>\n",
              "      <th>mean</th>\n",
              "      <td>13.000618</td>\n",
              "      <td>2.336348</td>\n",
              "      <td>2.366517</td>\n",
              "      <td>19.494944</td>\n",
              "      <td>99.741573</td>\n",
              "      <td>2.295112</td>\n",
              "      <td>2.029270</td>\n",
              "      <td>0.361854</td>\n",
              "      <td>1.590899</td>\n",
              "      <td>5.058090</td>\n",
              "      <td>0.957449</td>\n",
              "      <td>2.611685</td>\n",
              "      <td>746.893258</td>\n",
              "      <td>1.938202</td>\n",
              "    </tr>\n",
              "    <tr>\n",
              "      <th>std</th>\n",
              "      <td>0.811827</td>\n",
              "      <td>1.117146</td>\n",
              "      <td>0.274344</td>\n",
              "      <td>3.339564</td>\n",
              "      <td>14.282484</td>\n",
              "      <td>0.625851</td>\n",
              "      <td>0.998859</td>\n",
              "      <td>0.124453</td>\n",
              "      <td>0.572359</td>\n",
              "      <td>2.318286</td>\n",
              "      <td>0.228572</td>\n",
              "      <td>0.709990</td>\n",
              "      <td>314.907474</td>\n",
              "      <td>0.775035</td>\n",
              "    </tr>\n",
              "    <tr>\n",
              "      <th>min</th>\n",
              "      <td>11.030000</td>\n",
              "      <td>0.740000</td>\n",
              "      <td>1.360000</td>\n",
              "      <td>10.600000</td>\n",
              "      <td>70.000000</td>\n",
              "      <td>0.980000</td>\n",
              "      <td>0.340000</td>\n",
              "      <td>0.130000</td>\n",
              "      <td>0.410000</td>\n",
              "      <td>1.280000</td>\n",
              "      <td>0.480000</td>\n",
              "      <td>1.270000</td>\n",
              "      <td>278.000000</td>\n",
              "      <td>1.000000</td>\n",
              "    </tr>\n",
              "    <tr>\n",
              "      <th>25%</th>\n",
              "      <td>12.362500</td>\n",
              "      <td>1.602500</td>\n",
              "      <td>2.210000</td>\n",
              "      <td>17.200000</td>\n",
              "      <td>88.000000</td>\n",
              "      <td>1.742500</td>\n",
              "      <td>1.205000</td>\n",
              "      <td>0.270000</td>\n",
              "      <td>1.250000</td>\n",
              "      <td>3.220000</td>\n",
              "      <td>0.782500</td>\n",
              "      <td>1.937500</td>\n",
              "      <td>500.500000</td>\n",
              "      <td>1.000000</td>\n",
              "    </tr>\n",
              "    <tr>\n",
              "      <th>50%</th>\n",
              "      <td>13.050000</td>\n",
              "      <td>1.865000</td>\n",
              "      <td>2.360000</td>\n",
              "      <td>19.500000</td>\n",
              "      <td>98.000000</td>\n",
              "      <td>2.355000</td>\n",
              "      <td>2.135000</td>\n",
              "      <td>0.340000</td>\n",
              "      <td>1.555000</td>\n",
              "      <td>4.690000</td>\n",
              "      <td>0.965000</td>\n",
              "      <td>2.780000</td>\n",
              "      <td>673.500000</td>\n",
              "      <td>2.000000</td>\n",
              "    </tr>\n",
              "    <tr>\n",
              "      <th>75%</th>\n",
              "      <td>13.677500</td>\n",
              "      <td>3.082500</td>\n",
              "      <td>2.557500</td>\n",
              "      <td>21.500000</td>\n",
              "      <td>107.000000</td>\n",
              "      <td>2.800000</td>\n",
              "      <td>2.875000</td>\n",
              "      <td>0.437500</td>\n",
              "      <td>1.950000</td>\n",
              "      <td>6.200000</td>\n",
              "      <td>1.120000</td>\n",
              "      <td>3.170000</td>\n",
              "      <td>985.000000</td>\n",
              "      <td>3.000000</td>\n",
              "    </tr>\n",
              "    <tr>\n",
              "      <th>max</th>\n",
              "      <td>14.830000</td>\n",
              "      <td>5.800000</td>\n",
              "      <td>3.230000</td>\n",
              "      <td>30.000000</td>\n",
              "      <td>162.000000</td>\n",
              "      <td>3.880000</td>\n",
              "      <td>5.080000</td>\n",
              "      <td>0.660000</td>\n",
              "      <td>3.580000</td>\n",
              "      <td>13.000000</td>\n",
              "      <td>1.710000</td>\n",
              "      <td>4.000000</td>\n",
              "      <td>1680.000000</td>\n",
              "      <td>3.000000</td>\n",
              "    </tr>\n",
              "  </tbody>\n",
              "</table>\n",
              "</div>\n",
              "      <button class=\"colab-df-convert\" onclick=\"convertToInteractive('df-a4659a46-ae0a-46b0-beac-d286bb855a9c')\"\n",
              "              title=\"Convert this dataframe to an interactive table.\"\n",
              "              style=\"display:none;\">\n",
              "        \n",
              "  <svg xmlns=\"http://www.w3.org/2000/svg\" height=\"24px\"viewBox=\"0 0 24 24\"\n",
              "       width=\"24px\">\n",
              "    <path d=\"M0 0h24v24H0V0z\" fill=\"none\"/>\n",
              "    <path d=\"M18.56 5.44l.94 2.06.94-2.06 2.06-.94-2.06-.94-.94-2.06-.94 2.06-2.06.94zm-11 1L8.5 8.5l.94-2.06 2.06-.94-2.06-.94L8.5 2.5l-.94 2.06-2.06.94zm10 10l.94 2.06.94-2.06 2.06-.94-2.06-.94-.94-2.06-.94 2.06-2.06.94z\"/><path d=\"M17.41 7.96l-1.37-1.37c-.4-.4-.92-.59-1.43-.59-.52 0-1.04.2-1.43.59L10.3 9.45l-7.72 7.72c-.78.78-.78 2.05 0 2.83L4 21.41c.39.39.9.59 1.41.59.51 0 1.02-.2 1.41-.59l7.78-7.78 2.81-2.81c.8-.78.8-2.07 0-2.86zM5.41 20L4 18.59l7.72-7.72 1.47 1.35L5.41 20z\"/>\n",
              "  </svg>\n",
              "      </button>\n",
              "      \n",
              "  <style>\n",
              "    .colab-df-container {\n",
              "      display:flex;\n",
              "      flex-wrap:wrap;\n",
              "      gap: 12px;\n",
              "    }\n",
              "\n",
              "    .colab-df-convert {\n",
              "      background-color: #E8F0FE;\n",
              "      border: none;\n",
              "      border-radius: 50%;\n",
              "      cursor: pointer;\n",
              "      display: none;\n",
              "      fill: #1967D2;\n",
              "      height: 32px;\n",
              "      padding: 0 0 0 0;\n",
              "      width: 32px;\n",
              "    }\n",
              "\n",
              "    .colab-df-convert:hover {\n",
              "      background-color: #E2EBFA;\n",
              "      box-shadow: 0px 1px 2px rgba(60, 64, 67, 0.3), 0px 1px 3px 1px rgba(60, 64, 67, 0.15);\n",
              "      fill: #174EA6;\n",
              "    }\n",
              "\n",
              "    [theme=dark] .colab-df-convert {\n",
              "      background-color: #3B4455;\n",
              "      fill: #D2E3FC;\n",
              "    }\n",
              "\n",
              "    [theme=dark] .colab-df-convert:hover {\n",
              "      background-color: #434B5C;\n",
              "      box-shadow: 0px 1px 3px 1px rgba(0, 0, 0, 0.15);\n",
              "      filter: drop-shadow(0px 1px 2px rgba(0, 0, 0, 0.3));\n",
              "      fill: #FFFFFF;\n",
              "    }\n",
              "  </style>\n",
              "\n",
              "      <script>\n",
              "        const buttonEl =\n",
              "          document.querySelector('#df-a4659a46-ae0a-46b0-beac-d286bb855a9c button.colab-df-convert');\n",
              "        buttonEl.style.display =\n",
              "          google.colab.kernel.accessAllowed ? 'block' : 'none';\n",
              "\n",
              "        async function convertToInteractive(key) {\n",
              "          const element = document.querySelector('#df-a4659a46-ae0a-46b0-beac-d286bb855a9c');\n",
              "          const dataTable =\n",
              "            await google.colab.kernel.invokeFunction('convertToInteractive',\n",
              "                                                     [key], {});\n",
              "          if (!dataTable) return;\n",
              "\n",
              "          const docLinkHtml = 'Like what you see? Visit the ' +\n",
              "            '<a target=\"_blank\" href=https://colab.research.google.com/notebooks/data_table.ipynb>data table notebook</a>'\n",
              "            + ' to learn more about interactive tables.';\n",
              "          element.innerHTML = '';\n",
              "          dataTable['output_type'] = 'display_data';\n",
              "          await google.colab.output.renderOutput(dataTable, element);\n",
              "          const docLink = document.createElement('div');\n",
              "          docLink.innerHTML = docLinkHtml;\n",
              "          element.appendChild(docLink);\n",
              "        }\n",
              "      </script>\n",
              "    </div>\n",
              "  </div>\n",
              "  "
            ]
          },
          "metadata": {},
          "execution_count": 78
        }
      ]
    },
    {
      "cell_type": "markdown",
      "source": [
        "Note that it might be important to normalize our features, so that we do not give a stronger importance to a feature over the other. Also, let's see the correlation between our features:"
      ],
      "metadata": {
        "id": "uqjyRpmAOh1N"
      }
    },
    {
      "cell_type": "code",
      "source": [
        "corr_mat = df.corr( )\n",
        "\n",
        "corr_mat"
      ],
      "metadata": {
        "colab": {
          "base_uri": "https://localhost:8080/",
          "height": 552
        },
        "id": "_g0Sof2cN_ex",
        "outputId": "91ffae61-f745-476f-d613-36df497e36f5"
      },
      "execution_count": 79,
      "outputs": [
        {
          "output_type": "execute_result",
          "data": {
            "text/plain": [
              "                       Alcohol  Malic_Acid       Ash  Ash_Alcanity  Magnesium  \\\n",
              "Alcohol               1.000000    0.094397  0.211545     -0.310235   0.270798   \n",
              "Malic_Acid            0.094397    1.000000  0.164045      0.288500  -0.054575   \n",
              "Ash                   0.211545    0.164045  1.000000      0.443367   0.286587   \n",
              "Ash_Alcanity         -0.310235    0.288500  0.443367      1.000000  -0.083333   \n",
              "Magnesium             0.270798   -0.054575  0.286587     -0.083333   1.000000   \n",
              "Total_Phenols         0.289101   -0.335167  0.128980     -0.321113   0.214401   \n",
              "Flavanoids            0.236815   -0.411007  0.115077     -0.351370   0.195784   \n",
              "Nonflavanoid_Phenols -0.155929    0.292977  0.186230      0.361922  -0.256294   \n",
              "Proanthocyanins       0.136698   -0.220746  0.009652     -0.197327   0.236441   \n",
              "Color_Intensity       0.546364    0.248985  0.258887      0.018732   0.199950   \n",
              "Hue                  -0.071747   -0.561296 -0.074667     -0.273955   0.055398   \n",
              "OD280                 0.072343   -0.368710  0.003911     -0.276769   0.066004   \n",
              "Proline               0.643720   -0.192011  0.223626     -0.440597   0.393351   \n",
              "Customer_Segment     -0.328222    0.437776 -0.049643      0.517859  -0.209179   \n",
              "\n",
              "                      Total_Phenols  Flavanoids  Nonflavanoid_Phenols  \\\n",
              "Alcohol                    0.289101    0.236815             -0.155929   \n",
              "Malic_Acid                -0.335167   -0.411007              0.292977   \n",
              "Ash                        0.128980    0.115077              0.186230   \n",
              "Ash_Alcanity              -0.321113   -0.351370              0.361922   \n",
              "Magnesium                  0.214401    0.195784             -0.256294   \n",
              "Total_Phenols              1.000000    0.864564             -0.449935   \n",
              "Flavanoids                 0.864564    1.000000             -0.537900   \n",
              "Nonflavanoid_Phenols      -0.449935   -0.537900              1.000000   \n",
              "Proanthocyanins            0.612413    0.652692             -0.365845   \n",
              "Color_Intensity           -0.055136   -0.172379              0.139057   \n",
              "Hue                        0.433681    0.543479             -0.262640   \n",
              "OD280                      0.699949    0.787194             -0.503270   \n",
              "Proline                    0.498115    0.494193             -0.311385   \n",
              "Customer_Segment          -0.719163   -0.847498              0.489109   \n",
              "\n",
              "                      Proanthocyanins  Color_Intensity       Hue     OD280  \\\n",
              "Alcohol                      0.136698         0.546364 -0.071747  0.072343   \n",
              "Malic_Acid                  -0.220746         0.248985 -0.561296 -0.368710   \n",
              "Ash                          0.009652         0.258887 -0.074667  0.003911   \n",
              "Ash_Alcanity                -0.197327         0.018732 -0.273955 -0.276769   \n",
              "Magnesium                    0.236441         0.199950  0.055398  0.066004   \n",
              "Total_Phenols                0.612413        -0.055136  0.433681  0.699949   \n",
              "Flavanoids                   0.652692        -0.172379  0.543479  0.787194   \n",
              "Nonflavanoid_Phenols        -0.365845         0.139057 -0.262640 -0.503270   \n",
              "Proanthocyanins              1.000000        -0.025250  0.295544  0.519067   \n",
              "Color_Intensity             -0.025250         1.000000 -0.521813 -0.428815   \n",
              "Hue                          0.295544        -0.521813  1.000000  0.565468   \n",
              "OD280                        0.519067        -0.428815  0.565468  1.000000   \n",
              "Proline                      0.330417         0.316100  0.236183  0.312761   \n",
              "Customer_Segment            -0.499130         0.265668 -0.617369 -0.788230   \n",
              "\n",
              "                       Proline  Customer_Segment  \n",
              "Alcohol               0.643720         -0.328222  \n",
              "Malic_Acid           -0.192011          0.437776  \n",
              "Ash                   0.223626         -0.049643  \n",
              "Ash_Alcanity         -0.440597          0.517859  \n",
              "Magnesium             0.393351         -0.209179  \n",
              "Total_Phenols         0.498115         -0.719163  \n",
              "Flavanoids            0.494193         -0.847498  \n",
              "Nonflavanoid_Phenols -0.311385          0.489109  \n",
              "Proanthocyanins       0.330417         -0.499130  \n",
              "Color_Intensity       0.316100          0.265668  \n",
              "Hue                   0.236183         -0.617369  \n",
              "OD280                 0.312761         -0.788230  \n",
              "Proline               1.000000         -0.633717  \n",
              "Customer_Segment     -0.633717          1.000000  "
            ],
            "text/html": [
              "\n",
              "  <div id=\"df-10fc2f23-790a-47cf-abf7-7a2c13d17acc\">\n",
              "    <div class=\"colab-df-container\">\n",
              "      <div>\n",
              "<style scoped>\n",
              "    .dataframe tbody tr th:only-of-type {\n",
              "        vertical-align: middle;\n",
              "    }\n",
              "\n",
              "    .dataframe tbody tr th {\n",
              "        vertical-align: top;\n",
              "    }\n",
              "\n",
              "    .dataframe thead th {\n",
              "        text-align: right;\n",
              "    }\n",
              "</style>\n",
              "<table border=\"1\" class=\"dataframe\">\n",
              "  <thead>\n",
              "    <tr style=\"text-align: right;\">\n",
              "      <th></th>\n",
              "      <th>Alcohol</th>\n",
              "      <th>Malic_Acid</th>\n",
              "      <th>Ash</th>\n",
              "      <th>Ash_Alcanity</th>\n",
              "      <th>Magnesium</th>\n",
              "      <th>Total_Phenols</th>\n",
              "      <th>Flavanoids</th>\n",
              "      <th>Nonflavanoid_Phenols</th>\n",
              "      <th>Proanthocyanins</th>\n",
              "      <th>Color_Intensity</th>\n",
              "      <th>Hue</th>\n",
              "      <th>OD280</th>\n",
              "      <th>Proline</th>\n",
              "      <th>Customer_Segment</th>\n",
              "    </tr>\n",
              "  </thead>\n",
              "  <tbody>\n",
              "    <tr>\n",
              "      <th>Alcohol</th>\n",
              "      <td>1.000000</td>\n",
              "      <td>0.094397</td>\n",
              "      <td>0.211545</td>\n",
              "      <td>-0.310235</td>\n",
              "      <td>0.270798</td>\n",
              "      <td>0.289101</td>\n",
              "      <td>0.236815</td>\n",
              "      <td>-0.155929</td>\n",
              "      <td>0.136698</td>\n",
              "      <td>0.546364</td>\n",
              "      <td>-0.071747</td>\n",
              "      <td>0.072343</td>\n",
              "      <td>0.643720</td>\n",
              "      <td>-0.328222</td>\n",
              "    </tr>\n",
              "    <tr>\n",
              "      <th>Malic_Acid</th>\n",
              "      <td>0.094397</td>\n",
              "      <td>1.000000</td>\n",
              "      <td>0.164045</td>\n",
              "      <td>0.288500</td>\n",
              "      <td>-0.054575</td>\n",
              "      <td>-0.335167</td>\n",
              "      <td>-0.411007</td>\n",
              "      <td>0.292977</td>\n",
              "      <td>-0.220746</td>\n",
              "      <td>0.248985</td>\n",
              "      <td>-0.561296</td>\n",
              "      <td>-0.368710</td>\n",
              "      <td>-0.192011</td>\n",
              "      <td>0.437776</td>\n",
              "    </tr>\n",
              "    <tr>\n",
              "      <th>Ash</th>\n",
              "      <td>0.211545</td>\n",
              "      <td>0.164045</td>\n",
              "      <td>1.000000</td>\n",
              "      <td>0.443367</td>\n",
              "      <td>0.286587</td>\n",
              "      <td>0.128980</td>\n",
              "      <td>0.115077</td>\n",
              "      <td>0.186230</td>\n",
              "      <td>0.009652</td>\n",
              "      <td>0.258887</td>\n",
              "      <td>-0.074667</td>\n",
              "      <td>0.003911</td>\n",
              "      <td>0.223626</td>\n",
              "      <td>-0.049643</td>\n",
              "    </tr>\n",
              "    <tr>\n",
              "      <th>Ash_Alcanity</th>\n",
              "      <td>-0.310235</td>\n",
              "      <td>0.288500</td>\n",
              "      <td>0.443367</td>\n",
              "      <td>1.000000</td>\n",
              "      <td>-0.083333</td>\n",
              "      <td>-0.321113</td>\n",
              "      <td>-0.351370</td>\n",
              "      <td>0.361922</td>\n",
              "      <td>-0.197327</td>\n",
              "      <td>0.018732</td>\n",
              "      <td>-0.273955</td>\n",
              "      <td>-0.276769</td>\n",
              "      <td>-0.440597</td>\n",
              "      <td>0.517859</td>\n",
              "    </tr>\n",
              "    <tr>\n",
              "      <th>Magnesium</th>\n",
              "      <td>0.270798</td>\n",
              "      <td>-0.054575</td>\n",
              "      <td>0.286587</td>\n",
              "      <td>-0.083333</td>\n",
              "      <td>1.000000</td>\n",
              "      <td>0.214401</td>\n",
              "      <td>0.195784</td>\n",
              "      <td>-0.256294</td>\n",
              "      <td>0.236441</td>\n",
              "      <td>0.199950</td>\n",
              "      <td>0.055398</td>\n",
              "      <td>0.066004</td>\n",
              "      <td>0.393351</td>\n",
              "      <td>-0.209179</td>\n",
              "    </tr>\n",
              "    <tr>\n",
              "      <th>Total_Phenols</th>\n",
              "      <td>0.289101</td>\n",
              "      <td>-0.335167</td>\n",
              "      <td>0.128980</td>\n",
              "      <td>-0.321113</td>\n",
              "      <td>0.214401</td>\n",
              "      <td>1.000000</td>\n",
              "      <td>0.864564</td>\n",
              "      <td>-0.449935</td>\n",
              "      <td>0.612413</td>\n",
              "      <td>-0.055136</td>\n",
              "      <td>0.433681</td>\n",
              "      <td>0.699949</td>\n",
              "      <td>0.498115</td>\n",
              "      <td>-0.719163</td>\n",
              "    </tr>\n",
              "    <tr>\n",
              "      <th>Flavanoids</th>\n",
              "      <td>0.236815</td>\n",
              "      <td>-0.411007</td>\n",
              "      <td>0.115077</td>\n",
              "      <td>-0.351370</td>\n",
              "      <td>0.195784</td>\n",
              "      <td>0.864564</td>\n",
              "      <td>1.000000</td>\n",
              "      <td>-0.537900</td>\n",
              "      <td>0.652692</td>\n",
              "      <td>-0.172379</td>\n",
              "      <td>0.543479</td>\n",
              "      <td>0.787194</td>\n",
              "      <td>0.494193</td>\n",
              "      <td>-0.847498</td>\n",
              "    </tr>\n",
              "    <tr>\n",
              "      <th>Nonflavanoid_Phenols</th>\n",
              "      <td>-0.155929</td>\n",
              "      <td>0.292977</td>\n",
              "      <td>0.186230</td>\n",
              "      <td>0.361922</td>\n",
              "      <td>-0.256294</td>\n",
              "      <td>-0.449935</td>\n",
              "      <td>-0.537900</td>\n",
              "      <td>1.000000</td>\n",
              "      <td>-0.365845</td>\n",
              "      <td>0.139057</td>\n",
              "      <td>-0.262640</td>\n",
              "      <td>-0.503270</td>\n",
              "      <td>-0.311385</td>\n",
              "      <td>0.489109</td>\n",
              "    </tr>\n",
              "    <tr>\n",
              "      <th>Proanthocyanins</th>\n",
              "      <td>0.136698</td>\n",
              "      <td>-0.220746</td>\n",
              "      <td>0.009652</td>\n",
              "      <td>-0.197327</td>\n",
              "      <td>0.236441</td>\n",
              "      <td>0.612413</td>\n",
              "      <td>0.652692</td>\n",
              "      <td>-0.365845</td>\n",
              "      <td>1.000000</td>\n",
              "      <td>-0.025250</td>\n",
              "      <td>0.295544</td>\n",
              "      <td>0.519067</td>\n",
              "      <td>0.330417</td>\n",
              "      <td>-0.499130</td>\n",
              "    </tr>\n",
              "    <tr>\n",
              "      <th>Color_Intensity</th>\n",
              "      <td>0.546364</td>\n",
              "      <td>0.248985</td>\n",
              "      <td>0.258887</td>\n",
              "      <td>0.018732</td>\n",
              "      <td>0.199950</td>\n",
              "      <td>-0.055136</td>\n",
              "      <td>-0.172379</td>\n",
              "      <td>0.139057</td>\n",
              "      <td>-0.025250</td>\n",
              "      <td>1.000000</td>\n",
              "      <td>-0.521813</td>\n",
              "      <td>-0.428815</td>\n",
              "      <td>0.316100</td>\n",
              "      <td>0.265668</td>\n",
              "    </tr>\n",
              "    <tr>\n",
              "      <th>Hue</th>\n",
              "      <td>-0.071747</td>\n",
              "      <td>-0.561296</td>\n",
              "      <td>-0.074667</td>\n",
              "      <td>-0.273955</td>\n",
              "      <td>0.055398</td>\n",
              "      <td>0.433681</td>\n",
              "      <td>0.543479</td>\n",
              "      <td>-0.262640</td>\n",
              "      <td>0.295544</td>\n",
              "      <td>-0.521813</td>\n",
              "      <td>1.000000</td>\n",
              "      <td>0.565468</td>\n",
              "      <td>0.236183</td>\n",
              "      <td>-0.617369</td>\n",
              "    </tr>\n",
              "    <tr>\n",
              "      <th>OD280</th>\n",
              "      <td>0.072343</td>\n",
              "      <td>-0.368710</td>\n",
              "      <td>0.003911</td>\n",
              "      <td>-0.276769</td>\n",
              "      <td>0.066004</td>\n",
              "      <td>0.699949</td>\n",
              "      <td>0.787194</td>\n",
              "      <td>-0.503270</td>\n",
              "      <td>0.519067</td>\n",
              "      <td>-0.428815</td>\n",
              "      <td>0.565468</td>\n",
              "      <td>1.000000</td>\n",
              "      <td>0.312761</td>\n",
              "      <td>-0.788230</td>\n",
              "    </tr>\n",
              "    <tr>\n",
              "      <th>Proline</th>\n",
              "      <td>0.643720</td>\n",
              "      <td>-0.192011</td>\n",
              "      <td>0.223626</td>\n",
              "      <td>-0.440597</td>\n",
              "      <td>0.393351</td>\n",
              "      <td>0.498115</td>\n",
              "      <td>0.494193</td>\n",
              "      <td>-0.311385</td>\n",
              "      <td>0.330417</td>\n",
              "      <td>0.316100</td>\n",
              "      <td>0.236183</td>\n",
              "      <td>0.312761</td>\n",
              "      <td>1.000000</td>\n",
              "      <td>-0.633717</td>\n",
              "    </tr>\n",
              "    <tr>\n",
              "      <th>Customer_Segment</th>\n",
              "      <td>-0.328222</td>\n",
              "      <td>0.437776</td>\n",
              "      <td>-0.049643</td>\n",
              "      <td>0.517859</td>\n",
              "      <td>-0.209179</td>\n",
              "      <td>-0.719163</td>\n",
              "      <td>-0.847498</td>\n",
              "      <td>0.489109</td>\n",
              "      <td>-0.499130</td>\n",
              "      <td>0.265668</td>\n",
              "      <td>-0.617369</td>\n",
              "      <td>-0.788230</td>\n",
              "      <td>-0.633717</td>\n",
              "      <td>1.000000</td>\n",
              "    </tr>\n",
              "  </tbody>\n",
              "</table>\n",
              "</div>\n",
              "      <button class=\"colab-df-convert\" onclick=\"convertToInteractive('df-10fc2f23-790a-47cf-abf7-7a2c13d17acc')\"\n",
              "              title=\"Convert this dataframe to an interactive table.\"\n",
              "              style=\"display:none;\">\n",
              "        \n",
              "  <svg xmlns=\"http://www.w3.org/2000/svg\" height=\"24px\"viewBox=\"0 0 24 24\"\n",
              "       width=\"24px\">\n",
              "    <path d=\"M0 0h24v24H0V0z\" fill=\"none\"/>\n",
              "    <path d=\"M18.56 5.44l.94 2.06.94-2.06 2.06-.94-2.06-.94-.94-2.06-.94 2.06-2.06.94zm-11 1L8.5 8.5l.94-2.06 2.06-.94-2.06-.94L8.5 2.5l-.94 2.06-2.06.94zm10 10l.94 2.06.94-2.06 2.06-.94-2.06-.94-.94-2.06-.94 2.06-2.06.94z\"/><path d=\"M17.41 7.96l-1.37-1.37c-.4-.4-.92-.59-1.43-.59-.52 0-1.04.2-1.43.59L10.3 9.45l-7.72 7.72c-.78.78-.78 2.05 0 2.83L4 21.41c.39.39.9.59 1.41.59.51 0 1.02-.2 1.41-.59l7.78-7.78 2.81-2.81c.8-.78.8-2.07 0-2.86zM5.41 20L4 18.59l7.72-7.72 1.47 1.35L5.41 20z\"/>\n",
              "  </svg>\n",
              "      </button>\n",
              "      \n",
              "  <style>\n",
              "    .colab-df-container {\n",
              "      display:flex;\n",
              "      flex-wrap:wrap;\n",
              "      gap: 12px;\n",
              "    }\n",
              "\n",
              "    .colab-df-convert {\n",
              "      background-color: #E8F0FE;\n",
              "      border: none;\n",
              "      border-radius: 50%;\n",
              "      cursor: pointer;\n",
              "      display: none;\n",
              "      fill: #1967D2;\n",
              "      height: 32px;\n",
              "      padding: 0 0 0 0;\n",
              "      width: 32px;\n",
              "    }\n",
              "\n",
              "    .colab-df-convert:hover {\n",
              "      background-color: #E2EBFA;\n",
              "      box-shadow: 0px 1px 2px rgba(60, 64, 67, 0.3), 0px 1px 3px 1px rgba(60, 64, 67, 0.15);\n",
              "      fill: #174EA6;\n",
              "    }\n",
              "\n",
              "    [theme=dark] .colab-df-convert {\n",
              "      background-color: #3B4455;\n",
              "      fill: #D2E3FC;\n",
              "    }\n",
              "\n",
              "    [theme=dark] .colab-df-convert:hover {\n",
              "      background-color: #434B5C;\n",
              "      box-shadow: 0px 1px 3px 1px rgba(0, 0, 0, 0.15);\n",
              "      filter: drop-shadow(0px 1px 2px rgba(0, 0, 0, 0.3));\n",
              "      fill: #FFFFFF;\n",
              "    }\n",
              "  </style>\n",
              "\n",
              "      <script>\n",
              "        const buttonEl =\n",
              "          document.querySelector('#df-10fc2f23-790a-47cf-abf7-7a2c13d17acc button.colab-df-convert');\n",
              "        buttonEl.style.display =\n",
              "          google.colab.kernel.accessAllowed ? 'block' : 'none';\n",
              "\n",
              "        async function convertToInteractive(key) {\n",
              "          const element = document.querySelector('#df-10fc2f23-790a-47cf-abf7-7a2c13d17acc');\n",
              "          const dataTable =\n",
              "            await google.colab.kernel.invokeFunction('convertToInteractive',\n",
              "                                                     [key], {});\n",
              "          if (!dataTable) return;\n",
              "\n",
              "          const docLinkHtml = 'Like what you see? Visit the ' +\n",
              "            '<a target=\"_blank\" href=https://colab.research.google.com/notebooks/data_table.ipynb>data table notebook</a>'\n",
              "            + ' to learn more about interactive tables.';\n",
              "          element.innerHTML = '';\n",
              "          dataTable['output_type'] = 'display_data';\n",
              "          await google.colab.output.renderOutput(dataTable, element);\n",
              "          const docLink = document.createElement('div');\n",
              "          docLink.innerHTML = docLinkHtml;\n",
              "          element.appendChild(docLink);\n",
              "        }\n",
              "      </script>\n",
              "    </div>\n",
              "  </div>\n",
              "  "
            ]
          },
          "metadata": {},
          "execution_count": 79
        }
      ]
    },
    {
      "cell_type": "markdown",
      "source": [
        "To improve our visualization, we will use the biokit library to see the correlation between features:"
      ],
      "metadata": {
        "id": "MkNUyH68PYUO"
      }
    },
    {
      "cell_type": "code",
      "source": [
        "corr_graf = corrplot.Corrplot(corr_mat)\n",
        "corr_graf.plot(upper = 'ellipse')\n",
        "fig = plt.gcf( )\n",
        "fig.set_size_inches(14, 8)"
      ],
      "metadata": {
        "colab": {
          "base_uri": "https://localhost:8080/",
          "height": 484
        },
        "id": "7oEPKy4pPW22",
        "outputId": "2ca85d09-3e4f-41ed-9d11-105e4b1363d6"
      },
      "execution_count": 80,
      "outputs": [
        {
          "output_type": "display_data",
          "data": {
            "text/plain": [
              "<Figure size 1008x576 with 2 Axes>"
            ],
            "image/png": "[encoded data removed]"
          },
          "metadata": {}
        }
      ]
    },
    {
      "cell_type": "markdown",
      "source": [
        "Thus, here, we can see more clear the positive (blue) and negative (red) correlation. The closer to a line, the stronger the correlation. For instance, Total_Phenols has a very strong correlation with Flavanoids. Also, Customer_Segment has a very strong negative correlation with Flavanoids, and so on."
      ],
      "metadata": {
        "id": "-6qd3yPFQLm9"
      }
    },
    {
      "cell_type": "markdown",
      "source": [
        "Finally, let's normalize our data using SKLearn:"
      ],
      "metadata": {
        "id": "92i4bULqQ2GK"
      }
    },
    {
      "cell_type": "code",
      "source": [
        "scaler = MinMaxScaler( )\n",
        "df_0 = scaler.fit_transform(df)"
      ],
      "metadata": {
        "id": "h9Fdza0XP2Ix"
      },
      "execution_count": 81,
      "outputs": []
    },
    {
      "cell_type": "markdown",
      "source": [
        "Here, we used a MinMaxScaler, which normalizes our data between 0 and 1:"
      ],
      "metadata": {
        "id": "UahZaHPPRbOt"
      }
    },
    {
      "cell_type": "code",
      "source": [
        "df_0"
      ],
      "metadata": {
        "colab": {
          "base_uri": "https://localhost:8080/"
        },
        "id": "2s4lEO2TRae6",
        "outputId": "6ff9b3e1-a268-4bb0-e8d8-065f25906e8d"
      },
      "execution_count": 82,
      "outputs": [
        {
          "output_type": "execute_result",
          "data": {
            "text/plain": [
              "array([[0.84210526, 0.1916996 , 0.57219251, ..., 0.97069597, 0.56134094,\n",
              "        0.        ],\n",
              "       [0.57105263, 0.2055336 , 0.4171123 , ..., 0.78021978, 0.55064194,\n",
              "        0.        ],\n",
              "       [0.56052632, 0.3201581 , 0.70053476, ..., 0.6959707 , 0.64693295,\n",
              "        0.        ],\n",
              "       ...,\n",
              "       [0.58947368, 0.69960474, 0.48128342, ..., 0.10622711, 0.39728959,\n",
              "        1.        ],\n",
              "       [0.56315789, 0.36561265, 0.54010695, ..., 0.12820513, 0.40085592,\n",
              "        1.        ],\n",
              "       [0.81578947, 0.66403162, 0.73796791, ..., 0.12087912, 0.20114123,\n",
              "        1.        ]])"
            ]
          },
          "metadata": {},
          "execution_count": 82
        }
      ]
    },
    {
      "cell_type": "markdown",
      "source": [
        "Note that, now, our dataframe was transformed into an array of lists. We can turn it back to a dataframe using:"
      ],
      "metadata": {
        "id": "3sQo8CLLRgK2"
      }
    },
    {
      "cell_type": "code",
      "source": [
        "df_0 = pd.DataFrame(df_0, columns = df.columns)\n",
        "df_0"
      ],
      "metadata": {
        "colab": {
          "base_uri": "https://localhost:8080/",
          "height": 488
        },
        "id": "6uC4-d3ERfPM",
        "outputId": "59f30f83-ad70-461b-b933-ebd2365ed170"
      },
      "execution_count": 83,
      "outputs": [
        {
          "output_type": "execute_result",
          "data": {
            "text/plain": [
              "      Alcohol  Malic_Acid       Ash  Ash_Alcanity  Magnesium  Total_Phenols  \\\n",
              "0    0.842105    0.191700  0.572193      0.257732   0.619565       0.627586   \n",
              "1    0.571053    0.205534  0.417112      0.030928   0.326087       0.575862   \n",
              "2    0.560526    0.320158  0.700535      0.412371   0.336957       0.627586   \n",
              "3    0.878947    0.239130  0.609626      0.319588   0.467391       0.989655   \n",
              "4    0.581579    0.365613  0.807487      0.536082   0.521739       0.627586   \n",
              "..        ...         ...       ...           ...        ...            ...   \n",
              "173  0.705263    0.970356  0.582888      0.510309   0.271739       0.241379   \n",
              "174  0.623684    0.626482  0.598930      0.639175   0.347826       0.282759   \n",
              "175  0.589474    0.699605  0.481283      0.484536   0.543478       0.210345   \n",
              "176  0.563158    0.365613  0.540107      0.484536   0.543478       0.231034   \n",
              "177  0.815789    0.664032  0.737968      0.716495   0.282609       0.368966   \n",
              "\n",
              "     Flavanoids  Nonflavanoid_Phenols  Proanthocyanins  Color_Intensity  \\\n",
              "0      0.573840              0.283019         0.593060         0.372014   \n",
              "1      0.510549              0.245283         0.274448         0.264505   \n",
              "2      0.611814              0.320755         0.757098         0.375427   \n",
              "3      0.664557              0.207547         0.558360         0.556314   \n",
              "4      0.495781              0.490566         0.444795         0.259386   \n",
              "..          ...                   ...              ...              ...   \n",
              "173    0.056962              0.735849         0.205047         0.547782   \n",
              "174    0.086498              0.566038         0.315457         0.513652   \n",
              "175    0.073840              0.566038         0.296530         0.761092   \n",
              "176    0.071730              0.754717         0.331230         0.684300   \n",
              "177    0.088608              0.811321         0.296530         0.675768   \n",
              "\n",
              "          Hue     OD280   Proline  Customer_Segment  \n",
              "0    0.455285  0.970696  0.561341               0.0  \n",
              "1    0.463415  0.780220  0.550642               0.0  \n",
              "2    0.447154  0.695971  0.646933               0.0  \n",
              "3    0.308943  0.798535  0.857347               0.0  \n",
              "4    0.455285  0.608059  0.325963               0.0  \n",
              "..        ...       ...       ...               ...  \n",
              "173  0.130081  0.172161  0.329529               1.0  \n",
              "174  0.178862  0.106227  0.336662               1.0  \n",
              "175  0.089431  0.106227  0.397290               1.0  \n",
              "176  0.097561  0.128205  0.400856               1.0  \n",
              "177  0.105691  0.120879  0.201141               1.0  \n",
              "\n",
              "[178 rows x 14 columns]"
            ],
            "text/html": [
              "\n",
              "  <div id=\"df-7f1e66eb-6c58-4c74-b94a-cb32b96d8379\">\n",
              "    <div class=\"colab-df-container\">\n",
              "      <div>\n",
              "<style scoped>\n",
              "    .dataframe tbody tr th:only-of-type {\n",
              "        vertical-align: middle;\n",
              "    }\n",
              "\n",
              "    .dataframe tbody tr th {\n",
              "        vertical-align: top;\n",
              "    }\n",
              "\n",
              "    .dataframe thead th {\n",
              "        text-align: right;\n",
              "    }\n",
              "</style>\n",
              "<table border=\"1\" class=\"dataframe\">\n",
              "  <thead>\n",
              "    <tr style=\"text-align: right;\">\n",
              "      <th></th>\n",
              "      <th>Alcohol</th>\n",
              "      <th>Malic_Acid</th>\n",
              "      <th>Ash</th>\n",
              "      <th>Ash_Alcanity</th>\n",
              "      <th>Magnesium</th>\n",
              "      <th>Total_Phenols</th>\n",
              "      <th>Flavanoids</th>\n",
              "      <th>Nonflavanoid_Phenols</th>\n",
              "      <th>Proanthocyanins</th>\n",
              "      <th>Color_Intensity</th>\n",
              "      <th>Hue</th>\n",
              "      <th>OD280</th>\n",
              "      <th>Proline</th>\n",
              "      <th>Customer_Segment</th>\n",
              "    </tr>\n",
              "  </thead>\n",
              "  <tbody>\n",
              "    <tr>\n",
              "      <th>0</th>\n",
              "      <td>0.842105</td>\n",
              "      <td>0.191700</td>\n",
              "      <td>0.572193</td>\n",
              "      <td>0.257732</td>\n",
              "      <td>0.619565</td>\n",
              "      <td>0.627586</td>\n",
              "      <td>0.573840</td>\n",
              "      <td>0.283019</td>\n",
              "      <td>0.593060</td>\n",
              "      <td>0.372014</td>\n",
              "      <td>0.455285</td>\n",
              "      <td>0.970696</td>\n",
              "      <td>0.561341</td>\n",
              "      <td>0.0</td>\n",
              "    </tr>\n",
              "    <tr>\n",
              "      <th>1</th>\n",
              "      <td>0.571053</td>\n",
              "      <td>0.205534</td>\n",
              "      <td>0.417112</td>\n",
              "      <td>0.030928</td>\n",
              "      <td>0.326087</td>\n",
              "      <td>0.575862</td>\n",
              "      <td>0.510549</td>\n",
              "      <td>0.245283</td>\n",
              "      <td>0.274448</td>\n",
              "      <td>0.264505</td>\n",
              "      <td>0.463415</td>\n",
              "      <td>0.780220</td>\n",
              "      <td>0.550642</td>\n",
              "      <td>0.0</td>\n",
              "    </tr>\n",
              "    <tr>\n",
              "      <th>2</th>\n",
              "      <td>0.560526</td>\n",
              "      <td>0.320158</td>\n",
              "      <td>0.700535</td>\n",
              "      <td>0.412371</td>\n",
              "      <td>0.336957</td>\n",
              "      <td>0.627586</td>\n",
              "      <td>0.611814</td>\n",
              "      <td>0.320755</td>\n",
              "      <td>0.757098</td>\n",
              "      <td>0.375427</td>\n",
              "      <td>0.447154</td>\n",
              "      <td>0.695971</td>\n",
              "      <td>0.646933</td>\n",
              "      <td>0.0</td>\n",
              "    </tr>\n",
              "    <tr>\n",
              "      <th>3</th>\n",
              "      <td>0.878947</td>\n",
              "      <td>0.239130</td>\n",
              "      <td>0.609626</td>\n",
              "      <td>0.319588</td>\n",
              "      <td>0.467391</td>\n",
              "      <td>0.989655</td>\n",
              "      <td>0.664557</td>\n",
              "      <td>0.207547</td>\n",
              "      <td>0.558360</td>\n",
              "      <td>0.556314</td>\n",
              "      <td>0.308943</td>\n",
              "      <td>0.798535</td>\n",
              "      <td>0.857347</td>\n",
              "      <td>0.0</td>\n",
              "    </tr>\n",
              "    <tr>\n",
              "      <th>4</th>\n",
              "      <td>0.581579</td>\n",
              "      <td>0.365613</td>\n",
              "      <td>0.807487</td>\n",
              "      <td>0.536082</td>\n",
              "      <td>0.521739</td>\n",
              "      <td>0.627586</td>\n",
              "      <td>0.495781</td>\n",
              "      <td>0.490566</td>\n",
              "      <td>0.444795</td>\n",
              "      <td>0.259386</td>\n",
              "      <td>0.455285</td>\n",
              "      <td>0.608059</td>\n",
              "      <td>0.325963</td>\n",
              "      <td>0.0</td>\n",
              "    </tr>\n",
              "    <tr>\n",
              "      <th>...</th>\n",
              "      <td>...</td>\n",
              "      <td>...</td>\n",
              "      <td>...</td>\n",
              "      <td>...</td>\n",
              "      <td>...</td>\n",
              "      <td>...</td>\n",
              "      <td>...</td>\n",
              "      <td>...</td>\n",
              "      <td>...</td>\n",
              "      <td>...</td>\n",
              "      <td>...</td>\n",
              "      <td>...</td>\n",
              "      <td>...</td>\n",
              "      <td>...</td>\n",
              "    </tr>\n",
              "    <tr>\n",
              "      <th>173</th>\n",
              "      <td>0.705263</td>\n",
              "      <td>0.970356</td>\n",
              "      <td>0.582888</td>\n",
              "      <td>0.510309</td>\n",
              "      <td>0.271739</td>\n",
              "      <td>0.241379</td>\n",
              "      <td>0.056962</td>\n",
              "      <td>0.735849</td>\n",
              "      <td>0.205047</td>\n",
              "      <td>0.547782</td>\n",
              "      <td>0.130081</td>\n",
              "      <td>0.172161</td>\n",
              "      <td>0.329529</td>\n",
              "      <td>1.0</td>\n",
              "    </tr>\n",
              "    <tr>\n",
              "      <th>174</th>\n",
              "      <td>0.623684</td>\n",
              "      <td>0.626482</td>\n",
              "      <td>0.598930</td>\n",
              "      <td>0.639175</td>\n",
              "      <td>0.347826</td>\n",
              "      <td>0.282759</td>\n",
              "      <td>0.086498</td>\n",
              "      <td>0.566038</td>\n",
              "      <td>0.315457</td>\n",
              "      <td>0.513652</td>\n",
              "      <td>0.178862</td>\n",
              "      <td>0.106227</td>\n",
              "      <td>0.336662</td>\n",
              "      <td>1.0</td>\n",
              "    </tr>\n",
              "    <tr>\n",
              "      <th>175</th>\n",
              "      <td>0.589474</td>\n",
              "      <td>0.699605</td>\n",
              "      <td>0.481283</td>\n",
              "      <td>0.484536</td>\n",
              "      <td>0.543478</td>\n",
              "      <td>0.210345</td>\n",
              "      <td>0.073840</td>\n",
              "      <td>0.566038</td>\n",
              "      <td>0.296530</td>\n",
              "      <td>0.761092</td>\n",
              "      <td>0.089431</td>\n",
              "      <td>0.106227</td>\n",
              "      <td>0.397290</td>\n",
              "      <td>1.0</td>\n",
              "    </tr>\n",
              "    <tr>\n",
              "      <th>176</th>\n",
              "      <td>0.563158</td>\n",
              "      <td>0.365613</td>\n",
              "      <td>0.540107</td>\n",
              "      <td>0.484536</td>\n",
              "      <td>0.543478</td>\n",
              "      <td>0.231034</td>\n",
              "      <td>0.071730</td>\n",
              "      <td>0.754717</td>\n",
              "      <td>0.331230</td>\n",
              "      <td>0.684300</td>\n",
              "      <td>0.097561</td>\n",
              "      <td>0.128205</td>\n",
              "      <td>0.400856</td>\n",
              "      <td>1.0</td>\n",
              "    </tr>\n",
              "    <tr>\n",
              "      <th>177</th>\n",
              "      <td>0.815789</td>\n",
              "      <td>0.664032</td>\n",
              "      <td>0.737968</td>\n",
              "      <td>0.716495</td>\n",
              "      <td>0.282609</td>\n",
              "      <td>0.368966</td>\n",
              "      <td>0.088608</td>\n",
              "      <td>0.811321</td>\n",
              "      <td>0.296530</td>\n",
              "      <td>0.675768</td>\n",
              "      <td>0.105691</td>\n",
              "      <td>0.120879</td>\n",
              "      <td>0.201141</td>\n",
              "      <td>1.0</td>\n",
              "    </tr>\n",
              "  </tbody>\n",
              "</table>\n",
              "<p>178 rows × 14 columns</p>\n",
              "</div>\n",
              "      <button class=\"colab-df-convert\" onclick=\"convertToInteractive('df-7f1e66eb-6c58-4c74-b94a-cb32b96d8379')\"\n",
              "              title=\"Convert this dataframe to an interactive table.\"\n",
              "              style=\"display:none;\">\n",
              "        \n",
              "  <svg xmlns=\"http://www.w3.org/2000/svg\" height=\"24px\"viewBox=\"0 0 24 24\"\n",
              "       width=\"24px\">\n",
              "    <path d=\"M0 0h24v24H0V0z\" fill=\"none\"/>\n",
              "    <path d=\"M18.56 5.44l.94 2.06.94-2.06 2.06-.94-2.06-.94-.94-2.06-.94 2.06-2.06.94zm-11 1L8.5 8.5l.94-2.06 2.06-.94-2.06-.94L8.5 2.5l-.94 2.06-2.06.94zm10 10l.94 2.06.94-2.06 2.06-.94-2.06-.94-.94-2.06-.94 2.06-2.06.94z\"/><path d=\"M17.41 7.96l-1.37-1.37c-.4-.4-.92-.59-1.43-.59-.52 0-1.04.2-1.43.59L10.3 9.45l-7.72 7.72c-.78.78-.78 2.05 0 2.83L4 21.41c.39.39.9.59 1.41.59.51 0 1.02-.2 1.41-.59l7.78-7.78 2.81-2.81c.8-.78.8-2.07 0-2.86zM5.41 20L4 18.59l7.72-7.72 1.47 1.35L5.41 20z\"/>\n",
              "  </svg>\n",
              "      </button>\n",
              "      \n",
              "  <style>\n",
              "    .colab-df-container {\n",
              "      display:flex;\n",
              "      flex-wrap:wrap;\n",
              "      gap: 12px;\n",
              "    }\n",
              "\n",
              "    .colab-df-convert {\n",
              "      background-color: #E8F0FE;\n",
              "      border: none;\n",
              "      border-radius: 50%;\n",
              "      cursor: pointer;\n",
              "      display: none;\n",
              "      fill: #1967D2;\n",
              "      height: 32px;\n",
              "      padding: 0 0 0 0;\n",
              "      width: 32px;\n",
              "    }\n",
              "\n",
              "    .colab-df-convert:hover {\n",
              "      background-color: #E2EBFA;\n",
              "      box-shadow: 0px 1px 2px rgba(60, 64, 67, 0.3), 0px 1px 3px 1px rgba(60, 64, 67, 0.15);\n",
              "      fill: #174EA6;\n",
              "    }\n",
              "\n",
              "    [theme=dark] .colab-df-convert {\n",
              "      background-color: #3B4455;\n",
              "      fill: #D2E3FC;\n",
              "    }\n",
              "\n",
              "    [theme=dark] .colab-df-convert:hover {\n",
              "      background-color: #434B5C;\n",
              "      box-shadow: 0px 1px 3px 1px rgba(0, 0, 0, 0.15);\n",
              "      filter: drop-shadow(0px 1px 2px rgba(0, 0, 0, 0.3));\n",
              "      fill: #FFFFFF;\n",
              "    }\n",
              "  </style>\n",
              "\n",
              "      <script>\n",
              "        const buttonEl =\n",
              "          document.querySelector('#df-7f1e66eb-6c58-4c74-b94a-cb32b96d8379 button.colab-df-convert');\n",
              "        buttonEl.style.display =\n",
              "          google.colab.kernel.accessAllowed ? 'block' : 'none';\n",
              "\n",
              "        async function convertToInteractive(key) {\n",
              "          const element = document.querySelector('#df-7f1e66eb-6c58-4c74-b94a-cb32b96d8379');\n",
              "          const dataTable =\n",
              "            await google.colab.kernel.invokeFunction('convertToInteractive',\n",
              "                                                     [key], {});\n",
              "          if (!dataTable) return;\n",
              "\n",
              "          const docLinkHtml = 'Like what you see? Visit the ' +\n",
              "            '<a target=\"_blank\" href=https://colab.research.google.com/notebooks/data_table.ipynb>data table notebook</a>'\n",
              "            + ' to learn more about interactive tables.';\n",
              "          element.innerHTML = '';\n",
              "          dataTable['output_type'] = 'display_data';\n",
              "          await google.colab.output.renderOutput(dataTable, element);\n",
              "          const docLink = document.createElement('div');\n",
              "          docLink.innerHTML = docLinkHtml;\n",
              "          element.appendChild(docLink);\n",
              "        }\n",
              "      </script>\n",
              "    </div>\n",
              "  </div>\n",
              "  "
            ]
          },
          "metadata": {},
          "execution_count": 83
        }
      ]
    },
    {
      "cell_type": "markdown",
      "source": [
        "Nice! Now, let's check if the Min-Max Scaler worked:"
      ],
      "metadata": {
        "id": "1bW2OdSJRq9R"
      }
    },
    {
      "cell_type": "code",
      "source": [
        "df_0.describe( )"
      ],
      "metadata": {
        "colab": {
          "base_uri": "https://localhost:8080/",
          "height": 364
        },
        "id": "yfKlRnDcRpZk",
        "outputId": "1f062520-15e0-4b9c-d6eb-20e196d8baf3"
      },
      "execution_count": 84,
      "outputs": [
        {
          "output_type": "execute_result",
          "data": {
            "text/plain": [
              "          Alcohol  Malic_Acid         Ash  Ash_Alcanity   Magnesium  \\\n",
              "count  178.000000  178.000000  178.000000    178.000000  178.000000   \n",
              "mean     0.518584    0.315484    0.538244      0.458502    0.323278   \n",
              "std      0.213639    0.220780    0.146708      0.172142    0.155244   \n",
              "min      0.000000    0.000000    0.000000      0.000000    0.000000   \n",
              "25%      0.350658    0.170455    0.454545      0.340206    0.195652   \n",
              "50%      0.531579    0.222332    0.534759      0.458763    0.304348   \n",
              "75%      0.696711    0.462945    0.640374      0.561856    0.402174   \n",
              "max      1.000000    1.000000    1.000000      1.000000    1.000000   \n",
              "\n",
              "       Total_Phenols  Flavanoids  Nonflavanoid_Phenols  Proanthocyanins  \\\n",
              "count     178.000000  178.000000            178.000000       178.000000   \n",
              "mean        0.453487    0.356386              0.437460         0.372523   \n",
              "std         0.215811    0.210730              0.234818         0.180555   \n",
              "min         0.000000    0.000000              0.000000         0.000000   \n",
              "25%         0.262931    0.182489              0.264151         0.264984   \n",
              "50%         0.474138    0.378692              0.396226         0.361199   \n",
              "75%         0.627586    0.534810              0.580189         0.485804   \n",
              "max         1.000000    1.000000              1.000000         1.000000   \n",
              "\n",
              "       Color_Intensity         Hue       OD280     Proline  Customer_Segment  \n",
              "count       178.000000  178.000000  178.000000  178.000000        178.000000  \n",
              "mean          0.322363    0.388170    0.491460    0.334446          0.469101  \n",
              "std           0.197806    0.185831    0.260070    0.224613          0.387517  \n",
              "min           0.000000    0.000000    0.000000    0.000000          0.000000  \n",
              "25%           0.165529    0.245935    0.244505    0.158702          0.000000  \n",
              "50%           0.290956    0.394309    0.553114    0.282097          0.500000  \n",
              "75%           0.419795    0.520325    0.695971    0.504280          1.000000  \n",
              "max           1.000000    1.000000    1.000000    1.000000          1.000000  "
            ],
            "text/html": [
              "\n",
              "  <div id=\"df-d706e822-177d-4ea9-ae47-eba1bdf8ae7a\">\n",
              "    <div class=\"colab-df-container\">\n",
              "      <div>\n",
              "<style scoped>\n",
              "    .dataframe tbody tr th:only-of-type {\n",
              "        vertical-align: middle;\n",
              "    }\n",
              "\n",
              "    .dataframe tbody tr th {\n",
              "        vertical-align: top;\n",
              "    }\n",
              "\n",
              "    .dataframe thead th {\n",
              "        text-align: right;\n",
              "    }\n",
              "</style>\n",
              "<table border=\"1\" class=\"dataframe\">\n",
              "  <thead>\n",
              "    <tr style=\"text-align: right;\">\n",
              "      <th></th>\n",
              "      <th>Alcohol</th>\n",
              "      <th>Malic_Acid</th>\n",
              "      <th>Ash</th>\n",
              "      <th>Ash_Alcanity</th>\n",
              "      <th>Magnesium</th>\n",
              "      <th>Total_Phenols</th>\n",
              "      <th>Flavanoids</th>\n",
              "      <th>Nonflavanoid_Phenols</th>\n",
              "      <th>Proanthocyanins</th>\n",
              "      <th>Color_Intensity</th>\n",
              "      <th>Hue</th>\n",
              "      <th>OD280</th>\n",
              "      <th>Proline</th>\n",
              "      <th>Customer_Segment</th>\n",
              "    </tr>\n",
              "  </thead>\n",
              "  <tbody>\n",
              "    <tr>\n",
              "      <th>count</th>\n",
              "      <td>178.000000</td>\n",
              "      <td>178.000000</td>\n",
              "      <td>178.000000</td>\n",
              "      <td>178.000000</td>\n",
              "      <td>178.000000</td>\n",
              "      <td>178.000000</td>\n",
              "      <td>178.000000</td>\n",
              "      <td>178.000000</td>\n",
              "      <td>178.000000</td>\n",
              "      <td>178.000000</td>\n",
              "      <td>178.000000</td>\n",
              "      <td>178.000000</td>\n",
              "      <td>178.000000</td>\n",
              "      <td>178.000000</td>\n",
              "    </tr>\n",
              "    <tr>\n",
              "      <th>mean</th>\n",
              "      <td>0.518584</td>\n",
              "      <td>0.315484</td>\n",
              "      <td>0.538244</td>\n",
              "      <td>0.458502</td>\n",
              "      <td>0.323278</td>\n",
              "      <td>0.453487</td>\n",
              "      <td>0.356386</td>\n",
              "      <td>0.437460</td>\n",
              "      <td>0.372523</td>\n",
              "      <td>0.322363</td>\n",
              "      <td>0.388170</td>\n",
              "      <td>0.491460</td>\n",
              "      <td>0.334446</td>\n",
              "      <td>0.469101</td>\n",
              "    </tr>\n",
              "    <tr>\n",
              "      <th>std</th>\n",
              "      <td>0.213639</td>\n",
              "      <td>0.220780</td>\n",
              "      <td>0.146708</td>\n",
              "      <td>0.172142</td>\n",
              "      <td>0.155244</td>\n",
              "      <td>0.215811</td>\n",
              "      <td>0.210730</td>\n",
              "      <td>0.234818</td>\n",
              "      <td>0.180555</td>\n",
              "      <td>0.197806</td>\n",
              "      <td>0.185831</td>\n",
              "      <td>0.260070</td>\n",
              "      <td>0.224613</td>\n",
              "      <td>0.387517</td>\n",
              "    </tr>\n",
              "    <tr>\n",
              "      <th>min</th>\n",
              "      <td>0.000000</td>\n",
              "      <td>0.000000</td>\n",
              "      <td>0.000000</td>\n",
              "      <td>0.000000</td>\n",
              "      <td>0.000000</td>\n",
              "      <td>0.000000</td>\n",
              "      <td>0.000000</td>\n",
              "      <td>0.000000</td>\n",
              "      <td>0.000000</td>\n",
              "      <td>0.000000</td>\n",
              "      <td>0.000000</td>\n",
              "      <td>0.000000</td>\n",
              "      <td>0.000000</td>\n",
              "      <td>0.000000</td>\n",
              "    </tr>\n",
              "    <tr>\n",
              "      <th>25%</th>\n",
              "      <td>0.350658</td>\n",
              "      <td>0.170455</td>\n",
              "      <td>0.454545</td>\n",
              "      <td>0.340206</td>\n",
              "      <td>0.195652</td>\n",
              "      <td>0.262931</td>\n",
              "      <td>0.182489</td>\n",
              "      <td>0.264151</td>\n",
              "      <td>0.264984</td>\n",
              "      <td>0.165529</td>\n",
              "      <td>0.245935</td>\n",
              "      <td>0.244505</td>\n",
              "      <td>0.158702</td>\n",
              "      <td>0.000000</td>\n",
              "    </tr>\n",
              "    <tr>\n",
              "      <th>50%</th>\n",
              "      <td>0.531579</td>\n",
              "      <td>0.222332</td>\n",
              "      <td>0.534759</td>\n",
              "      <td>0.458763</td>\n",
              "      <td>0.304348</td>\n",
              "      <td>0.474138</td>\n",
              "      <td>0.378692</td>\n",
              "      <td>0.396226</td>\n",
              "      <td>0.361199</td>\n",
              "      <td>0.290956</td>\n",
              "      <td>0.394309</td>\n",
              "      <td>0.553114</td>\n",
              "      <td>0.282097</td>\n",
              "      <td>0.500000</td>\n",
              "    </tr>\n",
              "    <tr>\n",
              "      <th>75%</th>\n",
              "      <td>0.696711</td>\n",
              "      <td>0.462945</td>\n",
              "      <td>0.640374</td>\n",
              "      <td>0.561856</td>\n",
              "      <td>0.402174</td>\n",
              "      <td>0.627586</td>\n",
              "      <td>0.534810</td>\n",
              "      <td>0.580189</td>\n",
              "      <td>0.485804</td>\n",
              "      <td>0.419795</td>\n",
              "      <td>0.520325</td>\n",
              "      <td>0.695971</td>\n",
              "      <td>0.504280</td>\n",
              "      <td>1.000000</td>\n",
              "    </tr>\n",
              "    <tr>\n",
              "      <th>max</th>\n",
              "      <td>1.000000</td>\n",
              "      <td>1.000000</td>\n",
              "      <td>1.000000</td>\n",
              "      <td>1.000000</td>\n",
              "      <td>1.000000</td>\n",
              "      <td>1.000000</td>\n",
              "      <td>1.000000</td>\n",
              "      <td>1.000000</td>\n",
              "      <td>1.000000</td>\n",
              "      <td>1.000000</td>\n",
              "      <td>1.000000</td>\n",
              "      <td>1.000000</td>\n",
              "      <td>1.000000</td>\n",
              "      <td>1.000000</td>\n",
              "    </tr>\n",
              "  </tbody>\n",
              "</table>\n",
              "</div>\n",
              "      <button class=\"colab-df-convert\" onclick=\"convertToInteractive('df-d706e822-177d-4ea9-ae47-eba1bdf8ae7a')\"\n",
              "              title=\"Convert this dataframe to an interactive table.\"\n",
              "              style=\"display:none;\">\n",
              "        \n",
              "  <svg xmlns=\"http://www.w3.org/2000/svg\" height=\"24px\"viewBox=\"0 0 24 24\"\n",
              "       width=\"24px\">\n",
              "    <path d=\"M0 0h24v24H0V0z\" fill=\"none\"/>\n",
              "    <path d=\"M18.56 5.44l.94 2.06.94-2.06 2.06-.94-2.06-.94-.94-2.06-.94 2.06-2.06.94zm-11 1L8.5 8.5l.94-2.06 2.06-.94-2.06-.94L8.5 2.5l-.94 2.06-2.06.94zm10 10l.94 2.06.94-2.06 2.06-.94-2.06-.94-.94-2.06-.94 2.06-2.06.94z\"/><path d=\"M17.41 7.96l-1.37-1.37c-.4-.4-.92-.59-1.43-.59-.52 0-1.04.2-1.43.59L10.3 9.45l-7.72 7.72c-.78.78-.78 2.05 0 2.83L4 21.41c.39.39.9.59 1.41.59.51 0 1.02-.2 1.41-.59l7.78-7.78 2.81-2.81c.8-.78.8-2.07 0-2.86zM5.41 20L4 18.59l7.72-7.72 1.47 1.35L5.41 20z\"/>\n",
              "  </svg>\n",
              "      </button>\n",
              "      \n",
              "  <style>\n",
              "    .colab-df-container {\n",
              "      display:flex;\n",
              "      flex-wrap:wrap;\n",
              "      gap: 12px;\n",
              "    }\n",
              "\n",
              "    .colab-df-convert {\n",
              "      background-color: #E8F0FE;\n",
              "      border: none;\n",
              "      border-radius: 50%;\n",
              "      cursor: pointer;\n",
              "      display: none;\n",
              "      fill: #1967D2;\n",
              "      height: 32px;\n",
              "      padding: 0 0 0 0;\n",
              "      width: 32px;\n",
              "    }\n",
              "\n",
              "    .colab-df-convert:hover {\n",
              "      background-color: #E2EBFA;\n",
              "      box-shadow: 0px 1px 2px rgba(60, 64, 67, 0.3), 0px 1px 3px 1px rgba(60, 64, 67, 0.15);\n",
              "      fill: #174EA6;\n",
              "    }\n",
              "\n",
              "    [theme=dark] .colab-df-convert {\n",
              "      background-color: #3B4455;\n",
              "      fill: #D2E3FC;\n",
              "    }\n",
              "\n",
              "    [theme=dark] .colab-df-convert:hover {\n",
              "      background-color: #434B5C;\n",
              "      box-shadow: 0px 1px 3px 1px rgba(0, 0, 0, 0.15);\n",
              "      filter: drop-shadow(0px 1px 2px rgba(0, 0, 0, 0.3));\n",
              "      fill: #FFFFFF;\n",
              "    }\n",
              "  </style>\n",
              "\n",
              "      <script>\n",
              "        const buttonEl =\n",
              "          document.querySelector('#df-d706e822-177d-4ea9-ae47-eba1bdf8ae7a button.colab-df-convert');\n",
              "        buttonEl.style.display =\n",
              "          google.colab.kernel.accessAllowed ? 'block' : 'none';\n",
              "\n",
              "        async function convertToInteractive(key) {\n",
              "          const element = document.querySelector('#df-d706e822-177d-4ea9-ae47-eba1bdf8ae7a');\n",
              "          const dataTable =\n",
              "            await google.colab.kernel.invokeFunction('convertToInteractive',\n",
              "                                                     [key], {});\n",
              "          if (!dataTable) return;\n",
              "\n",
              "          const docLinkHtml = 'Like what you see? Visit the ' +\n",
              "            '<a target=\"_blank\" href=https://colab.research.google.com/notebooks/data_table.ipynb>data table notebook</a>'\n",
              "            + ' to learn more about interactive tables.';\n",
              "          element.innerHTML = '';\n",
              "          dataTable['output_type'] = 'display_data';\n",
              "          await google.colab.output.renderOutput(dataTable, element);\n",
              "          const docLink = document.createElement('div');\n",
              "          docLink.innerHTML = docLinkHtml;\n",
              "          element.appendChild(docLink);\n",
              "        }\n",
              "      </script>\n",
              "    </div>\n",
              "  </div>\n",
              "  "
            ]
          },
          "metadata": {},
          "execution_count": 84
        }
      ]
    },
    {
      "cell_type": "markdown",
      "source": [
        "Nice! Now, all of our features are normalized, and all values are between 0 and 1."
      ],
      "metadata": {
        "id": "1MpTkya5R0Bd"
      }
    },
    {
      "cell_type": "markdown",
      "source": [
        "# K-means\n",
        "\n",
        "Finally, we will start working with some well-known clustering algorithms. First, we will use K-means. We simply have to instance the algorithm, then fit. Fianlly, we get the clusters for our entries:\n"
      ],
      "metadata": {
        "id": "kdjalE45dh2t"
      }
    },
    {
      "cell_type": "code",
      "source": [
        "kmeans = KMeans(n_clusters = 4)\n",
        "\n",
        "kmeans.fit(df_0)"
      ],
      "metadata": {
        "id": "7g0TKqX9Ru3c",
        "colab": {
          "base_uri": "https://localhost:8080/"
        },
        "outputId": "85540d70-b6b9-4c6c-d860-c6b8f055357f"
      },
      "execution_count": 85,
      "outputs": [
        {
          "output_type": "execute_result",
          "data": {
            "text/plain": [
              "KMeans(n_clusters=4)"
            ]
          },
          "metadata": {},
          "execution_count": 85
        }
      ]
    },
    {
      "cell_type": "markdown",
      "source": [
        "So, our model defined the following groups for our features:"
      ],
      "metadata": {
        "id": "l-pUVMmmfNxl"
      }
    },
    {
      "cell_type": "code",
      "source": [
        "kmeans.labels_"
      ],
      "metadata": {
        "colab": {
          "base_uri": "https://localhost:8080/"
        },
        "id": "rNPzZfSDeklX",
        "outputId": "21a9ac48-717e-449e-c307-06d3f7a15fbc"
      },
      "execution_count": 86,
      "outputs": [
        {
          "output_type": "execute_result",
          "data": {
            "text/plain": [
              "array([1, 1, 1, 1, 1, 1, 1, 1, 1, 1, 1, 1, 1, 1, 1, 1, 1, 1, 1, 1, 1, 1,\n",
              "       1, 1, 1, 1, 1, 1, 1, 1, 1, 1, 1, 1, 1, 1, 1, 1, 1, 1, 1, 1, 1, 1,\n",
              "       1, 1, 1, 1, 1, 1, 1, 1, 1, 1, 1, 1, 1, 1, 1, 3, 3, 3, 3, 0, 3, 0,\n",
              "       0, 0, 3, 0, 3, 0, 0, 0, 0, 3, 0, 3, 0, 0, 0, 0, 3, 3, 0, 0, 3, 3,\n",
              "       3, 3, 3, 3, 3, 0, 0, 0, 0, 0, 0, 0, 0, 3, 0, 3, 0, 3, 3, 3, 0, 0,\n",
              "       0, 0, 3, 3, 3, 3, 0, 0, 3, 0, 0, 0, 0, 0, 0, 0, 0, 3, 0, 3, 2, 2,\n",
              "       2, 2, 2, 2, 2, 2, 2, 2, 2, 2, 2, 2, 2, 2, 2, 2, 2, 2, 2, 2, 2, 2,\n",
              "       2, 2, 2, 2, 2, 2, 2, 2, 2, 2, 2, 2, 2, 2, 2, 2, 2, 2, 2, 2, 2, 2,\n",
              "       2, 2], dtype=int32)"
            ]
          },
          "metadata": {},
          "execution_count": 86
        }
      ]
    },
    {
      "cell_type": "markdown",
      "source": [
        "Note that we have 4 different groups, as we stated when instancing the algorithm. Now, let's try to visualize these clusters. First, let's create a new dataframe with our labels:"
      ],
      "metadata": {
        "id": "4Bxvyf_GfRv0"
      }
    },
    {
      "cell_type": "code",
      "source": [
        "df_kmeans = df_0.copy( )\n",
        "df_kmeans['ClusterWines'] = kmeans.labels_"
      ],
      "metadata": {
        "id": "Ehh9-sQ7fFCY"
      },
      "execution_count": 87,
      "outputs": []
    },
    {
      "cell_type": "markdown",
      "source": [
        "Now, let's use plotly to visualize our data in two dimensions:"
      ],
      "metadata": {
        "id": "ZoYtKpZOf1Ta"
      }
    },
    {
      "cell_type": "code",
      "source": [
        "fig = go.Figure( )\n",
        "sp = go.Scatter(x = df_kmeans['Color_Intensity'], y = df_kmeans['Alcohol'], mode = 'markers', marker = dict(color = df_kmeans.ClusterWines.astype(float)), text = df_kmeans.ClusterWines)\n",
        "fig.add_trace(sp)"
      ],
      "metadata": {
        "colab": {
          "base_uri": "https://localhost:8080/",
          "height": 542
        },
        "id": "MYfjYwbVfy1u",
        "outputId": "bd5a5909-0874-47ca-ae45-04101b1c09b4"
      },
      "execution_count": 88,
      "outputs": [
        {
          "output_type": "display_data",
          "data": {
            "text/html": [
              "<html>\n",
              "<head><meta charset=\"utf-8\" /></head>\n",
              "<body>\n",
              "    <div>            <script src=\"https://cdnjs.cloudflare.com/ajax/libs/mathjax/2.7.5/MathJax.js?config=TeX-AMS-MML_SVG\"></script><script type=\"text/javascript\">if (window.MathJax) {MathJax.Hub.Config({SVG: {font: \"STIX-Web\"}});}</script>                <script type=\"text/javascript\">window.PlotlyConfig = {MathJaxConfig: 'local'};</script>\n",
              "        <script src=\"https://cdn.plot.ly/plotly-2.8.3.min.js\"></script>                <div id=\"f0b97972-8801-49d7-9d1f-da2163620df2\" class=\"plotly-graph-div\" style=\"height:525px; width:100%;\"></div>            <script type=\"text/javascript\">                                    window.PLOTLYENV=window.PLOTLYENV || {};                                    if (document.getElementById(\"f0b97972-8801-49d7-9d1f-da2163620df2\")) {                    Plotly.newPlot(                        \"f0b97972-8801-49d7-9d1f-da2163620df2\",                        [{\"marker\":{\"color\":[1.0,1.0,1.0,1.0,1.0,1.0,1.0,1.0,1.0,1.0,1.0,1.0,1.0,1.0,1.0,1.0,1.0,1.0,1.0,1.0,1.0,1.0,1.0,1.0,1.0,1.0,1.0,1.0,1.0,1.0,1.0,1.0,1.0,1.0,1.0,1.0,1.0,1.0,1.0,1.0,1.0,1.0,1.0,1.0,1.0,1.0,1.0,1.0,1.0,1.0,1.0,1.0,1.0,1.0,1.0,1.0,1.0,1.0,1.0,3.0,3.0,3.0,3.0,0.0,3.0,0.0,0.0,0.0,3.0,0.0,3.0,0.0,0.0,0.0,0.0,3.0,0.0,3.0,0.0,0.0,0.0,0.0,3.0,3.0,0.0,0.0,3.0,3.0,3.0,3.0,3.0,3.0,3.0,0.0,0.0,0.0,0.0,0.0,0.0,0.0,0.0,3.0,0.0,3.0,0.0,3.0,3.0,3.0,0.0,0.0,0.0,0.0,3.0,3.0,3.0,3.0,0.0,0.0,3.0,0.0,0.0,0.0,0.0,0.0,0.0,0.0,0.0,3.0,0.0,3.0,2.0,2.0,2.0,2.0,2.0,2.0,2.0,2.0,2.0,2.0,2.0,2.0,2.0,2.0,2.0,2.0,2.0,2.0,2.0,2.0,2.0,2.0,2.0,2.0,2.0,2.0,2.0,2.0,2.0,2.0,2.0,2.0,2.0,2.0,2.0,2.0,2.0,2.0,2.0,2.0,2.0,2.0,2.0,2.0,2.0,2.0,2.0,2.0]},\"mode\":\"markers\",\"text\":[1.0,1.0,1.0,1.0,1.0,1.0,1.0,1.0,1.0,1.0,1.0,1.0,1.0,1.0,1.0,1.0,1.0,1.0,1.0,1.0,1.0,1.0,1.0,1.0,1.0,1.0,1.0,1.0,1.0,1.0,1.0,1.0,1.0,1.0,1.0,1.0,1.0,1.0,1.0,1.0,1.0,1.0,1.0,1.0,1.0,1.0,1.0,1.0,1.0,1.0,1.0,1.0,1.0,1.0,1.0,1.0,1.0,1.0,1.0,3.0,3.0,3.0,3.0,0.0,3.0,0.0,0.0,0.0,3.0,0.0,3.0,0.0,0.0,0.0,0.0,3.0,0.0,3.0,0.0,0.0,0.0,0.0,3.0,3.0,0.0,0.0,3.0,3.0,3.0,3.0,3.0,3.0,3.0,0.0,0.0,0.0,0.0,0.0,0.0,0.0,0.0,3.0,0.0,3.0,0.0,3.0,3.0,3.0,0.0,0.0,0.0,0.0,3.0,3.0,3.0,3.0,0.0,0.0,3.0,0.0,0.0,0.0,0.0,0.0,0.0,0.0,0.0,3.0,0.0,3.0,2.0,2.0,2.0,2.0,2.0,2.0,2.0,2.0,2.0,2.0,2.0,2.0,2.0,2.0,2.0,2.0,2.0,2.0,2.0,2.0,2.0,2.0,2.0,2.0,2.0,2.0,2.0,2.0,2.0,2.0,2.0,2.0,2.0,2.0,2.0,2.0,2.0,2.0,2.0,2.0,2.0,2.0,2.0,2.0,2.0,2.0,2.0,2.0],\"x\":[0.3720136518771331,0.26450511945392485,0.3754266211604095,0.5563139931740614,0.2593856655290102,0.4667235494880546,0.3387372013651877,0.3216723549488054,0.33447098976109213,0.5068259385665529,0.3813993174061433,0.31740614334470985,0.3686006825938566,0.3515358361774744,0.5307167235494881,0.5136518771331058,0.41979522184300344,0.4539249146757679,0.6331058020477814,0.325938566552901,0.37286689419795227,0.27474402730375425,0.21501706484641633,0.22610921501706485,0.1911262798634812,0.1962457337883959,0.30034129692832756,0.22781569965870305,0.27474402730375425,0.29180887372013653,0.37713310580204773,0.4795221843003413,0.21843003412969278,0.3515358361774744,0.2491467576791809,0.325938566552901,0.2832764505119454,0.2534129692832764,0.20648464163822525,0.325938566552901,0.4138225255972696,0.2559726962457338,0.35409556313993173,0.2627986348122867,0.32081911262798635,0.33788395904436863,0.3088737201365188,0.4112627986348123,0.41979522184300344,0.6501706484641638,0.5051194539249146,0.3686006825938566,0.4923208191126279,0.42832764505119447,0.38993174061433444,0.424061433447099,0.4351535836177475,0.40273037542662116,0.4709897610921502,0.057167235494880536,0.1697952218430034,0.3813993174061433,0.21501706484641633,0.2704778156996587,0.1424914675767918,0.2832764505119454,0.3430034129692833,0.2901023890784983,0.16126279863481227,0.13395904436860068,0.15102389078498293,0.17918088737201363,0.2098976109215017,0.1766211604095563,0.16467576791808872,0.21501706484641633,0.2832764505119454,0.11689419795221842,0.18088737201365188,0.1100682593856655,0.10409556313993173,0.22354948805460748,0.07849829351535836,0.30034129692832756,0.15102389078498293,0.1143344709897611,0.09982935153583619,0.11262798634812288,0.1296928327645051,0.03924914675767918,0.09556313993174059,0.1979522184300341,0.15102389078498293,0.07423208191126279,0.16808873720136516,0.11262798634812288,0.10409556313993173,0.13822525597269622,0.27474402730375425,0.08703071672354948,0.17235494880546073,0.09982935153583619,0.1296928327645051,0.06655290102389078,0.14163822525597267,0.12116040955631399,0.18088737201365188,0.17235494880546073,0.12116040955631399,0.11689419795221842,0.13822525597269622,0.06143344709897611,0.21501706484641633,0.15358361774744025,0.13822525597269622,0.052901023890784965,0.057167235494880536,0.06655290102389078,0.18088737201365188,0.0,0.16808873720136516,0.40273037542662116,0.06825938566552903,0.11262798634812288,0.1296928327645051,0.12627986348122863,0.22696245733788392,0.14675767918088736,0.07167235494880547,0.11262798634812288,0.2406143344709897,0.3515358361774744,0.37713310580204773,0.31740614334470985,0.35580204778157,0.4965870307167235,0.21928327645051196,0.31740614334470985,0.37713310580204773,0.31058020477815695,0.2832764505119454,0.3686006825938566,0.26194539249146753,0.2662116040955631,0.5912969283276451,0.23208191126279862,0.3088737201365188,0.5435153583617748,0.6092150170648464,0.6928327645051194,0.6245733788395904,0.8122866894197952,0.4965870307167235,0.78839590443686,0.5392491467576791,0.5648464163822525,0.659556313993174,0.5307167235494881,0.9999999999999999,0.893344709897611,0.5435153583617748,0.39249146757679176,0.36689419795221845,0.341296928327645,0.7081911262798635,0.45563139931740615,0.8020477815699658,0.7662116040955631,0.6296928327645052,0.6160409556313993,0.36006825938566556,0.7354947952218429,0.7184300341296928,0.5477815699658704,0.5136518771331058,0.7610921501706484,0.6843003412969284,0.6757679180887372],\"y\":[0.8421052631578951,0.5710526315789473,0.560526315789474,0.8789473684210525,0.5815789473684214,0.8342105263157893,0.8842105263157896,0.797368421052632,1.0,0.7447368421052629,0.8078947368421052,0.8131578947368419,0.7157894736842105,0.9789473684210526,0.8815789473684212,0.6842105263157898,0.8605263157894738,0.736842105263158,0.831578947368421,0.6868421052631581,0.797368421052632,0.5,0.7052631578947373,0.47894736842105257,0.6499999999999999,0.5315789473684216,0.6210526315789475,0.5973684210526318,0.7473684210526317,0.7868421052631578,0.7105263157894739,0.6710526315789473,0.6973684210526314,0.7184210526315788,0.6526315789473687,0.6447368421052633,0.5921052631578947,0.5315789473684216,0.5368421052631582,0.8394736842105264,0.6657894736842107,0.6263157894736846,0.7500000000000004,0.5815789473684214,0.5315789473684216,0.836842105263158,0.8815789473684212,0.7552631578947371,0.8078947368421052,0.7657894736842104,0.5315789473684216,0.736842105263158,0.7342105263157896,0.7210526315789472,0.7131578947368422,0.6657894736842107,0.8394736842105264,0.594736842105263,0.7078947368421056,0.3526315789473684,0.34210526315789513,0.4236842105263161,0.6947368421052631,0.3526315789473684,0.30000000000000027,0.3526315789473684,0.5473684210526315,0.3526315789473684,0.6078947368421055,0.310526315789474,0.331578947368421,0.7447368421052629,0.6473684210526316,0.5157894736842108,0.2447368421052638,0.1657894736842107,0.5263157894736841,0.2131578947368422,0.34210526315789513,0.43947368421052646,0.2552631578947371,0.44473684210526354,0.2763157894736845,0.5315789473684216,0.2131578947368422,0.43157894736842106,0.29736842105263195,0.1631578947368424,0.16052631578947407,0.2763157894736845,0.2763157894736845,0.2552631578947371,0.43684210526315814,0.331578947368421,0.155263157894737,0.3789473684210529,0.20526315789473726,0.331578947368421,0.3526315789473684,0.331578947368421,0.2763157894736845,0.4131578947368424,0.34473684210526345,0.20789473684210558,0.38947368421052664,0.3657894736842109,0.3210526315789477,0.44473684210526354,0.3131578947368423,0.15263157894736867,0.11315789473684257,0.39210526315789496,0.19210526315789478,0.10000000000000053,0.2763157894736845,0.0,0.20789473684210558,0.3657894736842109,0.45789473684210513,0.2552631578947371,0.1105263157894738,0.13947368421052664,0.3657894736842109,0.5315789473684216,0.2210526315789476,0.2736842105263162,0.3684210526315792,0.20000000000000018,0.3526315789473684,0.26578947368421035,0.4815789473684209,0.4868421052631584,0.4684210526315793,0.43947368421052646,0.38947368421052664,0.4131578947368424,0.3210526315789477,0.3947368421052633,0.6473684210526316,0.47631578947368425,0.5,0.6131578947368421,0.655263157894737,0.6815789473684211,0.3210526315789477,0.560526315789474,0.7500000000000004,0.48421052631578965,0.6026315789473689,0.5394736842105265,0.6499999999999999,0.4631578947368422,0.5473684210526315,0.5789473684210531,0.4078947368421053,0.5631578947368423,0.7394736842105263,0.37368421052631584,0.8710526315789475,0.6447368421052633,0.3500000000000001,0.7000000000000002,0.47894736842105257,0.5078947368421058,0.7236842105263159,0.7105263157894739,0.6368421052631579,0.4710526315789476,0.6710526315789473,0.6236842105263158,0.3078947368421052,0.45789473684210513,0.823684210526316,0.7052631578947373,0.6236842105263158,0.5894736842105264,0.5631578947368423,0.8157894736842106],\"type\":\"scatter\"}],                        {\"template\":{\"data\":{\"bar\":[{\"error_x\":{\"color\":\"#2a3f5f\"},\"error_y\":{\"color\":\"#2a3f5f\"},\"marker\":{\"line\":{\"color\":\"#E5ECF6\",\"width\":0.5},\"pattern\":{\"fillmode\":\"overlay\",\"size\":10,\"solidity\":0.2}},\"type\":\"bar\"}],\"barpolar\":[{\"marker\":{\"line\":{\"color\":\"#E5ECF6\",\"width\":0.5},\"pattern\":{\"fillmode\":\"overlay\",\"size\":10,\"solidity\":0.2}},\"type\":\"barpolar\"}],\"carpet\":[{\"aaxis\":{\"endlinecolor\":\"#2a3f5f\",\"gridcolor\":\"white\",\"linecolor\":\"white\",\"minorgridcolor\":\"white\",\"startlinecolor\":\"#2a3f5f\"},\"baxis\":{\"endlinecolor\":\"#2a3f5f\",\"gridcolor\":\"white\",\"linecolor\":\"white\",\"minorgridcolor\":\"white\",\"startlinecolor\":\"#2a3f5f\"},\"type\":\"carpet\"}],\"choropleth\":[{\"colorbar\":{\"outlinewidth\":0,\"ticks\":\"\"},\"type\":\"choropleth\"}],\"contour\":[{\"colorbar\":{\"outlinewidth\":0,\"ticks\":\"\"},\"colorscale\":[[0.0,\"#0d0887\"],[0.1111111111111111,\"#46039f\"],[0.2222222222222222,\"#7201a8\"],[0.3333333333333333,\"#9c179e\"],[0.4444444444444444,\"#bd3786\"],[0.5555555555555556,\"#d8576b\"],[0.6666666666666666,\"#ed7953\"],[0.7777777777777778,\"#fb9f3a\"],[0.8888888888888888,\"#fdca26\"],[1.0,\"#f0f921\"]],\"type\":\"contour\"}],\"contourcarpet\":[{\"colorbar\":{\"outlinewidth\":0,\"ticks\":\"\"},\"type\":\"contourcarpet\"}],\"heatmap\":[{\"colorbar\":{\"outlinewidth\":0,\"ticks\":\"\"},\"colorscale\":[[0.0,\"#0d0887\"],[0.1111111111111111,\"#46039f\"],[0.2222222222222222,\"#7201a8\"],[0.3333333333333333,\"#9c179e\"],[0.4444444444444444,\"#bd3786\"],[0.5555555555555556,\"#d8576b\"],[0.6666666666666666,\"#ed7953\"],[0.7777777777777778,\"#fb9f3a\"],[0.8888888888888888,\"#fdca26\"],[1.0,\"#f0f921\"]],\"type\":\"heatmap\"}],\"heatmapgl\":[{\"colorbar\":{\"outlinewidth\":0,\"ticks\":\"\"},\"colorscale\":[[0.0,\"#0d0887\"],[0.1111111111111111,\"#46039f\"],[0.2222222222222222,\"#7201a8\"],[0.3333333333333333,\"#9c179e\"],[0.4444444444444444,\"#bd3786\"],[0.5555555555555556,\"#d8576b\"],[0.6666666666666666,\"#ed7953\"],[0.7777777777777778,\"#fb9f3a\"],[0.8888888888888888,\"#fdca26\"],[1.0,\"#f0f921\"]],\"type\":\"heatmapgl\"}],\"histogram\":[{\"marker\":{\"pattern\":{\"fillmode\":\"overlay\",\"size\":10,\"solidity\":0.2}},\"type\":\"histogram\"}],\"histogram2d\":[{\"colorbar\":{\"outlinewidth\":0,\"ticks\":\"\"},\"colorscale\":[[0.0,\"#0d0887\"],[0.1111111111111111,\"#46039f\"],[0.2222222222222222,\"#7201a8\"],[0.3333333333333333,\"#9c179e\"],[0.4444444444444444,\"#bd3786\"],[0.5555555555555556,\"#d8576b\"],[0.6666666666666666,\"#ed7953\"],[0.7777777777777778,\"#fb9f3a\"],[0.8888888888888888,\"#fdca26\"],[1.0,\"#f0f921\"]],\"type\":\"histogram2d\"}],\"histogram2dcontour\":[{\"colorbar\":{\"outlinewidth\":0,\"ticks\":\"\"},\"colorscale\":[[0.0,\"#0d0887\"],[0.1111111111111111,\"#46039f\"],[0.2222222222222222,\"#7201a8\"],[0.3333333333333333,\"#9c179e\"],[0.4444444444444444,\"#bd3786\"],[0.5555555555555556,\"#d8576b\"],[0.6666666666666666,\"#ed7953\"],[0.7777777777777778,\"#fb9f3a\"],[0.8888888888888888,\"#fdca26\"],[1.0,\"#f0f921\"]],\"type\":\"histogram2dcontour\"}],\"mesh3d\":[{\"colorbar\":{\"outlinewidth\":0,\"ticks\":\"\"},\"type\":\"mesh3d\"}],\"parcoords\":[{\"line\":{\"colorbar\":{\"outlinewidth\":0,\"ticks\":\"\"}},\"type\":\"parcoords\"}],\"pie\":[{\"automargin\":true,\"type\":\"pie\"}],\"scatter\":[{\"marker\":{\"colorbar\":{\"outlinewidth\":0,\"ticks\":\"\"}},\"type\":\"scatter\"}],\"scatter3d\":[{\"line\":{\"colorbar\":{\"outlinewidth\":0,\"ticks\":\"\"}},\"marker\":{\"colorbar\":{\"outlinewidth\":0,\"ticks\":\"\"}},\"type\":\"scatter3d\"}],\"scattercarpet\":[{\"marker\":{\"colorbar\":{\"outlinewidth\":0,\"ticks\":\"\"}},\"type\":\"scattercarpet\"}],\"scattergeo\":[{\"marker\":{\"colorbar\":{\"outlinewidth\":0,\"ticks\":\"\"}},\"type\":\"scattergeo\"}],\"scattergl\":[{\"marker\":{\"colorbar\":{\"outlinewidth\":0,\"ticks\":\"\"}},\"type\":\"scattergl\"}],\"scattermapbox\":[{\"marker\":{\"colorbar\":{\"outlinewidth\":0,\"ticks\":\"\"}},\"type\":\"scattermapbox\"}],\"scatterpolar\":[{\"marker\":{\"colorbar\":{\"outlinewidth\":0,\"ticks\":\"\"}},\"type\":\"scatterpolar\"}],\"scatterpolargl\":[{\"marker\":{\"colorbar\":{\"outlinewidth\":0,\"ticks\":\"\"}},\"type\":\"scatterpolargl\"}],\"scatterternary\":[{\"marker\":{\"colorbar\":{\"outlinewidth\":0,\"ticks\":\"\"}},\"type\":\"scatterternary\"}],\"surface\":[{\"colorbar\":{\"outlinewidth\":0,\"ticks\":\"\"},\"colorscale\":[[0.0,\"#0d0887\"],[0.1111111111111111,\"#46039f\"],[0.2222222222222222,\"#7201a8\"],[0.3333333333333333,\"#9c179e\"],[0.4444444444444444,\"#bd3786\"],[0.5555555555555556,\"#d8576b\"],[0.6666666666666666,\"#ed7953\"],[0.7777777777777778,\"#fb9f3a\"],[0.8888888888888888,\"#fdca26\"],[1.0,\"#f0f921\"]],\"type\":\"surface\"}],\"table\":[{\"cells\":{\"fill\":{\"color\":\"#EBF0F8\"},\"line\":{\"color\":\"white\"}},\"header\":{\"fill\":{\"color\":\"#C8D4E3\"},\"line\":{\"color\":\"white\"}},\"type\":\"table\"}]},\"layout\":{\"annotationdefaults\":{\"arrowcolor\":\"#2a3f5f\",\"arrowhead\":0,\"arrowwidth\":1},\"autotypenumbers\":\"strict\",\"coloraxis\":{\"colorbar\":{\"outlinewidth\":0,\"ticks\":\"\"}},\"colorscale\":{\"diverging\":[[0,\"#8e0152\"],[0.1,\"#c51b7d\"],[0.2,\"#de77ae\"],[0.3,\"#f1b6da\"],[0.4,\"#fde0ef\"],[0.5,\"#f7f7f7\"],[0.6,\"#e6f5d0\"],[0.7,\"#b8e186\"],[0.8,\"#7fbc41\"],[0.9,\"#4d9221\"],[1,\"#276419\"]],\"sequential\":[[0.0,\"#0d0887\"],[0.1111111111111111,\"#46039f\"],[0.2222222222222222,\"#7201a8\"],[0.3333333333333333,\"#9c179e\"],[0.4444444444444444,\"#bd3786\"],[0.5555555555555556,\"#d8576b\"],[0.6666666666666666,\"#ed7953\"],[0.7777777777777778,\"#fb9f3a\"],[0.8888888888888888,\"#fdca26\"],[1.0,\"#f0f921\"]],\"sequentialminus\":[[0.0,\"#0d0887\"],[0.1111111111111111,\"#46039f\"],[0.2222222222222222,\"#7201a8\"],[0.3333333333333333,\"#9c179e\"],[0.4444444444444444,\"#bd3786\"],[0.5555555555555556,\"#d8576b\"],[0.6666666666666666,\"#ed7953\"],[0.7777777777777778,\"#fb9f3a\"],[0.8888888888888888,\"#fdca26\"],[1.0,\"#f0f921\"]]},\"colorway\":[\"#636efa\",\"#EF553B\",\"#00cc96\",\"#ab63fa\",\"#FFA15A\",\"#19d3f3\",\"#FF6692\",\"#B6E880\",\"#FF97FF\",\"#FECB52\"],\"font\":{\"color\":\"#2a3f5f\"},\"geo\":{\"bgcolor\":\"white\",\"lakecolor\":\"white\",\"landcolor\":\"#E5ECF6\",\"showlakes\":true,\"showland\":true,\"subunitcolor\":\"white\"},\"hoverlabel\":{\"align\":\"left\"},\"hovermode\":\"closest\",\"mapbox\":{\"style\":\"light\"},\"paper_bgcolor\":\"white\",\"plot_bgcolor\":\"#E5ECF6\",\"polar\":{\"angularaxis\":{\"gridcolor\":\"white\",\"linecolor\":\"white\",\"ticks\":\"\"},\"bgcolor\":\"#E5ECF6\",\"radialaxis\":{\"gridcolor\":\"white\",\"linecolor\":\"white\",\"ticks\":\"\"}},\"scene\":{\"xaxis\":{\"backgroundcolor\":\"#E5ECF6\",\"gridcolor\":\"white\",\"gridwidth\":2,\"linecolor\":\"white\",\"showbackground\":true,\"ticks\":\"\",\"zerolinecolor\":\"white\"},\"yaxis\":{\"backgroundcolor\":\"#E5ECF6\",\"gridcolor\":\"white\",\"gridwidth\":2,\"linecolor\":\"white\",\"showbackground\":true,\"ticks\":\"\",\"zerolinecolor\":\"white\"},\"zaxis\":{\"backgroundcolor\":\"#E5ECF6\",\"gridcolor\":\"white\",\"gridwidth\":2,\"linecolor\":\"white\",\"showbackground\":true,\"ticks\":\"\",\"zerolinecolor\":\"white\"}},\"shapedefaults\":{\"line\":{\"color\":\"#2a3f5f\"}},\"ternary\":{\"aaxis\":{\"gridcolor\":\"white\",\"linecolor\":\"white\",\"ticks\":\"\"},\"baxis\":{\"gridcolor\":\"white\",\"linecolor\":\"white\",\"ticks\":\"\"},\"bgcolor\":\"#E5ECF6\",\"caxis\":{\"gridcolor\":\"white\",\"linecolor\":\"white\",\"ticks\":\"\"}},\"title\":{\"x\":0.05},\"xaxis\":{\"automargin\":true,\"gridcolor\":\"white\",\"linecolor\":\"white\",\"ticks\":\"\",\"title\":{\"standoff\":15},\"zerolinecolor\":\"white\",\"zerolinewidth\":2},\"yaxis\":{\"automargin\":true,\"gridcolor\":\"white\",\"linecolor\":\"white\",\"ticks\":\"\",\"title\":{\"standoff\":15},\"zerolinecolor\":\"white\",\"zerolinewidth\":2}}}},                        {\"responsive\": true}                    ).then(function(){\n",
              "                            \n",
              "var gd = document.getElementById('f0b97972-8801-49d7-9d1f-da2163620df2');\n",
              "var x = new MutationObserver(function (mutations, observer) {{\n",
              "        var display = window.getComputedStyle(gd).display;\n",
              "        if (!display || display === 'none') {{\n",
              "            console.log([gd, 'removed!']);\n",
              "            Plotly.purge(gd);\n",
              "            observer.disconnect();\n",
              "        }}\n",
              "}});\n",
              "\n",
              "// Listen for the removal of the full notebook cells\n",
              "var notebookContainer = gd.closest('#notebook-container');\n",
              "if (notebookContainer) {{\n",
              "    x.observe(notebookContainer, {childList: true});\n",
              "}}\n",
              "\n",
              "// Listen for the clearing of the current output cell\n",
              "var outputEl = gd.closest('.output');\n",
              "if (outputEl) {{\n",
              "    x.observe(outputEl, {childList: true});\n",
              "}}\n",
              "\n",
              "                        })                };                            </script>        </div>\n",
              "</body>\n",
              "</html>"
            ]
          },
          "metadata": {}
        }
      ]
    },
    {
      "cell_type": "markdown",
      "source": [
        "Note that we can see that there is a relationship between the color intensity and the alcohol. Also, our clusters are shown as different colors in our scatter plot. However, still, it is not easy to differ these, since we had to choose only two features to show. Also, this might mean that a lower number of clusters are required for this problem. Let's try to use only 3 clusters:"
      ],
      "metadata": {
        "id": "8vX792lhg722"
      }
    },
    {
      "cell_type": "code",
      "source": [
        "kmeans = KMeans(n_clusters = 3)\n",
        "\n",
        "kmeans.fit(df_0)\n",
        "\n",
        "df_kmeans['ClusterWines'] = kmeans.labels_"
      ],
      "metadata": {
        "id": "ZNJ5X8xfgE7S"
      },
      "execution_count": 89,
      "outputs": []
    },
    {
      "cell_type": "code",
      "source": [
        "fig = go.Figure( )\n",
        "sp = go.Scatter(x = df_kmeans['Color_Intensity'], y = df_kmeans['Alcohol'], mode = 'markers', marker = dict(color = df_kmeans.ClusterWines.astype(float)), text = df_kmeans.ClusterWines)\n",
        "fig.add_trace(sp)"
      ],
      "metadata": {
        "colab": {
          "base_uri": "https://localhost:8080/",
          "height": 542
        },
        "id": "i4zgDPsTgGN-",
        "outputId": "5a04aa16-32af-411f-99c6-9b326c76a7bc"
      },
      "execution_count": 90,
      "outputs": [
        {
          "output_type": "display_data",
          "data": {
            "text/html": [
              "<html>\n",
              "<head><meta charset=\"utf-8\" /></head>\n",
              "<body>\n",
              "    <div>            <script src=\"https://cdnjs.cloudflare.com/ajax/libs/mathjax/2.7.5/MathJax.js?config=TeX-AMS-MML_SVG\"></script><script type=\"text/javascript\">if (window.MathJax) {MathJax.Hub.Config({SVG: {font: \"STIX-Web\"}});}</script>                <script type=\"text/javascript\">window.PlotlyConfig = {MathJaxConfig: 'local'};</script>\n",
              "        <script src=\"https://cdn.plot.ly/plotly-2.8.3.min.js\"></script>                <div id=\"a407165e-1dbc-4213-88a4-8c5095679f73\" class=\"plotly-graph-div\" style=\"height:525px; width:100%;\"></div>            <script type=\"text/javascript\">                                    window.PLOTLYENV=window.PLOTLYENV || {};                                    if (document.getElementById(\"a407165e-1dbc-4213-88a4-8c5095679f73\")) {                    Plotly.newPlot(                        \"a407165e-1dbc-4213-88a4-8c5095679f73\",                        [{\"marker\":{\"color\":[1.0,1.0,1.0,1.0,1.0,1.0,1.0,1.0,1.0,1.0,1.0,1.0,1.0,1.0,1.0,1.0,1.0,1.0,1.0,1.0,1.0,1.0,1.0,1.0,1.0,1.0,1.0,1.0,1.0,1.0,1.0,1.0,1.0,1.0,1.0,1.0,1.0,1.0,1.0,1.0,1.0,1.0,1.0,1.0,1.0,1.0,1.0,1.0,1.0,1.0,1.0,1.0,1.0,1.0,1.0,1.0,1.0,1.0,1.0,2.0,2.0,2.0,2.0,2.0,2.0,2.0,2.0,2.0,2.0,2.0,2.0,2.0,2.0,1.0,2.0,2.0,2.0,2.0,2.0,2.0,2.0,2.0,2.0,0.0,2.0,2.0,2.0,2.0,2.0,2.0,2.0,2.0,2.0,2.0,2.0,2.0,2.0,2.0,2.0,2.0,2.0,2.0,2.0,2.0,2.0,2.0,2.0,2.0,2.0,2.0,2.0,2.0,2.0,2.0,2.0,2.0,2.0,2.0,2.0,2.0,2.0,2.0,2.0,2.0,2.0,2.0,2.0,2.0,2.0,2.0,0.0,0.0,0.0,0.0,0.0,0.0,0.0,0.0,0.0,0.0,0.0,0.0,0.0,0.0,0.0,0.0,0.0,0.0,0.0,0.0,0.0,0.0,0.0,0.0,0.0,0.0,0.0,0.0,0.0,0.0,0.0,0.0,0.0,0.0,0.0,0.0,0.0,0.0,0.0,0.0,0.0,0.0,0.0,0.0,0.0,0.0,0.0,0.0]},\"mode\":\"markers\",\"text\":[1.0,1.0,1.0,1.0,1.0,1.0,1.0,1.0,1.0,1.0,1.0,1.0,1.0,1.0,1.0,1.0,1.0,1.0,1.0,1.0,1.0,1.0,1.0,1.0,1.0,1.0,1.0,1.0,1.0,1.0,1.0,1.0,1.0,1.0,1.0,1.0,1.0,1.0,1.0,1.0,1.0,1.0,1.0,1.0,1.0,1.0,1.0,1.0,1.0,1.0,1.0,1.0,1.0,1.0,1.0,1.0,1.0,1.0,1.0,2.0,2.0,2.0,2.0,2.0,2.0,2.0,2.0,2.0,2.0,2.0,2.0,2.0,2.0,1.0,2.0,2.0,2.0,2.0,2.0,2.0,2.0,2.0,2.0,0.0,2.0,2.0,2.0,2.0,2.0,2.0,2.0,2.0,2.0,2.0,2.0,2.0,2.0,2.0,2.0,2.0,2.0,2.0,2.0,2.0,2.0,2.0,2.0,2.0,2.0,2.0,2.0,2.0,2.0,2.0,2.0,2.0,2.0,2.0,2.0,2.0,2.0,2.0,2.0,2.0,2.0,2.0,2.0,2.0,2.0,2.0,0.0,0.0,0.0,0.0,0.0,0.0,0.0,0.0,0.0,0.0,0.0,0.0,0.0,0.0,0.0,0.0,0.0,0.0,0.0,0.0,0.0,0.0,0.0,0.0,0.0,0.0,0.0,0.0,0.0,0.0,0.0,0.0,0.0,0.0,0.0,0.0,0.0,0.0,0.0,0.0,0.0,0.0,0.0,0.0,0.0,0.0,0.0,0.0],\"x\":[0.3720136518771331,0.26450511945392485,0.3754266211604095,0.5563139931740614,0.2593856655290102,0.4667235494880546,0.3387372013651877,0.3216723549488054,0.33447098976109213,0.5068259385665529,0.3813993174061433,0.31740614334470985,0.3686006825938566,0.3515358361774744,0.5307167235494881,0.5136518771331058,0.41979522184300344,0.4539249146757679,0.6331058020477814,0.325938566552901,0.37286689419795227,0.27474402730375425,0.21501706484641633,0.22610921501706485,0.1911262798634812,0.1962457337883959,0.30034129692832756,0.22781569965870305,0.27474402730375425,0.29180887372013653,0.37713310580204773,0.4795221843003413,0.21843003412969278,0.3515358361774744,0.2491467576791809,0.325938566552901,0.2832764505119454,0.2534129692832764,0.20648464163822525,0.325938566552901,0.4138225255972696,0.2559726962457338,0.35409556313993173,0.2627986348122867,0.32081911262798635,0.33788395904436863,0.3088737201365188,0.4112627986348123,0.41979522184300344,0.6501706484641638,0.5051194539249146,0.3686006825938566,0.4923208191126279,0.42832764505119447,0.38993174061433444,0.424061433447099,0.4351535836177475,0.40273037542662116,0.4709897610921502,0.057167235494880536,0.1697952218430034,0.3813993174061433,0.21501706484641633,0.2704778156996587,0.1424914675767918,0.2832764505119454,0.3430034129692833,0.2901023890784983,0.16126279863481227,0.13395904436860068,0.15102389078498293,0.17918088737201363,0.2098976109215017,0.1766211604095563,0.16467576791808872,0.21501706484641633,0.2832764505119454,0.11689419795221842,0.18088737201365188,0.1100682593856655,0.10409556313993173,0.22354948805460748,0.07849829351535836,0.30034129692832756,0.15102389078498293,0.1143344709897611,0.09982935153583619,0.11262798634812288,0.1296928327645051,0.03924914675767918,0.09556313993174059,0.1979522184300341,0.15102389078498293,0.07423208191126279,0.16808873720136516,0.11262798634812288,0.10409556313993173,0.13822525597269622,0.27474402730375425,0.08703071672354948,0.17235494880546073,0.09982935153583619,0.1296928327645051,0.06655290102389078,0.14163822525597267,0.12116040955631399,0.18088737201365188,0.17235494880546073,0.12116040955631399,0.11689419795221842,0.13822525597269622,0.06143344709897611,0.21501706484641633,0.15358361774744025,0.13822525597269622,0.052901023890784965,0.057167235494880536,0.06655290102389078,0.18088737201365188,0.0,0.16808873720136516,0.40273037542662116,0.06825938566552903,0.11262798634812288,0.1296928327645051,0.12627986348122863,0.22696245733788392,0.14675767918088736,0.07167235494880547,0.11262798634812288,0.2406143344709897,0.3515358361774744,0.37713310580204773,0.31740614334470985,0.35580204778157,0.4965870307167235,0.21928327645051196,0.31740614334470985,0.37713310580204773,0.31058020477815695,0.2832764505119454,0.3686006825938566,0.26194539249146753,0.2662116040955631,0.5912969283276451,0.23208191126279862,0.3088737201365188,0.5435153583617748,0.6092150170648464,0.6928327645051194,0.6245733788395904,0.8122866894197952,0.4965870307167235,0.78839590443686,0.5392491467576791,0.5648464163822525,0.659556313993174,0.5307167235494881,0.9999999999999999,0.893344709897611,0.5435153583617748,0.39249146757679176,0.36689419795221845,0.341296928327645,0.7081911262798635,0.45563139931740615,0.8020477815699658,0.7662116040955631,0.6296928327645052,0.6160409556313993,0.36006825938566556,0.7354947952218429,0.7184300341296928,0.5477815699658704,0.5136518771331058,0.7610921501706484,0.6843003412969284,0.6757679180887372],\"y\":[0.8421052631578951,0.5710526315789473,0.560526315789474,0.8789473684210525,0.5815789473684214,0.8342105263157893,0.8842105263157896,0.797368421052632,1.0,0.7447368421052629,0.8078947368421052,0.8131578947368419,0.7157894736842105,0.9789473684210526,0.8815789473684212,0.6842105263157898,0.8605263157894738,0.736842105263158,0.831578947368421,0.6868421052631581,0.797368421052632,0.5,0.7052631578947373,0.47894736842105257,0.6499999999999999,0.5315789473684216,0.6210526315789475,0.5973684210526318,0.7473684210526317,0.7868421052631578,0.7105263157894739,0.6710526315789473,0.6973684210526314,0.7184210526315788,0.6526315789473687,0.6447368421052633,0.5921052631578947,0.5315789473684216,0.5368421052631582,0.8394736842105264,0.6657894736842107,0.6263157894736846,0.7500000000000004,0.5815789473684214,0.5315789473684216,0.836842105263158,0.8815789473684212,0.7552631578947371,0.8078947368421052,0.7657894736842104,0.5315789473684216,0.736842105263158,0.7342105263157896,0.7210526315789472,0.7131578947368422,0.6657894736842107,0.8394736842105264,0.594736842105263,0.7078947368421056,0.3526315789473684,0.34210526315789513,0.4236842105263161,0.6947368421052631,0.3526315789473684,0.30000000000000027,0.3526315789473684,0.5473684210526315,0.3526315789473684,0.6078947368421055,0.310526315789474,0.331578947368421,0.7447368421052629,0.6473684210526316,0.5157894736842108,0.2447368421052638,0.1657894736842107,0.5263157894736841,0.2131578947368422,0.34210526315789513,0.43947368421052646,0.2552631578947371,0.44473684210526354,0.2763157894736845,0.5315789473684216,0.2131578947368422,0.43157894736842106,0.29736842105263195,0.1631578947368424,0.16052631578947407,0.2763157894736845,0.2763157894736845,0.2552631578947371,0.43684210526315814,0.331578947368421,0.155263157894737,0.3789473684210529,0.20526315789473726,0.331578947368421,0.3526315789473684,0.331578947368421,0.2763157894736845,0.4131578947368424,0.34473684210526345,0.20789473684210558,0.38947368421052664,0.3657894736842109,0.3210526315789477,0.44473684210526354,0.3131578947368423,0.15263157894736867,0.11315789473684257,0.39210526315789496,0.19210526315789478,0.10000000000000053,0.2763157894736845,0.0,0.20789473684210558,0.3657894736842109,0.45789473684210513,0.2552631578947371,0.1105263157894738,0.13947368421052664,0.3657894736842109,0.5315789473684216,0.2210526315789476,0.2736842105263162,0.3684210526315792,0.20000000000000018,0.3526315789473684,0.26578947368421035,0.4815789473684209,0.4868421052631584,0.4684210526315793,0.43947368421052646,0.38947368421052664,0.4131578947368424,0.3210526315789477,0.3947368421052633,0.6473684210526316,0.47631578947368425,0.5,0.6131578947368421,0.655263157894737,0.6815789473684211,0.3210526315789477,0.560526315789474,0.7500000000000004,0.48421052631578965,0.6026315789473689,0.5394736842105265,0.6499999999999999,0.4631578947368422,0.5473684210526315,0.5789473684210531,0.4078947368421053,0.5631578947368423,0.7394736842105263,0.37368421052631584,0.8710526315789475,0.6447368421052633,0.3500000000000001,0.7000000000000002,0.47894736842105257,0.5078947368421058,0.7236842105263159,0.7105263157894739,0.6368421052631579,0.4710526315789476,0.6710526315789473,0.6236842105263158,0.3078947368421052,0.45789473684210513,0.823684210526316,0.7052631578947373,0.6236842105263158,0.5894736842105264,0.5631578947368423,0.8157894736842106],\"type\":\"scatter\"}],                        {\"template\":{\"data\":{\"bar\":[{\"error_x\":{\"color\":\"#2a3f5f\"},\"error_y\":{\"color\":\"#2a3f5f\"},\"marker\":{\"line\":{\"color\":\"#E5ECF6\",\"width\":0.5},\"pattern\":{\"fillmode\":\"overlay\",\"size\":10,\"solidity\":0.2}},\"type\":\"bar\"}],\"barpolar\":[{\"marker\":{\"line\":{\"color\":\"#E5ECF6\",\"width\":0.5},\"pattern\":{\"fillmode\":\"overlay\",\"size\":10,\"solidity\":0.2}},\"type\":\"barpolar\"}],\"carpet\":[{\"aaxis\":{\"endlinecolor\":\"#2a3f5f\",\"gridcolor\":\"white\",\"linecolor\":\"white\",\"minorgridcolor\":\"white\",\"startlinecolor\":\"#2a3f5f\"},\"baxis\":{\"endlinecolor\":\"#2a3f5f\",\"gridcolor\":\"white\",\"linecolor\":\"white\",\"minorgridcolor\":\"white\",\"startlinecolor\":\"#2a3f5f\"},\"type\":\"carpet\"}],\"choropleth\":[{\"colorbar\":{\"outlinewidth\":0,\"ticks\":\"\"},\"type\":\"choropleth\"}],\"contour\":[{\"colorbar\":{\"outlinewidth\":0,\"ticks\":\"\"},\"colorscale\":[[0.0,\"#0d0887\"],[0.1111111111111111,\"#46039f\"],[0.2222222222222222,\"#7201a8\"],[0.3333333333333333,\"#9c179e\"],[0.4444444444444444,\"#bd3786\"],[0.5555555555555556,\"#d8576b\"],[0.6666666666666666,\"#ed7953\"],[0.7777777777777778,\"#fb9f3a\"],[0.8888888888888888,\"#fdca26\"],[1.0,\"#f0f921\"]],\"type\":\"contour\"}],\"contourcarpet\":[{\"colorbar\":{\"outlinewidth\":0,\"ticks\":\"\"},\"type\":\"contourcarpet\"}],\"heatmap\":[{\"colorbar\":{\"outlinewidth\":0,\"ticks\":\"\"},\"colorscale\":[[0.0,\"#0d0887\"],[0.1111111111111111,\"#46039f\"],[0.2222222222222222,\"#7201a8\"],[0.3333333333333333,\"#9c179e\"],[0.4444444444444444,\"#bd3786\"],[0.5555555555555556,\"#d8576b\"],[0.6666666666666666,\"#ed7953\"],[0.7777777777777778,\"#fb9f3a\"],[0.8888888888888888,\"#fdca26\"],[1.0,\"#f0f921\"]],\"type\":\"heatmap\"}],\"heatmapgl\":[{\"colorbar\":{\"outlinewidth\":0,\"ticks\":\"\"},\"colorscale\":[[0.0,\"#0d0887\"],[0.1111111111111111,\"#46039f\"],[0.2222222222222222,\"#7201a8\"],[0.3333333333333333,\"#9c179e\"],[0.4444444444444444,\"#bd3786\"],[0.5555555555555556,\"#d8576b\"],[0.6666666666666666,\"#ed7953\"],[0.7777777777777778,\"#fb9f3a\"],[0.8888888888888888,\"#fdca26\"],[1.0,\"#f0f921\"]],\"type\":\"heatmapgl\"}],\"histogram\":[{\"marker\":{\"pattern\":{\"fillmode\":\"overlay\",\"size\":10,\"solidity\":0.2}},\"type\":\"histogram\"}],\"histogram2d\":[{\"colorbar\":{\"outlinewidth\":0,\"ticks\":\"\"},\"colorscale\":[[0.0,\"#0d0887\"],[0.1111111111111111,\"#46039f\"],[0.2222222222222222,\"#7201a8\"],[0.3333333333333333,\"#9c179e\"],[0.4444444444444444,\"#bd3786\"],[0.5555555555555556,\"#d8576b\"],[0.6666666666666666,\"#ed7953\"],[0.7777777777777778,\"#fb9f3a\"],[0.8888888888888888,\"#fdca26\"],[1.0,\"#f0f921\"]],\"type\":\"histogram2d\"}],\"histogram2dcontour\":[{\"colorbar\":{\"outlinewidth\":0,\"ticks\":\"\"},\"colorscale\":[[0.0,\"#0d0887\"],[0.1111111111111111,\"#46039f\"],[0.2222222222222222,\"#7201a8\"],[0.3333333333333333,\"#9c179e\"],[0.4444444444444444,\"#bd3786\"],[0.5555555555555556,\"#d8576b\"],[0.6666666666666666,\"#ed7953\"],[0.7777777777777778,\"#fb9f3a\"],[0.8888888888888888,\"#fdca26\"],[1.0,\"#f0f921\"]],\"type\":\"histogram2dcontour\"}],\"mesh3d\":[{\"colorbar\":{\"outlinewidth\":0,\"ticks\":\"\"},\"type\":\"mesh3d\"}],\"parcoords\":[{\"line\":{\"colorbar\":{\"outlinewidth\":0,\"ticks\":\"\"}},\"type\":\"parcoords\"}],\"pie\":[{\"automargin\":true,\"type\":\"pie\"}],\"scatter\":[{\"marker\":{\"colorbar\":{\"outlinewidth\":0,\"ticks\":\"\"}},\"type\":\"scatter\"}],\"scatter3d\":[{\"line\":{\"colorbar\":{\"outlinewidth\":0,\"ticks\":\"\"}},\"marker\":{\"colorbar\":{\"outlinewidth\":0,\"ticks\":\"\"}},\"type\":\"scatter3d\"}],\"scattercarpet\":[{\"marker\":{\"colorbar\":{\"outlinewidth\":0,\"ticks\":\"\"}},\"type\":\"scattercarpet\"}],\"scattergeo\":[{\"marker\":{\"colorbar\":{\"outlinewidth\":0,\"ticks\":\"\"}},\"type\":\"scattergeo\"}],\"scattergl\":[{\"marker\":{\"colorbar\":{\"outlinewidth\":0,\"ticks\":\"\"}},\"type\":\"scattergl\"}],\"scattermapbox\":[{\"marker\":{\"colorbar\":{\"outlinewidth\":0,\"ticks\":\"\"}},\"type\":\"scattermapbox\"}],\"scatterpolar\":[{\"marker\":{\"colorbar\":{\"outlinewidth\":0,\"ticks\":\"\"}},\"type\":\"scatterpolar\"}],\"scatterpolargl\":[{\"marker\":{\"colorbar\":{\"outlinewidth\":0,\"ticks\":\"\"}},\"type\":\"scatterpolargl\"}],\"scatterternary\":[{\"marker\":{\"colorbar\":{\"outlinewidth\":0,\"ticks\":\"\"}},\"type\":\"scatterternary\"}],\"surface\":[{\"colorbar\":{\"outlinewidth\":0,\"ticks\":\"\"},\"colorscale\":[[0.0,\"#0d0887\"],[0.1111111111111111,\"#46039f\"],[0.2222222222222222,\"#7201a8\"],[0.3333333333333333,\"#9c179e\"],[0.4444444444444444,\"#bd3786\"],[0.5555555555555556,\"#d8576b\"],[0.6666666666666666,\"#ed7953\"],[0.7777777777777778,\"#fb9f3a\"],[0.8888888888888888,\"#fdca26\"],[1.0,\"#f0f921\"]],\"type\":\"surface\"}],\"table\":[{\"cells\":{\"fill\":{\"color\":\"#EBF0F8\"},\"line\":{\"color\":\"white\"}},\"header\":{\"fill\":{\"color\":\"#C8D4E3\"},\"line\":{\"color\":\"white\"}},\"type\":\"table\"}]},\"layout\":{\"annotationdefaults\":{\"arrowcolor\":\"#2a3f5f\",\"arrowhead\":0,\"arrowwidth\":1},\"autotypenumbers\":\"strict\",\"coloraxis\":{\"colorbar\":{\"outlinewidth\":0,\"ticks\":\"\"}},\"colorscale\":{\"diverging\":[[0,\"#8e0152\"],[0.1,\"#c51b7d\"],[0.2,\"#de77ae\"],[0.3,\"#f1b6da\"],[0.4,\"#fde0ef\"],[0.5,\"#f7f7f7\"],[0.6,\"#e6f5d0\"],[0.7,\"#b8e186\"],[0.8,\"#7fbc41\"],[0.9,\"#4d9221\"],[1,\"#276419\"]],\"sequential\":[[0.0,\"#0d0887\"],[0.1111111111111111,\"#46039f\"],[0.2222222222222222,\"#7201a8\"],[0.3333333333333333,\"#9c179e\"],[0.4444444444444444,\"#bd3786\"],[0.5555555555555556,\"#d8576b\"],[0.6666666666666666,\"#ed7953\"],[0.7777777777777778,\"#fb9f3a\"],[0.8888888888888888,\"#fdca26\"],[1.0,\"#f0f921\"]],\"sequentialminus\":[[0.0,\"#0d0887\"],[0.1111111111111111,\"#46039f\"],[0.2222222222222222,\"#7201a8\"],[0.3333333333333333,\"#9c179e\"],[0.4444444444444444,\"#bd3786\"],[0.5555555555555556,\"#d8576b\"],[0.6666666666666666,\"#ed7953\"],[0.7777777777777778,\"#fb9f3a\"],[0.8888888888888888,\"#fdca26\"],[1.0,\"#f0f921\"]]},\"colorway\":[\"#636efa\",\"#EF553B\",\"#00cc96\",\"#ab63fa\",\"#FFA15A\",\"#19d3f3\",\"#FF6692\",\"#B6E880\",\"#FF97FF\",\"#FECB52\"],\"font\":{\"color\":\"#2a3f5f\"},\"geo\":{\"bgcolor\":\"white\",\"lakecolor\":\"white\",\"landcolor\":\"#E5ECF6\",\"showlakes\":true,\"showland\":true,\"subunitcolor\":\"white\"},\"hoverlabel\":{\"align\":\"left\"},\"hovermode\":\"closest\",\"mapbox\":{\"style\":\"light\"},\"paper_bgcolor\":\"white\",\"plot_bgcolor\":\"#E5ECF6\",\"polar\":{\"angularaxis\":{\"gridcolor\":\"white\",\"linecolor\":\"white\",\"ticks\":\"\"},\"bgcolor\":\"#E5ECF6\",\"radialaxis\":{\"gridcolor\":\"white\",\"linecolor\":\"white\",\"ticks\":\"\"}},\"scene\":{\"xaxis\":{\"backgroundcolor\":\"#E5ECF6\",\"gridcolor\":\"white\",\"gridwidth\":2,\"linecolor\":\"white\",\"showbackground\":true,\"ticks\":\"\",\"zerolinecolor\":\"white\"},\"yaxis\":{\"backgroundcolor\":\"#E5ECF6\",\"gridcolor\":\"white\",\"gridwidth\":2,\"linecolor\":\"white\",\"showbackground\":true,\"ticks\":\"\",\"zerolinecolor\":\"white\"},\"zaxis\":{\"backgroundcolor\":\"#E5ECF6\",\"gridcolor\":\"white\",\"gridwidth\":2,\"linecolor\":\"white\",\"showbackground\":true,\"ticks\":\"\",\"zerolinecolor\":\"white\"}},\"shapedefaults\":{\"line\":{\"color\":\"#2a3f5f\"}},\"ternary\":{\"aaxis\":{\"gridcolor\":\"white\",\"linecolor\":\"white\",\"ticks\":\"\"},\"baxis\":{\"gridcolor\":\"white\",\"linecolor\":\"white\",\"ticks\":\"\"},\"bgcolor\":\"#E5ECF6\",\"caxis\":{\"gridcolor\":\"white\",\"linecolor\":\"white\",\"ticks\":\"\"}},\"title\":{\"x\":0.05},\"xaxis\":{\"automargin\":true,\"gridcolor\":\"white\",\"linecolor\":\"white\",\"ticks\":\"\",\"title\":{\"standoff\":15},\"zerolinecolor\":\"white\",\"zerolinewidth\":2},\"yaxis\":{\"automargin\":true,\"gridcolor\":\"white\",\"linecolor\":\"white\",\"ticks\":\"\",\"title\":{\"standoff\":15},\"zerolinecolor\":\"white\",\"zerolinewidth\":2}}}},                        {\"responsive\": true}                    ).then(function(){\n",
              "                            \n",
              "var gd = document.getElementById('a407165e-1dbc-4213-88a4-8c5095679f73');\n",
              "var x = new MutationObserver(function (mutations, observer) {{\n",
              "        var display = window.getComputedStyle(gd).display;\n",
              "        if (!display || display === 'none') {{\n",
              "            console.log([gd, 'removed!']);\n",
              "            Plotly.purge(gd);\n",
              "            observer.disconnect();\n",
              "        }}\n",
              "}});\n",
              "\n",
              "// Listen for the removal of the full notebook cells\n",
              "var notebookContainer = gd.closest('#notebook-container');\n",
              "if (notebookContainer) {{\n",
              "    x.observe(notebookContainer, {childList: true});\n",
              "}}\n",
              "\n",
              "// Listen for the clearing of the current output cell\n",
              "var outputEl = gd.closest('.output');\n",
              "if (outputEl) {{\n",
              "    x.observe(outputEl, {childList: true});\n",
              "}}\n",
              "\n",
              "                        })                };                            </script>        </div>\n",
              "</body>\n",
              "</html>"
            ]
          },
          "metadata": {}
        }
      ]
    },
    {
      "cell_type": "markdown",
      "source": [
        "Nice! Now, it seems that our clusters are more appropriately divided. Also, let's try to add an attribute to our plot, to see if it helps us in identifying these distinctions:"
      ],
      "metadata": {
        "id": "7RWerJPlhwdv"
      }
    },
    {
      "cell_type": "code",
      "source": [
        "fig = go.Figure( )\n",
        "sp = go.Scatter3d(x = df_kmeans['Color_Intensity'], y = df_kmeans['Alcohol'], z = df_kmeans['Proline'], mode = 'markers', marker = dict(color = df_kmeans.ClusterWines.astype(float)), text = df_kmeans.ClusterWines)\n",
        "fig.add_trace(sp)\n",
        "\n",
        "fig.update_layout(scene = dict(xaxis_title = 'Color intensity', yaxis_title = 'Alcohol', zaxis_title = 'Proline'))"
      ],
      "metadata": {
        "colab": {
          "base_uri": "https://localhost:8080/",
          "height": 542
        },
        "id": "JeH9c7W2huq7",
        "outputId": "6ca20ebb-5642-469b-9a62-d5274235eb0d"
      },
      "execution_count": 91,
      "outputs": [
        {
          "output_type": "display_data",
          "data": {
            "text/html": [
              "<html>\n",
              "<head><meta charset=\"utf-8\" /></head>\n",
              "<body>\n",
              "    <div>            <script src=\"https://cdnjs.cloudflare.com/ajax/libs/mathjax/2.7.5/MathJax.js?config=TeX-AMS-MML_SVG\"></script><script type=\"text/javascript\">if (window.MathJax) {MathJax.Hub.Config({SVG: {font: \"STIX-Web\"}});}</script>                <script type=\"text/javascript\">window.PlotlyConfig = {MathJaxConfig: 'local'};</script>\n",
              "        <script src=\"https://cdn.plot.ly/plotly-2.8.3.min.js\"></script>                <div id=\"8028d3d2-8b53-4686-898d-48ffef7434ef\" class=\"plotly-graph-div\" style=\"height:525px; width:100%;\"></div>            <script type=\"text/javascript\">                                    window.PLOTLYENV=window.PLOTLYENV || {};                                    if (document.getElementById(\"8028d3d2-8b53-4686-898d-48ffef7434ef\")) {                    Plotly.newPlot(                        \"8028d3d2-8b53-4686-898d-48ffef7434ef\",                        [{\"marker\":{\"color\":[1.0,1.0,1.0,1.0,1.0,1.0,1.0,1.0,1.0,1.0,1.0,1.0,1.0,1.0,1.0,1.0,1.0,1.0,1.0,1.0,1.0,1.0,1.0,1.0,1.0,1.0,1.0,1.0,1.0,1.0,1.0,1.0,1.0,1.0,1.0,1.0,1.0,1.0,1.0,1.0,1.0,1.0,1.0,1.0,1.0,1.0,1.0,1.0,1.0,1.0,1.0,1.0,1.0,1.0,1.0,1.0,1.0,1.0,1.0,2.0,2.0,2.0,2.0,2.0,2.0,2.0,2.0,2.0,2.0,2.0,2.0,2.0,2.0,1.0,2.0,2.0,2.0,2.0,2.0,2.0,2.0,2.0,2.0,0.0,2.0,2.0,2.0,2.0,2.0,2.0,2.0,2.0,2.0,2.0,2.0,2.0,2.0,2.0,2.0,2.0,2.0,2.0,2.0,2.0,2.0,2.0,2.0,2.0,2.0,2.0,2.0,2.0,2.0,2.0,2.0,2.0,2.0,2.0,2.0,2.0,2.0,2.0,2.0,2.0,2.0,2.0,2.0,2.0,2.0,2.0,0.0,0.0,0.0,0.0,0.0,0.0,0.0,0.0,0.0,0.0,0.0,0.0,0.0,0.0,0.0,0.0,0.0,0.0,0.0,0.0,0.0,0.0,0.0,0.0,0.0,0.0,0.0,0.0,0.0,0.0,0.0,0.0,0.0,0.0,0.0,0.0,0.0,0.0,0.0,0.0,0.0,0.0,0.0,0.0,0.0,0.0,0.0,0.0]},\"mode\":\"markers\",\"text\":[1.0,1.0,1.0,1.0,1.0,1.0,1.0,1.0,1.0,1.0,1.0,1.0,1.0,1.0,1.0,1.0,1.0,1.0,1.0,1.0,1.0,1.0,1.0,1.0,1.0,1.0,1.0,1.0,1.0,1.0,1.0,1.0,1.0,1.0,1.0,1.0,1.0,1.0,1.0,1.0,1.0,1.0,1.0,1.0,1.0,1.0,1.0,1.0,1.0,1.0,1.0,1.0,1.0,1.0,1.0,1.0,1.0,1.0,1.0,2.0,2.0,2.0,2.0,2.0,2.0,2.0,2.0,2.0,2.0,2.0,2.0,2.0,2.0,1.0,2.0,2.0,2.0,2.0,2.0,2.0,2.0,2.0,2.0,0.0,2.0,2.0,2.0,2.0,2.0,2.0,2.0,2.0,2.0,2.0,2.0,2.0,2.0,2.0,2.0,2.0,2.0,2.0,2.0,2.0,2.0,2.0,2.0,2.0,2.0,2.0,2.0,2.0,2.0,2.0,2.0,2.0,2.0,2.0,2.0,2.0,2.0,2.0,2.0,2.0,2.0,2.0,2.0,2.0,2.0,2.0,0.0,0.0,0.0,0.0,0.0,0.0,0.0,0.0,0.0,0.0,0.0,0.0,0.0,0.0,0.0,0.0,0.0,0.0,0.0,0.0,0.0,0.0,0.0,0.0,0.0,0.0,0.0,0.0,0.0,0.0,0.0,0.0,0.0,0.0,0.0,0.0,0.0,0.0,0.0,0.0,0.0,0.0,0.0,0.0,0.0,0.0,0.0,0.0],\"x\":[0.3720136518771331,0.26450511945392485,0.3754266211604095,0.5563139931740614,0.2593856655290102,0.4667235494880546,0.3387372013651877,0.3216723549488054,0.33447098976109213,0.5068259385665529,0.3813993174061433,0.31740614334470985,0.3686006825938566,0.3515358361774744,0.5307167235494881,0.5136518771331058,0.41979522184300344,0.4539249146757679,0.6331058020477814,0.325938566552901,0.37286689419795227,0.27474402730375425,0.21501706484641633,0.22610921501706485,0.1911262798634812,0.1962457337883959,0.30034129692832756,0.22781569965870305,0.27474402730375425,0.29180887372013653,0.37713310580204773,0.4795221843003413,0.21843003412969278,0.3515358361774744,0.2491467576791809,0.325938566552901,0.2832764505119454,0.2534129692832764,0.20648464163822525,0.325938566552901,0.4138225255972696,0.2559726962457338,0.35409556313993173,0.2627986348122867,0.32081911262798635,0.33788395904436863,0.3088737201365188,0.4112627986348123,0.41979522184300344,0.6501706484641638,0.5051194539249146,0.3686006825938566,0.4923208191126279,0.42832764505119447,0.38993174061433444,0.424061433447099,0.4351535836177475,0.40273037542662116,0.4709897610921502,0.057167235494880536,0.1697952218430034,0.3813993174061433,0.21501706484641633,0.2704778156996587,0.1424914675767918,0.2832764505119454,0.3430034129692833,0.2901023890784983,0.16126279863481227,0.13395904436860068,0.15102389078498293,0.17918088737201363,0.2098976109215017,0.1766211604095563,0.16467576791808872,0.21501706484641633,0.2832764505119454,0.11689419795221842,0.18088737201365188,0.1100682593856655,0.10409556313993173,0.22354948805460748,0.07849829351535836,0.30034129692832756,0.15102389078498293,0.1143344709897611,0.09982935153583619,0.11262798634812288,0.1296928327645051,0.03924914675767918,0.09556313993174059,0.1979522184300341,0.15102389078498293,0.07423208191126279,0.16808873720136516,0.11262798634812288,0.10409556313993173,0.13822525597269622,0.27474402730375425,0.08703071672354948,0.17235494880546073,0.09982935153583619,0.1296928327645051,0.06655290102389078,0.14163822525597267,0.12116040955631399,0.18088737201365188,0.17235494880546073,0.12116040955631399,0.11689419795221842,0.13822525597269622,0.06143344709897611,0.21501706484641633,0.15358361774744025,0.13822525597269622,0.052901023890784965,0.057167235494880536,0.06655290102389078,0.18088737201365188,0.0,0.16808873720136516,0.40273037542662116,0.06825938566552903,0.11262798634812288,0.1296928327645051,0.12627986348122863,0.22696245733788392,0.14675767918088736,0.07167235494880547,0.11262798634812288,0.2406143344709897,0.3515358361774744,0.37713310580204773,0.31740614334470985,0.35580204778157,0.4965870307167235,0.21928327645051196,0.31740614334470985,0.37713310580204773,0.31058020477815695,0.2832764505119454,0.3686006825938566,0.26194539249146753,0.2662116040955631,0.5912969283276451,0.23208191126279862,0.3088737201365188,0.5435153583617748,0.6092150170648464,0.6928327645051194,0.6245733788395904,0.8122866894197952,0.4965870307167235,0.78839590443686,0.5392491467576791,0.5648464163822525,0.659556313993174,0.5307167235494881,0.9999999999999999,0.893344709897611,0.5435153583617748,0.39249146757679176,0.36689419795221845,0.341296928327645,0.7081911262798635,0.45563139931740615,0.8020477815699658,0.7662116040955631,0.6296928327645052,0.6160409556313993,0.36006825938566556,0.7354947952218429,0.7184300341296928,0.5477815699658704,0.5136518771331058,0.7610921501706484,0.6843003412969284,0.6757679180887372],\"y\":[0.8421052631578951,0.5710526315789473,0.560526315789474,0.8789473684210525,0.5815789473684214,0.8342105263157893,0.8842105263157896,0.797368421052632,1.0,0.7447368421052629,0.8078947368421052,0.8131578947368419,0.7157894736842105,0.9789473684210526,0.8815789473684212,0.6842105263157898,0.8605263157894738,0.736842105263158,0.831578947368421,0.6868421052631581,0.797368421052632,0.5,0.7052631578947373,0.47894736842105257,0.6499999999999999,0.5315789473684216,0.6210526315789475,0.5973684210526318,0.7473684210526317,0.7868421052631578,0.7105263157894739,0.6710526315789473,0.6973684210526314,0.7184210526315788,0.6526315789473687,0.6447368421052633,0.5921052631578947,0.5315789473684216,0.5368421052631582,0.8394736842105264,0.6657894736842107,0.6263157894736846,0.7500000000000004,0.5815789473684214,0.5315789473684216,0.836842105263158,0.8815789473684212,0.7552631578947371,0.8078947368421052,0.7657894736842104,0.5315789473684216,0.736842105263158,0.7342105263157896,0.7210526315789472,0.7131578947368422,0.6657894736842107,0.8394736842105264,0.594736842105263,0.7078947368421056,0.3526315789473684,0.34210526315789513,0.4236842105263161,0.6947368421052631,0.3526315789473684,0.30000000000000027,0.3526315789473684,0.5473684210526315,0.3526315789473684,0.6078947368421055,0.310526315789474,0.331578947368421,0.7447368421052629,0.6473684210526316,0.5157894736842108,0.2447368421052638,0.1657894736842107,0.5263157894736841,0.2131578947368422,0.34210526315789513,0.43947368421052646,0.2552631578947371,0.44473684210526354,0.2763157894736845,0.5315789473684216,0.2131578947368422,0.43157894736842106,0.29736842105263195,0.1631578947368424,0.16052631578947407,0.2763157894736845,0.2763157894736845,0.2552631578947371,0.43684210526315814,0.331578947368421,0.155263157894737,0.3789473684210529,0.20526315789473726,0.331578947368421,0.3526315789473684,0.331578947368421,0.2763157894736845,0.4131578947368424,0.34473684210526345,0.20789473684210558,0.38947368421052664,0.3657894736842109,0.3210526315789477,0.44473684210526354,0.3131578947368423,0.15263157894736867,0.11315789473684257,0.39210526315789496,0.19210526315789478,0.10000000000000053,0.2763157894736845,0.0,0.20789473684210558,0.3657894736842109,0.45789473684210513,0.2552631578947371,0.1105263157894738,0.13947368421052664,0.3657894736842109,0.5315789473684216,0.2210526315789476,0.2736842105263162,0.3684210526315792,0.20000000000000018,0.3526315789473684,0.26578947368421035,0.4815789473684209,0.4868421052631584,0.4684210526315793,0.43947368421052646,0.38947368421052664,0.4131578947368424,0.3210526315789477,0.3947368421052633,0.6473684210526316,0.47631578947368425,0.5,0.6131578947368421,0.655263157894737,0.6815789473684211,0.3210526315789477,0.560526315789474,0.7500000000000004,0.48421052631578965,0.6026315789473689,0.5394736842105265,0.6499999999999999,0.4631578947368422,0.5473684210526315,0.5789473684210531,0.4078947368421053,0.5631578947368423,0.7394736842105263,0.37368421052631584,0.8710526315789475,0.6447368421052633,0.3500000000000001,0.7000000000000002,0.47894736842105257,0.5078947368421058,0.7236842105263159,0.7105263157894739,0.6368421052631579,0.4710526315789476,0.6710526315789473,0.6236842105263158,0.3078947368421052,0.45789473684210513,0.823684210526316,0.7052631578947373,0.6236842105263158,0.5894736842105264,0.5631578947368423,0.8157894736842106],\"z\":[0.5613409415121255,0.5506419400855921,0.6469329529243938,0.8573466476462198,0.3259629101283881,0.8359486447931527,0.7218259629101285,0.725392296718973,0.5470756062767476,0.5470756062767476,0.8787446504992867,0.7146932952924394,0.7432239657631955,0.6219686162624822,0.9051355206847361,0.7360912981455064,0.7146932952924394,0.6077032810271041,1.0,0.40442225392296727,0.35805991440798857,0.35092724679029963,0.5399429386590585,0.5256776034236805,0.40442225392296727,0.3937232524964337,0.6540656205420827,0.7182596291012839,0.4543509272467904,0.5399429386590585,0.7182596291012839,0.8823109843081313,0.5078459343794579,0.6825962910128388,0.5827389443651926,0.4579172610556348,0.4293865905848788,0.5898716119828816,0.529243937232525,0.3437945791726106,0.36875891583452214,0.5399429386590585,0.5827389443651926,0.2867332382310984,0.43295292439372324,0.5720399429386591,0.5613409415121255,0.5042796005706135,0.557774607703281,0.7004279600570614,0.6219686162624822,0.7039942938659058,0.6504992867332383,0.782453637660485,0.557774607703281,0.6005706134094152,0.4935805991440799,0.7075606276747504,0.7182596291012839,0.17261055634807418,0.2867332382310984,0.12268188302425106,0.2510699001426534,0.10128388017118403,0.054921540656205386,0.2853067047075606,0.15977175463623397,0.1654778887303852,0.33666191155492153,0.31383737517831667,0.4222539229671898,0.09415121255349498,0.13837375178316688,0.5042796005706135,0.4336661911554922,0.10699001426533525,0.08131241084165478,0.15834522111269614,0.33666191155492153,0.1319543509272468,0.0,0.3109843081312411,0.2510699001426534,0.16904422253922965,0.17261055634807418,0.12268188302425106,0.15477888730385161,0.20256776034236804,0.2867332382310984,0.24750356633380885,0.1440798858773181,0.12268188302425106,0.15477888730385161,0.008559201141226797,0.047788873038516394,0.4700427960057062,0.24750356633380885,0.10699001426533525,0.27246790299572043,0.09129814550641938,0.30813124108416545,0.20256776034236804,0.11412268188302424,0.09771754636233951,0.2810271041369472,0.02639087018544936,0.1654778887303852,0.14978601997146931,0.02425106990014264,0.2867332382310984,0.20256776034236804,0.033523537803138354,0.23466476462196864,0.11126961483594863,0.07631954350927247,0.09201141226818829,0.15477888730385161,0.047788873038516394,0.06704707560627673,0.20399429386590587,0.24750356633380885,0.13338088445078458,0.062054208273894434,0.07275320970042795,0.07275320970042795,0.07132667617689017,0.052781740370898694,0.1340941512125535,0.0456490727532097,0.21540656205420824,0.2510699001426534,0.17974322396576317,0.20114122681883026,0.22967189728958629,0.2653352353780314,0.297432239657632,0.3152639087018545,0.16904422253922965,0.21540656205420824,0.2225392296718973,0.22967189728958629,0.35805991440798857,0.17261055634807418,0.1940085592011412,0.4115549215406562,0.3937232524964337,0.09771754636233951,0.24750356633380885,0.2653352353780314,0.1940085592011412,0.15834522111269614,0.1440798858773181,0.1048502139800285,0.2831669044222539,0.25820256776034234,0.318830242510699,0.1440798858773181,0.4293865905848788,0.27246790299572043,0.24393723252496433,0.17261055634807418,0.2867332382310984,0.20827389443651925,0.2831669044222539,0.2403708987161198,0.17261055634807418,0.297432239657632,0.29029957203994294,0.33666191155492153,0.2510699001426534,0.1654778887303852,0.1369472182596291,0.27246790299572043,0.3295292439372326,0.33666191155492153,0.3972895863052782,0.40085592011412274,0.20114122681883026],\"type\":\"scatter3d\"}],                        {\"template\":{\"data\":{\"bar\":[{\"error_x\":{\"color\":\"#2a3f5f\"},\"error_y\":{\"color\":\"#2a3f5f\"},\"marker\":{\"line\":{\"color\":\"#E5ECF6\",\"width\":0.5},\"pattern\":{\"fillmode\":\"overlay\",\"size\":10,\"solidity\":0.2}},\"type\":\"bar\"}],\"barpolar\":[{\"marker\":{\"line\":{\"color\":\"#E5ECF6\",\"width\":0.5},\"pattern\":{\"fillmode\":\"overlay\",\"size\":10,\"solidity\":0.2}},\"type\":\"barpolar\"}],\"carpet\":[{\"aaxis\":{\"endlinecolor\":\"#2a3f5f\",\"gridcolor\":\"white\",\"linecolor\":\"white\",\"minorgridcolor\":\"white\",\"startlinecolor\":\"#2a3f5f\"},\"baxis\":{\"endlinecolor\":\"#2a3f5f\",\"gridcolor\":\"white\",\"linecolor\":\"white\",\"minorgridcolor\":\"white\",\"startlinecolor\":\"#2a3f5f\"},\"type\":\"carpet\"}],\"choropleth\":[{\"colorbar\":{\"outlinewidth\":0,\"ticks\":\"\"},\"type\":\"choropleth\"}],\"contour\":[{\"colorbar\":{\"outlinewidth\":0,\"ticks\":\"\"},\"colorscale\":[[0.0,\"#0d0887\"],[0.1111111111111111,\"#46039f\"],[0.2222222222222222,\"#7201a8\"],[0.3333333333333333,\"#9c179e\"],[0.4444444444444444,\"#bd3786\"],[0.5555555555555556,\"#d8576b\"],[0.6666666666666666,\"#ed7953\"],[0.7777777777777778,\"#fb9f3a\"],[0.8888888888888888,\"#fdca26\"],[1.0,\"#f0f921\"]],\"type\":\"contour\"}],\"contourcarpet\":[{\"colorbar\":{\"outlinewidth\":0,\"ticks\":\"\"},\"type\":\"contourcarpet\"}],\"heatmap\":[{\"colorbar\":{\"outlinewidth\":0,\"ticks\":\"\"},\"colorscale\":[[0.0,\"#0d0887\"],[0.1111111111111111,\"#46039f\"],[0.2222222222222222,\"#7201a8\"],[0.3333333333333333,\"#9c179e\"],[0.4444444444444444,\"#bd3786\"],[0.5555555555555556,\"#d8576b\"],[0.6666666666666666,\"#ed7953\"],[0.7777777777777778,\"#fb9f3a\"],[0.8888888888888888,\"#fdca26\"],[1.0,\"#f0f921\"]],\"type\":\"heatmap\"}],\"heatmapgl\":[{\"colorbar\":{\"outlinewidth\":0,\"ticks\":\"\"},\"colorscale\":[[0.0,\"#0d0887\"],[0.1111111111111111,\"#46039f\"],[0.2222222222222222,\"#7201a8\"],[0.3333333333333333,\"#9c179e\"],[0.4444444444444444,\"#bd3786\"],[0.5555555555555556,\"#d8576b\"],[0.6666666666666666,\"#ed7953\"],[0.7777777777777778,\"#fb9f3a\"],[0.8888888888888888,\"#fdca26\"],[1.0,\"#f0f921\"]],\"type\":\"heatmapgl\"}],\"histogram\":[{\"marker\":{\"pattern\":{\"fillmode\":\"overlay\",\"size\":10,\"solidity\":0.2}},\"type\":\"histogram\"}],\"histogram2d\":[{\"colorbar\":{\"outlinewidth\":0,\"ticks\":\"\"},\"colorscale\":[[0.0,\"#0d0887\"],[0.1111111111111111,\"#46039f\"],[0.2222222222222222,\"#7201a8\"],[0.3333333333333333,\"#9c179e\"],[0.4444444444444444,\"#bd3786\"],[0.5555555555555556,\"#d8576b\"],[0.6666666666666666,\"#ed7953\"],[0.7777777777777778,\"#fb9f3a\"],[0.8888888888888888,\"#fdca26\"],[1.0,\"#f0f921\"]],\"type\":\"histogram2d\"}],\"histogram2dcontour\":[{\"colorbar\":{\"outlinewidth\":0,\"ticks\":\"\"},\"colorscale\":[[0.0,\"#0d0887\"],[0.1111111111111111,\"#46039f\"],[0.2222222222222222,\"#7201a8\"],[0.3333333333333333,\"#9c179e\"],[0.4444444444444444,\"#bd3786\"],[0.5555555555555556,\"#d8576b\"],[0.6666666666666666,\"#ed7953\"],[0.7777777777777778,\"#fb9f3a\"],[0.8888888888888888,\"#fdca26\"],[1.0,\"#f0f921\"]],\"type\":\"histogram2dcontour\"}],\"mesh3d\":[{\"colorbar\":{\"outlinewidth\":0,\"ticks\":\"\"},\"type\":\"mesh3d\"}],\"parcoords\":[{\"line\":{\"colorbar\":{\"outlinewidth\":0,\"ticks\":\"\"}},\"type\":\"parcoords\"}],\"pie\":[{\"automargin\":true,\"type\":\"pie\"}],\"scatter\":[{\"marker\":{\"colorbar\":{\"outlinewidth\":0,\"ticks\":\"\"}},\"type\":\"scatter\"}],\"scatter3d\":[{\"line\":{\"colorbar\":{\"outlinewidth\":0,\"ticks\":\"\"}},\"marker\":{\"colorbar\":{\"outlinewidth\":0,\"ticks\":\"\"}},\"type\":\"scatter3d\"}],\"scattercarpet\":[{\"marker\":{\"colorbar\":{\"outlinewidth\":0,\"ticks\":\"\"}},\"type\":\"scattercarpet\"}],\"scattergeo\":[{\"marker\":{\"colorbar\":{\"outlinewidth\":0,\"ticks\":\"\"}},\"type\":\"scattergeo\"}],\"scattergl\":[{\"marker\":{\"colorbar\":{\"outlinewidth\":0,\"ticks\":\"\"}},\"type\":\"scattergl\"}],\"scattermapbox\":[{\"marker\":{\"colorbar\":{\"outlinewidth\":0,\"ticks\":\"\"}},\"type\":\"scattermapbox\"}],\"scatterpolar\":[{\"marker\":{\"colorbar\":{\"outlinewidth\":0,\"ticks\":\"\"}},\"type\":\"scatterpolar\"}],\"scatterpolargl\":[{\"marker\":{\"colorbar\":{\"outlinewidth\":0,\"ticks\":\"\"}},\"type\":\"scatterpolargl\"}],\"scatterternary\":[{\"marker\":{\"colorbar\":{\"outlinewidth\":0,\"ticks\":\"\"}},\"type\":\"scatterternary\"}],\"surface\":[{\"colorbar\":{\"outlinewidth\":0,\"ticks\":\"\"},\"colorscale\":[[0.0,\"#0d0887\"],[0.1111111111111111,\"#46039f\"],[0.2222222222222222,\"#7201a8\"],[0.3333333333333333,\"#9c179e\"],[0.4444444444444444,\"#bd3786\"],[0.5555555555555556,\"#d8576b\"],[0.6666666666666666,\"#ed7953\"],[0.7777777777777778,\"#fb9f3a\"],[0.8888888888888888,\"#fdca26\"],[1.0,\"#f0f921\"]],\"type\":\"surface\"}],\"table\":[{\"cells\":{\"fill\":{\"color\":\"#EBF0F8\"},\"line\":{\"color\":\"white\"}},\"header\":{\"fill\":{\"color\":\"#C8D4E3\"},\"line\":{\"color\":\"white\"}},\"type\":\"table\"}]},\"layout\":{\"annotationdefaults\":{\"arrowcolor\":\"#2a3f5f\",\"arrowhead\":0,\"arrowwidth\":1},\"autotypenumbers\":\"strict\",\"coloraxis\":{\"colorbar\":{\"outlinewidth\":0,\"ticks\":\"\"}},\"colorscale\":{\"diverging\":[[0,\"#8e0152\"],[0.1,\"#c51b7d\"],[0.2,\"#de77ae\"],[0.3,\"#f1b6da\"],[0.4,\"#fde0ef\"],[0.5,\"#f7f7f7\"],[0.6,\"#e6f5d0\"],[0.7,\"#b8e186\"],[0.8,\"#7fbc41\"],[0.9,\"#4d9221\"],[1,\"#276419\"]],\"sequential\":[[0.0,\"#0d0887\"],[0.1111111111111111,\"#46039f\"],[0.2222222222222222,\"#7201a8\"],[0.3333333333333333,\"#9c179e\"],[0.4444444444444444,\"#bd3786\"],[0.5555555555555556,\"#d8576b\"],[0.6666666666666666,\"#ed7953\"],[0.7777777777777778,\"#fb9f3a\"],[0.8888888888888888,\"#fdca26\"],[1.0,\"#f0f921\"]],\"sequentialminus\":[[0.0,\"#0d0887\"],[0.1111111111111111,\"#46039f\"],[0.2222222222222222,\"#7201a8\"],[0.3333333333333333,\"#9c179e\"],[0.4444444444444444,\"#bd3786\"],[0.5555555555555556,\"#d8576b\"],[0.6666666666666666,\"#ed7953\"],[0.7777777777777778,\"#fb9f3a\"],[0.8888888888888888,\"#fdca26\"],[1.0,\"#f0f921\"]]},\"colorway\":[\"#636efa\",\"#EF553B\",\"#00cc96\",\"#ab63fa\",\"#FFA15A\",\"#19d3f3\",\"#FF6692\",\"#B6E880\",\"#FF97FF\",\"#FECB52\"],\"font\":{\"color\":\"#2a3f5f\"},\"geo\":{\"bgcolor\":\"white\",\"lakecolor\":\"white\",\"landcolor\":\"#E5ECF6\",\"showlakes\":true,\"showland\":true,\"subunitcolor\":\"white\"},\"hoverlabel\":{\"align\":\"left\"},\"hovermode\":\"closest\",\"mapbox\":{\"style\":\"light\"},\"paper_bgcolor\":\"white\",\"plot_bgcolor\":\"#E5ECF6\",\"polar\":{\"angularaxis\":{\"gridcolor\":\"white\",\"linecolor\":\"white\",\"ticks\":\"\"},\"bgcolor\":\"#E5ECF6\",\"radialaxis\":{\"gridcolor\":\"white\",\"linecolor\":\"white\",\"ticks\":\"\"}},\"scene\":{\"xaxis\":{\"backgroundcolor\":\"#E5ECF6\",\"gridcolor\":\"white\",\"gridwidth\":2,\"linecolor\":\"white\",\"showbackground\":true,\"ticks\":\"\",\"zerolinecolor\":\"white\"},\"yaxis\":{\"backgroundcolor\":\"#E5ECF6\",\"gridcolor\":\"white\",\"gridwidth\":2,\"linecolor\":\"white\",\"showbackground\":true,\"ticks\":\"\",\"zerolinecolor\":\"white\"},\"zaxis\":{\"backgroundcolor\":\"#E5ECF6\",\"gridcolor\":\"white\",\"gridwidth\":2,\"linecolor\":\"white\",\"showbackground\":true,\"ticks\":\"\",\"zerolinecolor\":\"white\"}},\"shapedefaults\":{\"line\":{\"color\":\"#2a3f5f\"}},\"ternary\":{\"aaxis\":{\"gridcolor\":\"white\",\"linecolor\":\"white\",\"ticks\":\"\"},\"baxis\":{\"gridcolor\":\"white\",\"linecolor\":\"white\",\"ticks\":\"\"},\"bgcolor\":\"#E5ECF6\",\"caxis\":{\"gridcolor\":\"white\",\"linecolor\":\"white\",\"ticks\":\"\"}},\"title\":{\"x\":0.05},\"xaxis\":{\"automargin\":true,\"gridcolor\":\"white\",\"linecolor\":\"white\",\"ticks\":\"\",\"title\":{\"standoff\":15},\"zerolinecolor\":\"white\",\"zerolinewidth\":2},\"yaxis\":{\"automargin\":true,\"gridcolor\":\"white\",\"linecolor\":\"white\",\"ticks\":\"\",\"title\":{\"standoff\":15},\"zerolinecolor\":\"white\",\"zerolinewidth\":2}}},\"scene\":{\"xaxis\":{\"title\":{\"text\":\"Color intensity\"}},\"yaxis\":{\"title\":{\"text\":\"Alcohol\"}},\"zaxis\":{\"title\":{\"text\":\"Proline\"}}}},                        {\"responsive\": true}                    ).then(function(){\n",
              "                            \n",
              "var gd = document.getElementById('8028d3d2-8b53-4686-898d-48ffef7434ef');\n",
              "var x = new MutationObserver(function (mutations, observer) {{\n",
              "        var display = window.getComputedStyle(gd).display;\n",
              "        if (!display || display === 'none') {{\n",
              "            console.log([gd, 'removed!']);\n",
              "            Plotly.purge(gd);\n",
              "            observer.disconnect();\n",
              "        }}\n",
              "}});\n",
              "\n",
              "// Listen for the removal of the full notebook cells\n",
              "var notebookContainer = gd.closest('#notebook-container');\n",
              "if (notebookContainer) {{\n",
              "    x.observe(notebookContainer, {childList: true});\n",
              "}}\n",
              "\n",
              "// Listen for the clearing of the current output cell\n",
              "var outputEl = gd.closest('.output');\n",
              "if (outputEl) {{\n",
              "    x.observe(outputEl, {childList: true});\n",
              "}}\n",
              "\n",
              "                        })                };                            </script>        </div>\n",
              "</body>\n",
              "</html>"
            ]
          },
          "metadata": {}
        }
      ]
    },
    {
      "cell_type": "markdown",
      "source": [
        "Indeed, by considering a new axis, it seems that our clusters are easier to identify. Also, we can add the cluster center to our figure, to make it easier to understand why each entry is being identified as a cluster."
      ],
      "metadata": {
        "id": "1396zmwNjt0d"
      }
    },
    {
      "cell_type": "code",
      "source": [
        "kmeans_centers = pd.DataFrame(kmeans.cluster_centers_)\n",
        "kmeans_centers.columns = df_0.columns"
      ],
      "metadata": {
        "id": "OH_SItL7jdQ4"
      },
      "execution_count": 92,
      "outputs": []
    },
    {
      "cell_type": "code",
      "source": [
        "fig = go.Figure( )\n",
        "sp1 = go.Scatter3d(x = df_kmeans['Color_Intensity'], y = df_kmeans['Alcohol'], z = df_kmeans['Proline'], mode = 'markers', marker = dict(color = df_kmeans.ClusterWines.astype(float)), text = df_kmeans.ClusterWines)\n",
        "fig.add_trace(sp1)\n",
        "sp2 = go.Scatter3d(x = kmeans_centers['Color_Intensity'], y = kmeans_centers['Alcohol'], z = kmeans_centers['Proline'], mode = 'markers', marker = dict(color = 'red'), text = [0, 1, 2])\n",
        "fig.add_trace(sp2)\n",
        "\n",
        "fig.update_layout(scene = dict(xaxis_title = 'Color intensity', yaxis_title = 'Alcohol', zaxis_title = 'Proline'))"
      ],
      "metadata": {
        "colab": {
          "base_uri": "https://localhost:8080/",
          "height": 542
        },
        "id": "ODblajNjkdRl",
        "outputId": "0ec75ec5-3a2e-41d6-c3fd-b18fafe81e2b"
      },
      "execution_count": 93,
      "outputs": [
        {
          "output_type": "display_data",
          "data": {
            "text/html": [
              "<html>\n",
              "<head><meta charset=\"utf-8\" /></head>\n",
              "<body>\n",
              "    <div>            <script src=\"https://cdnjs.cloudflare.com/ajax/libs/mathjax/2.7.5/MathJax.js?config=TeX-AMS-MML_SVG\"></script><script type=\"text/javascript\">if (window.MathJax) {MathJax.Hub.Config({SVG: {font: \"STIX-Web\"}});}</script>                <script type=\"text/javascript\">window.PlotlyConfig = {MathJaxConfig: 'local'};</script>\n",
              "        <script src=\"https://cdn.plot.ly/plotly-2.8.3.min.js\"></script>                <div id=\"c88a24b1-295a-4921-b6e6-e35137e34ea6\" class=\"plotly-graph-div\" style=\"height:525px; width:100%;\"></div>            <script type=\"text/javascript\">                                    window.PLOTLYENV=window.PLOTLYENV || {};                                    if (document.getElementById(\"c88a24b1-295a-4921-b6e6-e35137e34ea6\")) {                    Plotly.newPlot(                        \"c88a24b1-295a-4921-b6e6-e35137e34ea6\",                        [{\"marker\":{\"color\":[1.0,1.0,1.0,1.0,1.0,1.0,1.0,1.0,1.0,1.0,1.0,1.0,1.0,1.0,1.0,1.0,1.0,1.0,1.0,1.0,1.0,1.0,1.0,1.0,1.0,1.0,1.0,1.0,1.0,1.0,1.0,1.0,1.0,1.0,1.0,1.0,1.0,1.0,1.0,1.0,1.0,1.0,1.0,1.0,1.0,1.0,1.0,1.0,1.0,1.0,1.0,1.0,1.0,1.0,1.0,1.0,1.0,1.0,1.0,2.0,2.0,2.0,2.0,2.0,2.0,2.0,2.0,2.0,2.0,2.0,2.0,2.0,2.0,1.0,2.0,2.0,2.0,2.0,2.0,2.0,2.0,2.0,2.0,0.0,2.0,2.0,2.0,2.0,2.0,2.0,2.0,2.0,2.0,2.0,2.0,2.0,2.0,2.0,2.0,2.0,2.0,2.0,2.0,2.0,2.0,2.0,2.0,2.0,2.0,2.0,2.0,2.0,2.0,2.0,2.0,2.0,2.0,2.0,2.0,2.0,2.0,2.0,2.0,2.0,2.0,2.0,2.0,2.0,2.0,2.0,0.0,0.0,0.0,0.0,0.0,0.0,0.0,0.0,0.0,0.0,0.0,0.0,0.0,0.0,0.0,0.0,0.0,0.0,0.0,0.0,0.0,0.0,0.0,0.0,0.0,0.0,0.0,0.0,0.0,0.0,0.0,0.0,0.0,0.0,0.0,0.0,0.0,0.0,0.0,0.0,0.0,0.0,0.0,0.0,0.0,0.0,0.0,0.0]},\"mode\":\"markers\",\"text\":[1.0,1.0,1.0,1.0,1.0,1.0,1.0,1.0,1.0,1.0,1.0,1.0,1.0,1.0,1.0,1.0,1.0,1.0,1.0,1.0,1.0,1.0,1.0,1.0,1.0,1.0,1.0,1.0,1.0,1.0,1.0,1.0,1.0,1.0,1.0,1.0,1.0,1.0,1.0,1.0,1.0,1.0,1.0,1.0,1.0,1.0,1.0,1.0,1.0,1.0,1.0,1.0,1.0,1.0,1.0,1.0,1.0,1.0,1.0,2.0,2.0,2.0,2.0,2.0,2.0,2.0,2.0,2.0,2.0,2.0,2.0,2.0,2.0,1.0,2.0,2.0,2.0,2.0,2.0,2.0,2.0,2.0,2.0,0.0,2.0,2.0,2.0,2.0,2.0,2.0,2.0,2.0,2.0,2.0,2.0,2.0,2.0,2.0,2.0,2.0,2.0,2.0,2.0,2.0,2.0,2.0,2.0,2.0,2.0,2.0,2.0,2.0,2.0,2.0,2.0,2.0,2.0,2.0,2.0,2.0,2.0,2.0,2.0,2.0,2.0,2.0,2.0,2.0,2.0,2.0,0.0,0.0,0.0,0.0,0.0,0.0,0.0,0.0,0.0,0.0,0.0,0.0,0.0,0.0,0.0,0.0,0.0,0.0,0.0,0.0,0.0,0.0,0.0,0.0,0.0,0.0,0.0,0.0,0.0,0.0,0.0,0.0,0.0,0.0,0.0,0.0,0.0,0.0,0.0,0.0,0.0,0.0,0.0,0.0,0.0,0.0,0.0,0.0],\"x\":[0.3720136518771331,0.26450511945392485,0.3754266211604095,0.5563139931740614,0.2593856655290102,0.4667235494880546,0.3387372013651877,0.3216723549488054,0.33447098976109213,0.5068259385665529,0.3813993174061433,0.31740614334470985,0.3686006825938566,0.3515358361774744,0.5307167235494881,0.5136518771331058,0.41979522184300344,0.4539249146757679,0.6331058020477814,0.325938566552901,0.37286689419795227,0.27474402730375425,0.21501706484641633,0.22610921501706485,0.1911262798634812,0.1962457337883959,0.30034129692832756,0.22781569965870305,0.27474402730375425,0.29180887372013653,0.37713310580204773,0.4795221843003413,0.21843003412969278,0.3515358361774744,0.2491467576791809,0.325938566552901,0.2832764505119454,0.2534129692832764,0.20648464163822525,0.325938566552901,0.4138225255972696,0.2559726962457338,0.35409556313993173,0.2627986348122867,0.32081911262798635,0.33788395904436863,0.3088737201365188,0.4112627986348123,0.41979522184300344,0.6501706484641638,0.5051194539249146,0.3686006825938566,0.4923208191126279,0.42832764505119447,0.38993174061433444,0.424061433447099,0.4351535836177475,0.40273037542662116,0.4709897610921502,0.057167235494880536,0.1697952218430034,0.3813993174061433,0.21501706484641633,0.2704778156996587,0.1424914675767918,0.2832764505119454,0.3430034129692833,0.2901023890784983,0.16126279863481227,0.13395904436860068,0.15102389078498293,0.17918088737201363,0.2098976109215017,0.1766211604095563,0.16467576791808872,0.21501706484641633,0.2832764505119454,0.11689419795221842,0.18088737201365188,0.1100682593856655,0.10409556313993173,0.22354948805460748,0.07849829351535836,0.30034129692832756,0.15102389078498293,0.1143344709897611,0.09982935153583619,0.11262798634812288,0.1296928327645051,0.03924914675767918,0.09556313993174059,0.1979522184300341,0.15102389078498293,0.07423208191126279,0.16808873720136516,0.11262798634812288,0.10409556313993173,0.13822525597269622,0.27474402730375425,0.08703071672354948,0.17235494880546073,0.09982935153583619,0.1296928327645051,0.06655290102389078,0.14163822525597267,0.12116040955631399,0.18088737201365188,0.17235494880546073,0.12116040955631399,0.11689419795221842,0.13822525597269622,0.06143344709897611,0.21501706484641633,0.15358361774744025,0.13822525597269622,0.052901023890784965,0.057167235494880536,0.06655290102389078,0.18088737201365188,0.0,0.16808873720136516,0.40273037542662116,0.06825938566552903,0.11262798634812288,0.1296928327645051,0.12627986348122863,0.22696245733788392,0.14675767918088736,0.07167235494880547,0.11262798634812288,0.2406143344709897,0.3515358361774744,0.37713310580204773,0.31740614334470985,0.35580204778157,0.4965870307167235,0.21928327645051196,0.31740614334470985,0.37713310580204773,0.31058020477815695,0.2832764505119454,0.3686006825938566,0.26194539249146753,0.2662116040955631,0.5912969283276451,0.23208191126279862,0.3088737201365188,0.5435153583617748,0.6092150170648464,0.6928327645051194,0.6245733788395904,0.8122866894197952,0.4965870307167235,0.78839590443686,0.5392491467576791,0.5648464163822525,0.659556313993174,0.5307167235494881,0.9999999999999999,0.893344709897611,0.5435153583617748,0.39249146757679176,0.36689419795221845,0.341296928327645,0.7081911262798635,0.45563139931740615,0.8020477815699658,0.7662116040955631,0.6296928327645052,0.6160409556313993,0.36006825938566556,0.7354947952218429,0.7184300341296928,0.5477815699658704,0.5136518771331058,0.7610921501706484,0.6843003412969284,0.6757679180887372],\"y\":[0.8421052631578951,0.5710526315789473,0.560526315789474,0.8789473684210525,0.5815789473684214,0.8342105263157893,0.8842105263157896,0.797368421052632,1.0,0.7447368421052629,0.8078947368421052,0.8131578947368419,0.7157894736842105,0.9789473684210526,0.8815789473684212,0.6842105263157898,0.8605263157894738,0.736842105263158,0.831578947368421,0.6868421052631581,0.797368421052632,0.5,0.7052631578947373,0.47894736842105257,0.6499999999999999,0.5315789473684216,0.6210526315789475,0.5973684210526318,0.7473684210526317,0.7868421052631578,0.7105263157894739,0.6710526315789473,0.6973684210526314,0.7184210526315788,0.6526315789473687,0.6447368421052633,0.5921052631578947,0.5315789473684216,0.5368421052631582,0.8394736842105264,0.6657894736842107,0.6263157894736846,0.7500000000000004,0.5815789473684214,0.5315789473684216,0.836842105263158,0.8815789473684212,0.7552631578947371,0.8078947368421052,0.7657894736842104,0.5315789473684216,0.736842105263158,0.7342105263157896,0.7210526315789472,0.7131578947368422,0.6657894736842107,0.8394736842105264,0.594736842105263,0.7078947368421056,0.3526315789473684,0.34210526315789513,0.4236842105263161,0.6947368421052631,0.3526315789473684,0.30000000000000027,0.3526315789473684,0.5473684210526315,0.3526315789473684,0.6078947368421055,0.310526315789474,0.331578947368421,0.7447368421052629,0.6473684210526316,0.5157894736842108,0.2447368421052638,0.1657894736842107,0.5263157894736841,0.2131578947368422,0.34210526315789513,0.43947368421052646,0.2552631578947371,0.44473684210526354,0.2763157894736845,0.5315789473684216,0.2131578947368422,0.43157894736842106,0.29736842105263195,0.1631578947368424,0.16052631578947407,0.2763157894736845,0.2763157894736845,0.2552631578947371,0.43684210526315814,0.331578947368421,0.155263157894737,0.3789473684210529,0.20526315789473726,0.331578947368421,0.3526315789473684,0.331578947368421,0.2763157894736845,0.4131578947368424,0.34473684210526345,0.20789473684210558,0.38947368421052664,0.3657894736842109,0.3210526315789477,0.44473684210526354,0.3131578947368423,0.15263157894736867,0.11315789473684257,0.39210526315789496,0.19210526315789478,0.10000000000000053,0.2763157894736845,0.0,0.20789473684210558,0.3657894736842109,0.45789473684210513,0.2552631578947371,0.1105263157894738,0.13947368421052664,0.3657894736842109,0.5315789473684216,0.2210526315789476,0.2736842105263162,0.3684210526315792,0.20000000000000018,0.3526315789473684,0.26578947368421035,0.4815789473684209,0.4868421052631584,0.4684210526315793,0.43947368421052646,0.38947368421052664,0.4131578947368424,0.3210526315789477,0.3947368421052633,0.6473684210526316,0.47631578947368425,0.5,0.6131578947368421,0.655263157894737,0.6815789473684211,0.3210526315789477,0.560526315789474,0.7500000000000004,0.48421052631578965,0.6026315789473689,0.5394736842105265,0.6499999999999999,0.4631578947368422,0.5473684210526315,0.5789473684210531,0.4078947368421053,0.5631578947368423,0.7394736842105263,0.37368421052631584,0.8710526315789475,0.6447368421052633,0.3500000000000001,0.7000000000000002,0.47894736842105257,0.5078947368421058,0.7236842105263159,0.7105263157894739,0.6368421052631579,0.4710526315789476,0.6710526315789473,0.6236842105263158,0.3078947368421052,0.45789473684210513,0.823684210526316,0.7052631578947373,0.6236842105263158,0.5894736842105264,0.5631578947368423,0.8157894736842106],\"z\":[0.5613409415121255,0.5506419400855921,0.6469329529243938,0.8573466476462198,0.3259629101283881,0.8359486447931527,0.7218259629101285,0.725392296718973,0.5470756062767476,0.5470756062767476,0.8787446504992867,0.7146932952924394,0.7432239657631955,0.6219686162624822,0.9051355206847361,0.7360912981455064,0.7146932952924394,0.6077032810271041,1.0,0.40442225392296727,0.35805991440798857,0.35092724679029963,0.5399429386590585,0.5256776034236805,0.40442225392296727,0.3937232524964337,0.6540656205420827,0.7182596291012839,0.4543509272467904,0.5399429386590585,0.7182596291012839,0.8823109843081313,0.5078459343794579,0.6825962910128388,0.5827389443651926,0.4579172610556348,0.4293865905848788,0.5898716119828816,0.529243937232525,0.3437945791726106,0.36875891583452214,0.5399429386590585,0.5827389443651926,0.2867332382310984,0.43295292439372324,0.5720399429386591,0.5613409415121255,0.5042796005706135,0.557774607703281,0.7004279600570614,0.6219686162624822,0.7039942938659058,0.6504992867332383,0.782453637660485,0.557774607703281,0.6005706134094152,0.4935805991440799,0.7075606276747504,0.7182596291012839,0.17261055634807418,0.2867332382310984,0.12268188302425106,0.2510699001426534,0.10128388017118403,0.054921540656205386,0.2853067047075606,0.15977175463623397,0.1654778887303852,0.33666191155492153,0.31383737517831667,0.4222539229671898,0.09415121255349498,0.13837375178316688,0.5042796005706135,0.4336661911554922,0.10699001426533525,0.08131241084165478,0.15834522111269614,0.33666191155492153,0.1319543509272468,0.0,0.3109843081312411,0.2510699001426534,0.16904422253922965,0.17261055634807418,0.12268188302425106,0.15477888730385161,0.20256776034236804,0.2867332382310984,0.24750356633380885,0.1440798858773181,0.12268188302425106,0.15477888730385161,0.008559201141226797,0.047788873038516394,0.4700427960057062,0.24750356633380885,0.10699001426533525,0.27246790299572043,0.09129814550641938,0.30813124108416545,0.20256776034236804,0.11412268188302424,0.09771754636233951,0.2810271041369472,0.02639087018544936,0.1654778887303852,0.14978601997146931,0.02425106990014264,0.2867332382310984,0.20256776034236804,0.033523537803138354,0.23466476462196864,0.11126961483594863,0.07631954350927247,0.09201141226818829,0.15477888730385161,0.047788873038516394,0.06704707560627673,0.20399429386590587,0.24750356633380885,0.13338088445078458,0.062054208273894434,0.07275320970042795,0.07275320970042795,0.07132667617689017,0.052781740370898694,0.1340941512125535,0.0456490727532097,0.21540656205420824,0.2510699001426534,0.17974322396576317,0.20114122681883026,0.22967189728958629,0.2653352353780314,0.297432239657632,0.3152639087018545,0.16904422253922965,0.21540656205420824,0.2225392296718973,0.22967189728958629,0.35805991440798857,0.17261055634807418,0.1940085592011412,0.4115549215406562,0.3937232524964337,0.09771754636233951,0.24750356633380885,0.2653352353780314,0.1940085592011412,0.15834522111269614,0.1440798858773181,0.1048502139800285,0.2831669044222539,0.25820256776034234,0.318830242510699,0.1440798858773181,0.4293865905848788,0.27246790299572043,0.24393723252496433,0.17261055634807418,0.2867332382310984,0.20827389443651925,0.2831669044222539,0.2403708987161198,0.17261055634807418,0.297432239657632,0.29029957203994294,0.33666191155492153,0.2510699001426534,0.1654778887303852,0.1369472182596291,0.27246790299572043,0.3295292439372326,0.33666191155492153,0.3972895863052782,0.40085592011412274,0.20114122681883026],\"type\":\"scatter3d\"},{\"marker\":{\"color\":\"red\"},\"mode\":\"markers\",\"text\":[\"0\",\"1\",\"2\"],\"x\":[0.5173434544124818,0.3593856655290102,0.15170401147549095],\"y\":[0.5583243823845329,0.7110964912280704,0.32295957284515664],\"z\":[0.24932312439954585,0.5959581550166431,0.1674936426223408],\"type\":\"scatter3d\"}],                        {\"template\":{\"data\":{\"bar\":[{\"error_x\":{\"color\":\"#2a3f5f\"},\"error_y\":{\"color\":\"#2a3f5f\"},\"marker\":{\"line\":{\"color\":\"#E5ECF6\",\"width\":0.5},\"pattern\":{\"fillmode\":\"overlay\",\"size\":10,\"solidity\":0.2}},\"type\":\"bar\"}],\"barpolar\":[{\"marker\":{\"line\":{\"color\":\"#E5ECF6\",\"width\":0.5},\"pattern\":{\"fillmode\":\"overlay\",\"size\":10,\"solidity\":0.2}},\"type\":\"barpolar\"}],\"carpet\":[{\"aaxis\":{\"endlinecolor\":\"#2a3f5f\",\"gridcolor\":\"white\",\"linecolor\":\"white\",\"minorgridcolor\":\"white\",\"startlinecolor\":\"#2a3f5f\"},\"baxis\":{\"endlinecolor\":\"#2a3f5f\",\"gridcolor\":\"white\",\"linecolor\":\"white\",\"minorgridcolor\":\"white\",\"startlinecolor\":\"#2a3f5f\"},\"type\":\"carpet\"}],\"choropleth\":[{\"colorbar\":{\"outlinewidth\":0,\"ticks\":\"\"},\"type\":\"choropleth\"}],\"contour\":[{\"colorbar\":{\"outlinewidth\":0,\"ticks\":\"\"},\"colorscale\":[[0.0,\"#0d0887\"],[0.1111111111111111,\"#46039f\"],[0.2222222222222222,\"#7201a8\"],[0.3333333333333333,\"#9c179e\"],[0.4444444444444444,\"#bd3786\"],[0.5555555555555556,\"#d8576b\"],[0.6666666666666666,\"#ed7953\"],[0.7777777777777778,\"#fb9f3a\"],[0.8888888888888888,\"#fdca26\"],[1.0,\"#f0f921\"]],\"type\":\"contour\"}],\"contourcarpet\":[{\"colorbar\":{\"outlinewidth\":0,\"ticks\":\"\"},\"type\":\"contourcarpet\"}],\"heatmap\":[{\"colorbar\":{\"outlinewidth\":0,\"ticks\":\"\"},\"colorscale\":[[0.0,\"#0d0887\"],[0.1111111111111111,\"#46039f\"],[0.2222222222222222,\"#7201a8\"],[0.3333333333333333,\"#9c179e\"],[0.4444444444444444,\"#bd3786\"],[0.5555555555555556,\"#d8576b\"],[0.6666666666666666,\"#ed7953\"],[0.7777777777777778,\"#fb9f3a\"],[0.8888888888888888,\"#fdca26\"],[1.0,\"#f0f921\"]],\"type\":\"heatmap\"}],\"heatmapgl\":[{\"colorbar\":{\"outlinewidth\":0,\"ticks\":\"\"},\"colorscale\":[[0.0,\"#0d0887\"],[0.1111111111111111,\"#46039f\"],[0.2222222222222222,\"#7201a8\"],[0.3333333333333333,\"#9c179e\"],[0.4444444444444444,\"#bd3786\"],[0.5555555555555556,\"#d8576b\"],[0.6666666666666666,\"#ed7953\"],[0.7777777777777778,\"#fb9f3a\"],[0.8888888888888888,\"#fdca26\"],[1.0,\"#f0f921\"]],\"type\":\"heatmapgl\"}],\"histogram\":[{\"marker\":{\"pattern\":{\"fillmode\":\"overlay\",\"size\":10,\"solidity\":0.2}},\"type\":\"histogram\"}],\"histogram2d\":[{\"colorbar\":{\"outlinewidth\":0,\"ticks\":\"\"},\"colorscale\":[[0.0,\"#0d0887\"],[0.1111111111111111,\"#46039f\"],[0.2222222222222222,\"#7201a8\"],[0.3333333333333333,\"#9c179e\"],[0.4444444444444444,\"#bd3786\"],[0.5555555555555556,\"#d8576b\"],[0.6666666666666666,\"#ed7953\"],[0.7777777777777778,\"#fb9f3a\"],[0.8888888888888888,\"#fdca26\"],[1.0,\"#f0f921\"]],\"type\":\"histogram2d\"}],\"histogram2dcontour\":[{\"colorbar\":{\"outlinewidth\":0,\"ticks\":\"\"},\"colorscale\":[[0.0,\"#0d0887\"],[0.1111111111111111,\"#46039f\"],[0.2222222222222222,\"#7201a8\"],[0.3333333333333333,\"#9c179e\"],[0.4444444444444444,\"#bd3786\"],[0.5555555555555556,\"#d8576b\"],[0.6666666666666666,\"#ed7953\"],[0.7777777777777778,\"#fb9f3a\"],[0.8888888888888888,\"#fdca26\"],[1.0,\"#f0f921\"]],\"type\":\"histogram2dcontour\"}],\"mesh3d\":[{\"colorbar\":{\"outlinewidth\":0,\"ticks\":\"\"},\"type\":\"mesh3d\"}],\"parcoords\":[{\"line\":{\"colorbar\":{\"outlinewidth\":0,\"ticks\":\"\"}},\"type\":\"parcoords\"}],\"pie\":[{\"automargin\":true,\"type\":\"pie\"}],\"scatter\":[{\"marker\":{\"colorbar\":{\"outlinewidth\":0,\"ticks\":\"\"}},\"type\":\"scatter\"}],\"scatter3d\":[{\"line\":{\"colorbar\":{\"outlinewidth\":0,\"ticks\":\"\"}},\"marker\":{\"colorbar\":{\"outlinewidth\":0,\"ticks\":\"\"}},\"type\":\"scatter3d\"}],\"scattercarpet\":[{\"marker\":{\"colorbar\":{\"outlinewidth\":0,\"ticks\":\"\"}},\"type\":\"scattercarpet\"}],\"scattergeo\":[{\"marker\":{\"colorbar\":{\"outlinewidth\":0,\"ticks\":\"\"}},\"type\":\"scattergeo\"}],\"scattergl\":[{\"marker\":{\"colorbar\":{\"outlinewidth\":0,\"ticks\":\"\"}},\"type\":\"scattergl\"}],\"scattermapbox\":[{\"marker\":{\"colorbar\":{\"outlinewidth\":0,\"ticks\":\"\"}},\"type\":\"scattermapbox\"}],\"scatterpolar\":[{\"marker\":{\"colorbar\":{\"outlinewidth\":0,\"ticks\":\"\"}},\"type\":\"scatterpolar\"}],\"scatterpolargl\":[{\"marker\":{\"colorbar\":{\"outlinewidth\":0,\"ticks\":\"\"}},\"type\":\"scatterpolargl\"}],\"scatterternary\":[{\"marker\":{\"colorbar\":{\"outlinewidth\":0,\"ticks\":\"\"}},\"type\":\"scatterternary\"}],\"surface\":[{\"colorbar\":{\"outlinewidth\":0,\"ticks\":\"\"},\"colorscale\":[[0.0,\"#0d0887\"],[0.1111111111111111,\"#46039f\"],[0.2222222222222222,\"#7201a8\"],[0.3333333333333333,\"#9c179e\"],[0.4444444444444444,\"#bd3786\"],[0.5555555555555556,\"#d8576b\"],[0.6666666666666666,\"#ed7953\"],[0.7777777777777778,\"#fb9f3a\"],[0.8888888888888888,\"#fdca26\"],[1.0,\"#f0f921\"]],\"type\":\"surface\"}],\"table\":[{\"cells\":{\"fill\":{\"color\":\"#EBF0F8\"},\"line\":{\"color\":\"white\"}},\"header\":{\"fill\":{\"color\":\"#C8D4E3\"},\"line\":{\"color\":\"white\"}},\"type\":\"table\"}]},\"layout\":{\"annotationdefaults\":{\"arrowcolor\":\"#2a3f5f\",\"arrowhead\":0,\"arrowwidth\":1},\"autotypenumbers\":\"strict\",\"coloraxis\":{\"colorbar\":{\"outlinewidth\":0,\"ticks\":\"\"}},\"colorscale\":{\"diverging\":[[0,\"#8e0152\"],[0.1,\"#c51b7d\"],[0.2,\"#de77ae\"],[0.3,\"#f1b6da\"],[0.4,\"#fde0ef\"],[0.5,\"#f7f7f7\"],[0.6,\"#e6f5d0\"],[0.7,\"#b8e186\"],[0.8,\"#7fbc41\"],[0.9,\"#4d9221\"],[1,\"#276419\"]],\"sequential\":[[0.0,\"#0d0887\"],[0.1111111111111111,\"#46039f\"],[0.2222222222222222,\"#7201a8\"],[0.3333333333333333,\"#9c179e\"],[0.4444444444444444,\"#bd3786\"],[0.5555555555555556,\"#d8576b\"],[0.6666666666666666,\"#ed7953\"],[0.7777777777777778,\"#fb9f3a\"],[0.8888888888888888,\"#fdca26\"],[1.0,\"#f0f921\"]],\"sequentialminus\":[[0.0,\"#0d0887\"],[0.1111111111111111,\"#46039f\"],[0.2222222222222222,\"#7201a8\"],[0.3333333333333333,\"#9c179e\"],[0.4444444444444444,\"#bd3786\"],[0.5555555555555556,\"#d8576b\"],[0.6666666666666666,\"#ed7953\"],[0.7777777777777778,\"#fb9f3a\"],[0.8888888888888888,\"#fdca26\"],[1.0,\"#f0f921\"]]},\"colorway\":[\"#636efa\",\"#EF553B\",\"#00cc96\",\"#ab63fa\",\"#FFA15A\",\"#19d3f3\",\"#FF6692\",\"#B6E880\",\"#FF97FF\",\"#FECB52\"],\"font\":{\"color\":\"#2a3f5f\"},\"geo\":{\"bgcolor\":\"white\",\"lakecolor\":\"white\",\"landcolor\":\"#E5ECF6\",\"showlakes\":true,\"showland\":true,\"subunitcolor\":\"white\"},\"hoverlabel\":{\"align\":\"left\"},\"hovermode\":\"closest\",\"mapbox\":{\"style\":\"light\"},\"paper_bgcolor\":\"white\",\"plot_bgcolor\":\"#E5ECF6\",\"polar\":{\"angularaxis\":{\"gridcolor\":\"white\",\"linecolor\":\"white\",\"ticks\":\"\"},\"bgcolor\":\"#E5ECF6\",\"radialaxis\":{\"gridcolor\":\"white\",\"linecolor\":\"white\",\"ticks\":\"\"}},\"scene\":{\"xaxis\":{\"backgroundcolor\":\"#E5ECF6\",\"gridcolor\":\"white\",\"gridwidth\":2,\"linecolor\":\"white\",\"showbackground\":true,\"ticks\":\"\",\"zerolinecolor\":\"white\"},\"yaxis\":{\"backgroundcolor\":\"#E5ECF6\",\"gridcolor\":\"white\",\"gridwidth\":2,\"linecolor\":\"white\",\"showbackground\":true,\"ticks\":\"\",\"zerolinecolor\":\"white\"},\"zaxis\":{\"backgroundcolor\":\"#E5ECF6\",\"gridcolor\":\"white\",\"gridwidth\":2,\"linecolor\":\"white\",\"showbackground\":true,\"ticks\":\"\",\"zerolinecolor\":\"white\"}},\"shapedefaults\":{\"line\":{\"color\":\"#2a3f5f\"}},\"ternary\":{\"aaxis\":{\"gridcolor\":\"white\",\"linecolor\":\"white\",\"ticks\":\"\"},\"baxis\":{\"gridcolor\":\"white\",\"linecolor\":\"white\",\"ticks\":\"\"},\"bgcolor\":\"#E5ECF6\",\"caxis\":{\"gridcolor\":\"white\",\"linecolor\":\"white\",\"ticks\":\"\"}},\"title\":{\"x\":0.05},\"xaxis\":{\"automargin\":true,\"gridcolor\":\"white\",\"linecolor\":\"white\",\"ticks\":\"\",\"title\":{\"standoff\":15},\"zerolinecolor\":\"white\",\"zerolinewidth\":2},\"yaxis\":{\"automargin\":true,\"gridcolor\":\"white\",\"linecolor\":\"white\",\"ticks\":\"\",\"title\":{\"standoff\":15},\"zerolinecolor\":\"white\",\"zerolinewidth\":2}}},\"scene\":{\"xaxis\":{\"title\":{\"text\":\"Color intensity\"}},\"yaxis\":{\"title\":{\"text\":\"Alcohol\"}},\"zaxis\":{\"title\":{\"text\":\"Proline\"}}}},                        {\"responsive\": true}                    ).then(function(){\n",
              "                            \n",
              "var gd = document.getElementById('c88a24b1-295a-4921-b6e6-e35137e34ea6');\n",
              "var x = new MutationObserver(function (mutations, observer) {{\n",
              "        var display = window.getComputedStyle(gd).display;\n",
              "        if (!display || display === 'none') {{\n",
              "            console.log([gd, 'removed!']);\n",
              "            Plotly.purge(gd);\n",
              "            observer.disconnect();\n",
              "        }}\n",
              "}});\n",
              "\n",
              "// Listen for the removal of the full notebook cells\n",
              "var notebookContainer = gd.closest('#notebook-container');\n",
              "if (notebookContainer) {{\n",
              "    x.observe(notebookContainer, {childList: true});\n",
              "}}\n",
              "\n",
              "// Listen for the clearing of the current output cell\n",
              "var outputEl = gd.closest('.output');\n",
              "if (outputEl) {{\n",
              "    x.observe(outputEl, {childList: true});\n",
              "}}\n",
              "\n",
              "                        })                };                            </script>        </div>\n",
              "</body>\n",
              "</html>"
            ]
          },
          "metadata": {}
        }
      ]
    },
    {
      "cell_type": "markdown",
      "source": [
        "The centers are being shown in red. It seems that the centers really stayed close to the center of the clusters, and are sufficiently far from each other. This may mean that the visualization using 3 dimensions is satisfactory, and that 3 clusters might be good for our data. However, we can use a more appropriate metric to get the most appropriate number of clusters for our dataset."
      ],
      "metadata": {
        "id": "9W5m-ewslG1c"
      }
    },
    {
      "cell_type": "markdown",
      "source": [
        "# DBSCAN\n",
        "\n",
        "Another method for clustering is the DBSCAN. This method identifies cores with high density of samples, and expands from those cores to form the clusters. We can use it from:"
      ],
      "metadata": {
        "id": "gZzWWc1hyCeq"
      }
    },
    {
      "cell_type": "code",
      "source": [
        "dbscan = DBSCAN(eps = 1.31, min_samples = 15, metric = 'manhattan')\n",
        "\n",
        "dbscan.fit(df_0)"
      ],
      "metadata": {
        "id": "pN4-0EZ9k5XT",
        "colab": {
          "base_uri": "https://localhost:8080/"
        },
        "outputId": "6ddb0e2c-d2ff-4980-c040-f6b2b11078a4"
      },
      "execution_count": 94,
      "outputs": [
        {
          "output_type": "execute_result",
          "data": {
            "text/plain": [
              "DBSCAN(eps=1.31, metric='manhattan', min_samples=15)"
            ]
          },
          "metadata": {},
          "execution_count": 94
        }
      ]
    },
    {
      "cell_type": "markdown",
      "source": [
        "We can see the labels for our groups using:"
      ],
      "metadata": {
        "id": "siMhxYR_zD2q"
      }
    },
    {
      "cell_type": "code",
      "source": [
        "dbscan.labels_"
      ],
      "metadata": {
        "colab": {
          "base_uri": "https://localhost:8080/"
        },
        "id": "QGyQLw1Ty4Nh",
        "outputId": "e8f31888-4520-4d1e-df7e-3351c1927ad5"
      },
      "execution_count": 95,
      "outputs": [
        {
          "output_type": "execute_result",
          "data": {
            "text/plain": [
              "array([ 0,  0,  0,  0, -1,  0,  0,  0,  0,  0,  0,  0,  0, -1,  0,  0,  0,\n",
              "        0,  0,  0,  0,  0,  0,  0,  0, -1,  0,  0,  0,  0,  0,  0,  0,  0,\n",
              "        0,  0,  0,  0,  0, -1,  0, -1,  0, -1,  0, -1,  0,  0,  0,  0, -1,\n",
              "        0,  0,  0,  0,  0,  0,  0,  0, -1, -1, -1, -1, -1, -1, -1, -1,  1,\n",
              "       -1, -1, -1, -1, -1, -1, -1, -1, -1, -1, -1, -1, -1,  1, -1, -1, -1,\n",
              "        1, -1, -1, -1, -1,  1,  1, -1, -1, -1, -1, -1, -1, -1, -1, -1,  1,\n",
              "       -1,  1,  1, -1,  1,  1,  1, -1, -1, -1, -1, -1, -1, -1,  1,  1, -1,\n",
              "        1, -1, -1, -1, -1, -1,  1, -1, -1, -1, -1, -1,  2, -1,  2, -1,  2,\n",
              "       -1, -1,  2, -1, -1,  2, -1, -1,  2,  2, -1,  2,  2,  2, -1, -1, -1,\n",
              "        2, -1,  2,  2, -1, -1, -1,  2,  2,  2,  2,  2, -1,  2,  2,  2, -1,\n",
              "        2,  2,  2,  2,  2,  2,  2,  2])"
            ]
          },
          "metadata": {},
          "execution_count": 95
        }
      ]
    },
    {
      "cell_type": "markdown",
      "source": [
        "Note that, here, we have a negative label. These negative labels mean that the sample is noise, and could not be fitted in any cluster. To see how many clusters we have, we can use:"
      ],
      "metadata": {
        "id": "RgZe_RBwzIVm"
      }
    },
    {
      "cell_type": "code",
      "source": [
        "np.unique(dbscan.labels_)"
      ],
      "metadata": {
        "colab": {
          "base_uri": "https://localhost:8080/"
        },
        "id": "Lw6Ef9puzBss",
        "outputId": "6bde2292-e8c7-4312-bf72-8a1dd76e525e"
      },
      "execution_count": 96,
      "outputs": [
        {
          "output_type": "execute_result",
          "data": {
            "text/plain": [
              "array([-1,  0,  1,  2])"
            ]
          },
          "metadata": {},
          "execution_count": 96
        }
      ]
    },
    {
      "cell_type": "markdown",
      "source": [
        "The DBSCAN has some advantages over K-means, mainly:\n",
        "\n",
        "*   It is able to identify outliers in the data.\n",
        "*   It can detect any shape of configuration of clusters.\n",
        "*   Computational cost is not very high.\n",
        "*   It is the second most used clustering algorithm (behind $k$-means).\n",
        "\n",
        "Some drawbacks are that you need to specify some parameters that are hard to define, such as the minimum radial distance to look for a group (```eps```) and the minimum number of samples in a group.\n"
      ],
      "metadata": {
        "id": "QJKjcmctz9zb"
      }
    },
    {
      "cell_type": "markdown",
      "source": [
        "So, we saw that our DBScan algorithm identified a lot of noisy data. Let's try to change those parameters:"
      ],
      "metadata": {
        "id": "jV3L2v8O0nVT"
      }
    },
    {
      "cell_type": "code",
      "source": [
        "dbscan = DBSCAN(eps = 2, min_samples = 5, metric = 'manhattan')\n",
        "\n",
        "dbscan.fit(df_0)"
      ],
      "metadata": {
        "colab": {
          "base_uri": "https://localhost:8080/"
        },
        "id": "UzlfwS8WzYzH",
        "outputId": "20691209-f223-408e-a018-4b9df70d5991"
      },
      "execution_count": 97,
      "outputs": [
        {
          "output_type": "execute_result",
          "data": {
            "text/plain": [
              "DBSCAN(eps=2, metric='manhattan')"
            ]
          },
          "metadata": {},
          "execution_count": 97
        }
      ]
    },
    {
      "cell_type": "code",
      "source": [
        "dbscan.labels_"
      ],
      "metadata": {
        "colab": {
          "base_uri": "https://localhost:8080/"
        },
        "id": "ID3pUJhL08-z",
        "outputId": "4ef69d0f-14a5-4abc-8380-b97208574129"
      },
      "execution_count": 98,
      "outputs": [
        {
          "output_type": "execute_result",
          "data": {
            "text/plain": [
              "array([ 0,  0,  0,  0,  0,  0,  0,  0,  0,  0,  0,  0,  0,  0,  0,  0,  0,\n",
              "        0,  0,  0,  0,  0,  0,  0,  0,  0,  0,  0,  0,  0,  0,  0,  0,  0,\n",
              "        0,  0,  0,  0,  0,  0,  0,  0,  0,  0,  0,  0,  0,  0,  0,  0,  0,\n",
              "        0,  0,  0,  0,  0,  0,  0,  0,  0,  0,  0,  0,  0,  0,  0,  0,  0,\n",
              "        0,  0,  0,  0,  0,  0,  0,  0,  0,  0,  0,  0,  0,  0,  0,  0,  0,\n",
              "        0,  0,  0,  0,  0,  0,  0,  0,  0,  0, -1,  0,  0,  0,  0,  0,  0,\n",
              "        0,  0,  0,  0,  0,  0,  0,  0,  0,  0,  0,  0,  0,  0,  0,  0,  0,\n",
              "        0,  0, -1,  0,  0,  0,  0,  0,  0,  0,  0,  0,  0,  0,  0,  0,  0,\n",
              "        0,  0,  0,  0,  0,  0,  0,  0,  0,  0,  0,  0,  0,  0,  0,  0,  0,\n",
              "        0,  0,  0,  0,  0,  0,  0,  0,  0,  0,  0,  0,  0,  0,  0,  0,  0,\n",
              "        0,  0,  0,  0,  0,  0,  0,  0])"
            ]
          },
          "metadata": {},
          "execution_count": 98
        }
      ]
    },
    {
      "cell_type": "markdown",
      "source": [
        "Note that, this time, almost all samples were considered in the same cluster. Thus, let's change our parameters once again:"
      ],
      "metadata": {
        "id": "BWEQsn8R1J-a"
      }
    },
    {
      "cell_type": "code",
      "source": [
        "dbscan = DBSCAN(eps = 1.5, min_samples = 5, metric = 'manhattan')\n",
        "\n",
        "dbscan.fit(df_0)"
      ],
      "metadata": {
        "colab": {
          "base_uri": "https://localhost:8080/"
        },
        "id": "zBwx1EBB0-5J",
        "outputId": "8e20b355-4881-4ff0-85fc-93306c0c93d1"
      },
      "execution_count": 99,
      "outputs": [
        {
          "output_type": "execute_result",
          "data": {
            "text/plain": [
              "DBSCAN(eps=1.5, metric='manhattan')"
            ]
          },
          "metadata": {},
          "execution_count": 99
        }
      ]
    },
    {
      "cell_type": "code",
      "source": [
        "dbscan.labels_"
      ],
      "metadata": {
        "colab": {
          "base_uri": "https://localhost:8080/"
        },
        "id": "zElk7CIF1Sm9",
        "outputId": "83900f1e-73c6-4be3-ed99-286e1d6b6c6f"
      },
      "execution_count": 100,
      "outputs": [
        {
          "output_type": "execute_result",
          "data": {
            "text/plain": [
              "array([ 0,  0,  0,  0,  0,  0,  0,  0,  0,  0,  0,  0,  0,  0,  0,  0,  0,\n",
              "        0,  0,  0,  0,  0,  0,  0,  0,  0,  0,  0,  0,  0,  0,  0,  0,  0,\n",
              "        0,  0,  0,  0,  0,  0,  0,  0,  0,  0,  0,  0,  0,  0,  0,  0, -1,\n",
              "        0,  0,  0,  0,  0,  0,  0,  0, -1, -1, -1,  1,  1,  1,  1, -1,  1,\n",
              "       -1, -1,  1, -1,  1, -1,  1,  1,  1,  1, -1, -1,  1,  1,  1,  1,  1,\n",
              "        1,  1,  1,  1,  1,  1,  1,  1,  1,  1, -1, -1,  1,  1,  1,  1,  1,\n",
              "        1,  1,  1,  1,  1,  1,  1, -1, -1,  1, -1,  1,  1, -1,  1,  1, -1,\n",
              "        1,  1, -1,  1, -1, -1,  1,  1,  1,  1,  1,  2,  2,  2,  2,  2,  2,\n",
              "        2,  2,  2,  2,  2,  2,  2,  2,  2,  2,  2,  2,  2,  2,  2,  2,  2,\n",
              "        2,  2,  2,  2,  2, -1, -1,  2,  2,  2,  2,  2,  2,  2,  2,  2,  2,\n",
              "        2,  2,  2,  2,  2,  2,  2,  2])"
            ]
          },
          "metadata": {},
          "execution_count": 100
        }
      ]
    },
    {
      "cell_type": "markdown",
      "source": [
        "Using ```eps = 1.5```, it seems that we have less noise. Let's try to change the distance metric:"
      ],
      "metadata": {
        "id": "fIaX2BRV1bBT"
      }
    },
    {
      "cell_type": "code",
      "source": [
        "dbscan = DBSCAN(eps = 0.5, min_samples = 5, metric = 'euclidean')\n",
        "\n",
        "dbscan.fit(df_0)"
      ],
      "metadata": {
        "colab": {
          "base_uri": "https://localhost:8080/"
        },
        "id": "HFE2ajv31UCA",
        "outputId": "aa4b7582-b1a3-4c60-efe6-0f219b5447a2"
      },
      "execution_count": 139,
      "outputs": [
        {
          "output_type": "execute_result",
          "data": {
            "text/plain": [
              "DBSCAN()"
            ]
          },
          "metadata": {},
          "execution_count": 139
        }
      ]
    },
    {
      "cell_type": "code",
      "source": [
        "dbscan.labels_"
      ],
      "metadata": {
        "colab": {
          "base_uri": "https://localhost:8080/"
        },
        "id": "YT4n8UM71jdi",
        "outputId": "51c8baec-1bf2-4058-80f5-16ad048a64c9"
      },
      "execution_count": 140,
      "outputs": [
        {
          "output_type": "execute_result",
          "data": {
            "text/plain": [
              "array([ 0,  0,  0,  0,  0,  0,  0,  0,  0,  0,  0,  0,  0,  0,  0,  0,  0,\n",
              "        0,  0,  0,  0,  0,  0,  0,  0,  0,  0,  0,  0,  0,  0,  0,  0,  0,\n",
              "        0,  0,  0,  0,  0,  0,  0,  0,  0,  0,  0,  0,  0,  0,  0,  0, -1,\n",
              "        0,  0,  0,  0,  0,  0,  0,  0, -1, -1, -1,  1,  1,  1,  1,  1,  1,\n",
              "       -1, -1, -1, -1,  1, -1, -1,  1,  1,  1, -1, -1,  1,  1,  1, -1, -1,\n",
              "        1,  1,  1,  1,  1,  1,  1,  1,  1,  1, -1, -1,  1,  1, -1,  1,  1,\n",
              "        1,  1,  1, -1,  1,  1,  1,  1, -1,  1,  1,  1,  1, -1,  1,  1, -1,\n",
              "        1,  1, -1, -1, -1, -1,  1,  1, -1,  1,  1,  2,  2,  2,  2,  2,  2,\n",
              "        2,  2,  2,  2,  2,  2,  2,  2,  2,  2,  2,  2,  2,  2,  2,  2,  2,\n",
              "        2,  2,  2,  2,  2, -1, -1,  2,  2,  2,  2,  2,  2,  2,  2,  2,  2,\n",
              "        2,  2,  2,  2,  2,  2,  2,  2])"
            ]
          },
          "metadata": {},
          "execution_count": 140
        }
      ]
    },
    {
      "cell_type": "markdown",
      "source": [
        "Note that we also changed the ```eps```, as the parameter is affected by the distance metric employed. Let's try to visualize this data:"
      ],
      "metadata": {
        "id": "KOg1ZUU31zQy"
      }
    },
    {
      "cell_type": "code",
      "source": [
        "df_clusters = df_kmeans.copy( )\n",
        "df_clusters['ClusterWines_DBSCAN'] = dbscan.labels_"
      ],
      "metadata": {
        "id": "HBFBa4Cl1qap"
      },
      "execution_count": 103,
      "outputs": []
    },
    {
      "cell_type": "code",
      "source": [
        "fig = go.Figure( )\n",
        "sp = go.Scatter3d(x = df_clusters['Color_Intensity'], y = df_clusters['Alcohol'], z = df_clusters['Proline'], mode = 'markers', marker = dict(color = df_clusters.ClusterWines_DBSCAN.astype(float)), text = df_clusters.ClusterWines_DBSCAN)\n",
        "fig.add_trace(sp)\n",
        "\n",
        "fig.update_layout(scene = dict(xaxis_title = 'Color intensity', yaxis_title = 'Alcohol', zaxis_title = 'Proline'))"
      ],
      "metadata": {
        "colab": {
          "base_uri": "https://localhost:8080/",
          "height": 542
        },
        "id": "v7q9Br4l2Pue",
        "outputId": "af3b87b9-6aec-40d3-f5b8-f803ec5a38f0"
      },
      "execution_count": 104,
      "outputs": [
        {
          "output_type": "display_data",
          "data": {
            "text/html": [
              "<html>\n",
              "<head><meta charset=\"utf-8\" /></head>\n",
              "<body>\n",
              "    <div>            <script src=\"https://cdnjs.cloudflare.com/ajax/libs/mathjax/2.7.5/MathJax.js?config=TeX-AMS-MML_SVG\"></script><script type=\"text/javascript\">if (window.MathJax) {MathJax.Hub.Config({SVG: {font: \"STIX-Web\"}});}</script>                <script type=\"text/javascript\">window.PlotlyConfig = {MathJaxConfig: 'local'};</script>\n",
              "        <script src=\"https://cdn.plot.ly/plotly-2.8.3.min.js\"></script>                <div id=\"712b88fa-4e69-41c1-a376-427c38f43d55\" class=\"plotly-graph-div\" style=\"height:525px; width:100%;\"></div>            <script type=\"text/javascript\">                                    window.PLOTLYENV=window.PLOTLYENV || {};                                    if (document.getElementById(\"712b88fa-4e69-41c1-a376-427c38f43d55\")) {                    Plotly.newPlot(                        \"712b88fa-4e69-41c1-a376-427c38f43d55\",                        [{\"marker\":{\"color\":[0.0,0.0,0.0,0.0,0.0,0.0,0.0,0.0,0.0,0.0,0.0,0.0,0.0,0.0,0.0,0.0,0.0,0.0,0.0,0.0,0.0,0.0,0.0,0.0,0.0,0.0,0.0,0.0,0.0,0.0,0.0,0.0,0.0,0.0,0.0,0.0,0.0,0.0,0.0,0.0,0.0,0.0,0.0,0.0,0.0,0.0,0.0,0.0,0.0,0.0,-1.0,0.0,0.0,0.0,0.0,0.0,0.0,0.0,0.0,-1.0,-1.0,-1.0,1.0,1.0,1.0,1.0,1.0,1.0,-1.0,-1.0,-1.0,-1.0,1.0,-1.0,-1.0,1.0,1.0,1.0,-1.0,-1.0,1.0,1.0,1.0,-1.0,-1.0,1.0,1.0,1.0,1.0,1.0,1.0,1.0,1.0,1.0,1.0,-1.0,-1.0,1.0,1.0,-1.0,1.0,1.0,1.0,1.0,1.0,-1.0,1.0,1.0,1.0,1.0,-1.0,1.0,1.0,1.0,1.0,-1.0,1.0,1.0,-1.0,1.0,1.0,-1.0,-1.0,-1.0,-1.0,1.0,1.0,-1.0,1.0,1.0,2.0,2.0,2.0,2.0,2.0,2.0,2.0,2.0,2.0,2.0,2.0,2.0,2.0,2.0,2.0,2.0,2.0,2.0,2.0,2.0,2.0,2.0,2.0,2.0,2.0,2.0,2.0,2.0,-1.0,-1.0,2.0,2.0,2.0,2.0,2.0,2.0,2.0,2.0,2.0,2.0,2.0,2.0,2.0,2.0,2.0,2.0,2.0,2.0]},\"mode\":\"markers\",\"text\":[0.0,0.0,0.0,0.0,0.0,0.0,0.0,0.0,0.0,0.0,0.0,0.0,0.0,0.0,0.0,0.0,0.0,0.0,0.0,0.0,0.0,0.0,0.0,0.0,0.0,0.0,0.0,0.0,0.0,0.0,0.0,0.0,0.0,0.0,0.0,0.0,0.0,0.0,0.0,0.0,0.0,0.0,0.0,0.0,0.0,0.0,0.0,0.0,0.0,0.0,-1.0,0.0,0.0,0.0,0.0,0.0,0.0,0.0,0.0,-1.0,-1.0,-1.0,1.0,1.0,1.0,1.0,1.0,1.0,-1.0,-1.0,-1.0,-1.0,1.0,-1.0,-1.0,1.0,1.0,1.0,-1.0,-1.0,1.0,1.0,1.0,-1.0,-1.0,1.0,1.0,1.0,1.0,1.0,1.0,1.0,1.0,1.0,1.0,-1.0,-1.0,1.0,1.0,-1.0,1.0,1.0,1.0,1.0,1.0,-1.0,1.0,1.0,1.0,1.0,-1.0,1.0,1.0,1.0,1.0,-1.0,1.0,1.0,-1.0,1.0,1.0,-1.0,-1.0,-1.0,-1.0,1.0,1.0,-1.0,1.0,1.0,2.0,2.0,2.0,2.0,2.0,2.0,2.0,2.0,2.0,2.0,2.0,2.0,2.0,2.0,2.0,2.0,2.0,2.0,2.0,2.0,2.0,2.0,2.0,2.0,2.0,2.0,2.0,2.0,-1.0,-1.0,2.0,2.0,2.0,2.0,2.0,2.0,2.0,2.0,2.0,2.0,2.0,2.0,2.0,2.0,2.0,2.0,2.0,2.0],\"x\":[0.3720136518771331,0.26450511945392485,0.3754266211604095,0.5563139931740614,0.2593856655290102,0.4667235494880546,0.3387372013651877,0.3216723549488054,0.33447098976109213,0.5068259385665529,0.3813993174061433,0.31740614334470985,0.3686006825938566,0.3515358361774744,0.5307167235494881,0.5136518771331058,0.41979522184300344,0.4539249146757679,0.6331058020477814,0.325938566552901,0.37286689419795227,0.27474402730375425,0.21501706484641633,0.22610921501706485,0.1911262798634812,0.1962457337883959,0.30034129692832756,0.22781569965870305,0.27474402730375425,0.29180887372013653,0.37713310580204773,0.4795221843003413,0.21843003412969278,0.3515358361774744,0.2491467576791809,0.325938566552901,0.2832764505119454,0.2534129692832764,0.20648464163822525,0.325938566552901,0.4138225255972696,0.2559726962457338,0.35409556313993173,0.2627986348122867,0.32081911262798635,0.33788395904436863,0.3088737201365188,0.4112627986348123,0.41979522184300344,0.6501706484641638,0.5051194539249146,0.3686006825938566,0.4923208191126279,0.42832764505119447,0.38993174061433444,0.424061433447099,0.4351535836177475,0.40273037542662116,0.4709897610921502,0.057167235494880536,0.1697952218430034,0.3813993174061433,0.21501706484641633,0.2704778156996587,0.1424914675767918,0.2832764505119454,0.3430034129692833,0.2901023890784983,0.16126279863481227,0.13395904436860068,0.15102389078498293,0.17918088737201363,0.2098976109215017,0.1766211604095563,0.16467576791808872,0.21501706484641633,0.2832764505119454,0.11689419795221842,0.18088737201365188,0.1100682593856655,0.10409556313993173,0.22354948805460748,0.07849829351535836,0.30034129692832756,0.15102389078498293,0.1143344709897611,0.09982935153583619,0.11262798634812288,0.1296928327645051,0.03924914675767918,0.09556313993174059,0.1979522184300341,0.15102389078498293,0.07423208191126279,0.16808873720136516,0.11262798634812288,0.10409556313993173,0.13822525597269622,0.27474402730375425,0.08703071672354948,0.17235494880546073,0.09982935153583619,0.1296928327645051,0.06655290102389078,0.14163822525597267,0.12116040955631399,0.18088737201365188,0.17235494880546073,0.12116040955631399,0.11689419795221842,0.13822525597269622,0.06143344709897611,0.21501706484641633,0.15358361774744025,0.13822525597269622,0.052901023890784965,0.057167235494880536,0.06655290102389078,0.18088737201365188,0.0,0.16808873720136516,0.40273037542662116,0.06825938566552903,0.11262798634812288,0.1296928327645051,0.12627986348122863,0.22696245733788392,0.14675767918088736,0.07167235494880547,0.11262798634812288,0.2406143344709897,0.3515358361774744,0.37713310580204773,0.31740614334470985,0.35580204778157,0.4965870307167235,0.21928327645051196,0.31740614334470985,0.37713310580204773,0.31058020477815695,0.2832764505119454,0.3686006825938566,0.26194539249146753,0.2662116040955631,0.5912969283276451,0.23208191126279862,0.3088737201365188,0.5435153583617748,0.6092150170648464,0.6928327645051194,0.6245733788395904,0.8122866894197952,0.4965870307167235,0.78839590443686,0.5392491467576791,0.5648464163822525,0.659556313993174,0.5307167235494881,0.9999999999999999,0.893344709897611,0.5435153583617748,0.39249146757679176,0.36689419795221845,0.341296928327645,0.7081911262798635,0.45563139931740615,0.8020477815699658,0.7662116040955631,0.6296928327645052,0.6160409556313993,0.36006825938566556,0.7354947952218429,0.7184300341296928,0.5477815699658704,0.5136518771331058,0.7610921501706484,0.6843003412969284,0.6757679180887372],\"y\":[0.8421052631578951,0.5710526315789473,0.560526315789474,0.8789473684210525,0.5815789473684214,0.8342105263157893,0.8842105263157896,0.797368421052632,1.0,0.7447368421052629,0.8078947368421052,0.8131578947368419,0.7157894736842105,0.9789473684210526,0.8815789473684212,0.6842105263157898,0.8605263157894738,0.736842105263158,0.831578947368421,0.6868421052631581,0.797368421052632,0.5,0.7052631578947373,0.47894736842105257,0.6499999999999999,0.5315789473684216,0.6210526315789475,0.5973684210526318,0.7473684210526317,0.7868421052631578,0.7105263157894739,0.6710526315789473,0.6973684210526314,0.7184210526315788,0.6526315789473687,0.6447368421052633,0.5921052631578947,0.5315789473684216,0.5368421052631582,0.8394736842105264,0.6657894736842107,0.6263157894736846,0.7500000000000004,0.5815789473684214,0.5315789473684216,0.836842105263158,0.8815789473684212,0.7552631578947371,0.8078947368421052,0.7657894736842104,0.5315789473684216,0.736842105263158,0.7342105263157896,0.7210526315789472,0.7131578947368422,0.6657894736842107,0.8394736842105264,0.594736842105263,0.7078947368421056,0.3526315789473684,0.34210526315789513,0.4236842105263161,0.6947368421052631,0.3526315789473684,0.30000000000000027,0.3526315789473684,0.5473684210526315,0.3526315789473684,0.6078947368421055,0.310526315789474,0.331578947368421,0.7447368421052629,0.6473684210526316,0.5157894736842108,0.2447368421052638,0.1657894736842107,0.5263157894736841,0.2131578947368422,0.34210526315789513,0.43947368421052646,0.2552631578947371,0.44473684210526354,0.2763157894736845,0.5315789473684216,0.2131578947368422,0.43157894736842106,0.29736842105263195,0.1631578947368424,0.16052631578947407,0.2763157894736845,0.2763157894736845,0.2552631578947371,0.43684210526315814,0.331578947368421,0.155263157894737,0.3789473684210529,0.20526315789473726,0.331578947368421,0.3526315789473684,0.331578947368421,0.2763157894736845,0.4131578947368424,0.34473684210526345,0.20789473684210558,0.38947368421052664,0.3657894736842109,0.3210526315789477,0.44473684210526354,0.3131578947368423,0.15263157894736867,0.11315789473684257,0.39210526315789496,0.19210526315789478,0.10000000000000053,0.2763157894736845,0.0,0.20789473684210558,0.3657894736842109,0.45789473684210513,0.2552631578947371,0.1105263157894738,0.13947368421052664,0.3657894736842109,0.5315789473684216,0.2210526315789476,0.2736842105263162,0.3684210526315792,0.20000000000000018,0.3526315789473684,0.26578947368421035,0.4815789473684209,0.4868421052631584,0.4684210526315793,0.43947368421052646,0.38947368421052664,0.4131578947368424,0.3210526315789477,0.3947368421052633,0.6473684210526316,0.47631578947368425,0.5,0.6131578947368421,0.655263157894737,0.6815789473684211,0.3210526315789477,0.560526315789474,0.7500000000000004,0.48421052631578965,0.6026315789473689,0.5394736842105265,0.6499999999999999,0.4631578947368422,0.5473684210526315,0.5789473684210531,0.4078947368421053,0.5631578947368423,0.7394736842105263,0.37368421052631584,0.8710526315789475,0.6447368421052633,0.3500000000000001,0.7000000000000002,0.47894736842105257,0.5078947368421058,0.7236842105263159,0.7105263157894739,0.6368421052631579,0.4710526315789476,0.6710526315789473,0.6236842105263158,0.3078947368421052,0.45789473684210513,0.823684210526316,0.7052631578947373,0.6236842105263158,0.5894736842105264,0.5631578947368423,0.8157894736842106],\"z\":[0.5613409415121255,0.5506419400855921,0.6469329529243938,0.8573466476462198,0.3259629101283881,0.8359486447931527,0.7218259629101285,0.725392296718973,0.5470756062767476,0.5470756062767476,0.8787446504992867,0.7146932952924394,0.7432239657631955,0.6219686162624822,0.9051355206847361,0.7360912981455064,0.7146932952924394,0.6077032810271041,1.0,0.40442225392296727,0.35805991440798857,0.35092724679029963,0.5399429386590585,0.5256776034236805,0.40442225392296727,0.3937232524964337,0.6540656205420827,0.7182596291012839,0.4543509272467904,0.5399429386590585,0.7182596291012839,0.8823109843081313,0.5078459343794579,0.6825962910128388,0.5827389443651926,0.4579172610556348,0.4293865905848788,0.5898716119828816,0.529243937232525,0.3437945791726106,0.36875891583452214,0.5399429386590585,0.5827389443651926,0.2867332382310984,0.43295292439372324,0.5720399429386591,0.5613409415121255,0.5042796005706135,0.557774607703281,0.7004279600570614,0.6219686162624822,0.7039942938659058,0.6504992867332383,0.782453637660485,0.557774607703281,0.6005706134094152,0.4935805991440799,0.7075606276747504,0.7182596291012839,0.17261055634807418,0.2867332382310984,0.12268188302425106,0.2510699001426534,0.10128388017118403,0.054921540656205386,0.2853067047075606,0.15977175463623397,0.1654778887303852,0.33666191155492153,0.31383737517831667,0.4222539229671898,0.09415121255349498,0.13837375178316688,0.5042796005706135,0.4336661911554922,0.10699001426533525,0.08131241084165478,0.15834522111269614,0.33666191155492153,0.1319543509272468,0.0,0.3109843081312411,0.2510699001426534,0.16904422253922965,0.17261055634807418,0.12268188302425106,0.15477888730385161,0.20256776034236804,0.2867332382310984,0.24750356633380885,0.1440798858773181,0.12268188302425106,0.15477888730385161,0.008559201141226797,0.047788873038516394,0.4700427960057062,0.24750356633380885,0.10699001426533525,0.27246790299572043,0.09129814550641938,0.30813124108416545,0.20256776034236804,0.11412268188302424,0.09771754636233951,0.2810271041369472,0.02639087018544936,0.1654778887303852,0.14978601997146931,0.02425106990014264,0.2867332382310984,0.20256776034236804,0.033523537803138354,0.23466476462196864,0.11126961483594863,0.07631954350927247,0.09201141226818829,0.15477888730385161,0.047788873038516394,0.06704707560627673,0.20399429386590587,0.24750356633380885,0.13338088445078458,0.062054208273894434,0.07275320970042795,0.07275320970042795,0.07132667617689017,0.052781740370898694,0.1340941512125535,0.0456490727532097,0.21540656205420824,0.2510699001426534,0.17974322396576317,0.20114122681883026,0.22967189728958629,0.2653352353780314,0.297432239657632,0.3152639087018545,0.16904422253922965,0.21540656205420824,0.2225392296718973,0.22967189728958629,0.35805991440798857,0.17261055634807418,0.1940085592011412,0.4115549215406562,0.3937232524964337,0.09771754636233951,0.24750356633380885,0.2653352353780314,0.1940085592011412,0.15834522111269614,0.1440798858773181,0.1048502139800285,0.2831669044222539,0.25820256776034234,0.318830242510699,0.1440798858773181,0.4293865905848788,0.27246790299572043,0.24393723252496433,0.17261055634807418,0.2867332382310984,0.20827389443651925,0.2831669044222539,0.2403708987161198,0.17261055634807418,0.297432239657632,0.29029957203994294,0.33666191155492153,0.2510699001426534,0.1654778887303852,0.1369472182596291,0.27246790299572043,0.3295292439372326,0.33666191155492153,0.3972895863052782,0.40085592011412274,0.20114122681883026],\"type\":\"scatter3d\"}],                        {\"template\":{\"data\":{\"bar\":[{\"error_x\":{\"color\":\"#2a3f5f\"},\"error_y\":{\"color\":\"#2a3f5f\"},\"marker\":{\"line\":{\"color\":\"#E5ECF6\",\"width\":0.5},\"pattern\":{\"fillmode\":\"overlay\",\"size\":10,\"solidity\":0.2}},\"type\":\"bar\"}],\"barpolar\":[{\"marker\":{\"line\":{\"color\":\"#E5ECF6\",\"width\":0.5},\"pattern\":{\"fillmode\":\"overlay\",\"size\":10,\"solidity\":0.2}},\"type\":\"barpolar\"}],\"carpet\":[{\"aaxis\":{\"endlinecolor\":\"#2a3f5f\",\"gridcolor\":\"white\",\"linecolor\":\"white\",\"minorgridcolor\":\"white\",\"startlinecolor\":\"#2a3f5f\"},\"baxis\":{\"endlinecolor\":\"#2a3f5f\",\"gridcolor\":\"white\",\"linecolor\":\"white\",\"minorgridcolor\":\"white\",\"startlinecolor\":\"#2a3f5f\"},\"type\":\"carpet\"}],\"choropleth\":[{\"colorbar\":{\"outlinewidth\":0,\"ticks\":\"\"},\"type\":\"choropleth\"}],\"contour\":[{\"colorbar\":{\"outlinewidth\":0,\"ticks\":\"\"},\"colorscale\":[[0.0,\"#0d0887\"],[0.1111111111111111,\"#46039f\"],[0.2222222222222222,\"#7201a8\"],[0.3333333333333333,\"#9c179e\"],[0.4444444444444444,\"#bd3786\"],[0.5555555555555556,\"#d8576b\"],[0.6666666666666666,\"#ed7953\"],[0.7777777777777778,\"#fb9f3a\"],[0.8888888888888888,\"#fdca26\"],[1.0,\"#f0f921\"]],\"type\":\"contour\"}],\"contourcarpet\":[{\"colorbar\":{\"outlinewidth\":0,\"ticks\":\"\"},\"type\":\"contourcarpet\"}],\"heatmap\":[{\"colorbar\":{\"outlinewidth\":0,\"ticks\":\"\"},\"colorscale\":[[0.0,\"#0d0887\"],[0.1111111111111111,\"#46039f\"],[0.2222222222222222,\"#7201a8\"],[0.3333333333333333,\"#9c179e\"],[0.4444444444444444,\"#bd3786\"],[0.5555555555555556,\"#d8576b\"],[0.6666666666666666,\"#ed7953\"],[0.7777777777777778,\"#fb9f3a\"],[0.8888888888888888,\"#fdca26\"],[1.0,\"#f0f921\"]],\"type\":\"heatmap\"}],\"heatmapgl\":[{\"colorbar\":{\"outlinewidth\":0,\"ticks\":\"\"},\"colorscale\":[[0.0,\"#0d0887\"],[0.1111111111111111,\"#46039f\"],[0.2222222222222222,\"#7201a8\"],[0.3333333333333333,\"#9c179e\"],[0.4444444444444444,\"#bd3786\"],[0.5555555555555556,\"#d8576b\"],[0.6666666666666666,\"#ed7953\"],[0.7777777777777778,\"#fb9f3a\"],[0.8888888888888888,\"#fdca26\"],[1.0,\"#f0f921\"]],\"type\":\"heatmapgl\"}],\"histogram\":[{\"marker\":{\"pattern\":{\"fillmode\":\"overlay\",\"size\":10,\"solidity\":0.2}},\"type\":\"histogram\"}],\"histogram2d\":[{\"colorbar\":{\"outlinewidth\":0,\"ticks\":\"\"},\"colorscale\":[[0.0,\"#0d0887\"],[0.1111111111111111,\"#46039f\"],[0.2222222222222222,\"#7201a8\"],[0.3333333333333333,\"#9c179e\"],[0.4444444444444444,\"#bd3786\"],[0.5555555555555556,\"#d8576b\"],[0.6666666666666666,\"#ed7953\"],[0.7777777777777778,\"#fb9f3a\"],[0.8888888888888888,\"#fdca26\"],[1.0,\"#f0f921\"]],\"type\":\"histogram2d\"}],\"histogram2dcontour\":[{\"colorbar\":{\"outlinewidth\":0,\"ticks\":\"\"},\"colorscale\":[[0.0,\"#0d0887\"],[0.1111111111111111,\"#46039f\"],[0.2222222222222222,\"#7201a8\"],[0.3333333333333333,\"#9c179e\"],[0.4444444444444444,\"#bd3786\"],[0.5555555555555556,\"#d8576b\"],[0.6666666666666666,\"#ed7953\"],[0.7777777777777778,\"#fb9f3a\"],[0.8888888888888888,\"#fdca26\"],[1.0,\"#f0f921\"]],\"type\":\"histogram2dcontour\"}],\"mesh3d\":[{\"colorbar\":{\"outlinewidth\":0,\"ticks\":\"\"},\"type\":\"mesh3d\"}],\"parcoords\":[{\"line\":{\"colorbar\":{\"outlinewidth\":0,\"ticks\":\"\"}},\"type\":\"parcoords\"}],\"pie\":[{\"automargin\":true,\"type\":\"pie\"}],\"scatter\":[{\"marker\":{\"colorbar\":{\"outlinewidth\":0,\"ticks\":\"\"}},\"type\":\"scatter\"}],\"scatter3d\":[{\"line\":{\"colorbar\":{\"outlinewidth\":0,\"ticks\":\"\"}},\"marker\":{\"colorbar\":{\"outlinewidth\":0,\"ticks\":\"\"}},\"type\":\"scatter3d\"}],\"scattercarpet\":[{\"marker\":{\"colorbar\":{\"outlinewidth\":0,\"ticks\":\"\"}},\"type\":\"scattercarpet\"}],\"scattergeo\":[{\"marker\":{\"colorbar\":{\"outlinewidth\":0,\"ticks\":\"\"}},\"type\":\"scattergeo\"}],\"scattergl\":[{\"marker\":{\"colorbar\":{\"outlinewidth\":0,\"ticks\":\"\"}},\"type\":\"scattergl\"}],\"scattermapbox\":[{\"marker\":{\"colorbar\":{\"outlinewidth\":0,\"ticks\":\"\"}},\"type\":\"scattermapbox\"}],\"scatterpolar\":[{\"marker\":{\"colorbar\":{\"outlinewidth\":0,\"ticks\":\"\"}},\"type\":\"scatterpolar\"}],\"scatterpolargl\":[{\"marker\":{\"colorbar\":{\"outlinewidth\":0,\"ticks\":\"\"}},\"type\":\"scatterpolargl\"}],\"scatterternary\":[{\"marker\":{\"colorbar\":{\"outlinewidth\":0,\"ticks\":\"\"}},\"type\":\"scatterternary\"}],\"surface\":[{\"colorbar\":{\"outlinewidth\":0,\"ticks\":\"\"},\"colorscale\":[[0.0,\"#0d0887\"],[0.1111111111111111,\"#46039f\"],[0.2222222222222222,\"#7201a8\"],[0.3333333333333333,\"#9c179e\"],[0.4444444444444444,\"#bd3786\"],[0.5555555555555556,\"#d8576b\"],[0.6666666666666666,\"#ed7953\"],[0.7777777777777778,\"#fb9f3a\"],[0.8888888888888888,\"#fdca26\"],[1.0,\"#f0f921\"]],\"type\":\"surface\"}],\"table\":[{\"cells\":{\"fill\":{\"color\":\"#EBF0F8\"},\"line\":{\"color\":\"white\"}},\"header\":{\"fill\":{\"color\":\"#C8D4E3\"},\"line\":{\"color\":\"white\"}},\"type\":\"table\"}]},\"layout\":{\"annotationdefaults\":{\"arrowcolor\":\"#2a3f5f\",\"arrowhead\":0,\"arrowwidth\":1},\"autotypenumbers\":\"strict\",\"coloraxis\":{\"colorbar\":{\"outlinewidth\":0,\"ticks\":\"\"}},\"colorscale\":{\"diverging\":[[0,\"#8e0152\"],[0.1,\"#c51b7d\"],[0.2,\"#de77ae\"],[0.3,\"#f1b6da\"],[0.4,\"#fde0ef\"],[0.5,\"#f7f7f7\"],[0.6,\"#e6f5d0\"],[0.7,\"#b8e186\"],[0.8,\"#7fbc41\"],[0.9,\"#4d9221\"],[1,\"#276419\"]],\"sequential\":[[0.0,\"#0d0887\"],[0.1111111111111111,\"#46039f\"],[0.2222222222222222,\"#7201a8\"],[0.3333333333333333,\"#9c179e\"],[0.4444444444444444,\"#bd3786\"],[0.5555555555555556,\"#d8576b\"],[0.6666666666666666,\"#ed7953\"],[0.7777777777777778,\"#fb9f3a\"],[0.8888888888888888,\"#fdca26\"],[1.0,\"#f0f921\"]],\"sequentialminus\":[[0.0,\"#0d0887\"],[0.1111111111111111,\"#46039f\"],[0.2222222222222222,\"#7201a8\"],[0.3333333333333333,\"#9c179e\"],[0.4444444444444444,\"#bd3786\"],[0.5555555555555556,\"#d8576b\"],[0.6666666666666666,\"#ed7953\"],[0.7777777777777778,\"#fb9f3a\"],[0.8888888888888888,\"#fdca26\"],[1.0,\"#f0f921\"]]},\"colorway\":[\"#636efa\",\"#EF553B\",\"#00cc96\",\"#ab63fa\",\"#FFA15A\",\"#19d3f3\",\"#FF6692\",\"#B6E880\",\"#FF97FF\",\"#FECB52\"],\"font\":{\"color\":\"#2a3f5f\"},\"geo\":{\"bgcolor\":\"white\",\"lakecolor\":\"white\",\"landcolor\":\"#E5ECF6\",\"showlakes\":true,\"showland\":true,\"subunitcolor\":\"white\"},\"hoverlabel\":{\"align\":\"left\"},\"hovermode\":\"closest\",\"mapbox\":{\"style\":\"light\"},\"paper_bgcolor\":\"white\",\"plot_bgcolor\":\"#E5ECF6\",\"polar\":{\"angularaxis\":{\"gridcolor\":\"white\",\"linecolor\":\"white\",\"ticks\":\"\"},\"bgcolor\":\"#E5ECF6\",\"radialaxis\":{\"gridcolor\":\"white\",\"linecolor\":\"white\",\"ticks\":\"\"}},\"scene\":{\"xaxis\":{\"backgroundcolor\":\"#E5ECF6\",\"gridcolor\":\"white\",\"gridwidth\":2,\"linecolor\":\"white\",\"showbackground\":true,\"ticks\":\"\",\"zerolinecolor\":\"white\"},\"yaxis\":{\"backgroundcolor\":\"#E5ECF6\",\"gridcolor\":\"white\",\"gridwidth\":2,\"linecolor\":\"white\",\"showbackground\":true,\"ticks\":\"\",\"zerolinecolor\":\"white\"},\"zaxis\":{\"backgroundcolor\":\"#E5ECF6\",\"gridcolor\":\"white\",\"gridwidth\":2,\"linecolor\":\"white\",\"showbackground\":true,\"ticks\":\"\",\"zerolinecolor\":\"white\"}},\"shapedefaults\":{\"line\":{\"color\":\"#2a3f5f\"}},\"ternary\":{\"aaxis\":{\"gridcolor\":\"white\",\"linecolor\":\"white\",\"ticks\":\"\"},\"baxis\":{\"gridcolor\":\"white\",\"linecolor\":\"white\",\"ticks\":\"\"},\"bgcolor\":\"#E5ECF6\",\"caxis\":{\"gridcolor\":\"white\",\"linecolor\":\"white\",\"ticks\":\"\"}},\"title\":{\"x\":0.05},\"xaxis\":{\"automargin\":true,\"gridcolor\":\"white\",\"linecolor\":\"white\",\"ticks\":\"\",\"title\":{\"standoff\":15},\"zerolinecolor\":\"white\",\"zerolinewidth\":2},\"yaxis\":{\"automargin\":true,\"gridcolor\":\"white\",\"linecolor\":\"white\",\"ticks\":\"\",\"title\":{\"standoff\":15},\"zerolinecolor\":\"white\",\"zerolinewidth\":2}}},\"scene\":{\"xaxis\":{\"title\":{\"text\":\"Color intensity\"}},\"yaxis\":{\"title\":{\"text\":\"Alcohol\"}},\"zaxis\":{\"title\":{\"text\":\"Proline\"}}}},                        {\"responsive\": true}                    ).then(function(){\n",
              "                            \n",
              "var gd = document.getElementById('712b88fa-4e69-41c1-a376-427c38f43d55');\n",
              "var x = new MutationObserver(function (mutations, observer) {{\n",
              "        var display = window.getComputedStyle(gd).display;\n",
              "        if (!display || display === 'none') {{\n",
              "            console.log([gd, 'removed!']);\n",
              "            Plotly.purge(gd);\n",
              "            observer.disconnect();\n",
              "        }}\n",
              "}});\n",
              "\n",
              "// Listen for the removal of the full notebook cells\n",
              "var notebookContainer = gd.closest('#notebook-container');\n",
              "if (notebookContainer) {{\n",
              "    x.observe(notebookContainer, {childList: true});\n",
              "}}\n",
              "\n",
              "// Listen for the clearing of the current output cell\n",
              "var outputEl = gd.closest('.output');\n",
              "if (outputEl) {{\n",
              "    x.observe(outputEl, {childList: true});\n",
              "}}\n",
              "\n",
              "                        })                };                            </script>        </div>\n",
              "</body>\n",
              "</html>"
            ]
          },
          "metadata": {}
        }
      ]
    },
    {
      "cell_type": "markdown",
      "source": [
        "Now, we can identify our clusters from 3 different colors. Also, we can see some outliers. Note that DBSCAN does not make clusters based on a radial distance from a center. Clusters are formed based on the distance from a point and the other points of the same cluster. Thus, noisy data occurs due to a data point being very far away from all other points, not being able to form a group of at least ```min_samples = 5``` samples.\n",
        "\n",
        "Also, note that here we are considering only 3 dimensions, but our data has 16 dimensions (which may pass the wrong impression data some data should be in a group, when they should not)."
      ],
      "metadata": {
        "id": "2HAEJM492guH"
      }
    },
    {
      "cell_type": "markdown",
      "source": [
        "# Mean shift\n",
        "\n",
        "Another possible algorithm is mean shift. The advantage of this algorithm is that you do not need to pass any parameter to the algorithm. We can use it as:"
      ],
      "metadata": {
        "id": "q0ojWT7T8VB8"
      }
    },
    {
      "cell_type": "code",
      "source": [
        "meanshift = MeanShift( )\n",
        "meanshift.fit(df_0)"
      ],
      "metadata": {
        "colab": {
          "base_uri": "https://localhost:8080/"
        },
        "id": "XJhi-hGL3LEG",
        "outputId": "47fd770e-3692-4796-f9c5-85c3e50383fb"
      },
      "execution_count": 105,
      "outputs": [
        {
          "output_type": "execute_result",
          "data": {
            "text/plain": [
              "MeanShift()"
            ]
          },
          "metadata": {},
          "execution_count": 105
        }
      ]
    },
    {
      "cell_type": "markdown",
      "source": [
        "Let's see the labels for this algorithm:"
      ],
      "metadata": {
        "id": "CPDIfqao82FV"
      }
    },
    {
      "cell_type": "code",
      "source": [
        "meanshift.labels_"
      ],
      "metadata": {
        "colab": {
          "base_uri": "https://localhost:8080/"
        },
        "id": "hcYPqU7E8y3z",
        "outputId": "dd27547c-6b59-44a5-9b03-529c0d6a8fa6"
      },
      "execution_count": 106,
      "outputs": [
        {
          "output_type": "execute_result",
          "data": {
            "text/plain": [
              "array([0, 0, 0, 0, 0, 0, 0, 0, 0, 0, 0, 0, 0, 0, 0, 0, 0, 0, 0, 0, 0, 0,\n",
              "       0, 0, 0, 0, 0, 0, 0, 0, 0, 0, 0, 0, 0, 0, 0, 0, 0, 0, 0, 0, 0, 0,\n",
              "       0, 0, 0, 0, 0, 0, 0, 0, 0, 0, 0, 0, 0, 0, 0, 0, 0, 0, 0, 0, 0, 0,\n",
              "       0, 0, 0, 0, 0, 0, 0, 0, 0, 0, 0, 0, 0, 0, 0, 0, 0, 0, 0, 0, 0, 0,\n",
              "       0, 0, 0, 0, 0, 0, 0, 0, 0, 0, 0, 0, 0, 0, 0, 0, 0, 0, 0, 0, 0, 0,\n",
              "       0, 0, 0, 0, 0, 0, 0, 0, 0, 0, 0, 1, 0, 0, 0, 0, 0, 0, 0, 0, 0, 0,\n",
              "       0, 0, 0, 0, 0, 0, 0, 0, 0, 0, 0, 0, 0, 0, 0, 0, 0, 0, 0, 0, 0, 0,\n",
              "       0, 0, 0, 0, 0, 0, 0, 0, 0, 0, 0, 0, 0, 0, 0, 0, 0, 0, 0, 0, 0, 0,\n",
              "       0, 0])"
            ]
          },
          "metadata": {},
          "execution_count": 106
        }
      ]
    },
    {
      "cell_type": "markdown",
      "source": [
        "It seems that most of our data is located in the same cluster. Let's try to use it in the non-normalized data:"
      ],
      "metadata": {
        "id": "Z7Xb1eKA89k7"
      }
    },
    {
      "cell_type": "code",
      "source": [
        "meanshift = MeanShift( )\n",
        "meanshift.fit(df)\n",
        "meanshift.labels_"
      ],
      "metadata": {
        "colab": {
          "base_uri": "https://localhost:8080/"
        },
        "id": "swyjd0E780mo",
        "outputId": "36158def-be56-416b-d1d5-93ed2215b3cc"
      },
      "execution_count": 107,
      "outputs": [
        {
          "output_type": "execute_result",
          "data": {
            "text/plain": [
              "array([2, 2, 2, 2, 0, 2, 2, 2, 2, 2, 2, 2, 2, 2, 2, 2, 2, 2, 2, 1, 1, 1,\n",
              "       2, 1, 1, 1, 2, 2, 1, 2, 2, 2, 1, 2, 2, 1, 1, 2, 1, 1, 1, 2, 2, 0,\n",
              "       1, 2, 2, 1, 2, 2, 2, 2, 2, 2, 2, 2, 1, 2, 2, 0, 0, 0, 0, 0, 0, 0,\n",
              "       0, 0, 1, 0, 1, 0, 0, 1, 1, 0, 0, 0, 1, 0, 0, 0, 0, 0, 0, 0, 0, 0,\n",
              "       0, 0, 0, 0, 0, 0, 0, 1, 0, 0, 0, 0, 0, 0, 0, 0, 0, 0, 0, 0, 0, 0,\n",
              "       0, 0, 0, 0, 0, 0, 0, 0, 0, 0, 0, 0, 0, 0, 0, 0, 0, 0, 0, 0, 0, 0,\n",
              "       0, 0, 0, 0, 0, 0, 0, 0, 0, 1, 0, 0, 1, 1, 0, 0, 0, 0, 0, 0, 0, 0,\n",
              "       0, 0, 0, 1, 0, 0, 0, 0, 0, 0, 0, 0, 0, 0, 1, 0, 0, 0, 0, 0, 1, 1,\n",
              "       1, 0])"
            ]
          },
          "metadata": {},
          "execution_count": 107
        }
      ]
    },
    {
      "cell_type": "markdown",
      "source": [
        "Now it seems that we have a better clustering algorithm. \n",
        "\n",
        "Mean-Shift also looks for regions with high density of points. However, instead of requiring some user-defined parameters such as DBScan, it looks for the center of the clusters, and locates where each sample falls, based on their distance to the center. \n",
        "\n",
        "For Mean-Shift, we actually have an user-defined parameter (bandwidth), which helps to deal with scalability of our data.\n",
        "\n",
        "Mean-Shift is also robust to outliers, and serves for different applications. Also, as it only has one adjustable parameter, it is easier for the user. However, Mean-Shift does not work well in high-dimensional data. Also, defining bandwidth is not simple, and the algorithm is computationally expensive. \n",
        "\n",
        "Using SKLearn, we can estimate the bandwidth using:"
      ],
      "metadata": {
        "id": "O4GSmASv9HeL"
      }
    },
    {
      "cell_type": "code",
      "source": [
        "BW = estimate_bandwidth(df, quantile = 0.1)\n",
        "BW"
      ],
      "metadata": {
        "id": "pA1QGoDh9GBk",
        "colab": {
          "base_uri": "https://localhost:8080/"
        },
        "outputId": "6473ab44-bdd2-40d8-e228-0d86b6c1092e"
      },
      "execution_count": 110,
      "outputs": [
        {
          "output_type": "execute_result",
          "data": {
            "text/plain": [
              "63.180850991985075"
            ]
          },
          "metadata": {},
          "execution_count": 110
        }
      ]
    },
    {
      "cell_type": "markdown",
      "source": [
        "This algorithm gets the distance from all of our data points, and orders those. The bandwidth is the distance located at the quantile specified. If we change the quantile:"
      ],
      "metadata": {
        "id": "Allj9DONANIQ"
      }
    },
    {
      "cell_type": "code",
      "source": [
        "BW = estimate_bandwidth(df, quantile = 0.8)\n",
        "BW"
      ],
      "metadata": {
        "colab": {
          "base_uri": "https://localhost:8080/"
        },
        "id": "0oP9RGA3AKk3",
        "outputId": "fd93923b-fda6-4d1c-88af-2959ed8932ba"
      },
      "execution_count": 111,
      "outputs": [
        {
          "output_type": "execute_result",
          "data": {
            "text/plain": [
              "558.7029604054767"
            ]
          },
          "metadata": {},
          "execution_count": 111
        }
      ]
    },
    {
      "cell_type": "markdown",
      "source": [
        "So, using the bandwidth, we can also try to use our normalized dataframe:"
      ],
      "metadata": {
        "id": "jPhjL6lXAdrs"
      }
    },
    {
      "cell_type": "code",
      "source": [
        "BW = estimate_bandwidth(df_0, quantile = 0.2)\n",
        "meanshift = MeanShift(bandwidth = BW)\n",
        "meanshift.fit(df_0)\n",
        "meanshift.labels_"
      ],
      "metadata": {
        "colab": {
          "base_uri": "https://localhost:8080/"
        },
        "id": "C9Tbccp5AbH5",
        "outputId": "1339e08d-a537-4d4f-e5b9-76d5e8515307"
      },
      "execution_count": 117,
      "outputs": [
        {
          "output_type": "execute_result",
          "data": {
            "text/plain": [
              "array([1, 1, 1, 1, 1, 1, 1, 1, 1, 1, 1, 1, 1, 1, 1, 1, 1, 1, 1, 1, 1, 1,\n",
              "       1, 1, 1, 1, 1, 1, 1, 1, 1, 1, 1, 1, 1, 1, 1, 1, 1, 1, 1, 1, 1, 1,\n",
              "       1, 1, 1, 1, 1, 1, 1, 1, 1, 1, 1, 1, 1, 1, 1, 0, 0, 0, 0, 0, 0, 0,\n",
              "       0, 0, 0, 3, 0, 0, 0, 4, 0, 0, 0, 0, 3, 0, 0, 0, 0, 2, 0, 0, 0, 0,\n",
              "       0, 0, 0, 0, 0, 0, 0, 3, 0, 0, 0, 0, 0, 0, 0, 0, 0, 0, 0, 0, 0, 0,\n",
              "       0, 0, 0, 0, 0, 0, 0, 0, 0, 0, 0, 5, 0, 0, 0, 0, 0, 0, 0, 0, 2, 2,\n",
              "       2, 2, 2, 2, 2, 2, 2, 2, 2, 2, 2, 2, 2, 2, 2, 2, 2, 2, 2, 2, 2, 2,\n",
              "       2, 2, 2, 2, 2, 2, 2, 2, 2, 2, 2, 2, 2, 2, 2, 2, 2, 2, 2, 2, 2, 2,\n",
              "       2, 2])"
            ]
          },
          "metadata": {},
          "execution_count": 117
        }
      ]
    },
    {
      "cell_type": "markdown",
      "source": [
        "Nice, it seems that this bandwidth is more appropriate. Now, let's try to visualize the clusters:"
      ],
      "metadata": {
        "id": "oG_xtdNNAyId"
      }
    },
    {
      "cell_type": "code",
      "source": [
        "df_clusters['ClusterWines_MeanShift'] = meanshift.labels_"
      ],
      "metadata": {
        "id": "WrjekiTgA8YD"
      },
      "execution_count": 119,
      "outputs": []
    },
    {
      "cell_type": "code",
      "source": [
        "fig = go.Figure( )\n",
        "sp = go.Scatter3d(x = df_clusters['Color_Intensity'], y = df_clusters['Alcohol'], z = df_clusters['Proline'], mode = 'markers', marker = dict(color = df_clusters.ClusterWines_MeanShift.astype(float)), text = df_clusters.ClusterWines_MeanShift)\n",
        "fig.add_trace(sp)\n",
        "\n",
        "fig.update_layout(scene = dict(xaxis_title = 'Color intensity', yaxis_title = 'Alcohol', zaxis_title = 'Proline'))"
      ],
      "metadata": {
        "colab": {
          "base_uri": "https://localhost:8080/",
          "height": 542
        },
        "outputId": "e639f4f7-0384-4d83-86ec-333398e83d26",
        "id": "aPPhBiW7A8YD"
      },
      "execution_count": 120,
      "outputs": [
        {
          "output_type": "display_data",
          "data": {
            "text/html": [
              "<html>\n",
              "<head><meta charset=\"utf-8\" /></head>\n",
              "<body>\n",
              "    <div>            <script src=\"https://cdnjs.cloudflare.com/ajax/libs/mathjax/2.7.5/MathJax.js?config=TeX-AMS-MML_SVG\"></script><script type=\"text/javascript\">if (window.MathJax) {MathJax.Hub.Config({SVG: {font: \"STIX-Web\"}});}</script>                <script type=\"text/javascript\">window.PlotlyConfig = {MathJaxConfig: 'local'};</script>\n",
              "        <script src=\"https://cdn.plot.ly/plotly-2.8.3.min.js\"></script>                <div id=\"5ac69e28-3e4e-4e49-984a-d6dfc10a5919\" class=\"plotly-graph-div\" style=\"height:525px; width:100%;\"></div>            <script type=\"text/javascript\">                                    window.PLOTLYENV=window.PLOTLYENV || {};                                    if (document.getElementById(\"5ac69e28-3e4e-4e49-984a-d6dfc10a5919\")) {                    Plotly.newPlot(                        \"5ac69e28-3e4e-4e49-984a-d6dfc10a5919\",                        [{\"marker\":{\"color\":[1.0,1.0,1.0,1.0,1.0,1.0,1.0,1.0,1.0,1.0,1.0,1.0,1.0,1.0,1.0,1.0,1.0,1.0,1.0,1.0,1.0,1.0,1.0,1.0,1.0,1.0,1.0,1.0,1.0,1.0,1.0,1.0,1.0,1.0,1.0,1.0,1.0,1.0,1.0,1.0,1.0,1.0,1.0,1.0,1.0,1.0,1.0,1.0,1.0,1.0,1.0,1.0,1.0,1.0,1.0,1.0,1.0,1.0,1.0,0.0,0.0,0.0,0.0,0.0,0.0,0.0,0.0,0.0,0.0,3.0,0.0,0.0,0.0,4.0,0.0,0.0,0.0,0.0,3.0,0.0,0.0,0.0,0.0,2.0,0.0,0.0,0.0,0.0,0.0,0.0,0.0,0.0,0.0,0.0,0.0,3.0,0.0,0.0,0.0,0.0,0.0,0.0,0.0,0.0,0.0,0.0,0.0,0.0,0.0,0.0,0.0,0.0,0.0,0.0,0.0,0.0,0.0,0.0,0.0,0.0,0.0,5.0,0.0,0.0,0.0,0.0,0.0,0.0,0.0,0.0,2.0,2.0,2.0,2.0,2.0,2.0,2.0,2.0,2.0,2.0,2.0,2.0,2.0,2.0,2.0,2.0,2.0,2.0,2.0,2.0,2.0,2.0,2.0,2.0,2.0,2.0,2.0,2.0,2.0,2.0,2.0,2.0,2.0,2.0,2.0,2.0,2.0,2.0,2.0,2.0,2.0,2.0,2.0,2.0,2.0,2.0,2.0,2.0]},\"mode\":\"markers\",\"text\":[1.0,1.0,1.0,1.0,1.0,1.0,1.0,1.0,1.0,1.0,1.0,1.0,1.0,1.0,1.0,1.0,1.0,1.0,1.0,1.0,1.0,1.0,1.0,1.0,1.0,1.0,1.0,1.0,1.0,1.0,1.0,1.0,1.0,1.0,1.0,1.0,1.0,1.0,1.0,1.0,1.0,1.0,1.0,1.0,1.0,1.0,1.0,1.0,1.0,1.0,1.0,1.0,1.0,1.0,1.0,1.0,1.0,1.0,1.0,0.0,0.0,0.0,0.0,0.0,0.0,0.0,0.0,0.0,0.0,3.0,0.0,0.0,0.0,4.0,0.0,0.0,0.0,0.0,3.0,0.0,0.0,0.0,0.0,2.0,0.0,0.0,0.0,0.0,0.0,0.0,0.0,0.0,0.0,0.0,0.0,3.0,0.0,0.0,0.0,0.0,0.0,0.0,0.0,0.0,0.0,0.0,0.0,0.0,0.0,0.0,0.0,0.0,0.0,0.0,0.0,0.0,0.0,0.0,0.0,0.0,0.0,5.0,0.0,0.0,0.0,0.0,0.0,0.0,0.0,0.0,2.0,2.0,2.0,2.0,2.0,2.0,2.0,2.0,2.0,2.0,2.0,2.0,2.0,2.0,2.0,2.0,2.0,2.0,2.0,2.0,2.0,2.0,2.0,2.0,2.0,2.0,2.0,2.0,2.0,2.0,2.0,2.0,2.0,2.0,2.0,2.0,2.0,2.0,2.0,2.0,2.0,2.0,2.0,2.0,2.0,2.0,2.0,2.0],\"x\":[0.3720136518771331,0.26450511945392485,0.3754266211604095,0.5563139931740614,0.2593856655290102,0.4667235494880546,0.3387372013651877,0.3216723549488054,0.33447098976109213,0.5068259385665529,0.3813993174061433,0.31740614334470985,0.3686006825938566,0.3515358361774744,0.5307167235494881,0.5136518771331058,0.41979522184300344,0.4539249146757679,0.6331058020477814,0.325938566552901,0.37286689419795227,0.27474402730375425,0.21501706484641633,0.22610921501706485,0.1911262798634812,0.1962457337883959,0.30034129692832756,0.22781569965870305,0.27474402730375425,0.29180887372013653,0.37713310580204773,0.4795221843003413,0.21843003412969278,0.3515358361774744,0.2491467576791809,0.325938566552901,0.2832764505119454,0.2534129692832764,0.20648464163822525,0.325938566552901,0.4138225255972696,0.2559726962457338,0.35409556313993173,0.2627986348122867,0.32081911262798635,0.33788395904436863,0.3088737201365188,0.4112627986348123,0.41979522184300344,0.6501706484641638,0.5051194539249146,0.3686006825938566,0.4923208191126279,0.42832764505119447,0.38993174061433444,0.424061433447099,0.4351535836177475,0.40273037542662116,0.4709897610921502,0.057167235494880536,0.1697952218430034,0.3813993174061433,0.21501706484641633,0.2704778156996587,0.1424914675767918,0.2832764505119454,0.3430034129692833,0.2901023890784983,0.16126279863481227,0.13395904436860068,0.15102389078498293,0.17918088737201363,0.2098976109215017,0.1766211604095563,0.16467576791808872,0.21501706484641633,0.2832764505119454,0.11689419795221842,0.18088737201365188,0.1100682593856655,0.10409556313993173,0.22354948805460748,0.07849829351535836,0.30034129692832756,0.15102389078498293,0.1143344709897611,0.09982935153583619,0.11262798634812288,0.1296928327645051,0.03924914675767918,0.09556313993174059,0.1979522184300341,0.15102389078498293,0.07423208191126279,0.16808873720136516,0.11262798634812288,0.10409556313993173,0.13822525597269622,0.27474402730375425,0.08703071672354948,0.17235494880546073,0.09982935153583619,0.1296928327645051,0.06655290102389078,0.14163822525597267,0.12116040955631399,0.18088737201365188,0.17235494880546073,0.12116040955631399,0.11689419795221842,0.13822525597269622,0.06143344709897611,0.21501706484641633,0.15358361774744025,0.13822525597269622,0.052901023890784965,0.057167235494880536,0.06655290102389078,0.18088737201365188,0.0,0.16808873720136516,0.40273037542662116,0.06825938566552903,0.11262798634812288,0.1296928327645051,0.12627986348122863,0.22696245733788392,0.14675767918088736,0.07167235494880547,0.11262798634812288,0.2406143344709897,0.3515358361774744,0.37713310580204773,0.31740614334470985,0.35580204778157,0.4965870307167235,0.21928327645051196,0.31740614334470985,0.37713310580204773,0.31058020477815695,0.2832764505119454,0.3686006825938566,0.26194539249146753,0.2662116040955631,0.5912969283276451,0.23208191126279862,0.3088737201365188,0.5435153583617748,0.6092150170648464,0.6928327645051194,0.6245733788395904,0.8122866894197952,0.4965870307167235,0.78839590443686,0.5392491467576791,0.5648464163822525,0.659556313993174,0.5307167235494881,0.9999999999999999,0.893344709897611,0.5435153583617748,0.39249146757679176,0.36689419795221845,0.341296928327645,0.7081911262798635,0.45563139931740615,0.8020477815699658,0.7662116040955631,0.6296928327645052,0.6160409556313993,0.36006825938566556,0.7354947952218429,0.7184300341296928,0.5477815699658704,0.5136518771331058,0.7610921501706484,0.6843003412969284,0.6757679180887372],\"y\":[0.8421052631578951,0.5710526315789473,0.560526315789474,0.8789473684210525,0.5815789473684214,0.8342105263157893,0.8842105263157896,0.797368421052632,1.0,0.7447368421052629,0.8078947368421052,0.8131578947368419,0.7157894736842105,0.9789473684210526,0.8815789473684212,0.6842105263157898,0.8605263157894738,0.736842105263158,0.831578947368421,0.6868421052631581,0.797368421052632,0.5,0.7052631578947373,0.47894736842105257,0.6499999999999999,0.5315789473684216,0.6210526315789475,0.5973684210526318,0.7473684210526317,0.7868421052631578,0.7105263157894739,0.6710526315789473,0.6973684210526314,0.7184210526315788,0.6526315789473687,0.6447368421052633,0.5921052631578947,0.5315789473684216,0.5368421052631582,0.8394736842105264,0.6657894736842107,0.6263157894736846,0.7500000000000004,0.5815789473684214,0.5315789473684216,0.836842105263158,0.8815789473684212,0.7552631578947371,0.8078947368421052,0.7657894736842104,0.5315789473684216,0.736842105263158,0.7342105263157896,0.7210526315789472,0.7131578947368422,0.6657894736842107,0.8394736842105264,0.594736842105263,0.7078947368421056,0.3526315789473684,0.34210526315789513,0.4236842105263161,0.6947368421052631,0.3526315789473684,0.30000000000000027,0.3526315789473684,0.5473684210526315,0.3526315789473684,0.6078947368421055,0.310526315789474,0.331578947368421,0.7447368421052629,0.6473684210526316,0.5157894736842108,0.2447368421052638,0.1657894736842107,0.5263157894736841,0.2131578947368422,0.34210526315789513,0.43947368421052646,0.2552631578947371,0.44473684210526354,0.2763157894736845,0.5315789473684216,0.2131578947368422,0.43157894736842106,0.29736842105263195,0.1631578947368424,0.16052631578947407,0.2763157894736845,0.2763157894736845,0.2552631578947371,0.43684210526315814,0.331578947368421,0.155263157894737,0.3789473684210529,0.20526315789473726,0.331578947368421,0.3526315789473684,0.331578947368421,0.2763157894736845,0.4131578947368424,0.34473684210526345,0.20789473684210558,0.38947368421052664,0.3657894736842109,0.3210526315789477,0.44473684210526354,0.3131578947368423,0.15263157894736867,0.11315789473684257,0.39210526315789496,0.19210526315789478,0.10000000000000053,0.2763157894736845,0.0,0.20789473684210558,0.3657894736842109,0.45789473684210513,0.2552631578947371,0.1105263157894738,0.13947368421052664,0.3657894736842109,0.5315789473684216,0.2210526315789476,0.2736842105263162,0.3684210526315792,0.20000000000000018,0.3526315789473684,0.26578947368421035,0.4815789473684209,0.4868421052631584,0.4684210526315793,0.43947368421052646,0.38947368421052664,0.4131578947368424,0.3210526315789477,0.3947368421052633,0.6473684210526316,0.47631578947368425,0.5,0.6131578947368421,0.655263157894737,0.6815789473684211,0.3210526315789477,0.560526315789474,0.7500000000000004,0.48421052631578965,0.6026315789473689,0.5394736842105265,0.6499999999999999,0.4631578947368422,0.5473684210526315,0.5789473684210531,0.4078947368421053,0.5631578947368423,0.7394736842105263,0.37368421052631584,0.8710526315789475,0.6447368421052633,0.3500000000000001,0.7000000000000002,0.47894736842105257,0.5078947368421058,0.7236842105263159,0.7105263157894739,0.6368421052631579,0.4710526315789476,0.6710526315789473,0.6236842105263158,0.3078947368421052,0.45789473684210513,0.823684210526316,0.7052631578947373,0.6236842105263158,0.5894736842105264,0.5631578947368423,0.8157894736842106],\"z\":[0.5613409415121255,0.5506419400855921,0.6469329529243938,0.8573466476462198,0.3259629101283881,0.8359486447931527,0.7218259629101285,0.725392296718973,0.5470756062767476,0.5470756062767476,0.8787446504992867,0.7146932952924394,0.7432239657631955,0.6219686162624822,0.9051355206847361,0.7360912981455064,0.7146932952924394,0.6077032810271041,1.0,0.40442225392296727,0.35805991440798857,0.35092724679029963,0.5399429386590585,0.5256776034236805,0.40442225392296727,0.3937232524964337,0.6540656205420827,0.7182596291012839,0.4543509272467904,0.5399429386590585,0.7182596291012839,0.8823109843081313,0.5078459343794579,0.6825962910128388,0.5827389443651926,0.4579172610556348,0.4293865905848788,0.5898716119828816,0.529243937232525,0.3437945791726106,0.36875891583452214,0.5399429386590585,0.5827389443651926,0.2867332382310984,0.43295292439372324,0.5720399429386591,0.5613409415121255,0.5042796005706135,0.557774607703281,0.7004279600570614,0.6219686162624822,0.7039942938659058,0.6504992867332383,0.782453637660485,0.557774607703281,0.6005706134094152,0.4935805991440799,0.7075606276747504,0.7182596291012839,0.17261055634807418,0.2867332382310984,0.12268188302425106,0.2510699001426534,0.10128388017118403,0.054921540656205386,0.2853067047075606,0.15977175463623397,0.1654778887303852,0.33666191155492153,0.31383737517831667,0.4222539229671898,0.09415121255349498,0.13837375178316688,0.5042796005706135,0.4336661911554922,0.10699001426533525,0.08131241084165478,0.15834522111269614,0.33666191155492153,0.1319543509272468,0.0,0.3109843081312411,0.2510699001426534,0.16904422253922965,0.17261055634807418,0.12268188302425106,0.15477888730385161,0.20256776034236804,0.2867332382310984,0.24750356633380885,0.1440798858773181,0.12268188302425106,0.15477888730385161,0.008559201141226797,0.047788873038516394,0.4700427960057062,0.24750356633380885,0.10699001426533525,0.27246790299572043,0.09129814550641938,0.30813124108416545,0.20256776034236804,0.11412268188302424,0.09771754636233951,0.2810271041369472,0.02639087018544936,0.1654778887303852,0.14978601997146931,0.02425106990014264,0.2867332382310984,0.20256776034236804,0.033523537803138354,0.23466476462196864,0.11126961483594863,0.07631954350927247,0.09201141226818829,0.15477888730385161,0.047788873038516394,0.06704707560627673,0.20399429386590587,0.24750356633380885,0.13338088445078458,0.062054208273894434,0.07275320970042795,0.07275320970042795,0.07132667617689017,0.052781740370898694,0.1340941512125535,0.0456490727532097,0.21540656205420824,0.2510699001426534,0.17974322396576317,0.20114122681883026,0.22967189728958629,0.2653352353780314,0.297432239657632,0.3152639087018545,0.16904422253922965,0.21540656205420824,0.2225392296718973,0.22967189728958629,0.35805991440798857,0.17261055634807418,0.1940085592011412,0.4115549215406562,0.3937232524964337,0.09771754636233951,0.24750356633380885,0.2653352353780314,0.1940085592011412,0.15834522111269614,0.1440798858773181,0.1048502139800285,0.2831669044222539,0.25820256776034234,0.318830242510699,0.1440798858773181,0.4293865905848788,0.27246790299572043,0.24393723252496433,0.17261055634807418,0.2867332382310984,0.20827389443651925,0.2831669044222539,0.2403708987161198,0.17261055634807418,0.297432239657632,0.29029957203994294,0.33666191155492153,0.2510699001426534,0.1654778887303852,0.1369472182596291,0.27246790299572043,0.3295292439372326,0.33666191155492153,0.3972895863052782,0.40085592011412274,0.20114122681883026],\"type\":\"scatter3d\"}],                        {\"template\":{\"data\":{\"bar\":[{\"error_x\":{\"color\":\"#2a3f5f\"},\"error_y\":{\"color\":\"#2a3f5f\"},\"marker\":{\"line\":{\"color\":\"#E5ECF6\",\"width\":0.5},\"pattern\":{\"fillmode\":\"overlay\",\"size\":10,\"solidity\":0.2}},\"type\":\"bar\"}],\"barpolar\":[{\"marker\":{\"line\":{\"color\":\"#E5ECF6\",\"width\":0.5},\"pattern\":{\"fillmode\":\"overlay\",\"size\":10,\"solidity\":0.2}},\"type\":\"barpolar\"}],\"carpet\":[{\"aaxis\":{\"endlinecolor\":\"#2a3f5f\",\"gridcolor\":\"white\",\"linecolor\":\"white\",\"minorgridcolor\":\"white\",\"startlinecolor\":\"#2a3f5f\"},\"baxis\":{\"endlinecolor\":\"#2a3f5f\",\"gridcolor\":\"white\",\"linecolor\":\"white\",\"minorgridcolor\":\"white\",\"startlinecolor\":\"#2a3f5f\"},\"type\":\"carpet\"}],\"choropleth\":[{\"colorbar\":{\"outlinewidth\":0,\"ticks\":\"\"},\"type\":\"choropleth\"}],\"contour\":[{\"colorbar\":{\"outlinewidth\":0,\"ticks\":\"\"},\"colorscale\":[[0.0,\"#0d0887\"],[0.1111111111111111,\"#46039f\"],[0.2222222222222222,\"#7201a8\"],[0.3333333333333333,\"#9c179e\"],[0.4444444444444444,\"#bd3786\"],[0.5555555555555556,\"#d8576b\"],[0.6666666666666666,\"#ed7953\"],[0.7777777777777778,\"#fb9f3a\"],[0.8888888888888888,\"#fdca26\"],[1.0,\"#f0f921\"]],\"type\":\"contour\"}],\"contourcarpet\":[{\"colorbar\":{\"outlinewidth\":0,\"ticks\":\"\"},\"type\":\"contourcarpet\"}],\"heatmap\":[{\"colorbar\":{\"outlinewidth\":0,\"ticks\":\"\"},\"colorscale\":[[0.0,\"#0d0887\"],[0.1111111111111111,\"#46039f\"],[0.2222222222222222,\"#7201a8\"],[0.3333333333333333,\"#9c179e\"],[0.4444444444444444,\"#bd3786\"],[0.5555555555555556,\"#d8576b\"],[0.6666666666666666,\"#ed7953\"],[0.7777777777777778,\"#fb9f3a\"],[0.8888888888888888,\"#fdca26\"],[1.0,\"#f0f921\"]],\"type\":\"heatmap\"}],\"heatmapgl\":[{\"colorbar\":{\"outlinewidth\":0,\"ticks\":\"\"},\"colorscale\":[[0.0,\"#0d0887\"],[0.1111111111111111,\"#46039f\"],[0.2222222222222222,\"#7201a8\"],[0.3333333333333333,\"#9c179e\"],[0.4444444444444444,\"#bd3786\"],[0.5555555555555556,\"#d8576b\"],[0.6666666666666666,\"#ed7953\"],[0.7777777777777778,\"#fb9f3a\"],[0.8888888888888888,\"#fdca26\"],[1.0,\"#f0f921\"]],\"type\":\"heatmapgl\"}],\"histogram\":[{\"marker\":{\"pattern\":{\"fillmode\":\"overlay\",\"size\":10,\"solidity\":0.2}},\"type\":\"histogram\"}],\"histogram2d\":[{\"colorbar\":{\"outlinewidth\":0,\"ticks\":\"\"},\"colorscale\":[[0.0,\"#0d0887\"],[0.1111111111111111,\"#46039f\"],[0.2222222222222222,\"#7201a8\"],[0.3333333333333333,\"#9c179e\"],[0.4444444444444444,\"#bd3786\"],[0.5555555555555556,\"#d8576b\"],[0.6666666666666666,\"#ed7953\"],[0.7777777777777778,\"#fb9f3a\"],[0.8888888888888888,\"#fdca26\"],[1.0,\"#f0f921\"]],\"type\":\"histogram2d\"}],\"histogram2dcontour\":[{\"colorbar\":{\"outlinewidth\":0,\"ticks\":\"\"},\"colorscale\":[[0.0,\"#0d0887\"],[0.1111111111111111,\"#46039f\"],[0.2222222222222222,\"#7201a8\"],[0.3333333333333333,\"#9c179e\"],[0.4444444444444444,\"#bd3786\"],[0.5555555555555556,\"#d8576b\"],[0.6666666666666666,\"#ed7953\"],[0.7777777777777778,\"#fb9f3a\"],[0.8888888888888888,\"#fdca26\"],[1.0,\"#f0f921\"]],\"type\":\"histogram2dcontour\"}],\"mesh3d\":[{\"colorbar\":{\"outlinewidth\":0,\"ticks\":\"\"},\"type\":\"mesh3d\"}],\"parcoords\":[{\"line\":{\"colorbar\":{\"outlinewidth\":0,\"ticks\":\"\"}},\"type\":\"parcoords\"}],\"pie\":[{\"automargin\":true,\"type\":\"pie\"}],\"scatter\":[{\"marker\":{\"colorbar\":{\"outlinewidth\":0,\"ticks\":\"\"}},\"type\":\"scatter\"}],\"scatter3d\":[{\"line\":{\"colorbar\":{\"outlinewidth\":0,\"ticks\":\"\"}},\"marker\":{\"colorbar\":{\"outlinewidth\":0,\"ticks\":\"\"}},\"type\":\"scatter3d\"}],\"scattercarpet\":[{\"marker\":{\"colorbar\":{\"outlinewidth\":0,\"ticks\":\"\"}},\"type\":\"scattercarpet\"}],\"scattergeo\":[{\"marker\":{\"colorbar\":{\"outlinewidth\":0,\"ticks\":\"\"}},\"type\":\"scattergeo\"}],\"scattergl\":[{\"marker\":{\"colorbar\":{\"outlinewidth\":0,\"ticks\":\"\"}},\"type\":\"scattergl\"}],\"scattermapbox\":[{\"marker\":{\"colorbar\":{\"outlinewidth\":0,\"ticks\":\"\"}},\"type\":\"scattermapbox\"}],\"scatterpolar\":[{\"marker\":{\"colorbar\":{\"outlinewidth\":0,\"ticks\":\"\"}},\"type\":\"scatterpolar\"}],\"scatterpolargl\":[{\"marker\":{\"colorbar\":{\"outlinewidth\":0,\"ticks\":\"\"}},\"type\":\"scatterpolargl\"}],\"scatterternary\":[{\"marker\":{\"colorbar\":{\"outlinewidth\":0,\"ticks\":\"\"}},\"type\":\"scatterternary\"}],\"surface\":[{\"colorbar\":{\"outlinewidth\":0,\"ticks\":\"\"},\"colorscale\":[[0.0,\"#0d0887\"],[0.1111111111111111,\"#46039f\"],[0.2222222222222222,\"#7201a8\"],[0.3333333333333333,\"#9c179e\"],[0.4444444444444444,\"#bd3786\"],[0.5555555555555556,\"#d8576b\"],[0.6666666666666666,\"#ed7953\"],[0.7777777777777778,\"#fb9f3a\"],[0.8888888888888888,\"#fdca26\"],[1.0,\"#f0f921\"]],\"type\":\"surface\"}],\"table\":[{\"cells\":{\"fill\":{\"color\":\"#EBF0F8\"},\"line\":{\"color\":\"white\"}},\"header\":{\"fill\":{\"color\":\"#C8D4E3\"},\"line\":{\"color\":\"white\"}},\"type\":\"table\"}]},\"layout\":{\"annotationdefaults\":{\"arrowcolor\":\"#2a3f5f\",\"arrowhead\":0,\"arrowwidth\":1},\"autotypenumbers\":\"strict\",\"coloraxis\":{\"colorbar\":{\"outlinewidth\":0,\"ticks\":\"\"}},\"colorscale\":{\"diverging\":[[0,\"#8e0152\"],[0.1,\"#c51b7d\"],[0.2,\"#de77ae\"],[0.3,\"#f1b6da\"],[0.4,\"#fde0ef\"],[0.5,\"#f7f7f7\"],[0.6,\"#e6f5d0\"],[0.7,\"#b8e186\"],[0.8,\"#7fbc41\"],[0.9,\"#4d9221\"],[1,\"#276419\"]],\"sequential\":[[0.0,\"#0d0887\"],[0.1111111111111111,\"#46039f\"],[0.2222222222222222,\"#7201a8\"],[0.3333333333333333,\"#9c179e\"],[0.4444444444444444,\"#bd3786\"],[0.5555555555555556,\"#d8576b\"],[0.6666666666666666,\"#ed7953\"],[0.7777777777777778,\"#fb9f3a\"],[0.8888888888888888,\"#fdca26\"],[1.0,\"#f0f921\"]],\"sequentialminus\":[[0.0,\"#0d0887\"],[0.1111111111111111,\"#46039f\"],[0.2222222222222222,\"#7201a8\"],[0.3333333333333333,\"#9c179e\"],[0.4444444444444444,\"#bd3786\"],[0.5555555555555556,\"#d8576b\"],[0.6666666666666666,\"#ed7953\"],[0.7777777777777778,\"#fb9f3a\"],[0.8888888888888888,\"#fdca26\"],[1.0,\"#f0f921\"]]},\"colorway\":[\"#636efa\",\"#EF553B\",\"#00cc96\",\"#ab63fa\",\"#FFA15A\",\"#19d3f3\",\"#FF6692\",\"#B6E880\",\"#FF97FF\",\"#FECB52\"],\"font\":{\"color\":\"#2a3f5f\"},\"geo\":{\"bgcolor\":\"white\",\"lakecolor\":\"white\",\"landcolor\":\"#E5ECF6\",\"showlakes\":true,\"showland\":true,\"subunitcolor\":\"white\"},\"hoverlabel\":{\"align\":\"left\"},\"hovermode\":\"closest\",\"mapbox\":{\"style\":\"light\"},\"paper_bgcolor\":\"white\",\"plot_bgcolor\":\"#E5ECF6\",\"polar\":{\"angularaxis\":{\"gridcolor\":\"white\",\"linecolor\":\"white\",\"ticks\":\"\"},\"bgcolor\":\"#E5ECF6\",\"radialaxis\":{\"gridcolor\":\"white\",\"linecolor\":\"white\",\"ticks\":\"\"}},\"scene\":{\"xaxis\":{\"backgroundcolor\":\"#E5ECF6\",\"gridcolor\":\"white\",\"gridwidth\":2,\"linecolor\":\"white\",\"showbackground\":true,\"ticks\":\"\",\"zerolinecolor\":\"white\"},\"yaxis\":{\"backgroundcolor\":\"#E5ECF6\",\"gridcolor\":\"white\",\"gridwidth\":2,\"linecolor\":\"white\",\"showbackground\":true,\"ticks\":\"\",\"zerolinecolor\":\"white\"},\"zaxis\":{\"backgroundcolor\":\"#E5ECF6\",\"gridcolor\":\"white\",\"gridwidth\":2,\"linecolor\":\"white\",\"showbackground\":true,\"ticks\":\"\",\"zerolinecolor\":\"white\"}},\"shapedefaults\":{\"line\":{\"color\":\"#2a3f5f\"}},\"ternary\":{\"aaxis\":{\"gridcolor\":\"white\",\"linecolor\":\"white\",\"ticks\":\"\"},\"baxis\":{\"gridcolor\":\"white\",\"linecolor\":\"white\",\"ticks\":\"\"},\"bgcolor\":\"#E5ECF6\",\"caxis\":{\"gridcolor\":\"white\",\"linecolor\":\"white\",\"ticks\":\"\"}},\"title\":{\"x\":0.05},\"xaxis\":{\"automargin\":true,\"gridcolor\":\"white\",\"linecolor\":\"white\",\"ticks\":\"\",\"title\":{\"standoff\":15},\"zerolinecolor\":\"white\",\"zerolinewidth\":2},\"yaxis\":{\"automargin\":true,\"gridcolor\":\"white\",\"linecolor\":\"white\",\"ticks\":\"\",\"title\":{\"standoff\":15},\"zerolinecolor\":\"white\",\"zerolinewidth\":2}}},\"scene\":{\"xaxis\":{\"title\":{\"text\":\"Color intensity\"}},\"yaxis\":{\"title\":{\"text\":\"Alcohol\"}},\"zaxis\":{\"title\":{\"text\":\"Proline\"}}}},                        {\"responsive\": true}                    ).then(function(){\n",
              "                            \n",
              "var gd = document.getElementById('5ac69e28-3e4e-4e49-984a-d6dfc10a5919');\n",
              "var x = new MutationObserver(function (mutations, observer) {{\n",
              "        var display = window.getComputedStyle(gd).display;\n",
              "        if (!display || display === 'none') {{\n",
              "            console.log([gd, 'removed!']);\n",
              "            Plotly.purge(gd);\n",
              "            observer.disconnect();\n",
              "        }}\n",
              "}});\n",
              "\n",
              "// Listen for the removal of the full notebook cells\n",
              "var notebookContainer = gd.closest('#notebook-container');\n",
              "if (notebookContainer) {{\n",
              "    x.observe(notebookContainer, {childList: true});\n",
              "}}\n",
              "\n",
              "// Listen for the clearing of the current output cell\n",
              "var outputEl = gd.closest('.output');\n",
              "if (outputEl) {{\n",
              "    x.observe(outputEl, {childList: true});\n",
              "}}\n",
              "\n",
              "                        })                };                            </script>        </div>\n",
              "</body>\n",
              "</html>"
            ]
          },
          "metadata": {}
        }
      ]
    },
    {
      "cell_type": "markdown",
      "source": [
        "Nice! Note that the Mean-Shift algorithm is another radial-distance-based clustering algorithm, but it is also able to detect outliers!"
      ],
      "metadata": {
        "id": "B9TvlTN7BLMV"
      }
    },
    {
      "cell_type": "markdown",
      "source": [
        "# Evaluating different clustering algorithms\n",
        "\n",
        "So, we have learned how to use different clustering algorithms, and we saw how they behave in a 3D-space. However, do we have a better way of defining which is the better algorithm?\n",
        "\n",
        "In clustering, we can use the silhouette coefficient. This coefficient helps us to define how far are our clusters from each other. We can get the silhoutte score using a metric already defined in SKLearn. First, let's evaluate the silhoutte score for K-Means for different numbers of clusters."
      ],
      "metadata": {
        "id": "aeBT9vE1BbdU"
      }
    },
    {
      "cell_type": "code",
      "source": [
        "n_clusters = [i for i in range(2, 11)]\n",
        "sil_values = []\n",
        "\n",
        "for k in n_clusters:\n",
        "  kmeans = KMeans(n_clusters = k)\n",
        "  labels = kmeans.fit_predict(df_0)\n",
        "  mean_sil = silhouette_score(df_0, labels)\n",
        "\n",
        "  sil_values.append(mean_sil)"
      ],
      "metadata": {
        "id": "A6Sy_89_BFWo"
      },
      "execution_count": 123,
      "outputs": []
    },
    {
      "cell_type": "code",
      "source": [
        "fig = go.Figure( )\n",
        "sp = go.Scatter(x = n_clusters, y = sil_values)\n",
        "fig.add_trace(sp)\n",
        "fig.show( )"
      ],
      "metadata": {
        "colab": {
          "base_uri": "https://localhost:8080/",
          "height": 542
        },
        "id": "u_j_yQ5WEAiS",
        "outputId": "0d632508-f452-4cba-9e1d-76fdcc7f99ed"
      },
      "execution_count": 125,
      "outputs": [
        {
          "output_type": "display_data",
          "data": {
            "text/html": [
              "<html>\n",
              "<head><meta charset=\"utf-8\" /></head>\n",
              "<body>\n",
              "    <div>            <script src=\"https://cdnjs.cloudflare.com/ajax/libs/mathjax/2.7.5/MathJax.js?config=TeX-AMS-MML_SVG\"></script><script type=\"text/javascript\">if (window.MathJax) {MathJax.Hub.Config({SVG: {font: \"STIX-Web\"}});}</script>                <script type=\"text/javascript\">window.PlotlyConfig = {MathJaxConfig: 'local'};</script>\n",
              "        <script src=\"https://cdn.plot.ly/plotly-2.8.3.min.js\"></script>                <div id=\"0e211414-49eb-461e-bbda-1dcfc76bb5f5\" class=\"plotly-graph-div\" style=\"height:525px; width:100%;\"></div>            <script type=\"text/javascript\">                                    window.PLOTLYENV=window.PLOTLYENV || {};                                    if (document.getElementById(\"0e211414-49eb-461e-bbda-1dcfc76bb5f5\")) {                    Plotly.newPlot(                        \"0e211414-49eb-461e-bbda-1dcfc76bb5f5\",                        [{\"x\":[2,3,4,5,6,7,8,9,10],\"y\":[0.3450438553643068,0.36950618492736303,0.30456480046096884,0.2921117615142188,0.20617085577821914,0.145209079083035,0.1309872339800926,0.14919155317216073,0.13679312741037394],\"type\":\"scatter\"}],                        {\"template\":{\"data\":{\"bar\":[{\"error_x\":{\"color\":\"#2a3f5f\"},\"error_y\":{\"color\":\"#2a3f5f\"},\"marker\":{\"line\":{\"color\":\"#E5ECF6\",\"width\":0.5},\"pattern\":{\"fillmode\":\"overlay\",\"size\":10,\"solidity\":0.2}},\"type\":\"bar\"}],\"barpolar\":[{\"marker\":{\"line\":{\"color\":\"#E5ECF6\",\"width\":0.5},\"pattern\":{\"fillmode\":\"overlay\",\"size\":10,\"solidity\":0.2}},\"type\":\"barpolar\"}],\"carpet\":[{\"aaxis\":{\"endlinecolor\":\"#2a3f5f\",\"gridcolor\":\"white\",\"linecolor\":\"white\",\"minorgridcolor\":\"white\",\"startlinecolor\":\"#2a3f5f\"},\"baxis\":{\"endlinecolor\":\"#2a3f5f\",\"gridcolor\":\"white\",\"linecolor\":\"white\",\"minorgridcolor\":\"white\",\"startlinecolor\":\"#2a3f5f\"},\"type\":\"carpet\"}],\"choropleth\":[{\"colorbar\":{\"outlinewidth\":0,\"ticks\":\"\"},\"type\":\"choropleth\"}],\"contour\":[{\"colorbar\":{\"outlinewidth\":0,\"ticks\":\"\"},\"colorscale\":[[0.0,\"#0d0887\"],[0.1111111111111111,\"#46039f\"],[0.2222222222222222,\"#7201a8\"],[0.3333333333333333,\"#9c179e\"],[0.4444444444444444,\"#bd3786\"],[0.5555555555555556,\"#d8576b\"],[0.6666666666666666,\"#ed7953\"],[0.7777777777777778,\"#fb9f3a\"],[0.8888888888888888,\"#fdca26\"],[1.0,\"#f0f921\"]],\"type\":\"contour\"}],\"contourcarpet\":[{\"colorbar\":{\"outlinewidth\":0,\"ticks\":\"\"},\"type\":\"contourcarpet\"}],\"heatmap\":[{\"colorbar\":{\"outlinewidth\":0,\"ticks\":\"\"},\"colorscale\":[[0.0,\"#0d0887\"],[0.1111111111111111,\"#46039f\"],[0.2222222222222222,\"#7201a8\"],[0.3333333333333333,\"#9c179e\"],[0.4444444444444444,\"#bd3786\"],[0.5555555555555556,\"#d8576b\"],[0.6666666666666666,\"#ed7953\"],[0.7777777777777778,\"#fb9f3a\"],[0.8888888888888888,\"#fdca26\"],[1.0,\"#f0f921\"]],\"type\":\"heatmap\"}],\"heatmapgl\":[{\"colorbar\":{\"outlinewidth\":0,\"ticks\":\"\"},\"colorscale\":[[0.0,\"#0d0887\"],[0.1111111111111111,\"#46039f\"],[0.2222222222222222,\"#7201a8\"],[0.3333333333333333,\"#9c179e\"],[0.4444444444444444,\"#bd3786\"],[0.5555555555555556,\"#d8576b\"],[0.6666666666666666,\"#ed7953\"],[0.7777777777777778,\"#fb9f3a\"],[0.8888888888888888,\"#fdca26\"],[1.0,\"#f0f921\"]],\"type\":\"heatmapgl\"}],\"histogram\":[{\"marker\":{\"pattern\":{\"fillmode\":\"overlay\",\"size\":10,\"solidity\":0.2}},\"type\":\"histogram\"}],\"histogram2d\":[{\"colorbar\":{\"outlinewidth\":0,\"ticks\":\"\"},\"colorscale\":[[0.0,\"#0d0887\"],[0.1111111111111111,\"#46039f\"],[0.2222222222222222,\"#7201a8\"],[0.3333333333333333,\"#9c179e\"],[0.4444444444444444,\"#bd3786\"],[0.5555555555555556,\"#d8576b\"],[0.6666666666666666,\"#ed7953\"],[0.7777777777777778,\"#fb9f3a\"],[0.8888888888888888,\"#fdca26\"],[1.0,\"#f0f921\"]],\"type\":\"histogram2d\"}],\"histogram2dcontour\":[{\"colorbar\":{\"outlinewidth\":0,\"ticks\":\"\"},\"colorscale\":[[0.0,\"#0d0887\"],[0.1111111111111111,\"#46039f\"],[0.2222222222222222,\"#7201a8\"],[0.3333333333333333,\"#9c179e\"],[0.4444444444444444,\"#bd3786\"],[0.5555555555555556,\"#d8576b\"],[0.6666666666666666,\"#ed7953\"],[0.7777777777777778,\"#fb9f3a\"],[0.8888888888888888,\"#fdca26\"],[1.0,\"#f0f921\"]],\"type\":\"histogram2dcontour\"}],\"mesh3d\":[{\"colorbar\":{\"outlinewidth\":0,\"ticks\":\"\"},\"type\":\"mesh3d\"}],\"parcoords\":[{\"line\":{\"colorbar\":{\"outlinewidth\":0,\"ticks\":\"\"}},\"type\":\"parcoords\"}],\"pie\":[{\"automargin\":true,\"type\":\"pie\"}],\"scatter\":[{\"marker\":{\"colorbar\":{\"outlinewidth\":0,\"ticks\":\"\"}},\"type\":\"scatter\"}],\"scatter3d\":[{\"line\":{\"colorbar\":{\"outlinewidth\":0,\"ticks\":\"\"}},\"marker\":{\"colorbar\":{\"outlinewidth\":0,\"ticks\":\"\"}},\"type\":\"scatter3d\"}],\"scattercarpet\":[{\"marker\":{\"colorbar\":{\"outlinewidth\":0,\"ticks\":\"\"}},\"type\":\"scattercarpet\"}],\"scattergeo\":[{\"marker\":{\"colorbar\":{\"outlinewidth\":0,\"ticks\":\"\"}},\"type\":\"scattergeo\"}],\"scattergl\":[{\"marker\":{\"colorbar\":{\"outlinewidth\":0,\"ticks\":\"\"}},\"type\":\"scattergl\"}],\"scattermapbox\":[{\"marker\":{\"colorbar\":{\"outlinewidth\":0,\"ticks\":\"\"}},\"type\":\"scattermapbox\"}],\"scatterpolar\":[{\"marker\":{\"colorbar\":{\"outlinewidth\":0,\"ticks\":\"\"}},\"type\":\"scatterpolar\"}],\"scatterpolargl\":[{\"marker\":{\"colorbar\":{\"outlinewidth\":0,\"ticks\":\"\"}},\"type\":\"scatterpolargl\"}],\"scatterternary\":[{\"marker\":{\"colorbar\":{\"outlinewidth\":0,\"ticks\":\"\"}},\"type\":\"scatterternary\"}],\"surface\":[{\"colorbar\":{\"outlinewidth\":0,\"ticks\":\"\"},\"colorscale\":[[0.0,\"#0d0887\"],[0.1111111111111111,\"#46039f\"],[0.2222222222222222,\"#7201a8\"],[0.3333333333333333,\"#9c179e\"],[0.4444444444444444,\"#bd3786\"],[0.5555555555555556,\"#d8576b\"],[0.6666666666666666,\"#ed7953\"],[0.7777777777777778,\"#fb9f3a\"],[0.8888888888888888,\"#fdca26\"],[1.0,\"#f0f921\"]],\"type\":\"surface\"}],\"table\":[{\"cells\":{\"fill\":{\"color\":\"#EBF0F8\"},\"line\":{\"color\":\"white\"}},\"header\":{\"fill\":{\"color\":\"#C8D4E3\"},\"line\":{\"color\":\"white\"}},\"type\":\"table\"}]},\"layout\":{\"annotationdefaults\":{\"arrowcolor\":\"#2a3f5f\",\"arrowhead\":0,\"arrowwidth\":1},\"autotypenumbers\":\"strict\",\"coloraxis\":{\"colorbar\":{\"outlinewidth\":0,\"ticks\":\"\"}},\"colorscale\":{\"diverging\":[[0,\"#8e0152\"],[0.1,\"#c51b7d\"],[0.2,\"#de77ae\"],[0.3,\"#f1b6da\"],[0.4,\"#fde0ef\"],[0.5,\"#f7f7f7\"],[0.6,\"#e6f5d0\"],[0.7,\"#b8e186\"],[0.8,\"#7fbc41\"],[0.9,\"#4d9221\"],[1,\"#276419\"]],\"sequential\":[[0.0,\"#0d0887\"],[0.1111111111111111,\"#46039f\"],[0.2222222222222222,\"#7201a8\"],[0.3333333333333333,\"#9c179e\"],[0.4444444444444444,\"#bd3786\"],[0.5555555555555556,\"#d8576b\"],[0.6666666666666666,\"#ed7953\"],[0.7777777777777778,\"#fb9f3a\"],[0.8888888888888888,\"#fdca26\"],[1.0,\"#f0f921\"]],\"sequentialminus\":[[0.0,\"#0d0887\"],[0.1111111111111111,\"#46039f\"],[0.2222222222222222,\"#7201a8\"],[0.3333333333333333,\"#9c179e\"],[0.4444444444444444,\"#bd3786\"],[0.5555555555555556,\"#d8576b\"],[0.6666666666666666,\"#ed7953\"],[0.7777777777777778,\"#fb9f3a\"],[0.8888888888888888,\"#fdca26\"],[1.0,\"#f0f921\"]]},\"colorway\":[\"#636efa\",\"#EF553B\",\"#00cc96\",\"#ab63fa\",\"#FFA15A\",\"#19d3f3\",\"#FF6692\",\"#B6E880\",\"#FF97FF\",\"#FECB52\"],\"font\":{\"color\":\"#2a3f5f\"},\"geo\":{\"bgcolor\":\"white\",\"lakecolor\":\"white\",\"landcolor\":\"#E5ECF6\",\"showlakes\":true,\"showland\":true,\"subunitcolor\":\"white\"},\"hoverlabel\":{\"align\":\"left\"},\"hovermode\":\"closest\",\"mapbox\":{\"style\":\"light\"},\"paper_bgcolor\":\"white\",\"plot_bgcolor\":\"#E5ECF6\",\"polar\":{\"angularaxis\":{\"gridcolor\":\"white\",\"linecolor\":\"white\",\"ticks\":\"\"},\"bgcolor\":\"#E5ECF6\",\"radialaxis\":{\"gridcolor\":\"white\",\"linecolor\":\"white\",\"ticks\":\"\"}},\"scene\":{\"xaxis\":{\"backgroundcolor\":\"#E5ECF6\",\"gridcolor\":\"white\",\"gridwidth\":2,\"linecolor\":\"white\",\"showbackground\":true,\"ticks\":\"\",\"zerolinecolor\":\"white\"},\"yaxis\":{\"backgroundcolor\":\"#E5ECF6\",\"gridcolor\":\"white\",\"gridwidth\":2,\"linecolor\":\"white\",\"showbackground\":true,\"ticks\":\"\",\"zerolinecolor\":\"white\"},\"zaxis\":{\"backgroundcolor\":\"#E5ECF6\",\"gridcolor\":\"white\",\"gridwidth\":2,\"linecolor\":\"white\",\"showbackground\":true,\"ticks\":\"\",\"zerolinecolor\":\"white\"}},\"shapedefaults\":{\"line\":{\"color\":\"#2a3f5f\"}},\"ternary\":{\"aaxis\":{\"gridcolor\":\"white\",\"linecolor\":\"white\",\"ticks\":\"\"},\"baxis\":{\"gridcolor\":\"white\",\"linecolor\":\"white\",\"ticks\":\"\"},\"bgcolor\":\"#E5ECF6\",\"caxis\":{\"gridcolor\":\"white\",\"linecolor\":\"white\",\"ticks\":\"\"}},\"title\":{\"x\":0.05},\"xaxis\":{\"automargin\":true,\"gridcolor\":\"white\",\"linecolor\":\"white\",\"ticks\":\"\",\"title\":{\"standoff\":15},\"zerolinecolor\":\"white\",\"zerolinewidth\":2},\"yaxis\":{\"automargin\":true,\"gridcolor\":\"white\",\"linecolor\":\"white\",\"ticks\":\"\",\"title\":{\"standoff\":15},\"zerolinecolor\":\"white\",\"zerolinewidth\":2}}}},                        {\"responsive\": true}                    ).then(function(){\n",
              "                            \n",
              "var gd = document.getElementById('0e211414-49eb-461e-bbda-1dcfc76bb5f5');\n",
              "var x = new MutationObserver(function (mutations, observer) {{\n",
              "        var display = window.getComputedStyle(gd).display;\n",
              "        if (!display || display === 'none') {{\n",
              "            console.log([gd, 'removed!']);\n",
              "            Plotly.purge(gd);\n",
              "            observer.disconnect();\n",
              "        }}\n",
              "}});\n",
              "\n",
              "// Listen for the removal of the full notebook cells\n",
              "var notebookContainer = gd.closest('#notebook-container');\n",
              "if (notebookContainer) {{\n",
              "    x.observe(notebookContainer, {childList: true});\n",
              "}}\n",
              "\n",
              "// Listen for the clearing of the current output cell\n",
              "var outputEl = gd.closest('.output');\n",
              "if (outputEl) {{\n",
              "    x.observe(outputEl, {childList: true});\n",
              "}}\n",
              "\n",
              "                        })                };                            </script>        </div>\n",
              "</body>\n",
              "</html>"
            ]
          },
          "metadata": {}
        }
      ]
    },
    {
      "cell_type": "markdown",
      "source": [
        "Note that the highest value for the silhoutte coefficient is at $k = 3$. Thus, indeed, we have already chosen the optimal $k$ for our algorithm!\n",
        "\n",
        "Now, let's evaluate the silhoutte coefficient for meanshift. This time, we will change the bandwidth."
      ],
      "metadata": {
        "id": "ZiQNzfroEavU"
      }
    },
    {
      "cell_type": "code",
      "source": [
        "quantiles = np.linspace(0.05, 0.5, 10)\n",
        "sil_values_ms = []\n",
        "\n",
        "for q in quantiles:\n",
        "  BW = estimate_bandwidth(df_0, quantile = q)\n",
        "  meanshift = MeanShift(bandwidth = BW)\n",
        "  labels = meanshift.fit_predict(df_0)\n",
        "  if len(np.unique(labels)) == 1:\n",
        "    continue\n",
        "  mean_sil = silhouette_score(df_0, labels)\n",
        "\n",
        "  sil_values_ms.append(mean_sil)"
      ],
      "metadata": {
        "id": "HLv951Q-ETXg"
      },
      "execution_count": 135,
      "outputs": []
    },
    {
      "cell_type": "code",
      "source": [
        "fig = go.Figure( )\n",
        "sp = go.Scatter(x = quantiles, y = sil_values_ms)\n",
        "fig.add_trace(sp)\n",
        "fig.show( )"
      ],
      "metadata": {
        "colab": {
          "base_uri": "https://localhost:8080/",
          "height": 542
        },
        "id": "OCtyNQe_EzvS",
        "outputId": "95819403-f9ec-4bd7-e192-7c9050221383"
      },
      "execution_count": 136,
      "outputs": [
        {
          "output_type": "display_data",
          "data": {
            "text/html": [
              "<html>\n",
              "<head><meta charset=\"utf-8\" /></head>\n",
              "<body>\n",
              "    <div>            <script src=\"https://cdnjs.cloudflare.com/ajax/libs/mathjax/2.7.5/MathJax.js?config=TeX-AMS-MML_SVG\"></script><script type=\"text/javascript\">if (window.MathJax) {MathJax.Hub.Config({SVG: {font: \"STIX-Web\"}});}</script>                <script type=\"text/javascript\">window.PlotlyConfig = {MathJaxConfig: 'local'};</script>\n",
              "        <script src=\"https://cdn.plot.ly/plotly-2.8.3.min.js\"></script>                <div id=\"ac1d7db3-350f-47d0-9091-d6d34b0647b9\" class=\"plotly-graph-div\" style=\"height:525px; width:100%;\"></div>            <script type=\"text/javascript\">                                    window.PLOTLYENV=window.PLOTLYENV || {};                                    if (document.getElementById(\"ac1d7db3-350f-47d0-9091-d6d34b0647b9\")) {                    Plotly.newPlot(                        \"ac1d7db3-350f-47d0-9091-d6d34b0647b9\",                        [{\"x\":[0.05,0.1,0.15000000000000002,0.2,0.25,0.3,0.35000000000000003,0.4,0.45,0.5],\"y\":[0.19523088595364285,0.23175840581451423,0.29012683820901636,0.34353173543532023,0.22791764552102659,0.20758352839192912],\"type\":\"scatter\"}],                        {\"template\":{\"data\":{\"bar\":[{\"error_x\":{\"color\":\"#2a3f5f\"},\"error_y\":{\"color\":\"#2a3f5f\"},\"marker\":{\"line\":{\"color\":\"#E5ECF6\",\"width\":0.5},\"pattern\":{\"fillmode\":\"overlay\",\"size\":10,\"solidity\":0.2}},\"type\":\"bar\"}],\"barpolar\":[{\"marker\":{\"line\":{\"color\":\"#E5ECF6\",\"width\":0.5},\"pattern\":{\"fillmode\":\"overlay\",\"size\":10,\"solidity\":0.2}},\"type\":\"barpolar\"}],\"carpet\":[{\"aaxis\":{\"endlinecolor\":\"#2a3f5f\",\"gridcolor\":\"white\",\"linecolor\":\"white\",\"minorgridcolor\":\"white\",\"startlinecolor\":\"#2a3f5f\"},\"baxis\":{\"endlinecolor\":\"#2a3f5f\",\"gridcolor\":\"white\",\"linecolor\":\"white\",\"minorgridcolor\":\"white\",\"startlinecolor\":\"#2a3f5f\"},\"type\":\"carpet\"}],\"choropleth\":[{\"colorbar\":{\"outlinewidth\":0,\"ticks\":\"\"},\"type\":\"choropleth\"}],\"contour\":[{\"colorbar\":{\"outlinewidth\":0,\"ticks\":\"\"},\"colorscale\":[[0.0,\"#0d0887\"],[0.1111111111111111,\"#46039f\"],[0.2222222222222222,\"#7201a8\"],[0.3333333333333333,\"#9c179e\"],[0.4444444444444444,\"#bd3786\"],[0.5555555555555556,\"#d8576b\"],[0.6666666666666666,\"#ed7953\"],[0.7777777777777778,\"#fb9f3a\"],[0.8888888888888888,\"#fdca26\"],[1.0,\"#f0f921\"]],\"type\":\"contour\"}],\"contourcarpet\":[{\"colorbar\":{\"outlinewidth\":0,\"ticks\":\"\"},\"type\":\"contourcarpet\"}],\"heatmap\":[{\"colorbar\":{\"outlinewidth\":0,\"ticks\":\"\"},\"colorscale\":[[0.0,\"#0d0887\"],[0.1111111111111111,\"#46039f\"],[0.2222222222222222,\"#7201a8\"],[0.3333333333333333,\"#9c179e\"],[0.4444444444444444,\"#bd3786\"],[0.5555555555555556,\"#d8576b\"],[0.6666666666666666,\"#ed7953\"],[0.7777777777777778,\"#fb9f3a\"],[0.8888888888888888,\"#fdca26\"],[1.0,\"#f0f921\"]],\"type\":\"heatmap\"}],\"heatmapgl\":[{\"colorbar\":{\"outlinewidth\":0,\"ticks\":\"\"},\"colorscale\":[[0.0,\"#0d0887\"],[0.1111111111111111,\"#46039f\"],[0.2222222222222222,\"#7201a8\"],[0.3333333333333333,\"#9c179e\"],[0.4444444444444444,\"#bd3786\"],[0.5555555555555556,\"#d8576b\"],[0.6666666666666666,\"#ed7953\"],[0.7777777777777778,\"#fb9f3a\"],[0.8888888888888888,\"#fdca26\"],[1.0,\"#f0f921\"]],\"type\":\"heatmapgl\"}],\"histogram\":[{\"marker\":{\"pattern\":{\"fillmode\":\"overlay\",\"size\":10,\"solidity\":0.2}},\"type\":\"histogram\"}],\"histogram2d\":[{\"colorbar\":{\"outlinewidth\":0,\"ticks\":\"\"},\"colorscale\":[[0.0,\"#0d0887\"],[0.1111111111111111,\"#46039f\"],[0.2222222222222222,\"#7201a8\"],[0.3333333333333333,\"#9c179e\"],[0.4444444444444444,\"#bd3786\"],[0.5555555555555556,\"#d8576b\"],[0.6666666666666666,\"#ed7953\"],[0.7777777777777778,\"#fb9f3a\"],[0.8888888888888888,\"#fdca26\"],[1.0,\"#f0f921\"]],\"type\":\"histogram2d\"}],\"histogram2dcontour\":[{\"colorbar\":{\"outlinewidth\":0,\"ticks\":\"\"},\"colorscale\":[[0.0,\"#0d0887\"],[0.1111111111111111,\"#46039f\"],[0.2222222222222222,\"#7201a8\"],[0.3333333333333333,\"#9c179e\"],[0.4444444444444444,\"#bd3786\"],[0.5555555555555556,\"#d8576b\"],[0.6666666666666666,\"#ed7953\"],[0.7777777777777778,\"#fb9f3a\"],[0.8888888888888888,\"#fdca26\"],[1.0,\"#f0f921\"]],\"type\":\"histogram2dcontour\"}],\"mesh3d\":[{\"colorbar\":{\"outlinewidth\":0,\"ticks\":\"\"},\"type\":\"mesh3d\"}],\"parcoords\":[{\"line\":{\"colorbar\":{\"outlinewidth\":0,\"ticks\":\"\"}},\"type\":\"parcoords\"}],\"pie\":[{\"automargin\":true,\"type\":\"pie\"}],\"scatter\":[{\"marker\":{\"colorbar\":{\"outlinewidth\":0,\"ticks\":\"\"}},\"type\":\"scatter\"}],\"scatter3d\":[{\"line\":{\"colorbar\":{\"outlinewidth\":0,\"ticks\":\"\"}},\"marker\":{\"colorbar\":{\"outlinewidth\":0,\"ticks\":\"\"}},\"type\":\"scatter3d\"}],\"scattercarpet\":[{\"marker\":{\"colorbar\":{\"outlinewidth\":0,\"ticks\":\"\"}},\"type\":\"scattercarpet\"}],\"scattergeo\":[{\"marker\":{\"colorbar\":{\"outlinewidth\":0,\"ticks\":\"\"}},\"type\":\"scattergeo\"}],\"scattergl\":[{\"marker\":{\"colorbar\":{\"outlinewidth\":0,\"ticks\":\"\"}},\"type\":\"scattergl\"}],\"scattermapbox\":[{\"marker\":{\"colorbar\":{\"outlinewidth\":0,\"ticks\":\"\"}},\"type\":\"scattermapbox\"}],\"scatterpolar\":[{\"marker\":{\"colorbar\":{\"outlinewidth\":0,\"ticks\":\"\"}},\"type\":\"scatterpolar\"}],\"scatterpolargl\":[{\"marker\":{\"colorbar\":{\"outlinewidth\":0,\"ticks\":\"\"}},\"type\":\"scatterpolargl\"}],\"scatterternary\":[{\"marker\":{\"colorbar\":{\"outlinewidth\":0,\"ticks\":\"\"}},\"type\":\"scatterternary\"}],\"surface\":[{\"colorbar\":{\"outlinewidth\":0,\"ticks\":\"\"},\"colorscale\":[[0.0,\"#0d0887\"],[0.1111111111111111,\"#46039f\"],[0.2222222222222222,\"#7201a8\"],[0.3333333333333333,\"#9c179e\"],[0.4444444444444444,\"#bd3786\"],[0.5555555555555556,\"#d8576b\"],[0.6666666666666666,\"#ed7953\"],[0.7777777777777778,\"#fb9f3a\"],[0.8888888888888888,\"#fdca26\"],[1.0,\"#f0f921\"]],\"type\":\"surface\"}],\"table\":[{\"cells\":{\"fill\":{\"color\":\"#EBF0F8\"},\"line\":{\"color\":\"white\"}},\"header\":{\"fill\":{\"color\":\"#C8D4E3\"},\"line\":{\"color\":\"white\"}},\"type\":\"table\"}]},\"layout\":{\"annotationdefaults\":{\"arrowcolor\":\"#2a3f5f\",\"arrowhead\":0,\"arrowwidth\":1},\"autotypenumbers\":\"strict\",\"coloraxis\":{\"colorbar\":{\"outlinewidth\":0,\"ticks\":\"\"}},\"colorscale\":{\"diverging\":[[0,\"#8e0152\"],[0.1,\"#c51b7d\"],[0.2,\"#de77ae\"],[0.3,\"#f1b6da\"],[0.4,\"#fde0ef\"],[0.5,\"#f7f7f7\"],[0.6,\"#e6f5d0\"],[0.7,\"#b8e186\"],[0.8,\"#7fbc41\"],[0.9,\"#4d9221\"],[1,\"#276419\"]],\"sequential\":[[0.0,\"#0d0887\"],[0.1111111111111111,\"#46039f\"],[0.2222222222222222,\"#7201a8\"],[0.3333333333333333,\"#9c179e\"],[0.4444444444444444,\"#bd3786\"],[0.5555555555555556,\"#d8576b\"],[0.6666666666666666,\"#ed7953\"],[0.7777777777777778,\"#fb9f3a\"],[0.8888888888888888,\"#fdca26\"],[1.0,\"#f0f921\"]],\"sequentialminus\":[[0.0,\"#0d0887\"],[0.1111111111111111,\"#46039f\"],[0.2222222222222222,\"#7201a8\"],[0.3333333333333333,\"#9c179e\"],[0.4444444444444444,\"#bd3786\"],[0.5555555555555556,\"#d8576b\"],[0.6666666666666666,\"#ed7953\"],[0.7777777777777778,\"#fb9f3a\"],[0.8888888888888888,\"#fdca26\"],[1.0,\"#f0f921\"]]},\"colorway\":[\"#636efa\",\"#EF553B\",\"#00cc96\",\"#ab63fa\",\"#FFA15A\",\"#19d3f3\",\"#FF6692\",\"#B6E880\",\"#FF97FF\",\"#FECB52\"],\"font\":{\"color\":\"#2a3f5f\"},\"geo\":{\"bgcolor\":\"white\",\"lakecolor\":\"white\",\"landcolor\":\"#E5ECF6\",\"showlakes\":true,\"showland\":true,\"subunitcolor\":\"white\"},\"hoverlabel\":{\"align\":\"left\"},\"hovermode\":\"closest\",\"mapbox\":{\"style\":\"light\"},\"paper_bgcolor\":\"white\",\"plot_bgcolor\":\"#E5ECF6\",\"polar\":{\"angularaxis\":{\"gridcolor\":\"white\",\"linecolor\":\"white\",\"ticks\":\"\"},\"bgcolor\":\"#E5ECF6\",\"radialaxis\":{\"gridcolor\":\"white\",\"linecolor\":\"white\",\"ticks\":\"\"}},\"scene\":{\"xaxis\":{\"backgroundcolor\":\"#E5ECF6\",\"gridcolor\":\"white\",\"gridwidth\":2,\"linecolor\":\"white\",\"showbackground\":true,\"ticks\":\"\",\"zerolinecolor\":\"white\"},\"yaxis\":{\"backgroundcolor\":\"#E5ECF6\",\"gridcolor\":\"white\",\"gridwidth\":2,\"linecolor\":\"white\",\"showbackground\":true,\"ticks\":\"\",\"zerolinecolor\":\"white\"},\"zaxis\":{\"backgroundcolor\":\"#E5ECF6\",\"gridcolor\":\"white\",\"gridwidth\":2,\"linecolor\":\"white\",\"showbackground\":true,\"ticks\":\"\",\"zerolinecolor\":\"white\"}},\"shapedefaults\":{\"line\":{\"color\":\"#2a3f5f\"}},\"ternary\":{\"aaxis\":{\"gridcolor\":\"white\",\"linecolor\":\"white\",\"ticks\":\"\"},\"baxis\":{\"gridcolor\":\"white\",\"linecolor\":\"white\",\"ticks\":\"\"},\"bgcolor\":\"#E5ECF6\",\"caxis\":{\"gridcolor\":\"white\",\"linecolor\":\"white\",\"ticks\":\"\"}},\"title\":{\"x\":0.05},\"xaxis\":{\"automargin\":true,\"gridcolor\":\"white\",\"linecolor\":\"white\",\"ticks\":\"\",\"title\":{\"standoff\":15},\"zerolinecolor\":\"white\",\"zerolinewidth\":2},\"yaxis\":{\"automargin\":true,\"gridcolor\":\"white\",\"linecolor\":\"white\",\"ticks\":\"\",\"title\":{\"standoff\":15},\"zerolinecolor\":\"white\",\"zerolinewidth\":2}}}},                        {\"responsive\": true}                    ).then(function(){\n",
              "                            \n",
              "var gd = document.getElementById('ac1d7db3-350f-47d0-9091-d6d34b0647b9');\n",
              "var x = new MutationObserver(function (mutations, observer) {{\n",
              "        var display = window.getComputedStyle(gd).display;\n",
              "        if (!display || display === 'none') {{\n",
              "            console.log([gd, 'removed!']);\n",
              "            Plotly.purge(gd);\n",
              "            observer.disconnect();\n",
              "        }}\n",
              "}});\n",
              "\n",
              "// Listen for the removal of the full notebook cells\n",
              "var notebookContainer = gd.closest('#notebook-container');\n",
              "if (notebookContainer) {{\n",
              "    x.observe(notebookContainer, {childList: true});\n",
              "}}\n",
              "\n",
              "// Listen for the clearing of the current output cell\n",
              "var outputEl = gd.closest('.output');\n",
              "if (outputEl) {{\n",
              "    x.observe(outputEl, {childList: true});\n",
              "}}\n",
              "\n",
              "                        })                };                            </script>        </div>\n",
              "</body>\n",
              "</html>"
            ]
          },
          "metadata": {}
        }
      ]
    },
    {
      "cell_type": "markdown",
      "source": [
        "So, here, the optimal quantile is 0.20! Also, note that the silhoutte score is a little higher when we use K-means with $k = 3$."
      ],
      "metadata": {
        "id": "nGaJoettF08N"
      }
    },
    {
      "cell_type": "markdown",
      "source": [
        "Finally, let's get the sillhoute score for DBScan. Here, we will simply get the sillhoutte score for a given minimum number of samples and ```eps```:"
      ],
      "metadata": {
        "id": "NXK9nHrCHex_"
      }
    },
    {
      "cell_type": "code",
      "source": [
        "dbscan = DBSCAN(eps = 0.5, min_samples = 5, metric = 'euclidean')\n",
        "dbscan.fit(df_0)\n",
        "labels = dbscan.fit_predict(df_0)\n",
        "mean_sil = silhouette_score(df_0, labels)\n",
        "mean_sil"
      ],
      "metadata": {
        "colab": {
          "base_uri": "https://localhost:8080/"
        },
        "outputId": "3aaca8bb-9190-48d2-bc8c-f614b63ee3e0",
        "id": "ovtkqtC9HwBf"
      },
      "execution_count": 141,
      "outputs": [
        {
          "output_type": "execute_result",
          "data": {
            "text/plain": [
              "0.31379282501442196"
            ]
          },
          "metadata": {},
          "execution_count": 141
        }
      ]
    },
    {
      "cell_type": "markdown",
      "source": [
        "So, here, we got 0.31, which is still lower than the silhoutte score we found for K-means! Here, we could also look for different minimum number of samples and ```eps```. This time, since there are two parameters, we have many possibilities, which would take a little longer to evaluate."
      ],
      "metadata": {
        "id": "N_-KZU6MIRYd"
      }
    }
  ]
}