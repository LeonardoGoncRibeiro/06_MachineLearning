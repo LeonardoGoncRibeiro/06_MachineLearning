{
  "nbformat": 4,
  "nbformat_minor": 0,
  "metadata": {
    "colab": {
      "name": "02_FurtherIntoClassification.ipynb",
      "provenance": [],
      "collapsed_sections": [],
      "toc_visible": true,
      "authorship_tag": "ABX9TyPVTUiZDrgHtRpPYQ1YJ/11",
      "include_colab_link": true
    },
    "kernelspec": {
      "name": "python3",
      "display_name": "Python 3"
    },
    "language_info": {
      "name": "python"
    }
  },
  "cells": [
    {
      "cell_type": "markdown",
      "metadata": {
        "id": "view-in-github",
        "colab_type": "text"
      },
      "source": [
        "<a href=\"https://colab.research.google.com/github/LeonardoGoncRibeiro/06_MachineLearning/blob/main/01_Basic/02_FurtherIntoClassification.ipynb\" target=\"_parent\"><img src=\"https://colab.research.google.com/assets/colab-badge.svg\" alt=\"Open In Colab\"/></a>"
      ]
    },
    {
      "cell_type": "markdown",
      "source": [
        "# Machine Learning: Further into Classification\n",
        "\n",
        "In this course, we will go further into classification using Machine Learning. Thus, we will see how to solve real world problems using classification. In this project, we will use the following packages:\n",
        "\n",
        "\n",
        "\n"
      ],
      "metadata": {
        "id": "d79hPXqZttPq"
      }
    },
    {
      "cell_type": "code",
      "source": [
        "import pandas as pd\n",
        "\n",
        "from sklearn.model_selection import train_test_split\n",
        "\n",
        "from sklearn.dummy import DummyClassifier\n",
        "from sklearn.naive_bayes import MultinomialNB\n",
        "from sklearn.ensemble import AdaBoostClassifier\n",
        "\n",
        "from sklearn.metrics import accuracy_score"
      ],
      "metadata": {
        "id": "jQkwf1goxysB"
      },
      "execution_count": 79,
      "outputs": []
    },
    {
      "cell_type": "markdown",
      "source": [
        "# Classification algorithms\n",
        "\n",
        "A classification algorithm is used to classify something based on some explicative features. This is similar to how humans perceive something, and then make a critical judgement about that thing based on their charactheristics. For instance, when we see an animal, based on their charactheristics, we are able to charactherize them as cats, dogs, or pigs (or other). \n",
        "\n",
        "Similarly, when we see an e-mail on our list, we are able to say if it is a spam or not. Can we teach to the computer how to identify spams?\n",
        "\n",
        "Maybe, we can use different information about the e-mail to classify it:\n",
        "\n",
        "* E-mail size;\n",
        "* If the e-mail has any file;\n",
        "* If the sender was already classified as spam before;\n",
        "* Time the e-mail was sent;\n",
        "* And others.\n",
        "\n",
        "Since the computer understands binary code, it is common to send this information using 0 (false) or 1 (true). \n",
        "\n",
        "Note that the algorithms are not perfect. All algorithms have a margin of error, and there is always an uncertainty involved. Thus, we should always evaluate the accuracy of our model so that we understand how good it is. \n",
        "\n",
        "Another common examples of a real world classification problem is: based on the pages an user has visited, will the user buy our product? Will my client leave our company (churn)? \n",
        "\n"
      ],
      "metadata": {
        "id": "IZSIGjOcwH8h"
      }
    },
    {
      "cell_type": "markdown",
      "source": [
        "## Code example\n",
        "\n",
        "For instance, let's see a dataset with information about whether someone bought an item from our site based on the pages that user has visited:"
      ],
      "metadata": {
        "id": "05kqJlkE-rKd"
      }
    },
    {
      "cell_type": "code",
      "execution_count": 4,
      "metadata": {
        "id": "09e6IBwSth5H"
      },
      "outputs": [],
      "source": [
        "df = pd.read_csv('data_site.csv')\n",
        "df.columns = ['home', 'how_it_works', 'contact', 'bought']"
      ]
    },
    {
      "cell_type": "code",
      "source": [
        "df.head( )"
      ],
      "metadata": {
        "colab": {
          "base_uri": "https://localhost:8080/",
          "height": 206
        },
        "id": "F42IUMIZ4BTD",
        "outputId": "2dd98ee9-ac08-4a3e-84c5-223cdac23f95"
      },
      "execution_count": 5,
      "outputs": [
        {
          "output_type": "execute_result",
          "data": {
            "text/plain": [
              "   home  how_it_works  contact  bought\n",
              "0     1             1        0       0\n",
              "1     1             1        0       0\n",
              "2     1             1        0       0\n",
              "3     1             1        0       0\n",
              "4     1             1        0       0"
            ],
            "text/html": [
              "\n",
              "  <div id=\"df-b838b1cf-5e92-4424-9a6a-d382f6a08818\">\n",
              "    <div class=\"colab-df-container\">\n",
              "      <div>\n",
              "<style scoped>\n",
              "    .dataframe tbody tr th:only-of-type {\n",
              "        vertical-align: middle;\n",
              "    }\n",
              "\n",
              "    .dataframe tbody tr th {\n",
              "        vertical-align: top;\n",
              "    }\n",
              "\n",
              "    .dataframe thead th {\n",
              "        text-align: right;\n",
              "    }\n",
              "</style>\n",
              "<table border=\"1\" class=\"dataframe\">\n",
              "  <thead>\n",
              "    <tr style=\"text-align: right;\">\n",
              "      <th></th>\n",
              "      <th>home</th>\n",
              "      <th>how_it_works</th>\n",
              "      <th>contact</th>\n",
              "      <th>bought</th>\n",
              "    </tr>\n",
              "  </thead>\n",
              "  <tbody>\n",
              "    <tr>\n",
              "      <th>0</th>\n",
              "      <td>1</td>\n",
              "      <td>1</td>\n",
              "      <td>0</td>\n",
              "      <td>0</td>\n",
              "    </tr>\n",
              "    <tr>\n",
              "      <th>1</th>\n",
              "      <td>1</td>\n",
              "      <td>1</td>\n",
              "      <td>0</td>\n",
              "      <td>0</td>\n",
              "    </tr>\n",
              "    <tr>\n",
              "      <th>2</th>\n",
              "      <td>1</td>\n",
              "      <td>1</td>\n",
              "      <td>0</td>\n",
              "      <td>0</td>\n",
              "    </tr>\n",
              "    <tr>\n",
              "      <th>3</th>\n",
              "      <td>1</td>\n",
              "      <td>1</td>\n",
              "      <td>0</td>\n",
              "      <td>0</td>\n",
              "    </tr>\n",
              "    <tr>\n",
              "      <th>4</th>\n",
              "      <td>1</td>\n",
              "      <td>1</td>\n",
              "      <td>0</td>\n",
              "      <td>0</td>\n",
              "    </tr>\n",
              "  </tbody>\n",
              "</table>\n",
              "</div>\n",
              "      <button class=\"colab-df-convert\" onclick=\"convertToInteractive('df-b838b1cf-5e92-4424-9a6a-d382f6a08818')\"\n",
              "              title=\"Convert this dataframe to an interactive table.\"\n",
              "              style=\"display:none;\">\n",
              "        \n",
              "  <svg xmlns=\"http://www.w3.org/2000/svg\" height=\"24px\"viewBox=\"0 0 24 24\"\n",
              "       width=\"24px\">\n",
              "    <path d=\"M0 0h24v24H0V0z\" fill=\"none\"/>\n",
              "    <path d=\"M18.56 5.44l.94 2.06.94-2.06 2.06-.94-2.06-.94-.94-2.06-.94 2.06-2.06.94zm-11 1L8.5 8.5l.94-2.06 2.06-.94-2.06-.94L8.5 2.5l-.94 2.06-2.06.94zm10 10l.94 2.06.94-2.06 2.06-.94-2.06-.94-.94-2.06-.94 2.06-2.06.94z\"/><path d=\"M17.41 7.96l-1.37-1.37c-.4-.4-.92-.59-1.43-.59-.52 0-1.04.2-1.43.59L10.3 9.45l-7.72 7.72c-.78.78-.78 2.05 0 2.83L4 21.41c.39.39.9.59 1.41.59.51 0 1.02-.2 1.41-.59l7.78-7.78 2.81-2.81c.8-.78.8-2.07 0-2.86zM5.41 20L4 18.59l7.72-7.72 1.47 1.35L5.41 20z\"/>\n",
              "  </svg>\n",
              "      </button>\n",
              "      \n",
              "  <style>\n",
              "    .colab-df-container {\n",
              "      display:flex;\n",
              "      flex-wrap:wrap;\n",
              "      gap: 12px;\n",
              "    }\n",
              "\n",
              "    .colab-df-convert {\n",
              "      background-color: #E8F0FE;\n",
              "      border: none;\n",
              "      border-radius: 50%;\n",
              "      cursor: pointer;\n",
              "      display: none;\n",
              "      fill: #1967D2;\n",
              "      height: 32px;\n",
              "      padding: 0 0 0 0;\n",
              "      width: 32px;\n",
              "    }\n",
              "\n",
              "    .colab-df-convert:hover {\n",
              "      background-color: #E2EBFA;\n",
              "      box-shadow: 0px 1px 2px rgba(60, 64, 67, 0.3), 0px 1px 3px 1px rgba(60, 64, 67, 0.15);\n",
              "      fill: #174EA6;\n",
              "    }\n",
              "\n",
              "    [theme=dark] .colab-df-convert {\n",
              "      background-color: #3B4455;\n",
              "      fill: #D2E3FC;\n",
              "    }\n",
              "\n",
              "    [theme=dark] .colab-df-convert:hover {\n",
              "      background-color: #434B5C;\n",
              "      box-shadow: 0px 1px 3px 1px rgba(0, 0, 0, 0.15);\n",
              "      filter: drop-shadow(0px 1px 2px rgba(0, 0, 0, 0.3));\n",
              "      fill: #FFFFFF;\n",
              "    }\n",
              "  </style>\n",
              "\n",
              "      <script>\n",
              "        const buttonEl =\n",
              "          document.querySelector('#df-b838b1cf-5e92-4424-9a6a-d382f6a08818 button.colab-df-convert');\n",
              "        buttonEl.style.display =\n",
              "          google.colab.kernel.accessAllowed ? 'block' : 'none';\n",
              "\n",
              "        async function convertToInteractive(key) {\n",
              "          const element = document.querySelector('#df-b838b1cf-5e92-4424-9a6a-d382f6a08818');\n",
              "          const dataTable =\n",
              "            await google.colab.kernel.invokeFunction('convertToInteractive',\n",
              "                                                     [key], {});\n",
              "          if (!dataTable) return;\n",
              "\n",
              "          const docLinkHtml = 'Like what you see? Visit the ' +\n",
              "            '<a target=\"_blank\" href=https://colab.research.google.com/notebooks/data_table.ipynb>data table notebook</a>'\n",
              "            + ' to learn more about interactive tables.';\n",
              "          element.innerHTML = '';\n",
              "          dataTable['output_type'] = 'display_data';\n",
              "          await google.colab.output.renderOutput(dataTable, element);\n",
              "          const docLink = document.createElement('div');\n",
              "          docLink.innerHTML = docLinkHtml;\n",
              "          element.appendChild(docLink);\n",
              "        }\n",
              "      </script>\n",
              "    </div>\n",
              "  </div>\n",
              "  "
            ]
          },
          "metadata": {},
          "execution_count": 5
        }
      ]
    },
    {
      "cell_type": "markdown",
      "source": [
        "Nice! Note that, here, we want to understand whether someone has bought an item on our site. Thus, the column 'bought' is the target for our model. Thus, we can separate these data in explicative features $X$ and target features $y$:"
      ],
      "metadata": {
        "id": "_3ZOv3rh5EG0"
      }
    },
    {
      "cell_type": "code",
      "source": [
        "y = df.bought\n",
        "X = df.drop('bought', axis = 1)"
      ],
      "metadata": {
        "id": "FxYwmNsT4CIf"
      },
      "execution_count": 6,
      "outputs": []
    },
    {
      "cell_type": "markdown",
      "source": [
        "Nice! Now, let's use our data to train a very simple naive bayes model."
      ],
      "metadata": {
        "id": "WiWlQF8m59E7"
      }
    },
    {
      "cell_type": "code",
      "source": [
        "model_NB = MultinomialNB( )\n",
        "model_NB.fit(X, y)"
      ],
      "metadata": {
        "colab": {
          "base_uri": "https://localhost:8080/"
        },
        "id": "p8Fsd8eb5gCM",
        "outputId": "a78b524e-4715-40bf-ed65-d7667cdd2bdc"
      },
      "execution_count": 7,
      "outputs": [
        {
          "output_type": "execute_result",
          "data": {
            "text/plain": [
              "MultinomialNB()"
            ]
          },
          "metadata": {},
          "execution_count": 7
        }
      ]
    },
    {
      "cell_type": "markdown",
      "source": [
        "We can get the accuracy of our model using:"
      ],
      "metadata": {
        "id": "4zVL9BHx7ZmR"
      }
    },
    {
      "cell_type": "code",
      "source": [
        "y_pred = model_NB.predict(X)\n",
        "\n",
        "diff = y - y_pred\n",
        "\n",
        "hits  = diff.value_counts( ).loc[0]\n",
        "total = len(diff)\n",
        "acc = hits/total\n",
        "\n",
        "print(\"Accuracy: {:.2f}%\".format(acc*100))"
      ],
      "metadata": {
        "colab": {
          "base_uri": "https://localhost:8080/"
        },
        "id": "5fRhWYTh6U84",
        "outputId": "5a3f866b-6982-402a-ff92-2b1b7d1f14a5"
      },
      "execution_count": 8,
      "outputs": [
        {
          "output_type": "stream",
          "name": "stdout",
          "text": [
            "Accuracy: 93.94%\n"
          ]
        }
      ]
    },
    {
      "cell_type": "markdown",
      "source": [
        "So, we hit 93.94% of our guesses! Note that we used a set to train our algorithm, and the same set was used to test our model. This is not a good practice: our model will usually be good to predict our training set. We have to use a different test set, so that we have a better sense about the model accuracy in real problems. \n",
        "\n",
        "To improve this analysis, we can first split our data into a training and testing set:"
      ],
      "metadata": {
        "id": "b-AStDKB8OxR"
      }
    },
    {
      "cell_type": "code",
      "source": [
        "SEED = 42\n",
        "X_train, X_test, y_train, y_test = train_test_split(X, y, test_size = 0.1, stratify = y, random_state = SEED)"
      ],
      "metadata": {
        "id": "x8i-ABFJ75fu"
      },
      "execution_count": 9,
      "outputs": []
    },
    {
      "cell_type": "markdown",
      "source": [
        "Note that the test set is 10% of the total number of entries:"
      ],
      "metadata": {
        "id": "j9vPN_4D9VDl"
      }
    },
    {
      "cell_type": "code",
      "source": [
        "X.shape"
      ],
      "metadata": {
        "colab": {
          "base_uri": "https://localhost:8080/"
        },
        "id": "seHXMOKC9eWp",
        "outputId": "d7650b87-791a-4496-d84c-9a2e52a67e5b"
      },
      "execution_count": 10,
      "outputs": [
        {
          "output_type": "execute_result",
          "data": {
            "text/plain": [
              "(99, 3)"
            ]
          },
          "metadata": {},
          "execution_count": 10
        }
      ]
    },
    {
      "cell_type": "code",
      "source": [
        "X_test.shape"
      ],
      "metadata": {
        "colab": {
          "base_uri": "https://localhost:8080/"
        },
        "id": "X_1AfucS9Zp5",
        "outputId": "09bf378a-fe25-4e67-f2bc-b12c37ec0272"
      },
      "execution_count": 11,
      "outputs": [
        {
          "output_type": "execute_result",
          "data": {
            "text/plain": [
              "(10, 3)"
            ]
          },
          "metadata": {},
          "execution_count": 11
        }
      ]
    },
    {
      "cell_type": "code",
      "source": [
        "X_train.shape"
      ],
      "metadata": {
        "colab": {
          "base_uri": "https://localhost:8080/"
        },
        "id": "8XIf7icx9cCR",
        "outputId": "fb9a2a17-506f-4062-fe2d-394f63cc23cd"
      },
      "execution_count": 12,
      "outputs": [
        {
          "output_type": "execute_result",
          "data": {
            "text/plain": [
              "(89, 3)"
            ]
          },
          "metadata": {},
          "execution_count": 12
        }
      ]
    },
    {
      "cell_type": "markdown",
      "source": [
        "Now, we train our model based on the training set:"
      ],
      "metadata": {
        "id": "eJ2pXeHL9BRd"
      }
    },
    {
      "cell_type": "code",
      "source": [
        "model_NB = MultinomialNB( )\n",
        "model_NB.fit(X_train, y_train)"
      ],
      "metadata": {
        "colab": {
          "base_uri": "https://localhost:8080/"
        },
        "id": "ZW3QOf6W9DTX",
        "outputId": "f334e77e-8966-48ca-b3bd-3e88f46ec954"
      },
      "execution_count": 13,
      "outputs": [
        {
          "output_type": "execute_result",
          "data": {
            "text/plain": [
              "MultinomialNB()"
            ]
          },
          "metadata": {},
          "execution_count": 13
        }
      ]
    },
    {
      "cell_type": "markdown",
      "source": [
        "And we test our model based on the test set:"
      ],
      "metadata": {
        "id": "qGKw2tRA9Drq"
      }
    },
    {
      "cell_type": "code",
      "source": [
        "y_pred = model_NB.predict(X_test)\n",
        "\n",
        "diff = y_test - y_pred\n",
        "\n",
        "hits  = diff.value_counts( ).loc[0]\n",
        "total = len(diff)\n",
        "acc = hits/total\n",
        "\n",
        "print(\"Accuracy: {:.2f}%\".format(acc*100))"
      ],
      "metadata": {
        "colab": {
          "base_uri": "https://localhost:8080/"
        },
        "id": "JYzNnqp-9Frh",
        "outputId": "df8c7aad-c142-4a23-cd7f-9680802e707c"
      },
      "execution_count": 14,
      "outputs": [
        {
          "output_type": "stream",
          "name": "stdout",
          "text": [
            "Accuracy: 90.00%\n"
          ]
        }
      ]
    },
    {
      "cell_type": "markdown",
      "source": [
        "So, this time, our accuracy was 90%. Still, our model showed a very high accuracy!"
      ],
      "metadata": {
        "id": "jMPuJXTj91us"
      }
    },
    {
      "cell_type": "markdown",
      "source": [
        "## Non-binary features\n",
        "\n",
        "Features are not always binary. For instance, they can assume different discrete values, or even continuous values. Discrete values can be ordinal or nominal: ordinal features can be ordered, while nominal features cannot.\n",
        "\n",
        "When features are categorical, we can map the possible features to numerical values, to make it easier for the computer. For instance, if we have a feature \"Programming language\", which may receive \"Python\", \"C++\", or \"Java\", we can map these to numerical values: 0, 1, and 2. However, since this feature is not ordinal, this consideration may raise some numerical issues. In these cases, it is better to transform the \"Programming language\" feature into three different binary features: one for Python, one for C++, and one for Java.\n",
        "\n",
        "Let's see an example:"
      ],
      "metadata": {
        "id": "aLp_OTmnQWgu"
      }
    },
    {
      "cell_type": "code",
      "source": [
        "df = pd.read_csv('data_site_alura.csv')\n",
        "df.columns = ['home', 'search', 'logged_in', 'bought']"
      ],
      "metadata": {
        "id": "p5-CIhPq9o9b"
      },
      "execution_count": 69,
      "outputs": []
    },
    {
      "cell_type": "code",
      "source": [
        "df.head( )"
      ],
      "metadata": {
        "colab": {
          "base_uri": "https://localhost:8080/",
          "height": 206
        },
        "id": "sHmUnNcrTKSc",
        "outputId": "fc43eba8-041e-4de4-c497-7b996e164a3a"
      },
      "execution_count": 70,
      "outputs": [
        {
          "output_type": "execute_result",
          "data": {
            "text/plain": [
              "   home      search  logged_in  bought\n",
              "0     0  algoritmos          1       1\n",
              "1     0        java          0       1\n",
              "2     1  algoritmos          0       1\n",
              "3     1        ruby          1       0\n",
              "4     1        ruby          0       1"
            ],
            "text/html": [
              "\n",
              "  <div id=\"df-f849bf25-7a51-4143-98d5-ebbe8af30610\">\n",
              "    <div class=\"colab-df-container\">\n",
              "      <div>\n",
              "<style scoped>\n",
              "    .dataframe tbody tr th:only-of-type {\n",
              "        vertical-align: middle;\n",
              "    }\n",
              "\n",
              "    .dataframe tbody tr th {\n",
              "        vertical-align: top;\n",
              "    }\n",
              "\n",
              "    .dataframe thead th {\n",
              "        text-align: right;\n",
              "    }\n",
              "</style>\n",
              "<table border=\"1\" class=\"dataframe\">\n",
              "  <thead>\n",
              "    <tr style=\"text-align: right;\">\n",
              "      <th></th>\n",
              "      <th>home</th>\n",
              "      <th>search</th>\n",
              "      <th>logged_in</th>\n",
              "      <th>bought</th>\n",
              "    </tr>\n",
              "  </thead>\n",
              "  <tbody>\n",
              "    <tr>\n",
              "      <th>0</th>\n",
              "      <td>0</td>\n",
              "      <td>algoritmos</td>\n",
              "      <td>1</td>\n",
              "      <td>1</td>\n",
              "    </tr>\n",
              "    <tr>\n",
              "      <th>1</th>\n",
              "      <td>0</td>\n",
              "      <td>java</td>\n",
              "      <td>0</td>\n",
              "      <td>1</td>\n",
              "    </tr>\n",
              "    <tr>\n",
              "      <th>2</th>\n",
              "      <td>1</td>\n",
              "      <td>algoritmos</td>\n",
              "      <td>0</td>\n",
              "      <td>1</td>\n",
              "    </tr>\n",
              "    <tr>\n",
              "      <th>3</th>\n",
              "      <td>1</td>\n",
              "      <td>ruby</td>\n",
              "      <td>1</td>\n",
              "      <td>0</td>\n",
              "    </tr>\n",
              "    <tr>\n",
              "      <th>4</th>\n",
              "      <td>1</td>\n",
              "      <td>ruby</td>\n",
              "      <td>0</td>\n",
              "      <td>1</td>\n",
              "    </tr>\n",
              "  </tbody>\n",
              "</table>\n",
              "</div>\n",
              "      <button class=\"colab-df-convert\" onclick=\"convertToInteractive('df-f849bf25-7a51-4143-98d5-ebbe8af30610')\"\n",
              "              title=\"Convert this dataframe to an interactive table.\"\n",
              "              style=\"display:none;\">\n",
              "        \n",
              "  <svg xmlns=\"http://www.w3.org/2000/svg\" height=\"24px\"viewBox=\"0 0 24 24\"\n",
              "       width=\"24px\">\n",
              "    <path d=\"M0 0h24v24H0V0z\" fill=\"none\"/>\n",
              "    <path d=\"M18.56 5.44l.94 2.06.94-2.06 2.06-.94-2.06-.94-.94-2.06-.94 2.06-2.06.94zm-11 1L8.5 8.5l.94-2.06 2.06-.94-2.06-.94L8.5 2.5l-.94 2.06-2.06.94zm10 10l.94 2.06.94-2.06 2.06-.94-2.06-.94-.94-2.06-.94 2.06-2.06.94z\"/><path d=\"M17.41 7.96l-1.37-1.37c-.4-.4-.92-.59-1.43-.59-.52 0-1.04.2-1.43.59L10.3 9.45l-7.72 7.72c-.78.78-.78 2.05 0 2.83L4 21.41c.39.39.9.59 1.41.59.51 0 1.02-.2 1.41-.59l7.78-7.78 2.81-2.81c.8-.78.8-2.07 0-2.86zM5.41 20L4 18.59l7.72-7.72 1.47 1.35L5.41 20z\"/>\n",
              "  </svg>\n",
              "      </button>\n",
              "      \n",
              "  <style>\n",
              "    .colab-df-container {\n",
              "      display:flex;\n",
              "      flex-wrap:wrap;\n",
              "      gap: 12px;\n",
              "    }\n",
              "\n",
              "    .colab-df-convert {\n",
              "      background-color: #E8F0FE;\n",
              "      border: none;\n",
              "      border-radius: 50%;\n",
              "      cursor: pointer;\n",
              "      display: none;\n",
              "      fill: #1967D2;\n",
              "      height: 32px;\n",
              "      padding: 0 0 0 0;\n",
              "      width: 32px;\n",
              "    }\n",
              "\n",
              "    .colab-df-convert:hover {\n",
              "      background-color: #E2EBFA;\n",
              "      box-shadow: 0px 1px 2px rgba(60, 64, 67, 0.3), 0px 1px 3px 1px rgba(60, 64, 67, 0.15);\n",
              "      fill: #174EA6;\n",
              "    }\n",
              "\n",
              "    [theme=dark] .colab-df-convert {\n",
              "      background-color: #3B4455;\n",
              "      fill: #D2E3FC;\n",
              "    }\n",
              "\n",
              "    [theme=dark] .colab-df-convert:hover {\n",
              "      background-color: #434B5C;\n",
              "      box-shadow: 0px 1px 3px 1px rgba(0, 0, 0, 0.15);\n",
              "      filter: drop-shadow(0px 1px 2px rgba(0, 0, 0, 0.3));\n",
              "      fill: #FFFFFF;\n",
              "    }\n",
              "  </style>\n",
              "\n",
              "      <script>\n",
              "        const buttonEl =\n",
              "          document.querySelector('#df-f849bf25-7a51-4143-98d5-ebbe8af30610 button.colab-df-convert');\n",
              "        buttonEl.style.display =\n",
              "          google.colab.kernel.accessAllowed ? 'block' : 'none';\n",
              "\n",
              "        async function convertToInteractive(key) {\n",
              "          const element = document.querySelector('#df-f849bf25-7a51-4143-98d5-ebbe8af30610');\n",
              "          const dataTable =\n",
              "            await google.colab.kernel.invokeFunction('convertToInteractive',\n",
              "                                                     [key], {});\n",
              "          if (!dataTable) return;\n",
              "\n",
              "          const docLinkHtml = 'Like what you see? Visit the ' +\n",
              "            '<a target=\"_blank\" href=https://colab.research.google.com/notebooks/data_table.ipynb>data table notebook</a>'\n",
              "            + ' to learn more about interactive tables.';\n",
              "          element.innerHTML = '';\n",
              "          dataTable['output_type'] = 'display_data';\n",
              "          await google.colab.output.renderOutput(dataTable, element);\n",
              "          const docLink = document.createElement('div');\n",
              "          docLink.innerHTML = docLinkHtml;\n",
              "          element.appendChild(docLink);\n",
              "        }\n",
              "      </script>\n",
              "    </div>\n",
              "  </div>\n",
              "  "
            ]
          },
          "metadata": {},
          "execution_count": 70
        }
      ]
    },
    {
      "cell_type": "markdown",
      "source": [
        "So, we want to create dummy features from the \"search\" column. Thus, we can do:"
      ],
      "metadata": {
        "id": "X-FaxH9NTQIQ"
      }
    },
    {
      "cell_type": "code",
      "source": [
        "df = pd.get_dummies(df)"
      ],
      "metadata": {
        "id": "QAP_InSPTK3i"
      },
      "execution_count": 71,
      "outputs": []
    },
    {
      "cell_type": "code",
      "source": [
        "df.head( )"
      ],
      "metadata": {
        "colab": {
          "base_uri": "https://localhost:8080/",
          "height": 206
        },
        "id": "pWCg6IBTTgse",
        "outputId": "9fc4521e-5109-4502-dffd-13d97fa156bc"
      },
      "execution_count": 72,
      "outputs": [
        {
          "output_type": "execute_result",
          "data": {
            "text/plain": [
              "   home  logged_in  bought  search_algoritmos  search_java  search_ruby\n",
              "0     0          1       1                  1            0            0\n",
              "1     0          0       1                  0            1            0\n",
              "2     1          0       1                  1            0            0\n",
              "3     1          1       0                  0            0            1\n",
              "4     1          0       1                  0            0            1"
            ],
            "text/html": [
              "\n",
              "  <div id=\"df-f43c22af-8764-4b12-94ac-a1077ad652a9\">\n",
              "    <div class=\"colab-df-container\">\n",
              "      <div>\n",
              "<style scoped>\n",
              "    .dataframe tbody tr th:only-of-type {\n",
              "        vertical-align: middle;\n",
              "    }\n",
              "\n",
              "    .dataframe tbody tr th {\n",
              "        vertical-align: top;\n",
              "    }\n",
              "\n",
              "    .dataframe thead th {\n",
              "        text-align: right;\n",
              "    }\n",
              "</style>\n",
              "<table border=\"1\" class=\"dataframe\">\n",
              "  <thead>\n",
              "    <tr style=\"text-align: right;\">\n",
              "      <th></th>\n",
              "      <th>home</th>\n",
              "      <th>logged_in</th>\n",
              "      <th>bought</th>\n",
              "      <th>search_algoritmos</th>\n",
              "      <th>search_java</th>\n",
              "      <th>search_ruby</th>\n",
              "    </tr>\n",
              "  </thead>\n",
              "  <tbody>\n",
              "    <tr>\n",
              "      <th>0</th>\n",
              "      <td>0</td>\n",
              "      <td>1</td>\n",
              "      <td>1</td>\n",
              "      <td>1</td>\n",
              "      <td>0</td>\n",
              "      <td>0</td>\n",
              "    </tr>\n",
              "    <tr>\n",
              "      <th>1</th>\n",
              "      <td>0</td>\n",
              "      <td>0</td>\n",
              "      <td>1</td>\n",
              "      <td>0</td>\n",
              "      <td>1</td>\n",
              "      <td>0</td>\n",
              "    </tr>\n",
              "    <tr>\n",
              "      <th>2</th>\n",
              "      <td>1</td>\n",
              "      <td>0</td>\n",
              "      <td>1</td>\n",
              "      <td>1</td>\n",
              "      <td>0</td>\n",
              "      <td>0</td>\n",
              "    </tr>\n",
              "    <tr>\n",
              "      <th>3</th>\n",
              "      <td>1</td>\n",
              "      <td>1</td>\n",
              "      <td>0</td>\n",
              "      <td>0</td>\n",
              "      <td>0</td>\n",
              "      <td>1</td>\n",
              "    </tr>\n",
              "    <tr>\n",
              "      <th>4</th>\n",
              "      <td>1</td>\n",
              "      <td>0</td>\n",
              "      <td>1</td>\n",
              "      <td>0</td>\n",
              "      <td>0</td>\n",
              "      <td>1</td>\n",
              "    </tr>\n",
              "  </tbody>\n",
              "</table>\n",
              "</div>\n",
              "      <button class=\"colab-df-convert\" onclick=\"convertToInteractive('df-f43c22af-8764-4b12-94ac-a1077ad652a9')\"\n",
              "              title=\"Convert this dataframe to an interactive table.\"\n",
              "              style=\"display:none;\">\n",
              "        \n",
              "  <svg xmlns=\"http://www.w3.org/2000/svg\" height=\"24px\"viewBox=\"0 0 24 24\"\n",
              "       width=\"24px\">\n",
              "    <path d=\"M0 0h24v24H0V0z\" fill=\"none\"/>\n",
              "    <path d=\"M18.56 5.44l.94 2.06.94-2.06 2.06-.94-2.06-.94-.94-2.06-.94 2.06-2.06.94zm-11 1L8.5 8.5l.94-2.06 2.06-.94-2.06-.94L8.5 2.5l-.94 2.06-2.06.94zm10 10l.94 2.06.94-2.06 2.06-.94-2.06-.94-.94-2.06-.94 2.06-2.06.94z\"/><path d=\"M17.41 7.96l-1.37-1.37c-.4-.4-.92-.59-1.43-.59-.52 0-1.04.2-1.43.59L10.3 9.45l-7.72 7.72c-.78.78-.78 2.05 0 2.83L4 21.41c.39.39.9.59 1.41.59.51 0 1.02-.2 1.41-.59l7.78-7.78 2.81-2.81c.8-.78.8-2.07 0-2.86zM5.41 20L4 18.59l7.72-7.72 1.47 1.35L5.41 20z\"/>\n",
              "  </svg>\n",
              "      </button>\n",
              "      \n",
              "  <style>\n",
              "    .colab-df-container {\n",
              "      display:flex;\n",
              "      flex-wrap:wrap;\n",
              "      gap: 12px;\n",
              "    }\n",
              "\n",
              "    .colab-df-convert {\n",
              "      background-color: #E8F0FE;\n",
              "      border: none;\n",
              "      border-radius: 50%;\n",
              "      cursor: pointer;\n",
              "      display: none;\n",
              "      fill: #1967D2;\n",
              "      height: 32px;\n",
              "      padding: 0 0 0 0;\n",
              "      width: 32px;\n",
              "    }\n",
              "\n",
              "    .colab-df-convert:hover {\n",
              "      background-color: #E2EBFA;\n",
              "      box-shadow: 0px 1px 2px rgba(60, 64, 67, 0.3), 0px 1px 3px 1px rgba(60, 64, 67, 0.15);\n",
              "      fill: #174EA6;\n",
              "    }\n",
              "\n",
              "    [theme=dark] .colab-df-convert {\n",
              "      background-color: #3B4455;\n",
              "      fill: #D2E3FC;\n",
              "    }\n",
              "\n",
              "    [theme=dark] .colab-df-convert:hover {\n",
              "      background-color: #434B5C;\n",
              "      box-shadow: 0px 1px 3px 1px rgba(0, 0, 0, 0.15);\n",
              "      filter: drop-shadow(0px 1px 2px rgba(0, 0, 0, 0.3));\n",
              "      fill: #FFFFFF;\n",
              "    }\n",
              "  </style>\n",
              "\n",
              "      <script>\n",
              "        const buttonEl =\n",
              "          document.querySelector('#df-f43c22af-8764-4b12-94ac-a1077ad652a9 button.colab-df-convert');\n",
              "        buttonEl.style.display =\n",
              "          google.colab.kernel.accessAllowed ? 'block' : 'none';\n",
              "\n",
              "        async function convertToInteractive(key) {\n",
              "          const element = document.querySelector('#df-f43c22af-8764-4b12-94ac-a1077ad652a9');\n",
              "          const dataTable =\n",
              "            await google.colab.kernel.invokeFunction('convertToInteractive',\n",
              "                                                     [key], {});\n",
              "          if (!dataTable) return;\n",
              "\n",
              "          const docLinkHtml = 'Like what you see? Visit the ' +\n",
              "            '<a target=\"_blank\" href=https://colab.research.google.com/notebooks/data_table.ipynb>data table notebook</a>'\n",
              "            + ' to learn more about interactive tables.';\n",
              "          element.innerHTML = '';\n",
              "          dataTable['output_type'] = 'display_data';\n",
              "          await google.colab.output.renderOutput(dataTable, element);\n",
              "          const docLink = document.createElement('div');\n",
              "          docLink.innerHTML = docLinkHtml;\n",
              "          element.appendChild(docLink);\n",
              "        }\n",
              "      </script>\n",
              "    </div>\n",
              "  </div>\n",
              "  "
            ]
          },
          "metadata": {},
          "execution_count": 72
        }
      ]
    },
    {
      "cell_type": "markdown",
      "source": [
        "Nice! Now, we transformed a nominal categorical feature into different binary features! Now, let's separate our explicative features and our target feature, then split our data:"
      ],
      "metadata": {
        "id": "6N3QsB6pUF24"
      }
    },
    {
      "cell_type": "code",
      "source": [
        "y = df.bought\n",
        "X = df.drop('bought', axis = 1)\n",
        "\n",
        "X_train, X_test, y_train, y_test = train_test_split(X, y, test_size = 0.1, random_state = SEED)"
      ],
      "metadata": {
        "id": "gVk4eVSWVVmX"
      },
      "execution_count": 73,
      "outputs": []
    },
    {
      "cell_type": "markdown",
      "source": [
        "Finally, we train our model and evaluate its accuracy. Note that we can use a simple function to evaluate the accuracy:"
      ],
      "metadata": {
        "id": "B4iobpRnVVmY"
      }
    },
    {
      "cell_type": "code",
      "source": [
        "model_NB = MultinomialNB( )\n",
        "model_NB.fit(X_train, y_train)"
      ],
      "metadata": {
        "colab": {
          "base_uri": "https://localhost:8080/"
        },
        "outputId": "1bbfb608-7395-4c34-e92e-a69faea31cf9",
        "id": "NrJnNex7VVmY"
      },
      "execution_count": 74,
      "outputs": [
        {
          "output_type": "execute_result",
          "data": {
            "text/plain": [
              "MultinomialNB()"
            ]
          },
          "metadata": {},
          "execution_count": 74
        }
      ]
    },
    {
      "cell_type": "code",
      "source": [
        "y_pred = model_NB.predict(X_test)\n",
        "\n",
        "acc = accuracy_score(y_test, y_pred)\n",
        "\n",
        "print(\"Accuracy: {:.2f}%\".format(acc*100))"
      ],
      "metadata": {
        "colab": {
          "base_uri": "https://localhost:8080/"
        },
        "id": "PpdjDN3oVkir",
        "outputId": "4c0f8424-9d17-49e7-abf8-4067bafed9c5"
      },
      "execution_count": 75,
      "outputs": [
        {
          "output_type": "stream",
          "name": "stdout",
          "text": [
            "Accuracy: 82.00%\n"
          ]
        }
      ]
    },
    {
      "cell_type": "markdown",
      "source": [
        "Nice! So, our model is able to hit 82% of the times! However, note that this algorithm is not as good as the last one, as it got a lower accuracy. We need to have a criterion to understand if the algorithm is sufficiently good. \n",
        "\n",
        "Thus, we need to have a baseline algorithm to compare to. For that end, we can use a dummy classifier which basically chooses the most frequent class:"
      ],
      "metadata": {
        "id": "IWf13-JnYpOQ"
      }
    },
    {
      "cell_type": "code",
      "source": [
        "dummy_clf = DummyClassifier(strategy = 'most_frequent')\n",
        "dummy_clf.fit(X_train, y_train)\n",
        "\n",
        "y_pred = dummy_clf.predict(X_test)\n",
        "acc = accuracy_score(y_test, y_pred)\n",
        "\n",
        "print(\"Accuracy: {:.2f}%\".format(acc*100))"
      ],
      "metadata": {
        "colab": {
          "base_uri": "https://localhost:8080/"
        },
        "id": "zYu71mGKW3aS",
        "outputId": "a3876c01-c224-4b2d-db68-225bdd7da3f5"
      },
      "execution_count": 67,
      "outputs": [
        {
          "output_type": "stream",
          "name": "stdout",
          "text": [
            "Accuracy: 82.00%\n"
          ]
        }
      ]
    },
    {
      "cell_type": "markdown",
      "source": [
        "So, actually, the algorithm that simply chooses the most frequent class also has the same accuracy as the Naive Bayes algorithm! This means that, in fact, the accuracy for Naive Bayes is very bad.\n",
        "\n",
        "Now, the thing is that: the Naive Bayes algorithm actually makes the same prediction as the dummy classifier:"
      ],
      "metadata": {
        "id": "y59b7RTNZ0-u"
      }
    },
    {
      "cell_type": "code",
      "source": [
        "y_pred"
      ],
      "metadata": {
        "colab": {
          "base_uri": "https://localhost:8080/"
        },
        "id": "jna1o5EgZxeq",
        "outputId": "088c738c-b33b-46ca-c26b-118a83559da4"
      },
      "execution_count": 78,
      "outputs": [
        {
          "output_type": "execute_result",
          "data": {
            "text/plain": [
              "array([1, 1, 1, 1, 1, 1, 1, 1, 1, 1, 1, 1, 1, 1, 1, 1, 1, 1, 1, 1, 1, 1,\n",
              "       1, 1, 1, 1, 1, 1, 1, 1, 1, 1, 1, 1, 1, 1, 1, 1, 1, 1, 1, 1, 1, 1,\n",
              "       1, 1, 1, 1, 1, 1, 1, 1, 1, 1, 1, 1, 1, 1, 1, 1, 1, 1, 1, 1, 1, 1,\n",
              "       1, 1, 1, 1, 1, 1, 1, 1, 1, 1, 1, 1, 1, 1, 1, 1, 1, 1, 1, 1, 1, 1,\n",
              "       1, 1, 1, 1, 1, 1, 1, 1, 1, 1, 1, 1])"
            ]
          },
          "metadata": {},
          "execution_count": 78
        }
      ]
    },
    {
      "cell_type": "markdown",
      "source": [
        "Let's understand more about the Naive Bayes algorithm."
      ],
      "metadata": {
        "id": "ZvA8mjWtj7su"
      }
    },
    {
      "cell_type": "markdown",
      "source": [
        "## Naive Bayes algorithm\n",
        "\n",
        "Multinomial Naive Bayes is a very simple algorithm. It basically evaluates the probability that each class is picked, based on their frequencies on the training set. This algorithm is based on the prior probability, which does not take into consideration any posterior feature (explicative features). Thus, actually, this version of the Naive Bayes algorithm is the same as the dummy classifier.\n",
        "\n",
        "Another possible rule is that, at random, one of the classes is chosen, and they are biased towards the highest frequency class. For instance, if 82% of the data is 1 and 18% is 0, our if we generate a random uniform number between 0 and 1 that is lower than 0.82, we choose class 1.\n",
        "\n",
        "Using Naive Bayes, we can choose different decision rules. By default, the Naive Bayes algorithm from scikit-learn uses the most frequent class. The second rule is called maximum a posteriori, and we can test it. \n",
        "\n",
        "Instead of using the prior probability, we can use the posterior probability, that is: given that the user acessed the home, *this* is the probability that the user bought or not. This is known as the conditional probability. Thus, this is entirely based on the Bayes rule of probabilities.\n",
        "\n",
        "One of the advantages of the Naive Bayes is that it is a probability-based model that is very easy (and fast) to train. Also, it is often employed to classify text (such as spam detection)."
      ],
      "metadata": {
        "id": "H8jfFO0Mj_sn"
      }
    },
    {
      "cell_type": "markdown",
      "source": [
        "## Using a better algorithm\n",
        "\n",
        "Ok, we saw that the Naive Bayres algorithm did not show great accuracy for our data. Thus, we can test different things, such as:\n",
        "\n",
        "* Remove or add new features.\n",
        "* Add more data.\n",
        "* Test other models.\n",
        "* Test the same model with different parameters.\n",
        "\n",
        "Note that, the more we test, the higher the time spent. Also, if we make many tests and choose the configuration with the highest accuracy, we might be indirectly fitting our model to the test set. This way, it might be important to use a third set, known as validation set, to check if the accuracy of our algorithm **really** passes to the real world data.\n",
        "\n",
        "Here, we will try to use an AdaBoost algorithm, and check if it is able to improve our classification:"
      ],
      "metadata": {
        "id": "_jL2go1iv-MZ"
      }
    },
    {
      "cell_type": "code",
      "source": [
        "model_ada = AdaBoostClassifier( )\n",
        "model_ada.fit(X_train, y_train)\n",
        "\n",
        "y_pred = model_ada.predict(X_test)\n",
        "acc = accuracy_score(y_test, y_pred)\n",
        "\n",
        "print(\"Accuracy: {:.2f}%\".format(acc*100))"
      ],
      "metadata": {
        "colab": {
          "base_uri": "https://localhost:8080/"
        },
        "id": "BFOvz5Ttj7FW",
        "outputId": "2fc14f46-bd76-4cd7-c714-6bd826af6fa5"
      },
      "execution_count": 80,
      "outputs": [
        {
          "output_type": "stream",
          "name": "stdout",
          "text": [
            "Accuracy: 88.00%\n"
          ]
        }
      ]
    },
    {
      "cell_type": "markdown",
      "source": [
        "So, our AdaBoost algorithm indeed improves upon the baseline algorithms!"
      ],
      "metadata": {
        "id": "5bAeTZBFyQyh"
      }
    },
    {
      "cell_type": "code",
      "source": [
        ""
      ],
      "metadata": {
        "id": "Sv7c67NfyJ_K"
      },
      "execution_count": null,
      "outputs": []
    }
  ]
}