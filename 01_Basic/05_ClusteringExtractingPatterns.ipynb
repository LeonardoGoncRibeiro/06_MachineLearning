{
  "nbformat": 4,
  "nbformat_minor": 0,
  "metadata": {
    "colab": {
      "name": "05_ClusteringExtractingPatterns.ipynb",
      "provenance": [],
      "collapsed_sections": [],
      "toc_visible": true,
      "authorship_tag": "ABX9TyOs9KtluEzqkOK10wDFKGMx",
      "include_colab_link": true
    },
    "kernelspec": {
      "name": "python3",
      "display_name": "Python 3"
    },
    "language_info": {
      "name": "python"
    }
  },
  "cells": [
    {
      "cell_type": "markdown",
      "metadata": {
        "id": "view-in-github",
        "colab_type": "text"
      },
      "source": [
        "<a href=\"https://colab.research.google.com/github/LeonardoGoncRibeiro/06_MachineLearning/blob/main/01_Basic/05_ClusteringExtractingPatterns.ipynb\" target=\"_parent\"><img src=\"https://colab.research.google.com/assets/colab-badge.svg\" alt=\"Open In Colab\"/></a>"
      ]
    },
    {
      "cell_type": "markdown",
      "source": [
        "# Clustering: Extracting patterns from our data\n",
        "\n",
        "In this course, we will learn how to use clustering to extract patterns in our data. \n",
        "\n",
        "In our job, it is common that we want to make classifications, to get, for instance, whether someone will not pay their debt. For that end, one may use supervised learning techniques. In other cases, however, one may want to simply understand the behavior of each customer, and segmentate then in different groups. Here, we do not have a label (unsupervised learning), but rather we simply want to group similar customers.\n",
        "\n",
        "In this course, we will use the following packages:"
      ],
      "metadata": {
        "id": "RgTNrGSzkTgQ"
      }
    },
    {
      "cell_type": "code",
      "source": [
        "import pandas as pd\n",
        "import seaborn as sns\n",
        "import matplotlib.pyplot as plt\n",
        "import numpy as np\n",
        "\n",
        "from sklearn.preprocessing import Normalizer\n",
        "\n",
        "from sklearn.cluster import KMeans\n",
        "\n",
        "from sklearn import metrics"
      ],
      "metadata": {
        "id": "zcueqramndev"
      },
      "execution_count": 42,
      "outputs": []
    },
    {
      "cell_type": "markdown",
      "source": [
        "In this course, we will use the following dataset:"
      ],
      "metadata": {
        "id": "AUbLFIkEnWxf"
      }
    },
    {
      "cell_type": "code",
      "execution_count": 2,
      "metadata": {
        "id": "tfyiN2xYkPur"
      },
      "outputs": [],
      "source": [
        "df = pd.read_csv('https://raw.githubusercontent.com/alura-cursos/alura-clustering-validation/base-de-dados/CC%20GENERAL.csv')"
      ]
    },
    {
      "cell_type": "code",
      "source": [
        "df"
      ],
      "metadata": {
        "colab": {
          "base_uri": "https://localhost:8080/",
          "height": 488
        },
        "id": "RceK17sTngf_",
        "outputId": "1d1b8e2e-eccb-4005-b75a-ab08fcda2a8c"
      },
      "execution_count": 3,
      "outputs": [
        {
          "output_type": "execute_result",
          "data": {
            "text/plain": [
              "     CUST_ID      BALANCE  BALANCE_FREQUENCY  PURCHASES  ONEOFF_PURCHASES  \\\n",
              "0     C10001    40.900749           0.818182      95.40              0.00   \n",
              "1     C10002  3202.467416           0.909091       0.00              0.00   \n",
              "2     C10003  2495.148862           1.000000     773.17            773.17   \n",
              "3     C10004  1666.670542           0.636364    1499.00           1499.00   \n",
              "4     C10005   817.714335           1.000000      16.00             16.00   \n",
              "...      ...          ...                ...        ...               ...   \n",
              "8945  C19186    28.493517           1.000000     291.12              0.00   \n",
              "8946  C19187    19.183215           1.000000     300.00              0.00   \n",
              "8947  C19188    23.398673           0.833333     144.40              0.00   \n",
              "8948  C19189    13.457564           0.833333       0.00              0.00   \n",
              "8949  C19190   372.708075           0.666667    1093.25           1093.25   \n",
              "\n",
              "      INSTALLMENTS_PURCHASES  CASH_ADVANCE  PURCHASES_FREQUENCY  \\\n",
              "0                      95.40      0.000000             0.166667   \n",
              "1                       0.00   6442.945483             0.000000   \n",
              "2                       0.00      0.000000             1.000000   \n",
              "3                       0.00    205.788017             0.083333   \n",
              "4                       0.00      0.000000             0.083333   \n",
              "...                      ...           ...                  ...   \n",
              "8945                  291.12      0.000000             1.000000   \n",
              "8946                  300.00      0.000000             1.000000   \n",
              "8947                  144.40      0.000000             0.833333   \n",
              "8948                    0.00     36.558778             0.000000   \n",
              "8949                    0.00    127.040008             0.666667   \n",
              "\n",
              "      ONEOFF_PURCHASES_FREQUENCY  PURCHASES_INSTALLMENTS_FREQUENCY  \\\n",
              "0                       0.000000                          0.083333   \n",
              "1                       0.000000                          0.000000   \n",
              "2                       1.000000                          0.000000   \n",
              "3                       0.083333                          0.000000   \n",
              "4                       0.083333                          0.000000   \n",
              "...                          ...                               ...   \n",
              "8945                    0.000000                          0.833333   \n",
              "8946                    0.000000                          0.833333   \n",
              "8947                    0.000000                          0.666667   \n",
              "8948                    0.000000                          0.000000   \n",
              "8949                    0.666667                          0.000000   \n",
              "\n",
              "      CASH_ADVANCE_FREQUENCY  CASH_ADVANCE_TRX  PURCHASES_TRX  CREDIT_LIMIT  \\\n",
              "0                   0.000000                 0              2        1000.0   \n",
              "1                   0.250000                 4              0        7000.0   \n",
              "2                   0.000000                 0             12        7500.0   \n",
              "3                   0.083333                 1              1        7500.0   \n",
              "4                   0.000000                 0              1        1200.0   \n",
              "...                      ...               ...            ...           ...   \n",
              "8945                0.000000                 0              6        1000.0   \n",
              "8946                0.000000                 0              6        1000.0   \n",
              "8947                0.000000                 0              5        1000.0   \n",
              "8948                0.166667                 2              0         500.0   \n",
              "8949                0.333333                 2             23        1200.0   \n",
              "\n",
              "         PAYMENTS  MINIMUM_PAYMENTS  PRC_FULL_PAYMENT  TENURE  \n",
              "0      201.802084        139.509787          0.000000      12  \n",
              "1     4103.032597       1072.340217          0.222222      12  \n",
              "2      622.066742        627.284787          0.000000      12  \n",
              "3        0.000000               NaN          0.000000      12  \n",
              "4      678.334763        244.791237          0.000000      12  \n",
              "...           ...               ...               ...     ...  \n",
              "8945   325.594462         48.886365          0.500000       6  \n",
              "8946   275.861322               NaN          0.000000       6  \n",
              "8947    81.270775         82.418369          0.250000       6  \n",
              "8948    52.549959         55.755628          0.250000       6  \n",
              "8949    63.165404         88.288956          0.000000       6  \n",
              "\n",
              "[8950 rows x 18 columns]"
            ],
            "text/html": [
              "\n",
              "  <div id=\"df-ee33d0ee-d9bc-482b-94fd-0e478024144a\">\n",
              "    <div class=\"colab-df-container\">\n",
              "      <div>\n",
              "<style scoped>\n",
              "    .dataframe tbody tr th:only-of-type {\n",
              "        vertical-align: middle;\n",
              "    }\n",
              "\n",
              "    .dataframe tbody tr th {\n",
              "        vertical-align: top;\n",
              "    }\n",
              "\n",
              "    .dataframe thead th {\n",
              "        text-align: right;\n",
              "    }\n",
              "</style>\n",
              "<table border=\"1\" class=\"dataframe\">\n",
              "  <thead>\n",
              "    <tr style=\"text-align: right;\">\n",
              "      <th></th>\n",
              "      <th>CUST_ID</th>\n",
              "      <th>BALANCE</th>\n",
              "      <th>BALANCE_FREQUENCY</th>\n",
              "      <th>PURCHASES</th>\n",
              "      <th>ONEOFF_PURCHASES</th>\n",
              "      <th>INSTALLMENTS_PURCHASES</th>\n",
              "      <th>CASH_ADVANCE</th>\n",
              "      <th>PURCHASES_FREQUENCY</th>\n",
              "      <th>ONEOFF_PURCHASES_FREQUENCY</th>\n",
              "      <th>PURCHASES_INSTALLMENTS_FREQUENCY</th>\n",
              "      <th>CASH_ADVANCE_FREQUENCY</th>\n",
              "      <th>CASH_ADVANCE_TRX</th>\n",
              "      <th>PURCHASES_TRX</th>\n",
              "      <th>CREDIT_LIMIT</th>\n",
              "      <th>PAYMENTS</th>\n",
              "      <th>MINIMUM_PAYMENTS</th>\n",
              "      <th>PRC_FULL_PAYMENT</th>\n",
              "      <th>TENURE</th>\n",
              "    </tr>\n",
              "  </thead>\n",
              "  <tbody>\n",
              "    <tr>\n",
              "      <th>0</th>\n",
              "      <td>C10001</td>\n",
              "      <td>40.900749</td>\n",
              "      <td>0.818182</td>\n",
              "      <td>95.40</td>\n",
              "      <td>0.00</td>\n",
              "      <td>95.40</td>\n",
              "      <td>0.000000</td>\n",
              "      <td>0.166667</td>\n",
              "      <td>0.000000</td>\n",
              "      <td>0.083333</td>\n",
              "      <td>0.000000</td>\n",
              "      <td>0</td>\n",
              "      <td>2</td>\n",
              "      <td>1000.0</td>\n",
              "      <td>201.802084</td>\n",
              "      <td>139.509787</td>\n",
              "      <td>0.000000</td>\n",
              "      <td>12</td>\n",
              "    </tr>\n",
              "    <tr>\n",
              "      <th>1</th>\n",
              "      <td>C10002</td>\n",
              "      <td>3202.467416</td>\n",
              "      <td>0.909091</td>\n",
              "      <td>0.00</td>\n",
              "      <td>0.00</td>\n",
              "      <td>0.00</td>\n",
              "      <td>6442.945483</td>\n",
              "      <td>0.000000</td>\n",
              "      <td>0.000000</td>\n",
              "      <td>0.000000</td>\n",
              "      <td>0.250000</td>\n",
              "      <td>4</td>\n",
              "      <td>0</td>\n",
              "      <td>7000.0</td>\n",
              "      <td>4103.032597</td>\n",
              "      <td>1072.340217</td>\n",
              "      <td>0.222222</td>\n",
              "      <td>12</td>\n",
              "    </tr>\n",
              "    <tr>\n",
              "      <th>2</th>\n",
              "      <td>C10003</td>\n",
              "      <td>2495.148862</td>\n",
              "      <td>1.000000</td>\n",
              "      <td>773.17</td>\n",
              "      <td>773.17</td>\n",
              "      <td>0.00</td>\n",
              "      <td>0.000000</td>\n",
              "      <td>1.000000</td>\n",
              "      <td>1.000000</td>\n",
              "      <td>0.000000</td>\n",
              "      <td>0.000000</td>\n",
              "      <td>0</td>\n",
              "      <td>12</td>\n",
              "      <td>7500.0</td>\n",
              "      <td>622.066742</td>\n",
              "      <td>627.284787</td>\n",
              "      <td>0.000000</td>\n",
              "      <td>12</td>\n",
              "    </tr>\n",
              "    <tr>\n",
              "      <th>3</th>\n",
              "      <td>C10004</td>\n",
              "      <td>1666.670542</td>\n",
              "      <td>0.636364</td>\n",
              "      <td>1499.00</td>\n",
              "      <td>1499.00</td>\n",
              "      <td>0.00</td>\n",
              "      <td>205.788017</td>\n",
              "      <td>0.083333</td>\n",
              "      <td>0.083333</td>\n",
              "      <td>0.000000</td>\n",
              "      <td>0.083333</td>\n",
              "      <td>1</td>\n",
              "      <td>1</td>\n",
              "      <td>7500.0</td>\n",
              "      <td>0.000000</td>\n",
              "      <td>NaN</td>\n",
              "      <td>0.000000</td>\n",
              "      <td>12</td>\n",
              "    </tr>\n",
              "    <tr>\n",
              "      <th>4</th>\n",
              "      <td>C10005</td>\n",
              "      <td>817.714335</td>\n",
              "      <td>1.000000</td>\n",
              "      <td>16.00</td>\n",
              "      <td>16.00</td>\n",
              "      <td>0.00</td>\n",
              "      <td>0.000000</td>\n",
              "      <td>0.083333</td>\n",
              "      <td>0.083333</td>\n",
              "      <td>0.000000</td>\n",
              "      <td>0.000000</td>\n",
              "      <td>0</td>\n",
              "      <td>1</td>\n",
              "      <td>1200.0</td>\n",
              "      <td>678.334763</td>\n",
              "      <td>244.791237</td>\n",
              "      <td>0.000000</td>\n",
              "      <td>12</td>\n",
              "    </tr>\n",
              "    <tr>\n",
              "      <th>...</th>\n",
              "      <td>...</td>\n",
              "      <td>...</td>\n",
              "      <td>...</td>\n",
              "      <td>...</td>\n",
              "      <td>...</td>\n",
              "      <td>...</td>\n",
              "      <td>...</td>\n",
              "      <td>...</td>\n",
              "      <td>...</td>\n",
              "      <td>...</td>\n",
              "      <td>...</td>\n",
              "      <td>...</td>\n",
              "      <td>...</td>\n",
              "      <td>...</td>\n",
              "      <td>...</td>\n",
              "      <td>...</td>\n",
              "      <td>...</td>\n",
              "      <td>...</td>\n",
              "    </tr>\n",
              "    <tr>\n",
              "      <th>8945</th>\n",
              "      <td>C19186</td>\n",
              "      <td>28.493517</td>\n",
              "      <td>1.000000</td>\n",
              "      <td>291.12</td>\n",
              "      <td>0.00</td>\n",
              "      <td>291.12</td>\n",
              "      <td>0.000000</td>\n",
              "      <td>1.000000</td>\n",
              "      <td>0.000000</td>\n",
              "      <td>0.833333</td>\n",
              "      <td>0.000000</td>\n",
              "      <td>0</td>\n",
              "      <td>6</td>\n",
              "      <td>1000.0</td>\n",
              "      <td>325.594462</td>\n",
              "      <td>48.886365</td>\n",
              "      <td>0.500000</td>\n",
              "      <td>6</td>\n",
              "    </tr>\n",
              "    <tr>\n",
              "      <th>8946</th>\n",
              "      <td>C19187</td>\n",
              "      <td>19.183215</td>\n",
              "      <td>1.000000</td>\n",
              "      <td>300.00</td>\n",
              "      <td>0.00</td>\n",
              "      <td>300.00</td>\n",
              "      <td>0.000000</td>\n",
              "      <td>1.000000</td>\n",
              "      <td>0.000000</td>\n",
              "      <td>0.833333</td>\n",
              "      <td>0.000000</td>\n",
              "      <td>0</td>\n",
              "      <td>6</td>\n",
              "      <td>1000.0</td>\n",
              "      <td>275.861322</td>\n",
              "      <td>NaN</td>\n",
              "      <td>0.000000</td>\n",
              "      <td>6</td>\n",
              "    </tr>\n",
              "    <tr>\n",
              "      <th>8947</th>\n",
              "      <td>C19188</td>\n",
              "      <td>23.398673</td>\n",
              "      <td>0.833333</td>\n",
              "      <td>144.40</td>\n",
              "      <td>0.00</td>\n",
              "      <td>144.40</td>\n",
              "      <td>0.000000</td>\n",
              "      <td>0.833333</td>\n",
              "      <td>0.000000</td>\n",
              "      <td>0.666667</td>\n",
              "      <td>0.000000</td>\n",
              "      <td>0</td>\n",
              "      <td>5</td>\n",
              "      <td>1000.0</td>\n",
              "      <td>81.270775</td>\n",
              "      <td>82.418369</td>\n",
              "      <td>0.250000</td>\n",
              "      <td>6</td>\n",
              "    </tr>\n",
              "    <tr>\n",
              "      <th>8948</th>\n",
              "      <td>C19189</td>\n",
              "      <td>13.457564</td>\n",
              "      <td>0.833333</td>\n",
              "      <td>0.00</td>\n",
              "      <td>0.00</td>\n",
              "      <td>0.00</td>\n",
              "      <td>36.558778</td>\n",
              "      <td>0.000000</td>\n",
              "      <td>0.000000</td>\n",
              "      <td>0.000000</td>\n",
              "      <td>0.166667</td>\n",
              "      <td>2</td>\n",
              "      <td>0</td>\n",
              "      <td>500.0</td>\n",
              "      <td>52.549959</td>\n",
              "      <td>55.755628</td>\n",
              "      <td>0.250000</td>\n",
              "      <td>6</td>\n",
              "    </tr>\n",
              "    <tr>\n",
              "      <th>8949</th>\n",
              "      <td>C19190</td>\n",
              "      <td>372.708075</td>\n",
              "      <td>0.666667</td>\n",
              "      <td>1093.25</td>\n",
              "      <td>1093.25</td>\n",
              "      <td>0.00</td>\n",
              "      <td>127.040008</td>\n",
              "      <td>0.666667</td>\n",
              "      <td>0.666667</td>\n",
              "      <td>0.000000</td>\n",
              "      <td>0.333333</td>\n",
              "      <td>2</td>\n",
              "      <td>23</td>\n",
              "      <td>1200.0</td>\n",
              "      <td>63.165404</td>\n",
              "      <td>88.288956</td>\n",
              "      <td>0.000000</td>\n",
              "      <td>6</td>\n",
              "    </tr>\n",
              "  </tbody>\n",
              "</table>\n",
              "<p>8950 rows × 18 columns</p>\n",
              "</div>\n",
              "      <button class=\"colab-df-convert\" onclick=\"convertToInteractive('df-ee33d0ee-d9bc-482b-94fd-0e478024144a')\"\n",
              "              title=\"Convert this dataframe to an interactive table.\"\n",
              "              style=\"display:none;\">\n",
              "        \n",
              "  <svg xmlns=\"http://www.w3.org/2000/svg\" height=\"24px\"viewBox=\"0 0 24 24\"\n",
              "       width=\"24px\">\n",
              "    <path d=\"M0 0h24v24H0V0z\" fill=\"none\"/>\n",
              "    <path d=\"M18.56 5.44l.94 2.06.94-2.06 2.06-.94-2.06-.94-.94-2.06-.94 2.06-2.06.94zm-11 1L8.5 8.5l.94-2.06 2.06-.94-2.06-.94L8.5 2.5l-.94 2.06-2.06.94zm10 10l.94 2.06.94-2.06 2.06-.94-2.06-.94-.94-2.06-.94 2.06-2.06.94z\"/><path d=\"M17.41 7.96l-1.37-1.37c-.4-.4-.92-.59-1.43-.59-.52 0-1.04.2-1.43.59L10.3 9.45l-7.72 7.72c-.78.78-.78 2.05 0 2.83L4 21.41c.39.39.9.59 1.41.59.51 0 1.02-.2 1.41-.59l7.78-7.78 2.81-2.81c.8-.78.8-2.07 0-2.86zM5.41 20L4 18.59l7.72-7.72 1.47 1.35L5.41 20z\"/>\n",
              "  </svg>\n",
              "      </button>\n",
              "      \n",
              "  <style>\n",
              "    .colab-df-container {\n",
              "      display:flex;\n",
              "      flex-wrap:wrap;\n",
              "      gap: 12px;\n",
              "    }\n",
              "\n",
              "    .colab-df-convert {\n",
              "      background-color: #E8F0FE;\n",
              "      border: none;\n",
              "      border-radius: 50%;\n",
              "      cursor: pointer;\n",
              "      display: none;\n",
              "      fill: #1967D2;\n",
              "      height: 32px;\n",
              "      padding: 0 0 0 0;\n",
              "      width: 32px;\n",
              "    }\n",
              "\n",
              "    .colab-df-convert:hover {\n",
              "      background-color: #E2EBFA;\n",
              "      box-shadow: 0px 1px 2px rgba(60, 64, 67, 0.3), 0px 1px 3px 1px rgba(60, 64, 67, 0.15);\n",
              "      fill: #174EA6;\n",
              "    }\n",
              "\n",
              "    [theme=dark] .colab-df-convert {\n",
              "      background-color: #3B4455;\n",
              "      fill: #D2E3FC;\n",
              "    }\n",
              "\n",
              "    [theme=dark] .colab-df-convert:hover {\n",
              "      background-color: #434B5C;\n",
              "      box-shadow: 0px 1px 3px 1px rgba(0, 0, 0, 0.15);\n",
              "      filter: drop-shadow(0px 1px 2px rgba(0, 0, 0, 0.3));\n",
              "      fill: #FFFFFF;\n",
              "    }\n",
              "  </style>\n",
              "\n",
              "      <script>\n",
              "        const buttonEl =\n",
              "          document.querySelector('#df-ee33d0ee-d9bc-482b-94fd-0e478024144a button.colab-df-convert');\n",
              "        buttonEl.style.display =\n",
              "          google.colab.kernel.accessAllowed ? 'block' : 'none';\n",
              "\n",
              "        async function convertToInteractive(key) {\n",
              "          const element = document.querySelector('#df-ee33d0ee-d9bc-482b-94fd-0e478024144a');\n",
              "          const dataTable =\n",
              "            await google.colab.kernel.invokeFunction('convertToInteractive',\n",
              "                                                     [key], {});\n",
              "          if (!dataTable) return;\n",
              "\n",
              "          const docLinkHtml = 'Like what you see? Visit the ' +\n",
              "            '<a target=\"_blank\" href=https://colab.research.google.com/notebooks/data_table.ipynb>data table notebook</a>'\n",
              "            + ' to learn more about interactive tables.';\n",
              "          element.innerHTML = '';\n",
              "          dataTable['output_type'] = 'display_data';\n",
              "          await google.colab.output.renderOutput(dataTable, element);\n",
              "          const docLink = document.createElement('div');\n",
              "          docLink.innerHTML = docLinkHtml;\n",
              "          element.appendChild(docLink);\n",
              "        }\n",
              "      </script>\n",
              "    </div>\n",
              "  </div>\n",
              "  "
            ]
          },
          "metadata": {},
          "execution_count": 3
        }
      ]
    },
    {
      "cell_type": "markdown",
      "source": [
        "This dataset was taken from Kaggle, and has information about almost 9000 customers and how they use their credit cards. Let's see the features in our dataset:"
      ],
      "metadata": {
        "id": "RATvQYnon7zt"
      }
    },
    {
      "cell_type": "code",
      "source": [
        "df.info( )"
      ],
      "metadata": {
        "colab": {
          "base_uri": "https://localhost:8080/"
        },
        "id": "9QKHj0b6nhjz",
        "outputId": "9dfb045d-4adc-4d2a-e205-eb236b00b26b"
      },
      "execution_count": 4,
      "outputs": [
        {
          "output_type": "stream",
          "name": "stdout",
          "text": [
            "<class 'pandas.core.frame.DataFrame'>\n",
            "RangeIndex: 8950 entries, 0 to 8949\n",
            "Data columns (total 18 columns):\n",
            " #   Column                            Non-Null Count  Dtype  \n",
            "---  ------                            --------------  -----  \n",
            " 0   CUST_ID                           8950 non-null   object \n",
            " 1   BALANCE                           8950 non-null   float64\n",
            " 2   BALANCE_FREQUENCY                 8950 non-null   float64\n",
            " 3   PURCHASES                         8950 non-null   float64\n",
            " 4   ONEOFF_PURCHASES                  8950 non-null   float64\n",
            " 5   INSTALLMENTS_PURCHASES            8950 non-null   float64\n",
            " 6   CASH_ADVANCE                      8950 non-null   float64\n",
            " 7   PURCHASES_FREQUENCY               8950 non-null   float64\n",
            " 8   ONEOFF_PURCHASES_FREQUENCY        8950 non-null   float64\n",
            " 9   PURCHASES_INSTALLMENTS_FREQUENCY  8950 non-null   float64\n",
            " 10  CASH_ADVANCE_FREQUENCY            8950 non-null   float64\n",
            " 11  CASH_ADVANCE_TRX                  8950 non-null   int64  \n",
            " 12  PURCHASES_TRX                     8950 non-null   int64  \n",
            " 13  CREDIT_LIMIT                      8949 non-null   float64\n",
            " 14  PAYMENTS                          8950 non-null   float64\n",
            " 15  MINIMUM_PAYMENTS                  8637 non-null   float64\n",
            " 16  PRC_FULL_PAYMENT                  8950 non-null   float64\n",
            " 17  TENURE                            8950 non-null   int64  \n",
            "dtypes: float64(14), int64(3), object(1)\n",
            "memory usage: 1.2+ MB\n"
          ]
        }
      ]
    },
    {
      "cell_type": "markdown",
      "source": [
        "So, our dataset has 18 features, such as:\n",
        "\n",
        "* Customer ID;\n",
        "* Balance;\n",
        "* Frequency that this balancy is changed;\n",
        "* One-off purchases;\n",
        "* Payments;\n",
        "* Price of the full payment;\n",
        "* Minimum payment;\n",
        "* Credit limit;\n",
        "* And others.\n",
        "\n",
        "We have many features, and some of those may not be helpful for our clustering. So, let's clean our dataset:\n",
        "\n",
        "* First, the customer ID should not have any importance in our clusters. \n",
        "* Also, Tenure is related to the \"contract\" time to be renewed. \n",
        "\n",
        "Let's remove those two features:\n",
        "\n",
        "\n",
        "\n"
      ],
      "metadata": {
        "id": "16yVCAbCoJnL"
      }
    },
    {
      "cell_type": "code",
      "source": [
        "df.drop(['CUST_ID', 'TENURE'], axis = 1, inplace = True)\n",
        "df.head( )"
      ],
      "metadata": {
        "colab": {
          "base_uri": "https://localhost:8080/",
          "height": 270
        },
        "id": "PjJ_7TGaoIWO",
        "outputId": "e67a97fe-9650-466b-a96d-75be0145d360"
      },
      "execution_count": 5,
      "outputs": [
        {
          "output_type": "execute_result",
          "data": {
            "text/plain": [
              "       BALANCE  BALANCE_FREQUENCY  PURCHASES  ONEOFF_PURCHASES  \\\n",
              "0    40.900749           0.818182      95.40              0.00   \n",
              "1  3202.467416           0.909091       0.00              0.00   \n",
              "2  2495.148862           1.000000     773.17            773.17   \n",
              "3  1666.670542           0.636364    1499.00           1499.00   \n",
              "4   817.714335           1.000000      16.00             16.00   \n",
              "\n",
              "   INSTALLMENTS_PURCHASES  CASH_ADVANCE  PURCHASES_FREQUENCY  \\\n",
              "0                    95.4      0.000000             0.166667   \n",
              "1                     0.0   6442.945483             0.000000   \n",
              "2                     0.0      0.000000             1.000000   \n",
              "3                     0.0    205.788017             0.083333   \n",
              "4                     0.0      0.000000             0.083333   \n",
              "\n",
              "   ONEOFF_PURCHASES_FREQUENCY  PURCHASES_INSTALLMENTS_FREQUENCY  \\\n",
              "0                    0.000000                          0.083333   \n",
              "1                    0.000000                          0.000000   \n",
              "2                    1.000000                          0.000000   \n",
              "3                    0.083333                          0.000000   \n",
              "4                    0.083333                          0.000000   \n",
              "\n",
              "   CASH_ADVANCE_FREQUENCY  CASH_ADVANCE_TRX  PURCHASES_TRX  CREDIT_LIMIT  \\\n",
              "0                0.000000                 0              2        1000.0   \n",
              "1                0.250000                 4              0        7000.0   \n",
              "2                0.000000                 0             12        7500.0   \n",
              "3                0.083333                 1              1        7500.0   \n",
              "4                0.000000                 0              1        1200.0   \n",
              "\n",
              "      PAYMENTS  MINIMUM_PAYMENTS  PRC_FULL_PAYMENT  \n",
              "0   201.802084        139.509787          0.000000  \n",
              "1  4103.032597       1072.340217          0.222222  \n",
              "2   622.066742        627.284787          0.000000  \n",
              "3     0.000000               NaN          0.000000  \n",
              "4   678.334763        244.791237          0.000000  "
            ],
            "text/html": [
              "\n",
              "  <div id=\"df-b71b8e98-d390-43c4-be33-8f05d8883c1e\">\n",
              "    <div class=\"colab-df-container\">\n",
              "      <div>\n",
              "<style scoped>\n",
              "    .dataframe tbody tr th:only-of-type {\n",
              "        vertical-align: middle;\n",
              "    }\n",
              "\n",
              "    .dataframe tbody tr th {\n",
              "        vertical-align: top;\n",
              "    }\n",
              "\n",
              "    .dataframe thead th {\n",
              "        text-align: right;\n",
              "    }\n",
              "</style>\n",
              "<table border=\"1\" class=\"dataframe\">\n",
              "  <thead>\n",
              "    <tr style=\"text-align: right;\">\n",
              "      <th></th>\n",
              "      <th>BALANCE</th>\n",
              "      <th>BALANCE_FREQUENCY</th>\n",
              "      <th>PURCHASES</th>\n",
              "      <th>ONEOFF_PURCHASES</th>\n",
              "      <th>INSTALLMENTS_PURCHASES</th>\n",
              "      <th>CASH_ADVANCE</th>\n",
              "      <th>PURCHASES_FREQUENCY</th>\n",
              "      <th>ONEOFF_PURCHASES_FREQUENCY</th>\n",
              "      <th>PURCHASES_INSTALLMENTS_FREQUENCY</th>\n",
              "      <th>CASH_ADVANCE_FREQUENCY</th>\n",
              "      <th>CASH_ADVANCE_TRX</th>\n",
              "      <th>PURCHASES_TRX</th>\n",
              "      <th>CREDIT_LIMIT</th>\n",
              "      <th>PAYMENTS</th>\n",
              "      <th>MINIMUM_PAYMENTS</th>\n",
              "      <th>PRC_FULL_PAYMENT</th>\n",
              "    </tr>\n",
              "  </thead>\n",
              "  <tbody>\n",
              "    <tr>\n",
              "      <th>0</th>\n",
              "      <td>40.900749</td>\n",
              "      <td>0.818182</td>\n",
              "      <td>95.40</td>\n",
              "      <td>0.00</td>\n",
              "      <td>95.4</td>\n",
              "      <td>0.000000</td>\n",
              "      <td>0.166667</td>\n",
              "      <td>0.000000</td>\n",
              "      <td>0.083333</td>\n",
              "      <td>0.000000</td>\n",
              "      <td>0</td>\n",
              "      <td>2</td>\n",
              "      <td>1000.0</td>\n",
              "      <td>201.802084</td>\n",
              "      <td>139.509787</td>\n",
              "      <td>0.000000</td>\n",
              "    </tr>\n",
              "    <tr>\n",
              "      <th>1</th>\n",
              "      <td>3202.467416</td>\n",
              "      <td>0.909091</td>\n",
              "      <td>0.00</td>\n",
              "      <td>0.00</td>\n",
              "      <td>0.0</td>\n",
              "      <td>6442.945483</td>\n",
              "      <td>0.000000</td>\n",
              "      <td>0.000000</td>\n",
              "      <td>0.000000</td>\n",
              "      <td>0.250000</td>\n",
              "      <td>4</td>\n",
              "      <td>0</td>\n",
              "      <td>7000.0</td>\n",
              "      <td>4103.032597</td>\n",
              "      <td>1072.340217</td>\n",
              "      <td>0.222222</td>\n",
              "    </tr>\n",
              "    <tr>\n",
              "      <th>2</th>\n",
              "      <td>2495.148862</td>\n",
              "      <td>1.000000</td>\n",
              "      <td>773.17</td>\n",
              "      <td>773.17</td>\n",
              "      <td>0.0</td>\n",
              "      <td>0.000000</td>\n",
              "      <td>1.000000</td>\n",
              "      <td>1.000000</td>\n",
              "      <td>0.000000</td>\n",
              "      <td>0.000000</td>\n",
              "      <td>0</td>\n",
              "      <td>12</td>\n",
              "      <td>7500.0</td>\n",
              "      <td>622.066742</td>\n",
              "      <td>627.284787</td>\n",
              "      <td>0.000000</td>\n",
              "    </tr>\n",
              "    <tr>\n",
              "      <th>3</th>\n",
              "      <td>1666.670542</td>\n",
              "      <td>0.636364</td>\n",
              "      <td>1499.00</td>\n",
              "      <td>1499.00</td>\n",
              "      <td>0.0</td>\n",
              "      <td>205.788017</td>\n",
              "      <td>0.083333</td>\n",
              "      <td>0.083333</td>\n",
              "      <td>0.000000</td>\n",
              "      <td>0.083333</td>\n",
              "      <td>1</td>\n",
              "      <td>1</td>\n",
              "      <td>7500.0</td>\n",
              "      <td>0.000000</td>\n",
              "      <td>NaN</td>\n",
              "      <td>0.000000</td>\n",
              "    </tr>\n",
              "    <tr>\n",
              "      <th>4</th>\n",
              "      <td>817.714335</td>\n",
              "      <td>1.000000</td>\n",
              "      <td>16.00</td>\n",
              "      <td>16.00</td>\n",
              "      <td>0.0</td>\n",
              "      <td>0.000000</td>\n",
              "      <td>0.083333</td>\n",
              "      <td>0.083333</td>\n",
              "      <td>0.000000</td>\n",
              "      <td>0.000000</td>\n",
              "      <td>0</td>\n",
              "      <td>1</td>\n",
              "      <td>1200.0</td>\n",
              "      <td>678.334763</td>\n",
              "      <td>244.791237</td>\n",
              "      <td>0.000000</td>\n",
              "    </tr>\n",
              "  </tbody>\n",
              "</table>\n",
              "</div>\n",
              "      <button class=\"colab-df-convert\" onclick=\"convertToInteractive('df-b71b8e98-d390-43c4-be33-8f05d8883c1e')\"\n",
              "              title=\"Convert this dataframe to an interactive table.\"\n",
              "              style=\"display:none;\">\n",
              "        \n",
              "  <svg xmlns=\"http://www.w3.org/2000/svg\" height=\"24px\"viewBox=\"0 0 24 24\"\n",
              "       width=\"24px\">\n",
              "    <path d=\"M0 0h24v24H0V0z\" fill=\"none\"/>\n",
              "    <path d=\"M18.56 5.44l.94 2.06.94-2.06 2.06-.94-2.06-.94-.94-2.06-.94 2.06-2.06.94zm-11 1L8.5 8.5l.94-2.06 2.06-.94-2.06-.94L8.5 2.5l-.94 2.06-2.06.94zm10 10l.94 2.06.94-2.06 2.06-.94-2.06-.94-.94-2.06-.94 2.06-2.06.94z\"/><path d=\"M17.41 7.96l-1.37-1.37c-.4-.4-.92-.59-1.43-.59-.52 0-1.04.2-1.43.59L10.3 9.45l-7.72 7.72c-.78.78-.78 2.05 0 2.83L4 21.41c.39.39.9.59 1.41.59.51 0 1.02-.2 1.41-.59l7.78-7.78 2.81-2.81c.8-.78.8-2.07 0-2.86zM5.41 20L4 18.59l7.72-7.72 1.47 1.35L5.41 20z\"/>\n",
              "  </svg>\n",
              "      </button>\n",
              "      \n",
              "  <style>\n",
              "    .colab-df-container {\n",
              "      display:flex;\n",
              "      flex-wrap:wrap;\n",
              "      gap: 12px;\n",
              "    }\n",
              "\n",
              "    .colab-df-convert {\n",
              "      background-color: #E8F0FE;\n",
              "      border: none;\n",
              "      border-radius: 50%;\n",
              "      cursor: pointer;\n",
              "      display: none;\n",
              "      fill: #1967D2;\n",
              "      height: 32px;\n",
              "      padding: 0 0 0 0;\n",
              "      width: 32px;\n",
              "    }\n",
              "\n",
              "    .colab-df-convert:hover {\n",
              "      background-color: #E2EBFA;\n",
              "      box-shadow: 0px 1px 2px rgba(60, 64, 67, 0.3), 0px 1px 3px 1px rgba(60, 64, 67, 0.15);\n",
              "      fill: #174EA6;\n",
              "    }\n",
              "\n",
              "    [theme=dark] .colab-df-convert {\n",
              "      background-color: #3B4455;\n",
              "      fill: #D2E3FC;\n",
              "    }\n",
              "\n",
              "    [theme=dark] .colab-df-convert:hover {\n",
              "      background-color: #434B5C;\n",
              "      box-shadow: 0px 1px 3px 1px rgba(0, 0, 0, 0.15);\n",
              "      filter: drop-shadow(0px 1px 2px rgba(0, 0, 0, 0.3));\n",
              "      fill: #FFFFFF;\n",
              "    }\n",
              "  </style>\n",
              "\n",
              "      <script>\n",
              "        const buttonEl =\n",
              "          document.querySelector('#df-b71b8e98-d390-43c4-be33-8f05d8883c1e button.colab-df-convert');\n",
              "        buttonEl.style.display =\n",
              "          google.colab.kernel.accessAllowed ? 'block' : 'none';\n",
              "\n",
              "        async function convertToInteractive(key) {\n",
              "          const element = document.querySelector('#df-b71b8e98-d390-43c4-be33-8f05d8883c1e');\n",
              "          const dataTable =\n",
              "            await google.colab.kernel.invokeFunction('convertToInteractive',\n",
              "                                                     [key], {});\n",
              "          if (!dataTable) return;\n",
              "\n",
              "          const docLinkHtml = 'Like what you see? Visit the ' +\n",
              "            '<a target=\"_blank\" href=https://colab.research.google.com/notebooks/data_table.ipynb>data table notebook</a>'\n",
              "            + ' to learn more about interactive tables.';\n",
              "          element.innerHTML = '';\n",
              "          dataTable['output_type'] = 'display_data';\n",
              "          await google.colab.output.renderOutput(dataTable, element);\n",
              "          const docLink = document.createElement('div');\n",
              "          docLink.innerHTML = docLinkHtml;\n",
              "          element.appendChild(docLink);\n",
              "        }\n",
              "      </script>\n",
              "    </div>\n",
              "  </div>\n",
              "  "
            ]
          },
          "metadata": {},
          "execution_count": 5
        }
      ]
    },
    {
      "cell_type": "markdown",
      "source": [
        "Now, let's see if we have any missing data:"
      ],
      "metadata": {
        "id": "Hqd5K_4AqH2f"
      }
    },
    {
      "cell_type": "code",
      "source": [
        "df.isna( ).sum( )"
      ],
      "metadata": {
        "colab": {
          "base_uri": "https://localhost:8080/"
        },
        "id": "x9Vq3VkmplZY",
        "outputId": "67d21e82-e81d-4a0c-bf01-3a7fb602c4f3"
      },
      "execution_count": 6,
      "outputs": [
        {
          "output_type": "execute_result",
          "data": {
            "text/plain": [
              "BALANCE                               0\n",
              "BALANCE_FREQUENCY                     0\n",
              "PURCHASES                             0\n",
              "ONEOFF_PURCHASES                      0\n",
              "INSTALLMENTS_PURCHASES                0\n",
              "CASH_ADVANCE                          0\n",
              "PURCHASES_FREQUENCY                   0\n",
              "ONEOFF_PURCHASES_FREQUENCY            0\n",
              "PURCHASES_INSTALLMENTS_FREQUENCY      0\n",
              "CASH_ADVANCE_FREQUENCY                0\n",
              "CASH_ADVANCE_TRX                      0\n",
              "PURCHASES_TRX                         0\n",
              "CREDIT_LIMIT                          1\n",
              "PAYMENTS                              0\n",
              "MINIMUM_PAYMENTS                    313\n",
              "PRC_FULL_PAYMENT                      0\n",
              "dtype: int64"
            ]
          },
          "metadata": {},
          "execution_count": 6
        }
      ]
    },
    {
      "cell_type": "markdown",
      "source": [
        "So, we have one entry missing for feature ```CREDIT_LIMIT``` and 313 entries missing for feature ```MINIMUM_PAYMENTS```. So, we have to either remove those entries, or use an approach to fill those missing values. Since 313 is a relatively high amount of data points (almost 5% of our entries), we will try to fill those values with the median of the feature."
      ],
      "metadata": {
        "id": "um1VWk2FqKqq"
      }
    },
    {
      "cell_type": "code",
      "source": [
        "df.fillna(df.median( ), inplace = True)"
      ],
      "metadata": {
        "id": "RG0Zp9XdqrgW"
      },
      "execution_count": 7,
      "outputs": []
    },
    {
      "cell_type": "code",
      "source": [
        "df.isna( ).sum( )"
      ],
      "metadata": {
        "colab": {
          "base_uri": "https://localhost:8080/"
        },
        "id": "ewA_4LpTrENJ",
        "outputId": "7a5355ec-e0bf-484e-853a-2b9ea4288b52"
      },
      "execution_count": 8,
      "outputs": [
        {
          "output_type": "execute_result",
          "data": {
            "text/plain": [
              "BALANCE                             0\n",
              "BALANCE_FREQUENCY                   0\n",
              "PURCHASES                           0\n",
              "ONEOFF_PURCHASES                    0\n",
              "INSTALLMENTS_PURCHASES              0\n",
              "CASH_ADVANCE                        0\n",
              "PURCHASES_FREQUENCY                 0\n",
              "ONEOFF_PURCHASES_FREQUENCY          0\n",
              "PURCHASES_INSTALLMENTS_FREQUENCY    0\n",
              "CASH_ADVANCE_FREQUENCY              0\n",
              "CASH_ADVANCE_TRX                    0\n",
              "PURCHASES_TRX                       0\n",
              "CREDIT_LIMIT                        0\n",
              "PAYMENTS                            0\n",
              "MINIMUM_PAYMENTS                    0\n",
              "PRC_FULL_PAYMENT                    0\n",
              "dtype: int64"
            ]
          },
          "metadata": {},
          "execution_count": 8
        }
      ]
    },
    {
      "cell_type": "markdown",
      "source": [
        "Nice! Now, we have no null values. \n",
        "\n",
        "Finally, when we cluster our data using multiple features, we should normalize our data, so that no feature ends up being more important than the other. We can normalize our data using:"
      ],
      "metadata": {
        "id": "s5uihJScrRhk"
      }
    },
    {
      "cell_type": "code",
      "source": [
        "normalizer = Normalizer( )\n",
        "df_n = normalizer.fit_transform(df)\n",
        "\n",
        "df_n = pd.DataFrame(df_n, columns = df.columns)"
      ],
      "metadata": {
        "id": "UNR0xh5VrP-3"
      },
      "execution_count": 9,
      "outputs": []
    },
    {
      "cell_type": "code",
      "source": [
        "df_n.describe( )"
      ],
      "metadata": {
        "colab": {
          "base_uri": "https://localhost:8080/",
          "height": 364
        },
        "id": "cFg7YHhfsMDP",
        "outputId": "77f0f5a6-89b0-494a-d193-6991b0e3f0c7"
      },
      "execution_count": 10,
      "outputs": [
        {
          "output_type": "execute_result",
          "data": {
            "text/plain": [
              "           BALANCE  BALANCE_FREQUENCY    PURCHASES  ONEOFF_PURCHASES  \\\n",
              "count  8950.000000        8950.000000  8950.000000       8950.000000   \n",
              "mean      0.245525           0.000246     0.152657          0.078253   \n",
              "std       0.218888           0.000216     0.164944          0.125214   \n",
              "min       0.000000           0.000000     0.000000          0.000000   \n",
              "25%       0.033441           0.000100     0.008518          0.000000   \n",
              "50%       0.202915           0.000176     0.095271          0.006962   \n",
              "75%       0.430584           0.000330     0.249526          0.112331   \n",
              "max       0.762193           0.002917     0.705478          0.637729   \n",
              "\n",
              "       INSTALLMENTS_PURCHASES  CASH_ADVANCE  PURCHASES_FREQUENCY  \\\n",
              "count             8950.000000   8950.000000          8950.000000   \n",
              "mean                 0.074494      0.138819             0.000132   \n",
              "std                  0.109866      0.203105             0.000170   \n",
              "min                  0.000000      0.000000             0.000000   \n",
              "25%                  0.000000      0.000000             0.000011   \n",
              "50%                  0.017960      0.000000             0.000077   \n",
              "75%                  0.113628      0.243806             0.000177   \n",
              "max                  0.584347      0.812682             0.001375   \n",
              "\n",
              "       ONEOFF_PURCHASES_FREQUENCY  PURCHASES_INSTALLMENTS_FREQUENCY  \\\n",
              "count                 8950.000000                       8950.000000   \n",
              "mean                     0.000039                          0.000102   \n",
              "std                      0.000068                          0.000161   \n",
              "min                      0.000000                          0.000000   \n",
              "25%                      0.000000                          0.000000   \n",
              "50%                      0.000008                          0.000031   \n",
              "75%                      0.000054                          0.000134   \n",
              "max                      0.000860                          0.001146   \n",
              "\n",
              "       CASH_ADVANCE_FREQUENCY  CASH_ADVANCE_TRX  PURCHASES_TRX  CREDIT_LIMIT  \\\n",
              "count             8950.000000       8950.000000    8950.000000   8950.000000   \n",
              "mean                 0.000030          0.000625       0.002816      0.743808   \n",
              "std                  0.000057          0.001257       0.003658      0.202171   \n",
              "min                  0.000000          0.000000       0.000000      0.005261   \n",
              "25%                  0.000000          0.000000       0.000153      0.624735   \n",
              "50%                  0.000000          0.000000       0.001581      0.752792   \n",
              "75%                  0.000041          0.000771       0.004118      0.927302   \n",
              "max                  0.000912          0.022500       0.063149      1.000000   \n",
              "\n",
              "          PAYMENTS  MINIMUM_PAYMENTS  PRC_FULL_PAYMENT  \n",
              "count  8950.000000       8950.000000       8950.000000  \n",
              "mean      0.257959          0.132307          0.000044  \n",
              "std       0.198470          0.154247          0.000113  \n",
              "min       0.000000          0.000009          0.000000  \n",
              "25%       0.109536          0.040319          0.000000  \n",
              "50%       0.192977          0.086190          0.000000  \n",
              "75%       0.372949          0.159889          0.000030  \n",
              "max       0.977965          0.994341          0.002063  "
            ],
            "text/html": [
              "\n",
              "  <div id=\"df-ddc97677-1594-4f3a-84f0-b4a512572c2c\">\n",
              "    <div class=\"colab-df-container\">\n",
              "      <div>\n",
              "<style scoped>\n",
              "    .dataframe tbody tr th:only-of-type {\n",
              "        vertical-align: middle;\n",
              "    }\n",
              "\n",
              "    .dataframe tbody tr th {\n",
              "        vertical-align: top;\n",
              "    }\n",
              "\n",
              "    .dataframe thead th {\n",
              "        text-align: right;\n",
              "    }\n",
              "</style>\n",
              "<table border=\"1\" class=\"dataframe\">\n",
              "  <thead>\n",
              "    <tr style=\"text-align: right;\">\n",
              "      <th></th>\n",
              "      <th>BALANCE</th>\n",
              "      <th>BALANCE_FREQUENCY</th>\n",
              "      <th>PURCHASES</th>\n",
              "      <th>ONEOFF_PURCHASES</th>\n",
              "      <th>INSTALLMENTS_PURCHASES</th>\n",
              "      <th>CASH_ADVANCE</th>\n",
              "      <th>PURCHASES_FREQUENCY</th>\n",
              "      <th>ONEOFF_PURCHASES_FREQUENCY</th>\n",
              "      <th>PURCHASES_INSTALLMENTS_FREQUENCY</th>\n",
              "      <th>CASH_ADVANCE_FREQUENCY</th>\n",
              "      <th>CASH_ADVANCE_TRX</th>\n",
              "      <th>PURCHASES_TRX</th>\n",
              "      <th>CREDIT_LIMIT</th>\n",
              "      <th>PAYMENTS</th>\n",
              "      <th>MINIMUM_PAYMENTS</th>\n",
              "      <th>PRC_FULL_PAYMENT</th>\n",
              "    </tr>\n",
              "  </thead>\n",
              "  <tbody>\n",
              "    <tr>\n",
              "      <th>count</th>\n",
              "      <td>8950.000000</td>\n",
              "      <td>8950.000000</td>\n",
              "      <td>8950.000000</td>\n",
              "      <td>8950.000000</td>\n",
              "      <td>8950.000000</td>\n",
              "      <td>8950.000000</td>\n",
              "      <td>8950.000000</td>\n",
              "      <td>8950.000000</td>\n",
              "      <td>8950.000000</td>\n",
              "      <td>8950.000000</td>\n",
              "      <td>8950.000000</td>\n",
              "      <td>8950.000000</td>\n",
              "      <td>8950.000000</td>\n",
              "      <td>8950.000000</td>\n",
              "      <td>8950.000000</td>\n",
              "      <td>8950.000000</td>\n",
              "    </tr>\n",
              "    <tr>\n",
              "      <th>mean</th>\n",
              "      <td>0.245525</td>\n",
              "      <td>0.000246</td>\n",
              "      <td>0.152657</td>\n",
              "      <td>0.078253</td>\n",
              "      <td>0.074494</td>\n",
              "      <td>0.138819</td>\n",
              "      <td>0.000132</td>\n",
              "      <td>0.000039</td>\n",
              "      <td>0.000102</td>\n",
              "      <td>0.000030</td>\n",
              "      <td>0.000625</td>\n",
              "      <td>0.002816</td>\n",
              "      <td>0.743808</td>\n",
              "      <td>0.257959</td>\n",
              "      <td>0.132307</td>\n",
              "      <td>0.000044</td>\n",
              "    </tr>\n",
              "    <tr>\n",
              "      <th>std</th>\n",
              "      <td>0.218888</td>\n",
              "      <td>0.000216</td>\n",
              "      <td>0.164944</td>\n",
              "      <td>0.125214</td>\n",
              "      <td>0.109866</td>\n",
              "      <td>0.203105</td>\n",
              "      <td>0.000170</td>\n",
              "      <td>0.000068</td>\n",
              "      <td>0.000161</td>\n",
              "      <td>0.000057</td>\n",
              "      <td>0.001257</td>\n",
              "      <td>0.003658</td>\n",
              "      <td>0.202171</td>\n",
              "      <td>0.198470</td>\n",
              "      <td>0.154247</td>\n",
              "      <td>0.000113</td>\n",
              "    </tr>\n",
              "    <tr>\n",
              "      <th>min</th>\n",
              "      <td>0.000000</td>\n",
              "      <td>0.000000</td>\n",
              "      <td>0.000000</td>\n",
              "      <td>0.000000</td>\n",
              "      <td>0.000000</td>\n",
              "      <td>0.000000</td>\n",
              "      <td>0.000000</td>\n",
              "      <td>0.000000</td>\n",
              "      <td>0.000000</td>\n",
              "      <td>0.000000</td>\n",
              "      <td>0.000000</td>\n",
              "      <td>0.000000</td>\n",
              "      <td>0.005261</td>\n",
              "      <td>0.000000</td>\n",
              "      <td>0.000009</td>\n",
              "      <td>0.000000</td>\n",
              "    </tr>\n",
              "    <tr>\n",
              "      <th>25%</th>\n",
              "      <td>0.033441</td>\n",
              "      <td>0.000100</td>\n",
              "      <td>0.008518</td>\n",
              "      <td>0.000000</td>\n",
              "      <td>0.000000</td>\n",
              "      <td>0.000000</td>\n",
              "      <td>0.000011</td>\n",
              "      <td>0.000000</td>\n",
              "      <td>0.000000</td>\n",
              "      <td>0.000000</td>\n",
              "      <td>0.000000</td>\n",
              "      <td>0.000153</td>\n",
              "      <td>0.624735</td>\n",
              "      <td>0.109536</td>\n",
              "      <td>0.040319</td>\n",
              "      <td>0.000000</td>\n",
              "    </tr>\n",
              "    <tr>\n",
              "      <th>50%</th>\n",
              "      <td>0.202915</td>\n",
              "      <td>0.000176</td>\n",
              "      <td>0.095271</td>\n",
              "      <td>0.006962</td>\n",
              "      <td>0.017960</td>\n",
              "      <td>0.000000</td>\n",
              "      <td>0.000077</td>\n",
              "      <td>0.000008</td>\n",
              "      <td>0.000031</td>\n",
              "      <td>0.000000</td>\n",
              "      <td>0.000000</td>\n",
              "      <td>0.001581</td>\n",
              "      <td>0.752792</td>\n",
              "      <td>0.192977</td>\n",
              "      <td>0.086190</td>\n",
              "      <td>0.000000</td>\n",
              "    </tr>\n",
              "    <tr>\n",
              "      <th>75%</th>\n",
              "      <td>0.430584</td>\n",
              "      <td>0.000330</td>\n",
              "      <td>0.249526</td>\n",
              "      <td>0.112331</td>\n",
              "      <td>0.113628</td>\n",
              "      <td>0.243806</td>\n",
              "      <td>0.000177</td>\n",
              "      <td>0.000054</td>\n",
              "      <td>0.000134</td>\n",
              "      <td>0.000041</td>\n",
              "      <td>0.000771</td>\n",
              "      <td>0.004118</td>\n",
              "      <td>0.927302</td>\n",
              "      <td>0.372949</td>\n",
              "      <td>0.159889</td>\n",
              "      <td>0.000030</td>\n",
              "    </tr>\n",
              "    <tr>\n",
              "      <th>max</th>\n",
              "      <td>0.762193</td>\n",
              "      <td>0.002917</td>\n",
              "      <td>0.705478</td>\n",
              "      <td>0.637729</td>\n",
              "      <td>0.584347</td>\n",
              "      <td>0.812682</td>\n",
              "      <td>0.001375</td>\n",
              "      <td>0.000860</td>\n",
              "      <td>0.001146</td>\n",
              "      <td>0.000912</td>\n",
              "      <td>0.022500</td>\n",
              "      <td>0.063149</td>\n",
              "      <td>1.000000</td>\n",
              "      <td>0.977965</td>\n",
              "      <td>0.994341</td>\n",
              "      <td>0.002063</td>\n",
              "    </tr>\n",
              "  </tbody>\n",
              "</table>\n",
              "</div>\n",
              "      <button class=\"colab-df-convert\" onclick=\"convertToInteractive('df-ddc97677-1594-4f3a-84f0-b4a512572c2c')\"\n",
              "              title=\"Convert this dataframe to an interactive table.\"\n",
              "              style=\"display:none;\">\n",
              "        \n",
              "  <svg xmlns=\"http://www.w3.org/2000/svg\" height=\"24px\"viewBox=\"0 0 24 24\"\n",
              "       width=\"24px\">\n",
              "    <path d=\"M0 0h24v24H0V0z\" fill=\"none\"/>\n",
              "    <path d=\"M18.56 5.44l.94 2.06.94-2.06 2.06-.94-2.06-.94-.94-2.06-.94 2.06-2.06.94zm-11 1L8.5 8.5l.94-2.06 2.06-.94-2.06-.94L8.5 2.5l-.94 2.06-2.06.94zm10 10l.94 2.06.94-2.06 2.06-.94-2.06-.94-.94-2.06-.94 2.06-2.06.94z\"/><path d=\"M17.41 7.96l-1.37-1.37c-.4-.4-.92-.59-1.43-.59-.52 0-1.04.2-1.43.59L10.3 9.45l-7.72 7.72c-.78.78-.78 2.05 0 2.83L4 21.41c.39.39.9.59 1.41.59.51 0 1.02-.2 1.41-.59l7.78-7.78 2.81-2.81c.8-.78.8-2.07 0-2.86zM5.41 20L4 18.59l7.72-7.72 1.47 1.35L5.41 20z\"/>\n",
              "  </svg>\n",
              "      </button>\n",
              "      \n",
              "  <style>\n",
              "    .colab-df-container {\n",
              "      display:flex;\n",
              "      flex-wrap:wrap;\n",
              "      gap: 12px;\n",
              "    }\n",
              "\n",
              "    .colab-df-convert {\n",
              "      background-color: #E8F0FE;\n",
              "      border: none;\n",
              "      border-radius: 50%;\n",
              "      cursor: pointer;\n",
              "      display: none;\n",
              "      fill: #1967D2;\n",
              "      height: 32px;\n",
              "      padding: 0 0 0 0;\n",
              "      width: 32px;\n",
              "    }\n",
              "\n",
              "    .colab-df-convert:hover {\n",
              "      background-color: #E2EBFA;\n",
              "      box-shadow: 0px 1px 2px rgba(60, 64, 67, 0.3), 0px 1px 3px 1px rgba(60, 64, 67, 0.15);\n",
              "      fill: #174EA6;\n",
              "    }\n",
              "\n",
              "    [theme=dark] .colab-df-convert {\n",
              "      background-color: #3B4455;\n",
              "      fill: #D2E3FC;\n",
              "    }\n",
              "\n",
              "    [theme=dark] .colab-df-convert:hover {\n",
              "      background-color: #434B5C;\n",
              "      box-shadow: 0px 1px 3px 1px rgba(0, 0, 0, 0.15);\n",
              "      filter: drop-shadow(0px 1px 2px rgba(0, 0, 0, 0.3));\n",
              "      fill: #FFFFFF;\n",
              "    }\n",
              "  </style>\n",
              "\n",
              "      <script>\n",
              "        const buttonEl =\n",
              "          document.querySelector('#df-ddc97677-1594-4f3a-84f0-b4a512572c2c button.colab-df-convert');\n",
              "        buttonEl.style.display =\n",
              "          google.colab.kernel.accessAllowed ? 'block' : 'none';\n",
              "\n",
              "        async function convertToInteractive(key) {\n",
              "          const element = document.querySelector('#df-ddc97677-1594-4f3a-84f0-b4a512572c2c');\n",
              "          const dataTable =\n",
              "            await google.colab.kernel.invokeFunction('convertToInteractive',\n",
              "                                                     [key], {});\n",
              "          if (!dataTable) return;\n",
              "\n",
              "          const docLinkHtml = 'Like what you see? Visit the ' +\n",
              "            '<a target=\"_blank\" href=https://colab.research.google.com/notebooks/data_table.ipynb>data table notebook</a>'\n",
              "            + ' to learn more about interactive tables.';\n",
              "          element.innerHTML = '';\n",
              "          dataTable['output_type'] = 'display_data';\n",
              "          await google.colab.output.renderOutput(dataTable, element);\n",
              "          const docLink = document.createElement('div');\n",
              "          docLink.innerHTML = docLinkHtml;\n",
              "          element.appendChild(docLink);\n",
              "        }\n",
              "      </script>\n",
              "    </div>\n",
              "  </div>\n",
              "  "
            ]
          },
          "metadata": {},
          "execution_count": 10
        }
      ]
    },
    {
      "cell_type": "markdown",
      "source": [
        "# Performing our first clustering using K-means\n",
        "\n",
        "Finally, we will cluster our data using the most popular algorithm: K-means. "
      ],
      "metadata": {
        "id": "Twfb6JGkslKS"
      }
    },
    {
      "cell_type": "code",
      "source": [
        "kmeans = KMeans(n_clusters = 5, n_init = 10, max_iter = 300)\n",
        "y_pred = kmeans.fit_predict(df_n)"
      ],
      "metadata": {
        "id": "fdhpDH_ssNSs"
      },
      "execution_count": 11,
      "outputs": []
    },
    {
      "cell_type": "markdown",
      "source": [
        "Note that, here, we considered 5 clusters. We can see our clusters using:"
      ],
      "metadata": {
        "id": "J3Rrx1W4s6vn"
      }
    },
    {
      "cell_type": "code",
      "source": [
        "y_pred"
      ],
      "metadata": {
        "colab": {
          "base_uri": "https://localhost:8080/"
        },
        "id": "tJo0SFfvtKkn",
        "outputId": "19790d8f-b604-4e8d-9668-5ecc0705837c"
      },
      "execution_count": 12,
      "outputs": [
        {
          "output_type": "execute_result",
          "data": {
            "text/plain": [
              "array([1, 0, 1, ..., 1, 1, 4], dtype=int32)"
            ]
          },
          "metadata": {},
          "execution_count": 12
        }
      ]
    },
    {
      "cell_type": "markdown",
      "source": [
        "Also, we can add this as a feature in our dataframe:"
      ],
      "metadata": {
        "id": "th-zUC3utOpQ"
      }
    },
    {
      "cell_type": "code",
      "source": [
        "df_aux = df_n.copy( )\n",
        "df_aux['Cluster_KMeans'] = y_pred"
      ],
      "metadata": {
        "id": "tdK5yAyDtLue"
      },
      "execution_count": 13,
      "outputs": []
    },
    {
      "cell_type": "code",
      "source": [
        "df_aux.head( )"
      ],
      "metadata": {
        "colab": {
          "base_uri": "https://localhost:8080/",
          "height": 270
        },
        "id": "XPYAK8-TtXZu",
        "outputId": "98d2d6da-3687-430a-8999-3ab40c5760f7"
      },
      "execution_count": 14,
      "outputs": [
        {
          "output_type": "execute_result",
          "data": {
            "text/plain": [
              "    BALANCE  BALANCE_FREQUENCY  PURCHASES  ONEOFF_PURCHASES  \\\n",
              "0  0.039356           0.000787   0.091796          0.000000   \n",
              "1  0.293876           0.000083   0.000000          0.000000   \n",
              "2  0.310798           0.000125   0.096307          0.096307   \n",
              "3  0.208887           0.000080   0.187872          0.187872   \n",
              "4  0.504298           0.000617   0.009867          0.009867   \n",
              "\n",
              "   INSTALLMENTS_PURCHASES  CASH_ADVANCE  PURCHASES_FREQUENCY  \\\n",
              "0                0.091796      0.000000             0.000160   \n",
              "1                0.000000      0.591240             0.000000   \n",
              "2                0.000000      0.000000             0.000125   \n",
              "3                0.000000      0.025792             0.000010   \n",
              "4                0.000000      0.000000             0.000051   \n",
              "\n",
              "   ONEOFF_PURCHASES_FREQUENCY  PURCHASES_INSTALLMENTS_FREQUENCY  \\\n",
              "0                    0.000000                           0.00008   \n",
              "1                    0.000000                           0.00000   \n",
              "2                    0.000125                           0.00000   \n",
              "3                    0.000010                           0.00000   \n",
              "4                    0.000051                           0.00000   \n",
              "\n",
              "   CASH_ADVANCE_FREQUENCY  CASH_ADVANCE_TRX  PURCHASES_TRX  CREDIT_LIMIT  \\\n",
              "0                0.000000          0.000000       0.001924      0.962221   \n",
              "1                0.000023          0.000367       0.000000      0.642358   \n",
              "2                0.000000          0.000000       0.001495      0.934207   \n",
              "3                0.000010          0.000125       0.000125      0.939988   \n",
              "4                0.000000          0.000000       0.000617      0.740060   \n",
              "\n",
              "   PAYMENTS  MINIMUM_PAYMENTS  PRC_FULL_PAYMENT  Cluster_KMeans  \n",
              "0  0.194178          0.134239           0.00000               1  \n",
              "1  0.376517          0.098404           0.00002               0  \n",
              "2  0.077485          0.078135           0.00000               1  \n",
              "3  0.000000          0.039147           0.00000               1  \n",
              "4  0.418340          0.150967           0.00000               2  "
            ],
            "text/html": [
              "\n",
              "  <div id=\"df-cd4a3354-468c-4ad9-a648-3508d153d0ec\">\n",
              "    <div class=\"colab-df-container\">\n",
              "      <div>\n",
              "<style scoped>\n",
              "    .dataframe tbody tr th:only-of-type {\n",
              "        vertical-align: middle;\n",
              "    }\n",
              "\n",
              "    .dataframe tbody tr th {\n",
              "        vertical-align: top;\n",
              "    }\n",
              "\n",
              "    .dataframe thead th {\n",
              "        text-align: right;\n",
              "    }\n",
              "</style>\n",
              "<table border=\"1\" class=\"dataframe\">\n",
              "  <thead>\n",
              "    <tr style=\"text-align: right;\">\n",
              "      <th></th>\n",
              "      <th>BALANCE</th>\n",
              "      <th>BALANCE_FREQUENCY</th>\n",
              "      <th>PURCHASES</th>\n",
              "      <th>ONEOFF_PURCHASES</th>\n",
              "      <th>INSTALLMENTS_PURCHASES</th>\n",
              "      <th>CASH_ADVANCE</th>\n",
              "      <th>PURCHASES_FREQUENCY</th>\n",
              "      <th>ONEOFF_PURCHASES_FREQUENCY</th>\n",
              "      <th>PURCHASES_INSTALLMENTS_FREQUENCY</th>\n",
              "      <th>CASH_ADVANCE_FREQUENCY</th>\n",
              "      <th>CASH_ADVANCE_TRX</th>\n",
              "      <th>PURCHASES_TRX</th>\n",
              "      <th>CREDIT_LIMIT</th>\n",
              "      <th>PAYMENTS</th>\n",
              "      <th>MINIMUM_PAYMENTS</th>\n",
              "      <th>PRC_FULL_PAYMENT</th>\n",
              "      <th>Cluster_KMeans</th>\n",
              "    </tr>\n",
              "  </thead>\n",
              "  <tbody>\n",
              "    <tr>\n",
              "      <th>0</th>\n",
              "      <td>0.039356</td>\n",
              "      <td>0.000787</td>\n",
              "      <td>0.091796</td>\n",
              "      <td>0.000000</td>\n",
              "      <td>0.091796</td>\n",
              "      <td>0.000000</td>\n",
              "      <td>0.000160</td>\n",
              "      <td>0.000000</td>\n",
              "      <td>0.00008</td>\n",
              "      <td>0.000000</td>\n",
              "      <td>0.000000</td>\n",
              "      <td>0.001924</td>\n",
              "      <td>0.962221</td>\n",
              "      <td>0.194178</td>\n",
              "      <td>0.134239</td>\n",
              "      <td>0.00000</td>\n",
              "      <td>1</td>\n",
              "    </tr>\n",
              "    <tr>\n",
              "      <th>1</th>\n",
              "      <td>0.293876</td>\n",
              "      <td>0.000083</td>\n",
              "      <td>0.000000</td>\n",
              "      <td>0.000000</td>\n",
              "      <td>0.000000</td>\n",
              "      <td>0.591240</td>\n",
              "      <td>0.000000</td>\n",
              "      <td>0.000000</td>\n",
              "      <td>0.00000</td>\n",
              "      <td>0.000023</td>\n",
              "      <td>0.000367</td>\n",
              "      <td>0.000000</td>\n",
              "      <td>0.642358</td>\n",
              "      <td>0.376517</td>\n",
              "      <td>0.098404</td>\n",
              "      <td>0.00002</td>\n",
              "      <td>0</td>\n",
              "    </tr>\n",
              "    <tr>\n",
              "      <th>2</th>\n",
              "      <td>0.310798</td>\n",
              "      <td>0.000125</td>\n",
              "      <td>0.096307</td>\n",
              "      <td>0.096307</td>\n",
              "      <td>0.000000</td>\n",
              "      <td>0.000000</td>\n",
              "      <td>0.000125</td>\n",
              "      <td>0.000125</td>\n",
              "      <td>0.00000</td>\n",
              "      <td>0.000000</td>\n",
              "      <td>0.000000</td>\n",
              "      <td>0.001495</td>\n",
              "      <td>0.934207</td>\n",
              "      <td>0.077485</td>\n",
              "      <td>0.078135</td>\n",
              "      <td>0.00000</td>\n",
              "      <td>1</td>\n",
              "    </tr>\n",
              "    <tr>\n",
              "      <th>3</th>\n",
              "      <td>0.208887</td>\n",
              "      <td>0.000080</td>\n",
              "      <td>0.187872</td>\n",
              "      <td>0.187872</td>\n",
              "      <td>0.000000</td>\n",
              "      <td>0.025792</td>\n",
              "      <td>0.000010</td>\n",
              "      <td>0.000010</td>\n",
              "      <td>0.00000</td>\n",
              "      <td>0.000010</td>\n",
              "      <td>0.000125</td>\n",
              "      <td>0.000125</td>\n",
              "      <td>0.939988</td>\n",
              "      <td>0.000000</td>\n",
              "      <td>0.039147</td>\n",
              "      <td>0.00000</td>\n",
              "      <td>1</td>\n",
              "    </tr>\n",
              "    <tr>\n",
              "      <th>4</th>\n",
              "      <td>0.504298</td>\n",
              "      <td>0.000617</td>\n",
              "      <td>0.009867</td>\n",
              "      <td>0.009867</td>\n",
              "      <td>0.000000</td>\n",
              "      <td>0.000000</td>\n",
              "      <td>0.000051</td>\n",
              "      <td>0.000051</td>\n",
              "      <td>0.00000</td>\n",
              "      <td>0.000000</td>\n",
              "      <td>0.000000</td>\n",
              "      <td>0.000617</td>\n",
              "      <td>0.740060</td>\n",
              "      <td>0.418340</td>\n",
              "      <td>0.150967</td>\n",
              "      <td>0.00000</td>\n",
              "      <td>2</td>\n",
              "    </tr>\n",
              "  </tbody>\n",
              "</table>\n",
              "</div>\n",
              "      <button class=\"colab-df-convert\" onclick=\"convertToInteractive('df-cd4a3354-468c-4ad9-a648-3508d153d0ec')\"\n",
              "              title=\"Convert this dataframe to an interactive table.\"\n",
              "              style=\"display:none;\">\n",
              "        \n",
              "  <svg xmlns=\"http://www.w3.org/2000/svg\" height=\"24px\"viewBox=\"0 0 24 24\"\n",
              "       width=\"24px\">\n",
              "    <path d=\"M0 0h24v24H0V0z\" fill=\"none\"/>\n",
              "    <path d=\"M18.56 5.44l.94 2.06.94-2.06 2.06-.94-2.06-.94-.94-2.06-.94 2.06-2.06.94zm-11 1L8.5 8.5l.94-2.06 2.06-.94-2.06-.94L8.5 2.5l-.94 2.06-2.06.94zm10 10l.94 2.06.94-2.06 2.06-.94-2.06-.94-.94-2.06-.94 2.06-2.06.94z\"/><path d=\"M17.41 7.96l-1.37-1.37c-.4-.4-.92-.59-1.43-.59-.52 0-1.04.2-1.43.59L10.3 9.45l-7.72 7.72c-.78.78-.78 2.05 0 2.83L4 21.41c.39.39.9.59 1.41.59.51 0 1.02-.2 1.41-.59l7.78-7.78 2.81-2.81c.8-.78.8-2.07 0-2.86zM5.41 20L4 18.59l7.72-7.72 1.47 1.35L5.41 20z\"/>\n",
              "  </svg>\n",
              "      </button>\n",
              "      \n",
              "  <style>\n",
              "    .colab-df-container {\n",
              "      display:flex;\n",
              "      flex-wrap:wrap;\n",
              "      gap: 12px;\n",
              "    }\n",
              "\n",
              "    .colab-df-convert {\n",
              "      background-color: #E8F0FE;\n",
              "      border: none;\n",
              "      border-radius: 50%;\n",
              "      cursor: pointer;\n",
              "      display: none;\n",
              "      fill: #1967D2;\n",
              "      height: 32px;\n",
              "      padding: 0 0 0 0;\n",
              "      width: 32px;\n",
              "    }\n",
              "\n",
              "    .colab-df-convert:hover {\n",
              "      background-color: #E2EBFA;\n",
              "      box-shadow: 0px 1px 2px rgba(60, 64, 67, 0.3), 0px 1px 3px 1px rgba(60, 64, 67, 0.15);\n",
              "      fill: #174EA6;\n",
              "    }\n",
              "\n",
              "    [theme=dark] .colab-df-convert {\n",
              "      background-color: #3B4455;\n",
              "      fill: #D2E3FC;\n",
              "    }\n",
              "\n",
              "    [theme=dark] .colab-df-convert:hover {\n",
              "      background-color: #434B5C;\n",
              "      box-shadow: 0px 1px 3px 1px rgba(0, 0, 0, 0.15);\n",
              "      filter: drop-shadow(0px 1px 2px rgba(0, 0, 0, 0.3));\n",
              "      fill: #FFFFFF;\n",
              "    }\n",
              "  </style>\n",
              "\n",
              "      <script>\n",
              "        const buttonEl =\n",
              "          document.querySelector('#df-cd4a3354-468c-4ad9-a648-3508d153d0ec button.colab-df-convert');\n",
              "        buttonEl.style.display =\n",
              "          google.colab.kernel.accessAllowed ? 'block' : 'none';\n",
              "\n",
              "        async function convertToInteractive(key) {\n",
              "          const element = document.querySelector('#df-cd4a3354-468c-4ad9-a648-3508d153d0ec');\n",
              "          const dataTable =\n",
              "            await google.colab.kernel.invokeFunction('convertToInteractive',\n",
              "                                                     [key], {});\n",
              "          if (!dataTable) return;\n",
              "\n",
              "          const docLinkHtml = 'Like what you see? Visit the ' +\n",
              "            '<a target=\"_blank\" href=https://colab.research.google.com/notebooks/data_table.ipynb>data table notebook</a>'\n",
              "            + ' to learn more about interactive tables.';\n",
              "          element.innerHTML = '';\n",
              "          dataTable['output_type'] = 'display_data';\n",
              "          await google.colab.output.renderOutput(dataTable, element);\n",
              "          const docLink = document.createElement('div');\n",
              "          docLink.innerHTML = docLinkHtml;\n",
              "          element.appendChild(docLink);\n",
              "        }\n",
              "      </script>\n",
              "    </div>\n",
              "  </div>\n",
              "  "
            ]
          },
          "metadata": {},
          "execution_count": 14
        }
      ]
    },
    {
      "cell_type": "markdown",
      "source": [
        "# Validating our clusters\n",
        "\n",
        "So, how do we validate our clusters? How do we know if our clusters make sense? Here, we will use some internal metrics.\n",
        "\n",
        "Are the points in our clusters close to each other? If so, our clusters do make sense, as they are more compact.\n",
        "\n",
        "Also, are the different cluster distant from each other? Are the different clusters really **that** different? If so, our clusters do make sense.\n",
        "\n",
        "In the following, we will use three different validation metrics, and see how they allow us to see if our clusters make sense."
      ],
      "metadata": {
        "id": "3n4THoRDFFtM"
      }
    },
    {
      "cell_type": "markdown",
      "source": [
        "## Silhoutte coefficient\n",
        "\n",
        "The silhoutte coefficient has a very simple equation:\n",
        "\n",
        "\\begin{equation}\n",
        "s_i = \\dfrac{b - a}{\\max{(b, a)}}\n",
        "\\end{equation}\n",
        "\n",
        "where $a$ is the average distance between point $i$ and the other points in the same cluster (measures how compact our cluster is), and $b$ is the average distance between point $i$ and all other points in the closest cluster. The silhoutte coefficient for a given clustering method is the mean of the silhoutte coefficient for all points. \n",
        "\n",
        "The silhoutte coefficient is always in the domain $[-1, 1]$, and we consider that, if the silhoutte coefficient is positive, our clusters do make sense. The higher the silhotte coefficient, the better.\n",
        "\n",
        "Thus, let's evaluate the K-Means clustering using this approach:"
      ],
      "metadata": {
        "id": "52CvFaUZF2Xi"
      }
    },
    {
      "cell_type": "code",
      "source": [
        "labels = kmeans.labels_\n",
        "s = metrics.silhouette_score(df_n, labels, metric = 'euclidean')"
      ],
      "metadata": {
        "id": "wH2OSVpTtY14"
      },
      "execution_count": 15,
      "outputs": []
    },
    {
      "cell_type": "code",
      "source": [
        "s"
      ],
      "metadata": {
        "colab": {
          "base_uri": "https://localhost:8080/"
        },
        "id": "-syTGQeSK3JW",
        "outputId": "ff676637-2595-435c-b2cb-dfa6ede4da94"
      },
      "execution_count": 16,
      "outputs": [
        {
          "output_type": "execute_result",
          "data": {
            "text/plain": [
              "0.3646017628085195"
            ]
          },
          "metadata": {},
          "execution_count": 16
        }
      ]
    },
    {
      "cell_type": "markdown",
      "source": [
        "So, here, our silhoutte score was positive, being equal to $\\approx 0.36$. Nice!"
      ],
      "metadata": {
        "id": "zhxozs88LiSF"
      }
    },
    {
      "cell_type": "markdown",
      "source": [
        "## Davies-Bouldin method\n",
        "\n",
        "Another method for evaluating clustering approaches is the Davies-Bouldin method. Its equation is given by:\n",
        "\n",
        "\\begin{equation}\n",
        "DB = \\dfrac{1}{k} \\, \\sum_{i = 1}^k \\max_{i \\neq j} R_{ij}\n",
        "\\end{equation}\n",
        "\n",
        "where $k$ is the number of clusters and\n",
        "\n",
        "\\begin{equation}\n",
        "R_{ij} = \\dfrac{s_i + s_j}{d_{ij}}\n",
        "\\end{equation}\n",
        "\n",
        "where $s_i$ is the average distance from points in cluster $i$ and the centroid of cluster $i$, and $d_{ij}$ is distance between centroids of clusters $i$ and $j$.\n",
        "\n",
        "Note that $s$ measures how compact are the clusters, and $d$ measures how separated are the clusters. The lower the $s$, the better. The higher the $d$, the better. Thus, the lower the $R$, the better. Thus, the lower the $DB$ coefficient, the better.\n",
        "\n",
        "Finally, let's evaluate this coefficient for our clusters:"
      ],
      "metadata": {
        "id": "L-hZ7fdfL69q"
      }
    },
    {
      "cell_type": "code",
      "source": [
        "dbs = metrics.davies_bouldin_score(df_n, labels)"
      ],
      "metadata": {
        "id": "59TUENXbLheG"
      },
      "execution_count": 17,
      "outputs": []
    },
    {
      "cell_type": "code",
      "source": [
        "dbs"
      ],
      "metadata": {
        "colab": {
          "base_uri": "https://localhost:8080/"
        },
        "id": "TSdYVJ9PO3SS",
        "outputId": "5b5c3664-f6ed-42d4-c748-c9d3ee74379b"
      },
      "execution_count": 18,
      "outputs": [
        {
          "output_type": "execute_result",
          "data": {
            "text/plain": [
              "1.0753510081923616"
            ]
          },
          "metadata": {},
          "execution_count": 18
        }
      ]
    },
    {
      "cell_type": "markdown",
      "source": [
        "Here, our Davies-Bouldin score was $\\approx 1.08$. Note that, here, the Davies-Bouldin score is higher than 0, but can go up to infinite. The higher the $DB$, the worst. To understand if this score is good, we should compare to other values of $DB$, which we will perform latter."
      ],
      "metadata": {
        "id": "ofNpP3vIO47P"
      }
    },
    {
      "cell_type": "markdown",
      "source": [
        "## Calinsky index\n",
        "\n",
        "The Calinsky index, once again, takes into account the dispersion inside each cluster, and also between clusters. This is a more complex method, and its explanation can be found in:\n",
        "\n",
        "https://pyshark.com/calinski-harabasz-index-for-k-means-clustering-evaluation-using-python/#:~:text=The%20Calinski-Harabasz%20index%20%28CH%29%20is%20one%20of%20the,clustering%20algorithm%20for%20a%20given%20number%20of%20clusters."
      ],
      "metadata": {
        "id": "6z-W6NQ9Pq_9"
      }
    },
    {
      "cell_type": "code",
      "source": [
        "calinski = metrics.calinski_harabasz_score(df_n, labels)"
      ],
      "metadata": {
        "id": "aex5Q9jnO30q"
      },
      "execution_count": 19,
      "outputs": []
    },
    {
      "cell_type": "code",
      "source": [
        "calinski"
      ],
      "metadata": {
        "colab": {
          "base_uri": "https://localhost:8080/"
        },
        "id": "YQ4NOkIASgea",
        "outputId": "9818cc76-3e7e-4f41-9d02-100af4362565"
      },
      "execution_count": 20,
      "outputs": [
        {
          "output_type": "execute_result",
          "data": {
            "text/plain": [
              "3431.783254564093"
            ]
          },
          "metadata": {},
          "execution_count": 20
        }
      ]
    },
    {
      "cell_type": "markdown",
      "source": [
        "The Calinski index is higher when clusters are dense and well-separated. Also, note that we have a very high value, which is also affected by the number of features in our dataset. To get a better sense if this is a good results, we should compare it to similar results, which we will perform later."
      ],
      "metadata": {
        "id": "G_CDkeBmTNeg"
      }
    },
    {
      "cell_type": "markdown",
      "source": [
        "# Comparing metrics\n",
        "\n",
        "To use our metrics, especially the Davies-Bouldin and Calinski coefficients, we can test different clustering approachs in the same data set. \n",
        "\n",
        "Since we will run the algorithm and evaluate these metrics multiple times, we will first create a function to get these:"
      ],
      "metadata": {
        "id": "lCcrwoIsFbrm"
      }
    },
    {
      "cell_type": "code",
      "source": [
        "def GetClusteringMetrics(model, df):\n",
        "  labels = model.fit_predict(df)\n",
        "  s   = metrics.silhouette_score(df, labels, metric = 'euclidean')\n",
        "  dbs = metrics.davies_bouldin_score(df, labels)\n",
        "  chs = metrics.calinski_harabasz_score(df, labels)\n",
        "\n",
        "  return (s, dbs, chs)"
      ],
      "metadata": {
        "id": "2xtXMwxmF5Hg"
      },
      "execution_count": 26,
      "outputs": []
    },
    {
      "cell_type": "markdown",
      "source": [
        "Now, let's call this new function for a different number of clusters:"
      ],
      "metadata": {
        "id": "MP_5smaWGlii"
      }
    },
    {
      "cell_type": "code",
      "source": [
        "kmeans = KMeans(n_clusters = 3, n_init = 10, max_iter = 300)\n",
        "\n",
        "s, dbs, chs = GetClusteringMetrics(kmeans, df_n)"
      ],
      "metadata": {
        "id": "A_jJLNnhGk6x"
      },
      "execution_count": 27,
      "outputs": []
    },
    {
      "cell_type": "code",
      "source": [
        "print(\"Silhouette: {:.2f}\".format(s))\n",
        "print(\"Davies-Bouldin: {:.2f}\".format(dbs))\n",
        "print(\"Calinsky: {:.2f}\".format(chs))"
      ],
      "metadata": {
        "colab": {
          "base_uri": "https://localhost:8080/"
        },
        "id": "i-mrGG0jGzch",
        "outputId": "17d43a5a-6a80-4a42-d6f2-7b397ae2ce99"
      },
      "execution_count": 28,
      "outputs": [
        {
          "output_type": "stream",
          "name": "stdout",
          "text": [
            "Silhoette: 0.33\n",
            "Davies-Bouldin: 1.31\n",
            "Calinsky: 3526.44\n"
          ]
        }
      ]
    },
    {
      "cell_type": "markdown",
      "source": [
        "So, when comparing to our previous number of clusters, we got:\n",
        "\n",
        "* A lower silhouette coefficient (worse!);\n",
        "* A higher Davies-Bouldin coefficient (worse!);\n",
        "* A higher Calinsky (better!).\n",
        "\n"
      ],
      "metadata": {
        "id": "zZhtFlOZHRpi"
      }
    },
    {
      "cell_type": "markdown",
      "source": [
        "Before discussing those, let's evaluate the metrics for different number of clusters:"
      ],
      "metadata": {
        "id": "OCoJXkAoHnwq"
      }
    },
    {
      "cell_type": "code",
      "source": [
        "n_list   = []\n",
        "s_list   = []\n",
        "dbs_list = []\n",
        "chs_list = []\n",
        "\n",
        "for k in range(2, 11):\n",
        "  kmeans = KMeans(n_clusters = k, n_init = 10, max_iter = 300)\n",
        "  s, dbs, chs = GetClusteringMetrics(kmeans, df_n)\n",
        "  \n",
        "  n_list.append(k)\n",
        "  s_list.append(s)\n",
        "  dbs_list.append(dbs)\n",
        "  chs_list.append(chs)"
      ],
      "metadata": {
        "id": "idTkK1ddHL3b"
      },
      "execution_count": 29,
      "outputs": []
    },
    {
      "cell_type": "markdown",
      "source": [
        "Now, let's plot those:"
      ],
      "metadata": {
        "id": "sc8OIApbIXLQ"
      }
    },
    {
      "cell_type": "code",
      "source": [
        "plt.figure(figsize = (12, 6))\n",
        "sns.lineplot(x = n_list, y = s_list)\n",
        "plt.title('Silhouette')"
      ],
      "metadata": {
        "colab": {
          "base_uri": "https://localhost:8080/",
          "height": 407
        },
        "id": "o3sivUlIIVaT",
        "outputId": "30adbcb8-2057-492d-dc04-08c9b5d06250"
      },
      "execution_count": 34,
      "outputs": [
        {
          "output_type": "execute_result",
          "data": {
            "text/plain": [
              "Text(0.5, 1.0, 'Silhouette')"
            ]
          },
          "metadata": {},
          "execution_count": 34
        },
        {
          "output_type": "display_data",
          "data": {
            "text/plain": [
              "<Figure size 864x432 with 1 Axes>"
            ],
            "image/png": "[encoded data removed]"
          },
          "metadata": {
            "needs_background": "light"
          }
        }
      ]
    },
    {
      "cell_type": "markdown",
      "source": [
        "So, the highest silhouette score was found with $k = 6$."
      ],
      "metadata": {
        "id": "0UuppDDPIx33"
      }
    },
    {
      "cell_type": "code",
      "source": [
        "plt.figure(figsize = (12, 6))\n",
        "sns.lineplot(x = n_list, y = dbs_list)\n",
        "plt.title('Davies-Bouldin')"
      ],
      "metadata": {
        "colab": {
          "base_uri": "https://localhost:8080/",
          "height": 407
        },
        "id": "tgO_ZbdxImhM",
        "outputId": "f6b21296-de1f-47ec-d320-9bd52ac4bb26"
      },
      "execution_count": 36,
      "outputs": [
        {
          "output_type": "execute_result",
          "data": {
            "text/plain": [
              "Text(0.5, 1.0, 'Davies-Bouldin')"
            ]
          },
          "metadata": {},
          "execution_count": 36
        },
        {
          "output_type": "display_data",
          "data": {
            "text/plain": [
              "<Figure size 864x432 with 1 Axes>"
            ],
            "image/png": "[encoded data removed]"
          },
          "metadata": {
            "needs_background": "light"
          }
        }
      ]
    },
    {
      "cell_type": "markdown",
      "source": [
        "The lowest Davies-Bouldin was also found with $k = 6$!"
      ],
      "metadata": {
        "id": "jMgqaNUEI8m3"
      }
    },
    {
      "cell_type": "code",
      "source": [
        "plt.figure(figsize = (12, 6))\n",
        "sns.lineplot(x = n_list, y = chs_list)\n",
        "plt.title('Calinski')"
      ],
      "metadata": {
        "colab": {
          "base_uri": "https://localhost:8080/",
          "height": 407
        },
        "id": "zRkfCjRhI48T",
        "outputId": "b85a0452-428e-4de7-f2a3-17c1403253f7"
      },
      "execution_count": 37,
      "outputs": [
        {
          "output_type": "execute_result",
          "data": {
            "text/plain": [
              "Text(0.5, 1.0, 'Calinski')"
            ]
          },
          "metadata": {},
          "execution_count": 37
        },
        {
          "output_type": "display_data",
          "data": {
            "text/plain": [
              "<Figure size 864x432 with 1 Axes>"
            ],
            "image/png": "[encoded data removed]"
          },
          "metadata": {
            "needs_background": "light"
          }
        }
      ]
    },
    {
      "cell_type": "markdown",
      "source": [
        "The highest Calinski was found for $k = 4$ (3528.44), which was very close to the Calinski for $k = 6$ (3523.51)!\n",
        "\n",
        "Here, we will choose $k = 6$ as the best configuration, as it presented the best silhouette and Davies-Bouldin, and almost the best Calinski. Also, note that the silhouette is, by far, the most popular method for choosing clustering algorithms."
      ],
      "metadata": {
        "id": "AV-ApdoxJL_J"
      }
    },
    {
      "cell_type": "markdown",
      "source": [
        "For reference, our metrics for $k = 6$ are:"
      ],
      "metadata": {
        "id": "QA4YKAbRLkz_"
      }
    },
    {
      "cell_type": "code",
      "source": [
        "kmeans = KMeans(n_clusters = 6, n_init = 10, max_iter = 300)\n",
        "\n",
        "s, dbs, chs = GetClusteringMetrics(kmeans, df_n)"
      ],
      "metadata": {
        "id": "sRBRoicwLk0A"
      },
      "execution_count": 45,
      "outputs": []
    },
    {
      "cell_type": "code",
      "source": [
        "print(\"Silhouette: {:.2f}\".format(s))\n",
        "print(\"Davies-Bouldin: {:.2f}\".format(dbs))\n",
        "print(\"Calinsky: {:.2f}\".format(chs))"
      ],
      "metadata": {
        "colab": {
          "base_uri": "https://localhost:8080/"
        },
        "outputId": "1674d8b6-f53b-438d-f22a-1ee8376c7d42",
        "id": "P6wLwyVYLk0A"
      },
      "execution_count": 46,
      "outputs": [
        {
          "output_type": "stream",
          "name": "stdout",
          "text": [
            "Silhouette: 0.36\n",
            "Davies-Bouldin: 1.05\n",
            "Calinsky: 3523.52\n"
          ]
        }
      ]
    },
    {
      "cell_type": "markdown",
      "source": [
        "## Evaluating a baseline metric value\n",
        "\n",
        "We have performed a relative comparison between the metrics evaluated using the same dataset. However, we still have no information about how good is our clustering. For that end, we will try to evaluate baseline metrics using a random dataset. First, we will define a random dataset, which has the same number of entries and features as our initial dataset. Then, we will cluster this data, and get the metrics for this dataset. If our clustering was effective, our metrics will be better than those evaluated for the random dataset.\n",
        "\n",
        "Let's start this procedure by creating a random dataset:"
      ],
      "metadata": {
        "id": "jccf5FbUKQ2D"
      }
    },
    {
      "cell_type": "code",
      "source": [
        "size_df = df_n.shape"
      ],
      "metadata": {
        "id": "nDGE6UrwJSGm"
      },
      "execution_count": 43,
      "outputs": []
    },
    {
      "cell_type": "code",
      "source": [
        "random_data = np.random.rand(size_df[0], size_df[1])"
      ],
      "metadata": {
        "id": "vHPMtjEsLG8L"
      },
      "execution_count": 44,
      "outputs": []
    },
    {
      "cell_type": "markdown",
      "source": [
        "Finally, let's run our clustering algorithm for this dataset:"
      ],
      "metadata": {
        "id": "ecc4KEIILYJz"
      }
    },
    {
      "cell_type": "code",
      "source": [
        "n_list   = []\n",
        "s_list   = []\n",
        "dbs_list = []\n",
        "chs_list = []\n",
        "\n",
        "for k in range(2, 11):\n",
        "  kmeans = KMeans(n_clusters = k, n_init = 10, max_iter = 300)\n",
        "  s, dbs, chs = GetClusteringMetrics(kmeans, random_data)\n",
        "  \n",
        "  n_list.append(k)\n",
        "  s_list.append(s)\n",
        "  dbs_list.append(dbs)\n",
        "  chs_list.append(chs)"
      ],
      "metadata": {
        "id": "Ww_B03tbLVZl"
      },
      "execution_count": 47,
      "outputs": []
    },
    {
      "cell_type": "markdown",
      "source": [
        "Finally, let's get the number of clusters that obtains the best metrics:"
      ],
      "metadata": {
        "id": "9Vmx3fCyL0bG"
      }
    },
    {
      "cell_type": "code",
      "source": [
        "plt.figure(figsize = (12, 6))\n",
        "sns.lineplot(x = n_list, y = s_list)\n",
        "plt.title('Silhouette')"
      ],
      "metadata": {
        "colab": {
          "base_uri": "https://localhost:8080/",
          "height": 407
        },
        "id": "GMvZ4EIxLxAu",
        "outputId": "a60f8640-a3b0-4fd3-faab-f9567246bdc8"
      },
      "execution_count": 48,
      "outputs": [
        {
          "output_type": "execute_result",
          "data": {
            "text/plain": [
              "Text(0.5, 1.0, 'Silhouette')"
            ]
          },
          "metadata": {},
          "execution_count": 48
        },
        {
          "output_type": "display_data",
          "data": {
            "text/plain": [
              "<Figure size 864x432 with 1 Axes>"
            ],
            "image/png": "[encoded data removed]"
          },
          "metadata": {
            "needs_background": "light"
          }
        }
      ]
    },
    {
      "cell_type": "code",
      "source": [
        "plt.figure(figsize = (12, 6))\n",
        "sns.lineplot(x = n_list, y = dbs_list)\n",
        "plt.title('Davies_Bouldin')"
      ],
      "metadata": {
        "colab": {
          "base_uri": "https://localhost:8080/",
          "height": 407
        },
        "id": "LII5vxKeL5xH",
        "outputId": "8b27761c-2d16-4358-bb90-c6dfa13aca51"
      },
      "execution_count": 49,
      "outputs": [
        {
          "output_type": "execute_result",
          "data": {
            "text/plain": [
              "Text(0.5, 1.0, 'Davies_Bouldin')"
            ]
          },
          "metadata": {},
          "execution_count": 49
        },
        {
          "output_type": "display_data",
          "data": {
            "text/plain": [
              "<Figure size 864x432 with 1 Axes>"
            ],
            "image/png": "[encoded data removed]"
          },
          "metadata": {
            "needs_background": "light"
          }
        }
      ]
    },
    {
      "cell_type": "code",
      "source": [
        "plt.figure(figsize = (12, 6))\n",
        "sns.lineplot(x = n_list, y = chs_list)\n",
        "plt.title('Calinski')"
      ],
      "metadata": {
        "colab": {
          "base_uri": "https://localhost:8080/",
          "height": 407
        },
        "id": "rmdn9LZYL9sZ",
        "outputId": "68f0e012-544f-4e4f-f6d4-c5081ca04485"
      },
      "execution_count": 50,
      "outputs": [
        {
          "output_type": "execute_result",
          "data": {
            "text/plain": [
              "Text(0.5, 1.0, 'Calinski')"
            ]
          },
          "metadata": {},
          "execution_count": 50
        },
        {
          "output_type": "display_data",
          "data": {
            "text/plain": [
              "<Figure size 864x432 with 1 Axes>"
            ],
            "image/png": "[encoded data removed]"
          },
          "metadata": {
            "needs_background": "light"
          }
        }
      ]
    },
    {
      "cell_type": "markdown",
      "source": [
        "So, here, we see that our metrics are much worse. Our best silhouette was found for $k = 2$, which was close to 0.048. Our best Davies-Bouldin was found for $k = 10$, which was close to 3.0. Finally, our best Calinski was also for $k = 2$, which was close to 450. Thus, the metrics for our initial dataset were, indeed, much better than those from a random dataset."
      ],
      "metadata": {
        "id": "F1ReAC4ZMDC6"
      }
    },
    {
      "cell_type": "markdown",
      "source": [
        "## Evaluating cluster stability\n",
        "\n",
        "To evaluate cluster stability, we will check if, dividing our dataset, we still get similar metrics for all three splits. This is important to guarantee that our choice towards $k = 6$ was not based on \"luck\". Thus, let's split our data:"
      ],
      "metadata": {
        "id": "jWFG0-A4Mveo"
      }
    },
    {
      "cell_type": "code",
      "source": [
        "set_1, set_2, set_3 = np.array_split(df_n, 3)"
      ],
      "metadata": {
        "id": "KwkMB6L9MBKg"
      },
      "execution_count": 53,
      "outputs": []
    },
    {
      "cell_type": "markdown",
      "source": [
        "Now, let's evaluate the metrics for each subset:"
      ],
      "metadata": {
        "id": "IKoDNmI3NgBy"
      }
    },
    {
      "cell_type": "code",
      "source": [
        "kmeans = KMeans(n_clusters = 6, n_init = 10, max_iter = 300)\n",
        "\n",
        "s, dbs, chs = GetClusteringMetrics(kmeans, set_1)\n",
        "\n",
        "print(\"Silhouette: {:.2f}\".format(s))\n",
        "print(\"Davies-Bouldin: {:.2f}\".format(dbs))\n",
        "print(\"Calinsky: {:.2f}\".format(chs))"
      ],
      "metadata": {
        "colab": {
          "base_uri": "https://localhost:8080/"
        },
        "id": "WHoUh5pFNn8I",
        "outputId": "02a632cb-f443-4335-d6a9-2dbcc16ebbab"
      },
      "execution_count": 54,
      "outputs": [
        {
          "output_type": "stream",
          "name": "stdout",
          "text": [
            "Silhouette: 0.36\n",
            "Davies-Bouldin: 1.02\n",
            "Calinsky: 1192.36\n"
          ]
        }
      ]
    },
    {
      "cell_type": "code",
      "source": [
        "kmeans = KMeans(n_clusters = 6, n_init = 10, max_iter = 300)\n",
        "\n",
        "s, dbs, chs = GetClusteringMetrics(kmeans, set_2)\n",
        "\n",
        "print(\"Silhouette: {:.2f}\".format(s))\n",
        "print(\"Davies-Bouldin: {:.2f}\".format(dbs))\n",
        "print(\"Calinsky: {:.2f}\".format(chs))"
      ],
      "metadata": {
        "colab": {
          "base_uri": "https://localhost:8080/"
        },
        "outputId": "6517377a-f71e-4d85-e525-a099fdc83b7c",
        "id": "bzW0NFSgNn8J"
      },
      "execution_count": 55,
      "outputs": [
        {
          "output_type": "stream",
          "name": "stdout",
          "text": [
            "Silhouette: 0.36\n",
            "Davies-Bouldin: 1.06\n",
            "Calinsky: 1169.44\n"
          ]
        }
      ]
    },
    {
      "cell_type": "code",
      "source": [
        "kmeans = KMeans(n_clusters = 6, n_init = 10, max_iter = 300)\n",
        "\n",
        "s, dbs, chs = GetClusteringMetrics(kmeans, set_3)\n",
        "\n",
        "print(\"Silhouette: {:.2f}\".format(s))\n",
        "print(\"Davies-Bouldin: {:.2f}\".format(dbs))\n",
        "print(\"Calinsky: {:.2f}\".format(chs))"
      ],
      "metadata": {
        "colab": {
          "base_uri": "https://localhost:8080/"
        },
        "id": "oTx2c-djNu_n",
        "outputId": "1fa452bf-88aa-4b60-fffc-3a05161da5d8"
      },
      "execution_count": 56,
      "outputs": [
        {
          "output_type": "stream",
          "name": "stdout",
          "text": [
            "Silhouette: 0.37\n",
            "Davies-Bouldin: 1.04\n",
            "Calinsky: 1184.79\n"
          ]
        }
      ]
    },
    {
      "cell_type": "markdown",
      "source": [
        "We see that the silhouette changed very little, which was very close to the silhouette from the entire dataset. The Davies-Bouldin and the Calinski also changed very little. Note that the Calinski is very different from the Calinski found previously. That happens because the Calinski is highly influenced by the number of entries in our dataset."
      ],
      "metadata": {
        "id": "i3CsCutsNzMi"
      }
    },
    {
      "cell_type": "markdown",
      "source": [
        "# Visualizing our clusters\n",
        "\n",
        "Now, we can try to visualize our clusters. First, let's create a new dataframe with information about our cluster labels:"
      ],
      "metadata": {
        "id": "OXcS7e78OnEe"
      }
    },
    {
      "cell_type": "code",
      "source": [
        "kmeans = KMeans(n_clusters = 6, n_init = 10, max_iter = 300)\n",
        "\n",
        "labels = kmeans.fit_predict(df_n)"
      ],
      "metadata": {
        "id": "qH6rcKS_O48Y"
      },
      "execution_count": 60,
      "outputs": []
    },
    {
      "cell_type": "code",
      "source": [
        "clustered_df = df.copy( )\n",
        "clustered_df['Cluster'] = labels"
      ],
      "metadata": {
        "id": "u0UYPLpCNwSC"
      },
      "execution_count": 61,
      "outputs": []
    },
    {
      "cell_type": "markdown",
      "source": [
        "Now, to visualize our clusters in a 2D plot, we have to choose to attributes from our data. Here, we will use PURCHASES and PAYMENTS:"
      ],
      "metadata": {
        "id": "qajoqEk-PFHA"
      }
    },
    {
      "cell_type": "code",
      "source": [
        "sns.scatterplot(x = 'PURCHASES', y = 'PAYMENTS', hue = 'Cluster', data = clustered_df)"
      ],
      "metadata": {
        "colab": {
          "base_uri": "https://localhost:8080/",
          "height": 296
        },
        "id": "jpb7Br-hO_MK",
        "outputId": "9a769d31-9f1f-4c4a-8ce4-8b7197c259c3"
      },
      "execution_count": 62,
      "outputs": [
        {
          "output_type": "execute_result",
          "data": {
            "text/plain": [
              "<matplotlib.axes._subplots.AxesSubplot at 0x7f4a136adf90>"
            ]
          },
          "metadata": {},
          "execution_count": 62
        },
        {
          "output_type": "display_data",
          "data": {
            "text/plain": [
              "<Figure size 432x288 with 1 Axes>"
            ],
            "image/png": "[encoded data removed]"
          },
          "metadata": {
            "needs_background": "light"
          }
        }
      ]
    },
    {
      "cell_type": "markdown",
      "source": [
        "Here, we can see that, on cluster 5, people tend to perform more purchases, and also more payments. On cluster 3, some people also perform more payments, but they tend to perform less purchases.\n",
        "\n",
        "Note that it is not trivial to identify the separation of our dataset. This is because we got 2 features of our dataset to represent the entire dataset. Thus, indeed, it is not easy to identify the clusters.\n",
        "\n",
        "We could also try to plot the scatterplot for all attributes, pair by pair. However, this would ended up in a lot of graphs, which would make it impossible for us to understand what is going on."
      ],
      "metadata": {
        "id": "-1rsX4pCPd8e"
      }
    },
    {
      "cell_type": "markdown",
      "source": [
        "# Trying to understand our cluster by analyzing some metrics\n",
        "\n",
        "Another approach we can do to understand our clusters is trying to evaluate some metrics for them. Thus, let's group our data by clusters, and get the mean for each attribute:"
      ],
      "metadata": {
        "id": "PlG8SqG2SD1q"
      }
    },
    {
      "cell_type": "code",
      "source": [
        "grouped_df = clustered_df.groupby('Cluster')"
      ],
      "metadata": {
        "id": "MEGWhLtlRDHs"
      },
      "execution_count": 64,
      "outputs": []
    },
    {
      "cell_type": "code",
      "source": [
        "grouped_df.mean( )"
      ],
      "metadata": {
        "colab": {
          "base_uri": "https://localhost:8080/",
          "height": 333
        },
        "id": "EUYHseq2SYoe",
        "outputId": "224f4628-a948-4fff-f8f0-b58040353c23"
      },
      "execution_count": 67,
      "outputs": [
        {
          "output_type": "execute_result",
          "data": {
            "text/plain": [
              "             BALANCE  BALANCE_FREQUENCY    PURCHASES  ONEOFF_PURCHASES  \\\n",
              "Cluster                                                                  \n",
              "0        2424.756155           0.891552   238.544315        145.039736   \n",
              "1         418.278213           0.774433   628.403946        311.861079   \n",
              "2        3247.143325           0.998537   518.926591        308.374055   \n",
              "3        1767.343917           0.856842   528.332615        315.888825   \n",
              "4        1118.416028           0.929561  3328.473968       2166.636241   \n",
              "5        1959.062058           0.987365   856.281725        151.850380   \n",
              "\n",
              "         INSTALLMENTS_PURCHASES  CASH_ADVANCE  PURCHASES_FREQUENCY  \\\n",
              "Cluster                                                              \n",
              "0                     93.524104   3110.827020             0.207614   \n",
              "1                    316.885483    119.297616             0.572560   \n",
              "2                    210.697959    767.895503             0.346599   \n",
              "3                    212.501726   3091.813329             0.285512   \n",
              "4                   1162.475925    185.757811             0.813586   \n",
              "5                    705.305000    451.824341             0.597199   \n",
              "\n",
              "         ONEOFF_PURCHASES_FREQUENCY  PURCHASES_INSTALLMENTS_FREQUENCY  \\\n",
              "Cluster                                                                 \n",
              "0                          0.081503                          0.134931   \n",
              "1                          0.186324                          0.433541   \n",
              "2                          0.154833                          0.240772   \n",
              "3                          0.124842                          0.198583   \n",
              "4                          0.468874                          0.607176   \n",
              "5                          0.070364                          0.549823   \n",
              "\n",
              "         CASH_ADVANCE_FREQUENCY  CASH_ADVANCE_TRX  PURCHASES_TRX  \\\n",
              "Cluster                                                            \n",
              "0                      0.348217          8.893673       4.217926   \n",
              "1                      0.029853          0.533375      11.992202   \n",
              "2                      0.185966          3.727475       9.743604   \n",
              "3                      0.295548          8.605720       8.411645   \n",
              "4                      0.042554          0.876261      38.131809   \n",
              "5                      0.089397          2.385965      17.397661   \n",
              "\n",
              "         CREDIT_LIMIT     PAYMENTS  MINIMUM_PAYMENTS  PRC_FULL_PAYMENT  \n",
              "Cluster                                                                 \n",
              "0         4475.659051   976.016505        796.086809          0.008908  \n",
              "1         5130.114400   817.025480        220.813636          0.252404  \n",
              "2         4421.774194  1051.691665       1150.573072          0.000097  \n",
              "3         3952.319931  5000.353036        747.424886          0.128703  \n",
              "4         4110.127876  3051.122230        537.754177          0.284099  \n",
              "5         2198.684211  1339.886001       6865.322947          0.022729  "
            ],
            "text/html": [
              "\n",
              "  <div id=\"df-4f10ea0d-0532-4cb4-996e-e2ae912fd855\">\n",
              "    <div class=\"colab-df-container\">\n",
              "      <div>\n",
              "<style scoped>\n",
              "    .dataframe tbody tr th:only-of-type {\n",
              "        vertical-align: middle;\n",
              "    }\n",
              "\n",
              "    .dataframe tbody tr th {\n",
              "        vertical-align: top;\n",
              "    }\n",
              "\n",
              "    .dataframe thead th {\n",
              "        text-align: right;\n",
              "    }\n",
              "</style>\n",
              "<table border=\"1\" class=\"dataframe\">\n",
              "  <thead>\n",
              "    <tr style=\"text-align: right;\">\n",
              "      <th></th>\n",
              "      <th>BALANCE</th>\n",
              "      <th>BALANCE_FREQUENCY</th>\n",
              "      <th>PURCHASES</th>\n",
              "      <th>ONEOFF_PURCHASES</th>\n",
              "      <th>INSTALLMENTS_PURCHASES</th>\n",
              "      <th>CASH_ADVANCE</th>\n",
              "      <th>PURCHASES_FREQUENCY</th>\n",
              "      <th>ONEOFF_PURCHASES_FREQUENCY</th>\n",
              "      <th>PURCHASES_INSTALLMENTS_FREQUENCY</th>\n",
              "      <th>CASH_ADVANCE_FREQUENCY</th>\n",
              "      <th>CASH_ADVANCE_TRX</th>\n",
              "      <th>PURCHASES_TRX</th>\n",
              "      <th>CREDIT_LIMIT</th>\n",
              "      <th>PAYMENTS</th>\n",
              "      <th>MINIMUM_PAYMENTS</th>\n",
              "      <th>PRC_FULL_PAYMENT</th>\n",
              "    </tr>\n",
              "    <tr>\n",
              "      <th>Cluster</th>\n",
              "      <th></th>\n",
              "      <th></th>\n",
              "      <th></th>\n",
              "      <th></th>\n",
              "      <th></th>\n",
              "      <th></th>\n",
              "      <th></th>\n",
              "      <th></th>\n",
              "      <th></th>\n",
              "      <th></th>\n",
              "      <th></th>\n",
              "      <th></th>\n",
              "      <th></th>\n",
              "      <th></th>\n",
              "      <th></th>\n",
              "      <th></th>\n",
              "    </tr>\n",
              "  </thead>\n",
              "  <tbody>\n",
              "    <tr>\n",
              "      <th>0</th>\n",
              "      <td>2424.756155</td>\n",
              "      <td>0.891552</td>\n",
              "      <td>238.544315</td>\n",
              "      <td>145.039736</td>\n",
              "      <td>93.524104</td>\n",
              "      <td>3110.827020</td>\n",
              "      <td>0.207614</td>\n",
              "      <td>0.081503</td>\n",
              "      <td>0.134931</td>\n",
              "      <td>0.348217</td>\n",
              "      <td>8.893673</td>\n",
              "      <td>4.217926</td>\n",
              "      <td>4475.659051</td>\n",
              "      <td>976.016505</td>\n",
              "      <td>796.086809</td>\n",
              "      <td>0.008908</td>\n",
              "    </tr>\n",
              "    <tr>\n",
              "      <th>1</th>\n",
              "      <td>418.278213</td>\n",
              "      <td>0.774433</td>\n",
              "      <td>628.403946</td>\n",
              "      <td>311.861079</td>\n",
              "      <td>316.885483</td>\n",
              "      <td>119.297616</td>\n",
              "      <td>0.572560</td>\n",
              "      <td>0.186324</td>\n",
              "      <td>0.433541</td>\n",
              "      <td>0.029853</td>\n",
              "      <td>0.533375</td>\n",
              "      <td>11.992202</td>\n",
              "      <td>5130.114400</td>\n",
              "      <td>817.025480</td>\n",
              "      <td>220.813636</td>\n",
              "      <td>0.252404</td>\n",
              "    </tr>\n",
              "    <tr>\n",
              "      <th>2</th>\n",
              "      <td>3247.143325</td>\n",
              "      <td>0.998537</td>\n",
              "      <td>518.926591</td>\n",
              "      <td>308.374055</td>\n",
              "      <td>210.697959</td>\n",
              "      <td>767.895503</td>\n",
              "      <td>0.346599</td>\n",
              "      <td>0.154833</td>\n",
              "      <td>0.240772</td>\n",
              "      <td>0.185966</td>\n",
              "      <td>3.727475</td>\n",
              "      <td>9.743604</td>\n",
              "      <td>4421.774194</td>\n",
              "      <td>1051.691665</td>\n",
              "      <td>1150.573072</td>\n",
              "      <td>0.000097</td>\n",
              "    </tr>\n",
              "    <tr>\n",
              "      <th>3</th>\n",
              "      <td>1767.343917</td>\n",
              "      <td>0.856842</td>\n",
              "      <td>528.332615</td>\n",
              "      <td>315.888825</td>\n",
              "      <td>212.501726</td>\n",
              "      <td>3091.813329</td>\n",
              "      <td>0.285512</td>\n",
              "      <td>0.124842</td>\n",
              "      <td>0.198583</td>\n",
              "      <td>0.295548</td>\n",
              "      <td>8.605720</td>\n",
              "      <td>8.411645</td>\n",
              "      <td>3952.319931</td>\n",
              "      <td>5000.353036</td>\n",
              "      <td>747.424886</td>\n",
              "      <td>0.128703</td>\n",
              "    </tr>\n",
              "    <tr>\n",
              "      <th>4</th>\n",
              "      <td>1118.416028</td>\n",
              "      <td>0.929561</td>\n",
              "      <td>3328.473968</td>\n",
              "      <td>2166.636241</td>\n",
              "      <td>1162.475925</td>\n",
              "      <td>185.757811</td>\n",
              "      <td>0.813586</td>\n",
              "      <td>0.468874</td>\n",
              "      <td>0.607176</td>\n",
              "      <td>0.042554</td>\n",
              "      <td>0.876261</td>\n",
              "      <td>38.131809</td>\n",
              "      <td>4110.127876</td>\n",
              "      <td>3051.122230</td>\n",
              "      <td>537.754177</td>\n",
              "      <td>0.284099</td>\n",
              "    </tr>\n",
              "    <tr>\n",
              "      <th>5</th>\n",
              "      <td>1959.062058</td>\n",
              "      <td>0.987365</td>\n",
              "      <td>856.281725</td>\n",
              "      <td>151.850380</td>\n",
              "      <td>705.305000</td>\n",
              "      <td>451.824341</td>\n",
              "      <td>0.597199</td>\n",
              "      <td>0.070364</td>\n",
              "      <td>0.549823</td>\n",
              "      <td>0.089397</td>\n",
              "      <td>2.385965</td>\n",
              "      <td>17.397661</td>\n",
              "      <td>2198.684211</td>\n",
              "      <td>1339.886001</td>\n",
              "      <td>6865.322947</td>\n",
              "      <td>0.022729</td>\n",
              "    </tr>\n",
              "  </tbody>\n",
              "</table>\n",
              "</div>\n",
              "      <button class=\"colab-df-convert\" onclick=\"convertToInteractive('df-4f10ea0d-0532-4cb4-996e-e2ae912fd855')\"\n",
              "              title=\"Convert this dataframe to an interactive table.\"\n",
              "              style=\"display:none;\">\n",
              "        \n",
              "  <svg xmlns=\"http://www.w3.org/2000/svg\" height=\"24px\"viewBox=\"0 0 24 24\"\n",
              "       width=\"24px\">\n",
              "    <path d=\"M0 0h24v24H0V0z\" fill=\"none\"/>\n",
              "    <path d=\"M18.56 5.44l.94 2.06.94-2.06 2.06-.94-2.06-.94-.94-2.06-.94 2.06-2.06.94zm-11 1L8.5 8.5l.94-2.06 2.06-.94-2.06-.94L8.5 2.5l-.94 2.06-2.06.94zm10 10l.94 2.06.94-2.06 2.06-.94-2.06-.94-.94-2.06-.94 2.06-2.06.94z\"/><path d=\"M17.41 7.96l-1.37-1.37c-.4-.4-.92-.59-1.43-.59-.52 0-1.04.2-1.43.59L10.3 9.45l-7.72 7.72c-.78.78-.78 2.05 0 2.83L4 21.41c.39.39.9.59 1.41.59.51 0 1.02-.2 1.41-.59l7.78-7.78 2.81-2.81c.8-.78.8-2.07 0-2.86zM5.41 20L4 18.59l7.72-7.72 1.47 1.35L5.41 20z\"/>\n",
              "  </svg>\n",
              "      </button>\n",
              "      \n",
              "  <style>\n",
              "    .colab-df-container {\n",
              "      display:flex;\n",
              "      flex-wrap:wrap;\n",
              "      gap: 12px;\n",
              "    }\n",
              "\n",
              "    .colab-df-convert {\n",
              "      background-color: #E8F0FE;\n",
              "      border: none;\n",
              "      border-radius: 50%;\n",
              "      cursor: pointer;\n",
              "      display: none;\n",
              "      fill: #1967D2;\n",
              "      height: 32px;\n",
              "      padding: 0 0 0 0;\n",
              "      width: 32px;\n",
              "    }\n",
              "\n",
              "    .colab-df-convert:hover {\n",
              "      background-color: #E2EBFA;\n",
              "      box-shadow: 0px 1px 2px rgba(60, 64, 67, 0.3), 0px 1px 3px 1px rgba(60, 64, 67, 0.15);\n",
              "      fill: #174EA6;\n",
              "    }\n",
              "\n",
              "    [theme=dark] .colab-df-convert {\n",
              "      background-color: #3B4455;\n",
              "      fill: #D2E3FC;\n",
              "    }\n",
              "\n",
              "    [theme=dark] .colab-df-convert:hover {\n",
              "      background-color: #434B5C;\n",
              "      box-shadow: 0px 1px 3px 1px rgba(0, 0, 0, 0.15);\n",
              "      filter: drop-shadow(0px 1px 2px rgba(0, 0, 0, 0.3));\n",
              "      fill: #FFFFFF;\n",
              "    }\n",
              "  </style>\n",
              "\n",
              "      <script>\n",
              "        const buttonEl =\n",
              "          document.querySelector('#df-4f10ea0d-0532-4cb4-996e-e2ae912fd855 button.colab-df-convert');\n",
              "        buttonEl.style.display =\n",
              "          google.colab.kernel.accessAllowed ? 'block' : 'none';\n",
              "\n",
              "        async function convertToInteractive(key) {\n",
              "          const element = document.querySelector('#df-4f10ea0d-0532-4cb4-996e-e2ae912fd855');\n",
              "          const dataTable =\n",
              "            await google.colab.kernel.invokeFunction('convertToInteractive',\n",
              "                                                     [key], {});\n",
              "          if (!dataTable) return;\n",
              "\n",
              "          const docLinkHtml = 'Like what you see? Visit the ' +\n",
              "            '<a target=\"_blank\" href=https://colab.research.google.com/notebooks/data_table.ipynb>data table notebook</a>'\n",
              "            + ' to learn more about interactive tables.';\n",
              "          element.innerHTML = '';\n",
              "          dataTable['output_type'] = 'display_data';\n",
              "          await google.colab.output.renderOutput(dataTable, element);\n",
              "          const docLink = document.createElement('div');\n",
              "          docLink.innerHTML = docLinkHtml;\n",
              "          element.appendChild(docLink);\n",
              "        }\n",
              "      </script>\n",
              "    </div>\n",
              "  </div>\n",
              "  "
            ]
          },
          "metadata": {},
          "execution_count": 67
        }
      ]
    },
    {
      "cell_type": "markdown",
      "source": [
        "Still, it is hard to understand our clusters here, as we have many attributes. Let's choose some attributes to make our analyzes.\n",
        "\n",
        "But how can we get the most important features? For that end, we can use the centroids for each cluster:"
      ],
      "metadata": {
        "id": "l4hG2f7HSv2h"
      }
    },
    {
      "cell_type": "code",
      "source": [
        "centers = kmeans.cluster_centers_\n",
        "centers"
      ],
      "metadata": {
        "colab": {
          "base_uri": "https://localhost:8080/"
        },
        "id": "EfbwZCLcSat3",
        "outputId": "aae3d700-1b9d-49e9-fc96-f36f972fe1ff"
      },
      "execution_count": 70,
      "outputs": [
        {
          "output_type": "execute_result",
          "data": {
            "text/plain": [
              "array([[3.70338745e-01, 2.30822307e-04, 4.12556566e-02, 2.38684139e-02,\n",
              "        1.73919635e-02, 5.02023360e-01, 4.77866510e-05, 1.62688558e-05,\n",
              "        3.15585334e-05, 8.06972033e-05, 1.82054568e-03, 8.05301686e-04,\n",
              "        7.07792668e-01, 1.51266887e-01, 1.31376159e-01, 2.41841913e-06],\n",
              "       [6.53496652e-02, 2.31606600e-04, 1.22118293e-01, 4.78853432e-02,\n",
              "        7.43354597e-02, 1.97559090e-02, 1.74800577e-04, 3.38033340e-05,\n",
              "        1.41916286e-04, 7.36879880e-06, 1.15330299e-04, 2.88981253e-03,\n",
              "        9.45343347e-01, 1.54957003e-01, 5.58632630e-02, 7.78908425e-05],\n",
              "       [5.61979125e-01, 3.00065888e-04, 8.34276862e-02, 4.71443751e-02,\n",
              "        3.63210989e-02, 1.05733255e-01, 8.69111474e-05, 3.31389652e-05,\n",
              "        6.01901225e-05, 4.31725962e-05, 7.57160933e-04, 1.84225396e-03,\n",
              "        7.20503034e-01, 1.90917186e-01, 2.10485036e-01, 1.15759155e-07],\n",
              "       [2.29347967e-01, 2.10550949e-04, 6.85201015e-02, 3.87709927e-02,\n",
              "        2.97548246e-02, 3.65871393e-01, 5.84151126e-05, 2.26695462e-05,\n",
              "        3.95360090e-05, 5.84094189e-05, 1.41461994e-03, 1.30240074e-03,\n",
              "        5.22429470e-01, 6.33260949e-01, 1.05964425e-01, 3.09655588e-05],\n",
              "       [1.54428975e-01, 2.44344464e-04, 4.43834726e-01, 2.60664385e-01,\n",
              "        1.83347968e-01, 2.62724092e-02, 2.04773372e-04, 8.98570577e-05,\n",
              "        1.50682023e-04, 9.46815959e-06, 1.73876943e-04, 6.18814123e-03,\n",
              "        6.03024926e-01, 4.00711758e-01, 8.38707344e-02, 7.31821775e-05],\n",
              "       [2.97207546e-01, 2.43631587e-04, 1.49290817e-01, 2.79511916e-02,\n",
              "        1.21755606e-01, 6.05177131e-02, 1.51365261e-04, 1.76554589e-05,\n",
              "        1.38745167e-04, 1.87074705e-05, 4.31843934e-04, 3.61969510e-03,\n",
              "        3.41175949e-01, 2.38002578e-01, 7.26778291e-01, 4.46243187e-06]])"
            ]
          },
          "metadata": {},
          "execution_count": 70
        }
      ]
    },
    {
      "cell_type": "markdown",
      "source": [
        "To understand which are the most important features, we will try to evaluate which clusters present the greatest variation. For that end, we will use the variance. Thus, let's evaluate the variance for the centroid centers of each attribute:"
      ],
      "metadata": {
        "id": "oNT53W0WTls5"
      }
    },
    {
      "cell_type": "code",
      "source": [
        "_, n_attributes = df_n.shape\n",
        "\n",
        "var_sr = pd.Series( )\n",
        "\n",
        "for i in range(n_attributes):\n",
        "  print(df_n.columns[i])\n",
        "  var_att = centers[:, i].var( )\n",
        "  print(var_att.round(4))\n",
        "  var_sr.loc[df_n.columns[i]] = var_att\n",
        "  print('----------------------------------')"
      ],
      "metadata": {
        "colab": {
          "base_uri": "https://localhost:8080/"
        },
        "id": "ZHn2WLxUTR4y",
        "outputId": "30a4ecf0-f271-46ed-ec92-a49602105b6e"
      },
      "execution_count": 80,
      "outputs": [
        {
          "output_type": "stream",
          "name": "stdout",
          "text": [
            "BALANCE\n",
            "0.0254\n",
            "----------------------------------\n",
            "BALANCE_FREQUENCY\n",
            "0.0\n",
            "----------------------------------\n",
            "PURCHASES\n",
            "0.0183\n",
            "----------------------------------\n",
            "ONEOFF_PURCHASES\n",
            "0.007\n",
            "----------------------------------\n",
            "INSTALLMENTS_PURCHASES\n",
            "0.0035\n",
            "----------------------------------\n",
            "CASH_ADVANCE\n",
            "0.0346\n",
            "----------------------------------\n",
            "PURCHASES_FREQUENCY\n",
            "0.0\n",
            "----------------------------------\n",
            "ONEOFF_PURCHASES_FREQUENCY\n",
            "0.0\n",
            "----------------------------------\n",
            "PURCHASES_INSTALLMENTS_FREQUENCY\n",
            "0.0\n",
            "----------------------------------\n",
            "CASH_ADVANCE_FREQUENCY\n",
            "0.0\n",
            "----------------------------------\n",
            "CASH_ADVANCE_TRX\n",
            "0.0\n",
            "----------------------------------\n",
            "PURCHASES_TRX\n",
            "0.0\n",
            "----------------------------------\n",
            "CREDIT_LIMIT\n",
            "0.0348\n",
            "----------------------------------\n",
            "PAYMENTS\n",
            "0.03\n",
            "----------------------------------\n",
            "MINIMUM_PAYMENTS\n",
            "0.0539\n",
            "----------------------------------\n",
            "PRC_FULL_PAYMENT\n",
            "0.0\n",
            "----------------------------------\n"
          ]
        },
        {
          "output_type": "stream",
          "name": "stderr",
          "text": [
            "/usr/local/lib/python3.7/dist-packages/ipykernel_launcher.py:3: DeprecationWarning: The default dtype for empty Series will be 'object' instead of 'float64' in a future version. Specify a dtype explicitly to silence this warning.\n",
            "  This is separate from the ipykernel package so we can avoid doing imports until\n"
          ]
        }
      ]
    },
    {
      "cell_type": "markdown",
      "source": [
        "Nice! Now, let's get which attributes show the highest variance:"
      ],
      "metadata": {
        "id": "Ldw-ISAVU81s"
      }
    },
    {
      "cell_type": "code",
      "source": [
        "var_sr.sort_values(ascending = False)"
      ],
      "metadata": {
        "colab": {
          "base_uri": "https://localhost:8080/"
        },
        "id": "jKFjuDUdUZPl",
        "outputId": "af0bd024-b265-4aab-db18-996674902dee"
      },
      "execution_count": 79,
      "outputs": [
        {
          "output_type": "execute_result",
          "data": {
            "text/plain": [
              "MINIMUM_PAYMENTS                    5.387330e-02\n",
              "CREDIT_LIMIT                        3.479949e-02\n",
              "CASH_ADVANCE                        3.455819e-02\n",
              "PAYMENTS                            2.999142e-02\n",
              "BALANCE                             2.539626e-02\n",
              "PURCHASES                           1.833350e-02\n",
              "ONEOFF_PURCHASES                    7.020112e-03\n",
              "INSTALLMENTS_PURCHASES              3.459986e-03\n",
              "PURCHASES_TRX                       3.215750e-06\n",
              "CASH_ADVANCE_TRX                    4.026996e-07\n",
              "PURCHASES_FREQUENCY                 3.545502e-09\n",
              "PURCHASES_INSTALLMENTS_FREQUENCY    2.586502e-09\n",
              "PRC_FULL_PAYMENT                    1.075256e-09\n",
              "BALANCE_FREQUENCY                   7.647078e-10\n",
              "CASH_ADVANCE_FREQUENCY              7.289383e-10\n",
              "ONEOFF_PURCHASES_FREQUENCY          6.360004e-10\n",
              "dtype: float64"
            ]
          },
          "metadata": {},
          "execution_count": 79
        }
      ]
    },
    {
      "cell_type": "markdown",
      "source": [
        "So, the highest variance features are:\n",
        "\n",
        "* Minimum payments;\n",
        "* Credit limit;\n",
        "* Cash advance;\n",
        "* Payments;\n",
        "* Balance;\n",
        "* and Purchases.\n",
        "\n",
        "The rest of the features show a variance lower than 0.01. Let's get these:"
      ],
      "metadata": {
        "id": "kCaIGvB_VSyE"
      }
    },
    {
      "cell_type": "code",
      "source": [
        "best_att = var_sr[var_sr > 0.01].index"
      ],
      "metadata": {
        "id": "hh5RQWc9U4ZM"
      },
      "execution_count": 83,
      "outputs": []
    },
    {
      "cell_type": "markdown",
      "source": [
        "Finally, we can do:"
      ],
      "metadata": {
        "id": "UfJ64YyxV9JL"
      }
    },
    {
      "cell_type": "code",
      "source": [
        "grouped_df[best_att].mean( )"
      ],
      "metadata": {
        "colab": {
          "base_uri": "https://localhost:8080/",
          "height": 269
        },
        "id": "_nPzSXm_VqWl",
        "outputId": "22106da0-d61b-46b6-a7ac-5efe0e9a966c"
      },
      "execution_count": 84,
      "outputs": [
        {
          "output_type": "execute_result",
          "data": {
            "text/plain": [
              "             BALANCE    PURCHASES  CASH_ADVANCE  CREDIT_LIMIT     PAYMENTS  \\\n",
              "Cluster                                                                      \n",
              "0        2424.756155   238.544315   3110.827020   4475.659051   976.016505   \n",
              "1         418.278213   628.403946    119.297616   5130.114400   817.025480   \n",
              "2        3247.143325   518.926591    767.895503   4421.774194  1051.691665   \n",
              "3        1767.343917   528.332615   3091.813329   3952.319931  5000.353036   \n",
              "4        1118.416028  3328.473968    185.757811   4110.127876  3051.122230   \n",
              "5        1959.062058   856.281725    451.824341   2198.684211  1339.886001   \n",
              "\n",
              "         MINIMUM_PAYMENTS  \n",
              "Cluster                    \n",
              "0              796.086809  \n",
              "1              220.813636  \n",
              "2             1150.573072  \n",
              "3              747.424886  \n",
              "4              537.754177  \n",
              "5             6865.322947  "
            ],
            "text/html": [
              "\n",
              "  <div id=\"df-2a7ffd6b-9572-4516-900e-4e6bf9dc2d0e\">\n",
              "    <div class=\"colab-df-container\">\n",
              "      <div>\n",
              "<style scoped>\n",
              "    .dataframe tbody tr th:only-of-type {\n",
              "        vertical-align: middle;\n",
              "    }\n",
              "\n",
              "    .dataframe tbody tr th {\n",
              "        vertical-align: top;\n",
              "    }\n",
              "\n",
              "    .dataframe thead th {\n",
              "        text-align: right;\n",
              "    }\n",
              "</style>\n",
              "<table border=\"1\" class=\"dataframe\">\n",
              "  <thead>\n",
              "    <tr style=\"text-align: right;\">\n",
              "      <th></th>\n",
              "      <th>BALANCE</th>\n",
              "      <th>PURCHASES</th>\n",
              "      <th>CASH_ADVANCE</th>\n",
              "      <th>CREDIT_LIMIT</th>\n",
              "      <th>PAYMENTS</th>\n",
              "      <th>MINIMUM_PAYMENTS</th>\n",
              "    </tr>\n",
              "    <tr>\n",
              "      <th>Cluster</th>\n",
              "      <th></th>\n",
              "      <th></th>\n",
              "      <th></th>\n",
              "      <th></th>\n",
              "      <th></th>\n",
              "      <th></th>\n",
              "    </tr>\n",
              "  </thead>\n",
              "  <tbody>\n",
              "    <tr>\n",
              "      <th>0</th>\n",
              "      <td>2424.756155</td>\n",
              "      <td>238.544315</td>\n",
              "      <td>3110.827020</td>\n",
              "      <td>4475.659051</td>\n",
              "      <td>976.016505</td>\n",
              "      <td>796.086809</td>\n",
              "    </tr>\n",
              "    <tr>\n",
              "      <th>1</th>\n",
              "      <td>418.278213</td>\n",
              "      <td>628.403946</td>\n",
              "      <td>119.297616</td>\n",
              "      <td>5130.114400</td>\n",
              "      <td>817.025480</td>\n",
              "      <td>220.813636</td>\n",
              "    </tr>\n",
              "    <tr>\n",
              "      <th>2</th>\n",
              "      <td>3247.143325</td>\n",
              "      <td>518.926591</td>\n",
              "      <td>767.895503</td>\n",
              "      <td>4421.774194</td>\n",
              "      <td>1051.691665</td>\n",
              "      <td>1150.573072</td>\n",
              "    </tr>\n",
              "    <tr>\n",
              "      <th>3</th>\n",
              "      <td>1767.343917</td>\n",
              "      <td>528.332615</td>\n",
              "      <td>3091.813329</td>\n",
              "      <td>3952.319931</td>\n",
              "      <td>5000.353036</td>\n",
              "      <td>747.424886</td>\n",
              "    </tr>\n",
              "    <tr>\n",
              "      <th>4</th>\n",
              "      <td>1118.416028</td>\n",
              "      <td>3328.473968</td>\n",
              "      <td>185.757811</td>\n",
              "      <td>4110.127876</td>\n",
              "      <td>3051.122230</td>\n",
              "      <td>537.754177</td>\n",
              "    </tr>\n",
              "    <tr>\n",
              "      <th>5</th>\n",
              "      <td>1959.062058</td>\n",
              "      <td>856.281725</td>\n",
              "      <td>451.824341</td>\n",
              "      <td>2198.684211</td>\n",
              "      <td>1339.886001</td>\n",
              "      <td>6865.322947</td>\n",
              "    </tr>\n",
              "  </tbody>\n",
              "</table>\n",
              "</div>\n",
              "      <button class=\"colab-df-convert\" onclick=\"convertToInteractive('df-2a7ffd6b-9572-4516-900e-4e6bf9dc2d0e')\"\n",
              "              title=\"Convert this dataframe to an interactive table.\"\n",
              "              style=\"display:none;\">\n",
              "        \n",
              "  <svg xmlns=\"http://www.w3.org/2000/svg\" height=\"24px\"viewBox=\"0 0 24 24\"\n",
              "       width=\"24px\">\n",
              "    <path d=\"M0 0h24v24H0V0z\" fill=\"none\"/>\n",
              "    <path d=\"M18.56 5.44l.94 2.06.94-2.06 2.06-.94-2.06-.94-.94-2.06-.94 2.06-2.06.94zm-11 1L8.5 8.5l.94-2.06 2.06-.94-2.06-.94L8.5 2.5l-.94 2.06-2.06.94zm10 10l.94 2.06.94-2.06 2.06-.94-2.06-.94-.94-2.06-.94 2.06-2.06.94z\"/><path d=\"M17.41 7.96l-1.37-1.37c-.4-.4-.92-.59-1.43-.59-.52 0-1.04.2-1.43.59L10.3 9.45l-7.72 7.72c-.78.78-.78 2.05 0 2.83L4 21.41c.39.39.9.59 1.41.59.51 0 1.02-.2 1.41-.59l7.78-7.78 2.81-2.81c.8-.78.8-2.07 0-2.86zM5.41 20L4 18.59l7.72-7.72 1.47 1.35L5.41 20z\"/>\n",
              "  </svg>\n",
              "      </button>\n",
              "      \n",
              "  <style>\n",
              "    .colab-df-container {\n",
              "      display:flex;\n",
              "      flex-wrap:wrap;\n",
              "      gap: 12px;\n",
              "    }\n",
              "\n",
              "    .colab-df-convert {\n",
              "      background-color: #E8F0FE;\n",
              "      border: none;\n",
              "      border-radius: 50%;\n",
              "      cursor: pointer;\n",
              "      display: none;\n",
              "      fill: #1967D2;\n",
              "      height: 32px;\n",
              "      padding: 0 0 0 0;\n",
              "      width: 32px;\n",
              "    }\n",
              "\n",
              "    .colab-df-convert:hover {\n",
              "      background-color: #E2EBFA;\n",
              "      box-shadow: 0px 1px 2px rgba(60, 64, 67, 0.3), 0px 1px 3px 1px rgba(60, 64, 67, 0.15);\n",
              "      fill: #174EA6;\n",
              "    }\n",
              "\n",
              "    [theme=dark] .colab-df-convert {\n",
              "      background-color: #3B4455;\n",
              "      fill: #D2E3FC;\n",
              "    }\n",
              "\n",
              "    [theme=dark] .colab-df-convert:hover {\n",
              "      background-color: #434B5C;\n",
              "      box-shadow: 0px 1px 3px 1px rgba(0, 0, 0, 0.15);\n",
              "      filter: drop-shadow(0px 1px 2px rgba(0, 0, 0, 0.3));\n",
              "      fill: #FFFFFF;\n",
              "    }\n",
              "  </style>\n",
              "\n",
              "      <script>\n",
              "        const buttonEl =\n",
              "          document.querySelector('#df-2a7ffd6b-9572-4516-900e-4e6bf9dc2d0e button.colab-df-convert');\n",
              "        buttonEl.style.display =\n",
              "          google.colab.kernel.accessAllowed ? 'block' : 'none';\n",
              "\n",
              "        async function convertToInteractive(key) {\n",
              "          const element = document.querySelector('#df-2a7ffd6b-9572-4516-900e-4e6bf9dc2d0e');\n",
              "          const dataTable =\n",
              "            await google.colab.kernel.invokeFunction('convertToInteractive',\n",
              "                                                     [key], {});\n",
              "          if (!dataTable) return;\n",
              "\n",
              "          const docLinkHtml = 'Like what you see? Visit the ' +\n",
              "            '<a target=\"_blank\" href=https://colab.research.google.com/notebooks/data_table.ipynb>data table notebook</a>'\n",
              "            + ' to learn more about interactive tables.';\n",
              "          element.innerHTML = '';\n",
              "          dataTable['output_type'] = 'display_data';\n",
              "          await google.colab.output.renderOutput(dataTable, element);\n",
              "          const docLink = document.createElement('div');\n",
              "          docLink.innerHTML = docLinkHtml;\n",
              "          element.appendChild(docLink);\n",
              "        }\n",
              "      </script>\n",
              "    </div>\n",
              "  </div>\n",
              "  "
            ]
          },
          "metadata": {},
          "execution_count": 84
        }
      ]
    },
    {
      "cell_type": "markdown",
      "source": [
        "Nice! Now, we have the mean value for each of the most important attributes."
      ],
      "metadata": {
        "id": "YUeVCh3WV_e1"
      }
    },
    {
      "cell_type": "markdown",
      "source": [
        "First, we see that users from cluster 1 have the lowest balance, while cluster 2 has the highest balance. At the same time, its interesting that the cluster 1 has the highest credit limit! This means that cluster 1 possibly means good customers that are not using our credit card very much. Cluster 2, however, has a much lower payment. Thus, these customers are likely paying the minimum for the credit card, or not paying at all.\n",
        "\n",
        "Also, cluster 4 has a very high number of purchases! At the same time, it has a high credit limit and a high amount of payments. Thus, they are likely good customers, which make a lot of purchases and also pays their debts.\n",
        "\n",
        "Users from cluster 3 often use the credit card for cash advances. Also, they usually have the highest payments. Note that cash advances are related to more taxes!"
      ],
      "metadata": {
        "id": "3-fO6CBKWUyH"
      }
    },
    {
      "cell_type": "markdown",
      "source": [
        "These insights are very important to tell us about some main rules about our business, and will certainly help our company to take future decisions!"
      ],
      "metadata": {
        "id": "qWPVXaoyZkeb"
      }
    }
  ]
}